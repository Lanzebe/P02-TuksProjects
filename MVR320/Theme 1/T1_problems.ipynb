{
 "cells": [
  {
   "cell_type": "code",
   "execution_count": 41,
   "source": [
    "import sympy as sp\r\n",
    "\r\n",
    "k_1,k_2,k_3,k_4,k_5,k_eq = sp.symbols('k_1,k_2,k_3,k_4,k_5,k_eq')\r\n",
    "\r\n",
    "\r\n",
    "def springs_parallel(S):\r\n",
    "    ans = 0\r\n",
    "    for i in S:\r\n",
    "        ans = ans + i\r\n",
    "    return ans\r\n",
    "\r\n",
    "def springs_series(S):\r\n",
    "    ans = 0\r\n",
    "    for i in S:\r\n",
    "        ans = ans + i**(-1)\r\n",
    "    return ans**(-1)\r\n",
    "\r\n",
    "#k_eq = springs_parallel([k_1,k_2])\r\n",
    "\r\n",
    "k_eq = springs_series([k_5,(springs_parallel([k_4,(springs_series([springs_parallel([k_1,k_1]) , k_2, springs_parallel([k_3,k_3]) ]))]))])\r\n",
    "\r\n",
    "k_eq"
   ],
   "outputs": [
    {
     "output_type": "execute_result",
     "data": {
      "text/latex": [
       "$\\displaystyle \\frac{1}{\\frac{1}{k_{4} + \\frac{1}{\\frac{1}{2 k_{3}} + \\frac{1}{k_{2}} + \\frac{1}{2 k_{1}}}} + \\frac{1}{k_{5}}}$"
      ],
      "text/plain": [
       "1/(1/(k_4 + 1/(1/(2*k_3) + 1/k_2 + 1/(2*k_1))) + 1/k_5)"
      ]
     },
     "metadata": {},
     "execution_count": 41
    }
   ],
   "metadata": {}
  },
  {
   "cell_type": "code",
   "execution_count": 20,
   "source": [],
   "outputs": [
    {
     "output_type": "stream",
     "name": "stdout",
     "text": [
      "k_1\n"
     ]
    },
    {
     "output_type": "error",
     "ename": "UnboundLocalError",
     "evalue": "local variable 'k_eq' referenced before assignment",
     "traceback": [
      "\u001b[1;31m---------------------------------------------------------------------------\u001b[0m",
      "\u001b[1;31mUnboundLocalError\u001b[0m                         Traceback (most recent call last)",
      "\u001b[1;32m~\\AppData\\Local\\Temp/ipykernel_6656/1985819368.py\u001b[0m in \u001b[0;36m<module>\u001b[1;34m\u001b[0m\n\u001b[1;32m----> 1\u001b[1;33m \u001b[0msprings_parallel\u001b[0m\u001b[1;33m(\u001b[0m\u001b[1;33m[\u001b[0m\u001b[0mk_1\u001b[0m\u001b[1;33m,\u001b[0m\u001b[0mk_2\u001b[0m\u001b[1;33m]\u001b[0m\u001b[1;33m)\u001b[0m\u001b[1;33m\u001b[0m\u001b[1;33m\u001b[0m\u001b[0m\n\u001b[0m\u001b[0;32m      2\u001b[0m \u001b[1;33m\u001b[0m\u001b[0m\n\u001b[0;32m      3\u001b[0m \u001b[0mk_eq\u001b[0m\u001b[1;33m\u001b[0m\u001b[1;33m\u001b[0m\u001b[0m\n",
      "\u001b[1;32m~\\AppData\\Local\\Temp/ipykernel_6656/2789689626.py\u001b[0m in \u001b[0;36msprings_parallel\u001b[1;34m(S)\u001b[0m\n\u001b[0;32m      7\u001b[0m     \u001b[1;32mfor\u001b[0m \u001b[0mi\u001b[0m \u001b[1;32min\u001b[0m \u001b[0mS\u001b[0m\u001b[1;33m:\u001b[0m\u001b[1;33m\u001b[0m\u001b[1;33m\u001b[0m\u001b[0m\n\u001b[0;32m      8\u001b[0m         \u001b[0mprint\u001b[0m\u001b[1;33m(\u001b[0m\u001b[0mi\u001b[0m\u001b[1;33m)\u001b[0m\u001b[1;33m\u001b[0m\u001b[1;33m\u001b[0m\u001b[0m\n\u001b[1;32m----> 9\u001b[1;33m         \u001b[0mk_eq\u001b[0m \u001b[1;33m=\u001b[0m \u001b[0mk_eq\u001b[0m \u001b[1;33m+\u001b[0m \u001b[0mi\u001b[0m\u001b[1;33m\u001b[0m\u001b[1;33m\u001b[0m\u001b[0m\n\u001b[0m",
      "\u001b[1;31mUnboundLocalError\u001b[0m: local variable 'k_eq' referenced before assignment"
     ]
    }
   ],
   "metadata": {}
  }
 ],
 "metadata": {
  "orig_nbformat": 4,
  "language_info": {
   "name": "python",
   "version": "3.9.6",
   "mimetype": "text/x-python",
   "codemirror_mode": {
    "name": "ipython",
    "version": 3
   },
   "pygments_lexer": "ipython3",
   "nbconvert_exporter": "python",
   "file_extension": ".py"
  },
  "kernelspec": {
   "name": "python3",
   "display_name": "Python 3.9.6 64-bit ('env': venv)"
  },
  "interpreter": {
   "hash": "ea07bc7c69f284143adbb50fb0b81a1c36915c55eb78cf2cb7c7a861417ef5c6"
  }
 },
 "nbformat": 4,
 "nbformat_minor": 2
}