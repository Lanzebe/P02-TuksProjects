{
 "cells": [
  {
   "cell_type": "code",
   "execution_count": 1,
   "metadata": {},
   "outputs": [],
   "source": [
    "from scipy.linalg import eig\n",
    "import numpy as np\n",
    "import matplotlib.pyplot as plt\n"
   ]
  },
  {
   "cell_type": "code",
   "execution_count": 2,
   "metadata": {},
   "outputs": [
    {
     "name": "stdout",
     "output_type": "stream",
     "text": [
      "Mass Matrix:\n",
      "[[801   0   0]\n",
      " [  0 800   0]\n",
      " [  0   0 800]]\n",
      "Stiffness Matrix:\n",
      "[[ 1.2033e+08 -1.2033e+08  1.0000e+00]\n",
      " [-1.2033e+08  2.4066e+08 -1.2033e+08]\n",
      " [ 0.0000e+00 -1.2033e+08  1.2033e+08]]\n",
      "            ######### Mode 1 #########\n",
      "Rotational Frequency: 0.02040816323585025 [rad/s]\n",
      "Frequency           : 0.003248060058411857 [Hz]\n",
      "Mode Shape          : [1.         1.00000001 1.00000001]\n",
      "            ######### Mode 2 #########\n",
      "Rotational Frequency: 387.70940099747344 [rad/s]\n",
      "Frequency           : 61.70586765194572 [Hz]\n",
      "Mode Shape          : [ 1.00000000e+00 -6.24809089e-04 -1.00062520e+00]\n",
      "            ######### Mode 3 #########\n",
      "Rotational Frequency: 671.6722705775568 [rad/s]\n",
      "Frequency           : 106.89996200017518 [Hz]\n",
      "Mode Shape          : [ 1.         -2.00312519  1.00187519]\n"
     ]
    }
   ],
   "source": [
    "m1 = m2 = m3 = 800\n",
    "k1 = 60.165E6\n",
    "\n",
    "\n",
    "M = np.array([[m1+1,0,0],[0,m2,0],[0,0,m3]])\n",
    "K = np.array([[2*k1,-2*k1,1],[-2*k1,4*k1,-2*k1],[0,-2*k1,2*k1]])\n",
    "C = np.array([[0,0,0],[0,0,0],[0,0,0]])\n",
    "\n",
    "print('Mass Matrix:')\n",
    "print(M)\n",
    "print('Stiffness Matrix:')\n",
    "print(K)\n",
    "\n",
    "Eig_value,Eig_vector = eig(K,M)\n",
    "\n",
    "Eig_vector = np.flip(Eig_vector,axis = 1)\n",
    "Eig_vector = Eig_vector/Eig_vector[0,:]\n",
    "\n",
    "w = np.sqrt(np.real(np.flip(Eig_value)))\n",
    "#Get Hz\n",
    "f = w / (2*np.pi)\n",
    "\n",
    "for idx, i in enumerate(Eig_value):\n",
    "    print('            ######### Mode',idx+1,'#########')\n",
    "    print('Rotational Frequency:',w[idx],'[rad/s]')\n",
    "    print('Frequency           :',f[idx],'[Hz]')\n",
    "    print('Mode Shape          :',Eig_vector[:,idx])"
   ]
  },
  {
   "cell_type": "markdown",
   "metadata": {},
   "source": [
    "## Q3"
   ]
  },
  {
   "cell_type": "code",
   "execution_count": 7,
   "metadata": {},
   "outputs": [
    {
     "name": "stdout",
     "output_type": "stream",
     "text": [
      "            ######### Mode 1 #########\n",
      "Rotational Frequency: 132.74838051216236 [rad/s]\n",
      "Frequency           : 21.127560945954468 [Hz]\n",
      "Mode Shape          : [1.         8.14642321]\n",
      "            ######### Mode 2 #########\n",
      "Rotational Frequency: 168.13764442086776 [rad/s]\n",
      "Frequency           : 26.759937229408543 [Hz]\n",
      "Mode Shape          : [ 1.         -2.45506518]\n"
     ]
    }
   ],
   "source": [
    "## Force vector\n",
    "F = np.array([1000,0])\n",
    "k1 = 2.48E6\n",
    "k2 = 100440\n",
    "\n",
    "M = np.array([[100,0],[0,5]])\n",
    "K = np.array([[k1+k2,-k2],[-k2,k2]])\n",
    "C = np.array([[0,0],[0,0]])\n",
    "\n",
    "Eig_value,Eig_vector = eig(K,M)\n",
    "\n",
    "Eig_vector = np.flip(Eig_vector,axis = 1)\n",
    "Eig_vector = Eig_vector/Eig_vector[0,:]\n",
    "\n",
    "w = np.sqrt(np.real(np.flip(Eig_value)))\n",
    "#Get Hz\n",
    "f = w / (2*np.pi)\n",
    "\n",
    "for idx, i in enumerate(Eig_value):\n",
    "    print('            ######### Mode',idx+1,'#########')\n",
    "    print('Rotational Frequency:',w[idx],'[rad/s]')\n",
    "    print('Frequency           :',f[idx],'[Hz]')\n",
    "    print('Mode Shape          :',Eig_vector[:,idx])"
   ]
  },
  {
   "cell_type": "code",
   "execution_count": 12,
   "metadata": {},
   "outputs": [
    {
     "data": {
      "image/png": "[encoded data removed]",
      "text/plain": [
       "<Figure size 432x288 with 1 Axes>"
      ]
     },
     "metadata": {
      "needs_background": "light"
     },
     "output_type": "display_data"
    }
   ],
   "source": [
    "def Amplitude(omega):\n",
    "    X = []\n",
    "    for i in omega:\n",
    "        Z = (-(i**2)*M) + (i*(1j)*C) + K\n",
    "        X.append(np.matmul(np.linalg.inv(Z),F).real)\n",
    "    return np.ndarray.tolist(np.transpose(X))\n",
    "\n",
    "\n",
    "w = np.linspace(0,200,1000)\n",
    "Amp = Amplitude(w)\n",
    "\n",
    "\n",
    "plt.figure()\n",
    "plt.title('Amplitude response')\n",
    "plt.xlabel('Rotational Frequency')\n",
    "plt.ylabel('X [m]')\n",
    "plt.yscale('symlog', linthresh=0.1)\n",
    "for i in range(len(Amp)):\n",
    "    plt.plot(w,Amp[i], label= 'm' + str(i+1))\n",
    "\n",
    "plt.legend()\n",
    "plt.grid()"
   ]
  },
  {
   "cell_type": "code",
   "execution_count": 9,
   "metadata": {},
   "outputs": [
    {
     "data": {
      "text/plain": [
       "[[0.001808338034453411], [-0.007921022085321652]]"
      ]
     },
     "execution_count": 9,
     "metadata": {},
     "output_type": "execute_result"
    }
   ],
   "source": [
    "Amplitude([50*np.pi])"
   ]
  }
 ],
 "metadata": {
  "interpreter": {
   "hash": "b0d877fd5326eabdec7294d85196f572791c8fccbbd1b2db4b2baf685ab06f05"
  },
  "kernelspec": {
   "display_name": "Python 3.9.6 64-bit ('env': venv)",
   "language": "python",
   "name": "python3"
  },
  "language_info": {
   "codemirror_mode": {
    "name": "ipython",
    "version": 3
   },
   "file_extension": ".py",
   "mimetype": "text/x-python",
   "name": "python",
   "nbconvert_exporter": "python",
   "pygments_lexer": "ipython3",
   "version": "3.9.6"
  },
  "orig_nbformat": 4
 },
 "nbformat": 4,
 "nbformat_minor": 2
}
