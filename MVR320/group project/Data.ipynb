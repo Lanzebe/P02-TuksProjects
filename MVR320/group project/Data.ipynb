{
 "cells": [
  {
   "cell_type": "code",
   "execution_count": 1,
   "metadata": {},
   "outputs": [
    {
     "name": "stdout",
     "output_type": "stream",
     "text": [
      "x: [0.0000000e+00 5.0002500e-02 1.0000500e-01 ... 9.9989999e+02 9.9995000e+02\n",
      " 1.0000000e+03]\n",
      "y: [0.         0.00202833 0.00375541 ... 0.0044046  0.00162243 0.        ]\n",
      "xy_array: [[0.0000000e+00 5.0002500e-02 1.0000500e-01 ... 9.9989999e+02\n",
      "  9.9995000e+02 1.0000000e+03]\n",
      " [0.0000000e+00 2.0283345e-03 3.7554082e-03 ... 4.4045952e-03\n",
      "  1.6224282e-03 0.0000000e+00]]\n"
     ]
    }
   ],
   "source": [
    "import pandas as pd \n",
    "import numpy as np\n",
    "\n",
    "a= pd.read_excel(r'E:\\OneDrive\\ENGINEERING\\01-ENGINEERING TOOLS\\03-VIBRATION\\MVR group project\\RoadProfile.xlsx', sheet_name='Sheet2')\n",
    "x = np.array(a).flatten()\n",
    "print('x:',x)\n",
    "\n",
    "b= pd.read_excel(r'E:\\OneDrive\\ENGINEERING\\01-ENGINEERING TOOLS\\03-VIBRATION\\MVR group project\\RoadProfile.xlsx', sheet_name='Sheet3')\n",
    "y = np.array(b).flatten()\n",
    "print('y:',y)\n",
    "\n",
    "xy_array=np.array([x,\n",
    "                  y])\n",
    "print('xy_array:',xy_array)"
   ]
  },
  {
   "cell_type": "code",
   "execution_count": 2,
   "metadata": {},
   "outputs": [
    {
     "data": {
      "text/plain": [
       "numpy.ndarray"
      ]
     },
     "execution_count": 2,
     "metadata": {},
     "output_type": "execute_result"
    }
   ],
   "source": [
    "type(xy_array)"
   ]
  },
  {
   "cell_type": "code",
   "execution_count": 3,
   "metadata": {},
   "outputs": [
    {
     "data": {
      "text/plain": [
       "numpy.ndarray"
      ]
     },
     "execution_count": 3,
     "metadata": {},
     "output_type": "execute_result"
    }
   ],
   "source": [
    "type(x)"
   ]
  },
  {
   "cell_type": "code",
   "execution_count": 4,
   "metadata": {},
   "outputs": [
    {
     "data": {
      "text/plain": [
       "numpy.ndarray"
      ]
     },
     "execution_count": 4,
     "metadata": {},
     "output_type": "execute_result"
    }
   ],
   "source": [
    "type(y)"
   ]
  }
 ],
 "metadata": {
  "kernelspec": {
   "display_name": "Python 3.10.5 64-bit",
   "language": "python",
   "name": "python3"
  },
  "language_info": {
   "codemirror_mode": {
    "name": "ipython",
    "version": 3
   },
   "file_extension": ".py",
   "mimetype": "text/x-python",
   "name": "python",
   "nbconvert_exporter": "python",
   "pygments_lexer": "ipython3",
   "version": "3.10.5"
  },
  "vscode": {
   "interpreter": {
    "hash": "8f89a6284e35e05a02f78ae58e1195ef45c420fc64682672b9d4ce68be967371"
   }
  }
 },
 "nbformat": 4,
 "nbformat_minor": 2
}
