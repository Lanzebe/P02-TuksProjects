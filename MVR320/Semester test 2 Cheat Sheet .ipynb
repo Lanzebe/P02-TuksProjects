{
 "cells": [
  {
   "cell_type": "markdown",
   "metadata": {},
   "source": [
    "# Theme 4"
   ]
  },
  {
   "cell_type": "code",
   "execution_count": 2,
   "metadata": {},
   "outputs": [
    {
     "data": {
      "image/png": "[encoded data removed]",
      "text/plain": [
       "<Figure size 432x288 with 1 Axes>"
      ]
     },
     "metadata": {
      "needs_background": "light"
     },
     "output_type": "display_data"
    }
   ],
   "source": [
    "#ODE equations in matrix form:\n",
    "#problem 4-95\n",
    "import numpy as np\n",
    "def xdot(X,t,m,c,k):\n",
    "    #system properties:\n",
    "    E = np.array([[0,1],[-k/m,-c/m]]) #E matrix\n",
    "    #F(t)\n",
    "    if t>=0 and t<=0.1:\n",
    "        F = 200*t\n",
    "    elif t>0.1 and t<=0.25:\n",
    "        F = 20\n",
    "    else:\n",
    "        F = 0\n",
    "    Q = np.array([[0,F/m]]).T #Q matrix\n",
    "    #Convert X to a 4 by 1 column vector by np.array([X]).T\n",
    "    xdot = E.dot(np.array([X]).T)+Q\n",
    "    #Return X as a 1 dimensional list\n",
    "    return xdot.T[0]\n",
    "\n",
    "#Run script\n",
    "from scipy.integrate import odeint\n",
    "from matplotlib import pyplot as plt\n",
    "#Define system parameters\n",
    "m = 2.0\n",
    "c = 10.0\n",
    "k = 1500.0\n",
    "#Integrate DE\n",
    "t0 = 0.0 #start time\n",
    "tf =2.0 #end time\n",
    "tspan = np.arange(t0,tf,0.001) #interval\n",
    "X0 = np.array([0,0]) #initial values for displacement and velocity\n",
    "X = odeint(xdot,X0,tspan,args=(m,c,k))\n",
    "\n",
    "plt.plot(tspan,X[:,0],color='r',linewidth=4)\n",
    "plt.xlabel('Time [s]',fontsize=20)\n",
    "plt.ylabel('Displacement [m]',fontsize=20)\n",
    "plt.title('x(t)',fontsize=20)\n",
    "plt.xlim(0,tf)\n",
    "plt.ylim(-0.03,0.03)\n",
    "plt.grid(True)\n",
    "plt.subplots_adjust(left=.2,right=.9,hspace=.4,wspace=.9)\n",
    "\n",
    "plt.show()"
   ]
  },
  {
   "cell_type": "code",
   "execution_count": 3,
   "metadata": {},
   "outputs": [
    {
     "data": {
      "text/latex": [
       "$\\displaystyle A$"
      ],
      "text/plain": [
       "A"
      ]
     },
     "metadata": {},
     "output_type": "display_data"
    },
    {
     "data": {
      "text/latex": [
       "$\\displaystyle \\begin{cases} A & \\text{for}\\: \\left(j = 0 \\wedge w = 0\\right) \\vee j = 0 \\vee w = 0 \\\\\\frac{A \\left(2 \\pi j \\sin{\\left(2 \\pi j \\right)} + \\cos{\\left(2 \\pi j \\right)} - 1\\right)}{2 \\pi^{2} j^{2}} & \\text{otherwise} \\end{cases}$"
      ],
      "text/plain": [
       "Piecewise((A, Eq(j, 0) | Eq(w, 0) | (Eq(j, 0) & Eq(w, 0))), (A*(2*pi*j*sin(2*pi*j) + cos(2*pi*j) - 1)/(2*pi**2*j**2), True))"
      ]
     },
     "metadata": {},
     "output_type": "display_data"
    },
    {
     "data": {
      "text/latex": [
       "$\\displaystyle \\begin{cases} 0 & \\text{for}\\: \\left(j = 0 \\wedge w = 0\\right) \\vee j = 0 \\vee w = 0 \\\\- \\frac{A \\cos{\\left(2 \\pi j \\right)}}{\\pi j} + \\frac{A \\sin{\\left(2 \\pi j \\right)}}{2 \\pi^{2} j^{2}} & \\text{otherwise} \\end{cases}$"
      ],
      "text/plain": [
       "Piecewise((0, Eq(j, 0) | Eq(w, 0) | (Eq(j, 0) & Eq(w, 0))), (-A*cos(2*pi*j)/(pi*j) + A*sin(2*pi*j)/(2*pi**2*j**2), True))"
      ]
     },
     "metadata": {},
     "output_type": "display_data"
    },
    {
     "data": {
      "text/latex": [
       "$\\displaystyle \\begin{cases} A & \\text{for}\\: w = 0 \\\\0 & \\text{otherwise} \\end{cases}$"
      ],
      "text/plain": [
       "Piecewise((A, Eq(w, 0)), (0, True))"
      ]
     },
     "metadata": {},
     "output_type": "display_data"
    },
    {
     "data": {
      "text/latex": [
       "$\\displaystyle \\begin{cases} 0 & \\text{for}\\: w = 0 \\\\- \\frac{A}{3 \\pi} & \\text{otherwise} \\end{cases}$"
      ],
      "text/plain": [
       "Piecewise((0, Eq(w, 0)), (-A/(3*pi), True))"
      ]
     },
     "metadata": {},
     "output_type": "display_data"
    }
   ],
   "source": [
    "import sympy as sp\n",
    "import numpy as np\n",
    "from IPython.display import display as dsp\n",
    "\n",
    "A, t, n, j, w = sp.symbols('A, t, n, j, w')\n",
    "tau = (2*sp.pi)/w\n",
    "w = (2*sp.pi)/tau\n",
    "x = A*(t/tau)\n",
    "\n",
    "x_0 = sp.simplify(w/sp.pi*(sp.integrate(x,(t, 0, tau))))\n",
    "\n",
    "dsp(x_0)\n",
    "\n",
    "    \n",
    "x_n = x*(sp.cos(j*w*t))\n",
    "z = sp.simplify(w/sp.pi *(sp.integrate(x_n, (t,0,tau))))\n",
    "dsp(z)\n",
    "           \n",
    "y_n = x*(sp.sin(j*w*t))\n",
    "y = sp.simplify(2/tau *(sp.integrate(y_n,(t,0,tau))))\n",
    "dsp(y)\n",
    "\n",
    "dsp(z.subs(j,1))\n",
    "dsp(y.subs(j,3))"
   ]
  },
  {
   "cell_type": "code",
   "execution_count": 4,
   "metadata": {},
   "outputs": [
    {
     "name": "stdout",
     "output_type": "stream",
     "text": [
      "t = [0.   0.04 0.08 0.12 0.16 0.2  0.24 0.28 0.32 0.36 0.4  0.44 0.48 0.52\n",
      " 0.56 0.6  0.64 0.68 0.72 0.76 0.8  0.84 0.88 0.92 0.96 1.   1.04 1.08\n",
      " 1.12 1.16 1.2  1.24 1.28 1.32 1.36 1.4  1.44 1.48 1.52 1.56 1.6  1.64\n",
      " 1.68 1.72 1.76 1.8  1.84 1.88 1.92 1.96 2.   2.04 2.08 2.12 2.16 2.2\n",
      " 2.24 2.28 2.32 2.36 2.4  2.44 2.48 2.52 2.56 2.6  2.64 2.68 2.72 2.76\n",
      " 2.8  2.84 2.88 2.92 2.96 3.   3.04 3.08 3.12 3.16 3.2  3.24 3.28 3.32\n",
      " 3.36 3.4  3.44 3.48 3.52 3.56 3.6  3.64 3.68 3.72 3.76 3.8  3.84 3.88\n",
      " 3.92 3.96 4.  ]\n"
     ]
    },
    {
     "data": {
      "text/plain": [
       "[<matplotlib.lines.Line2D at 0x276ed792dc8>]"
      ]
     },
     "execution_count": 4,
     "metadata": {},
     "output_type": "execute_result"
    },
    {
     "data": {
      "image/png": "[encoded data removed]",
      "text/plain": [
       "<Figure size 432x288 with 1 Axes>"
      ]
     },
     "metadata": {
      "needs_background": "light"
     },
     "output_type": "display_data"
    }
   ],
   "source": [
    "#x(t) = a/2 + sum[ (an*cos(n*w*t)) + (bn*sin( n*w*t))]\n",
    "\n",
    "#Ex 1.19 Fourier series expansion\n",
    "#x(t) = A/2 - A/pi sin(w*t) - A/2*pi sin(2*w*t)....\n",
    "\n",
    "import numpy as np\n",
    "import matplotlib.pyplot as plt\n",
    "\n",
    "\n",
    "t = np.linspace(0,4,101)\n",
    "print('t =',t)\n",
    "\n",
    "A = 1\n",
    "w = np.pi\n",
    "sum1 = 0\n",
    "\n",
    "for i in range(1,20,1):\n",
    "    \n",
    "    y = (1/i)*np.sin(i*w*t)\n",
    "    \n",
    "    sum1 +=y\n",
    "    \n",
    "\n",
    "x = (A/np.pi)*((np.pi/2) - sum1)\n",
    "\n",
    "#y1 = np.sin(w*t)\n",
    "#x1 = (A/np.pi)*((np.pi/2) - y)        single term expansion\n",
    "\n",
    "plt.figure(1)\n",
    "plt.plot(t,x)\n",
    "\n",
    "#plt.plot(t,x1)"
   ]
  },
  {
   "cell_type": "code",
   "execution_count": 5,
   "metadata": {},
   "outputs": [
    {
     "name": "stdout",
     "output_type": "stream",
     "text": [
      "1.0*B\n",
      "a0 = 1.0*B\n",
      "aj = [-4.0*B/pi**2, 0, -0.444444444444444*B/pi**2]\n",
      "bj = [0, 0, 0]\n"
     ]
    }
   ],
   "source": [
    "import sympy as sp\n",
    "import numpy as np\n",
    "from IPython.display import display\n",
    "\n",
    "A, B, t, pi = sp.symbols('A, B, t, pi')\n",
    "tau = 2\n",
    "w = sp.pi\n",
    "#B = 50000*A\n",
    "F1 = B*t\n",
    "F2 = B*(2-t)\n",
    "\n",
    "a_0 = 2/tau*(sp.integrate(F1,(t,0,1)) + sp.integrate(F2, (t,1,2)))\n",
    "\n",
    "print(a_0)\n",
    "\n",
    "a_j = []\n",
    "b_j = []\n",
    "\n",
    "for j in range(1,4,1):\n",
    "    \n",
    "    F3 = F1*(sp.cos(j*w*t))\n",
    "    F4 = F2*(sp.cos(j*w*t))\n",
    "    \n",
    "    x = 2/tau *(sp.integrate(F3, (t,0,1)) + sp.integrate(F4,(t,1,2)))\n",
    "    a_j.append(x)\n",
    "    \n",
    "    F5 = F1*(sp.sin(j*w*t))\n",
    "    F6 = F2*(sp.sin(j*w*t))\n",
    "    \n",
    "    y = 2/tau *(sp.integrate(F5, (t,0,1)) + sp.integrate(F6,(t,1,2)))\n",
    "    b_j.append(y)\n",
    "\n",
    "print('a0 =',a_0)\n",
    "print('aj =',a_j)\n",
    "print('bj =',b_j)"
   ]
  },
  {
   "cell_type": "code",
   "execution_count": 6,
   "metadata": {},
   "outputs": [
    {
     "name": "stdout",
     "output_type": "stream",
     "text": [
      "t = [0.   0.05 0.1  0.15 0.2  0.25 0.3  0.35 0.4  0.45 0.5  0.55 0.6  0.65\n",
      " 0.7  0.75 0.8  0.85 0.9  0.95 1.   1.05 1.1  1.15 1.2  1.25 1.3  1.35\n",
      " 1.4  1.45 1.5  1.55 1.6  1.65 1.7  1.75 1.8  1.85 1.9  1.95 2.   2.05\n",
      " 2.1  2.15 2.2  2.25 2.3  2.35 2.4  2.45 2.5  2.55 2.6  2.65 2.7  2.75\n",
      " 2.8  2.85 2.9  2.95 3.   3.05 3.1  3.15 3.2  3.25 3.3  3.35 3.4  3.45\n",
      " 3.5  3.55 3.6  3.65 3.7  3.75 3.8  3.85 3.9  3.95 4.   4.05 4.1  4.15\n",
      " 4.2  4.25 4.3  4.35 4.4  4.45 4.5  4.55 4.6  4.65 4.7  4.75 4.8  4.85\n",
      " 4.9  4.95 5.  ]\n",
      "j = 1\n",
      "j = 3\n",
      "j = 5\n"
     ]
    },
    {
     "data": {
      "text/plain": [
       "[<matplotlib.lines.Line2D at 0x276ed892ac8>]"
      ]
     },
     "execution_count": 6,
     "metadata": {},
     "output_type": "execute_result"
    },
    {
     "data": {
      "image/png": "[encoded data removed]",
      "text/plain": [
       "<Figure size 432x288 with 1 Axes>"
      ]
     },
     "metadata": {
      "needs_background": "light"
     },
     "output_type": "display_data"
    }
   ],
   "source": [
    "import  matplotlib.pyplot as plt\n",
    "\n",
    "\n",
    "t = np.linspace(0,5,101)\n",
    "print('t =',t)\n",
    "A =1.96E-3\n",
    "\n",
    "a_0 = 25000*A\n",
    "a_j = (2*10**5*A)/(j**2 *np.pi**2)\n",
    "b_j = 0\n",
    "w = np.pi\n",
    "\n",
    "Z = 0.05\n",
    "k = 1000\n",
    "r = 0.8\n",
    "\n",
    "sum1 = 0\n",
    "sum2 = 0\n",
    "\n",
    "for j in range(1,6,2):              #j in odd numbers (1,x,2)    #j in even (2n) \n",
    "\n",
    "    print('j =',j)\n",
    "    phi = np.arctan((2*Z*j*r)/(1-j**2*r**2))\n",
    "    \n",
    "    y1 = ((a_j/k)/np.sqrt((1-j**2*r**2)**2 + (2*Z*j*r)**2))*np.cos(j*w*t - phi)\n",
    "    \n",
    "    y2 = ((b_j/k)/np.sqrt((1-j**2*r**2)**2 + (2*Z*j*r)**2))*np.cos(j*w*t - phi)\n",
    "    \n",
    "    sum1 += y1\n",
    "    sum2 += y2\n",
    "    \n",
    "xp = a_0/k + sum1 + sum2\n",
    "\n",
    "plt.figure(2)\n",
    "plt.plot(t,xp)"
   ]
  },
  {
   "cell_type": "markdown",
   "metadata": {},
   "source": [
    "# Theme 5 "
   ]
  },
  {
   "cell_type": "code",
   "execution_count": 7,
   "metadata": {},
   "outputs": [],
   "source": [
    "import numpy as np\n",
    "import sympy as sp\n",
    "import scipy.linalg as la\n",
    "from IPython.display import display as dsp\n",
    "import matplotlib.pyplot as plt"
   ]
  },
  {
   "cell_type": "code",
   "execution_count": 9,
   "metadata": {},
   "outputs": [],
   "source": [
    "#Runge kutta MDOF"
   ]
  },
  {
   "cell_type": "code",
   "execution_count": 8,
   "metadata": {},
   "outputs": [],
   "source": [
    "#Eigenval\n",
    "#|A-yI|=0                       {X}=0 (non trivial)\n",
    "#|y[I]-[D]| = 0                 [D] = [m]*[k]^-1\n",
    "\n",
    "#|[k] - w^2[m]| = 0"
   ]
  },
  {
   "cell_type": "code",
   "execution_count": 12,
   "metadata": {},
   "outputs": [
    {
     "name": "stdout",
     "output_type": "stream",
     "text": [
      "w1 =(0.9999999999999999+0j), w2 = (1.414213562373095+0j), w3 = (1.7320508075688772+0j) rad/s\n",
      "w1^2 = (0.9999999999999999+0j) and w2^2 = (1.9999999999999998+0j) and w3^2 = (2.9999999999999996+0j)\n",
      "===+===+===+===+===+===+===+===+===+===+===+===+===+===+===+===+===+===+===+===+===+===+===+===+===+===+===+===+===+===+\n"
     ]
    },
    {
     "ename": "TypeError",
     "evalue": "'Mul' object is not subscriptable",
     "output_type": "error",
     "traceback": [
      "\u001b[1;31m---------------------------------------------------------------------------\u001b[0m",
      "\u001b[1;31mTypeError\u001b[0m                                 Traceback (most recent call last)",
      "\u001b[1;32m<ipython-input-12-ddcbabd0e406>\u001b[0m in \u001b[0;36m<module>\u001b[1;34m\u001b[0m\n\u001b[0;32m     23\u001b[0m \u001b[0mprint\u001b[0m\u001b[1;33m(\u001b[0m\u001b[1;34m'w1^2 = {} and w2^2 = {} and w3^2 = {}'\u001b[0m\u001b[1;33m.\u001b[0m\u001b[0mformat\u001b[0m\u001b[1;33m(\u001b[0m\u001b[0momega1\u001b[0m\u001b[1;33m[\u001b[0m\u001b[1;36m0\u001b[0m\u001b[1;33m]\u001b[0m\u001b[1;33m,\u001b[0m\u001b[0momega1\u001b[0m\u001b[1;33m[\u001b[0m\u001b[1;36m2\u001b[0m\u001b[1;33m]\u001b[0m\u001b[1;33m,\u001b[0m\u001b[0momega1\u001b[0m\u001b[1;33m[\u001b[0m\u001b[1;36m1\u001b[0m\u001b[1;33m]\u001b[0m\u001b[1;33m)\u001b[0m\u001b[1;33m)\u001b[0m\u001b[1;33m\u001b[0m\u001b[1;33m\u001b[0m\u001b[0m\n\u001b[0;32m     24\u001b[0m \u001b[0mprint\u001b[0m\u001b[1;33m(\u001b[0m\u001b[1;34m'===+'\u001b[0m\u001b[1;33m*\u001b[0m\u001b[1;36m30\u001b[0m\u001b[1;33m)\u001b[0m\u001b[1;33m\u001b[0m\u001b[1;33m\u001b[0m\u001b[0m\n\u001b[1;32m---> 25\u001b[1;33m \u001b[0mprint\u001b[0m\u001b[1;33m(\u001b[0m\u001b[1;34m'nat freq = {} and {} and {}'\u001b[0m\u001b[1;33m.\u001b[0m\u001b[0mformat\u001b[0m\u001b[1;33m(\u001b[0m\u001b[0mf\u001b[0m\u001b[1;33m[\u001b[0m\u001b[1;36m0\u001b[0m\u001b[1;33m]\u001b[0m\u001b[1;33m,\u001b[0m\u001b[0mf\u001b[0m\u001b[1;33m[\u001b[0m\u001b[1;36m2\u001b[0m\u001b[1;33m]\u001b[0m\u001b[1;33m,\u001b[0m \u001b[0mf\u001b[0m\u001b[1;33m[\u001b[0m\u001b[1;36m1\u001b[0m\u001b[1;33m]\u001b[0m\u001b[1;33m)\u001b[0m\u001b[1;33m,\u001b[0m\u001b[1;34m'Hz'\u001b[0m\u001b[1;33m)\u001b[0m\u001b[1;33m\u001b[0m\u001b[1;33m\u001b[0m\u001b[0m\n\u001b[0m\u001b[0;32m     26\u001b[0m \u001b[0mprint\u001b[0m\u001b[1;33m(\u001b[0m\u001b[1;34m'===+'\u001b[0m\u001b[1;33m*\u001b[0m\u001b[1;36m30\u001b[0m\u001b[1;33m)\u001b[0m\u001b[1;33m\u001b[0m\u001b[1;33m\u001b[0m\u001b[0m\n\u001b[0;32m     27\u001b[0m \u001b[0mprint\u001b[0m\u001b[1;33m(\u001b[0m\u001b[1;34m''\u001b[0m\u001b[1;33m)\u001b[0m\u001b[1;33m\u001b[0m\u001b[1;33m\u001b[0m\u001b[0m\n",
      "\u001b[1;31mTypeError\u001b[0m: 'Mul' object is not subscriptable"
     ]
    }
   ],
   "source": [
    "#P6.65\n",
    "k1 = 20\n",
    "k2 = 10\n",
    "k3 = 10\n",
    "k4 = 10\n",
    "k5 = 10\n",
    "m1 = 20\n",
    "m2 = 10\n",
    "m3 = 10\n",
    "\n",
    "K = np.array([[k1+k2+k3, -k2, -k3],[-k2, k2+k4, 0], [-k3, 0, k3+k5]])        #from EoM\n",
    "M = np.array([[m1,0,0],[0,m2,0],[0,0,m3]])\n",
    "\n",
    "v,w = la.eig(K,M)                                                            #v = eigenvals, w = eigenvector\n",
    "\n",
    "omega1 = v\n",
    "omega2 = v**0.5\n",
    "\n",
    "\n",
    "f = w2/(2*np.pi)\n",
    "\n",
    "print('w1 ={}, w2 = {}, w3 = {}'.format(omega2[0],omega2[2],omega2[1]),'rad/s')\n",
    "print('w1^2 = {} and w2^2 = {} and w3^2 = {}'.format(omega1[0],omega1[2],omega1[1]))\n",
    "print('===+'*30)\n",
    "print('nat freq = {} and {} and {}'.format(f[0],f[2], f[1]),'Hz')\n",
    "print('===+'*30)\n",
    "print('')\n",
    "\n",
    "mode = np.array([[w[0,0]/w[0,0], w[1,0]/w[0,0], w[2,0]/w[0,0]], [w[0,1]/w[0,1], w[1,1]/w[0,1], w[2,1]/w[0,1]], [w[0,2]/w[0,2], w[1,2]/w[0,2],w[2,2]/w[0,2]]])\n",
    "print('!!'*30)\n",
    "print('IF VERY LARGE MODE IS EQUAL TO ZEROS!!!!!!')\n",
    "print('!!'*30)\n",
    "print('mode1 =');dsp(sp.Matrix(mode[0].T))\n",
    "\n",
    "print('mode2 = '),dsp(sp.Matrix(mode[2].T))\n",
    "\n",
    "print('mode3 ='),dsp(sp.Matrix(mode[1].T))\n",
    "\n",
    "my_array = mode.T\n",
    "my_array[:,[1, 2]] = my_array[:,[2, 1]]\n",
    "\n",
    "print('mode matrix =')\n",
    "dsp(sp.Matrix(my_array))"
   ]
  },
  {
   "cell_type": "code",
   "execution_count": 13,
   "metadata": {},
   "outputs": [
    {
     "name": "stdout",
     "output_type": "stream",
     "text": [
      "delta_omega2 = 2000*w**2 + (20 - 10*w**2)**2*(40 - 20*w**2) - 4000\n",
      "====================================================================================================\n",
      "omega^2 = [1, 2, 3]\n",
      "natural frequencies = [0.159154943091895, 0.225079079039277, 0.275664447710896]\n"
     ]
    }
   ],
   "source": [
    "#P6.65\n",
    "# ignore the mess just need equation in terms of omega to plot below\n",
    "k1,k2,k3,k4,k5,m3,m1,m2,w = sp.symbols('k1,k2,k3,k4,k5,m3,m1,m2,w')\n",
    "\n",
    "k1 = 20\n",
    "k2 = 10\n",
    "k3 = 10\n",
    "k4 = 10\n",
    "k5 = 10\n",
    "m1 = 20\n",
    "m2 = 10\n",
    "m3 = 10\n",
    "\n",
    "I = sp.eye(3)\n",
    "Lambda = 1/w**2\n",
    "w2 = 1/Lambda\n",
    "k = sp.Matrix([[k1+k2+k3, -k2, -k3],[-k2, k2+k4, 0], [-k3, 0, k3+k5]])\n",
    "K = np.array([[k1+k2+k3, -k2, -k3],[-k2, k2+k4, 0], [-k3, 0, k3+k5]])\n",
    "m = sp.Matrix([[m1,0,0],[0,m2,0],[0,0,m3]])\n",
    "M = np.array([[m1,0,0],[0,m2,0],[0,0,m3]])\n",
    "\n",
    "delta_w2 = sp.det(k - (w2)*m)\n",
    "\n",
    "print('delta_omega2 =',delta_w2)\n",
    "\n",
    "\n",
    "print('='*100)\n",
    "D = m*k**-1\n",
    "\n",
    "d = M*(np.linalg.inv(K))\n",
    "equation = sp.Eq(sp.det(D-Lambda*I), 0)\n",
    "\n",
    "delta = (Lambda*k - D)\n",
    "\n",
    "sol = sp.solve(equation)\n",
    "\n",
    "omega2 = np.array(sol)**2\n",
    "\n",
    "p = []\n",
    "om = []\n",
    "for i in range(1,6,2):\n",
    "    \n",
    "    f = (omega2[i])**0.5 * 1/(2*np.pi)\n",
    "    ega = omega2[i]\n",
    "    p.append(f)\n",
    "    om.append(ega)\n",
    "\n",
    "print('omega^2 =', om)\n",
    "print('natural frequencies =',p)\n",
    "\n",
    "eig = sp.Eq((D - om[0]*I),0)\n"
   ]
  },
  {
   "cell_type": "code",
   "execution_count": 14,
   "metadata": {},
   "outputs": [
    {
     "data": {
      "text/plain": [
       "Text(0, 0.5, 'delta(omega^2)')"
      ]
     },
     "execution_count": 14,
     "metadata": {},
     "output_type": "execute_result"
    },
    {
     "data": {
      "image/png": "[encoded data removed]",
      "text/plain": [
       "<Figure size 432x288 with 1 Axes>"
      ]
     },
     "metadata": {
      "needs_background": "light"
     },
     "output_type": "display_data"
    }
   ],
   "source": [
    "w2 = np.linspace(0,4,21)\n",
    "w = np.sqrt(w2)\n",
    "\n",
    "sol_line = 0*w2\n",
    "\n",
    "f = -2000*w**6 + 12000*w**4 - 22000*w**2 + 12000        #delta_omega2 from above\n",
    "\n",
    "plt.figure(1)\n",
    "plt.plot(w2,f)\n",
    "plt.plot(w2,sol_line)\n",
    "plt.xlabel('omega^2')\n",
    "plt.ylabel('delta(omega^2)')"
   ]
  },
  {
   "cell_type": "code",
   "execution_count": 15,
   "metadata": {},
   "outputs": [
    {
     "name": "stdout",
     "output_type": "stream",
     "text": [
      "============================================================\n",
      "[[ 5.77350269e-01  5.77350269e-01  5.87223741e-35]\n",
      " [ 5.77350269e-01 -5.77350269e-01  7.07106781e-01]\n",
      " [ 5.77350269e-01 -5.77350269e-01 -7.07106781e-01]]\n",
      "============================================================\n",
      "eigenvals = (0.9999999999999999+0j), (1.9999999999999998+0j), (2.9999999999999996+0j)\n",
      "nat freq =(0.15915494309189532+0j), (0.22507907903927651+0j), (0.27566444771089604+0j)\n"
     ]
    }
   ],
   "source": [
    "K = np.array([[40,-10,-10],[-10,20,0],[-10,0,20]])\n",
    "M = np.array([[20,0,0],[0,10,0],[0,0,10]])\n",
    "\n",
    "w,v = la.eig(K,M)\n",
    "\n",
    "print('==='*20)\n",
    "print(v)                       \n",
    "print('==='*20)\n",
    "print('eigenvals = {}, {}, {}'.format(w[0],w[2],w[1]))\n",
    "\n",
    "\n",
    "f = w**0.5/(2*np.pi)\n",
    "print('nat freq ={}, {}, {}'.format(f[0],f[2],f[1]))"
   ]
  },
  {
   "cell_type": "code",
   "execution_count": 16,
   "metadata": {},
   "outputs": [
    {
     "name": "stdout",
     "output_type": "stream",
     "text": [
      "w1 =(3.660254037844386+0j) and w2 = (13.660254037844386+0j) rad/s\n",
      "w1^2 =(13.39745962155613+0j) and w2^2 = (186.60254037844382+0j)\n",
      "===+===+===+===+===+===+===+===+===+===+===+===+===+===+===+===+===+===+===+===+\n",
      "nat freq = (0.5825475230950034+0j) and (2.1740969540139568+0j) Hz\n",
      "===+===+===+===+===+===+===+===+===+===+===+===+===+===+===+===+===+===+===+===+\n",
      "mode1 =\n"
     ]
    },
    {
     "data": {
      "text/latex": [
       "$\\displaystyle \\left[\\begin{matrix}1.0\\\\1.36602540378444\\end{matrix}\\right]$"
      ],
      "text/plain": [
       "Matrix([\n",
       "[             1.0],\n",
       "[1.36602540378444]])"
      ]
     },
     "metadata": {},
     "output_type": "display_data"
    },
    {
     "name": "stdout",
     "output_type": "stream",
     "text": [
      "mode2 =\n"
     ]
    },
    {
     "data": {
      "text/latex": [
       "$\\displaystyle \\left[\\begin{matrix}1.0\\\\-0.366025403784439\\end{matrix}\\right]$"
      ],
      "text/plain": [
       "Matrix([\n",
       "[               1.0],\n",
       "[-0.366025403784439]])"
      ]
     },
     "metadata": {},
     "output_type": "display_data"
    },
    {
     "data": {
      "text/plain": [
       "(None, None)"
      ]
     },
     "execution_count": 16,
     "metadata": {},
     "output_type": "execute_result"
    }
   ],
   "source": [
    "#P5.5\n",
    "k1 = 1000\n",
    "k2 = 2000\n",
    "m1 = 20\n",
    "m2 = 40\n",
    "\n",
    "k = np.array([[k1+k2, -k2],[-k2, k2]])\n",
    "m = np.array([[m1,0],[0,m2]])\n",
    "\n",
    "v,w = la.eig(k,m)\n",
    "\n",
    "w1 = v\n",
    "w2 = v**0.5\n",
    "\n",
    "f = w2/(2*np.pi)\n",
    "\n",
    "print('w1 ={} and w2 = {}'.format(w2[1],w2[0]),'rad/s')\n",
    "print('w1^2 ={} and w2^2 = {}'.format(w1[1],w1[0]))\n",
    "print('===+'*20)\n",
    "print('nat freq = {} and {}'.format(f[1],f[0]),'Hz')\n",
    "print('===+'*20)\n",
    "\n",
    "mode = np.array([[1,w[1,0]/w[0,0]],[1,w[1,1]/w[0,1]]])\n",
    "\n",
    "print('mode1 =');dsp(sp.Matrix(mode[1].T))\n",
    "\n",
    "print('mode2 ='),dsp(sp.Matrix(mode[0].T))"
   ]
  },
  {
   "cell_type": "markdown",
   "metadata": {},
   "source": [
    "# Eigenvalues,mode shapes,natural frequencies\n"
   ]
  },
  {
   "cell_type": "code",
   "execution_count": 17,
   "metadata": {},
   "outputs": [
    {
     "data": {
      "image/png": "[encoded data removed]",
      "text/plain": [
       "<Figure size 432x288 with 1 Axes>"
      ]
     },
     "metadata": {
      "needs_background": "light"
     },
     "output_type": "display_data"
    },
    {
     "name": "stdout",
     "output_type": "stream",
     "text": [
      "[[ 40 -10 -10]\n",
      " [-10  20   0]\n",
      " [-10   0  20]]\n",
      "[[20  0  0]\n",
      " [ 0 10  0]\n",
      " [ 0  0 10]]\n",
      "[[ 1.58113883e-01  1.09410197e-16 -1.58113883e-01]\n",
      " [ 1.58113883e-01 -2.23606798e-01  1.58113883e-01]\n",
      " [ 1.58113883e-01  2.23606798e-01  1.58113883e-01]]\n",
      "[1. 2. 3.]\n",
      "[[1.         0.         0.        ]\n",
      " [0.         1.41421356 0.        ]\n",
      " [0.         0.         1.73205081]]\n",
      "[[0.15915494 0.         0.        ]\n",
      " [0.         0.22507908 0.        ]\n",
      " [0.         0.         0.27566445]]\n"
     ]
    }
   ],
   "source": [
    "#w^2=eigenvalues\n",
    "#w=natural frequencies\n",
    "#{X}= Mode shapes\n",
    "#delta=([k]-w^2[m]){X}={0}\n",
    "#(lambda[k]-[m]){X}={0} where lambda = 1/w^2\n",
    "#Standard Eigenvalue probelem: lambda[I]{X}=[D]{X} where [D]=[k]^-1[m]\n",
    "#problem 6.65 from lecture\n",
    "#Solving:\n",
    "#Stiffness matrix:[k1+k2+k3,-k2,-k3  \n",
    "#                  -k2,k2+k4,0\n",
    "#                   -k3,0,k3+k5]\n",
    "#  = [40,-10,-10\n",
    "#    -10,20,0\n",
    "#    -10,0,20]\n",
    "#Mass matrix:[m1,0,0  \n",
    "#             0,m2,0\n",
    "#             0,0,m3]\n",
    "#  = [20,0,0\n",
    "#    0,10,0\n",
    "#    0,0,10]\n",
    "#therefore delta(w^2) = det[K]-w^2[M]]== [40-20w^2,-10,-10\n",
    "#                           -10,20-10w^2,0\n",
    "#                            -10,0,20-10w^2]\n",
    "#=(40-20w^2)(20-10w^2)(20-10w^2)+(10)(-10)(20-10w^2)-(10)(-10)(20-10w^2)\n",
    "\n",
    "#plotting delta(w^2) vs w^2 to see natural frequencies:\n",
    "from matplotlib import pyplot as plt\n",
    "import numpy as np\n",
    "import scipy.linalg \n",
    "from scipy.linalg import eigh\n",
    "w20 = 0.0 #start w2\n",
    "w2f =4 #end w2\n",
    "w2 = np.arange(w20,w2f,0.1) #interval\n",
    "\n",
    "Deltaw=((40-20*w2)*(20-10*w2)*(20-10*w2))+((10)*(-10)*(20-10*w2))+((-10)*(-1)*(-10)*(20-10*w2));\n",
    "\n",
    "plt.plot(w2,Deltaw,color='r',linewidth=4)\n",
    "plt.xlabel('\\omega^{2}',fontsize=20)\n",
    "plt.ylabel('\\Delta(\\omega^{2})',fontsize=20)\n",
    "plt.xlim(0,w2f)\n",
    "plt.ylim(-15000,15000)\n",
    "plt.grid(True)\n",
    "plt.subplots_adjust(left=.2,right=.9,hspace=.4,wspace=.9)\n",
    "plt.axhline(y=0, color='g', linestyle='-')\n",
    "plt.show()\n",
    "\n",
    "#solving eigenvalue problem\n",
    "#initialise parameters\n",
    "m=10;m1=2*m;m2=m;m3=m\n",
    "k=10;k1=2*k;k2=k;k3=k;k4=k;k5=k\n",
    "#Mass and stiffness matrices\n",
    "K = [k1+k2+k3,-k2,-k3,  \n",
    "     -k2,k2+k4,0,\n",
    "    -k3,0,k3+k5]\n",
    "K = np.array(K).reshape((3,3))\n",
    "\n",
    "M = [m1,0,0, \n",
    "    0,m2,0,\n",
    "    0,0,m3]\n",
    "M = np.array(M).reshape((3,3))\n",
    "\n",
    "#solve eigenvalue problem\n",
    "\n",
    "\n",
    "\n",
    "D,V = eigh(K,M, eigvals_only=False)\n",
    "\n",
    "\n",
    "#Normalise mode shape\n",
    "mode1 = V[:,0]/V[0,0]\n",
    "mode2 = V[:,1]/V[0,1]\n",
    "mode3 = V[:,2]/V[0,2]\n",
    "\n",
    "#Natural frequencies\n",
    "w=np.sqrt(np.diag(D));\n",
    "f=w/(2*np.pi)\n",
    "print(K)\n",
    "print(M)\n",
    "print(V)\n",
    "print(D)\n",
    "print(w)\n",
    "print(f)"
   ]
  },
  {
   "cell_type": "code",
   "execution_count": 18,
   "metadata": {},
   "outputs": [
    {
     "name": "stdout",
     "output_type": "stream",
     "text": [
      "[[ 3000 -2000]\n",
      " [-2000  2000]]\n",
      "[[20  0]\n",
      " [ 0 40]]\n",
      "[[0.58254752 0.        ]\n",
      " [0.         2.17409695]]\n",
      "[1.        1.3660254]\n",
      "[ 1.        -0.3660254]\n"
     ]
    }
   ],
   "source": [
    "#Problem 5.5\n",
    "m=20;m1=m;m2=2*m\n",
    "k=1000;k1=k;k2=2*k\n",
    "#Mass and stiffness matrices\n",
    "K = [k1+k2,-k2,  \n",
    "     -k2,k2]\n",
    "K = np.array(K).reshape((2,2))\n",
    "\n",
    "M = [m1,0, \n",
    "    0,m2]\n",
    "M = np.array(M).reshape((2,2))\n",
    "\n",
    "#solve eigenvalue problem\n",
    "\n",
    "\n",
    "\n",
    "D,V = eigh(K,M, eigvals_only=False)\n",
    "\n",
    "\n",
    "#Normalise mode shape\n",
    "mode1 = V[:,0]/V[0,0]\n",
    "mode2 = V[:,1]/V[0,1]\n",
    "\n",
    "\n",
    "#Natural frequencies\n",
    "w=np.sqrt(np.diag(D));\n",
    "f=w/(2*np.pi)\n",
    "print(K)\n",
    "print(M)\n",
    "# print(V)\n",
    "# print(D)\n",
    "# print(w)\n",
    "print(f)\n",
    "print(mode1)\n",
    "print(mode2)"
   ]
  },
  {
   "cell_type": "markdown",
   "metadata": {},
   "source": [
    "# Theme 6"
   ]
  },
  {
   "cell_type": "code",
   "execution_count": 6,
   "metadata": {},
   "outputs": [],
   "source": [
    "import numpy as np\n",
    "import sympy as sp\n",
    "import matplotlib.pyplot as plt\n",
    "import cmath\n",
    "from scipy.linalg import eigh"
   ]
  },
  {
   "cell_type": "markdown",
   "metadata": {},
   "source": [
    "### MDOF Equations of Motion"
   ]
  },
  {
   "cell_type": "code",
   "execution_count": 7,
   "metadata": {},
   "outputs": [
    {
     "data": {
      "image/png": "[encoded data removed]",
      "text/plain": [
       "<IPython.core.display.Image object>"
      ]
     },
     "execution_count": 7,
     "metadata": {},
     "output_type": "execute_result"
    }
   ],
   "source": [
    "from IPython.display import Image\n",
    "Image('MDOF1.png',embed=True)"
   ]
  },
  {
   "cell_type": "code",
   "execution_count": 8,
   "metadata": {},
   "outputs": [
    {
     "data": {
      "image/png": "[encoded data removed]",
      "text/plain": [
       "<IPython.core.display.Image object>"
      ]
     },
     "execution_count": 8,
     "metadata": {},
     "output_type": "execute_result"
    }
   ],
   "source": [
    "from IPython.display import Image\n",
    "Image('MDOF2.png',embed=True)"
   ]
  },
  {
   "cell_type": "code",
   "execution_count": 9,
   "metadata": {},
   "outputs": [
    {
     "data": {
      "image/png": "[encoded data removed]",
      "text/plain": [
       "<IPython.core.display.Image object>"
      ]
     },
     "execution_count": 9,
     "metadata": {},
     "output_type": "execute_result"
    }
   ],
   "source": [
    "from IPython.display import Image\n",
    "Image('MDOF3.png',embed=True)"
   ]
  },
  {
   "cell_type": "markdown",
   "metadata": {},
   "source": [
    "##### Please perform EOM equations before moving to calculation below. Below calculations are general and may change with  system. You only need to alter the matrices when systems differ. The calculations will do the rest for you."
   ]
  },
  {
   "cell_type": "code",
   "execution_count": 69,
   "metadata": {},
   "outputs": [
    {
     "name": "stdout",
     "output_type": "stream",
     "text": [
      "The Mass matrix is : \n",
      " [[1 0]\n",
      " [0 2]]\n",
      "\n",
      "The C matrix is : \n",
      " [[0 0]\n",
      " [0 0]]\n",
      "\n",
      "The K matrix is : \n",
      " [[1200 -400]\n",
      " [-400  400]]\n",
      "\n",
      "The Eigenvector is :\n",
      " [ 125.54373535 1274.45626465]\n",
      "The Eigenvalue is :\n",
      " [[-0.25456995 -0.96705436]\n",
      " [-0.6838107   0.18000814]]\n",
      "\n",
      "w1^2 = 125.54373534619708\n",
      "\n",
      "w2^2 = 1274.456264653803\n",
      "\n",
      "Frequency w1 = 11.204630085201256 rad/s\n",
      "Frequency w1 = 1.7832722635759444 Hz\n",
      "Frequency w2 = 35.69952751303304 rad/s\n",
      "Frequency w2 = 5.681756269744326 Hz\n",
      "\n",
      "The determinant matrix is:\n"
     ]
    },
    {
     "data": {
      "text/latex": [
       "$\\displaystyle \\left[\\begin{matrix}1200 - w^{2} & -400\\\\-400 & 400 - 2 w^{2}\\end{matrix}\\right]$"
      ],
      "text/plain": [
       "[[1200 - w**2, -400], [-400, 400 - 2*w**2]]"
      ]
     },
     "metadata": {},
     "output_type": "display_data"
    },
    {
     "name": "stdout",
     "output_type": "stream",
     "text": [
      "\n",
      "The determinant matrix for w1 is:\n"
     ]
    },
    {
     "data": {
      "text/latex": [
       "$\\displaystyle \\left[\\begin{matrix}1074.4562646538 & -400.0\\\\-400.0 & 148.912529307606\\end{matrix}\\right]$"
      ],
      "text/plain": [
       "Matrix([\n",
       "[1074.4562646538,           -400.0],\n",
       "[         -400.0, 148.912529307606]])"
      ]
     },
     "metadata": {},
     "output_type": "display_data"
    },
    {
     "name": "stdout",
     "output_type": "stream",
     "text": [
      "\n",
      "The mode shape X1 is :\n"
     ]
    },
    {
     "data": {
      "text/latex": [
       "$\\displaystyle \\left[\\begin{matrix}1.0\\\\2.68614066163451\\end{matrix}\\right]$"
      ],
      "text/plain": [
       "Matrix([\n",
       "[             1.0],\n",
       "[2.68614066163451]])"
      ]
     },
     "metadata": {},
     "output_type": "display_data"
    },
    {
     "name": "stdout",
     "output_type": "stream",
     "text": [
      "\n",
      "The determinant matrix for w2 is:\n"
     ]
    },
    {
     "data": {
      "text/latex": [
       "$\\displaystyle \\left[\\begin{matrix}-74.4562646538029 & -400.0\\\\-400.0 & -2148.91252930761\\end{matrix}\\right]$"
      ],
      "text/plain": [
       "Matrix([\n",
       "[-74.4562646538029,            -400.0],\n",
       "[           -400.0, -2148.91252930761]])"
      ]
     },
     "metadata": {},
     "output_type": "display_data"
    },
    {
     "name": "stdout",
     "output_type": "stream",
     "text": [
      "\n",
      "The mode shape X2 is :\n"
     ]
    },
    {
     "data": {
      "text/latex": [
       "$\\displaystyle \\left[\\begin{matrix}1.0\\\\-0.186140661634507\\end{matrix}\\right]$"
      ],
      "text/plain": [
       "Matrix([\n",
       "[               1.0],\n",
       "[-0.186140661634507]])"
      ]
     },
     "metadata": {},
     "output_type": "display_data"
    }
   ],
   "source": [
    "ptype='linear'  #Type 'linear' or 'torsion2elements' or 'torsion3elements'\n",
    "\n",
    "#INPUTS\n",
    "\n",
    "F1=1\n",
    "F2=1\n",
    "\n",
    "M1=1   #For Torsion (moment)\n",
    "M2=1   #For Torsion (moment)\n",
    "M3=1   #For Torsion (moment)\n",
    "\n",
    "J1=1    #For Torsion\n",
    "J2=1    #For Torsion\n",
    "J3=1    #For Torsion\n",
    "kt=1    #For Torsion 3 Elements Simplified;kt is constant throughout shaft. May have to adjust code if not\n",
    "kt1=1   #For Torsion 2 Elements\n",
    "kt2=1   #For Torsion 2 Elements\n",
    "kt3=1   #For Torsion 2 ELements\n",
    "\n",
    "m1=1\n",
    "m2=2\n",
    "k1=800\n",
    "k2=400\n",
    "k3=0\n",
    "c1=0\n",
    "c2=0\n",
    "c3=0\n",
    "\n",
    "'========================================================================================================================'\n",
    "\n",
    "#CALCULATOR (May Need to change matrices after calculation EOM)\n",
    "\n",
    "if ptype=='linear':\n",
    "    massmatrix=np.matrix([[m1,0],[0,m2]])\n",
    "    cmatrix=np.matrix([[c1+c2,-c2],[-c2,c2+c3]])\n",
    "    kmatrix=np.matrix([[k1+k2,-k2],[-k2,k2+k3]])\n",
    "    Imatrix=np.matrix([[1,0],[0,1]])\n",
    "    Fmatrix=np.matrix([[F1],[F2]])\n",
    "    zeromatrix=np.matrix([[0,0],[0,0]])\n",
    "    E11=zeromatrix\n",
    "    E12=Imatrix\n",
    "    E21=kmatrix*-massmatrix**-1\n",
    "    E22=cmatrix*-massmatrix**-1\n",
    "    print('The Mass matrix is : \\n {}'.format(massmatrix));print()\n",
    "    print('The C matrix is : \\n {}'.format(cmatrix));print()\n",
    "    print('The K matrix is : \\n {}'.format(kmatrix));print()\n",
    "    #print('The Runge Katte Solution is as follows:')\n",
    "    #E=np.matrix([[E11,E12],[E21,E22]])\n",
    "    #print('E11 :\\n',E11)\n",
    "    #print('E12 :\\n',E12)\n",
    "    #print('E21 :\\n',E21)\n",
    "    #print('E22 :\\n',E22)\n",
    "    eigvect,eigval=eigh(kmatrix,massmatrix)\n",
    "    w1=np.sqrt(eigvect[0])\n",
    "    w2=np.sqrt(eigvect[1])\n",
    "    print('The Eigenvector is :\\n',eigvect)\n",
    "    print('The Eigenvalue is :\\n',eigval);print()\n",
    "    print('w1^2 = {}'.format(eigvect[0]));print()\n",
    "    print('w2^2 = {}'.format(eigvect[1]));print()\n",
    "    print('Frequency w1 = {}'.format(w1),'rad/s')\n",
    "    print('Frequency w1 = {}'.format(w1/(2*np.pi)),'Hz')\n",
    "    print('Frequency w2 = {}'.format(w2),'rad/s')\n",
    "    print('Frequency w2 = {}'.format(w2/(2*np.pi)),'Hz')\n",
    "elif ptype=='torsion2elements':\n",
    "    Jmatrix=np.matrix([[J1,0],[0,J2]])\n",
    "    cmatrix=np.matrix([[0,0],[0,0]])\n",
    "    ktmatrix=np.matrix([[kt1+kt2,-kt2],[-kt2,kt2+kt3]])\n",
    "    Imatrix=np.matrix([[1,0],[0,1]])\n",
    "    Mtmatrix=np.matrix([[M1],[M2]])\n",
    "    zeromatrix=np.matrix([[0,0],[0,0]])\n",
    "    print('The J Matrix is : \\n{}'.format(Jmatrix))\n",
    "    E11=zeromatrix\n",
    "    E12=Imatrix\n",
    "    E21=ktmatrix*-Jmatrix**-1\n",
    "    E22=cmatrix*-Jmatrix**-1\n",
    "    #print('The Runge Katte Solution is as follows:')\n",
    "    #E=np.matrix([[E11,E12],[E21,E22]])\n",
    "    eigvect,eigval=eigh(ktmatrix,Jmatrix)\n",
    "    w1=np.sqrt(eigvect[0])\n",
    "    w2=np.sqrt(eigvect[1])\n",
    "    print('The Eigenvector is :\\n',eigvect);print()\n",
    "    print('The Eigenvalue is :\\n',eigval);print()\n",
    "    print('w1^2 = {}'.format(eigvect[0]));print()\n",
    "    print('w2^2 = {}'.format(eigvect[1]));print()\n",
    "    print('Frequency w1 = {}'.format(w1),'rad/s')\n",
    "    print('Frequency w1 = {}'.format(w1/(2*np.pi)),'Hz')\n",
    "    print('Frequency w2 = {}'.format(w2),'rad/s')\n",
    "    print('Frequency w2 = {}'.format(w2/(2*np.pi)),'Hz')\n",
    "elif ptype=='torsion3elements':\n",
    "    Jmatrix=np.matrix([[J1,0,0],[0,J2,0],[0,0,J3]])\n",
    "    cmatrix=np.matrix([[0,0,0],[0,0,0],[0,0,0]])\n",
    "    ktmatrix=np.matrix([[kt,-kt,0],[-kt,2*kt,-kt],[0,-kt,kt]])\n",
    "    Imatrix=np.matrix([[1,0,0],[0,1,0],[0,0,1]])\n",
    "    Mtmatrix=np.matrix([[M1],[M2],[M3]])\n",
    "    zeromatrix=np.matrix([[0,0,0],[0,0,0],[0,0,0]])\n",
    "    print('The J Matrix is : \\n{}'.format(Jmatrix));print()\n",
    "    eigvect,eigval=eigh(ktmatrix,Jmatrix)\n",
    "    w1=np.sqrt(abs(eigvect[0]))\n",
    "    w2=np.sqrt(abs(eigvect[1]))\n",
    "    w3=np.sqrt(abs(eigvect[2]))\n",
    "    print('The Eigenvector is :\\n',eigvect);print()\n",
    "    print('The Eigenvalue is :\\n',eigval);print()\n",
    "    print('w1^2 = {}'.format(round(eigvect[0],2)))\n",
    "    print('w2^2 = {}'.format(round(eigvect[1],2)))\n",
    "    print('w2^3 = {}'.format(round(eigvect[2],2)));print()\n",
    "    print('Frequency w1 = {}'.format(w1),'rad/s')\n",
    "    print('Frequency f1 = {}'.format(w1/(2*np.pi)),'Hz')\n",
    "    print('Frequency w2 = {}'.format(w2),'rad/s')\n",
    "    print('Frequency f2 = {}'.format(w2/(2*np.pi)),'Hz')\n",
    "    print('Frequency w3 = {}'.format(w3),'rad/s')\n",
    "    print('Frequency f3 = {}'.format(w3/(2*np.pi)),'Hz')\n",
    "    \n",
    "print()\n",
    "if ptype=='linear':\n",
    "    w=sp.symbols('w')\n",
    "    det=kmatrix-w**2*massmatrix\n",
    "    print('The determinant matrix is:')\n",
    "    display(sp.simplify(det))\n",
    "elif ptype=='torsion2elements':\n",
    "    w=sp.symbols('w')\n",
    "    det=ktmatrix-w**2*Jmatrix\n",
    "    print('The determinant matrix is:')\n",
    "    display(sp.simplify(det))\n",
    "elif ptype=='torsion3elements':\n",
    "    w=sp.symbols('w')\n",
    "    det=ktmatrix-w**2*Jmatrix\n",
    "    print('The determinant matrix is:')\n",
    "    display(sp.simplify(det))\n",
    "    \n",
    "z=det.shape\n",
    "\n",
    "#Change the code below to ktmatrix and Jmatrix for torsion problem\n",
    "if z==(2,2):\n",
    "    if bool(w1)==True:\n",
    "        det=kmatrix-w1**2*massmatrix   ###change kmatrix and massmatrix to ktmatrix and Jmatrix for torsion\n",
    "        print()\n",
    "        print('The determinant matrix for w1 is:')\n",
    "        display(sp.Matrix(det));print()\n",
    "        solX1=sp.Matrix([[sp.simplify(det[0,0]/det[0,0])],[sp.simplify(det[0,0]/-det[0,1])]])\n",
    "        print('The mode shape X1 is :')\n",
    "        display(solX1)\n",
    "    if bool(w2)==True:\n",
    "        det=kmatrix-w2**2*massmatrix   ###change kmatrix and massmatrix to ktmatrix and Jmatrix for torsion \n",
    "        print()\n",
    "        print('The determinant matrix for w2 is:')\n",
    "        display(sp.Matrix(det));print()\n",
    "        solX2=sp.Matrix([[sp.simplify(det[0,0]/det[0,0])],[sp.simplify(det[0,0]/-det[0,1])]])\n",
    "        print('The mode shape X2 is :')\n",
    "        display(solX2)\n",
    "\n",
    "elif z==(3,3):\n",
    "    if bool(w1)==True:\n",
    "        det=kmatrix-w1**2*massmatrix   ###change kmatrix and massmatrix to ktmatrix and Jmatrix for torsion\n",
    "        print()\n",
    "        print('The determinant matrix for w1 is:')\n",
    "        display(sp.Matrix(det));print()\n",
    "        solX1=sp.Matrix([[sp.simplify(det[0,0]/det[0,0])],[sp.simplify(det[0,0]/-det[0,1])]])\n",
    "        print('The mode shape X1 is :')\n",
    "        display(solX1)\n",
    "    if bool(w2)==True:\n",
    "        det=kmatrix-w2**2*massmatrix   ###change kmatrix and massmatrix to ktmatrix and Jmatrix for torsion \n",
    "        print()\n",
    "        print('The determinant matrix for w2 is:')\n",
    "        display(sp.Matrix(det));print()\n",
    "        solX2=sp.Matrix([[sp.simplify(det[0,0]/det[0,0])],[sp.simplify(det[0,0]/-det[0,1])]])\n",
    "        print('The mode shape X2 is :')\n",
    "        display(solX2)\n",
    "    if bool(w3)==True:\n",
    "        det=kmatrix-w3**2*massmatrix   ###change kmatrix and massmatrix to ktmatrix and Jmatrix for torsion \n",
    "        print()\n",
    "        print('The determinant matrix for w3 is:')\n",
    "        display(sp.Matrix(det));print()\n",
    "        solX3=sp.Matrix([[sp.simplify(det[0,0]/det[0,0])],[sp.simplify(det[0,0]/-det[0,1])]])\n",
    "        print('The mode shape X2 is :')\n",
    "        display(solX3)"
   ]
  },
  {
   "cell_type": "markdown",
   "metadata": {},
   "source": [
    "### Vibrational Isolation without damping"
   ]
  },
  {
   "cell_type": "code",
   "execution_count": 11,
   "metadata": {},
   "outputs": [
    {
     "name": "stdout",
     "output_type": "stream",
     "text": [
      "The mass is 1.0 kg\n",
      "\n",
      "w1 = 6.283185307179586 rad/s\n",
      "w2 = 6.283185307179586 rad/s\n",
      "\n",
      "Tr = 0.9\n",
      "\n",
      "r^2 = [2.1111111111111107, -0.11111111111111106]\n",
      "\n",
      "r1 = 1.453\n",
      "Cannot squareroot a negative therefore r2 has not solution\n",
      "\n",
      "The natural frequencies are wn1 : 4.32 rads/s and wn2 : 4.32 rad/s\n",
      "\n",
      "At 1 Hz the displacement is 0.05347506914456714 m\n",
      "At 1 Hz the displacement is 0.05347506914456714 m\n"
     ]
    }
   ],
   "source": [
    "# Determine Excitation w\n",
    "wtype='Hz'   #insert either 'rpm', 'Hz' or 's' for seconds\n",
    "heavy='N'    #insert either 'N' or 'kg'\n",
    "kconst='not given'   #insert 'given or 'not Given\n",
    "vibriso=10   # %of vibration that is isolated\n",
    "\n",
    "rpm1=1   #Doubt that you will get rpm\n",
    "rpm2=1\n",
    "\n",
    "Hz1=1\n",
    "Hz2=1\n",
    "\n",
    "s1=1\n",
    "s2=1\n",
    "\n",
    "m=1   #Either Newtons or kg\n",
    "g=1\n",
    "\n",
    "k1=1\n",
    "k2=1\n",
    "\n",
    "#Note you might need to manually change the r value in the code\n",
    "\n",
    "'========================================================================================================================='\n",
    "if heavy=='N':\n",
    "    mass=m/g\n",
    "    print('The mass is {} kg'.format(mass));print()\n",
    "elif heavy=='kg':\n",
    "    mass=m\n",
    "    print('The mass is {} kg'.format(mass));print()\n",
    "if wtype=='Hz':\n",
    "    w1=2*np.pi*Hz1\n",
    "    w2=Hz2*2*np.pi\n",
    "    print('w1 = {}'.format(w1),'rad/s')\n",
    "    print('w2 = {}'.format(w2),'rad/s');print()\n",
    "\n",
    "elif wtype=='s':\n",
    "    w1=1/s1*2*np.pi\n",
    "    w2=1/s2*2*np.pi\n",
    "    print('w1 = {}'.format(w1))\n",
    "    print('w2 = {}'.format(w2))\n",
    "\n",
    "elif wtype=='rpm':\n",
    "    w1=2*np.pi*rpm1/60\n",
    "    w2=2*np.pi*rpm2/60\n",
    "    print('w1 = {}'.format(w1))\n",
    "    print('w2 = {}'.format(w2))\n",
    "    \n",
    "# Determine frequency ratio r\n",
    "\n",
    "Tr=1-vibriso/100\n",
    "print('Tr = {}'.format(round(Tr,4)));print()\n",
    "a=Tr**2\n",
    "b=-2*Tr**2\n",
    "c=Tr**2-1\n",
    "d=(-2*Tr**2)**2-4*(Tr**2)*(Tr**2-1)\n",
    "r2sol1=(-b+np.sqrt(d))/(2*a)\n",
    "r2sol2=(-b-np.sqrt(d))/(2*a)\n",
    "r2=[r2sol1,r2sol2]\n",
    "print('r^2 = {}'.format(r2));print()\n",
    "if r2[0]>=0:\n",
    "    r1=np.sqrt(r2[0])\n",
    "    print('r1 = {}'.format(round(r1,3)))\n",
    "else:\n",
    "    print('Cannot squareroot a negative therefore r1 has not solution')\n",
    "    \n",
    "if r2[1]>=0:\n",
    "    r2=np.sqrt(r2[1])\n",
    "    print('r2 = {}'.format(round(r2,3)))\n",
    "else:\n",
    "    print('Cannot squareroot a negative therefore r2 has not solution')\n",
    "\n",
    "\n",
    "    \n",
    "r=r1   #Change to either r1 or r2 based on which is positive  \n",
    "\n",
    "#Determine Natural Frequencies\n",
    "\n",
    "if kconst=='given':\n",
    "    wn1=np.sqrt(k1/m)\n",
    "    wn2=np.sqrt(k2/m)\n",
    "elif kconst=='not given':\n",
    "    wn1=w1/r  #Might have to override wn if k constants are given. wn=sqrt(k/m).\n",
    "    wn2=w2/r\n",
    "\n",
    "print()\n",
    "print('The natural frequencies are wn1 : {} rads/s and wn2 : {} rad/s'.format(round(wn1,2),round(wn2,2)));print()\n",
    "\n",
    "\n",
    "#Determine displacements\n",
    "\n",
    "dst1=g/(wn1**2)\n",
    "dst2=g/(wn2**2)\n",
    "\n",
    "if wtype=='Hz':\n",
    "    print('At {} Hz the displacement is {} m'.format(Hz1,dst1))\n",
    "    print('At {} Hz the displacement is {} m'.format(Hz2,dst2))\n",
    "\n",
    "elif wtype=='s':\n",
    "    print('At {} s the displacement is {} m'.format(s1,dst1))\n",
    "    print('At {} s the displacement is {} m'.format(s2,dst2))"
   ]
  },
  {
   "cell_type": "markdown",
   "metadata": {},
   "source": [
    "### Vibrational isolation with damping (w/ force transmissibility)"
   ]
  },
  {
   "cell_type": "code",
   "execution_count": 12,
   "metadata": {},
   "outputs": [
    {
     "data": {
      "image/png": "[encoded data removed]",
      "text/plain": [
       "<IPython.core.display.Image object>"
      ]
     },
     "execution_count": 12,
     "metadata": {},
     "output_type": "execute_result"
    }
   ],
   "source": [
    "Image('VIFT.png',embed=True)"
   ]
  },
  {
   "cell_type": "code",
   "execution_count": 13,
   "metadata": {},
   "outputs": [
    {
     "name": "stdout",
     "output_type": "stream",
     "text": [
      "The mass is 0.1019367991845056 kg\n",
      "\n",
      "w = 0.10471975511965977 rad/s\n",
      "r^2 = [101.97086554547144, -0.9708655454714552]\n",
      "\n",
      "r1 = 10.098\n",
      "Cannot squareroot a negative therefore r2 has not solution\n",
      "\n",
      "wn = 0.01 rad/s\n",
      "\n",
      "The spring constant k is 0.0 N/m or 0.0 kN/m\n",
      "\n",
      "The Cc value is 0.0 Ns/m\n",
      "The damping value C is 0.0 Ns/m\n",
      "\n",
      "Maximum displacement occurs at resonance when w=wn and r=1\n",
      "w = wn = 0.01 rad/s\n",
      "\n",
      "F0 = mRw^2\n",
      "F0 = 0.0 N\n",
      "\n",
      "dst= F0/k\n",
      "dst = 9.81 m\n",
      "\n",
      "X/dst = 1/(2*(dr)*r) where r=1 because of resonance\n",
      "X = dst/(2*dr)\n",
      "X = 9.81 m\n"
     ]
    }
   ],
   "source": [
    "# Determine Excitation w\n",
    "wtype='rpm'   #insert either 'rpm', 'Hz' or 's' for seconds\n",
    "heavy='N'    #insert either 'N' or 'kg'\n",
    "kconst='not given'   #insert 'given or 'not Given\n",
    "\n",
    "rpm=1  \n",
    "\n",
    "\n",
    "Hz1=1\n",
    "Hz2=1\n",
    "\n",
    "s1=1\n",
    "s2=1\n",
    "\n",
    "m=1   #Either Newtons or kg\n",
    "g=9.81\n",
    "\n",
    "k1=1\n",
    "k2=1\n",
    "\n",
    "Tf=0.1   #Force transmission %\n",
    "dr=0.5   #Damping Ratio\n",
    "\n",
    "imbalance=1\n",
    "\n",
    "#May have to manually change r value\n",
    "\n",
    "'========================================================================================================================='\n",
    "if heavy=='N':\n",
    "    mass=m/g\n",
    "    print('The mass is {} kg'.format(mass));print()\n",
    "elif heavy=='kg':\n",
    "    mass=m\n",
    "    print('The mass is {} kg'.format(mass));print()\n",
    "if wtype=='Hz':\n",
    "    w1=2*np.pi*Hz1\n",
    "    w2=Hz2*2*np.pi\n",
    "    print('w1 = {}'.format(w1),'rad/s')\n",
    "    print('w2 = {}'.format(w2),'rad/s');print()\n",
    "\n",
    "elif wtype=='s':\n",
    "    w1=1/s1*2*np.pi\n",
    "    w2=1/s2*2*np.pi\n",
    "    print('w1 = {}'.format(w1))\n",
    "    print('w2 = {}'.format(w2))\n",
    "\n",
    "elif wtype=='rpm':\n",
    "    w=2*np.pi*rpm/60\n",
    "    print('w = {} rad/s'.format(w))\n",
    "\n",
    "\n",
    "#Force transmissibility - calculating r\n",
    "\n",
    "a=Tf**2\n",
    "b=-2*Tf**2+4*dr**2*Tf**2-4*dr**2\n",
    "c=Tf**2-1\n",
    "d=b**2-4*a*c\n",
    "r2sol1=(-b+np.sqrt(d))/(2*a)  #Solving Quadratic Eqn\n",
    "r2sol2=(-b-np.sqrt(d))/(2*a)  #Solving Quadratic Eqn\n",
    "r2=[r2sol1,r2sol2]\n",
    "print('r^2 = {}'.format(r2));print()\n",
    "if r2[0]>=0:\n",
    "    r1=np.sqrt(r2[0])\n",
    "    print('r1 = {}'.format(round(r1,3)))\n",
    "else:\n",
    "    print('Cannot squareroot a negative therefore r1 has not solution')\n",
    "    \n",
    "if r2[1]>=0:\n",
    "    r2=np.sqrt(r2[1])\n",
    "    print('r2 = {}'.format(round(r2,2)))\n",
    "else:\n",
    "    print('Cannot squareroot a negative therefore r2 has not solution')\n",
    "print()\n",
    "\n",
    "    \n",
    "r=r1   #Change to either r1 or r2 based on which is positive  \n",
    "\n",
    "#Find natural frequency wn\n",
    "wn=w/r\n",
    "print('wn = {} rad/s'.format(round(wn,2)));print()\n",
    "\n",
    "#Find spring constant k\n",
    "k=mass*wn**2\n",
    "print('The spring constant k is {} N/m or {} kN/m'.format(round(k,2),round(k/1000,2)));print()\n",
    "\n",
    "#Find Critical Damping Constant\n",
    "Cc=2*np.sqrt(k*mass)\n",
    "print('The Cc value is {} Ns/m'.format(round(Cc,2)))\n",
    "\n",
    "#Find damping value\n",
    "C=dr*Cc\n",
    "print('The damping value C is {} Ns/m'.format(round(C,2)))\n",
    "\n",
    "#Determining maxmimum displacement\n",
    "print()\n",
    "print('Maximum displacement occurs at resonance when w=wn and r=1')\n",
    "w=wn\n",
    "print('w = wn = {} rad/s'.format(round(w,2)));print()\n",
    "\n",
    "print('F0 = mRw^2')\n",
    "F0=imbalance*w**2\n",
    "print('F0 = {} N'.format(round(F0,2)));print()\n",
    "\n",
    "print('dst= F0/k')\n",
    "dst=F0/k\n",
    "print('dst = {} m'.format(round(dst,5)));print()\n",
    "\n",
    "print('X/dst = 1/(2*(dr)*r) where r=1 because of resonance')\n",
    "print('X = dst/(2*dr)')\n",
    "X=dst/(2*dr)\n",
    "print('X = {} m'.format(round(X,5)))\n",
    "\n"
   ]
  },
  {
   "cell_type": "markdown",
   "metadata": {},
   "source": [
    "## Unbalanced Masses"
   ]
  },
  {
   "cell_type": "markdown",
   "metadata": {},
   "source": [
    "##### Single Plane Balancing"
   ]
  },
  {
   "cell_type": "code",
   "execution_count": 14,
   "metadata": {},
   "outputs": [
    {
     "name": "stdout",
     "output_type": "stream",
     "text": [
      "The imbalanced magnitude is 67.37 g and the phase angle is 163.14 degrees:\n",
      "\n",
      "The balanced magnitude is 67.37 g and the phase angle is -16.86 degrees:\n"
     ]
    }
   ],
   "source": [
    "#Finding magnitude and direction of balancing mass\n",
    "\n",
    "#Define Vectors with CCW as +\n",
    "#The formula is z=Ae^(itheta)\n",
    "\n",
    "trialmassmetric='g'\n",
    "trtialdispmetrix='mm'\n",
    "trial_ang='clockwise' #insert 'clockwise' or 'ccw'\n",
    "\n",
    "orig_ampl=0.25\n",
    "orig_ang=40\n",
    "\n",
    "trialmass=170\n",
    "trialang=65\n",
    "trialamp=0.5\n",
    "trialphaseang=150\n",
    "\n",
    "radialdist=65\n",
    "'========================================================================================================================='\n",
    "if trial_ang=='clockwise':\n",
    "    trial_angle=360-trialang\n",
    "elif trial_ang =='ccw':\n",
    "    trial_angle=trialang\n",
    "V=orig_ampl*np.exp(orig_ang*1j*np.pi/180)  #Original unbalance\n",
    "W=trialmass*np.exp((trial_angle)*1j*np.pi/180)   #Added Weight\n",
    "Vp=trialamp*np.exp(trialphaseang*np.pi*1j/180)\n",
    "\n",
    "A=(Vp-V)/W\n",
    "U=V/A\n",
    "B=-U\n",
    "\n",
    "#Imbalance\n",
    "Um=abs(U)   #Imbalance Magnitude\n",
    "Ua=cmath.phase(U)*180/np.pi   #Imbalance Angle\n",
    "\n",
    "#Balance\n",
    "Bm=abs(B)\n",
    "Ba=cmath.phase(B)*180/np.pi\n",
    "\n",
    "print('The imbalanced magnitude is {} {} and the phase angle is {} degrees:'.format(round(Um,2),trialmassmetric,round(Ua,2)))\n",
    "print()\n",
    "print('The balanced magnitude is {} {} and the phase angle is {} degrees:'.format(round(Bm,2),trialmassmetric,round(Ba,2)))"
   ]
  },
  {
   "cell_type": "markdown",
   "metadata": {},
   "source": [
    "##### Two-plane balancing "
   ]
  },
  {
   "cell_type": "code",
   "execution_count": 15,
   "metadata": {},
   "outputs": [
    {
     "data": {
      "image/png": "[encoded data removed]",
      "text/plain": [
       "<IPython.core.display.Image object>"
      ]
     },
     "execution_count": 15,
     "metadata": {},
     "output_type": "execute_result"
    }
   ],
   "source": [
    "Image('Twoplane.png',embed=True)"
   ]
  },
  {
   "cell_type": "code",
   "execution_count": 16,
   "metadata": {},
   "outputs": [
    {
     "name": "stdout",
     "output_type": "stream",
     "text": [
      "The left balance magnitude is 299.1 g with a phase angle of -31.07 degrees.\n",
      "The right balance magnitude is 183.53 g with a phase angle of 61.55 degrees.\n"
     ]
    }
   ],
   "source": [
    "# Given a table\n",
    "\n",
    "trialmassmetric='g'\n",
    "trialdispmetric='mm'\n",
    "\n",
    "\n",
    "Amag=0.2          #Original unbalance magnitude at point A\n",
    "Aang=60           #Original unbalance phase angle at point A\n",
    "Bmag=0.16         #Original unbalance phase angle at point B\n",
    "Bang=205          #Original unbalance phase angle at point B\n",
    "\n",
    "WLAmag=0.15\n",
    "WLAang=125\n",
    "WLBmag=0.1\n",
    "WLBang=230\n",
    "\n",
    "WRAmag=0.15\n",
    "WRAang=35\n",
    "WRBmag=0.25\n",
    "WRBang=160\n",
    "\n",
    "ConditionWLmass=300\n",
    "ConditionWLangle=270\n",
    "ConditionWRmass=340\n",
    "ConditionWRang=180\n",
    "\n",
    "\n",
    "'=========================================================================================================================='\n",
    "VA=Amag*np.exp(Aang*1j*np.pi/180)\n",
    "VB=Bmag*np.exp(Bang*1j*np.pi/180)\n",
    "VAp=WLAmag*np.exp(WLAang*1j*np.pi/180)\n",
    "VBp=WLBmag*np.exp(WLBang*1j*np.pi/180)\n",
    "VApp=WRAmag*np.exp(WRAang*1j*np.pi/180)\n",
    "VBpp=WRBmag*np.exp(WRBang*1j*np.pi/180)\n",
    "WL=ConditionWLmass*np.exp(ConditionWLangle*1j*np.pi/180)\n",
    "WR=ConditionWRmass*np.exp(ConditionWRang*1j*np.pi/180)\n",
    "\n",
    "#Transfer Weight to Ends\n",
    "AAL=(VAp-VA)/WL\n",
    "ABL=(VBp-VB)/WL\n",
    "AAR=(VApp-VA)/WR\n",
    "ABR=(VBpp-VB)/WR\n",
    "\n",
    "#Calculate Unbalances\n",
    "UL=(ABR*VA-AAR*VB)/(ABR*AAL-AAR*ABL)\n",
    "UR=(ABL*VA-AAL*VB)/(ABL*AAR-AAL*ABR)\n",
    "\n",
    "#Calculate Balances\n",
    "BL=-UL\n",
    "BR=-UR\n",
    "\n",
    "#Solution\n",
    "BLmag=abs(BL)\n",
    "BLang=np.angle(BL)*180/np.pi\n",
    "BRmag=abs(BR)\n",
    "BRang=np.angle(BR)*180/np.pi\n",
    "\n",
    "print('The left balance magnitude is {} {} with a phase angle of {} degrees.'.format(round(BLmag,2),trialmassmetric,round(BLang,2)))\n",
    "print('The right balance magnitude is {} {} with a phase angle of {} degrees.'.format(round(BRmag,2),trialmassmetric,round(BRang,2)))"
   ]
  },
  {
   "cell_type": "code",
   "execution_count": 19,
   "metadata": {},
   "outputs": [],
   "source": [
    "import numpy as np\n",
    "import sympy as sp\n",
    "import cmath as cm\n",
    "from IPython.display import display as dsp\n",
    "import matplotlib.pyplot as plt"
   ]
  },
  {
   "cell_type": "code",
   "execution_count": 20,
   "metadata": {},
   "outputs": [
    {
     "name": "stdout",
     "output_type": "stream",
     "text": [
      "A response = 0.0008411685373007849 ang -123.13778127840581\n",
      "U response = 297.2056002025727 ang 163.1377812784058\n",
      "Balancing = 297.2056002025727 ang -16.8622187215942\n"
     ]
    }
   ],
   "source": [
    "#single Plane\n",
    "# V = AU             V' = AU + AW\n",
    "#z = Ae^(i*theta)\n",
    "\n",
    "Ai = 0.25\n",
    "th1 = np.radians(40)\n",
    "\n",
    "w = 750\n",
    "thw = np.radians(360-65)\n",
    "\n",
    "Ar = 0.5\n",
    "thr = np.radians(150)\n",
    "\n",
    "V = Ai*np.exp(th1*1j)\n",
    "W = w*np.exp(thw*1j)\n",
    "Vp = Ar*np.exp(thr*1j)\n",
    "\n",
    "A = (Vp-V)/W\n",
    "a = cm.polar(A)\n",
    "print('A response =', a[0],'ang',np.degrees(a[1]))\n",
    "U = V/A\n",
    "u = cm.polar(U)\n",
    "print('U response =',u[0],'ang',np.degrees(u[1]))\n",
    "B = -U\n",
    "b = cm.polar(B)\n",
    "print('Balancing =',b[0],'ang',np.degrees(b[1]))\n",
    "\n",
    "# radius effect not included"
   ]
  },
  {
   "cell_type": "code",
   "execution_count": 21,
   "metadata": {},
   "outputs": [
    {
     "name": "stdout",
     "output_type": "stream",
     "text": [
      "mc*rc = 3354.798454595729\n",
      "u4 = 3354.798454595729 ang 154.44787679885317\n",
      "sum(u) 0j\n"
     ]
    }
   ],
   "source": [
    "#P9.3\n",
    "m1=35\n",
    "m2=15\n",
    "m3=25\n",
    "r1=110\n",
    "r2=90\n",
    "r3=130\n",
    "\n",
    "th1 = np.radians(40)\n",
    "th2 = np.radians(220)\n",
    "th3 = np.radians(290)\n",
    "\n",
    "u1 = m1*r1*np.exp(th1*1j)\n",
    "u2 = m2*r2*np.exp(th2*1j)\n",
    "u3 = m3*r3*np.exp(th3*1j)\n",
    "\n",
    "u = -1*(u1+u2+u3)\n",
    "u4 = cm.polar(u)\n",
    "print('mc*rc =',u4[0])\n",
    "print('u4 =',u4[0],'ang',np.degrees(u4[1]))\n",
    "sums = u1+u2+u3+u\n",
    "print('sum(u)',sums)"
   ]
  },
  {
   "cell_type": "code",
   "execution_count": 22,
   "metadata": {},
   "outputs": [
    {
     "name": "stdout",
     "output_type": "stream",
     "text": [
      "(0.25618056098159053-0.15436791905828656j)\n",
      "(0.08742161350560944+0.16137293859732477j)\n",
      "left balance BL= 0.29909519263811 ang -31.072102588532477\n",
      "right balance BR= 0.18353137012363882 ang 61.553977254076194\n"
     ]
    }
   ],
   "source": [
    "#Two plane balancing\n",
    "Wl = 0.300\n",
    "pwl = np.radians(270)\n",
    "Wr=0.340\n",
    "pwr =np.radians(180)\n",
    "\n",
    "WL=Wl*np.exp(pwl*1j)\n",
    "WR=Wr*np.exp(pwr*1j)\n",
    "\n",
    "Aa=0.2\n",
    "Al=0.15\n",
    "Ar=0.15\n",
    "\n",
    "Bb=0.16\n",
    "Bl=0.1\n",
    "Br=0.25\n",
    "\n",
    "pa=np.radians(60)\n",
    "pal=np.radians(125)\n",
    "par=np.radians(35)\n",
    "\n",
    "pb=np.radians(205)\n",
    "pbl=np.radians(230)\n",
    "pbr=np.radians(160)\n",
    "\n",
    "Va=Aa*np.exp(pa*1j)\n",
    "Vb=Bb*np.exp(pb*1j)\n",
    "\n",
    "Vap=Al*np.exp(pal*1j)\n",
    "Vbp=Bl*np.exp(pbl*1j)\n",
    "\n",
    "Vapp=Ar*np.exp(par*1j)\n",
    "Vbpp=Br*np.exp(pbr*1j)\n",
    "\n",
    "AAL=(Vap-Va)/WL\n",
    "ABL=(Vbp-Vb)/WL\n",
    "\n",
    "AAR=(Vapp-Va)/WR\n",
    "ABR=(Vbpp-Vb)/WR\n",
    "\n",
    "UL = (ABR*Va-AAR*Vb)/(ABR*AAL-AAR*ABL)\n",
    "UR = (ABL*Va-AAL*Vb)/(ABL*AAR-AAL*ABR)\n",
    "\n",
    "BL=-UL\n",
    "print(BL)\n",
    "BR=-UR\n",
    "print(BR)\n",
    "\n",
    "bl = cm.polar(BL)\n",
    "br = cm.polar(BR)\n",
    "\n",
    "print('left balance BL=',bl[0],'ang',np.degrees(bl[1]))\n",
    "print('right balance BR=',br[0],'ang',np.degrees(br[1]))"
   ]
  },
  {
   "cell_type": "code",
   "execution_count": 23,
   "metadata": {},
   "outputs": [
    {
     "name": "stdout",
     "output_type": "stream",
     "text": [
      "MB = 12.033914263744716 ang 90.0\n",
      "MA = 18.821188773548638 ang 90.0\n"
     ]
    }
   ],
   "source": [
    "#Balancing problem\n",
    "\n",
    "R1=0.254\n",
    "R2=0.102\n",
    "R3=0.203\n",
    "\n",
    "R=0.051\n",
    "\n",
    "M1=2.27\n",
    "M2=0.454\n",
    "M3=0.907\n",
    "\n",
    "p1= np.radians(90)\n",
    "p2 = np.radians(270)\n",
    "p3 = np.radians(270)\n",
    "\n",
    "#A as reference\n",
    "\n",
    "L1 = -0.076\n",
    "L2 = 0\n",
    "L3 = 0.102\n",
    "#calc moments about A to get MB\n",
    "\n",
    "MB = (-L1*M1*R1*np.exp(p1*1j)-L3*M3*R3*np.exp(p3*1j))/(L3*R)\n",
    "mb = cm.polar(MB)\n",
    "print('MB =',mb[0],'ang',np.degrees(mb[1]))\n",
    "\n",
    "#B as ref\n",
    "\n",
    "l1 = 0.102+0.051+0.025\n",
    "l2 = 0.102\n",
    "l3 = 0\n",
    "\n",
    "MA = (l1*R1*M1*np.exp(p1*1j)+l2*R2*M2*np.exp(p2*1j))/(l2*R)\n",
    "ma = cm.polar(MA)\n",
    "print('MA =',ma[0],'ang',np.degrees(ma[1]))\n"
   ]
  },
  {
   "cell_type": "code",
   "execution_count": 24,
   "metadata": {},
   "outputs": [
    {
     "name": "stdout",
     "output_type": "stream",
     "text": [
      "primary forces in x = -3.3994067171188244e-13\n",
      "secondary forces in x = 0.0\n",
      "primary forces in y = 0.0\n",
      "primary moment about y = 277.58262378063824\n",
      "secondary moments about y = 83.27478713419146\n",
      "0.0\n"
     ]
    }
   ],
   "source": [
    "#recip engine\n",
    "#4 in-line with ref plane in middle\n",
    "\n",
    "mp = 1.5\n",
    "mc = 0\n",
    "r = 0.15/2\n",
    "w = 1500*2*np.pi/60\n",
    "l = 1\n",
    "\n",
    "alpha = np.radians(np.array([0,180,90,270]))\n",
    "\n",
    "Fxp = (mp+mc)*r*w**2*(np.cos(alpha[0])+ np.cos(alpha[1])+np.cos(alpha[2])+np.cos(alpha[3]))\n",
    "cp = np.array([np.cos(alpha[0]), np.cos(alpha[1]), np.cos(alpha[2]), np.cos(alpha[3])])\n",
    "print('primary forces in x =',Fxp)\n",
    "\n",
    "Fxs = mp*(r**2*w**2/l)*(np.cos(2*alpha[0])+ np.cos(2*alpha[1])+np.cos(2*alpha[2])+np.cos(2*alpha[3]))\n",
    "cs = np.array([np.cos(2*alpha[0]), np.cos(2*alpha[1]),np.cos(2*alpha[2]),np.cos(2*alpha[3])])\n",
    "print('secondary forces in x =',Fxs)\n",
    "\n",
    "Fyp = -mc*r*w**2*(np.sin(alpha[0])+ np.sin(alpha[1])+np.sin(alpha[2])+np.sin(alpha[3]))\n",
    "sp = np.array([np.sin(alpha[0]), np.sin(alpha[1]),np.sin(alpha[2]),np.sin(alpha[3])])\n",
    "print('primary forces in y =',Fyp)\n",
    "\n",
    "Myp = (mp+mc)*r*w**2*(0.15*cp[0] +0.05*cp[1] -0.05*cp[2] - 0.15*cp[3])\n",
    "print('primary moment about y =', Myp)\n",
    "Mys = mp*(r**2*w**2/l)*(0.15*cs[0] +0.05*cs[1] -0.05*cs[2] - 0.15*cs[3])\n",
    "print('secondary moments about y =',Mys)\n",
    "\n",
    "Mxp = -mc*r*w**2*(0.15*sp[0] +0.05*sp[1] -0.05*sp[2] - 0.15*sp[3])\n",
    "print(Mxp)"
   ]
  },
  {
   "cell_type": "code",
   "execution_count": 25,
   "metadata": {},
   "outputs": [
    {
     "data": {
      "text/plain": [
       "[0, k/m2 + k/m1]"
      ]
     },
     "metadata": {},
     "output_type": "display_data"
    },
    {
     "data": {
      "text/plain": [
       "'x2 ='"
      ]
     },
     "metadata": {},
     "output_type": "display_data"
    },
    {
     "data": {
      "text/plain": [
       "[F*k/(w**2*(-k*m1 - k*m2 + m1*m2*w**2))]"
      ]
     },
     "metadata": {},
     "output_type": "display_data"
    },
    {
     "data": {
      "text/plain": [
       "'x1='"
      ]
     },
     "metadata": {},
     "output_type": "display_data"
    },
    {
     "data": {
      "text/plain": [
       "[F*(-k + m2*w**2)/(w**2*(k*m1 + k*m2 - m1*m2*w**2))]"
      ]
     },
     "metadata": {},
     "output_type": "display_data"
    }
   ],
   "source": [
    "#vibration isolation example\n",
    "import sympy as sp\n",
    "x1,x2,m1,m2,w,k,F = sp.symbols('x1,x2,m1,m2,w,k,F')\n",
    "\n",
    "y= sp.Matrix([[k-m1*w**2, -k],[-k, k-m2*w**2]])\n",
    "f = sp.Matrix([[F],[0]])\n",
    "sol = sp.det(y)\n",
    "\n",
    "eqn = sp.Eq(sol,0)\n",
    "\n",
    "ans = sp.solve(eqn,w**2)\n",
    "\n",
    "dsp(ans)\n",
    "\n",
    "eqn2 = (x2*(k-m2*w**2))/k - (F+x2*k)/(k-m1*w**2)\n",
    "\n",
    "ans2 = sp.solve(eqn2,x2)\n",
    "\n",
    "dsp(\"x2 =\", ans2)\n",
    "\n",
    "eqn1 = sp.Eq(x1*k/(k-m2*w**2) + F/k - (x1*(k-m1*w**2))/k, 0)\n",
    "\n",
    "ans1 = sp.solve(eqn1,x1)\n",
    "\n",
    "dsp('x1=',ans1)\n"
   ]
  },
  {
   "cell_type": "code",
   "execution_count": 26,
   "metadata": {},
   "outputs": [
    {
     "name": "stdout",
     "output_type": "stream",
     "text": [
      "max stiffness for 75.0% isolation = 789568.352087149/(k/m2 + k/m1)**2 N/m\n"
     ]
    }
   ],
   "source": [
    "#isolation washing machine prob\n",
    "#SP 9.32\n",
    "r = sp.symbols('r')\n",
    "isolation = 75/100\n",
    "Tr = 1 - isolation\n",
    "Z = 7/100\n",
    "m = 50\n",
    "rpm = 1200\n",
    "w = rpm*np.pi/30\n",
    "\n",
    "eqn = sp.Eq((1+(2*Z*r)**2)/((1-r**2)**2+(2*Z*r)**2) - Tr**2,0)\n",
    "\n",
    "r_ans = sp.solve(eqn,r)\n",
    "\n",
    "r_max = ans[1]\n",
    "\n",
    "wn = w/r_max\n",
    "\n",
    "k_max = wn**2*m\n",
    "\n",
    "print('max stiffness for {}% isolation = {} N/m'.format(isolation*100,k_max))"
   ]
  },
  {
   "cell_type": "code",
   "execution_count": 27,
   "metadata": {},
   "outputs": [
    {
     "data": {
      "text/plain": [
       "'nat freq'"
      ]
     },
     "metadata": {},
     "output_type": "display_data"
    },
    {
     "data": {
      "text/plain": [
       "[(k1*m2 + k2*m1 + k2*m2 - sqrt(k1**2*m2**2 - 2*k1*k2*m1*m2 + 2*k1*k2*m2**2 + k2**2*m1**2 + 2*k2**2*m1*m2 + k2**2*m2**2))/(2*m1*m2),\n",
       " (k1*m2 + k2*m1 + k2*m2 + sqrt(k1**2*m2**2 - 2*k1*k2*m1*m2 + 2*k1*k2*m2**2 + k2**2*m1**2 + 2*k2**2*m1*m2 + k2**2*m2**2))/(2*m1*m2)]"
      ]
     },
     "metadata": {},
     "output_type": "display_data"
    },
    {
     "data": {
      "text/plain": [
       "'x2 ='"
      ]
     },
     "metadata": {},
     "output_type": "display_data"
    },
    {
     "data": {
      "text/plain": [
       "[F*k2/(k1*k2 - k1*m2*w**2 - k2*m1*w**2 - k2*m2*w**2 + m1*m2*w**4)]"
      ]
     },
     "metadata": {},
     "output_type": "display_data"
    },
    {
     "data": {
      "text/plain": [
       "'x1='"
      ]
     },
     "metadata": {},
     "output_type": "display_data"
    },
    {
     "data": {
      "text/plain": [
       "[F*(-k2 + m2*w**2)/(-k1*k2 + k1*m2*w**2 + k2*m1*w**2 + k2*m2*w**2 - m1*m2*w**4)]"
      ]
     },
     "metadata": {},
     "output_type": "display_data"
    },
    {
     "name": "stdout",
     "output_type": "stream",
     "text": [
      "k1*k2 - k1*m2*w**2 - k2*m1*w**2 - k2*m2*w**2 + m1*m2*w**4\n"
     ]
    }
   ],
   "source": [
    "#Absorbers (heli)\n",
    "import sympy as sp\n",
    "x1,x2,m1,m2,w,k1,k2,F = sp.symbols('x1,x2,m1,m2,w,k1,k2,F')\n",
    "\n",
    "y= sp.Matrix([[k1+k2-m1*w**2, -k2],[-k2, k2-m2*w**2]])\n",
    "f = sp.Matrix([[F],[0]])\n",
    "sol = sp.det(y)\n",
    "\n",
    "eqn = sp.Eq(sol,0)\n",
    "\n",
    "ans = sp.solve(eqn,w**2)\n",
    "\n",
    "dsp('nat freq',ans)\n",
    "\n",
    "eqn2 = sp.Eq((F+x2*k2)/(k1+k2-m1*w**2)- (x2*(k2-m2*w**2))/k2,0)\n",
    "\n",
    "ans2 = sp.solve(eqn2,x2)\n",
    "\n",
    "dsp(\"x2 =\", ans2)\n",
    "\n",
    "eqn1 = sp.Eq((x1*(k1+k2-m1*w**2)-F)/k2 - x1*k2/(k2-m2*w**2),0)\n",
    "\n",
    "ans1 = sp.solve(eqn1,x1)\n",
    "\n",
    "dsp('x1=',ans1)\n",
    "\n",
    "p = sp.expand((k1+k2-m1*w**2)*(k2-m2*w**2) -k2**2)\n",
    "\n",
    "print(p)"
   ]
  },
  {
   "cell_type": "code",
   "execution_count": 28,
   "metadata": {},
   "outputs": [
    {
     "data": {
      "image/png": "[encoded data removed]",
      "text/plain": [
       "<Figure size 432x288 with 1 Axes>"
      ]
     },
     "metadata": {
      "needs_background": "light"
     },
     "output_type": "display_data"
    }
   ],
   "source": [
    "#ignore\n",
    "import numpy as np\n",
    "import matplotlib.pyplot as plt\n",
    "from numpy import linspace\n",
    "r = linspace(0.6,1.6,100 )\n",
    "w = 1\n",
    "w1=w2=w/r\n",
    "k1 = w1**2*20\n",
    "k2 = w2**2*1\n",
    "dx1 = (1-r**2)/((1+(k2/k1)-r**2)*(1-r**2)-(k2/k1))\n",
    "dx2 = 1/((1+(k2/k1)-r**2)*(1-r**2)-(k2/k1))\n",
    "plt.figure(1)\n",
    "plt.plot(r, dx1,'r', label = 'displacement transmissibility 1')\n",
    "plt.plot(r, dx2,'b', label = 'displacement transmissibility 2')\n",
    "plt.xlabel('frequency ratio [w/w1]', fontsize = 12)\n",
    "plt.ylabel('magnification factor[X/del_syst]')\n",
    "plt.legend()\n",
    "plt.show()"
   ]
  },
  {
   "cell_type": "code",
   "execution_count": 29,
   "metadata": {},
   "outputs": [
    {
     "name": "stdout",
     "output_type": "stream",
     "text": [
      "mu 1 = []\n",
      "mu 2 = [0.134444444444444]\n"
     ]
    }
   ],
   "source": [
    "#r1,r2 absorber Q\n",
    "# determine mass and spring constant if natural freq of syst to be at least 20% away from impressed freq\n",
    "#P9.67\n",
    "\n",
    "mu = sp.symbols('mu')\n",
    "r1 = 0.8\n",
    "r2 = 1.2\n",
    "r21 = 1                    #(w2/w1) assump\n",
    "\n",
    "eqn1 = sp.Eq(((1 + (1+mu)*(r21)**2) - ((1+ (1+mu)*r21**2)**2 -4*(r21)**2)**0.5)/(2*r21**2) - r1**2)\n",
    "\n",
    "ans1 = sp.solve(eqn,mu)\n",
    "\n",
    "eqn2 = sp.Eq(((1 + (1+mu)*(r21)**2) + ((1+ (1+mu)*r21**2)**2 -4*(r21)**2)**0.5)/(2*r21**2) - r2**2)\n",
    "\n",
    "ans2 = sp.solve(eqn2,mu)\n",
    "\n",
    "print('mu 1 =',ans1)\n",
    "print('mu 2 =',ans2)"
   ]
  },
  {
   "cell_type": "code",
   "execution_count": null,
   "metadata": {},
   "outputs": [],
   "source": []
  }
 ],
 "metadata": {
  "kernelspec": {
   "display_name": "Python 3",
   "language": "python",
   "name": "python3"
  },
  "language_info": {
   "codemirror_mode": {
    "name": "ipython",
    "version": 3
   },
   "file_extension": ".py",
   "mimetype": "text/x-python",
   "name": "python",
   "nbconvert_exporter": "python",
   "pygments_lexer": "ipython3",
   "version": "3.7.4"
  }
 },
 "nbformat": 4,
 "nbformat_minor": 4
}
