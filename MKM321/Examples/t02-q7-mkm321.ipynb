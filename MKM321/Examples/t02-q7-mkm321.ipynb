{
 "cells": [
  {
   "cell_type": "code",
   "execution_count": 19,
   "source": [
    "import sympy as sp\r\n",
    "from sympy import SingularityFunction as mac\r\n",
    "\r\n",
    "p, m0, q, ra, ma, rb, rd, rf, rg, c1, c2, c3 = sp.symbols(\r\n",
    "    'P, M_0, q, R_A, M_A, R_B, R_D, R_F, R_G, C_1:4'\r\n",
    ")\r\n",
    "x, d, e, i, b, h = sp.symbols('x, d, E, I, b, h', positive=True)\r\n",
    "\r\n",
    "unknowns = [c1, c2, ma, ra, rb, rd, rf, rg]\r\n",
    "\r\n",
    "# Known values for later subs\r\n",
    "knowns_q7 = {\r\n",
    "    d: 250e-3,\r\n",
    "    p: 1e3,\r\n",
    "    m0: 0,\r\n",
    "    q: 1e3,\r\n",
    "    e: 210e9,\r\n",
    "    b: 25e-3,\r\n",
    "    h: 50e-3,\r\n",
    "    i: 0,\r\n",
    "}\r\n",
    "\r\n",
    "# Distances\r\n",
    "ab = 2 * d\r\n",
    "ac = ab + d\r\n",
    "ad = ac + 1.5 * d\r\n",
    "ae = ad + 1.5 * d\r\n",
    "af = ae + 2 * d\r\n",
    "ag = af + 3 * d\r\n",
    "l = ag + .5 * d\r\n",
    "fl = 3.5 * d\r\n",
    "\r\n",
    "# Calculating I\r\n",
    "i_eq = b * h ** 3 / 12\r\n",
    "knowns_q7[i] = i_eq.subs(knowns_q7)\r\n",
    "\r\n",
    "# Functions\r\n",
    "sx = sp.Function('V')(x)\r\n",
    "mx = sp.Function('M')(x)\r\n",
    "thx = sp.Function('theta')(x)\r\n",
    "vx = sp.Function('v')(x)\r\n",
    "\r\n",
    "# Force equilibrium\r\n",
    "f_sum_eq = sp.Eq(rb + rd + rf + rg, ra + p + q * fl)\r\n",
    "# Moment equilibrium\r\n",
    "m_sum_eq = sp.Eq(\r\n",
    "    rb * ab + rd * ad + rf * af + rg * ag,\r\n",
    "    ma + p * ac + m0 + q * fl * (af + fl / 2)\r\n",
    ")\r\n",
    "\r\n",
    "display(f_sum_eq.subs(knowns_q7))\r\n",
    "display(m_sum_eq.subs(knowns_q7))\r\n",
    "\r\n",
    "# Moment equation using Macaulay's method\r\n",
    "#  \"mac\" is a shorthand for the sp.SingularityFunction method, \r\n",
    "#  which is essentially  Macaulay bracket notation: \r\n",
    "#   <x - a>^n <---> mac(x, a, n)\r\n",
    "m_eq = - ra * mac(x, 0, 1) + ma * mac(x, 0, 0) + rb * mac(x, ab, 1) \\\r\n",
    "            - p * mac(x, ac, 1) + rd * mac(x, ad, 1) + m0 * mac(x, ae, 0) \\\r\n",
    "                + rf * mac(x, af, 1) - q / 2 * mac(x, af, 2) + rg * mac(x, ag, 1)\r\n",
    "\r\n",
    "# Shear force equation obtained by differentiating m_eq wrt x\r\n",
    "s_eq = sp.diff(m_eq, x)\r\n",
    "# Slope equation obtained from integrating m_eq once wrt x\r\n",
    "th_eq = sp.integrate(m_eq / (e * i), x) + c1\r\n",
    "# Deflection equation obtained from integrating m_eq twice wrt x\r\n",
    "v_eq = sp.integrate(th_eq, x) + c2\r\n",
    "\r\n",
    "display(sp.Eq(sx, s_eq))\r\n",
    "display(sp.Eq(mx, m_eq))\r\n",
    "display(sp.Eq(thx, th_eq))\r\n",
    "display(sp.Eq(vx, v_eq))\r\n",
    "\r\n",
    "# Boundary and continuity conditions\r\n",
    "#  Substitute\r\n",
    "v0_eq = v_eq.subs(x, 0).subs(knowns_q7)\r\n",
    "th0_eq = th_eq.subs(x, 0).subs(knowns_q7)\r\n",
    "vb_eq = v_eq.subs(x, ab).subs(knowns_q7)\r\n",
    "vd_eq = v_eq.subs(x, ad).subs(knowns_q7)\r\n",
    "vf_eq = v_eq.subs(x, af).subs(knowns_q7)\r\n",
    "vg_eq = v_eq.subs(x, ag).subs(knowns_q7)\r\n",
    "ml_eq = m_eq.subs(x, l).subs(knowns_q7)\r\n",
    "sl_eq = s_eq.subs(x, l).subs(knowns_q7)\r\n",
    "\r\n",
    "mat_a, mat_b = sp.linear_eq_to_matrix(\r\n",
    "    [v0_eq, th0_eq, vb_eq, vd_eq, vf_eq, vg_eq, ml_eq, sl_eq],\r\n",
    "    unknowns\r\n",
    ")"
   ],
   "outputs": [
    {
     "output_type": "display_data",
     "data": {
      "text/latex": [
       "$\\displaystyle R_{B} + R_{D} + R_{F} + R_{G} = R_{A} + 1875.0$"
      ],
      "text/plain": [
       "Eq(R_B + R_D + R_F + R_G, R_A + 1875.0)"
      ]
     },
     "metadata": {}
    },
    {
     "output_type": "display_data",
     "data": {
      "text/latex": [
       "$\\displaystyle 0.5 R_{B} + 1.125 R_{D} + 2.0 R_{F} + 2.75 R_{G} = M_{A} + 2882.8125$"
      ],
      "text/plain": [
       "Eq(0.5*R_B + 1.125*R_D + 2.0*R_F + 2.75*R_G, M_A + 2882.8125)"
      ]
     },
     "metadata": {}
    },
    {
     "output_type": "display_data",
     "data": {
      "text/latex": [
       "$\\displaystyle V{\\left(x \\right)} = M_{0} {\\left\\langle - 6.0 d + x \\right\\rangle}^{-1} - P {\\left\\langle - 3 d + x \\right\\rangle}^{0} - R_{A} + R_{B} {\\left\\langle - 2 d + x \\right\\rangle}^{0} + R_{D} {\\left\\langle - 4.5 d + x \\right\\rangle}^{0} + R_{F} {\\left\\langle - 8.0 d + x \\right\\rangle}^{0} + R_{G} {\\left\\langle - 11.0 d + x \\right\\rangle}^{0} - q {\\left\\langle - 8.0 d + x \\right\\rangle}^{1}$"
      ],
      "text/plain": [
       "Eq(V(x), M_0*SingularityFunction(x, 6.0*d, -1) - P*SingularityFunction(x, 3*d, 0) - R_A + R_B*SingularityFunction(x, 2*d, 0) + R_D*SingularityFunction(x, 4.5*d, 0) + R_F*SingularityFunction(x, 8.0*d, 0) + R_G*SingularityFunction(x, 11.0*d, 0) - q*SingularityFunction(x, 8.0*d, 1))"
      ]
     },
     "metadata": {}
    },
    {
     "output_type": "display_data",
     "data": {
      "text/latex": [
       "$\\displaystyle M{\\left(x \\right)} = M_{0} {\\left\\langle - 6.0 d + x \\right\\rangle}^{0} + M_{A} - P {\\left\\langle - 3 d + x \\right\\rangle}^{1} - R_{A} x + R_{B} {\\left\\langle - 2 d + x \\right\\rangle}^{1} + R_{D} {\\left\\langle - 4.5 d + x \\right\\rangle}^{1} + R_{F} {\\left\\langle - 8.0 d + x \\right\\rangle}^{1} + R_{G} {\\left\\langle - 11.0 d + x \\right\\rangle}^{1} - \\frac{q {\\left\\langle - 8.0 d + x \\right\\rangle}^{2}}{2}$"
      ],
      "text/plain": [
       "Eq(M(x), M_0*SingularityFunction(x, 6.0*d, 0) + M_A - P*SingularityFunction(x, 3*d, 1) - R_A*x + R_B*SingularityFunction(x, 2*d, 1) + R_D*SingularityFunction(x, 4.5*d, 1) + R_F*SingularityFunction(x, 8.0*d, 1) + R_G*SingularityFunction(x, 11.0*d, 1) - q*SingularityFunction(x, 8.0*d, 2)/2)"
      ]
     },
     "metadata": {}
    },
    {
     "output_type": "display_data",
     "data": {
      "text/latex": [
       "$\\displaystyle \\theta{\\left(x \\right)} = C_{1} + \\frac{M_{0} {\\left\\langle - 6.0 d + x \\right\\rangle}^{1} + M_{A} x - \\frac{P {\\left\\langle - 3 d + x \\right\\rangle}^{2}}{2} - \\frac{R_{A} x^{2}}{2} + \\frac{R_{B} {\\left\\langle - 2 d + x \\right\\rangle}^{2}}{2} + \\frac{R_{D} {\\left\\langle - 4.5 d + x \\right\\rangle}^{2}}{2} + \\frac{R_{F} {\\left\\langle - 8.0 d + x \\right\\rangle}^{2}}{2} + \\frac{R_{G} {\\left\\langle - 11.0 d + x \\right\\rangle}^{2}}{2} - \\frac{q {\\left\\langle - 8.0 d + x \\right\\rangle}^{3}}{6}}{E I}$"
      ],
      "text/plain": [
       "Eq(theta(x), C_1 + (M_0*SingularityFunction(x, 6.0*d, 1) + M_A*x - P*SingularityFunction(x, 3*d, 2)/2 - R_A*x**2/2 + R_B*SingularityFunction(x, 2*d, 2)/2 + R_D*SingularityFunction(x, 4.5*d, 2)/2 + R_F*SingularityFunction(x, 8.0*d, 2)/2 + R_G*SingularityFunction(x, 11.0*d, 2)/2 - q*SingularityFunction(x, 8.0*d, 3)/6)/(E*I))"
      ]
     },
     "metadata": {}
    },
    {
     "output_type": "display_data",
     "data": {
      "text/latex": [
       "$\\displaystyle v{\\left(x \\right)} = C_{1} x + C_{2} + \\frac{\\frac{M_{0} {\\left\\langle - 6.0 d + x \\right\\rangle}^{2}}{2} + \\frac{M_{A} x^{2}}{2} - \\frac{P {\\left\\langle - 3 d + x \\right\\rangle}^{3}}{6} - \\frac{R_{A} x^{3}}{6} + \\frac{R_{B} {\\left\\langle - 2 d + x \\right\\rangle}^{3}}{6} + \\frac{R_{D} {\\left\\langle - 4.5 d + x \\right\\rangle}^{3}}{6} + \\frac{R_{F} {\\left\\langle - 8.0 d + x \\right\\rangle}^{3}}{6} + \\frac{R_{G} {\\left\\langle - 11.0 d + x \\right\\rangle}^{3}}{6} - \\frac{q {\\left\\langle - 8.0 d + x \\right\\rangle}^{4}}{24}}{E I}$"
      ],
      "text/plain": [
       "Eq(v(x), C_1*x + C_2 + (M_0*SingularityFunction(x, 6.0*d, 2)/2 + M_A*x**2/2 - P*SingularityFunction(x, 3*d, 3)/6 - R_A*x**3/6 + R_B*SingularityFunction(x, 2*d, 3)/6 + R_D*SingularityFunction(x, 4.5*d, 3)/6 + R_F*SingularityFunction(x, 8.0*d, 3)/6 + R_G*SingularityFunction(x, 11.0*d, 3)/6 - q*SingularityFunction(x, 8.0*d, 4)/24)/(E*I))"
      ]
     },
     "metadata": {}
    }
   ],
   "metadata": {
    "collapsed": true
   }
  },
  {
   "cell_type": "code",
   "execution_count": 20,
   "source": [
    "# Solving the system of equations\r\n",
    "solns = sp.linsolve(\r\n",
    "    [mat_a, mat_b],\r\n",
    "    unknowns\r\n",
    ").args[0]\r\n",
    "solns_dict = {sym: val.subs(knowns_q7) for sym, val in zip(unknowns, solns)}\r\n",
    "\r\n",
    "# Results\r\n",
    "for sym, val in solns_dict.items():\r\n",
    "    display(sp.Eq(sym, round(val, 6)))"
   ],
   "outputs": [
    {
     "output_type": "display_data",
     "data": {
      "text/latex": [
       "$\\displaystyle C_{1} = 0$"
      ],
      "text/plain": [
       "Eq(C_1, 0)"
      ]
     },
     "metadata": {}
    },
    {
     "output_type": "display_data",
     "data": {
      "text/latex": [
       "$\\displaystyle C_{2} = 0$"
      ],
      "text/plain": [
       "Eq(C_2, 0)"
      ]
     },
     "metadata": {}
    },
    {
     "output_type": "display_data",
     "data": {
      "text/latex": [
       "$\\displaystyle M_{A} = 33.999452$"
      ],
      "text/plain": [
       "Eq(M_A, 33.999452)"
      ]
     },
     "metadata": {}
    },
    {
     "output_type": "display_data",
     "data": {
      "text/latex": [
       "$\\displaystyle R_{A} = 203.996711$"
      ],
      "text/plain": [
       "Eq(R_A, 203.996711)"
      ]
     },
     "metadata": {}
    },
    {
     "output_type": "display_data",
     "data": {
      "text/latex": [
       "$\\displaystyle R_{B} = 876.949342$"
      ],
      "text/plain": [
       "Eq(R_B, 876.949342)"
      ]
     },
     "metadata": {}
    },
    {
     "output_type": "display_data",
     "data": {
      "text/latex": [
       "$\\displaystyle R_{D} = 324.517293$"
      ],
      "text/plain": [
       "Eq(R_D, 324.517293)"
      ]
     },
     "metadata": {}
    },
    {
     "output_type": "display_data",
     "data": {
      "text/latex": [
       "$\\displaystyle R_{F} = 399.936508$"
      ],
      "text/plain": [
       "Eq(R_F, 399.936508)"
      ]
     },
     "metadata": {}
    },
    {
     "output_type": "display_data",
     "data": {
      "text/latex": [
       "$\\displaystyle R_{G} = 477.593567$"
      ],
      "text/plain": [
       "Eq(R_G, 477.593567)"
      ]
     },
     "metadata": {}
    }
   ],
   "metadata": {}
  }
 ],
 "metadata": {
  "orig_nbformat": 4,
  "language_info": {
   "name": "python",
   "version": "3.9.0",
   "mimetype": "text/x-python",
   "codemirror_mode": {
    "name": "ipython",
    "version": 3
   },
   "pygments_lexer": "ipython3",
   "nbconvert_exporter": "python",
   "file_extension": ".py"
  },
  "kernelspec": {
   "name": "python3",
   "display_name": "Python 3.9.0 64-bit"
  },
  "interpreter": {
   "hash": "47037efd68e04929ce2e56cd65d766311c036177dfe7a5687db760f25cf24763"
  }
 },
 "nbformat": 4,
 "nbformat_minor": 2
}