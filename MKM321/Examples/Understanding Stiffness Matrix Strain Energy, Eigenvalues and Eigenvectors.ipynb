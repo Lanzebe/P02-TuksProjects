{
 "cells": [
  {
   "cell_type": "markdown",
   "metadata": {},
   "source": [
    "# Copyright 2019 Daniel N. Wilke \n",
    "# [e-mail: nico.wilke@up.ac.za]\n",
    "# [twitter: @daniwi79]"
   ]
  },
  {
   "cell_type": "markdown",
   "metadata": {},
   "source": [
    "## Consider a bar that is clamped at $x=0$ at the right edge $x=1.0$.\n",
    "## The area of the bar changes with $x$ and is given by $A(x) = 0.0002\\;m^2$.\n",
    "## The bar has a Young's modulus of $E=210$ GPa.\n",
    "## Lets investigate the properties of the global stiffness matrix (before we constrained the bar)\n",
    "## First we need to convert it to a numpy array!"
   ]
  },
  {
   "cell_type": "code",
   "execution_count": 2,
   "metadata": {},
   "outputs": [
    {
     "name": "stdout",
     "output_type": "stream",
     "text": [
      "A: 0.000200000000000000\n",
      "dxdxi 0.500000000000000\n",
      "B [2.0*xi - 1.0, 2.0*xi + 1.0, -4.0*xi]\n",
      "BT*E*B whichs is a 3x1 vector times a 1x3 vector Matrix([[(2.0*xi - 1.0)*(420000000000.0*xi - 210000000000.0), (2.0*xi + 1.0)*(420000000000.0*xi - 210000000000.0), -4.0*xi*(420000000000.0*xi - 210000000000.0)], [(2.0*xi - 1.0)*(420000000000.0*xi + 210000000000.0), (2.0*xi + 1.0)*(420000000000.0*xi + 210000000000.0), -4.0*xi*(420000000000.0*xi + 210000000000.0)], [-840000000000.0*xi*(2.0*xi - 1.0), -840000000000.0*xi*(2.0*xi + 1.0), 3360000000000.0*xi**2]])\n",
      "⎡ 98000000.0    14000000.0   -112000000.0⎤\n",
      "⎢                                        ⎥\n",
      "⎢ 14000000.0    98000000.0   -112000000.0⎥\n",
      "⎢                                        ⎥\n",
      "⎣-112000000.0  -112000000.0  224000000.0 ⎦\n"
     ]
    }
   ],
   "source": [
    "import numpy as np\n",
    "import sympy as sp\n",
    "xi = sp.symbols('xi')\n",
    "\n",
    "# Define the shape functions\n",
    "N1 = -1/2*xi*(1-xi)\n",
    "N2 = 1/2*xi*(1+xi)\n",
    "N3 = (1-xi)*(1+xi)\n",
    "\n",
    "# Isoparametric formulation - relate x and xi\n",
    "x1 = 0;x2 = 1.0;x3 = 0.5\n",
    "x = N1*x1 + N2*x2 + N3*x3\n",
    "\n",
    "# Define the area in terms of x, which in turn is related to xi - here A(xi) since x(xi).\n",
    "A = 0.0002 + 0.0001*x*0\n",
    "print('A: {}'.format(A.simplify()))\n",
    "\n",
    "E = 210E9\n",
    "L = x2 - x1\n",
    "\n",
    "# Setup a list of the shape functions N1, N2 and N3\n",
    "N = [N1,N2,N3]\n",
    "\n",
    "# Stiffness matrix\n",
    "dxdxi = sp.derive_by_array(x,xi); print('dxdxi {}'.format(dxdxi))\n",
    "dxidx = 1/dxdxi\n",
    "\n",
    "B = dxidx*sp.derive_by_array(N,xi); print('B {}'.format(B))\n",
    "Bmat = sp.Matrix(B).transpose() # sp.Matrix converts a 3 vector (3) into a column vector (3x1) by default!s\n",
    "BTEB = Bmat.transpose()*E*Bmat; print('BT*E*B whichs is a 3x1 vector times a 1x3 vector {}'.format(BTEB))\n",
    "\n",
    "integrandStiffnessMatrix = BTEB*A*dxdxi\n",
    "# 2-point Gauss Quadrature Integration\n",
    "StiffnessMatrix = 1.0*integrandStiffnessMatrix.subs({xi:-1/3**0.5}) + 1.0*integrandStiffnessMatrix.subs({xi:1/3**0.5})\n",
    "sp.pretty_print(StiffnessMatrix)"
   ]
  },
  {
   "cell_type": "markdown",
   "metadata": {},
   "source": [
    "## The way I computed the stiffness above its matrix type is:\n",
    "### sympy.matrices.dense.MutableDenseMatrix\n",
    "## although it is fully integrated to only contain numbers"
   ]
  },
  {
   "cell_type": "code",
   "execution_count": 3,
   "metadata": {},
   "outputs": [
    {
     "data": {
      "text/plain": [
       "sympy.matrices.dense.MutableDenseMatrix"
      ]
     },
     "execution_count": 3,
     "metadata": {},
     "output_type": "execute_result"
    }
   ],
   "source": [
    "type(StiffnessMatrix)"
   ]
  },
  {
   "cell_type": "markdown",
   "metadata": {},
   "source": [
    "## We can convert it to a numpy array as follows:"
   ]
  },
  {
   "cell_type": "code",
   "execution_count": 4,
   "metadata": {},
   "outputs": [
    {
     "data": {
      "text/plain": [
       "array([[98000000.0000000, 14000000.0000000, -112000000.000000],\n",
       "       [14000000.0000000, 98000000.0000000, -112000000.000000],\n",
       "       [-112000000.000000, -112000000.000000, 224000000.000000]],\n",
       "      dtype=object)"
      ]
     },
     "execution_count": 4,
     "metadata": {},
     "output_type": "execute_result"
    }
   ],
   "source": [
    "StiffnessMatrixNPOBJECT = np.array(StiffnessMatrix)\n",
    "StiffnessMatrixNPOBJECT"
   ]
  },
  {
   "cell_type": "markdown",
   "metadata": {},
   "source": [
    "## Note that the DTYPE of the array is OBJECT - some operations may fail for determinant calc:"
   ]
  },
  {
   "cell_type": "code",
   "execution_count": 5,
   "metadata": {},
   "outputs": [
    {
     "ename": "TypeError",
     "evalue": "No loop matching the specified signature and casting\nwas found for ufunc det",
     "output_type": "error",
     "traceback": [
      "\u001b[0;31m---------------------------------------------------------------------------\u001b[0m",
      "\u001b[0;31mTypeError\u001b[0m                                 Traceback (most recent call last)",
      "\u001b[0;32m<ipython-input-5-62281e7ae387>\u001b[0m in \u001b[0;36m<module>\u001b[0;34m()\u001b[0m\n\u001b[0;32m----> 1\u001b[0;31m \u001b[0mnp\u001b[0m\u001b[0;34m.\u001b[0m\u001b[0mlinalg\u001b[0m\u001b[0;34m.\u001b[0m\u001b[0mdet\u001b[0m\u001b[0;34m(\u001b[0m\u001b[0mStiffnessMatrixNPOBJECT\u001b[0m\u001b[0;34m)\u001b[0m\u001b[0;34m\u001b[0m\u001b[0;34m\u001b[0m\u001b[0m\n\u001b[0m",
      "\u001b[0;32m/anaconda3/lib/python3.6/site-packages/numpy/linalg/linalg.py\u001b[0m in \u001b[0;36mdet\u001b[0;34m(a)\u001b[0m\n\u001b[1;32m   1872\u001b[0m     \u001b[0mt\u001b[0m\u001b[0;34m,\u001b[0m \u001b[0mresult_t\u001b[0m \u001b[0;34m=\u001b[0m \u001b[0m_commonType\u001b[0m\u001b[0;34m(\u001b[0m\u001b[0ma\u001b[0m\u001b[0;34m)\u001b[0m\u001b[0;34m\u001b[0m\u001b[0;34m\u001b[0m\u001b[0m\n\u001b[1;32m   1873\u001b[0m     \u001b[0msignature\u001b[0m \u001b[0;34m=\u001b[0m \u001b[0;34m'D->D'\u001b[0m \u001b[0;32mif\u001b[0m \u001b[0misComplexType\u001b[0m\u001b[0;34m(\u001b[0m\u001b[0mt\u001b[0m\u001b[0;34m)\u001b[0m \u001b[0;32melse\u001b[0m \u001b[0;34m'd->d'\u001b[0m\u001b[0;34m\u001b[0m\u001b[0;34m\u001b[0m\u001b[0m\n\u001b[0;32m-> 1874\u001b[0;31m     \u001b[0mr\u001b[0m \u001b[0;34m=\u001b[0m \u001b[0m_umath_linalg\u001b[0m\u001b[0;34m.\u001b[0m\u001b[0mdet\u001b[0m\u001b[0;34m(\u001b[0m\u001b[0ma\u001b[0m\u001b[0;34m,\u001b[0m \u001b[0msignature\u001b[0m\u001b[0;34m=\u001b[0m\u001b[0msignature\u001b[0m\u001b[0;34m)\u001b[0m\u001b[0;34m\u001b[0m\u001b[0;34m\u001b[0m\u001b[0m\n\u001b[0m\u001b[1;32m   1875\u001b[0m     \u001b[0mr\u001b[0m \u001b[0;34m=\u001b[0m \u001b[0mr\u001b[0m\u001b[0;34m.\u001b[0m\u001b[0mastype\u001b[0m\u001b[0;34m(\u001b[0m\u001b[0mresult_t\u001b[0m\u001b[0;34m,\u001b[0m \u001b[0mcopy\u001b[0m\u001b[0;34m=\u001b[0m\u001b[0;32mFalse\u001b[0m\u001b[0;34m)\u001b[0m\u001b[0;34m\u001b[0m\u001b[0;34m\u001b[0m\u001b[0m\n\u001b[1;32m   1876\u001b[0m     \u001b[0;32mreturn\u001b[0m \u001b[0mr\u001b[0m\u001b[0;34m\u001b[0m\u001b[0;34m\u001b[0m\u001b[0m\n",
      "\u001b[0;31mTypeError\u001b[0m: No loop matching the specified signature and casting\nwas found for ufunc det"
     ]
    }
   ],
   "source": [
    "np.linalg.det(StiffnessMatrixNPOBJECT)"
   ]
  },
  {
   "cell_type": "markdown",
   "metadata": {},
   "source": [
    "## We need to convert this to an array of type float"
   ]
  },
  {
   "cell_type": "code",
   "execution_count": 6,
   "metadata": {},
   "outputs": [
    {
     "data": {
      "text/plain": [
       "array([[ 9.80e+07,  1.40e+07, -1.12e+08],\n",
       "       [ 1.40e+07,  9.80e+07, -1.12e+08],\n",
       "       [-1.12e+08, -1.12e+08,  2.24e+08]])"
      ]
     },
     "execution_count": 6,
     "metadata": {},
     "output_type": "execute_result"
    }
   ],
   "source": [
    "StiffnessMatrixNPFLOAT = np.array(StiffnessMatrixNPOBJECT, dtype=float)\n",
    "StiffnessMatrixNPFLOAT"
   ]
  },
  {
   "cell_type": "markdown",
   "metadata": {},
   "source": [
    "## Note now the determinant calculation works:"
   ]
  },
  {
   "cell_type": "code",
   "execution_count": 7,
   "metadata": {},
   "outputs": [
    {
     "data": {
      "text/plain": [
       "0.0"
      ]
     },
     "execution_count": 7,
     "metadata": {},
     "output_type": "execute_result"
    }
   ],
   "source": [
    "np.linalg.det(StiffnessMatrixNPFLOAT)"
   ]
  },
  {
   "cell_type": "markdown",
   "metadata": {},
   "source": [
    "## *There is a current bug in scipy we cannot convert the StiffnessMatrix directly to StiffnessMatrixNPFLOAT*\n",
    "## To convert a symbolic matrix to a numpy array of type float we have to do it in two steps:\n",
    "## 1. Convert StiffnessMatrix to StiffnessMatrixNPOBJECT\n",
    "## 2. Convert StiffnessMatrixNPOBJECT to StiffnessMatrixNPFLOAT\n",
    "# at least until the bug is fixed!"
   ]
  },
  {
   "cell_type": "markdown",
   "metadata": {},
   "source": [
    "## Stiffness matrix is symmetric:\n",
    "## $$\\boldsymbol{K} - \\boldsymbol{K}^T = \\boldsymbol{0}$$"
   ]
  },
  {
   "cell_type": "code",
   "execution_count": 8,
   "metadata": {},
   "outputs": [
    {
     "name": "stdout",
     "output_type": "stream",
     "text": [
      " [[ 0.00000000e+00  0.00000000e+00 -1.49011612e-08]\n",
      "  [ 0.00000000e+00  0.00000000e+00 -1.49011612e-08]\n",
      " [ 1.49011612e-08  1.49011612e-08  0.00000000e+00]]\n"
     ]
    }
   ],
   "source": [
    "sp.pretty_print(StiffnessMatrixNPFLOAT - StiffnessMatrixNPFLOAT.T)"
   ]
  },
  {
   "cell_type": "markdown",
   "metadata": {},
   "source": [
    "## Stiffness matrix is singular"
   ]
  },
  {
   "cell_type": "code",
   "execution_count": 9,
   "metadata": {},
   "outputs": [
    {
     "data": {
      "text/plain": [
       "0.0"
      ]
     },
     "execution_count": 9,
     "metadata": {},
     "output_type": "execute_result"
    }
   ],
   "source": [
    "np.linalg.det(StiffnessMatrixNPFLOAT)"
   ]
  },
  {
   "cell_type": "markdown",
   "metadata": {},
   "source": [
    "## Another way to see that it is singular is to compute the eigenvectors and eigenvalues of the matrix\n",
    "## If there is a numerically zero eigenvalue it is singular, which this one is:"
   ]
  },
  {
   "cell_type": "code",
   "execution_count": 10,
   "metadata": {},
   "outputs": [
    {
     "name": "stdout",
     "output_type": "stream",
     "text": [
      "Eigenvalues:\n",
      "[ 3.36000000e+08  8.40000000e+07 -7.10704052e-09]\n",
      "Eigenvectors:\n",
      "[[-4.08248290e-01 -7.07106781e-01  5.77350269e-01]\n",
      " [-4.08248290e-01  7.07106781e-01  5.77350269e-01]\n",
      " [ 8.16496581e-01 -2.18634744e-16  5.77350269e-01]]\n"
     ]
    }
   ],
   "source": [
    "EignenValues, Eigenvectors = np.linalg.eig(StiffnessMatrixNPFLOAT)\n",
    "print(\"Eigenvalues:\")\n",
    "print(EignenValues)\n",
    "print(\"Eigenvectors:\")\n",
    "print(Eigenvectors)"
   ]
  },
  {
   "cell_type": "markdown",
   "metadata": {},
   "source": [
    "## We can reconstruct the stiffness matrix $\\boldsymbol{K}$ from its eigenvectors $\\lambda_1, \\lambda_2, \\lambda_3$and eigenvalues  $\\boldsymbol{v}_1,\\boldsymbol{v}_2, \\boldsymbol{v}_3$ by taking the vector outer product of the eigenvectors and scaling each one by its eigenvalue:\n",
    "## $$\\boldsymbol{K} =  \\lambda_1 \\boldsymbol{v}_1 \\boldsymbol{v}_1^\\textrm{T} \n",
    "      + \\lambda_2 \\boldsymbol{v}_2 \\boldsymbol{v}_2^\\textrm{T}\n",
    "      + \\lambda_3 \\boldsymbol{v}_3 \\boldsymbol{v}_3^\\textrm{T}$$\n",
    "## Note: $\\boldsymbol{v}_1 \\boldsymbol{v}_1^\\textrm{T}$ is a nx1 vector times a 1xn vector that results in a nxn matrix!"
   ]
  },
  {
   "cell_type": "code",
   "execution_count": 11,
   "metadata": {},
   "outputs": [
    {
     "name": "stdout",
     "output_type": "stream",
     "text": [
      "[[ 5.96046448e-08 -1.86264515e-09  1.49011612e-08]\n",
      " [-1.86264515e-09  5.96046448e-08 -8.94069672e-08]\n",
      " [ 0.00000000e+00 -1.04308128e-07  8.94069672e-08]]\n",
      "The difference is numerically zero!\n"
     ]
    }
   ],
   "source": [
    "StiffnessMatrixEIG = (EignenValues[0]*np.outer(Eigenvectors[:,0],Eigenvectors[:,0]) \n",
    "+EignenValues[1]*np.outer(Eigenvectors[:,1],Eigenvectors[:,1])\n",
    "+EignenValues[2]*np.outer(Eigenvectors[:,2],Eigenvectors[:,2]))\n",
    "\n",
    "print(StiffnessMatrixEIG - StiffnessMatrixNPFLOAT)\n",
    "print(\"The difference is numerically zero!\")"
   ]
  },
  {
   "cell_type": "markdown",
   "metadata": {},
   "source": [
    "## Recall the meaning of an eigenvector $\\boldsymbol{v}$ with associated eigenvalue $\\lambda$ of matrix $\\boldsymbol{K}$:\n",
    "## $$\\boldsymbol{K} \\boldsymbol{v} = \\lambda \\boldsymbol{v}$$\n",
    "## If all the eigenvalues were non-zero and $\\boldsymbol{K}$ has an inverse $\\boldsymbol{K}^{-1}$ :\n",
    "## $$\\frac{1}{\\lambda} \\boldsymbol{v} = \\boldsymbol{K}^{-1}\\boldsymbol{v}$$\n",
    "## $$\\boldsymbol{K}^{-1}\\boldsymbol{v} = \\frac{1}{\\lambda} \\boldsymbol{v}$$\n",
    "## This implies that we can compute the inverse by merely taking the same eigenvector and scaling by $\\frac{1}{\\lambda}$:"
   ]
  },
  {
   "cell_type": "code",
   "execution_count": 12,
   "metadata": {},
   "outputs": [
    {
     "name": "stdout",
     "output_type": "stream",
     "text": [
      "[[-46901847.89519136 -46901847.89519139 -46901847.89519135]\n",
      " [-46901847.89519139 -46901847.89519139 -46901847.89519137]\n",
      " [-46901847.89519135 -46901847.89519137 -46901847.89519133]]\n",
      "Because the matrix is singular the inverse does not exist, although numerically computable in this case\n"
     ]
    }
   ],
   "source": [
    "InvStiffnessMatrixEIG = (1/EignenValues[0]*np.outer(Eigenvectors[:,0],Eigenvectors[:,0]) \n",
    "                       + 1/EignenValues[1]*np.outer(Eigenvectors[:,1],Eigenvectors[:,1])\n",
    "                       + 1/EignenValues[2]*np.outer(Eigenvectors[:,2],Eigenvectors[:,2]))\n",
    "\n",
    "print(InvStiffnessMatrixEIG)\n",
    "print(\"Because the matrix is singular the inverse does not exist, although numerically computable in this case\")"
   ]
  },
  {
   "cell_type": "markdown",
   "metadata": {},
   "source": [
    "## What does the inverse of a matrix mean?\n",
    "## Consider the definition of an inverse:\n",
    "## $$\\boldsymbol{K} \\boldsymbol{K}^{-1} = \\boldsymbol{I}$$\n",
    "## This has physical meaning in FEM - remember $\\boldsymbol{K}\\boldsymbol{q} = \\boldsymbol{F}$!\n",
    "## Consider each column of $\\boldsymbol{I}$ as an applied load, then each column of $\\boldsymbol{K}^{-1}$ is the displacement solution when a unit load is applied at a respecitve node.\n",
    "## Hence, $\\boldsymbol{K}^{-1}$ is the matrix of displacements (displacemet vector per column) given a unit load was applied one by one at each node.\n",
    "## Hence, any FEM solution is the linear combination of these column displacements (unit forces) where an applied merely force scales the unit force we applied to obtain these unit force displacements! "
   ]
  },
  {
   "cell_type": "markdown",
   "metadata": {},
   "source": [
    "## Another interpretation for the eigenvalues and eigenvectors is that they form a basis for $\\boldsymbol{K}$. The implication is that any solution $\\boldsymbol{q}$ by solving:\n",
    "## $$\\boldsymbol{K}\\boldsymbol{q} = \\boldsymbol{F},$$\n",
    "## can be expressed as $$\\boldsymbol{q} = \\sum_{i=1}^n \\alpha_i\\boldsymbol{v}_i,$$ where each $\\alpha_i$ is merely a scalar factor that scales each eigenvector in the linear combination.\n",
    "## This is very important as this implies we can interpret each eigenvector as a nodal displacement vector!\n",
    "## We can therefore plot the nodal displacemets of the element"
   ]
  },
  {
   "cell_type": "code",
   "execution_count": 15,
   "metadata": {},
   "outputs": [
    {
     "data": {
      "image/png": "[encoded data removed]",
      "text/plain": [
       "<matplotlib.figure.Figure at 0x110462a20>"
      ]
     },
     "metadata": {},
     "output_type": "display_data"
    }
   ],
   "source": [
    "import matplotlib.pyplot as plt\n",
    "EigenVectorNumber = 2\n",
    "plt.plot([x1,x2,x3],[0,0,0],'ro')\n",
    "plt.plot([x1+Eigenvectors[0,EigenVectorNumber],x2+Eigenvectors[1,EigenVectorNumber],x3+Eigenvectors[2,EigenVectorNumber]],[0,0,0],'g.')\n",
    "plt.show()"
   ]
  },
  {
   "cell_type": "code",
   "execution_count": 20,
   "metadata": {},
   "outputs": [
    {
     "name": "stdout",
     "output_type": "stream",
     "text": [
      "168000000.00000012\n",
      "336000000.0000001\n"
     ]
    }
   ],
   "source": [
    "mode = 0\n",
    "V = Eigenvectors[:,mode]\n",
    "L = EignenValues[mode]\n",
    "\n",
    "print(0.5*np.dot(V,np.dot(StiffnessMatrixNPFLOAT,V)))\n",
    "print(L)"
   ]
  },
  {
   "cell_type": "markdown",
   "metadata": {},
   "source": [
    "# Strain Energy and Work - See PDF handwritten notes on ClickUP\n",
    "## What is the strain energy for these displacements?\n",
    "## Given tha 1000N force as applied and that the computed displacements were:\n",
    "## $$\\boldsymbol{q} = [0,\\;\\;2.381\\times 10^{-5},\\;\\;1.190\\times10^{-5}]$$\n",
    "## What was the work done?"
   ]
  },
  {
   "cell_type": "code",
   "execution_count": 69,
   "metadata": {},
   "outputs": [
    {
     "name": "stdout",
     "output_type": "stream",
     "text": [
      "Work Done: 0.011905 J\n"
     ]
    }
   ],
   "source": [
    "K = StiffnessMatrixNPFLOAT\n",
    "q = np.array([0,2.381, 1.190])*1E-5\n",
    "F = np.array([0,1000,0])\n",
    "Work = 0.5*np.dot(q,F)\n",
    "print(\"Work Done: {} J\".format(Work))"
   ]
  },
  {
   "cell_type": "markdown",
   "metadata": {},
   "source": [
    "## What is the strain energy?"
   ]
  },
  {
   "cell_type": "code",
   "execution_count": 71,
   "metadata": {},
   "outputs": [
    {
     "name": "stdout",
     "output_type": "stream",
     "text": [
      "Work Done: 0.0119052409 J\n"
     ]
    }
   ],
   "source": [
    "K = StiffnessMatrixNPFLOAT\n",
    "q = np.array([0,2.381, 1.190])*1E-5\n",
    "F = np.array([0,1000,0])\n",
    "StrainEnergy = 0.5*np.dot(q,np.dot(K,q))\n",
    "print(\"Work Done: {} J\".format(StrainEnergy))"
   ]
  },
  {
   "cell_type": "markdown",
   "metadata": {},
   "source": [
    "## Numerically these values are same! [Note displacement only given with four significant figures - agreement within at least four significant figures]"
   ]
  }
 ],
 "metadata": {
  "kernelspec": {
   "display_name": "Python 3",
   "language": "python",
   "name": "python3"
  },
  "language_info": {
   "codemirror_mode": {
    "name": "ipython",
    "version": 3
   },
   "file_extension": ".py",
   "mimetype": "text/x-python",
   "name": "python",
   "nbconvert_exporter": "python",
   "pygments_lexer": "ipython3",
   "version": "3.6.7"
  }
 },
 "nbformat": 4,
 "nbformat_minor": 2
}
