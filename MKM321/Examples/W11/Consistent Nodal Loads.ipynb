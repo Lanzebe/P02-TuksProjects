{
 "cells": [
  {
   "cell_type": "markdown",
   "metadata": {},
   "source": [
    "# Equivalent Consistent Nodal Loads\n",
    "\n",
    "### Loads to be applied at the nodes on the element"
   ]
  },
  {
   "cell_type": "markdown",
   "metadata": {},
   "source": [
    "## Uniform loads only"
   ]
  },
  {
   "cell_type": "code",
   "execution_count": 7,
   "metadata": {},
   "outputs": [
    {
     "data": {
      "text/plain": [
       "1000.0"
      ]
     },
     "execution_count": 7,
     "metadata": {},
     "output_type": "execute_result"
    }
   ],
   "source": [
    "# Conversion of N/mm to N/m\n",
    "q_nmm = 1\n",
    "q = q_nmm/10**-3\n",
    "q"
   ]
  },
  {
   "cell_type": "code",
   "execution_count": 171,
   "metadata": {},
   "outputs": [
    {
     "data": {
      "text/plain": [
       "[[0, 20.833333333333332],\n",
       " [1, 83.33333333333333],\n",
       " [2, 41.666666666666664],\n",
       " [3, 83.33333333333333],\n",
       " [4, 41.666666666666664],\n",
       " [5, 83.33333333333333],\n",
       " [6, 41.666666666666664],\n",
       " [7, 83.33333333333333],\n",
       " [8, 20.833333333333332]]"
      ]
     },
     "execution_count": 171,
     "metadata": {},
     "output_type": "execute_result"
    }
   ],
   "source": [
    "# Lenght uniform load applied over, m\n",
    "L = 0.8\n",
    "# number of elements\n",
    "num_el = 4\n",
    "# number of nodes per element\n",
    "num_nodes = 3\n",
    "# uniform load applied, N/m\n",
    "q = 625 # (down is +ve)\n",
    "\n",
    "def consistent_load_dict(num_nodes):\n",
    "    if num_nodes==2:\n",
    "        return [1/2,1/2]\n",
    "    elif num_nodes==3:\n",
    "        return [1/6,2/3,1/6]\n",
    "    elif num_nodes==4:\n",
    "        return [1/8,3/8,3/8,1/8]\n",
    "    elif num_nodes==5:\n",
    "        return [7/90,16/45,2/15,16/45,7/90]\n",
    "\n",
    "def consistent_Nodal_loads_Uniform(L,num_el,num_nodes,q):\n",
    "    import numpy as np\n",
    "    elem_lenght = L/num_el\n",
    "    Lq_perel = elem_lenght*q\n",
    "    load_pernode = []\n",
    "    nodes = np.arange(0,num_nodes+1,1)\n",
    "    node_perel = np.arange(0,num_nodes,1)\n",
    "    for i in node_perel:\n",
    "        lpn = consistent_load_dict(num_nodes)[int(i)]*Lq_perel\n",
    "        load_pernode.append([i,lpn]) # load at node\n",
    "    if num_el == 1:\n",
    "        nodal_loads = load_pernode\n",
    "    else:\n",
    "        nodal_loads=[]\n",
    "        n = 1\n",
    "        nodal_loads.append([ 0,load_pernode[0][1] ])\n",
    "        for i in np.arange(0,num_el,1):\n",
    "            for x in np.arange(1,num_nodes-1,1):\n",
    "                nodal_loads.append([ n,load_pernode[x][1] ])\n",
    "                n = n+1\n",
    "            nodal_loads.append([ n,2*load_pernode[x+1][1] ])\n",
    "            n = n+1\n",
    "        nodal_loads[-1][1] = load_pernode[0][1]\n",
    "    \n",
    "    return nodal_loads\n",
    "\n",
    "consistent_Nodal_loads_Uniform(L,num_el,num_nodes,q) #Only work for 3-5 node per element"
   ]
  },
  {
   "cell_type": "markdown",
   "metadata": {},
   "source": [
    "## Uniform loads and forces"
   ]
  },
  {
   "cell_type": "code",
   "execution_count": 208,
   "metadata": {},
   "outputs": [
    {
     "data": {
      "text/plain": [
       "[[0, 20.833333333333332],\n",
       " [1, 83.33333333333333],\n",
       " [2, 241.66666666666666],\n",
       " [3, 83.33333333333333],\n",
       " [4, 541.6666666666666],\n",
       " [5, 83.33333333333333],\n",
       " [6, 341.6666666666667],\n",
       " [7, 83.33333333333333],\n",
       " [8, 20.833333333333332]]"
      ]
     },
     "execution_count": 208,
     "metadata": {},
     "output_type": "execute_result"
    }
   ],
   "source": [
    "# Lenght uniform load applied over, m\n",
    "L = 0.8\n",
    "# number of elements\n",
    "num_el = 4\n",
    "# number of nodes per element\n",
    "num_nodes = 3\n",
    "# uniform load applied, N/m\n",
    "q = 625 # (down is +ve)\n",
    "# force applied, N\n",
    "forces = np.array([\n",
    "                    [2,200], # node, force magnitude (down is +ve)\n",
    "                    [6,300],\n",
    "                    [4,500]\n",
    "                    ])\n",
    "\n",
    "def consistent_load_dict(num_nodes):\n",
    "    if num_nodes==2:\n",
    "        return [1/2,1/2]\n",
    "    elif num_nodes==3:\n",
    "        return [1/6,2/3,1/6]\n",
    "    elif num_nodes==4:\n",
    "        return [1/8,3/8,3/8,1/8]\n",
    "    elif num_nodes==5:\n",
    "        return [7/90,16/45,2/15,16/45,7/90]\n",
    "\n",
    "def consistent_Nodal_loads_Uniform(L,num_el,num_nodes,q):\n",
    "    import numpy as np\n",
    "    elem_lenght = L/num_el\n",
    "    Lq_perel = elem_lenght*q\n",
    "    load_pernode = []\n",
    "    nodes = np.arange(0,num_nodes+1,1)\n",
    "    node_perel = np.arange(0,num_nodes,1)\n",
    "    for i in node_perel:\n",
    "        lpn = consistent_load_dict(num_nodes)[int(i)]*Lq_perel\n",
    "        load_pernode.append([i,lpn]) # load at node\n",
    "    if num_el == 1:\n",
    "        nodal_loads = load_pernode\n",
    "    else:\n",
    "        nodal_loads=[]\n",
    "        n = 1\n",
    "        nodal_loads.append([ 0,load_pernode[0][1] ])\n",
    "        for i in np.arange(0,num_el,1):\n",
    "            for x in np.arange(1,num_nodes-1,1):\n",
    "                nodal_loads.append([ n,load_pernode[x][1] ])\n",
    "                n = n+1\n",
    "            nodal_loads.append([ n,2*load_pernode[x+1][1] ])\n",
    "            n = n+1\n",
    "        nodal_loads[-1][1] = load_pernode[0][1]\n",
    "   \n",
    "    for i in forces:\n",
    "        nodal_loads[ i[0] ][1] =  nodal_loads[ i[0] ][1] + i[1]\n",
    "\n",
    "\n",
    "    return nodal_loads\n",
    "\n",
    "consistent_Nodal_loads_Uniform(L,num_el,num_nodes,q) #Only work for 3-5 node per element"
   ]
  },
  {
   "cell_type": "code",
   "execution_count": null,
   "metadata": {},
   "outputs": [],
   "source": []
  }
 ],
 "metadata": {
  "interpreter": {
   "hash": "b2b327a451dee804cfb09d4e9e8de10f563ddb6d3124a05bcff0bdce375b6774"
  },
  "kernelspec": {
   "display_name": "Python 3 (ipykernel)",
   "language": "python",
   "name": "python3"
  },
  "language_info": {
   "codemirror_mode": {
    "name": "ipython",
    "version": 3
   },
   "file_extension": ".py",
   "mimetype": "text/x-python",
   "name": "python",
   "nbconvert_exporter": "python",
   "pygments_lexer": "ipython3",
   "version": "3.9.6"
  }
 },
 "nbformat": 4,
 "nbformat_minor": 2
}
