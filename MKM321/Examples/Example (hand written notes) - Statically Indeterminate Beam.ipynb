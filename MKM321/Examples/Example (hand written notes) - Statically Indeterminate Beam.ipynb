{
 "cells": [
  {
   "cell_type": "markdown",
   "metadata": {},
   "source": [
    "# Beam fixed at A, rollers at B (x=a) and C(x=a+b) and point load P (x=L)\n",
    "# Known: E, I, a, b, L\n",
    "# Hand-written notes derived the 4x4 system of linear equations we can solve for the unknown reactions: FA, MA, FB, FC."
   ]
  },
  {
   "cell_type": "code",
   "execution_count": 1,
   "metadata": {},
   "outputs": [],
   "source": [
    "import sympy as sp\n",
    "a,b,L,P = sp.symbols('a,b,L,P')"
   ]
  },
  {
   "cell_type": "code",
   "execution_count": 3,
   "metadata": {},
   "outputs": [
    {
     "name": "stdout",
     "output_type": "stream",
     "text": [
      "FiniteSet(((3*L*P*b - 3*P*a*b - 3*P*b**2)/(3*a**2 + 4*a*b), (-L*P*b + P*a*b + P*b**2)/(3*a + 4*b), (-3*L*P*a**2 - 6*L*P*a*b - 3*L*P*b**2 + 3*P*a**3 + 9*P*a**2*b + 9*P*a*b**2 + 3*P*b**3)/(3*a**2*b + 4*a*b**2), (3*L*P*a + 6*L*P*b - 3*P*a**2 - 6*P*a*b - 2*P*b**2)/(3*a*b + 4*b**2)))\n",
      "linsolve returns an object of type sympy.sets.sets.FiniteSet - which is a headache to work with\n",
      "<class 'sympy.sets.sets.FiniteSet'>\n",
      "convert the result to a list / list and then sp.Matrix (as shown below) for sanity sake\n"
     ]
    },
    {
     "data": {
      "text/latex": [
       "$\\displaystyle \\left[\\begin{matrix}\\frac{3 L P b - 3 P a b - 3 P b^{2}}{3 a^{2} + 4 a b} & \\frac{- L P b + P a b + P b^{2}}{3 a + 4 b} & \\frac{- 3 L P a^{2} - 6 L P a b - 3 L P b^{2} + 3 P a^{3} + 9 P a^{2} b + 9 P a b^{2} + 3 P b^{3}}{3 a^{2} b + 4 a b^{2}} & \\frac{3 L P a + 6 L P b - 3 P a^{2} - 6 P a b - 2 P b^{2}}{3 a b + 4 b^{2}}\\end{matrix}\\right]$"
      ],
      "text/plain": [
       "Matrix([[(3*L*P*b - 3*P*a*b - 3*P*b**2)/(3*a**2 + 4*a*b), (-L*P*b + P*a*b + P*b**2)/(3*a + 4*b), (-3*L*P*a**2 - 6*L*P*a*b - 3*L*P*b**2 + 3*P*a**3 + 9*P*a**2*b + 9*P*a*b**2 + 3*P*b**3)/(3*a**2*b + 4*a*b**2), (3*L*P*a + 6*L*P*b - 3*P*a**2 - 6*P*a*b - 2*P*b**2)/(3*a*b + 4*b**2)]])"
      ]
     },
     "metadata": {},
     "output_type": "display_data"
    }
   ],
   "source": [
    "Matrix_Equations = sp.Matrix([[1,0,1,1],[0,1,-a,-(a+b)],[0,0,2*a**3,(2*a**3+3*a**2*b)],[0,0,(2*a**3+3*a**2*b),2*(a+b)**3]])\n",
    "RHS = sp.Matrix([[P],[-P*L],[-(a**3-3*a**2*L)*P],[-((a+b)**3-3*(a+b)**2*L)*P]])\n",
    "solution = sp.linsolve((Matrix_Equations,RHS)); print(sp.simplify(solution))\n",
    "#print('linsolve returns an object of type sympy.sets.sets.FiniteSet - which is a headache to work with')\n",
    "#print(type(solution))\n",
    "#print('convert the result to a list / list and then sp.Matrix (as shown below) for sanity sake')\n",
    "SOLUTION_MATRIX = sp.Matrix(list(solution))\n",
    "sp.simplify(SOLUTION_MATRIX)\n",
    "display(SOLUTION_MATRIX)\n"
   ]
  },
  {
   "cell_type": "markdown",
   "metadata": {},
   "source": [
    "# Double check the answer we can confirm that the displacements at x=a and x=a+b is equal to 0"
   ]
  },
  {
   "cell_type": "code",
   "execution_count": 5,
   "metadata": {},
   "outputs": [
    {
     "data": {
      "text/latex": [
       "$\\displaystyle - \\frac{P a^{2} \\left(3 L - a\\right)}{6 E I} + \\frac{a^{3} \\left(- 3 L P a^{2} - 6 L P a b - 3 L P b^{2} + 3 P a^{3} + 9 P a^{2} b + 9 P a b^{2} + 3 P b^{3}\\right)}{3 E I \\left(3 a^{2} b + 4 a b^{2}\\right)} + \\frac{a^{2} \\left(2 a + 3 b\\right) \\left(3 L P a + 6 L P b - 3 P a^{2} - 6 P a b - 2 P b^{2}\\right)}{6 E I \\left(3 a b + 4 b^{2}\\right)}$"
      ],
      "text/plain": [
       "-P*a**2*(3*L - a)/(6*E*I) + a**3*(-3*L*P*a**2 - 6*L*P*a*b - 3*L*P*b**2 + 3*P*a**3 + 9*P*a**2*b + 9*P*a*b**2 + 3*P*b**3)/(3*E*I*(3*a**2*b + 4*a*b**2)) + a**2*(2*a + 3*b)*(3*L*P*a + 6*L*P*b - 3*P*a**2 - 6*P*a*b - 2*P*b**2)/(6*E*I*(3*a*b + 4*b**2))"
      ]
     },
     "metadata": {},
     "output_type": "display_data"
    },
    {
     "data": {
      "text/latex": [
       "$\\displaystyle 0$"
      ],
      "text/plain": [
       "0"
      ]
     },
     "metadata": {},
     "output_type": "display_data"
    }
   ],
   "source": [
    "FA,MA,FB,FC = SOLUTION_MATRIX # assign entries of SOLUTION_LIST to variables FA,MA,...\n",
    "\n",
    "x,E,I = sp.symbols('x,E,I')\n",
    "\n",
    "v_x_eqs_a = FB*a**2/(6*E*I)*(2*a) + FC*a**2/(6*E*I)*(3*(a+b)-a) - P*a**2/(6*E*I)*(3*L-a); \n",
    "display(v_x_eqs_a)\n",
    "#print('Expression looks intimidating at first glance - lets simplify')\n",
    "display(v_x_eqs_a.simplify())\n",
    "#print('Displacement at x=a is always equal to {} m'.format(v_x_eqs_a.simplify()))"
   ]
  },
  {
   "cell_type": "code",
   "execution_count": 8,
   "metadata": {},
   "outputs": [
    {
     "data": {
      "text/latex": [
       "$\\displaystyle - \\frac{P \\left(a + b\\right)^{2} \\left(3 L - a - b\\right)}{6 E I} + \\frac{a^{2} \\left(2 a + 3 b\\right) \\left(- 3 L P a^{2} - 6 L P a b - 3 L P b^{2} + 3 P a^{3} + 9 P a^{2} b + 9 P a b^{2} + 3 P b^{3}\\right)}{6 E I \\left(3 a^{2} b + 4 a b^{2}\\right)} + \\frac{\\left(a + b\\right)^{2} \\left(2 a + 2 b\\right) \\left(3 L P a + 6 L P b - 3 P a^{2} - 6 P a b - 2 P b^{2}\\right)}{6 E I \\left(3 a b + 4 b^{2}\\right)}$"
      ],
      "text/plain": [
       "-P*(a + b)**2*(3*L - a - b)/(6*E*I) + a**2*(2*a + 3*b)*(-3*L*P*a**2 - 6*L*P*a*b - 3*L*P*b**2 + 3*P*a**3 + 9*P*a**2*b + 9*P*a*b**2 + 3*P*b**3)/(6*E*I*(3*a**2*b + 4*a*b**2)) + (a + b)**2*(2*a + 2*b)*(3*L*P*a + 6*L*P*b - 3*P*a**2 - 6*P*a*b - 2*P*b**2)/(6*E*I*(3*a*b + 4*b**2))"
      ]
     },
     "metadata": {},
     "output_type": "display_data"
    },
    {
     "name": "stdout",
     "output_type": "stream",
     "text": [
      "Expression looks intimidating at first glance - lets simplify (alternative way)\n"
     ]
    },
    {
     "data": {
      "text/latex": [
       "$\\displaystyle 0$"
      ],
      "text/plain": [
       "0"
      ]
     },
     "metadata": {},
     "output_type": "display_data"
    }
   ],
   "source": [
    "v_x_eqs_a_plus_b = FB*a**2/(6*E*I)*(3*(a+b)-a) + FC*(a+b)**2/(6*E*I)*(3*(a+b)-(a+b)) - P*(a+b)**2/(6*E*I)*(3*L-(a+b)); \n",
    "display(v_x_eqs_a_plus_b)\n",
    "print('Expression looks intimidating at first glance - lets simplify (alternative way)')\n",
    "display(sp.simplify(v_x_eqs_a_plus_b))\n",
    "#print('Displacement at x=a+b is always equal to {} m'.format(sp.simplify(v_x_eqs_a_plus_b)))"
   ]
  },
  {
   "cell_type": "code",
   "execution_count": 119,
   "metadata": {},
   "outputs": [
    {
     "name": "stdout",
     "output_type": "stream",
     "text": [
      "Sum of forces in y = 0 N\n",
      "Sum of moments at A = 0 Nm\n"
     ]
    }
   ],
   "source": [
    "sum_fy = FA + FB + FC - P; print('Sum of forces in y = {} N'.format(sum_fy.simplify()))\n",
    "sum_moments = MA - FB*a - FC*(a+b) + P*L; print('Sum of moments at A = {} Nm'.format(sum_moments.simplify()))"
   ]
  },
  {
   "cell_type": "markdown",
   "metadata": {},
   "source": [
    "# For a problem specific solution - we can substitute values for a and b, e.g.\n",
    "# a and b must be chosen so that a+b < L\n",
    "# a = L/3\n",
    "# b = L/3"
   ]
  },
  {
   "cell_type": "code",
   "execution_count": 114,
   "metadata": {},
   "outputs": [
    {
     "name": "stdout",
     "output_type": "stream",
     "text": [
      "FA = 3*P/7\n",
      "MB = -L*P/21\n",
      "FB = -12*P/7\n",
      "FC = 16*P/7\n"
     ]
    }
   ],
   "source": [
    "FA,MA,FB,FC = SOLUTION_MATRIX.subs({a:L/3,b:L/3})\n",
    "print('FA = {}'.format(sp.simplify(FA)))\n",
    "print('MB = {}'.format(sp.simplify(MA)))\n",
    "print('FB = {}'.format(sp.simplify(FB)))\n",
    "print('FC = {}'.format(sp.simplify(FC)))"
   ]
  },
  {
   "cell_type": "code",
   "execution_count": 94,
   "metadata": {},
   "outputs": [
    {
     "name": "stdout",
     "output_type": "stream",
     "text": [
      "Reaction FA pushes up on beam\n",
      "Reaction MA indicates moment result in negative curvature (concave)\n",
      "Reaction FB indicates reaction pulls beam down\n",
      "Reaction FC indicates reaction pushes up on beam\n",
      "Does this make sense?\n",
      "Choose a and b at locations that would allow for an easy verification of the correctness of the answer \n"
     ]
    }
   ],
   "source": [
    "print('Reaction FA pushes up on beam')\n",
    "print('Reaction MA indicates moment result in negative curvature (concave)')\n",
    "print('Reaction FB indicates reaction pulls beam down')\n",
    "print('Reaction FC indicates reaction pushes up on beam')\n",
    "\n",
    "print('Does this make sense?')\n",
    "print('Choose a and b at locations that would allow for an easy verification of the correctness of the answer ')"
   ]
  },
  {
   "cell_type": "markdown",
   "metadata": {},
   "source": [
    "# Alternative solution strategy (matrix free, just the equations)"
   ]
  },
  {
   "cell_type": "code",
   "execution_count": 100,
   "metadata": {},
   "outputs": [
    {
     "data": {
      "text/latex": [
       "$\\displaystyle \\left\\{\\left( - \\frac{3 P b \\left(- L + a + b\\right)}{a \\left(3 a + 4 b\\right)}, \\  \\frac{P b \\left(- L + a + b\\right)}{3 a + 4 b}, \\  \\frac{3 P \\left(- L a^{2} - 2 L a b - L b^{2} + a^{3} + 3 a^{2} b + 3 a b^{2} + b^{3}\\right)}{a b \\left(3 a + 4 b\\right)}, \\  - \\frac{P \\left(- 3 L a - 6 L b + 3 a^{2} + 6 a b + 2 b^{2}\\right)}{b \\left(3 a + 4 b\\right)}\\right)\\right\\}$"
      ],
      "text/plain": [
       "{(-3*P*b*(-L + a + b)/(a*(3*a + 4*b)), P*b*(-L + a + b)/(3*a + 4*b), 3*P*(-L*a**2 - 2*L*a*b - L*b**2 + a**3 + 3*a**2*b + 3*a*b**2 + b**3)/(a*b*(3*a + 4*b)), -P*(-3*L*a - 6*L*b + 3*a**2 + 6*a*b + 2*b**2)/(b*(3*a + 4*b)))}"
      ]
     },
     "execution_count": 100,
     "metadata": {},
     "output_type": "execute_result"
    }
   ],
   "source": [
    "FA,MA,FB,FC = sp.symbols('FA,MA,FB,FC')\n",
    "\n",
    "# Setup four equations such that they Eq = 0, we will only code the Eq part and = 0 is implied\n",
    "Eq1 = FA + FB + FC - P \n",
    "Eq2 = MA - FB*a -FC*(a+b) + P*L\n",
    "Eq3 = 2*a**3*FB + (2*a**3+3*a**2*b)*FC + (a**3-3*a**2*L)*P\n",
    "Eq4 = (2*a**3+3*a**2*b)*FB + 2*(a+b)**3*FC + ((a+b)**3-3*(a+b)**2*L)*P\n",
    "\n",
    "sp.linsolve([Eq1,Eq2,Eq3,Eq4],[FA,MA,FB,FC])"
   ]
  }
 ],
 "metadata": {
  "kernelspec": {
   "display_name": "Python 3 (ipykernel)",
   "language": "python",
   "name": "python3"
  },
  "language_info": {
   "codemirror_mode": {
    "name": "ipython",
    "version": 3
   },
   "file_extension": ".py",
   "mimetype": "text/x-python",
   "name": "python",
   "nbconvert_exporter": "python",
   "pygments_lexer": "ipython3",
   "version": "3.9.6"
  }
 },
 "nbformat": 4,
 "nbformat_minor": 2
}
