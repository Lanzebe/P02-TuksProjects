{
 "cells": [
  {
   "cell_type": "markdown",
   "metadata": {
    "collapsed": true
   },
   "source": [
    "# Question 1 [45]\n",
    "## Consider a bar that is clamped at $x=0$ and loaded by a force $F=10 000$ N (in the positive x-direction) at the right edge $x=0.5$.\n",
    "## The area of the bar changes with $x$ and is given by $A(x) = 0.0001x + 0.0001\\;m^2$.\n",
    "## The bar has a Young's modulus of $E=210$ GPa.\n",
    "### 1. Solve the weak form for the 1D bar problem using one three-node (quadratic) finite element to approximate displacement along the axial direction with nodes placed at x1 = 0, x2 = 0.5 and x3 = 0.2 (Note midside is not in the middle).  Integrate using a 2-point Gauss rule.  [20]\n",
    "### 2. Is the 2-point Gauss rule exact? Clearly motivate. Does the integration of the stiffness matrix involve polynomials or rational functions (polynomials over polynomials)? Use sp.pretty_print(integrandStiffnessMatrix.expand()) to investigate. Can you motivate why this is the case. [10]\n",
    "### 3. Plot the displacement over the structure. [5]\n",
    "### 4a. Plot the original and deformed structures in xi-domain. [5]\n",
    "### 4b. The original and deformed structures are plotted in x-domain - solutions supplied. Since x is quadratic in xi, given x there are two solutions for xi. The solutions between -1 and 1 is the correct solution. Sympy.roots is used to calculate roots of quadratic polynomial for given x.\n",
    "### 5. Plot the approximated stress over the structure and compare it against the expected stress $\\sigma_{xx}(\\mathbf{x}) = \\frac{F}{A(x)}$. [5]\n",
    "### 6. From the approximated stress field compute the internal force as a function of $x$ and compare it against the expected internal force. [5]\n",
    "### 7. Compute the internal strain energy stored and compare it t the work done by gravity. [5]"
   ]
  },
  {
   "cell_type": "code",
   "execution_count": 1,
   "metadata": {},
   "outputs": [
    {
     "name": "stdout",
     "output_type": "stream",
     "text": [
      "Q1.1\n",
      "A: 5.0e-6*xi**2 + 2.5e-5*xi + 0.00012\n",
      "dxdxi 0.1*xi + 0.25\n",
      "B [(1.0*xi - 0.5)/(0.1*xi + 0.25), (1.0*xi + 0.5)/(0.1*xi + 0.25), -2*xi/(0.1*xi + 0.25)]\n",
      "BT*E*B whichs is a 3x1 vector times a 1x3 vector Matrix([[210000000000.0*(16.0/(0.4*xi + 1)**2)*(1.0*xi - 0.5)**2, 210000000000.0*(16.0/(0.4*xi + 1)**2)*(1.0*xi - 0.5)*(1.0*xi + 0.5), -420000000000.0*xi*16.0/(0.4*xi + 1)**2*(1.0*xi - 0.5)], [210000000000.0*(16.0/(0.4*xi + 1)**2)*(1.0*xi - 0.5)*(1.0*xi + 0.5), 210000000000.0*(16.0/(0.4*xi + 1)**2)*(1.0*xi + 0.5)**2, -420000000000.0*xi*16.0/(0.4*xi + 1)**2*(1.0*xi + 0.5)], [-420000000000.0*xi*16.0/(0.4*xi + 1)**2*(1.0*xi - 0.5), -420000000000.0*xi*16.0/(0.4*xi + 1)**2*(1.0*xi + 0.5), 840000000000.0*xi**2*(16.0/(0.4*xi + 1)**2)]])\n",
      "Traction Vector Matrix([[0], [10000.0000000000], [0]])\n",
      "Solution for q2 and q3 is Matrix([[0.000193050193050193], [8.68725868725869e-5]])\n",
      "Nodal displacements are Matrix([[0], [0.000193050193050193], [8.68725868725869e-5]])\n"
     ]
    }
   ],
   "source": [
    "print('Q1.1')\n",
    "import numpy as np\n",
    "import sympy as sp\n",
    "xi = sp.symbols('xi')\n",
    "\n",
    "# Define the shape functions\n",
    "N1 = -1/2*xi*(1-xi)\n",
    "N2 = 1/2*xi*(1+xi)\n",
    "N3 = (1-xi)*(1+xi)\n",
    "\n",
    "# Isoparametric formulation - relate x and xi\n",
    "x1 = 0;x2 = 0.5;x3 = 0.2\n",
    "x = N1*x1 + N2*x2 + N3*x3\n",
    "\n",
    "# Define the area in terms of x, which in turn is related to xi - here A(xi) since x(xi).\n",
    "A = 0.0001 + 0.0001*x # Multipy symbolic variable x by zero just to ensure A is a symbolic expression of a constant\n",
    "print('A: {}'.format(A.simplify()))\n",
    "\n",
    "E = 210E9\n",
    "L = 0.5\n",
    "Fapplied = 10000\n",
    "\n",
    "# Compute non-zero surface traction\n",
    "t = Fapplied/A.subs({xi:1})\n",
    "\n",
    "# Setup a list of the shape functions N1, N2 and N3\n",
    "N = [N1,N2,N3]\n",
    "\n",
    "# Stiffness matrix\n",
    "dxdxi = sp.derive_by_array(x,xi); print('dxdxi {}'.format(dxdxi))\n",
    "dxidx = 1/dxdxi\n",
    "\n",
    "B = dxidx*sp.derive_by_array(N,xi); print('B {}'.format(B))\n",
    "Bmat = sp.Matrix(B).transpose() # sp.Matrix converts a 3 vector (3) into a column vector (3x1) by default!s\n",
    "BTEB = Bmat.transpose()*E*Bmat; print('BT*E*B whichs is a 3x1 vector times a 1x3 vector {}'.format(BTEB))\n",
    "\n",
    "integrandStiffnessMatrix = BTEB*A*dxdxi\n",
    "# 2-point Gauss Quadrature Integration\n",
    "StiffnessMatrix = 1.0*integrandStiffnessMatrix.subs({xi:-1/3**0.5}) + 1.0*integrandStiffnessMatrix.subs({xi:1/3**0.5})\n",
    "\n",
    "# Traction vector that results in force is given by\n",
    "F = t*sp.Matrix(N).subs({xi:1})*A.subs({xi:1}); print('Traction Vector {}'.format(F))\n",
    "\n",
    "#The first row is multiplied by W1=0, hence only row 2&3 remains, we move the first column to the traction side \n",
    "StiffnessMatrixReduced = StiffnessMatrix[1:,1:]\n",
    "#Matrix has a built-in method solve, we need to only specify the Right-Hand-Side of the Linear System to Solve\n",
    "solution = StiffnessMatrixReduced.solve(F[1:,0]-StiffnessMatrix[1:,0]*0); print('Solution for q2 and q3 is {}'.format(solution))\n",
    "\n",
    "# Here we override \n",
    "q1 = 0 # prescribed displacement\n",
    "q2 = solution[0,0] #solution from 2x2 Matrix system which is a 2x1 vector\n",
    "q3 = solution[1,0] #solution from 2x2 Matrix system which is a 2x1 vector\n",
    "q = sp.Matrix([q1,q2,q3])\n",
    "\n",
    "print('Nodal displacements are {}'.format(q))"
   ]
  },
  {
   "cell_type": "code",
   "execution_count": 2,
   "metadata": {},
   "outputs": [
    {
     "name": "stdout",
     "output_type": "stream",
     "text": [
      "Q1.2\n"
     ]
    },
    {
     "data": {
      "text/latex": [
       "$\\displaystyle \\left[\\begin{matrix}\\frac{1680000.0 \\xi^{5} + 10920000.0 \\xi^{4} + 49140000.0 \\xi^{3} + 42630000.0 \\xi^{2} - 85470000.0 \\xi + 25200000.0}{0.16 \\xi^{2} + 0.8 \\xi + 1.0} & \\frac{1680000.0 \\xi^{5} + 12600000.0 \\xi^{4} + 60900000.0 \\xi^{3} + 97650000.0 \\xi^{2} - 15330000.0 \\xi - 25200000.0}{0.16 \\xi^{2} + 0.8 \\xi + 1.0} & \\frac{\\xi \\left(- 3360000.0 \\xi^{4} - 23520000.0 \\xi^{3} - 110040000.0 \\xi^{2} - 140280000.0 \\xi + 100800000.0\\right)}{0.16 \\xi^{2} + 0.8 \\xi + 1.0}\\\\\\frac{1680000.0 \\xi^{5} + 12600000.0 \\xi^{4} + 60900000.0 \\xi^{3} + 97650000.0 \\xi^{2} - 15330000.0 \\xi - 25200000.0}{0.16 \\xi^{2} + 0.8 \\xi + 1.0} & \\frac{1680000.0 \\xi^{5} + 14280000.0 \\xi^{4} + 74340000.0 \\xi^{3} + 165270000.0 \\xi^{2} + 116130000.0 \\xi + 25200000.0}{0.16 \\xi^{2} + 0.8 \\xi + 1.0} & - \\frac{\\xi \\left(3360000.0 \\xi^{4} + 26880000.0 \\xi^{3} + 135240000.0 \\xi^{2} + 262920000.0 \\xi + 100800000.0\\right)}{0.16 \\xi^{2} + 0.8 \\xi + 1.0}\\\\\\frac{\\xi \\left(- 3360000.0 \\xi^{4} - 23520000.0 \\xi^{3} - 110040000.0 \\xi^{2} - 140280000.0 \\xi + 100800000.0\\right)}{0.16 \\xi^{2} + 0.8 \\xi + 1.0} & - \\frac{\\xi \\left(3360000.0 \\xi^{4} + 26880000.0 \\xi^{3} + 135240000.0 \\xi^{2} + 262920000.0 \\xi + 100800000.0\\right)}{0.16 \\xi^{2} + 0.8 \\xi + 1.0} & \\frac{\\xi^{2} \\left(6720000.0 \\xi^{3} + 50400000.0 \\xi^{2} + 245280000.0 \\xi + 403200000.0\\right)}{0.16 \\xi^{2} + 0.8 \\xi + 1.0}\\end{matrix}\\right]$"
      ],
      "text/plain": [
       "Matrix([\n",
       "[(1680000.0*xi**5 + 10920000.0*xi**4 + 49140000.0*xi**3 + 42630000.0*xi**2 - 85470000.0*xi + 25200000.0)/(0.16*xi**2 + 0.8*xi + 1.0),   (1680000.0*xi**5 + 12600000.0*xi**4 + 60900000.0*xi**3 + 97650000.0*xi**2 - 15330000.0*xi - 25200000.0)/(0.16*xi**2 + 0.8*xi + 1.0), xi*(-3360000.0*xi**4 - 23520000.0*xi**3 - 110040000.0*xi**2 - 140280000.0*xi + 100800000.0)/(0.16*xi**2 + 0.8*xi + 1.0)],\n",
       "[(1680000.0*xi**5 + 12600000.0*xi**4 + 60900000.0*xi**3 + 97650000.0*xi**2 - 15330000.0*xi - 25200000.0)/(0.16*xi**2 + 0.8*xi + 1.0), (1680000.0*xi**5 + 14280000.0*xi**4 + 74340000.0*xi**3 + 165270000.0*xi**2 + 116130000.0*xi + 25200000.0)/(0.16*xi**2 + 0.8*xi + 1.0), -xi*(3360000.0*xi**4 + 26880000.0*xi**3 + 135240000.0*xi**2 + 262920000.0*xi + 100800000.0)/(0.16*xi**2 + 0.8*xi + 1.0)],\n",
       "[            xi*(-3360000.0*xi**4 - 23520000.0*xi**3 - 110040000.0*xi**2 - 140280000.0*xi + 100800000.0)/(0.16*xi**2 + 0.8*xi + 1.0),               -xi*(3360000.0*xi**4 + 26880000.0*xi**3 + 135240000.0*xi**2 + 262920000.0*xi + 100800000.0)/(0.16*xi**2 + 0.8*xi + 1.0),                   xi**2*(6720000.0*xi**3 + 50400000.0*xi**2 + 245280000.0*xi + 403200000.0)/(0.16*xi**2 + 0.8*xi + 1.0)]])"
      ]
     },
     "metadata": {},
     "output_type": "display_data"
    },
    {
     "name": "stdout",
     "output_type": "stream",
     "text": [
      "Since the matrix functions did not simplyfy to a single polynomial for each term. The integration will not be exact.\n",
      "For the integration to be exact it needs to be a polynomial. But lets test.\n",
      "Exact integration using sp.integrate(integrandStiffnessMatrix,(xi,-1,1)) :\n"
     ]
    },
    {
     "data": {
      "text/latex": [
       "$\\displaystyle \\left[\\begin{matrix}140236248.566986 & 19990832.3779902 & -160227080.944976\\\\19990832.3779902 & 110160554.918661 & -130151387.29665\\\\-160227080.944976 & -130151387.29665 & 290378468.24163\\end{matrix}\\right]$"
      ],
      "text/plain": [
       "Matrix([\n",
       "[ 140236248.566986, 19990832.3779902, -160227080.944976],\n",
       "[ 19990832.3779902, 110160554.918661,  -130151387.29665],\n",
       "[-160227080.944976, -130151387.29665,   290378468.24163]])"
      ]
     },
     "metadata": {},
     "output_type": "display_data"
    },
    {
     "name": "stdout",
     "output_type": "stream",
     "text": [
      "Gaussian intergral:\n"
     ]
    },
    {
     "data": {
      "text/latex": [
       "$\\displaystyle \\left[\\begin{matrix}136500000.0 & 17500000.0 & -154000000.0\\\\17500000.0 & 108500000.0 & -126000000.0\\\\-154000000.0 & -126000000.0 & 280000000.0\\end{matrix}\\right]$"
      ],
      "text/plain": [
       "Matrix([\n",
       "[ 136500000.0,   17500000.0, -154000000.0],\n",
       "[  17500000.0,  108500000.0, -126000000.0],\n",
       "[-154000000.0, -126000000.0,  280000000.0]])"
      ]
     },
     "metadata": {},
     "output_type": "display_data"
    },
    {
     "name": "stdout",
     "output_type": "stream",
     "text": [
      "From inspection we can see that the integration was not exact.\n"
     ]
    }
   ],
   "source": [
    "print('Q1.2')\n",
    "display(sp.simplify(integrandStiffnessMatrix))\n",
    "print('Since the matrix functions did not simplyfy to a single polynomial for each term. The integration will not be exact.')\n",
    "print('For the integration to be exact it needs to be a polynomial. But lets test.')\n",
    "\n",
    "exactIntegral = sp.integrate(integrandStiffnessMatrix,(xi,-1,1))\n",
    "print('Exact integration using sp.integrate(integrandStiffnessMatrix,(xi,-1,1)) :')\n",
    "display(exactIntegral)\n",
    "print('Gaussian intergral:')\n",
    "display(StiffnessMatrix)\n",
    "print('From inspection we can see that the integration was not exact.')"
   ]
  },
  {
   "cell_type": "code",
   "execution_count": 3,
   "metadata": {},
   "outputs": [
    {
     "name": "stdout",
     "output_type": "stream",
     "text": [
      "Q1.3\n"
     ]
    },
    {
     "data": {
      "image/png": "[encoded data removed]",
      "text/plain": [
       "<Figure size 432x288 with 1 Axes>"
      ]
     },
     "metadata": {
      "needs_background": "light"
     },
     "output_type": "display_data"
    },
    {
     "name": "stdout",
     "output_type": "stream",
     "text": [
      "We expected a non-linear displacement plot as xi_ is not at the center of xi_1 and xi_2 so it produces a parabolic plot.\n"
     ]
    }
   ],
   "source": [
    "print('Q1.3')\n",
    "\n",
    "\n",
    "u = sp.Matrix(N).dot(q)\n",
    "sp.plot(u,(xi,-1,1),title=\"Displacement\")\n",
    "\n",
    "print('We expected a non-linear displacement plot as xi_ is not at the center of xi_1 and xi_2 so it produces a parabolic plot.')"
   ]
  },
  {
   "cell_type": "code",
   "execution_count": 4,
   "metadata": {},
   "outputs": [
    {
     "name": "stdout",
     "output_type": "stream",
     "text": [
      "Q1.4a\n"
     ]
    },
    {
     "data": {
      "image/png": "[encoded data removed]",
      "text/plain": [
       "<Figure size 432x288 with 1 Axes>"
      ]
     },
     "metadata": {
      "needs_background": "light"
     },
     "output_type": "display_data"
    },
    {
     "data": {
      "text/plain": [
       "<sympy.plotting.plot.Plot at 0x1e0543b4dc0>"
      ]
     },
     "execution_count": 4,
     "metadata": {},
     "output_type": "execute_result"
    }
   ],
   "source": [
    "print('Q1.4a')\n",
    "u = sp.Matrix(N).dot(q)\n",
    "\n",
    "sp.plot(u,u*0 ,(xi,-1,1),title=\"Displacement\")"
   ]
  },
  {
   "cell_type": "code",
   "execution_count": 5,
   "metadata": {},
   "outputs": [
    {
     "name": "stdout",
     "output_type": "stream",
     "text": [
      "Q1.4b - Not a question - solution supplied\n",
      "Relationship between x and xi is quadratic: 0.05*xi**2 + 0.25*xi + 0.2\n",
      "Given x = 0.25 - there are two roots for xi [-5.19258240356725, 0.192582403567252]\n",
      "One root (first one stored in index 0) -5.19258240356725 is between -1 and 1, the other root is outside -1 and 1\n",
      "Hence, for each x we can compute the corresponding xi\n"
     ]
    },
    {
     "data": {
      "image/png": "[encoded data removed]",
      "text/plain": [
       "<Figure size 432x288 with 1 Axes>"
      ]
     },
     "metadata": {
      "needs_background": "light"
     },
     "output_type": "display_data"
    }
   ],
   "source": [
    "print('Q1.4b - Not a question - solution supplied')\n",
    "print('Relationship between x and xi is quadratic: {}'.format(x.expand()))\n",
    "print('Given x = 0.25 - there are two roots for xi {}'.format(sp.roots(x - 0.25,multiple=True)))\n",
    "print('One root (first one stored in index 0) {} is between -1 and 1, the other root is outside -1 and 1'.format(sp.roots(x - 0.25,multiple=True)[0]))\n",
    "print('Hence, for each x we can compute the corresponding xi')\n",
    "import matplotlib.pyplot as plt\n",
    "X = np.linspace(0,0.5,21) # X evaluated numerically using linspace\n",
    "XI = []\n",
    "for XN in X:\n",
    "    XI.append(sp.roots(x-XN,multiple=True)[1])\n",
    "XI = np.array(XI)\n",
    "\n",
    "NN1 = -0.5*XI*(1-XI) # Numerically evaluated shape function N1\n",
    "NN2 = 0.5*XI*(1+XI) # Numerically evaluated shape function N2\n",
    "NN3 = (1-XI)*(1+XI) # Numerically evaluated shape function N3\n",
    "\n",
    "plt.plot(X,X*0,'ko',label='undeformed structure')\n",
    "factor = 1000 #magnification factor\n",
    "plt.plot(X+NN1*q[0]*factor + NN2*q[1]*factor + NN3*q[2]*factor,X*0,'r*',label='deformed structure (x1000 magnification)')\n",
    "plt.legend()\n",
    "plt.show()"
   ]
  },
  {
   "cell_type": "code",
   "execution_count": 6,
   "metadata": {},
   "outputs": [
    {
     "name": "stdout",
     "output_type": "stream",
     "text": [
      "Q1.5\n",
      "root1: -4.00000000000000\n",
      "root2: -1.00000000000000\n",
      "Stress over the whole lenght L: sigma_xx(x):\n"
     ]
    },
    {
     "data": {
      "text/latex": [
       "$\\displaystyle \\frac{15420117.0468797}{\\left(x - 0.00833333333333333\\right)^{0.5}} + 6756756.75675675$"
      ],
      "text/plain": [
       "15420117.0468797*(x - 0.00833333333333333)**(-0.5) + 6756756.75675675"
      ]
     },
     "metadata": {},
     "output_type": "display_data"
    },
    {
     "name": "stderr",
     "output_type": "stream",
     "text": [
      "C:\\Users\\ebers\\AppData\\Local\\Temp/ipykernel_11788/1876335151.py:25: RuntimeWarning: invalid value encountered in double_scalars\n",
      "  return (-5/6) + ((10/3)*xa-(1/36))**0.5\n",
      "No handles with labels found to put in legend.\n"
     ]
    },
    {
     "data": {
      "image/png": "[encoded data removed]",
      "text/plain": [
       "<Figure size 432x288 with 1 Axes>"
      ]
     },
     "metadata": {
      "needs_background": "light"
     },
     "output_type": "display_data"
    },
    {
     "name": "stdout",
     "output_type": "stream",
     "text": [
      "Could not figure out the inverse relationship of xi as a function of x. Further work required\n"
     ]
    }
   ],
   "source": [
    "print('Q1.5')\n",
    "\n",
    "###Functions required for detirmining equlibrium\n",
    "def StrainMatrixFromDisplacement3d(u,v,w,x,y,z):\n",
    "    displacement_vector = [u,v,w] \n",
    "    spatial_coordinates = [x, y, z]\n",
    "    displacement_gradient = sp.derive_by_array(displacement_vector, spatial_coordinates)\n",
    "    return sp.simplify(0.5*(displacement_gradient.transpose() + displacement_gradient))\n",
    "\n",
    "def StressVectorFromStrain3d(StrainMatrix ,D = 1):\n",
    "    #D=1 is the default value of the matrix D\n",
    "    if D == 1:\n",
    "        D = E/((1 + nu)*(1 - 2*nu))*sp.Matrix([[1-nu,nu,nu,0,0,0],[nu,1-nu,nu,0,0,0],[nu,nu,1-nu,0,0,0],[0,0,0,0.5-nu,0,0],[0,0,0,0,0.5-nu,0],[0,0,0,0,0,0.5-nu]])\n",
    "    strain_vector = sp.Matrix([StrainMatrix[0,0],StrainMatrix[1,1],StrainMatrix[2,2],2*StrainMatrix[1,2],2*StrainMatrix[0,2],2*StrainMatrix[0,1]])\n",
    "    \n",
    "    return sp.simplify(D*strain_vector)\n",
    "\n",
    "xa,ya,za = sp.symbols('x,y,z')\n",
    "\n",
    "###material properties\n",
    "nu = 0  #### 1d simplifications\n",
    "print('root1:',sp.roots(x,multiple=True)[0])\n",
    "print('root2:',sp.roots(x,multiple=True)[1])\n",
    "def XtoXi(xa):\n",
    "    return (-5/6) + ((10/3)*xa-(1/36))**0.5\n",
    "\n",
    "\n",
    "def bla(array):\n",
    "    a =[]\n",
    "    for i in array:\n",
    "        a.append(XtoXi(i))\n",
    "    return a\n",
    "\n",
    "\n",
    "u = sp.simplify((N1*q1 + N2*q2 +  N3*q3).subs({'xi':XtoXi(xa)}))\n",
    "v = 0\n",
    "w = 0\n",
    "\n",
    "StrainMatrix = StrainMatrixFromDisplacement3d(u,v,w,xa,ya,za)\n",
    "\n",
    "StressVector = StressVectorFromStrain3d(StrainMatrix)\n",
    "\n",
    "print('Stress over the whole lenght L: sigma_xx(x):')\n",
    "\n",
    "display(StressVector[0])\n",
    "\n",
    "def StressAtPoint(xn):\n",
    "    a = []\n",
    "    for i in xn:\n",
    "        a.append((StressVector[0].subs({'x':i})))\n",
    "    return a\n",
    "\n",
    "def TraditionalStress(xn):\n",
    "    a = []\n",
    "    for i in xn:\n",
    "        a.append((10000)/(0.0001*i+0.0001))\n",
    "    return a\n",
    "\n",
    "xn = np.linspace(0,0.5,100)\n",
    "\n",
    "\n",
    "\n",
    "plt.plot(xn,bla(xn))\n",
    "#plt.plot(xn,StressAtPoint(xn),label='FEM stress')\n",
    "#plt.plot(xn,TraditionalStress(xn),label='Traditional stress')\n",
    "plt.title('FEA stress compaired to predicted internal stress.')\n",
    "plt.legend()\n",
    "plt.grid()\n",
    "plt.show()\n",
    "print('Could not figure out the inverse relationship of xi as a function of x. Further work required')"
   ]
  },
  {
   "cell_type": "code",
   "execution_count": 7,
   "metadata": {},
   "outputs": [
    {
     "name": "stdout",
     "output_type": "stream",
     "text": [
      "Q1.6\n"
     ]
    }
   ],
   "source": [
    "print('Q1.6')\n"
   ]
  },
  {
   "cell_type": "code",
   "execution_count": 8,
   "metadata": {},
   "outputs": [
    {
     "name": "stdout",
     "output_type": "stream",
     "text": [
      "Q1.7\n"
     ]
    }
   ],
   "source": [
    "print('Q1.7')\n"
   ]
  },
  {
   "cell_type": "markdown",
   "metadata": {},
   "source": [
    "# Question 2 [40]\n",
    "## Consider a bar that is clamped at $x=0$ and loaded by a force $F=10 000$ N (in the positive x-direction) at the right edge $x=0.5$.\n",
    "## The area of the bar changes with $x$ and is given by $A(x) = 0.0001x + 0.0001\\;m^2$.\n",
    "## The bar has a Young's modulus of $E=210$ GPa.\n",
    "### 1. Solve the weak form for the 1D bar problem using one 2-node  (linear) finite element to approximate displacement along the axial direction.  Integrate using a 2-point Gauss rule.  [20]\n",
    "### 2. What Gauss rule exactly integrates the stiffness matrix. [5]\n",
    "### 3a. Plot the original and deformed structures in xi-domain. [5]\n",
    "### 3b. The original and deformed structures is plotted in x-domain - solutions supplied. Since x is quadratic in xi, given x there are two solutions for xi. The solutions between -1 and 1 is the correct solution. Sympy.roots is used to calculate roots of quadratic polynomial for given x.\n",
    "### 4. Plot the approximated stress over the structure and compare it against the expected stress $\\sigma_{xx}(\\mathbf{x}) = \\frac{F}{A(x)}$. [5]\n",
    "### 5. From the approximated stress field compute the internal force as a function of $x$ and compare it against the expected internal force. [5]"
   ]
  },
  {
   "cell_type": "code",
   "execution_count": 9,
   "metadata": {},
   "outputs": [
    {
     "name": "stdout",
     "output_type": "stream",
     "text": [
      "Q2.1\n",
      "A: 2.5e-5*xi + 0.000125\n",
      "dxdxi 0.250000000000000\n",
      "B [-2.0, 2.0, -8.0*xi]\n",
      "BT*E*B whichs is a 3x1 vector times a 1x3 vector Matrix([[840000000000.000, -840000000000.000, 3360000000000.0*xi], [-840000000000.000, 840000000000.000, -3360000000000.0*xi], [3360000000000.0*xi, -3360000000000.0*xi, 13440000000000.0*xi**2]])\n",
      "Traction Vector Matrix([[0], [10000.0000000000], [0]])\n",
      "Solution for q2 and q3 is Matrix([[0.000193050193050193], [9.65250965250965e-6]])\n",
      "Nodal displacements are Matrix([[0], [0.000193050193050193], [9.65250965250965e-6]])\n"
     ]
    }
   ],
   "source": [
    "print('Q2.1')\n",
    "import numpy as np\n",
    "import sympy as sp\n",
    "xi = sp.symbols('xi')\n",
    "\n",
    "# Define the shape functions\n",
    "N1 = (-1/2)*xi+0.5\n",
    "N2 = (1/2)*xi+0.5\n",
    "\n",
    "# Isoparametric formulation - relate x and xi\n",
    "x1 = 0;x2 = 0.5\n",
    "x = N1*x1 + N2*x2\n",
    "\n",
    "# Define the area in terms of x, which in turn is related to xi - here A(xi) since x(xi).\n",
    "A = 0.0001 + 0.0001*x # Multipy symbolic variable x by zero just to ensure A is a symbolic expression of a constant\n",
    "print('A: {}'.format(A.simplify()))\n",
    "\n",
    "E = 210E9\n",
    "L = 0.5\n",
    "Fapplied = 10000\n",
    "\n",
    "# Compute non-zero surface traction\n",
    "t = Fapplied/A.subs({xi:1})\n",
    "\n",
    "# Setup a list of the shape functions N1, N2 and N3\n",
    "N = [N1,N2,N3]\n",
    "\n",
    "# Stiffness matrix\n",
    "dxdxi = sp.derive_by_array(x,xi); print('dxdxi {}'.format(dxdxi))\n",
    "dxidx = 1/dxdxi\n",
    "\n",
    "B = dxidx*sp.derive_by_array(N,xi); print('B {}'.format(B))\n",
    "Bmat = sp.Matrix(B).transpose() # sp.Matrix converts a 3 vector (3) into a column vector (3x1) by default!s\n",
    "BTEB = Bmat.transpose()*E*Bmat; print('BT*E*B whichs is a 3x1 vector times a 1x3 vector {}'.format(BTEB))\n",
    "\n",
    "integrandStiffnessMatrix = BTEB*A*dxdxi\n",
    "# 2-point Gauss Quadrature Integration\n",
    "StiffnessMatrix = 1.0*integrandStiffnessMatrix.subs({xi:-1/3**0.5}) + 1.0*integrandStiffnessMatrix.subs({xi:1/3**0.5})\n",
    "\n",
    "# Traction vector that results in force is given by\n",
    "F = t*sp.Matrix(N).subs({xi:1})*A.subs({xi:1}); print('Traction Vector {}'.format(F))\n",
    "\n",
    "#The first row is multiplied by W1=0, hence only row 2&3 remains, we move the first column to the traction side \n",
    "StiffnessMatrixReduced = StiffnessMatrix[1:,1:]\n",
    "#Matrix has a built-in method solve, we need to only specify the Right-Hand-Side of the Linear System to Solve\n",
    "solution = StiffnessMatrixReduced.solve(F[1:,0]-StiffnessMatrix[1:,0]*0); print('Solution for q2 and q3 is {}'.format(solution))\n",
    "\n",
    "# Here we override \n",
    "q1 = 0 # prescribed displacement\n",
    "q2 = solution[0,0] #solution from 2x2 Matrix system which is a 2x1 vector\n",
    "q3 = solution[1,0] #solution from 2x2 Matrix system which is a 2x1 vector\n",
    "q = sp.Matrix([q1,q2,q3])\n",
    "\n",
    "print('Nodal displacements are {}'.format(q))"
   ]
  },
  {
   "cell_type": "code",
   "execution_count": 10,
   "metadata": {},
   "outputs": [
    {
     "name": "stdout",
     "output_type": "stream",
     "text": [
      "Q2.2\n"
     ]
    },
    {
     "data": {
      "text/latex": [
       "$\\displaystyle \\left[\\begin{matrix}5250000.0 \\xi + 26250000.0 & - 5250000.0 \\xi - 26250000.0 & \\xi \\left(21000000.0 \\xi + 105000000.0\\right)\\\\- 5250000.0 \\xi - 26250000.0 & 5250000.0 \\xi + 26250000.0 & - \\xi \\left(21000000.0 \\xi + 105000000.0\\right)\\\\\\xi \\left(21000000.0 \\xi + 105000000.0\\right) & - \\xi \\left(21000000.0 \\xi + 105000000.0\\right) & \\xi^{2} \\left(84000000.0 \\xi + 420000000.0\\right)\\end{matrix}\\right]$"
      ],
      "text/plain": [
       "Matrix([\n",
       "[       5250000.0*xi + 26250000.0,        -5250000.0*xi - 26250000.0,    xi*(21000000.0*xi + 105000000.0)],\n",
       "[      -5250000.0*xi - 26250000.0,         5250000.0*xi + 26250000.0,   -xi*(21000000.0*xi + 105000000.0)],\n",
       "[xi*(21000000.0*xi + 105000000.0), -xi*(21000000.0*xi + 105000000.0), xi**2*(84000000.0*xi + 420000000.0)]])"
      ]
     },
     "metadata": {},
     "output_type": "display_data"
    },
    {
     "name": "stdout",
     "output_type": "stream",
     "text": [
      "Exact integration using sp.integrate(integrandStiffnessMatrix,(xi,-1,1)) :\n"
     ]
    },
    {
     "data": {
      "text/latex": [
       "$\\displaystyle \\left[\\begin{matrix}52500000.0 & -52500000.0 & 14000000.0\\\\-52500000.0 & 52500000.0 & -14000000.0\\\\14000000.0 & -14000000.0 & 280000000.0\\end{matrix}\\right]$"
      ],
      "text/plain": [
       "Matrix([\n",
       "[ 52500000.0, -52500000.0,  14000000.0],\n",
       "[-52500000.0,  52500000.0, -14000000.0],\n",
       "[ 14000000.0, -14000000.0, 280000000.0]])"
      ]
     },
     "metadata": {},
     "output_type": "display_data"
    },
    {
     "name": "stdout",
     "output_type": "stream",
     "text": [
      "Gaussian intergral:\n"
     ]
    },
    {
     "data": {
      "text/latex": [
       "$\\displaystyle \\left[\\begin{matrix}52500000.0 & -52500000.0 & 14000000.0\\\\-52500000.0 & 52500000.0 & -14000000.0\\\\14000000.0 & -14000000.0 & 280000000.0\\end{matrix}\\right]$"
      ],
      "text/plain": [
       "Matrix([\n",
       "[ 52500000.0, -52500000.0,  14000000.0],\n",
       "[-52500000.0,  52500000.0, -14000000.0],\n",
       "[ 14000000.0, -14000000.0, 280000000.0]])"
      ]
     },
     "metadata": {},
     "output_type": "display_data"
    },
    {
     "name": "stdout",
     "output_type": "stream",
     "text": [
      "Because the polynomial is of order 1 all gaussian points will integrate it exactly.\n"
     ]
    }
   ],
   "source": [
    "print('Q2.2')\n",
    "display(sp.simplify(integrandStiffnessMatrix))\n",
    "\n",
    "exactIntegral = sp.integrate(integrandStiffnessMatrix,(xi,-1,1))\n",
    "print('Exact integration using sp.integrate(integrandStiffnessMatrix,(xi,-1,1)) :')\n",
    "display(exactIntegral)\n",
    "print('Gaussian intergral:')\n",
    "display(StiffnessMatrix)\n",
    "print('Because the polynomial is of order 1 all gaussian points will integrate it exactly.')"
   ]
  },
  {
   "cell_type": "code",
   "execution_count": 11,
   "metadata": {},
   "outputs": [
    {
     "name": "stdout",
     "output_type": "stream",
     "text": [
      "Q2.3a\n"
     ]
    },
    {
     "data": {
      "image/png": "[encoded data removed]",
      "text/plain": [
       "<Figure size 432x288 with 1 Axes>"
      ]
     },
     "metadata": {
      "needs_background": "light"
     },
     "output_type": "display_data"
    },
    {
     "data": {
      "text/plain": [
       "<sympy.plotting.plot.Plot at 0x1e054579160>"
      ]
     },
     "execution_count": 11,
     "metadata": {},
     "output_type": "execute_result"
    }
   ],
   "source": [
    "print('Q2.3a')\n",
    "u = sp.Matrix(N).dot(q)\n",
    "\n",
    "sp.plot(u,u*0 ,(xi,-1,1),title=\" Deformed Displacement vs undeformed\")"
   ]
  },
  {
   "cell_type": "code",
   "execution_count": 12,
   "metadata": {},
   "outputs": [
    {
     "name": "stdout",
     "output_type": "stream",
     "text": [
      "Q2.3b\n"
     ]
    },
    {
     "data": {
      "image/png": "[encoded data removed]",
      "text/plain": [
       "<Figure size 432x288 with 1 Axes>"
      ]
     },
     "metadata": {
      "needs_background": "light"
     },
     "output_type": "display_data"
    }
   ],
   "source": [
    "print('Q2.3b')\n",
    "import matplotlib.pyplot as plt\n",
    "X = np.linspace(0,0.5,21) # X evaluated numerically using linspace\n",
    "XI = []\n",
    "for XN in X:\n",
    "    XI.append(sp.roots(x-XN,multiple=True)[0])\n",
    "XI = np.array(XI)\n",
    "\n",
    "NN1 = -0.5*XI*(1-XI) # Numerically evaluated shape function N1\n",
    "NN2 = 0.5*XI*(1+XI) # Numerically evaluated shape function N2\n",
    "NN3 = (1-XI)*(1+XI) # Numerically evaluated shape function N3\n",
    "\n",
    "plt.plot(X,X*0,'ko',label='undeformed structure')\n",
    "factor = 1000 #magnification factor\n",
    "plt.plot(X+NN1*q[0]*factor + NN2*q[1]*factor + NN3*q[2]*factor,X*0,'r*',label='deformed structure (x1000 magnification)')\n",
    "plt.legend()\n",
    "plt.show()"
   ]
  },
  {
   "cell_type": "code",
   "execution_count": 13,
   "metadata": {},
   "outputs": [
    {
     "name": "stdout",
     "output_type": "stream",
     "text": [
      "Q2.4\n",
      "Stress over the whole lenght L: sigma_xx(x):\n"
     ]
    },
    {
     "data": {
      "text/latex": [
       "$\\displaystyle 40540540.5405405$"
      ],
      "text/plain": [
       "40540540.5405405"
      ]
     },
     "metadata": {},
     "output_type": "display_data"
    },
    {
     "data": {
      "image/png": "[encoded data removed]",
      "text/plain": [
       "<Figure size 432x288 with 1 Axes>"
      ]
     },
     "metadata": {
      "needs_background": "light"
     },
     "output_type": "display_data"
    },
    {
     "name": "stdout",
     "output_type": "stream",
     "text": [
      "The fem stress is expected to be approximated by an constant. And the actual expected stress should be in the form of a inverse function.\n",
      "From the graph confirm this result but the order of magnitude of the error is still way to high. My recomendation it to investigate bug in code and to revise literature.\n"
     ]
    }
   ],
   "source": [
    "print('Q2.4')\n",
    "###Functions required for detirmining equlibrium\n",
    "def StrainMatrixFromDisplacement3d(u,v,w,x,y,z):\n",
    "    displacement_vector = [u,v,w] \n",
    "    spatial_coordinates = [x, y, z]\n",
    "    displacement_gradient = sp.derive_by_array(displacement_vector, spatial_coordinates)\n",
    "    return sp.simplify(0.5*(displacement_gradient.transpose() + displacement_gradient))\n",
    "\n",
    "def StressVectorFromStrain3d(StrainMatrix ,D = 1):\n",
    "    #D=1 is the default value of the matrix D\n",
    "    if D == 1:\n",
    "        D = E/((1 + nu)*(1 - 2*nu))*sp.Matrix([[1-nu,nu,nu,0,0,0],[nu,1-nu,nu,0,0,0],[nu,nu,1-nu,0,0,0],[0,0,0,0.5-nu,0,0],[0,0,0,0,0.5-nu,0],[0,0,0,0,0,0.5-nu]])\n",
    "    strain_vector = sp.Matrix([StrainMatrix[0,0],StrainMatrix[1,1],StrainMatrix[2,2],2*StrainMatrix[1,2],2*StrainMatrix[0,2],2*StrainMatrix[0,1]])\n",
    "    \n",
    "    return sp.simplify(D*strain_vector)\n",
    "\n",
    "xa,ya,za = sp.symbols('x,y,z')\n",
    "\n",
    "###material properties\n",
    "nu = 0  #### 1d simplifications\n",
    "\n",
    "def XtoXi(xa):\n",
    "    return 2*xa-1\n",
    "\n",
    "\n",
    "def bla(array):\n",
    "    a =[]\n",
    "    for i in array:\n",
    "        a.append(XtoXi(i))\n",
    "    return a\n",
    "\n",
    "\n",
    "u = sp.simplify((N1*q1 + N2*q2).subs({'xi':XtoXi(xa)}))\n",
    "v = 0\n",
    "w = 0\n",
    "\n",
    "StrainMatrix = StrainMatrixFromDisplacement3d(u,v,w,xa,ya,za)\n",
    "\n",
    "StressVector = StressVectorFromStrain3d(StrainMatrix)\n",
    "\n",
    "print('Stress over the whole lenght L: sigma_xx(x):')\n",
    "\n",
    "display(StressVector[0])\n",
    "\n",
    "def StressAtPoint(xn):\n",
    "    a = []\n",
    "    for i in xn:\n",
    "        a.append((StressVector[0].subs({'x':i})))\n",
    "    return a\n",
    "\n",
    "def TraditionalStress(xn):\n",
    "    a = []\n",
    "    for i in xn:\n",
    "        a.append((10000)/(0.0001*i+0.0001))\n",
    "    return a\n",
    "\n",
    "xn = np.linspace(0,0.5,100)\n",
    "\n",
    "\n",
    "\n",
    "\n",
    "plt.plot(xn,StressAtPoint(xn),label='FEM stress')\n",
    "plt.plot(xn,TraditionalStress(xn),label='Traditional stress')\n",
    "plt.title('FEA stress compaired to predicted internal stress.')\n",
    "plt.legend()\n",
    "plt.grid()\n",
    "plt.show()\n",
    "\n",
    "print('The fem stress is expected to be approximated by an constant. And the actual expected stress should be in the form of a inverse function.')\n",
    "print('From the graph confirm this result but the order of magnitude of the error is still way to high. My recomendation it to investigate bug in code and to revise literature.')\n"
   ]
  },
  {
   "cell_type": "code",
   "execution_count": 14,
   "metadata": {},
   "outputs": [
    {
     "name": "stdout",
     "output_type": "stream",
     "text": [
      "Q2.5\n"
     ]
    }
   ],
   "source": [
    "print('Q2.5')\n"
   ]
  },
  {
   "cell_type": "markdown",
   "metadata": {},
   "source": [
    "# Question 3 [40]\n",
    "## Consider a bar of steel ($\\rho = 7600$ $kg/m^3$, $E=210$ GPa) with constant area of 0.01$m^2$ and a of length 1m is hanging under its own weight (assume $g=9.81\\;m/s^2$), while it is clamped at the top. \n",
    "### 1. Solve the weak form for the 1D bar problem using one 3-node  (quadratic) finite element (choose midside node to be in the middle) to approximate displacement along the axial direction.  [20]\n",
    "### 2a. Plot the displacement field. [5]\n",
    "### 2b. Plot the original and deformed structures in xi and x-domains. [10]\n",
    "### 3. Plot the approximated stress over the structure and compare it against the expected stress $\\sigma_{xx}(\\mathbf{x}) = \\frac{F}{A(x)}$. [5]\n",
    "### 4 Is equilibrium satisfied? [5]\n",
    "### 5. From the approximated stress field compute the internal force as a function of $x$ and compare it against the expected internal force. [5]\n",
    "### 6. Compute the internal strain energy stored and compare it t the work done by gravity. [5]\n",
    "### 7. Compute the eigenvalues of the reduced stiffness matrix (after prescribe displacements have been eliminated) and compare it to the strain energy of applying the eigenvector as the displacement. What can you conclude? [5]"
   ]
  },
  {
   "cell_type": "code",
   "execution_count": 15,
   "metadata": {},
   "outputs": [
    {
     "name": "stdout",
     "output_type": "stream",
     "text": [
      "Q3.1\n"
     ]
    }
   ],
   "source": [
    "print('Q3.1')"
   ]
  },
  {
   "cell_type": "code",
   "execution_count": 16,
   "metadata": {},
   "outputs": [
    {
     "name": "stdout",
     "output_type": "stream",
     "text": [
      "Q3.2a\n"
     ]
    }
   ],
   "source": [
    "print('Q3.2a')\n"
   ]
  },
  {
   "cell_type": "code",
   "execution_count": 17,
   "metadata": {},
   "outputs": [
    {
     "name": "stdout",
     "output_type": "stream",
     "text": [
      "Q3.2b\n"
     ]
    }
   ],
   "source": [
    "print('Q3.2b')\n"
   ]
  },
  {
   "cell_type": "code",
   "execution_count": 18,
   "metadata": {},
   "outputs": [
    {
     "name": "stdout",
     "output_type": "stream",
     "text": [
      "Q3.3\n"
     ]
    }
   ],
   "source": [
    "print('Q3.3')\n"
   ]
  },
  {
   "cell_type": "code",
   "execution_count": 19,
   "metadata": {},
   "outputs": [
    {
     "name": "stdout",
     "output_type": "stream",
     "text": [
      "Q3.4\n"
     ]
    }
   ],
   "source": [
    "print('Q3.4')\n"
   ]
  },
  {
   "cell_type": "code",
   "execution_count": 20,
   "metadata": {},
   "outputs": [
    {
     "name": "stdout",
     "output_type": "stream",
     "text": [
      "Q3.5\n"
     ]
    }
   ],
   "source": [
    "print('Q3.5')\n"
   ]
  },
  {
   "cell_type": "code",
   "execution_count": 21,
   "metadata": {},
   "outputs": [
    {
     "name": "stdout",
     "output_type": "stream",
     "text": [
      "Q3.6\n"
     ]
    }
   ],
   "source": [
    "print('Q3.6')\n"
   ]
  },
  {
   "cell_type": "code",
   "execution_count": 22,
   "metadata": {},
   "outputs": [
    {
     "name": "stdout",
     "output_type": "stream",
     "text": [
      "Q3.7\n"
     ]
    }
   ],
   "source": [
    "print('Q3.7')\n"
   ]
  }
 ],
 "metadata": {
  "anaconda-cloud": {},
  "kernelspec": {
   "display_name": "Python 3 (ipykernel)",
   "language": "python",
   "name": "python3"
  },
  "language_info": {
   "codemirror_mode": {
    "name": "ipython",
    "version": 3
   },
   "file_extension": ".py",
   "mimetype": "text/x-python",
   "name": "python",
   "nbconvert_exporter": "python",
   "pygments_lexer": "ipython3",
   "version": "3.9.6"
  }
 },
 "nbformat": 4,
 "nbformat_minor": 1
}
