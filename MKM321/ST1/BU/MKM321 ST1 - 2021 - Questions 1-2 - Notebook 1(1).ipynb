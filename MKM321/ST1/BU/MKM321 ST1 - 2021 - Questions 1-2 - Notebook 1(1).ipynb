{
 "cells": [
  {
   "cell_type": "markdown",
   "metadata": {},
   "source": [
    "*Surnmame and Initials*\n",
    "\n",
    "*Student Number*\n",
    "\n",
    "### Semester Test 1 MKM321 Full marks [45]\n",
    "-----------\n",
    "### Duration: 90 minutes (90 minutes of writing and 15 minutes to upload and complete the ClickUP test)\n",
    "### Allowable Material: Prescribed Textbook and material available on ClickUP.\n",
    "### Questions 1 - 3\n",
    "### For Questions 2-3, grades are only awarded for the rationale, reasoning, methodology or evidence that backup the answer. \n",
    "### All questions must also be answered on ClickUP which includes uploading this notebook and filling in the multiple choice questions.\n",
    "---------\n",
    "\t\n",
    "### Integrity Statement\n",
    "\n",
    "### The University of Pretoria commits itself to produce academic work of integrity. I affirm that I am aware of and have read the Rules and Policies of the University, more specifically the Disciplinary Procedure and the Tests and Examinations Rules, which prohibit any unethical, dishonest or improper conduct during tests, assignments, examinations and/or any other forms of assessment. I am aware that no student or any other person may assist or attempt to assist another student, or obtain help, or attempt to obtain help from another student or any other person during tests, assessments, assignments, examinations and/or any other forms of assessment.\n",
    "------------------------------------\n",
    "\n",
    "# Question 1 **[15]** - Multiple choice to be answered on ClickUP"
   ]
  },
  {
   "cell_type": "markdown",
   "metadata": {},
   "source": [
    "### 1.1 Given the stress matrix (defined for the unit cube x, y and z from -1 to 1 and units MPa), \n",
    "$$\n",
    "\\mathbf{\\sigma}(x,y,z)=\n",
    "\\begin{bmatrix}   \n",
    "2x^2 & -4yx & 2 \\\\\n",
    "-4yx & 2y^2  & 0 \\\\\n",
    "2 & 0 & 2z^2 \\\\\n",
    "\\end{bmatrix}\n",
    "$$\n",
    "### give the traction vector on the x-y surface at $z=1$  **[3]**\n",
    "### A)  $$\n",
    "\\mathbf{T}(x,y,z)=\n",
    "\\begin{bmatrix}   \n",
    "2x^2 & -4yx & 2 \\\\\n",
    "\\end{bmatrix}\n",
    "$$\n",
    "\n",
    "### B) $$ \\mathbf{T}(x,y)=\n",
    "\\begin{bmatrix}   \n",
    "-4yx & 2y^2  & 0 \\\\\n",
    "\\end{bmatrix}\n",
    "$$\n",
    "### C) $$ \\mathbf{T}(x,y,z)=\n",
    "\\begin{bmatrix}   \n",
    "2 & 0 & 2z^2 \\\\\n",
    "\\end{bmatrix}\n",
    "$$\n",
    "### D) $$ \\mathbf{T}(x,y)=\n",
    "\\begin{bmatrix}   \n",
    "2 & 0 & 2 \\\\\n",
    "\\end{bmatrix}\n",
    "$$\n",
    "### E) None/All of the above"
   ]
  },
  {
   "cell_type": "code",
   "execution_count": null,
   "metadata": {},
   "outputs": [],
   "source": []
  },
  {
   "cell_type": "markdown",
   "metadata": {},
   "source": [
    "### 1.2 Which of the following vectors is a unit vector that is normal to the vector $\\mathbf{n} = \\begin{bmatrix} 0.707,\\;\\; 0.707 \\end{bmatrix}$ (given up to three significant digits) in two dimensions?: **[3]**\n",
    "### A) $\\mathbf{n} = \\begin{bmatrix} 0.000,\\;\\; 0.000, \\end{bmatrix}$\n",
    "### B) $\\mathbf{n} = \\begin{bmatrix} 1.000,\\;\\; 0.000,  \\end{bmatrix}$\n",
    "### C) $\\mathbf{n} = \\begin{bmatrix} 0.707,\\;\\; 0.707 \\end{bmatrix}$\n",
    "### D) $\\mathbf{n} = \\begin{bmatrix} 0.707\\;\\; -0.707 \\end{bmatrix}$\n",
    "### E) None/All of the above"
   ]
  },
  {
   "cell_type": "code",
   "execution_count": null,
   "metadata": {},
   "outputs": [],
   "source": []
  },
  {
   "cell_type": "markdown",
   "metadata": {},
   "source": [
    "### 1.3 Given the displacement field $$u(x,y,z) = x,$$ $$v(x,y,z) = -0.3y,$$ $$z(x,y,z) = -0.3z,$$ with $x$ defined between 0 and 1, $y$ between -0.5 and 0.5 and $z$ between -0.5 and 0.5. Which description best matches the displacement field? **[3]**\n",
    "### A) Uniaxial tension\n",
    "### B) Bending\n",
    "### C)  Rigid body translation\n",
    "### D)  Rigid body rotation \n",
    "### E) None/All of the above"
   ]
  },
  {
   "cell_type": "code",
   "execution_count": null,
   "metadata": {},
   "outputs": [],
   "source": []
  },
  {
   "cell_type": "markdown",
   "metadata": {},
   "source": [
    "### 1.4 Consider the following three force vectors (in units N) acting through the xy, xz and yz surfaces of a cube with side lengths 1:\n",
    "### $$f_{xy} = \\begin{bmatrix} 1, 0, 0\\\\ \\end{bmatrix},$$ $$f_{xz} = \\begin{bmatrix} 0, 2, 0\\\\ \\end{bmatrix},$$ $$f_{yz} = \\begin{bmatrix} 0, 1, 3\\\\ \\end{bmatrix}.$$ \n",
    "### Is the state of stress in equilibrium at this point? **[3]**\n",
    "###  True / False"
   ]
  },
  {
   "cell_type": "code",
   "execution_count": null,
   "metadata": {},
   "outputs": [],
   "source": []
  },
  {
   "cell_type": "markdown",
   "metadata": {},
   "source": [
    "### 1.5 Consider the following three force vectors (in units N) acting through the xy, xz and yz surfaces of a cube with side lengths 1:\n",
    "### $$f_{xy} = \\begin{bmatrix} 1, 0, 0\\\\ \\end{bmatrix},$$ $$f_{xz} = \\begin{bmatrix} 0, 2, 0\\\\ \\end{bmatrix},$$ $$f_{yz} = \\begin{bmatrix} 0, 1, 3\\\\ \\end{bmatrix}.$$ \n",
    "### Give the associated stress tensor: **[3]**\n",
    "### A) $$\n",
    "\\mathbf{\\sigma}(x,y,z)\n",
    "=\n",
    "\\begin{bmatrix}   \n",
    "1 & 0 & 0 \\\\\n",
    "0 & 2 & 1 \\\\\n",
    "0 & 0 & 3 \\\\\n",
    "\\end{bmatrix}\n",
    "$$\n",
    "### B)  $$\n",
    "\\mathbf{\\sigma}(x,y,z)\n",
    "=\n",
    "\\begin{bmatrix}   \n",
    "1 & 0 & 0 \\\\\n",
    "0 & 2 & 0 \\\\\n",
    "0 & 1 & 3 \\\\\n",
    "\\end{bmatrix}\n",
    "$$\n",
    "### C)  $$\n",
    "\\mathbf{\\sigma}(x,y,z)\n",
    "=\n",
    "\\begin{bmatrix}   \n",
    "1 & 0 & 0 \\\\\n",
    "0 & 2 & 1 \\\\\n",
    "0 & 1 & 3 \\\\\n",
    "\\end{bmatrix}\n",
    "$$\n",
    "### D)  $$\n",
    "\\mathbf{\\sigma}(x,y,z)\n",
    "=\n",
    "\\begin{bmatrix}   \n",
    "-1 & 0 & 0 \\\\\n",
    "0 & -2 & 1 \\\\\n",
    "0 & 1 & -3 \\\\\n",
    "\\end{bmatrix}\n",
    "$$\n",
    "### E) None of the above."
   ]
  },
  {
   "cell_type": "code",
   "execution_count": null,
   "metadata": {},
   "outputs": [],
   "source": []
  },
  {
   "cell_type": "markdown",
   "metadata": {},
   "source": [
    "# Question 2 [Full Marks 15] \n",
    "\n",
    "### Consider the displacement field (x-displacement field u(x,y) and y-displacement field v(x,y)) given in Python code below of a structure in the xy-plane:\n",
    "### The material has a Young's modulus of $E$ and Poisson's ratio of $\\nu=0$ (pronounced nu). The cross sectional shape (zy plane) of the structure is rectangular with width $1$ (m) and height $2c$. The beam has distributed loads $T$ (N/m^2) and moments $M$ (Nm) applied.\n",
    "### Geometry is defined over a rectangular domain of x (-L to L) and y (-c to c) and z between (-0.5 to 0.5). Assume $2 << L$ and $2 << c$"
   ]
  },
  {
   "cell_type": "markdown",
   "metadata": {},
   "source": [
    "## 2.1. Interpret the displacement field at $x=0$ and $x=L$? [5]"
   ]
  },
  {
   "cell_type": "code",
   "execution_count": 2,
   "metadata": {},
   "outputs": [
    {
     "name": "stdout",
     "output_type": "stream",
     "text": [
      "u:\n"
     ]
    },
    {
     "data": {
      "text/latex": [
       "$\\displaystyle - \\frac{1.5 x \\left(1.0 M y - 0.666666666666667 T c^{3}\\right)}{E c^{3}}$"
      ],
      "text/plain": [
       "-1.5*x*(1.0*M*y - 0.666666666666667*T*c**3)/(E*c**3)"
      ]
     },
     "metadata": {},
     "output_type": "display_data"
    },
    {
     "name": "stdout",
     "output_type": "stream",
     "text": [
      "v:\n"
     ]
    },
    {
     "data": {
      "text/latex": [
       "$\\displaystyle \\frac{0.75 M \\left(L^{2} + x^{2} + 2 y^{2}\\right)}{E c^{3}}$"
      ],
      "text/plain": [
       "0.75*M*(L**2 + x**2 + 2*y**2)/(E*c**3)"
      ]
     },
     "metadata": {},
     "output_type": "display_data"
    },
    {
     "name": "stdout",
     "output_type": "stream",
     "text": [
      "--------------------------------------------------------------------\n"
     ]
    }
   ],
   "source": [
    "import sympy as sp\n",
    "import numpy as np\n",
    "from IPython.display import display, Math\n",
    "\n",
    "x,y,z,E,nu,c,L,I,T,M = sp.symbols('x,y,z,E,nu,c,L,I,T,M')\n",
    "\n",
    "u = -3/2*x*(M*y - 2/3*T*c**3)/(E*c**3)     \n",
    "v = 3/4*M*(L**2 + x**2 + 2*y**2)/(E*c**3)          \n",
    "\n",
    "print('u:');display(u.factor())\n",
    "print('v:');display(v.factor())\n",
    "\n",
    "print('--------------------------------------------------------------------')\n"
   ]
  },
  {
   "cell_type": "markdown",
   "metadata": {
    "collapsed": true
   },
   "source": [
    "## 2.2 In the abscence of body forces is the stress  in equilibrium? [5]"
   ]
  },
  {
   "cell_type": "code",
   "execution_count": 3,
   "metadata": {},
   "outputs": [
    {
     "name": "stdout",
     "output_type": "stream",
     "text": [
      "C1:\n"
     ]
    },
    {
     "data": {
      "text/latex": [
       "$\\displaystyle \\left[\\begin{matrix}\\frac{E}{1 - \\nu^{2}} & \\frac{E \\nu}{1 - \\nu^{2}} & 0\\\\\\frac{E \\nu}{1 - \\nu^{2}} & \\frac{E}{1 - \\nu^{2}} & 0\\\\0 & 0 & \\frac{E \\left(\\frac{1}{2} - \\frac{\\nu}{2}\\right)}{1 - \\nu^{2}}\\end{matrix}\\right]$"
      ],
      "text/plain": [
       "Matrix([\n",
       "[   E/(1 - nu**2), E*nu/(1 - nu**2),                          0],\n",
       "[E*nu/(1 - nu**2),    E/(1 - nu**2),                          0],\n",
       "[               0,                0, E*(1/2 - nu/2)/(1 - nu**2)]])"
      ]
     },
     "metadata": {},
     "output_type": "display_data"
    },
    {
     "name": "stdout",
     "output_type": "stream",
     "text": [
      "C2:\n"
     ]
    },
    {
     "data": {
      "text/latex": [
       "$\\displaystyle \\left[\\begin{matrix}\\frac{E \\left(1 - \\nu\\right)}{\\left(1 - 2 \\nu\\right) \\left(\\nu + 1\\right)} & \\frac{E \\nu}{\\left(1 - 2 \\nu\\right) \\left(\\nu + 1\\right)} & 0\\\\\\frac{E \\nu}{\\left(1 - 2 \\nu\\right) \\left(\\nu + 1\\right)} & \\frac{E \\left(1 - \\nu\\right)}{\\left(1 - 2 \\nu\\right) \\left(\\nu + 1\\right)} & 0\\\\0 & 0 & \\frac{E \\left(\\frac{1}{2} - \\nu\\right)}{\\left(1 - 2 \\nu\\right) \\left(\\nu + 1\\right)}\\end{matrix}\\right]$"
      ],
      "text/plain": [
       "Matrix([\n",
       "[E*(1 - nu)/((1 - 2*nu)*(nu + 1)),       E*nu/((1 - 2*nu)*(nu + 1)),                                  0],\n",
       "[      E*nu/((1 - 2*nu)*(nu + 1)), E*(1 - nu)/((1 - 2*nu)*(nu + 1)),                                  0],\n",
       "[                               0,                                0, E*(1/2 - nu)/((1 - 2*nu)*(nu + 1))]])"
      ]
     },
     "metadata": {},
     "output_type": "display_data"
    },
    {
     "name": "stdout",
     "output_type": "stream",
     "text": [
      "-----------------------------\n",
      "Start of your answer\n",
      "-----------------------------\n"
     ]
    }
   ],
   "source": [
    "# Given are two constitutive matrices, select an appropriate one for the problem\n",
    "C1 = E/(1-nu**2)*sp.Matrix([[1,nu,0],[nu,1,0],[0,0,(1-nu)/2]]);\n",
    "print('C1:');display(C1)\n",
    "C2 = E/((1+nu)*(1-2*nu))*sp.Matrix([[1-nu,nu,0],[nu,1-nu,0],[0,0,(1-2*nu)/2]]);\n",
    "print('C2:');display(C2)\n",
    "\n",
    "print('-----------------------------')\n",
    "print('Start of your answer')\n",
    "print('-----------------------------')\n"
   ]
  },
  {
   "cell_type": "code",
   "execution_count": 1,
   "metadata": {},
   "outputs": [
    {
     "name": "stdout",
     "output_type": "stream",
     "text": [
      "-----------------------------\n",
      "Start of your answer\n",
      "-----------------------------\n"
     ]
    }
   ],
   "source": [
    "print('-----------------------------')\n",
    "print('Start of your answer')\n",
    "print('-----------------------------')\n"
   ]
  },
  {
   "cell_type": "markdown",
   "metadata": {},
   "source": [
    "## 2.3. What are the tractions on the left, right, top and bottom edges? [5]. "
   ]
  },
  {
   "cell_type": "code",
   "execution_count": 2,
   "metadata": {},
   "outputs": [
    {
     "name": "stdout",
     "output_type": "stream",
     "text": [
      "-----------------------------\n",
      "Start of your answer\n",
      "-----------------------------\n"
     ]
    }
   ],
   "source": [
    "print('-----------------------------')\n",
    "print('Start of your answer')\n",
    "print('-----------------------------')\n"
   ]
  }
 ],
 "metadata": {
  "anaconda-cloud": {},
  "kernelspec": {
   "display_name": "Python 3",
   "language": "python",
   "name": "python3"
  },
  "language_info": {
   "codemirror_mode": {
    "name": "ipython",
    "version": 3
   },
   "file_extension": ".py",
   "mimetype": "text/x-python",
   "name": "python",
   "nbconvert_exporter": "python",
   "pygments_lexer": "ipython3",
   "version": "3.8.2"
  }
 },
 "nbformat": 4,
 "nbformat_minor": 1
}
