{
 "cells": [
  {
   "cell_type": "markdown",
   "metadata": {},
   "source": [
    "*Surnmame and Initials*\n",
    "\n",
    "*Student Number*\n",
    "\n",
    "### Semester Test 1 MKM321 Full marks [45]\n",
    "-----------\n",
    "### Duration: 90 minutes (90 minutes of writing and 15 minutes to upload and complete the ClickUP test)\n",
    "### Allowable Material: Prescribed Textbook and material available on ClickUP.\n",
    "### Questions 1 - 3\n",
    "### For Questions 2-3, grades are only awarded for the rationale, reasoning, methodology or evidence that backup the answer. \n",
    "### All questions must also be answered on ClickUP which includes uploading this notebook and filling in the multiple choice questions.\n",
    "---------\n",
    "\t\n",
    "### Integrity Statement\n",
    "\n",
    "### The University of Pretoria commits itself to produce academic work of integrity. I affirm that I am aware of and have read the Rules and Policies of the University, more specifically the Disciplinary Procedure and the Tests and Examinations Rules, which prohibit any unethical, dishonest or improper conduct during tests, assignments, examinations and/or any other forms of assessment. I am aware that no student or any other person may assist or attempt to assist another student, or obtain help, or attempt to obtain help from another student or any other person during tests, assessments, assignments, examinations and/or any other forms of assessment.\n",
    "------------------------------------\n",
    "\n",
    "# Question 1 **[15]** - Multiple choice to be answered on ClickUP"
   ]
  },
  {
   "cell_type": "markdown",
   "metadata": {},
   "source": [
    "### 1.1 Given the stress matrix (defined for the unit cube x, y and z from -1 to 1 and units MPa), \n",
    "$$\n",
    "\\mathbf{\\sigma}(x,y,z)=\n",
    "\\begin{bmatrix}   \n",
    "2x^2 & -4yx & 2 \\\\\n",
    "-4yx & 2y^2  & 0 \\\\\n",
    "2 & 0 & 2z^2 \\\\\n",
    "\\end{bmatrix}\n",
    "$$\n",
    "### give the traction vector on the x-y surface at $z=1$  **[3]**\n",
    "### A)  $$\n",
    "\\mathbf{T}(x,y,z)=\n",
    "\\begin{bmatrix}   \n",
    "2x^2 & -4yx & 2 \\\\\n",
    "\\end{bmatrix}\n",
    "$$\n",
    "\n",
    "### B) $$ \\mathbf{T}(x,y)=\n",
    "\\begin{bmatrix}   \n",
    "-4yx & 2y^2  & 0 \\\\\n",
    "\\end{bmatrix}\n",
    "$$\n",
    "### C) $$ \\mathbf{T}(x,y,z)=\n",
    "\\begin{bmatrix}   \n",
    "2 & 0 & 2z^2 \\\\\n",
    "\\end{bmatrix}\n",
    "$$\n",
    "### D) $$ \\mathbf{T}(x,y)=\n",
    "\\begin{bmatrix}   \n",
    "2 & 0 & 2 \\\\\n",
    "\\end{bmatrix}\n",
    "$$\n",
    "### E) None/All of the above"
   ]
  },
  {
   "cell_type": "code",
   "execution_count": null,
   "metadata": {},
   "outputs": [],
   "source": [
    "C"
   ]
  },
  {
   "cell_type": "markdown",
   "metadata": {},
   "source": [
    "### 1.2 Which of the following vectors is a unit vector that is normal to the vector $\\mathbf{n} = \\begin{bmatrix} 0.707,\\;\\; 0.707 \\end{bmatrix}$ (given up to three significant digits) in two dimensions?: **[3]**\n",
    "### A) $\\mathbf{n} = \\begin{bmatrix} 0.000,\\;\\; 0.000, \\end{bmatrix}$\n",
    "### B) $\\mathbf{n} = \\begin{bmatrix} 1.000,\\;\\; 0.000,  \\end{bmatrix}$\n",
    "### C) $\\mathbf{n} = \\begin{bmatrix} 0.707,\\;\\; 0.707 \\end{bmatrix}$\n",
    "### D) $\\mathbf{n} = \\begin{bmatrix} 0.707\\;\\; -0.707 \\end{bmatrix}$\n",
    "### E) None/All of the above"
   ]
  },
  {
   "cell_type": "code",
   "execution_count": null,
   "metadata": {},
   "outputs": [],
   "source": [
    "D"
   ]
  },
  {
   "cell_type": "markdown",
   "metadata": {},
   "source": [
    "### 1.3 Given the displacement field $$u(x,y,z) = x,$$ $$v(x,y,z) = -0.3y,$$ $$z(x,y,z) = -0.3z,$$ with $x$ defined between 0 and 1, $y$ between -0.5 and 0.5 and $z$ between -0.5 and 0.5. Which description best matches the displacement field? **[3]**\n",
    "### A) Uniaxial tension\n",
    "### B) Bending\n",
    "### C)  Rigid body translation\n",
    "### D)  Rigid body rotation \n",
    "### E) None/All of the above"
   ]
  },
  {
   "cell_type": "code",
   "execution_count": null,
   "metadata": {},
   "outputs": [],
   "source": [
    "A"
   ]
  },
  {
   "cell_type": "markdown",
   "metadata": {},
   "source": [
    "### 1.4 Consider the following three force vectors (in units N) acting through the xy, xz and yz surfaces of a cube with side lengths 1:\n",
    "### $$f_{xy} = \\begin{bmatrix} 1, 0, 0\\\\ \\end{bmatrix},$$ $$f_{xz} = \\begin{bmatrix} 0, 2, 0\\\\ \\end{bmatrix},$$ $$f_{yz} = \\begin{bmatrix} 0, 1, 3\\\\ \\end{bmatrix}.$$ \n",
    "### Is the state of stress in equilibrium at this point? **[3]**\n",
    "###  True / False"
   ]
  },
  {
   "cell_type": "code",
   "execution_count": null,
   "metadata": {},
   "outputs": [],
   "source": [
    "True"
   ]
  },
  {
   "cell_type": "markdown",
   "metadata": {},
   "source": [
    "### 1.5 Consider the following three force vectors (in units N) acting through the xy, xz and yz surfaces of a cube with side lengths 1:\n",
    "### $$f_{xy} = \\begin{bmatrix} 1, 0, 0\\\\ \\end{bmatrix},$$ $$f_{xz} = \\begin{bmatrix} 0, 2, 0\\\\ \\end{bmatrix},$$ $$f_{yz} = \\begin{bmatrix} 0, 1, 3\\\\ \\end{bmatrix}.$$ \n",
    "### Give the associated stress tensor: **[3]**\n",
    "### A) $$\n",
    "\\mathbf{\\sigma}(x,y,z)\n",
    "=\n",
    "\\begin{bmatrix}   \n",
    "1 & 0 & 0 \\\\\n",
    "0 & 2 & 1 \\\\\n",
    "0 & 0 & 3 \\\\\n",
    "\\end{bmatrix}\n",
    "$$\n",
    "### B)  $$\n",
    "\\mathbf{\\sigma}(x,y,z)\n",
    "=\n",
    "\\begin{bmatrix}   \n",
    "1 & 0 & 0 \\\\\n",
    "0 & 2 & 0 \\\\\n",
    "0 & 1 & 3 \\\\\n",
    "\\end{bmatrix}\n",
    "$$\n",
    "### C)  $$\n",
    "\\mathbf{\\sigma}(x,y,z)\n",
    "=\n",
    "\\begin{bmatrix}   \n",
    "1 & 0 & 0 \\\\\n",
    "0 & 2 & 1 \\\\\n",
    "0 & 1 & 3 \\\\\n",
    "\\end{bmatrix}\n",
    "$$\n",
    "### D)  $$\n",
    "\\mathbf{\\sigma}(x,y,z)\n",
    "=\n",
    "\\begin{bmatrix}   \n",
    "-1 & 0 & 0 \\\\\n",
    "0 & -2 & 1 \\\\\n",
    "0 & 1 & -3 \\\\\n",
    "\\end{bmatrix}\n",
    "$$\n",
    "### E) None of the above."
   ]
  },
  {
   "cell_type": "code",
   "execution_count": null,
   "metadata": {},
   "outputs": [],
   "source": [
    "C"
   ]
  },
  {
   "cell_type": "markdown",
   "metadata": {},
   "source": [
    "# Question 2 [Full Marks 15] \n",
    "\n",
    "### Consider the displacement field (x-displacement field u(x,y) and y-displacement field v(x,y)) given in Python code below of a structure in the xy-plane:\n",
    "### The material has a Young's modulus of $E$ and Poisson's ratio of $\\nu=0$ (pronounced nu). The cross sectional shape (zy plane) of the structure is rectangular with width $1$ (m) and height $2c$. The beam has distributed loads $T$ (N/m^2) and moments $M$ (Nm) applied.\n",
    "### Geometry is defined over a rectangular domain of x (-L to L) and y (-c to c) and z between (-0.5 to 0.5). Assume $2 << L$ and $2 << c$"
   ]
  },
  {
   "cell_type": "markdown",
   "metadata": {},
   "source": [
    "## 2.1. Interpret the displacement field at $x=0$ and $x=L$? [5]"
   ]
  },
  {
   "cell_type": "code",
   "execution_count": 1,
   "metadata": {},
   "outputs": [
    {
     "name": "stdout",
     "output_type": "stream",
     "text": [
      "u:\n"
     ]
    },
    {
     "data": {
      "text/latex": [
       "$\\displaystyle - \\frac{1.5 x \\left(1.0 M y - 0.666666666666667 T c^{3}\\right)}{E c^{3}}$"
      ],
      "text/plain": [
       "-1.5*x*(1.0*M*y - 0.666666666666667*T*c**3)/(E*c**3)"
      ]
     },
     "metadata": {},
     "output_type": "display_data"
    },
    {
     "name": "stdout",
     "output_type": "stream",
     "text": [
      "v:\n"
     ]
    },
    {
     "data": {
      "text/latex": [
       "$\\displaystyle \\frac{0.75 M \\left(L^{2} + x^{2} + 2 y^{2}\\right)}{E c^{3}}$"
      ],
      "text/plain": [
       "0.75*M*(L**2 + x**2 + 2*y**2)/(E*c**3)"
      ]
     },
     "metadata": {},
     "output_type": "display_data"
    },
    {
     "name": "stdout",
     "output_type": "stream",
     "text": [
      "--------------------------------------------------------------------\n",
      "Displacement field at x=0:\n",
      "u(0,y):\n"
     ]
    },
    {
     "data": {
      "text/latex": [
       "$\\displaystyle 0$"
      ],
      "text/plain": [
       "0"
      ]
     },
     "metadata": {},
     "output_type": "display_data"
    },
    {
     "name": "stdout",
     "output_type": "stream",
     "text": [
      "v(0,y):\n"
     ]
    },
    {
     "data": {
      "text/latex": [
       "$\\displaystyle 0$"
      ],
      "text/plain": [
       "0"
      ]
     },
     "metadata": {},
     "output_type": "display_data"
    },
    {
     "name": "stdout",
     "output_type": "stream",
     "text": [
      "--------------------------------------------------------------------\n",
      "Displacement field at x=L:\n",
      "u(L,y):\n"
     ]
    },
    {
     "data": {
      "text/latex": [
       "$\\displaystyle - \\frac{1.5 L \\left(1.0 M y - 0.666666666666667 T c^{3}\\right)}{E c^{3}}$"
      ],
      "text/plain": [
       "-1.5*L*(1.0*M*y - 0.666666666666667*T*c**3)/(E*c**3)"
      ]
     },
     "metadata": {},
     "output_type": "display_data"
    },
    {
     "name": "stdout",
     "output_type": "stream",
     "text": [
      "v(L,y):\n"
     ]
    },
    {
     "data": {
      "text/latex": [
       "$\\displaystyle L$"
      ],
      "text/plain": [
       "L"
      ]
     },
     "metadata": {},
     "output_type": "display_data"
    },
    {
     "name": "stdout",
     "output_type": "stream",
     "text": [
      "--------------------------------------------------------------------\n",
      "From the displacement at x=0 is seems to be fixed at x=0 in all directions.\n",
      "From the displacement at x=L, the lenght of the beam does not change. And the displacement in the \n"
     ]
    }
   ],
   "source": [
    "import sympy as sp\n",
    "import numpy as np\n",
    "from IPython.display import display, Math\n",
    "\n",
    "x,y,z,E,nu,c,L,I,T,M = sp.symbols('x,y,z,E,nu,c,L,I,T,M')\n",
    "\n",
    "u = -3/2*x*(M*y - 2/3*T*c**3)/(E*c**3)     \n",
    "v = 3/4*M*(L**2 + x**2 + 2*y**2)/(E*c**3)          \n",
    "\n",
    "print('u:');display(u.factor())\n",
    "print('v:');display(v.factor())\n",
    "\n",
    "print('--------------------------------------------------------------------')\n",
    "print('Displacement field at x=0:')\n",
    "u0 = u.subs({x:0})\n",
    "v0 = x.subs({x:0})\n",
    "print('u(0,y):');display(u0.factor())\n",
    "print('v(0,y):');display(v0.factor())\n",
    "print('--------------------------------------------------------------------')\n",
    "print('Displacement field at x=L:')\n",
    "uL = u.subs({x:L})\n",
    "vL = x.subs({x:L})\n",
    "print('u(L,y):');display(uL.factor())\n",
    "print('v(L,y):');display(vL.factor())\n",
    "print('--------------------------------------------------------------------')\n",
    "print('From the displacement at x=0 is seems to be fixed at x=0 in all directions.')\n",
    "print('From the displacement at x=L, the lenght of the beam does not change. And the displacement in the ')"
   ]
  },
  {
   "cell_type": "markdown",
   "metadata": {
    "collapsed": true
   },
   "source": [
    "## 2.2 In the abscence of body forces is the stress  in equilibrium? [5]"
   ]
  },
  {
   "cell_type": "code",
   "execution_count": 2,
   "metadata": {},
   "outputs": [
    {
     "name": "stdout",
     "output_type": "stream",
     "text": [
      "C1:\n"
     ]
    },
    {
     "data": {
      "text/latex": [
       "$\\displaystyle \\left[\\begin{matrix}\\frac{E}{1 - \\nu^{2}} & \\frac{E \\nu}{1 - \\nu^{2}} & 0\\\\\\frac{E \\nu}{1 - \\nu^{2}} & \\frac{E}{1 - \\nu^{2}} & 0\\\\0 & 0 & \\frac{E \\left(\\frac{1}{2} - \\frac{\\nu}{2}\\right)}{1 - \\nu^{2}}\\end{matrix}\\right]$"
      ],
      "text/plain": [
       "Matrix([\n",
       "[   E/(1 - nu**2), E*nu/(1 - nu**2),                          0],\n",
       "[E*nu/(1 - nu**2),    E/(1 - nu**2),                          0],\n",
       "[               0,                0, E*(1/2 - nu/2)/(1 - nu**2)]])"
      ]
     },
     "metadata": {},
     "output_type": "display_data"
    },
    {
     "name": "stdout",
     "output_type": "stream",
     "text": [
      "C2:\n"
     ]
    },
    {
     "data": {
      "text/latex": [
       "$\\displaystyle \\left[\\begin{matrix}\\frac{E \\left(1 - \\nu\\right)}{\\left(1 - 2 \\nu\\right) \\left(\\nu + 1\\right)} & \\frac{E \\nu}{\\left(1 - 2 \\nu\\right) \\left(\\nu + 1\\right)} & 0\\\\\\frac{E \\nu}{\\left(1 - 2 \\nu\\right) \\left(\\nu + 1\\right)} & \\frac{E \\left(1 - \\nu\\right)}{\\left(1 - 2 \\nu\\right) \\left(\\nu + 1\\right)} & 0\\\\0 & 0 & \\frac{E \\left(\\frac{1}{2} - \\nu\\right)}{\\left(1 - 2 \\nu\\right) \\left(\\nu + 1\\right)}\\end{matrix}\\right]$"
      ],
      "text/plain": [
       "Matrix([\n",
       "[E*(1 - nu)/((1 - 2*nu)*(nu + 1)),       E*nu/((1 - 2*nu)*(nu + 1)),                                  0],\n",
       "[      E*nu/((1 - 2*nu)*(nu + 1)), E*(1 - nu)/((1 - 2*nu)*(nu + 1)),                                  0],\n",
       "[                               0,                                0, E*(1/2 - nu)/((1 - 2*nu)*(nu + 1))]])"
      ]
     },
     "metadata": {},
     "output_type": "display_data"
    },
    {
     "name": "stdout",
     "output_type": "stream",
     "text": [
      "-----------------------------\n",
      "StrainVector:\n"
     ]
    },
    {
     "data": {
      "text/latex": [
       "$\\displaystyle \\left[\\begin{matrix}- \\frac{1.5 M y}{E c^{3}} + \\frac{1.0 T}{E}\\\\\\frac{3.0 M y}{E c^{3}}\\\\0\\end{matrix}\\right]$"
      ],
      "text/plain": [
       "Matrix([\n",
       "[-1.5*M*y/(E*c**3) + 1.0*T/E],\n",
       "[           3.0*M*y/(E*c**3)],\n",
       "[                          0]])"
      ]
     },
     "metadata": {},
     "output_type": "display_data"
    },
    {
     "name": "stdout",
     "output_type": "stream",
     "text": [
      "Using C2\n",
      "-----------------------------\n",
      "Stress Vector:\n"
     ]
    },
    {
     "data": {
      "text/latex": [
       "$\\displaystyle \\left[\\begin{matrix}E \\left(- \\frac{1.5 M y}{E c^{3}} + \\frac{1.0 T}{E}\\right)\\\\\\frac{3.0 M y}{c^{3}}\\\\0\\end{matrix}\\right]$"
      ],
      "text/plain": [
       "Matrix([\n",
       "[E*(-1.5*M*y/(E*c**3) + 1.0*T/E)],\n",
       "[                   3.0*M*y/c**3],\n",
       "[                              0]])"
      ]
     },
     "metadata": {},
     "output_type": "display_data"
    },
    {
     "name": "stdout",
     "output_type": "stream",
     "text": [
      "-----------------------------\n",
      "eq1:\n"
     ]
    },
    {
     "data": {
      "text/latex": [
       "$\\displaystyle 0$"
      ],
      "text/plain": [
       "0"
      ]
     },
     "metadata": {},
     "output_type": "display_data"
    },
    {
     "name": "stdout",
     "output_type": "stream",
     "text": [
      "eq2:\n"
     ]
    },
    {
     "data": {
      "text/latex": [
       "$\\displaystyle \\frac{3.0 M}{c^{3}}$"
      ],
      "text/plain": [
       "3.0*M/c**3"
      ]
     },
     "metadata": {},
     "output_type": "display_data"
    },
    {
     "name": "stdout",
     "output_type": "stream",
     "text": [
      "-----------------------------\n"
     ]
    }
   ],
   "source": [
    "# Given are two constitutive matrices, select an appropriate one for the problem\n",
    "C1 = E/(1-nu**2)*sp.Matrix([[1,nu,0],[nu,1,0],[0,0,(1-nu)/2]]);\n",
    "print('C1:');display(C1)\n",
    "C2 = E/((1+nu)*(1-2*nu))*sp.Matrix([[1-nu,nu,0],[nu,1-nu,0],[0,0,(1-2*nu)/2]]);\n",
    "print('C2:');display(C2)\n",
    "\n",
    "print('-----------------------------')\n",
    "\n",
    "C2 = C2.subs({nu:0})\n",
    "displacement_vector = [u,v] \n",
    "spatial_coordinates = [x, y]\n",
    "displacement_gradient = sp.derive_by_array(displacement_vector, spatial_coordinates)\n",
    "StrainMatrix = sp.simplify(0.5*(displacement_gradient.transpose() + displacement_gradient))\n",
    "StrainVector = sp.Matrix([[StrainMatrix[0,0]],[StrainMatrix[1,1]],[StrainMatrix[1,0]]])\n",
    "print('StrainVector:')\n",
    "display(StrainVector)\n",
    "print('Using C2')\n",
    "print('-----------------------------')\n",
    "\n",
    "StressVector = C2*StrainVector\n",
    "print('Stress Vector:')\n",
    "display(StressVector)\n",
    "print('-----------------------------')\n",
    "\n",
    "eq1 = sp.derive_by_array(StressVector[0],x) + sp.derive_by_array(StressVector[2],y); eq1 = sp.simplify(eq1)\n",
    "eq2 = sp.derive_by_array(StressVector[1],y) + sp.derive_by_array(StressVector[2],x); eq2 = sp.simplify(eq2)\n",
    "print('eq1:')\n",
    "display(eq1)\n",
    "print('eq2:')\n",
    "display(eq2)\n",
    "\n",
    "print('-----------------------------')\n"
   ]
  },
  {
   "cell_type": "code",
   "execution_count": 3,
   "metadata": {},
   "outputs": [
    {
     "name": "stdout",
     "output_type": "stream",
     "text": [
      "-----------------------------\n",
      "The Stress element is in equilibrium in the x direction.\n",
      "The Stress element is not in equilibrium in the y direction, when no body forces are applied.\n",
      "However the constriant at x=0 will produce a reaction force equal to 3M/c**3 and then the Stress will be in equilibrium. \n",
      "-----------------------------\n"
     ]
    }
   ],
   "source": [
    "print('-----------------------------')\n",
    "print('The Stress element is in equilibrium in the x direction.')\n",
    "print('The Stress element is not in equilibrium in the y direction, when no body forces are applied.')\n",
    "print('However the constriant at x=0 will produce a reaction force equal to 3M/c**3 and then the Stress will be in equilibrium. ')\n",
    "print('-----------------------------')\n"
   ]
  },
  {
   "cell_type": "markdown",
   "metadata": {},
   "source": [
    "## 2.3. What are the tractions on the left, right, top and bottom edges? [5]. "
   ]
  },
  {
   "cell_type": "code",
   "execution_count": 4,
   "metadata": {},
   "outputs": [
    {
     "name": "stdout",
     "output_type": "stream",
     "text": [
      "-----------------------------\n",
      "Traction left face:\n"
     ]
    },
    {
     "data": {
      "text/latex": [
       "$\\displaystyle \\left[\\begin{matrix}- \\frac{1.5 M y}{c^{3}} + 1.0 T\\\\0\\end{matrix}\\right]$"
      ],
      "text/plain": [
       "Matrix([\n",
       "[-1.5*M*y/c**3 + 1.0*T],\n",
       "[                    0]])"
      ]
     },
     "metadata": {},
     "output_type": "display_data"
    },
    {
     "name": "stdout",
     "output_type": "stream",
     "text": [
      "Traction right face:\n"
     ]
    },
    {
     "data": {
      "text/latex": [
       "$\\displaystyle \\left[\\begin{matrix}\\frac{1.5 M y}{c^{3}} - 1.0 T\\\\0\\end{matrix}\\right]$"
      ],
      "text/plain": [
       "Matrix([\n",
       "[1.5*M*y/c**3 - 1.0*T],\n",
       "[                   0]])"
      ]
     },
     "metadata": {},
     "output_type": "display_data"
    },
    {
     "name": "stdout",
     "output_type": "stream",
     "text": [
      "Traction top face:\n"
     ]
    },
    {
     "data": {
      "text/latex": [
       "$\\displaystyle \\left[\\begin{matrix}0\\\\\\frac{3.0 M y}{c^{3}}\\end{matrix}\\right]$"
      ],
      "text/plain": [
       "Matrix([\n",
       "[           0],\n",
       "[3.0*M*y/c**3]])"
      ]
     },
     "metadata": {},
     "output_type": "display_data"
    },
    {
     "name": "stdout",
     "output_type": "stream",
     "text": [
      "Traction bottom face:\n"
     ]
    },
    {
     "data": {
      "text/latex": [
       "$\\displaystyle \\left[\\begin{matrix}0\\\\- \\frac{3.0 M y}{c^{3}}\\end{matrix}\\right]$"
      ],
      "text/plain": [
       "Matrix([\n",
       "[            0],\n",
       "[-3.0*M*y/c**3]])"
      ]
     },
     "metadata": {},
     "output_type": "display_data"
    },
    {
     "name": "stdout",
     "output_type": "stream",
     "text": [
      "-----------------------------\n"
     ]
    }
   ],
   "source": [
    "print('-----------------------------')\n",
    "StressMatrix = sp.Matrix([[StressVector[0],StressVector[2]],[StressVector[2],StressVector[1]]])\n",
    "traction_L = StressMatrix*sp.Matrix([1,0]).subs({x:L})\n",
    "traction_R = StressMatrix*sp.Matrix([-1,0]).subs({x:-L})\n",
    "traction_T = StressMatrix*sp.Matrix([0,1]).subs({y:c})\n",
    "traction_B = StressMatrix*sp.Matrix([0,-1]).subs({y:-c})\n",
    "print('Traction left face:')\n",
    "display(sp.simplify(traction_L))\n",
    "print('Traction right face:')\n",
    "display(sp.simplify(traction_R))\n",
    "print('Traction top face:')\n",
    "display(sp.simplify(traction_T))\n",
    "print('Traction bottom face:')\n",
    "display(sp.simplify(traction_B))\n",
    "\n",
    "print('-----------------------------')"
   ]
  },
  {
   "cell_type": "code",
   "execution_count": null,
   "metadata": {},
   "outputs": [],
   "source": []
  }
 ],
 "metadata": {
  "anaconda-cloud": {},
  "kernelspec": {
   "display_name": "Python 3 (ipykernel)",
   "language": "python",
   "name": "python3"
  },
  "language_info": {
   "codemirror_mode": {
    "name": "ipython",
    "version": 3
   },
   "file_extension": ".py",
   "mimetype": "text/x-python",
   "name": "python",
   "nbconvert_exporter": "python",
   "pygments_lexer": "ipython3",
   "version": "3.9.6"
  }
 },
 "nbformat": 4,
 "nbformat_minor": 1
}
