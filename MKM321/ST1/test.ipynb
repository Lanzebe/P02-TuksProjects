{
 "cells": [
  {
   "cell_type": "code",
   "execution_count": 1,
   "source": [
    "import numpy as np\r\n",
    "import sympy as sp\r\n",
    "import matplotlib.pyplot as plt\r\n",
    "from IPython.display import display\r\n",
    "%matplotlib inline\r\n",
    "\r\n",
    "def plot2d(u,v,x0,x1,y0,y1,n=50):\r\n",
    "    uL = sp.lambdify([x,y],u,'numpy')\r\n",
    "    vL = sp.lambdify([x,y],v,'numpy')\r\n",
    "    X = np.linspace(x0,x1,n)\r\n",
    "    Y = np.linspace(y0,y1,n)\r\n",
    "\r\n",
    "    Xp,Yp = np.meshgrid(X,Y)\r\n",
    "\r\n",
    "    plt.figure()\r\n",
    "    plt.quiver(Xp,Yp,uL(Xp,Yp),vL(Xp,Yp))\r\n",
    "    plt.show()\r\n",
    "\r\n",
    "def plot3d(u,v,w,x0,x1,y0,y1,z0,z1,n=50):\r\n",
    "    uL = sp.lambdify([x,y,z],u,'numpy')\r\n",
    "    vL = sp.lambdify([x,y,z],v,'numpy')\r\n",
    "    wL = sp.lambdify([x,y,z],w,'numpy')\r\n",
    "    X = np.linspace(x0,x1,n)\r\n",
    "    Y = np.linspace(y0,y1,n)\r\n",
    "    Z = np.linspace(z0,z1,n)\r\n",
    "\r\n",
    "    Xp,Yp,Zp = np.meshgrid(X,Y,Z)\r\n",
    "\r\n",
    "    plt.figure().add_subplot(projection='3d')\r\n",
    "    scale = 50\r\n",
    "    plt.quiver(Xp,Yp,Zp,uL(Xp,Yp,Zp)*scale,vL(Xp,Yp,Zp)*scale,wL(Xp,Yp,Zp)*scale)\r\n",
    "    plt.show()\r\n",
    "\r\n",
    "def StrainMatrixFromDisplacement3d(u,v,w,x,y,z):\r\n",
    "    displacement_vector = [u,v,w] \r\n",
    "    spatial_coordinates = [x, y, z]\r\n",
    "    displacement_gradient = sp.derive_by_array(displacement_vector, spatial_coordinates)\r\n",
    "    return sp.simplify(0.5*(displacement_gradient.transpose() + displacement_gradient))\r\n",
    "\r\n",
    "def StressVectorFromStrain3d(StrainMatrix ,D = 1):\r\n",
    "    if D == 1:\r\n",
    "        D = E/((1 + nu)*(1 - 2*nu))*sp.Matrix([[1-nu,nu,nu,0,0,0],[nu,1-nu,nu,0,0,0],[nu,nu,1-nu,0,0,0],[0,0,0,0.5-nu,0,0],[0,0,0,0,0.5-nu,0],[0,0,0,0,0,0.5-nu]])\r\n",
    "    strain_vector = sp.Matrix([StrainMatrix[0,0],StrainMatrix[1,1],StrainMatrix[2,2],2*StrainMatrix[1,2],2*StrainMatrix[0,2],2*StrainMatrix[0,1]])\r\n",
    "    \r\n",
    "    return sp.simplify(D*strain_vector)\r\n",
    "\r\n",
    "def StrainMatrixFromDisplacement2d(u,v,x,y):\r\n",
    "    displacement_vector = [u,v] \r\n",
    "    spatial_coordinates = [x, y]\r\n",
    "    displacement_gradient = sp.derive_by_array(displacement_vector, spatial_coordinates)\r\n",
    "    return sp.simplify(0.5*(displacement_gradient.transpose() + displacement_gradient))\r\n",
    "\r\n",
    "def StressVectorFromStrain2d(StrainMatrix ,D = 1):\r\n",
    "    if D == 1:\r\n",
    "        D = E/((1 + nu)*(1 - 2*nu))*sp.Matrix([[1-nu,nu,0],[nu,1-nu,0],[0,0,0.5-nu]])\r\n",
    "    strain_vector = sp.Matrix([StrainMatrix[0,0],StrainMatrix[1,1],2*StrainMatrix[0,1]])\r\n",
    "    return sp.simplify(D*strain_vector)\r\n",
    "\r\n",
    "def EvaluateEqulibrium3d(StressVector, ExpectedXresidual = 0,ExpectedYresidual = 0,ExpectedZresidual = 0):\r\n",
    "    Eq1 = sp.derive_by_array(StressVector[0],x) + sp.derive_by_array(StressVector[5],y) + sp.derive_by_array(StressVector[4],z)-ExpectedXresidual\r\n",
    "    print('Equilibrium first equation: {}'.format(Eq1))\r\n",
    "\r\n",
    "    Eq2 = sp.derive_by_array(StressVector[5],x) + sp.derive_by_array(StressVector[1],y) + sp.derive_by_array(StressVector[3],z)-ExpectedYresidual\r\n",
    "    print('Equilibrium second equation: {}'.format(Eq2))\r\n",
    "\r\n",
    "    Eq3 = sp.derive_by_array(StressVector[4],x) + sp.derive_by_array(StressVector[3],y) + sp.derive_by_array(StressVector[2],z)-ExpectedZresidual\r\n",
    "    print('Equilibrium third equation: {}'.format(Eq3))"
   ],
   "outputs": [],
   "metadata": {}
  },
  {
   "cell_type": "code",
   "execution_count": 2,
   "source": [
    "sigma = sp.Matrix([1,2,3,0,0,1])\r\n",
    "\r\n",
    "EvaluateEqulibrium3d(sigma)"
   ],
   "outputs": [
    {
     "output_type": "error",
     "ename": "NameError",
     "evalue": "name 'x' is not defined",
     "traceback": [
      "\u001b[1;31m---------------------------------------------------------------------------\u001b[0m",
      "\u001b[1;31mNameError\u001b[0m                                 Traceback (most recent call last)",
      "\u001b[1;32m~\\AppData\\Local\\Temp/ipykernel_12008/3356346087.py\u001b[0m in \u001b[0;36m<module>\u001b[1;34m\u001b[0m\n\u001b[0;32m      1\u001b[0m \u001b[0msigma\u001b[0m \u001b[1;33m=\u001b[0m \u001b[0msp\u001b[0m\u001b[1;33m.\u001b[0m\u001b[0mMatrix\u001b[0m\u001b[1;33m(\u001b[0m\u001b[1;33m[\u001b[0m\u001b[1;36m1\u001b[0m\u001b[1;33m,\u001b[0m\u001b[1;36m2\u001b[0m\u001b[1;33m,\u001b[0m\u001b[1;36m3\u001b[0m\u001b[1;33m,\u001b[0m\u001b[1;36m0\u001b[0m\u001b[1;33m,\u001b[0m\u001b[1;36m0\u001b[0m\u001b[1;33m,\u001b[0m\u001b[1;36m1\u001b[0m\u001b[1;33m]\u001b[0m\u001b[1;33m)\u001b[0m\u001b[1;33m\u001b[0m\u001b[1;33m\u001b[0m\u001b[0m\n\u001b[0;32m      2\u001b[0m \u001b[1;33m\u001b[0m\u001b[0m\n\u001b[1;32m----> 3\u001b[1;33m \u001b[0mEvaluateEqulibrium3d\u001b[0m\u001b[1;33m(\u001b[0m\u001b[0msigma\u001b[0m\u001b[1;33m)\u001b[0m\u001b[1;33m\u001b[0m\u001b[1;33m\u001b[0m\u001b[0m\n\u001b[0m",
      "\u001b[1;32m~\\AppData\\Local\\Temp/ipykernel_12008/2821046942.py\u001b[0m in \u001b[0;36mEvaluateEqulibrium3d\u001b[1;34m(StressVector, ExpectedXresidual, ExpectedYresidual, ExpectedZresidual)\u001b[0m\n\u001b[0;32m     58\u001b[0m \u001b[1;33m\u001b[0m\u001b[0m\n\u001b[0;32m     59\u001b[0m \u001b[1;32mdef\u001b[0m \u001b[0mEvaluateEqulibrium3d\u001b[0m\u001b[1;33m(\u001b[0m\u001b[0mStressVector\u001b[0m\u001b[1;33m,\u001b[0m \u001b[0mExpectedXresidual\u001b[0m \u001b[1;33m=\u001b[0m \u001b[1;36m0\u001b[0m\u001b[1;33m,\u001b[0m\u001b[0mExpectedYresidual\u001b[0m \u001b[1;33m=\u001b[0m \u001b[1;36m0\u001b[0m\u001b[1;33m,\u001b[0m\u001b[0mExpectedZresidual\u001b[0m \u001b[1;33m=\u001b[0m \u001b[1;36m0\u001b[0m\u001b[1;33m)\u001b[0m\u001b[1;33m:\u001b[0m\u001b[1;33m\u001b[0m\u001b[1;33m\u001b[0m\u001b[0m\n\u001b[1;32m---> 60\u001b[1;33m     \u001b[0mEq1\u001b[0m \u001b[1;33m=\u001b[0m \u001b[0msp\u001b[0m\u001b[1;33m.\u001b[0m\u001b[0mderive_by_array\u001b[0m\u001b[1;33m(\u001b[0m\u001b[0mStressVector\u001b[0m\u001b[1;33m[\u001b[0m\u001b[1;36m0\u001b[0m\u001b[1;33m]\u001b[0m\u001b[1;33m,\u001b[0m\u001b[0mx\u001b[0m\u001b[1;33m)\u001b[0m \u001b[1;33m+\u001b[0m \u001b[0msp\u001b[0m\u001b[1;33m.\u001b[0m\u001b[0mderive_by_array\u001b[0m\u001b[1;33m(\u001b[0m\u001b[0mStressVector\u001b[0m\u001b[1;33m[\u001b[0m\u001b[1;36m5\u001b[0m\u001b[1;33m]\u001b[0m\u001b[1;33m,\u001b[0m\u001b[0my\u001b[0m\u001b[1;33m)\u001b[0m \u001b[1;33m+\u001b[0m \u001b[0msp\u001b[0m\u001b[1;33m.\u001b[0m\u001b[0mderive_by_array\u001b[0m\u001b[1;33m(\u001b[0m\u001b[0mStressVector\u001b[0m\u001b[1;33m[\u001b[0m\u001b[1;36m4\u001b[0m\u001b[1;33m]\u001b[0m\u001b[1;33m,\u001b[0m\u001b[0mz\u001b[0m\u001b[1;33m)\u001b[0m\u001b[1;33m-\u001b[0m\u001b[0mExpectedXresidual\u001b[0m\u001b[1;33m\u001b[0m\u001b[1;33m\u001b[0m\u001b[0m\n\u001b[0m\u001b[0;32m     61\u001b[0m     \u001b[0mprint\u001b[0m\u001b[1;33m(\u001b[0m\u001b[1;34m'Equilibrium first equation: {}'\u001b[0m\u001b[1;33m.\u001b[0m\u001b[0mformat\u001b[0m\u001b[1;33m(\u001b[0m\u001b[0mEq1\u001b[0m\u001b[1;33m)\u001b[0m\u001b[1;33m)\u001b[0m\u001b[1;33m\u001b[0m\u001b[1;33m\u001b[0m\u001b[0m\n\u001b[0;32m     62\u001b[0m \u001b[1;33m\u001b[0m\u001b[0m\n",
      "\u001b[1;31mNameError\u001b[0m: name 'x' is not defined"
     ]
    }
   ],
   "metadata": {}
  }
 ],
 "metadata": {
  "orig_nbformat": 4,
  "language_info": {
   "name": "python",
   "version": "3.9.6",
   "mimetype": "text/x-python",
   "codemirror_mode": {
    "name": "ipython",
    "version": 3
   },
   "pygments_lexer": "ipython3",
   "nbconvert_exporter": "python",
   "file_extension": ".py"
  },
  "kernelspec": {
   "name": "python3",
   "display_name": "Python 3.9.6 64-bit ('env': venv)"
  },
  "interpreter": {
   "hash": "ea07bc7c69f284143adbb50fb0b81a1c36915c55eb78cf2cb7c7a861417ef5c6"
  }
 },
 "nbformat": 4,
 "nbformat_minor": 2
}