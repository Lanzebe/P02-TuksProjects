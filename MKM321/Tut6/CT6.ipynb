{
 "cells": [
  {
   "cell_type": "code",
   "execution_count": 3,
   "id": "53433cdd",
   "metadata": {},
   "outputs": [],
   "source": [
    "import matplotlib.pyplot as plt\n",
    "import numpy as np\n",
    "import sympy as sp"
   ]
  },
  {
   "cell_type": "code",
   "execution_count": 8,
   "id": "8b396e10",
   "metadata": {},
   "outputs": [
    {
     "name": "stdout",
     "output_type": "stream",
     "text": [
      "Analytical Integral is 34.8000000000000\n"
     ]
    }
   ],
   "source": [
    "xi = sp.symbols('xi')\n",
    "f = xi**5 + 12*xi**4 - (xi**3-2*xi)/(2*(xi**2 - 5)) + 3*xi**2 + 14\n",
    "print('Analytical Integral is {}'.format(sp.integrate(f,(xi,-1,1))*1.0))"
   ]
  },
  {
   "cell_type": "code",
   "execution_count": 9,
   "id": "6890a8b1",
   "metadata": {},
   "outputs": [
    {
     "name": "stdout",
     "output_type": "stream",
     "text": [
      "Numerical Integral is 32.66666666666667\n"
     ]
    }
   ],
   "source": [
    "f = lambda xi: xi**5 + 12*xi**4 - (xi**3-2*xi)/(2*(xi**2 - 5)) + 3*xi**2 + 14\n",
    "# f_integrated = w_1*f(x_1) + w_2*f(x_2)\n",
    "f_integrated = 1.0*f(-1/3**0.5) +  1.0*f(1/3**0.5)\n",
    "print('Numerical Integral is {}'.format(f_integrated))"
   ]
  },
  {
   "cell_type": "code",
   "execution_count": null,
   "id": "5d3f5679",
   "metadata": {},
   "outputs": [],
   "source": []
  }
 ],
 "metadata": {
  "kernelspec": {
   "display_name": "Python 3 (ipykernel)",
   "language": "python",
   "name": "python3"
  },
  "language_info": {
   "codemirror_mode": {
    "name": "ipython",
    "version": 3
   },
   "file_extension": ".py",
   "mimetype": "text/x-python",
   "name": "python",
   "nbconvert_exporter": "python",
   "pygments_lexer": "ipython3",
   "version": "3.9.6"
  }
 },
 "nbformat": 4,
 "nbformat_minor": 5
}
