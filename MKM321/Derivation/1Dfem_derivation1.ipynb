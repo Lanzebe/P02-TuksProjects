{
 "cells": [
  {
   "cell_type": "code",
   "execution_count": 2,
   "metadata": {},
   "outputs": [],
   "source": [
    "import sympy as sp"
   ]
  },
  {
   "cell_type": "markdown",
   "metadata": {},
   "source": [
    "## Mapping x to xi"
   ]
  },
  {
   "cell_type": "code",
   "execution_count": 36,
   "metadata": {},
   "outputs": [],
   "source": [
    "x,y,z,xi,eta,zeta = sp.symbols('x,y,z,xi,eta,zeta')\n",
    "\n",
    "x_n0,x_n1,x_n2 = sp.symbols('x_n0,x_n1,x_n2')\n",
    "y_n0,y_n1,y_n2 = sp.symbols('y_n0,y_n1,y_n2')\n",
    "z_n0,z_n1,z_n2 = sp.symbols('z_n0,z_n1,z_n2')\n",
    "\n",
    "q_n0,q_n1,q_n2 = sp.symbols('q_n0,q_n1,q_n2')\n",
    "r_n0,r_n1,r_n2 = sp.symbols('r_n0,r_n1,r_n2')\n",
    "s_n0,s_n1,s_n2 = sp.symbols('s_n0,s_n1,s_n2')"
   ]
  },
  {
   "cell_type": "code",
   "execution_count": 37,
   "metadata": {},
   "outputs": [
    {
     "data": {
      "text/latex": [
       "$\\displaystyle \\left[\\begin{matrix}- 0.5 x_{n0} \\xi \\left(1 - \\xi\\right) + 0.5 x_{n1} \\xi \\left(\\xi + 1\\right) + x_{n2} \\left(1 - \\xi\\right) \\left(\\xi + 1\\right)\\\\- 0.5 \\eta y_{n0} \\left(1 - \\eta\\right) + 0.5 \\eta y_{n1} \\left(\\eta + 1\\right) + y_{n2} \\left(1 - \\eta\\right) \\left(\\eta + 1\\right)\\\\- 0.5 z_{n0} \\zeta \\left(1 - \\zeta\\right) + 0.5 z_{n1} \\zeta \\left(\\zeta + 1\\right) + z_{n2} \\left(1 - \\zeta\\right) \\left(\\zeta + 1\\right)\\end{matrix}\\right]$"
      ],
      "text/plain": [
       "Matrix([\n",
       "[            -0.5*x_n0*xi*(1 - xi) + 0.5*x_n1*xi*(xi + 1) + x_n2*(1 - xi)*(xi + 1)],\n",
       "[      -0.5*eta*y_n0*(1 - eta) + 0.5*eta*y_n1*(eta + 1) + y_n2*(1 - eta)*(eta + 1)],\n",
       "[-0.5*z_n0*zeta*(1 - zeta) + 0.5*z_n1*zeta*(zeta + 1) + z_n2*(1 - zeta)*(zeta + 1)]])"
      ]
     },
     "metadata": {},
     "output_type": "display_data"
    },
    {
     "data": {
      "text/latex": [
       "$\\displaystyle \\left[\\begin{matrix}- 0.5 q_{n0} \\xi \\left(1 - \\xi\\right) + 0.5 q_{n1} \\xi \\left(\\xi + 1\\right) + q_{n2} \\left(1 - \\xi\\right) \\left(\\xi + 1\\right)\\\\0\\\\0\\end{matrix}\\right]$"
      ],
      "text/plain": [
       "Matrix([\n",
       "[-0.5*q_n0*xi*(1 - xi) + 0.5*q_n1*xi*(xi + 1) + q_n2*(1 - xi)*(xi + 1)],\n",
       "[                                                                    0],\n",
       "[                                                                    0]])"
      ]
     },
     "metadata": {},
     "output_type": "display_data"
    }
   ],
   "source": [
    "L0 = -1/2*xi*(1-xi)\n",
    "L1 = 1/2*xi*(1+xi)\n",
    "L2 = (1-xi)*(1+xi)\n",
    "\n",
    "M0 = -1/2*eta*(1-eta)\n",
    "M1 = 1/2*eta*(1+eta)\n",
    "M2 = (1-eta)*(1+eta)\n",
    "\n",
    "N0 = -1/2*zeta*(1-zeta)\n",
    "N1 = 1/2*zeta*(1+zeta)\n",
    "N2 = (1-zeta)*(1+zeta)\n",
    "\n",
    "#Spesific to problem\n",
    "\n",
    "xpos = L0*x_n0 + L1*x_n1 + L2*x_n2\n",
    "ypos = M0*y_n0 + M1*y_n1 + M2*y_n2\n",
    "zpos = N0*z_n0 + N1*z_n1 + N2*z_n2\n",
    "\n",
    "u = L0*q_n0 + L1*q_n1 + L2*q_n2\n",
    "v = 0\n",
    "w = 0\n",
    "\n",
    "X = sp.Matrix([xpos,ypos,zpos])\n",
    "U = sp.Matrix([u,v,w])\n",
    "\n",
    "display(X)\n",
    "display(U)"
   ]
  },
  {
   "cell_type": "code",
   "execution_count": 46,
   "metadata": {},
   "outputs": [
    {
     "data": {
      "text/latex": [
       "$\\displaystyle \\left[\\begin{matrix}\\left[\\begin{matrix}0.5 x_{n0} \\xi - 0.5 x_{n0} \\left(1 - \\xi\\right) + 0.5 x_{n1} \\xi + 0.5 x_{n1} \\left(\\xi + 1\\right) + x_{n2} \\left(1 - \\xi\\right) - x_{n2} \\left(\\xi + 1\\right)\\end{matrix}\\right] & \\left[\\begin{matrix}0\\end{matrix}\\right] & \\left[\\begin{matrix}0\\end{matrix}\\right]\\\\\\left[\\begin{matrix}0\\end{matrix}\\right] & \\left[\\begin{matrix}0.5 \\eta y_{n0} + 0.5 \\eta y_{n1} - 0.5 y_{n0} \\left(1 - \\eta\\right) + 0.5 y_{n1} \\left(\\eta + 1\\right) + y_{n2} \\left(1 - \\eta\\right) - y_{n2} \\left(\\eta + 1\\right)\\end{matrix}\\right] & \\left[\\begin{matrix}0\\end{matrix}\\right]\\\\\\left[\\begin{matrix}0\\end{matrix}\\right] & \\left[\\begin{matrix}0\\end{matrix}\\right] & \\left[\\begin{matrix}0.5 z_{n0} \\zeta - 0.5 z_{n0} \\left(1 - \\zeta\\right) + 0.5 z_{n1} \\zeta + 0.5 z_{n1} \\left(\\zeta + 1\\right) + z_{n2} \\left(1 - \\zeta\\right) - z_{n2} \\left(\\zeta + 1\\right)\\end{matrix}\\right]\\end{matrix}\\right]$"
      ],
      "text/plain": [
       "Matrix([\n",
       "[[0.5*x_n0*xi - 0.5*x_n0*(1 - xi) + 0.5*x_n1*xi + 0.5*x_n1*(xi + 1) + x_n2*(1 - xi) - x_n2*(xi + 1)],                                                                                                       [0],                                                                                                             [0]],\n",
       "[                                                                                                [0], [0.5*eta*y_n0 + 0.5*eta*y_n1 - 0.5*y_n0*(1 - eta) + 0.5*y_n1*(eta + 1) + y_n2*(1 - eta) - y_n2*(eta + 1)],                                                                                                             [0]],\n",
       "[                                                                                                [0],                                                                                                       [0], [0.5*z_n0*zeta - 0.5*z_n0*(1 - zeta) + 0.5*z_n1*zeta + 0.5*z_n1*(zeta + 1) + z_n2*(1 - zeta) - z_n2*(zeta + 1)]]])"
      ]
     },
     "metadata": {},
     "output_type": "display_data"
    },
    {
     "ename": "NotImplementedError",
     "evalue": "unsupported operation on NDimArray",
     "output_type": "error",
     "traceback": [
      "\u001b[1;31m---------------------------------------------------------------------------\u001b[0m",
      "\u001b[1;31mNotImplementedError\u001b[0m                       Traceback (most recent call last)",
      "\u001b[1;32m~\\AppData\\Local\\Temp/ipykernel_2992/3126561850.py\u001b[0m in \u001b[0;36m<module>\u001b[1;34m\u001b[0m\n\u001b[0;32m      1\u001b[0m \u001b[0mdXdBeta\u001b[0m \u001b[1;33m=\u001b[0m \u001b[0msp\u001b[0m\u001b[1;33m.\u001b[0m\u001b[0mMatrix\u001b[0m\u001b[1;33m(\u001b[0m\u001b[0msp\u001b[0m\u001b[1;33m.\u001b[0m\u001b[0mderive_by_array\u001b[0m\u001b[1;33m(\u001b[0m\u001b[0mX\u001b[0m\u001b[1;33m,\u001b[0m\u001b[1;33m[\u001b[0m\u001b[0mxi\u001b[0m\u001b[1;33m,\u001b[0m\u001b[0meta\u001b[0m\u001b[1;33m,\u001b[0m\u001b[0mzeta\u001b[0m\u001b[1;33m]\u001b[0m\u001b[1;33m)\u001b[0m\u001b[1;33m)\u001b[0m\u001b[1;33m\u001b[0m\u001b[1;33m\u001b[0m\u001b[0m\n\u001b[0;32m      2\u001b[0m \u001b[0mdisplay\u001b[0m\u001b[1;33m(\u001b[0m\u001b[0mdXdBeta\u001b[0m\u001b[1;33m)\u001b[0m\u001b[1;33m\u001b[0m\u001b[1;33m\u001b[0m\u001b[0m\n\u001b[1;32m----> 3\u001b[1;33m \u001b[0mdisplay\u001b[0m\u001b[1;33m(\u001b[0m\u001b[1;36m1\u001b[0m\u001b[1;33m/\u001b[0m\u001b[0mdXdBeta\u001b[0m\u001b[1;33m[\u001b[0m\u001b[1;36m0\u001b[0m\u001b[1;33m]\u001b[0m\u001b[1;33m)\u001b[0m\u001b[1;33m\u001b[0m\u001b[1;33m\u001b[0m\u001b[0m\n\u001b[0m\u001b[0;32m      4\u001b[0m \u001b[1;33m\u001b[0m\u001b[0m\n\u001b[0;32m      5\u001b[0m \u001b[0mdBetadX\u001b[0m \u001b[1;33m=\u001b[0m \u001b[0msp\u001b[0m\u001b[1;33m.\u001b[0m\u001b[0mInverse\u001b[0m\u001b[1;33m(\u001b[0m\u001b[0mdXdBeta\u001b[0m\u001b[1;33m)\u001b[0m\u001b[1;33m\u001b[0m\u001b[1;33m\u001b[0m\u001b[0m\n",
      "\u001b[1;32me:\\OneDrive\\ENGINEERING\\01-ENGINEERING TOOLS\\env\\lib\\site-packages\\sympy\\tensor\\array\\ndim_array.py\u001b[0m in \u001b[0;36m__rtruediv__\u001b[1;34m(self, other)\u001b[0m\n\u001b[0;32m    459\u001b[0m \u001b[1;33m\u001b[0m\u001b[0m\n\u001b[0;32m    460\u001b[0m     \u001b[1;32mdef\u001b[0m \u001b[0m__rtruediv__\u001b[0m\u001b[1;33m(\u001b[0m\u001b[0mself\u001b[0m\u001b[1;33m,\u001b[0m \u001b[0mother\u001b[0m\u001b[1;33m)\u001b[0m\u001b[1;33m:\u001b[0m\u001b[1;33m\u001b[0m\u001b[1;33m\u001b[0m\u001b[0m\n\u001b[1;32m--> 461\u001b[1;33m         \u001b[1;32mraise\u001b[0m \u001b[0mNotImplementedError\u001b[0m\u001b[1;33m(\u001b[0m\u001b[1;34m'unsupported operation on NDimArray'\u001b[0m\u001b[1;33m)\u001b[0m\u001b[1;33m\u001b[0m\u001b[1;33m\u001b[0m\u001b[0m\n\u001b[0m\u001b[0;32m    462\u001b[0m \u001b[1;33m\u001b[0m\u001b[0m\n\u001b[0;32m    463\u001b[0m     \u001b[1;32mdef\u001b[0m \u001b[0m__neg__\u001b[0m\u001b[1;33m(\u001b[0m\u001b[0mself\u001b[0m\u001b[1;33m)\u001b[0m\u001b[1;33m:\u001b[0m\u001b[1;33m\u001b[0m\u001b[1;33m\u001b[0m\u001b[0m\n",
      "\u001b[1;31mNotImplementedError\u001b[0m: unsupported operation on NDimArray"
     ]
    }
   ],
   "source": [
    "dXdBeta = sp.Matrix(sp.derive_by_array(X,[xi,eta,zeta]))\n",
    "display(dXdBeta)\n",
    "display(dXdBeta[0])\n",
    "\n",
    "dBetadX = sp.Inverse(dXdBeta)\n",
    "display(dBetadX)\n",
    "display(dBetadX[0])\n",
    "dUdBeta = sp.Matrix(sp.derive_by_array(U,[xi,eta,zeta]))\n",
    "display(dUdBeta)\n",
    "\n",
    "dUdX = (sp.Matrix([dUdBeta[0]*dBetadX[0]]))#,dUdBeta[1]*dBetadX[1],dUdBeta[2]*dBetadX[2],dUdBeta[3]*dBetadX[3],dUdBeta[4]*dBetadX[4],dUdBeta[5]*dBetadX[5],dUdBeta[6]*dBetadX[6],dUdBeta[7]*dBetadX[7],dUdBeta[8]*dBetadX[8]]))\n",
    "display(dUdX)\n",
    "strain = dudxi*dxidx\n",
    "print('Strain:')\n",
    "display(strain)"
   ]
  },
  {
   "cell_type": "code",
   "execution_count": 9,
   "metadata": {},
   "outputs": [
    {
     "name": "stdout",
     "output_type": "stream",
     "text": [
      "Strain in voigt notation:\n"
     ]
    },
    {
     "data": {
      "text/latex": [
       "$\\displaystyle \\left[\\begin{matrix}\\frac{0.5 q_{0} \\xi - 0.5 q_{0} \\left(1 - \\xi\\right) + 0.5 q_{1} \\xi + 0.5 q_{1} \\left(\\xi + 1\\right) + q_{2} \\left(1 - \\xi\\right) - q_{2} \\left(\\xi + 1\\right)}{0.5 x_{0} \\xi - 0.5 x_{0} \\left(1 - \\xi\\right) + 0.5 x_{1} \\xi + 0.5 x_{1} \\left(\\xi + 1\\right) + x_{2} \\left(1 - \\xi\\right) - x_{2} \\left(\\xi + 1\\right)}\\\\0\\\\0\\\\0\\\\0\\\\0\\end{matrix}\\right]$"
      ],
      "text/plain": [
       "Matrix([\n",
       "[(0.5*q0*xi - 0.5*q0*(1 - xi) + 0.5*q1*xi + 0.5*q1*(xi + 1) + q2*(1 - xi) - q2*(xi + 1))/(0.5*x0*xi - 0.5*x0*(1 - xi) + 0.5*x1*xi + 0.5*x1*(xi + 1) + x2*(1 - xi) - x2*(xi + 1))],\n",
       "[                                                                                                                                                                              0],\n",
       "[                                                                                                                                                                              0],\n",
       "[                                                                                                                                                                              0],\n",
       "[                                                                                                                                                                              0],\n",
       "[                                                                                                                                                                              0]])"
      ]
     },
     "metadata": {},
     "output_type": "display_data"
    },
    {
     "name": "stdout",
     "output_type": "stream",
     "text": [
      "Stress in Voigt:\n"
     ]
    },
    {
     "data": {
      "text/latex": [
       "$\\displaystyle \\left[\\begin{matrix}\\frac{E \\left(0.5 q_{0} \\xi - 0.5 q_{0} \\left(1 - \\xi\\right) + 0.5 q_{1} \\xi + 0.5 q_{1} \\left(\\xi + 1\\right) + q_{2} \\left(1 - \\xi\\right) - q_{2} \\left(\\xi + 1\\right)\\right)}{0.5 x_{0} \\xi - 0.5 x_{0} \\left(1 - \\xi\\right) + 0.5 x_{1} \\xi + 0.5 x_{1} \\left(\\xi + 1\\right) + x_{2} \\left(1 - \\xi\\right) - x_{2} \\left(\\xi + 1\\right)}\\\\0\\\\0\\\\0\\\\0\\\\0\\end{matrix}\\right]$"
      ],
      "text/plain": [
       "Matrix([\n",
       "[E*(0.5*q0*xi - 0.5*q0*(1 - xi) + 0.5*q1*xi + 0.5*q1*(xi + 1) + q2*(1 - xi) - q2*(xi + 1))/(0.5*x0*xi - 0.5*x0*(1 - xi) + 0.5*x1*xi + 0.5*x1*(xi + 1) + x2*(1 - xi) - x2*(xi + 1))],\n",
       "[                                                                                                                                                                                0],\n",
       "[                                                                                                                                                                                0],\n",
       "[                                                                                                                                                                                0],\n",
       "[                                                                                                                                                                                0],\n",
       "[                                                                                                                                                                                0]])"
      ]
     },
     "metadata": {},
     "output_type": "display_data"
    }
   ],
   "source": [
    "nu,E = sp.symbols('nu,E')\n",
    "M = [[1-nu,nu,nu,0,0,0],[nu,1-nu,nu,0,0,0],[nu,nu,1-nu,0,0,0],[0,0,0,0.5-nu,0,0],[0,0,0,0,0.5-nu,0],[0,0,0,0,0,0.5-nu]]\n",
    "D = E/((1 + nu)*(1 - 2*nu))*sp.Matrix(M)\n",
    "epsilon_voigt = sp.Matrix([strain,0,0,0,0,0])\n",
    "print('Strain in voigt notation:')\n",
    "display(epsilon_voigt)\n",
    "sigma_voigt = D*epsilon_voigt\n",
    "print('Stress in Voigt:')\n",
    "display(sigma_voigt.subs({nu:0}))\n",
    "sigma = sp.Matrix([[sigma_voigt[0],sigma_voigt[5],sigma_voigt[4]],[sigma_voigt[5],sigma_voigt[1],sigma_voigt[3]],[sigma_voigt[4],sigma_voigt[3],sigma_voigt[2]]])\n",
    "#display(sigma)"
   ]
  },
  {
   "cell_type": "code",
   "execution_count": 11,
   "metadata": {},
   "outputs": [
    {
     "data": {
      "text/latex": [
       "$\\displaystyle \\left[\\begin{matrix}d x^{2} + e x + f\\\\0\\\\0\\end{matrix}\\right]$"
      ],
      "text/plain": [
       "Matrix([\n",
       "[d*x**2 + e*x + f],\n",
       "[               0],\n",
       "[               0]])"
      ]
     },
     "metadata": {},
     "output_type": "display_data"
    }
   ],
   "source": [
    "d,e,f = sp.symbols('d,e,f')\n",
    "\n",
    "u_approx = d*x**2 + e*x + f\n",
    "\n",
    "\n",
    "U_approx = sp.Matrix([u_approx,v_approx,w_approx])\n",
    "display(U_approx)"
   ]
  },
  {
   "cell_type": "code",
   "execution_count": 12,
   "metadata": {},
   "outputs": [
    {
     "ename": "NameError",
     "evalue": "name 'y' is not defined",
     "output_type": "error",
     "traceback": [
      "\u001b[1;31m---------------------------------------------------------------------------\u001b[0m",
      "\u001b[1;31mNameError\u001b[0m                                 Traceback (most recent call last)",
      "\u001b[1;32m~\\AppData\\Local\\Temp/ipykernel_788/2120899343.py\u001b[0m in \u001b[0;36m<module>\u001b[1;34m\u001b[0m\n\u001b[1;32m----> 1\u001b[1;33m \u001b[0mweighed_strain\u001b[0m \u001b[1;33m=\u001b[0m \u001b[0msp\u001b[0m\u001b[1;33m.\u001b[0m\u001b[0mMatrix\u001b[0m\u001b[1;33m(\u001b[0m\u001b[0msp\u001b[0m\u001b[1;33m.\u001b[0m\u001b[0mderive_by_array\u001b[0m\u001b[1;33m(\u001b[0m\u001b[0mU_approx\u001b[0m\u001b[1;33m,\u001b[0m\u001b[1;33m[\u001b[0m\u001b[0mx\u001b[0m\u001b[1;33m,\u001b[0m\u001b[0my\u001b[0m\u001b[1;33m,\u001b[0m\u001b[0mz\u001b[0m\u001b[1;33m]\u001b[0m\u001b[1;33m)\u001b[0m\u001b[1;33m)\u001b[0m\u001b[1;33m\u001b[0m\u001b[1;33m\u001b[0m\u001b[0m\n\u001b[0m\u001b[0;32m      2\u001b[0m \u001b[0mdisplay\u001b[0m\u001b[1;33m(\u001b[0m\u001b[0mweighed_strain\u001b[0m\u001b[1;33m)\u001b[0m\u001b[1;33m\u001b[0m\u001b[1;33m\u001b[0m\u001b[0m\n",
      "\u001b[1;31mNameError\u001b[0m: name 'y' is not defined"
     ]
    }
   ],
   "source": [
    "weighed_strain = sp.Matrix(sp.derive_by_array(U_approx,[x,y,z]))\n",
    "display(weighed_strain)"
   ]
  },
  {
   "cell_type": "code",
   "execution_count": 19,
   "metadata": {},
   "outputs": [
    {
     "data": {
      "text/latex": [
       "$\\displaystyle \\left[\\begin{matrix}\\frac{E \\left(1 - \\nu\\right) \\left(2.0 a x + 1.0 b\\right) \\left(2 d x + e\\right)}{\\left(1 - 2 \\nu\\right) \\left(\\nu + 1\\right)}\\end{matrix}\\right]$"
      ],
      "text/plain": [
       "[E*(1 - nu)*(2.0*a*x + 1.0*b)*(2*d*x + e)/((1 - 2*nu)*(nu + 1))]"
      ]
     },
     "metadata": {},
     "output_type": "display_data"
    }
   ],
   "source": [
    "one_term = sigma[0]*weighed_strain[0]\n",
    "two_term = sigma[1]*weighed_strain[3]\n",
    "three_term = sigma[2]*weighed_strain[6]\n",
    "four_term = sigma[3]*weighed_strain[1]\n",
    "five_term = sigma[4]*weighed_strain[4]\n",
    "six_term = sigma[5]*weighed_strain[7] \n",
    "seven_term = sigma[6]*weighed_strain[2] \n",
    "eight_term = sigma[7]*weighed_strain[5] \n",
    "nine_term = sigma[8]*weighed_strain[8] \n",
    "stress_strain_contraction = one_term+two_term+three_term+four_term+five_term+six_term+seven_term+eight_term+nine_term\n",
    "display(stress_strain_contraction)"
   ]
  }
 ],
 "metadata": {
  "interpreter": {
   "hash": "b0d877fd5326eabdec7294d85196f572791c8fccbbd1b2db4b2baf685ab06f05"
  },
  "kernelspec": {
   "display_name": "Python 3 (ipykernel)",
   "language": "python",
   "name": "python3"
  },
  "language_info": {
   "codemirror_mode": {
    "name": "ipython",
    "version": 3
   },
   "file_extension": ".py",
   "mimetype": "text/x-python",
   "name": "python",
   "nbconvert_exporter": "python",
   "pygments_lexer": "ipython3",
   "version": "3.9.6"
  }
 },
 "nbformat": 4,
 "nbformat_minor": 2
}
