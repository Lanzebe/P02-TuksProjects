{
 "cells": [
  {
   "cell_type": "code",
   "execution_count": 1,
   "metadata": {},
   "outputs": [],
   "source": [
    "import sympy as sp"
   ]
  },
  {
   "cell_type": "markdown",
   "metadata": {},
   "source": [
    "## Mapping x to xi"
   ]
  },
  {
   "cell_type": "code",
   "execution_count": 2,
   "metadata": {},
   "outputs": [],
   "source": [
    "x,xi = sp.symbols('x,xi')\n",
    "\n",
    "x_n0,x_n1,x_n2 = sp.symbols('x_n0,x_n1,x_n2')\n",
    "\n",
    "q_n0,q_n1,q_n2 = sp.symbols('q_n0,q_n1,q_n2')\n",
    "\n"
   ]
  },
  {
   "cell_type": "code",
   "execution_count": 3,
   "metadata": {},
   "outputs": [
    {
     "data": {
      "text/latex": [
       "$\\displaystyle - 0.5 x_{n0} \\xi \\left(1 - \\xi\\right) + 0.5 x_{n1} \\xi \\left(\\xi + 1\\right) + x_{n2} \\left(1 - \\xi\\right) \\left(\\xi + 1\\right)$"
      ],
      "text/plain": [
       "-0.5*x_n0*xi*(1 - xi) + 0.5*x_n1*xi*(xi + 1) + x_n2*(1 - xi)*(xi + 1)"
      ]
     },
     "metadata": {},
     "output_type": "display_data"
    },
    {
     "data": {
      "text/latex": [
       "$\\displaystyle \\left[\\begin{matrix}- 0.5 q_{n0} \\xi \\left(1 - \\xi\\right) + 0.5 q_{n1} \\xi \\left(\\xi + 1\\right) + q_{n2} \\left(1 - \\xi\\right) \\left(\\xi + 1\\right)\\\\0\\\\0\\end{matrix}\\right]$"
      ],
      "text/plain": [
       "Matrix([\n",
       "[-0.5*q_n0*xi*(1 - xi) + 0.5*q_n1*xi*(xi + 1) + q_n2*(1 - xi)*(xi + 1)],\n",
       "[                                                                    0],\n",
       "[                                                                    0]])"
      ]
     },
     "metadata": {},
     "output_type": "display_data"
    }
   ],
   "source": [
    "L0 = -1/2*xi*(1-xi)\n",
    "L1 = 1/2*xi*(1+xi)\n",
    "L2 = (1-xi)*(1+xi)\n",
    "\n",
    "\n",
    "#Spesific to problem\n",
    "\n",
    "xpos = L0*x_n0 + L1*x_n1 + L2*x_n2\n",
    "\n",
    "u = L0*q_n0 + L1*q_n1 + L2*q_n2\n",
    "v = 0\n",
    "w = 0\n",
    "\n",
    "U = sp.Matrix([u,v,w])\n",
    "\n",
    "display(xpos)\n",
    "display(U)"
   ]
  },
  {
   "cell_type": "code",
   "execution_count": 36,
   "metadata": {},
   "outputs": [
    {
     "data": {
      "text/latex": [
       "$\\displaystyle \\frac{1}{0.5 x_{n0} \\xi - 0.5 x_{n0} \\left(1 - \\xi\\right) + 0.5 x_{n1} \\xi + 0.5 x_{n1} \\left(\\xi + 1\\right) + x_{n2} \\left(1 - \\xi\\right) - x_{n2} \\left(\\xi + 1\\right)}$"
      ],
      "text/plain": [
       "1/(0.5*x_n0*xi - 0.5*x_n0*(1 - xi) + 0.5*x_n1*xi + 0.5*x_n1*(xi + 1) + x_n2*(1 - xi) - x_n2*(xi + 1))"
      ]
     },
     "metadata": {},
     "output_type": "display_data"
    },
    {
     "data": {
      "text/latex": [
       "$\\displaystyle \\left[\\begin{matrix}0.5 q_{n0} \\xi - 0.5 q_{n0} \\left(1 - \\xi\\right) + 0.5 q_{n1} \\xi + 0.5 q_{n1} \\left(\\xi + 1\\right) + q_{n2} \\left(1 - \\xi\\right) - q_{n2} \\left(\\xi + 1\\right)\\\\0\\\\0\\end{matrix}\\right]$"
      ],
      "text/plain": [
       "Matrix([\n",
       "[0.5*q_n0*xi - 0.5*q_n0*(1 - xi) + 0.5*q_n1*xi + 0.5*q_n1*(xi + 1) + q_n2*(1 - xi) - q_n2*(xi + 1)],\n",
       "[                                                                                                0],\n",
       "[                                                                                                0]])"
      ]
     },
     "metadata": {},
     "output_type": "display_data"
    },
    {
     "name": "stdout",
     "output_type": "stream",
     "text": [
      "Strain:\n"
     ]
    },
    {
     "data": {
      "text/latex": [
       "$\\displaystyle \\left[\\begin{matrix}\\frac{0.5 q_{n0} \\xi - 0.5 q_{n0} \\left(1 - \\xi\\right) + 0.5 q_{n1} \\xi + 0.5 q_{n1} \\left(\\xi + 1\\right) + q_{n2} \\left(1 - \\xi\\right) - q_{n2} \\left(\\xi + 1\\right)}{0.5 x_{n0} \\xi - 0.5 x_{n0} \\left(1 - \\xi\\right) + 0.5 x_{n1} \\xi + 0.5 x_{n1} \\left(\\xi + 1\\right) + x_{n2} \\left(1 - \\xi\\right) - x_{n2} \\left(\\xi + 1\\right)}\\\\0\\\\0\\end{matrix}\\right]$"
      ],
      "text/plain": [
       "Matrix([\n",
       "[(0.5*q_n0*xi - 0.5*q_n0*(1 - xi) + 0.5*q_n1*xi + 0.5*q_n1*(xi + 1) + q_n2*(1 - xi) - q_n2*(xi + 1))/(0.5*x_n0*xi - 0.5*x_n0*(1 - xi) + 0.5*x_n1*xi + 0.5*x_n1*(xi + 1) + x_n2*(1 - xi) - x_n2*(xi + 1))],\n",
       "[                                                                                                                                                                                                      0],\n",
       "[                                                                                                                                                                                                      0]])"
      ]
     },
     "metadata": {},
     "output_type": "display_data"
    },
    {
     "name": "stdout",
     "output_type": "stream",
     "text": [
      "(0.5*q_n0*xi - 0.5*q_n0*(1 - xi) + 0.5*q_n1*xi + 0.5*q_n1*(xi + 1) + q_n2*(1 - xi) - q_n2*(xi + 1))/(0.5*x_n0*xi - 0.5*x_n0*(1 - xi) + 0.5*x_n1*xi + 0.5*x_n1*(xi + 1) + x_n2*(1 - xi) - x_n2*(xi + 1))\n"
     ]
    }
   ],
   "source": [
    "dXdBeta = sp.derive_by_array(xpos,xi)\n",
    "\n",
    "dBetadX = dXdBeta**-1\n",
    "display(dBetadX)\n",
    "dUdBeta = sp.Matrix(sp.derive_by_array(U,xi))\n",
    "display(dUdBeta)\n",
    "\n",
    "\n",
    "strain = dUdBeta*dBetadX\n",
    "print('Strain:')\n",
    "display(strain)\n",
    "print(strain[0])"
   ]
  },
  {
   "cell_type": "code",
   "execution_count": 37,
   "metadata": {},
   "outputs": [
    {
     "name": "stdout",
     "output_type": "stream",
     "text": [
      "Strain in voigt notation:\n"
     ]
    },
    {
     "data": {
      "text/latex": [
       "$\\displaystyle \\left[\\begin{matrix}\\frac{0.5 q_{n0} \\xi - 0.5 q_{n0} \\left(1 - \\xi\\right) + 0.5 q_{n1} \\xi + 0.5 q_{n1} \\left(\\xi + 1\\right) + q_{n2} \\left(1 - \\xi\\right) - q_{n2} \\left(\\xi + 1\\right)}{0.5 x_{n0} \\xi - 0.5 x_{n0} \\left(1 - \\xi\\right) + 0.5 x_{n1} \\xi + 0.5 x_{n1} \\left(\\xi + 1\\right) + x_{n2} \\left(1 - \\xi\\right) - x_{n2} \\left(\\xi + 1\\right)}\\\\0\\\\0\\end{matrix}\\right]$"
      ],
      "text/plain": [
       "Matrix([\n",
       "[(0.5*q_n0*xi - 0.5*q_n0*(1 - xi) + 0.5*q_n1*xi + 0.5*q_n1*(xi + 1) + q_n2*(1 - xi) - q_n2*(xi + 1))/(0.5*x_n0*xi - 0.5*x_n0*(1 - xi) + 0.5*x_n1*xi + 0.5*x_n1*(xi + 1) + x_n2*(1 - xi) - x_n2*(xi + 1))],\n",
       "[                                                                                                                                                                                                      0],\n",
       "[                                                                                                                                                                                                      0]])"
      ]
     },
     "metadata": {},
     "output_type": "display_data"
    },
    {
     "name": "stdout",
     "output_type": "stream",
     "text": [
      "Stress in Voigt:\n"
     ]
    },
    {
     "data": {
      "text/latex": [
       "$\\displaystyle \\left[\\begin{matrix}\\frac{E \\left(1 - \\nu\\right) \\left(0.5 q_{n0} \\xi - 0.5 q_{n0} \\left(1 - \\xi\\right) + 0.5 q_{n1} \\xi + 0.5 q_{n1} \\left(\\xi + 1\\right) + q_{n2} \\left(1 - \\xi\\right) - q_{n2} \\left(\\xi + 1\\right)\\right)}{\\left(1 - 2 \\nu\\right) \\left(\\nu + 1\\right) \\left(0.5 x_{n0} \\xi - 0.5 x_{n0} \\left(1 - \\xi\\right) + 0.5 x_{n1} \\xi + 0.5 x_{n1} \\left(\\xi + 1\\right) + x_{n2} \\left(1 - \\xi\\right) - x_{n2} \\left(\\xi + 1\\right)\\right)}\\\\\\frac{E \\nu \\left(0.5 q_{n0} \\xi - 0.5 q_{n0} \\left(1 - \\xi\\right) + 0.5 q_{n1} \\xi + 0.5 q_{n1} \\left(\\xi + 1\\right) + q_{n2} \\left(1 - \\xi\\right) - q_{n2} \\left(\\xi + 1\\right)\\right)}{\\left(1 - 2 \\nu\\right) \\left(\\nu + 1\\right) \\left(0.5 x_{n0} \\xi - 0.5 x_{n0} \\left(1 - \\xi\\right) + 0.5 x_{n1} \\xi + 0.5 x_{n1} \\left(\\xi + 1\\right) + x_{n2} \\left(1 - \\xi\\right) - x_{n2} \\left(\\xi + 1\\right)\\right)}\\\\\\frac{E \\nu \\left(0.5 q_{n0} \\xi - 0.5 q_{n0} \\left(1 - \\xi\\right) + 0.5 q_{n1} \\xi + 0.5 q_{n1} \\left(\\xi + 1\\right) + q_{n2} \\left(1 - \\xi\\right) - q_{n2} \\left(\\xi + 1\\right)\\right)}{\\left(1 - 2 \\nu\\right) \\left(\\nu + 1\\right) \\left(0.5 x_{n0} \\xi - 0.5 x_{n0} \\left(1 - \\xi\\right) + 0.5 x_{n1} \\xi + 0.5 x_{n1} \\left(\\xi + 1\\right) + x_{n2} \\left(1 - \\xi\\right) - x_{n2} \\left(\\xi + 1\\right)\\right)}\\end{matrix}\\right]$"
      ],
      "text/plain": [
       "Matrix([\n",
       "[E*(1 - nu)*(0.5*q_n0*xi - 0.5*q_n0*(1 - xi) + 0.5*q_n1*xi + 0.5*q_n1*(xi + 1) + q_n2*(1 - xi) - q_n2*(xi + 1))/((1 - 2*nu)*(nu + 1)*(0.5*x_n0*xi - 0.5*x_n0*(1 - xi) + 0.5*x_n1*xi + 0.5*x_n1*(xi + 1) + x_n2*(1 - xi) - x_n2*(xi + 1)))],\n",
       "[      E*nu*(0.5*q_n0*xi - 0.5*q_n0*(1 - xi) + 0.5*q_n1*xi + 0.5*q_n1*(xi + 1) + q_n2*(1 - xi) - q_n2*(xi + 1))/((1 - 2*nu)*(nu + 1)*(0.5*x_n0*xi - 0.5*x_n0*(1 - xi) + 0.5*x_n1*xi + 0.5*x_n1*(xi + 1) + x_n2*(1 - xi) - x_n2*(xi + 1)))],\n",
       "[      E*nu*(0.5*q_n0*xi - 0.5*q_n0*(1 - xi) + 0.5*q_n1*xi + 0.5*q_n1*(xi + 1) + q_n2*(1 - xi) - q_n2*(xi + 1))/((1 - 2*nu)*(nu + 1)*(0.5*x_n0*xi - 0.5*x_n0*(1 - xi) + 0.5*x_n1*xi + 0.5*x_n1*(xi + 1) + x_n2*(1 - xi) - x_n2*(xi + 1)))]])"
      ]
     },
     "metadata": {},
     "output_type": "display_data"
    },
    {
     "name": "stdout",
     "output_type": "stream",
     "text": [
      "Stress poison simplificatoin for 1D:\n"
     ]
    },
    {
     "data": {
      "text/latex": [
       "$\\displaystyle \\left[\\begin{matrix}\\frac{E \\left(0.5 q_{n0} \\xi - 0.5 q_{n0} \\left(1 - \\xi\\right) + 0.5 q_{n1} \\xi + 0.5 q_{n1} \\left(\\xi + 1\\right) + q_{n2} \\left(1 - \\xi\\right) - q_{n2} \\left(\\xi + 1\\right)\\right)}{0.5 x_{n0} \\xi - 0.5 x_{n0} \\left(1 - \\xi\\right) + 0.5 x_{n1} \\xi + 0.5 x_{n1} \\left(\\xi + 1\\right) + x_{n2} \\left(1 - \\xi\\right) - x_{n2} \\left(\\xi + 1\\right)}\\\\0\\\\0\\end{matrix}\\right]$"
      ],
      "text/plain": [
       "Matrix([\n",
       "[E*(0.5*q_n0*xi - 0.5*q_n0*(1 - xi) + 0.5*q_n1*xi + 0.5*q_n1*(xi + 1) + q_n2*(1 - xi) - q_n2*(xi + 1))/(0.5*x_n0*xi - 0.5*x_n0*(1 - xi) + 0.5*x_n1*xi + 0.5*x_n1*(xi + 1) + x_n2*(1 - xi) - x_n2*(xi + 1))],\n",
       "[                                                                                                                                                                                                        0],\n",
       "[                                                                                                                                                                                                        0]])"
      ]
     },
     "metadata": {},
     "output_type": "display_data"
    },
    {
     "name": "stdout",
     "output_type": "stream",
     "text": [
      "DWS stress used further in calculations:\n"
     ]
    },
    {
     "data": {
      "text/latex": [
       "$\\displaystyle \\frac{E \\left(0.5 q_{n0} \\xi - 0.5 q_{n0} \\left(1 - \\xi\\right) + 0.5 q_{n1} \\xi + 0.5 q_{n1} \\left(\\xi + 1\\right) + q_{n2} \\left(1 - \\xi\\right) - q_{n2} \\left(\\xi + 1\\right)\\right)}{0.5 x_{n0} \\xi - 0.5 x_{n0} \\left(1 - \\xi\\right) + 0.5 x_{n1} \\xi + 0.5 x_{n1} \\left(\\xi + 1\\right) + x_{n2} \\left(1 - \\xi\\right) - x_{n2} \\left(\\xi + 1\\right)}$"
      ],
      "text/plain": [
       "E*(0.5*q_n0*xi - 0.5*q_n0*(1 - xi) + 0.5*q_n1*xi + 0.5*q_n1*(xi + 1) + q_n2*(1 - xi) - q_n2*(xi + 1))/(0.5*x_n0*xi - 0.5*x_n0*(1 - xi) + 0.5*x_n1*xi + 0.5*x_n1*(xi + 1) + x_n2*(1 - xi) - x_n2*(xi + 1))"
      ]
     },
     "metadata": {},
     "output_type": "display_data"
    },
    {
     "name": "stdout",
     "output_type": "stream",
     "text": [
      "E*(0.5*q_n0*xi - 0.5*q_n0*(1 - xi) + 0.5*q_n1*xi + 0.5*q_n1*(xi + 1) + q_n2*(1 - xi) - q_n2*(xi + 1))/(0.5*x_n0*xi - 0.5*x_n0*(1 - xi) + 0.5*x_n1*xi + 0.5*x_n1*(xi + 1) + x_n2*(1 - xi) - x_n2*(xi + 1))\n"
     ]
    }
   ],
   "source": [
    "nu,E = sp.symbols('nu,E')\n",
    "\n",
    "M = [[1-nu,nu,nu],[nu,1-nu,nu],[nu,nu,1-nu]]  #simplified for 1D\n",
    "D = E/((1 + nu)*(1 - 2*nu))*sp.Matrix(M)\n",
    "epsilon_voigt = sp.Matrix([strain])\n",
    "print('Strain in voigt notation:')\n",
    "display(epsilon_voigt)\n",
    "sigma_voigt = D*epsilon_voigt\n",
    "print('Stress in Voigt:')\n",
    "display(sigma_voigt)\n",
    "sigma_oneD = sigma_voigt.subs({nu:0})\n",
    "print('Stress poison simplificatoin for 1D:')\n",
    "display(sigma_oneD)\n",
    "sigma = sigma_oneD[0]\n",
    "print('DWS stress used further in calculations:')\n",
    "display(sigma)\n",
    "print(sigma)"
   ]
  },
  {
   "cell_type": "markdown",
   "metadata": {},
   "source": [
    "## Weights"
   ]
  },
  {
   "cell_type": "code",
   "execution_count": 6,
   "metadata": {},
   "outputs": [
    {
     "data": {
      "text/latex": [
       "$\\displaystyle - 0.5 w_{n0} \\xi \\left(1 - \\xi\\right) + 0.5 w_{n1} \\xi \\left(\\xi + 1\\right) + w_{n2} \\left(1 - \\xi\\right) \\left(\\xi + 1\\right)$"
      ],
      "text/plain": [
       "-0.5*w_n0*xi*(1 - xi) + 0.5*w_n1*xi*(xi + 1) + w_n2*(1 - xi)*(xi + 1)"
      ]
     },
     "metadata": {},
     "output_type": "display_data"
    },
    {
     "name": "stdout",
     "output_type": "stream",
     "text": [
      "dBetadX:\n"
     ]
    },
    {
     "data": {
      "text/latex": [
       "$\\displaystyle \\frac{1}{0.5 x_{n0} \\xi - 0.5 x_{n0} \\left(1 - \\xi\\right) + 0.5 x_{n1} \\xi + 0.5 x_{n1} \\left(\\xi + 1\\right) + x_{n2} \\left(1 - \\xi\\right) - x_{n2} \\left(\\xi + 1\\right)}$"
      ],
      "text/plain": [
       "1/(0.5*x_n0*xi - 0.5*x_n0*(1 - xi) + 0.5*x_n1*xi + 0.5*x_n1*(xi + 1) + x_n2*(1 - xi) - x_n2*(xi + 1))"
      ]
     },
     "metadata": {},
     "output_type": "display_data"
    },
    {
     "name": "stdout",
     "output_type": "stream",
     "text": [
      "dw_xdBeta:\n"
     ]
    },
    {
     "data": {
      "text/latex": [
       "$\\displaystyle 0.5 w_{n0} \\xi - 0.5 w_{n0} \\left(1 - \\xi\\right) + 0.5 w_{n1} \\xi + 0.5 w_{n1} \\left(\\xi + 1\\right) + w_{n2} \\left(1 - \\xi\\right) - w_{n2} \\left(\\xi + 1\\right)$"
      ],
      "text/plain": [
       "0.5*w_n0*xi - 0.5*w_n0*(1 - xi) + 0.5*w_n1*xi + 0.5*w_n1*(xi + 1) + w_n2*(1 - xi) - w_n2*(xi + 1)"
      ]
     },
     "metadata": {},
     "output_type": "display_data"
    },
    {
     "name": "stdout",
     "output_type": "stream",
     "text": [
      "dw_xdBeta:\n"
     ]
    },
    {
     "data": {
      "text/latex": [
       "$\\displaystyle \\frac{0.5 w_{n0} \\xi - 0.5 w_{n0} \\left(1 - \\xi\\right) + 0.5 w_{n1} \\xi + 0.5 w_{n1} \\left(\\xi + 1\\right) + w_{n2} \\left(1 - \\xi\\right) - w_{n2} \\left(\\xi + 1\\right)}{0.5 x_{n0} \\xi - 0.5 x_{n0} \\left(1 - \\xi\\right) + 0.5 x_{n1} \\xi + 0.5 x_{n1} \\left(\\xi + 1\\right) + x_{n2} \\left(1 - \\xi\\right) - x_{n2} \\left(\\xi + 1\\right)}$"
      ],
      "text/plain": [
       "(0.5*w_n0*xi - 0.5*w_n0*(1 - xi) + 0.5*w_n1*xi + 0.5*w_n1*(xi + 1) + w_n2*(1 - xi) - w_n2*(xi + 1))/(0.5*x_n0*xi - 0.5*x_n0*(1 - xi) + 0.5*x_n1*xi + 0.5*x_n1*(xi + 1) + x_n2*(1 - xi) - x_n2*(xi + 1))"
      ]
     },
     "metadata": {},
     "output_type": "display_data"
    }
   ],
   "source": [
    "w_n0,w_n1,w_n2 = sp.symbols('w_n0,w_n1,w_n2')\n",
    "\n",
    "w_u = L0*w_n0 + L1*w_n1 + L2*w_n2\n",
    "\n",
    "\n",
    "\n",
    "display(w_u)\n",
    "\n",
    "\n",
    "dXdBeta = sp.derive_by_array(xpos,xi)\n",
    "\n",
    "dBetadX = dXdBeta**-1\n",
    "print('dBetadX:')\n",
    "display(dBetadX)\n",
    "dw_xdBeta = sp.derive_by_array(w_u,xi)\n",
    "print('dw_xdBeta:')\n",
    "display(dw_xdBeta)\n",
    "\n",
    "\n",
    "dw_udX = dw_xdBeta*dBetadX\n",
    "\n",
    "print('dw_xdBeta:')\n",
    "display(dw_udX)"
   ]
  },
  {
   "cell_type": "markdown",
   "metadata": {},
   "source": [
    "## Frist term"
   ]
  },
  {
   "cell_type": "code",
   "execution_count": 7,
   "metadata": {},
   "outputs": [],
   "source": [
    "##areas\n",
    "A_n0,A_n1,A_n2 = sp.symbols('A_n0,A_n1,A_n2')\n",
    "\n",
    "A = L0*A_n0 + L1*A_n1 + L2*A_n2"
   ]
  },
  {
   "cell_type": "code",
   "execution_count": 24,
   "metadata": {},
   "outputs": [
    {
     "data": {
      "text/latex": [
       "$\\displaystyle \\frac{E \\left(- 0.5 A_{n0} \\xi \\left(1 - \\xi\\right) + 0.5 A_{n1} \\xi \\left(\\xi + 1\\right) + A_{n2} \\left(1 - \\xi\\right) \\left(\\xi + 1\\right)\\right) \\left(0.5 q_{n0} \\xi - 0.5 q_{n0} \\left(1 - \\xi\\right) + 0.5 q_{n1} \\xi + 0.5 q_{n1} \\left(\\xi + 1\\right) + q_{n2} \\left(1 - \\xi\\right) - q_{n2} \\left(\\xi + 1\\right)\\right) \\left(0.5 w_{n0} \\xi - 0.5 w_{n0} \\left(1 - \\xi\\right) + 0.5 w_{n1} \\xi + 0.5 w_{n1} \\left(\\xi + 1\\right) + w_{n2} \\left(1 - \\xi\\right) - w_{n2} \\left(\\xi + 1\\right)\\right)}{0.5 x_{n0} \\xi - 0.5 x_{n0} \\left(1 - \\xi\\right) + 0.5 x_{n1} \\xi + 0.5 x_{n1} \\left(\\xi + 1\\right) + x_{n2} \\left(1 - \\xi\\right) - x_{n2} \\left(\\xi + 1\\right)}$"
      ],
      "text/plain": [
       "E*(-0.5*A_n0*xi*(1 - xi) + 0.5*A_n1*xi*(xi + 1) + A_n2*(1 - xi)*(xi + 1))*(0.5*q_n0*xi - 0.5*q_n0*(1 - xi) + 0.5*q_n1*xi + 0.5*q_n1*(xi + 1) + q_n2*(1 - xi) - q_n2*(xi + 1))*(0.5*w_n0*xi - 0.5*w_n0*(1 - xi) + 0.5*w_n1*xi + 0.5*w_n1*(xi + 1) + w_n2*(1 - xi) - w_n2*(xi + 1))/(0.5*x_n0*xi - 0.5*x_n0*(1 - xi) + 0.5*x_n1*xi + 0.5*x_n1*(xi + 1) + x_n2*(1 - xi) - x_n2*(xi + 1))"
      ]
     },
     "metadata": {},
     "output_type": "display_data"
    }
   ],
   "source": [
    "term1 = sigma*dw_udX*dXdBeta*A\n",
    "display(term1)"
   ]
  },
  {
   "cell_type": "markdown",
   "metadata": {},
   "source": [
    "## Building striffness matrix"
   ]
  },
  {
   "cell_type": "code",
   "execution_count": 25,
   "metadata": {},
   "outputs": [
    {
     "data": {
      "text/latex": [
       "$\\displaystyle \\left[\\begin{matrix}\\frac{E \\left(- 273.375 A_{n0} x_{n0} - 3736.125 A_{n0} x_{n1} + 4009.5 A_{n0} x_{n2} + 91.125 A_{n1} x_{n0} + 1002.375 A_{n1} x_{n1} - 1093.5 A_{n1} x_{n2} - 364.5 A_{n2} x_{n0} - 5467.5 A_{n2} x_{n1} + 5832.0 A_{n2} x_{n2}\\right)}{546.75 x_{n0}^{2} + 7654.5 x_{n0} x_{n1} - 8748.0 x_{n0} x_{n2} + 546.75 x_{n1}^{2} - 8748.0 x_{n1} x_{n2} + 8748.0 x_{n2}^{2}} & \\frac{E \\left(- 91.125 A_{n0} x_{n0} - 273.375 A_{n0} x_{n1} + 364.5 A_{n0} x_{n2} + 273.375 A_{n1} x_{n0} + 91.125 A_{n1} x_{n1} - 364.5 A_{n1} x_{n2} + 364.5 A_{n2} x_{n0} - 364.5 A_{n2} x_{n1}\\right)}{546.75 x_{n0}^{2} + 7654.5 x_{n0} x_{n1} - 8748.0 x_{n0} x_{n2} + 546.75 x_{n1}^{2} - 8748.0 x_{n1} x_{n2} + 8748.0 x_{n2}^{2}} & \\frac{E \\left(364.5 A_{n0} x_{n0} + 4009.5 A_{n0} x_{n1} - 4374.0 A_{n0} x_{n2} - 364.5 A_{n1} x_{n0} - 1093.5 A_{n1} x_{n1} + 1458.0 A_{n1} x_{n2} + 5832.0 A_{n2} x_{n1} - 5832.0 A_{n2} x_{n2}\\right)}{546.75 x_{n0}^{2} + 7654.5 x_{n0} x_{n1} - 8748.0 x_{n0} x_{n2} + 546.75 x_{n1}^{2} - 8748.0 x_{n1} x_{n2} + 8748.0 x_{n2}^{2}}\\\\\\frac{E \\left(- 91.125 A_{n0} x_{n0} - 273.375 A_{n0} x_{n1} + 364.5 A_{n0} x_{n2} + 273.375 A_{n1} x_{n0} + 91.125 A_{n1} x_{n1} - 364.5 A_{n1} x_{n2} + 364.5 A_{n2} x_{n0} - 364.5 A_{n2} x_{n1}\\right)}{546.75 x_{n0}^{2} + 7654.5 x_{n0} x_{n1} - 8748.0 x_{n0} x_{n2} + 546.75 x_{n1}^{2} - 8748.0 x_{n1} x_{n2} + 8748.0 x_{n2}^{2}} & \\frac{E \\left(- 1002.375 A_{n0} x_{n0} - 91.125 A_{n0} x_{n1} + 1093.5 A_{n0} x_{n2} + 3736.125 A_{n1} x_{n0} + 273.375 A_{n1} x_{n1} - 4009.5 A_{n1} x_{n2} + 5467.5 A_{n2} x_{n0} + 364.5 A_{n2} x_{n1} - 5832.0 A_{n2} x_{n2}\\right)}{546.75 x_{n0}^{2} + 7654.5 x_{n0} x_{n1} - 8748.0 x_{n0} x_{n2} + 546.75 x_{n1}^{2} - 8748.0 x_{n1} x_{n2} + 8748.0 x_{n2}^{2}} & \\frac{E \\left(1093.5 A_{n0} x_{n0} + 364.5 A_{n0} x_{n1} - 1458.0 A_{n0} x_{n2} - 4009.5 A_{n1} x_{n0} - 364.5 A_{n1} x_{n1} + 4374.0 A_{n1} x_{n2} - 5832.0 A_{n2} x_{n0} + 5832.0 A_{n2} x_{n2}\\right)}{546.75 x_{n0}^{2} + 7654.5 x_{n0} x_{n1} - 8748.0 x_{n0} x_{n2} + 546.75 x_{n1}^{2} - 8748.0 x_{n1} x_{n2} + 8748.0 x_{n2}^{2}}\\\\\\frac{E \\left(364.5 A_{n0} x_{n0} + 4009.5 A_{n0} x_{n1} - 4374.0 A_{n0} x_{n2} - 364.5 A_{n1} x_{n0} - 1093.5 A_{n1} x_{n1} + 1458.0 A_{n1} x_{n2} + 5832.0 A_{n2} x_{n1} - 5832.0 A_{n2} x_{n2}\\right)}{546.75 x_{n0}^{2} + 7654.5 x_{n0} x_{n1} - 8748.0 x_{n0} x_{n2} + 546.75 x_{n1}^{2} - 8748.0 x_{n1} x_{n2} + 8748.0 x_{n2}^{2}} & \\frac{E \\left(1093.5 A_{n0} x_{n0} + 364.5 A_{n0} x_{n1} - 1458.0 A_{n0} x_{n2} - 4009.5 A_{n1} x_{n0} - 364.5 A_{n1} x_{n1} + 4374.0 A_{n1} x_{n2} - 5832.0 A_{n2} x_{n0} + 5832.0 A_{n2} x_{n2}\\right)}{546.75 x_{n0}^{2} + 7654.5 x_{n0} x_{n1} - 8748.0 x_{n0} x_{n2} + 546.75 x_{n1}^{2} - 8748.0 x_{n1} x_{n2} + 8748.0 x_{n2}^{2}} & \\frac{E \\left(- 1458.0 A_{n0} x_{n0} - 4374.0 A_{n0} x_{n1} + 5832.0 A_{n0} x_{n2} + 4374.0 A_{n1} x_{n0} + 1458.0 A_{n1} x_{n1} - 5832.0 A_{n1} x_{n2} + 5832.0 A_{n2} x_{n0} - 5832.0 A_{n2} x_{n1}\\right)}{546.75 x_{n0}^{2} + 7654.5 x_{n0} x_{n1} - 8748.0 x_{n0} x_{n2} + 546.75 x_{n1}^{2} - 8748.0 x_{n1} x_{n2} + 8748.0 x_{n2}^{2}}\\end{matrix}\\right]$"
      ],
      "text/plain": [
       "Matrix([\n",
       "[E*(-273.375*A_n0*x_n0 - 3736.125*A_n0*x_n1 + 4009.5*A_n0*x_n2 + 91.125*A_n1*x_n0 + 1002.375*A_n1*x_n1 - 1093.5*A_n1*x_n2 - 364.5*A_n2*x_n0 - 5467.5*A_n2*x_n1 + 5832.0*A_n2*x_n2)/(546.75*x_n0**2 + 7654.5*x_n0*x_n1 - 8748.0*x_n0*x_n2 + 546.75*x_n1**2 - 8748.0*x_n1*x_n2 + 8748.0*x_n2**2),                          E*(-91.125*A_n0*x_n0 - 273.375*A_n0*x_n1 + 364.5*A_n0*x_n2 + 273.375*A_n1*x_n0 + 91.125*A_n1*x_n1 - 364.5*A_n1*x_n2 + 364.5*A_n2*x_n0 - 364.5*A_n2*x_n1)/(546.75*x_n0**2 + 7654.5*x_n0*x_n1 - 8748.0*x_n0*x_n2 + 546.75*x_n1**2 - 8748.0*x_n1*x_n2 + 8748.0*x_n2**2),    E*(364.5*A_n0*x_n0 + 4009.5*A_n0*x_n1 - 4374.0*A_n0*x_n2 - 364.5*A_n1*x_n0 - 1093.5*A_n1*x_n1 + 1458.0*A_n1*x_n2 + 5832.0*A_n2*x_n1 - 5832.0*A_n2*x_n2)/(546.75*x_n0**2 + 7654.5*x_n0*x_n1 - 8748.0*x_n0*x_n2 + 546.75*x_n1**2 - 8748.0*x_n1*x_n2 + 8748.0*x_n2**2)],\n",
       "[                         E*(-91.125*A_n0*x_n0 - 273.375*A_n0*x_n1 + 364.5*A_n0*x_n2 + 273.375*A_n1*x_n0 + 91.125*A_n1*x_n1 - 364.5*A_n1*x_n2 + 364.5*A_n2*x_n0 - 364.5*A_n2*x_n1)/(546.75*x_n0**2 + 7654.5*x_n0*x_n1 - 8748.0*x_n0*x_n2 + 546.75*x_n1**2 - 8748.0*x_n1*x_n2 + 8748.0*x_n2**2), E*(-1002.375*A_n0*x_n0 - 91.125*A_n0*x_n1 + 1093.5*A_n0*x_n2 + 3736.125*A_n1*x_n0 + 273.375*A_n1*x_n1 - 4009.5*A_n1*x_n2 + 5467.5*A_n2*x_n0 + 364.5*A_n2*x_n1 - 5832.0*A_n2*x_n2)/(546.75*x_n0**2 + 7654.5*x_n0*x_n1 - 8748.0*x_n0*x_n2 + 546.75*x_n1**2 - 8748.0*x_n1*x_n2 + 8748.0*x_n2**2),    E*(1093.5*A_n0*x_n0 + 364.5*A_n0*x_n1 - 1458.0*A_n0*x_n2 - 4009.5*A_n1*x_n0 - 364.5*A_n1*x_n1 + 4374.0*A_n1*x_n2 - 5832.0*A_n2*x_n0 + 5832.0*A_n2*x_n2)/(546.75*x_n0**2 + 7654.5*x_n0*x_n1 - 8748.0*x_n0*x_n2 + 546.75*x_n1**2 - 8748.0*x_n1*x_n2 + 8748.0*x_n2**2)],\n",
       "[                          E*(364.5*A_n0*x_n0 + 4009.5*A_n0*x_n1 - 4374.0*A_n0*x_n2 - 364.5*A_n1*x_n0 - 1093.5*A_n1*x_n1 + 1458.0*A_n1*x_n2 + 5832.0*A_n2*x_n1 - 5832.0*A_n2*x_n2)/(546.75*x_n0**2 + 7654.5*x_n0*x_n1 - 8748.0*x_n0*x_n2 + 546.75*x_n1**2 - 8748.0*x_n1*x_n2 + 8748.0*x_n2**2),                           E*(1093.5*A_n0*x_n0 + 364.5*A_n0*x_n1 - 1458.0*A_n0*x_n2 - 4009.5*A_n1*x_n0 - 364.5*A_n1*x_n1 + 4374.0*A_n1*x_n2 - 5832.0*A_n2*x_n0 + 5832.0*A_n2*x_n2)/(546.75*x_n0**2 + 7654.5*x_n0*x_n1 - 8748.0*x_n0*x_n2 + 546.75*x_n1**2 - 8748.0*x_n1*x_n2 + 8748.0*x_n2**2), E*(-1458.0*A_n0*x_n0 - 4374.0*A_n0*x_n1 + 5832.0*A_n0*x_n2 + 4374.0*A_n1*x_n0 + 1458.0*A_n1*x_n1 - 5832.0*A_n1*x_n2 + 5832.0*A_n2*x_n0 - 5832.0*A_n2*x_n1)/(546.75*x_n0**2 + 7654.5*x_n0*x_n1 - 8748.0*x_n0*x_n2 + 546.75*x_n1**2 - 8748.0*x_n1*x_n2 + 8748.0*x_n2**2)]])"
      ]
     },
     "metadata": {},
     "output_type": "display_data"
    },
    {
     "data": {
      "text/latex": [
       "$\\displaystyle \\left[\\begin{matrix}221666666666.667 A_{n0} - 58333333333.3333 A_{n1} + 326666666666.667 A_{n2} & 11666666666.6667 A_{n0} + 11666666666.6667 A_{n1} + 46666666666.6667 A_{n2} & - 233333333333.333 A_{n0} + 46666666666.6667 A_{n1} - 373333333333.333 A_{n2}\\\\11666666666.6667 A_{n0} + 11666666666.6667 A_{n1} + 46666666666.6667 A_{n2} & - 58333333333.3333 A_{n0} + 221666666666.667 A_{n1} + 326666666666.667 A_{n2} & 46666666666.6667 A_{n0} - 233333333333.333 A_{n1} - 373333333333.333 A_{n2}\\\\- 233333333333.333 A_{n0} + 46666666666.6667 A_{n1} - 373333333333.333 A_{n2} & 46666666666.6667 A_{n0} - 233333333333.333 A_{n1} - 373333333333.333 A_{n2} & 186666666666.667 A_{n0} + 186666666666.667 A_{n1} + 746666666666.667 A_{n2}\\end{matrix}\\right]$"
      ],
      "text/plain": [
       "Matrix([\n",
       "[ 221666666666.667*A_n0 - 58333333333.3333*A_n1 + 326666666666.667*A_n2,  11666666666.6667*A_n0 + 11666666666.6667*A_n1 + 46666666666.6667*A_n2, -233333333333.333*A_n0 + 46666666666.6667*A_n1 - 373333333333.333*A_n2],\n",
       "[ 11666666666.6667*A_n0 + 11666666666.6667*A_n1 + 46666666666.6667*A_n2, -58333333333.3333*A_n0 + 221666666666.667*A_n1 + 326666666666.667*A_n2,  46666666666.6667*A_n0 - 233333333333.333*A_n1 - 373333333333.333*A_n2],\n",
       "[-233333333333.333*A_n0 + 46666666666.6667*A_n1 - 373333333333.333*A_n2,  46666666666.6667*A_n0 - 233333333333.333*A_n1 - 373333333333.333*A_n2,  186666666666.667*A_n0 + 186666666666.667*A_n1 + 746666666666.667*A_n2]])"
      ]
     },
     "metadata": {},
     "output_type": "display_data"
    }
   ],
   "source": [
    "GaussPoint = 1/sp.sqrt(3)\n",
    "\n",
    "term1int = sp.simplify(term1.subs({'xi':GaussPoint}) + term1.subs({'xi':-GaussPoint}))\n",
    "\n",
    "eq1 = sp.derive_by_array(term1int,w_n0)\n",
    "eq2 = sp.derive_by_array(term1int,w_n1)\n",
    "eq3 = sp.derive_by_array(term1int,w_n2)\n",
    "\n",
    "\"\"\" display(eq1)\n",
    "display(eq2)\n",
    "display(eq3) \"\"\"\n",
    "\n",
    "Poly1 = sp.Poly(eq1,q_n0,q_n1,q_n2)\n",
    "Poly2 = sp.Poly(eq2,q_n0,q_n1,q_n2)\n",
    "Poly3 = sp.Poly(eq3,q_n0,q_n1,q_n2)\n",
    "Coef1 = Poly1.coeffs()\n",
    "Coef2 = Poly2.coeffs()\n",
    "Coef3 = Poly3.coeffs()\n",
    "\n",
    "StiffnessMatrix = sp.simplify(sp.Matrix([[Coef1[0],Coef1[1],Coef1[2]],[Coef2[0],Coef2[1],Coef2[2]],[Coef3[0],Coef3[1],Coef3[2]]]))\n",
    "\n",
    "\n",
    "\n",
    "display(StiffnessMatrix)\n",
    "display(StiffnessMatrix.subs({x_n0:0,x_n1:1,x_n2:0.5,E:210E9}))\n",
    "#display(StiffnessMatrix[0])"
   ]
  },
  {
   "cell_type": "code",
   "execution_count": 26,
   "metadata": {},
   "outputs": [
    {
     "data": {
      "text/latex": [
       "$\\displaystyle \\left[\\begin{matrix}12250000.0 & 1750000.0 & -14000000.0\\\\1750000.0 & 12250000.0 & -14000000.0\\\\-14000000.0 & -14000000.0 & 28000000.0\\end{matrix}\\right]$"
      ],
      "text/plain": [
       "Matrix([\n",
       "[ 12250000.0,   1750000.0, -14000000.0],\n",
       "[  1750000.0,  12250000.0, -14000000.0],\n",
       "[-14000000.0, -14000000.0,  28000000.0]])"
      ]
     },
     "metadata": {},
     "output_type": "display_data"
    }
   ],
   "source": [
    "display(StiffnessMatrix.subs({x_n0:0,x_n1:1,x_n2:0.5,E:210E9,A_n0:2.5E-5,A_n1:2.5E-5,A_n2:2.5E-5}))"
   ]
  },
  {
   "cell_type": "code",
   "execution_count": 35,
   "metadata": {},
   "outputs": [
    {
     "name": "stdout",
     "output_type": "stream",
     "text": [
      "E*(-1458.0*A_n0*x_n0 - 4374.0*A_n0*x_n1 + 5832.0*A_n0*x_n2 + 4374.0*A_n1*x_n0 + 1458.0*A_n1*x_n1 - 5832.0*A_n1*x_n2 + 5832.0*A_n2*x_n0 - 5832.0*A_n2*x_n1)/(546.75*x_n0**2 + 7654.5*x_n0*x_n1 - 8748.0*x_n0*x_n2 + 546.75*x_n1**2 - 8748.0*x_n1*x_n2 + 8748.0*x_n2**2)\n"
     ]
    }
   ],
   "source": [
    "print(StiffnessMatrix[8])"
   ]
  },
  {
   "cell_type": "markdown",
   "metadata": {},
   "source": [
    "Real integration has way to many terms to be effiecient... Use gaussian quadrature instead\n"
   ]
  },
  {
   "cell_type": "code",
   "execution_count": 13,
   "metadata": {},
   "outputs": [
    {
     "data": {
      "text/latex": [
       "$\\displaystyle \\left[\\begin{matrix}\\frac{E \\left(0.5625 A_{n0} x_{n0}^{2} + 21.375 A_{n0} x_{n0} x_{n1} - 22.5 A_{n0} x_{n0} x_{n2} + 149.0625 A_{n0} x_{n1}^{2} - 319.5 A_{n0} x_{n1} x_{n2} + 171.0 A_{n0} x_{n2}^{2} + 0.5625 A_{n1} x_{n0}^{2} - 5.625 A_{n1} x_{n0} x_{n1} + 4.5 A_{n1} x_{n0} x_{n2} - 39.9375 A_{n1} x_{n1}^{2} + 85.5 A_{n1} x_{n1} x_{n2} - 45.0 A_{n1} x_{n2}^{2} + 2.25 A_{n2} x_{n0}^{2} + 31.5 A_{n2} x_{n0} x_{n1} - 36.0 A_{n2} x_{n0} x_{n2} + 218.25 A_{n2} x_{n1}^{2} - 468.0 A_{n2} x_{n1} x_{n2} + 252.0 A_{n2} x_{n2}^{2}\\right)}{1.6875 x_{n0}^{4} + 47.25 x_{n0}^{3} x_{n1} - 54.0 x_{n0}^{3} x_{n2} + 334.125 x_{n0}^{2} x_{n1}^{2} - 810.0 x_{n0}^{2} x_{n1} x_{n2} + 486.0 x_{n0}^{2} x_{n2}^{2} + 47.25 x_{n0} x_{n1}^{3} - 810.0 x_{n0} x_{n1}^{2} x_{n2} + 1620.0 x_{n0} x_{n1} x_{n2}^{2} - 864.0 x_{n0} x_{n2}^{3} + 1.6875 x_{n1}^{4} - 54.0 x_{n1}^{3} x_{n2} + 486.0 x_{n1}^{2} x_{n2}^{2} - 864.0 x_{n1} x_{n2}^{3} + 432.0 x_{n2}^{4}} & \\frac{E \\left(- 2.8125 A_{n0} x_{n0}^{2} + 1.125 A_{n0} x_{n0} x_{n1} + 4.5 A_{n0} x_{n0} x_{n2} + 10.6875 A_{n0} x_{n1}^{2} - 22.5 A_{n0} x_{n1} x_{n2} + 9.0 A_{n0} x_{n2}^{2} + 10.6875 A_{n1} x_{n0}^{2} + 1.125 A_{n1} x_{n0} x_{n1} - 22.5 A_{n1} x_{n0} x_{n2} - 2.8125 A_{n1} x_{n1}^{2} + 4.5 A_{n1} x_{n1} x_{n2} + 9.0 A_{n1} x_{n2}^{2} + 15.75 A_{n2} x_{n0}^{2} + 4.5 A_{n2} x_{n0} x_{n1} - 36.0 A_{n2} x_{n0} x_{n2} + 15.75 A_{n2} x_{n1}^{2} - 36.0 A_{n2} x_{n1} x_{n2} + 36.0 A_{n2} x_{n2}^{2}\\right)}{1.6875 x_{n0}^{4} + 47.25 x_{n0}^{3} x_{n1} - 54.0 x_{n0}^{3} x_{n2} + 334.125 x_{n0}^{2} x_{n1}^{2} - 810.0 x_{n0}^{2} x_{n1} x_{n2} + 486.0 x_{n0}^{2} x_{n2}^{2} + 47.25 x_{n0} x_{n1}^{3} - 810.0 x_{n0} x_{n1}^{2} x_{n2} + 1620.0 x_{n0} x_{n1} x_{n2}^{2} - 864.0 x_{n0} x_{n2}^{3} + 1.6875 x_{n1}^{4} - 54.0 x_{n1}^{3} x_{n2} + 486.0 x_{n1}^{2} x_{n2}^{2} - 864.0 x_{n1} x_{n2}^{3} + 432.0 x_{n2}^{4}} & \\frac{E \\left(2.25 A_{n0} x_{n0}^{2} - 22.5 A_{n0} x_{n0} x_{n1} + 18.0 A_{n0} x_{n0} x_{n2} - 159.75 A_{n0} x_{n1}^{2} + 342.0 A_{n0} x_{n1} x_{n2} - 180.0 A_{n0} x_{n2}^{2} - 11.25 A_{n1} x_{n0}^{2} + 4.5 A_{n1} x_{n0} x_{n1} + 18.0 A_{n1} x_{n0} x_{n2} + 42.75 A_{n1} x_{n1}^{2} - 90.0 A_{n1} x_{n1} x_{n2} + 36.0 A_{n1} x_{n2}^{2} - 18.0 A_{n2} x_{n0}^{2} - 36.0 A_{n2} x_{n0} x_{n1} + 72.0 A_{n2} x_{n0} x_{n2} - 234.0 A_{n2} x_{n1}^{2} + 504.0 A_{n2} x_{n1} x_{n2} - 288.0 A_{n2} x_{n2}^{2}\\right)}{1.6875 x_{n0}^{4} + 47.25 x_{n0}^{3} x_{n1} - 54.0 x_{n0}^{3} x_{n2} + 334.125 x_{n0}^{2} x_{n1}^{2} - 810.0 x_{n0}^{2} x_{n1} x_{n2} + 486.0 x_{n0}^{2} x_{n2}^{2} + 47.25 x_{n0} x_{n1}^{3} - 810.0 x_{n0} x_{n1}^{2} x_{n2} + 1620.0 x_{n0} x_{n1} x_{n2}^{2} - 864.0 x_{n0} x_{n2}^{3} + 1.6875 x_{n1}^{4} - 54.0 x_{n1}^{3} x_{n2} + 486.0 x_{n1}^{2} x_{n2}^{2} - 864.0 x_{n1} x_{n2}^{3} + 432.0 x_{n2}^{4}}\\\\\\frac{E \\left(- 2.8125 A_{n0} x_{n0}^{2} + 1.125 A_{n0} x_{n0} x_{n1} + 4.5 A_{n0} x_{n0} x_{n2} + 10.6875 A_{n0} x_{n1}^{2} - 22.5 A_{n0} x_{n1} x_{n2} + 9.0 A_{n0} x_{n2}^{2} + 10.6875 A_{n1} x_{n0}^{2} + 1.125 A_{n1} x_{n0} x_{n1} - 22.5 A_{n1} x_{n0} x_{n2} - 2.8125 A_{n1} x_{n1}^{2} + 4.5 A_{n1} x_{n1} x_{n2} + 9.0 A_{n1} x_{n2}^{2} + 15.75 A_{n2} x_{n0}^{2} + 4.5 A_{n2} x_{n0} x_{n1} - 36.0 A_{n2} x_{n0} x_{n2} + 15.75 A_{n2} x_{n1}^{2} - 36.0 A_{n2} x_{n1} x_{n2} + 36.0 A_{n2} x_{n2}^{2}\\right)}{1.6875 x_{n0}^{4} + 47.25 x_{n0}^{3} x_{n1} - 54.0 x_{n0}^{3} x_{n2} + 334.125 x_{n0}^{2} x_{n1}^{2} - 810.0 x_{n0}^{2} x_{n1} x_{n2} + 486.0 x_{n0}^{2} x_{n2}^{2} + 47.25 x_{n0} x_{n1}^{3} - 810.0 x_{n0} x_{n1}^{2} x_{n2} + 1620.0 x_{n0} x_{n1} x_{n2}^{2} - 864.0 x_{n0} x_{n2}^{3} + 1.6875 x_{n1}^{4} - 54.0 x_{n1}^{3} x_{n2} + 486.0 x_{n1}^{2} x_{n2}^{2} - 864.0 x_{n1} x_{n2}^{3} + 432.0 x_{n2}^{4}} & \\frac{E \\left(- 39.9375 A_{n0} x_{n0}^{2} - 5.625 A_{n0} x_{n0} x_{n1} + 85.5 A_{n0} x_{n0} x_{n2} + 0.5625 A_{n0} x_{n1}^{2} + 4.5 A_{n0} x_{n1} x_{n2} - 45.0 A_{n0} x_{n2}^{2} + 149.0625 A_{n1} x_{n0}^{2} + 21.375 A_{n1} x_{n0} x_{n1} - 319.5 A_{n1} x_{n0} x_{n2} + 0.5625 A_{n1} x_{n1}^{2} - 22.5 A_{n1} x_{n1} x_{n2} + 171.0 A_{n1} x_{n2}^{2} + 218.25 A_{n2} x_{n0}^{2} + 31.5 A_{n2} x_{n0} x_{n1} - 468.0 A_{n2} x_{n0} x_{n2} + 2.25 A_{n2} x_{n1}^{2} - 36.0 A_{n2} x_{n1} x_{n2} + 252.0 A_{n2} x_{n2}^{2}\\right)}{1.6875 x_{n0}^{4} + 47.25 x_{n0}^{3} x_{n1} - 54.0 x_{n0}^{3} x_{n2} + 334.125 x_{n0}^{2} x_{n1}^{2} - 810.0 x_{n0}^{2} x_{n1} x_{n2} + 486.0 x_{n0}^{2} x_{n2}^{2} + 47.25 x_{n0} x_{n1}^{3} - 810.0 x_{n0} x_{n1}^{2} x_{n2} + 1620.0 x_{n0} x_{n1} x_{n2}^{2} - 864.0 x_{n0} x_{n2}^{3} + 1.6875 x_{n1}^{4} - 54.0 x_{n1}^{3} x_{n2} + 486.0 x_{n1}^{2} x_{n2}^{2} - 864.0 x_{n1} x_{n2}^{3} + 432.0 x_{n2}^{4}} & \\frac{E \\left(42.75 A_{n0} x_{n0}^{2} + 4.5 A_{n0} x_{n0} x_{n1} - 90.0 A_{n0} x_{n0} x_{n2} - 11.25 A_{n0} x_{n1}^{2} + 18.0 A_{n0} x_{n1} x_{n2} + 36.0 A_{n0} x_{n2}^{2} - 159.75 A_{n1} x_{n0}^{2} - 22.5 A_{n1} x_{n0} x_{n1} + 342.0 A_{n1} x_{n0} x_{n2} + 2.25 A_{n1} x_{n1}^{2} + 18.0 A_{n1} x_{n1} x_{n2} - 180.0 A_{n1} x_{n2}^{2} - 234.0 A_{n2} x_{n0}^{2} - 36.0 A_{n2} x_{n0} x_{n1} + 504.0 A_{n2} x_{n0} x_{n2} - 18.0 A_{n2} x_{n1}^{2} + 72.0 A_{n2} x_{n1} x_{n2} - 288.0 A_{n2} x_{n2}^{2}\\right)}{1.6875 x_{n0}^{4} + 47.25 x_{n0}^{3} x_{n1} - 54.0 x_{n0}^{3} x_{n2} + 334.125 x_{n0}^{2} x_{n1}^{2} - 810.0 x_{n0}^{2} x_{n1} x_{n2} + 486.0 x_{n0}^{2} x_{n2}^{2} + 47.25 x_{n0} x_{n1}^{3} - 810.0 x_{n0} x_{n1}^{2} x_{n2} + 1620.0 x_{n0} x_{n1} x_{n2}^{2} - 864.0 x_{n0} x_{n2}^{3} + 1.6875 x_{n1}^{4} - 54.0 x_{n1}^{3} x_{n2} + 486.0 x_{n1}^{2} x_{n2}^{2} - 864.0 x_{n1} x_{n2}^{3} + 432.0 x_{n2}^{4}}\\\\\\frac{E \\left(6.75 A_{n0} x_{n0}^{2} - 67.5 A_{n0} x_{n0} x_{n1} + 54.0 A_{n0} x_{n0} x_{n2} - 479.25 A_{n0} x_{n1}^{2} + 1026.0 A_{n0} x_{n1} x_{n2} - 540.0 A_{n0} x_{n2}^{2} - 33.75 A_{n1} x_{n0}^{2} + 13.5 A_{n1} x_{n0} x_{n1} + 54.0 A_{n1} x_{n0} x_{n2} + 128.25 A_{n1} x_{n1}^{2} - 270.0 A_{n1} x_{n1} x_{n2} + 108.0 A_{n1} x_{n2}^{2} - 54.0 A_{n2} x_{n0}^{2} - 108.0 A_{n2} x_{n0} x_{n1} + 216.0 A_{n2} x_{n0} x_{n2} - 702.0 A_{n2} x_{n1}^{2} + 1512.0 A_{n2} x_{n1} x_{n2} - 864.0 A_{n2} x_{n2}^{2}\\right)}{5.0625 x_{n0}^{4} + 141.75 x_{n0}^{3} x_{n1} - 162.0 x_{n0}^{3} x_{n2} + 1002.375 x_{n0}^{2} x_{n1}^{2} - 2430.0 x_{n0}^{2} x_{n1} x_{n2} + 1458.0 x_{n0}^{2} x_{n2}^{2} + 141.75 x_{n0} x_{n1}^{3} - 2430.0 x_{n0} x_{n1}^{2} x_{n2} + 4860.0 x_{n0} x_{n1} x_{n2}^{2} - 2592.0 x_{n0} x_{n2}^{3} + 5.0625 x_{n1}^{4} - 162.0 x_{n1}^{3} x_{n2} + 1458.0 x_{n1}^{2} x_{n2}^{2} - 2592.0 x_{n1} x_{n2}^{3} + 1296.0 x_{n2}^{4}} & \\frac{E \\left(128.25 A_{n0} x_{n0}^{2} + 13.5 A_{n0} x_{n0} x_{n1} - 270.0 A_{n0} x_{n0} x_{n2} - 33.75 A_{n0} x_{n1}^{2} + 54.0 A_{n0} x_{n1} x_{n2} + 108.0 A_{n0} x_{n2}^{2} - 479.25 A_{n1} x_{n0}^{2} - 67.5 A_{n1} x_{n0} x_{n1} + 1026.0 A_{n1} x_{n0} x_{n2} + 6.75 A_{n1} x_{n1}^{2} + 54.0 A_{n1} x_{n1} x_{n2} - 540.0 A_{n1} x_{n2}^{2} - 702.0 A_{n2} x_{n0}^{2} - 108.0 A_{n2} x_{n0} x_{n1} + 1512.0 A_{n2} x_{n0} x_{n2} - 54.0 A_{n2} x_{n1}^{2} + 216.0 A_{n2} x_{n1} x_{n2} - 864.0 A_{n2} x_{n2}^{2}\\right)}{5.0625 x_{n0}^{4} + 141.75 x_{n0}^{3} x_{n1} - 162.0 x_{n0}^{3} x_{n2} + 1002.375 x_{n0}^{2} x_{n1}^{2} - 2430.0 x_{n0}^{2} x_{n1} x_{n2} + 1458.0 x_{n0}^{2} x_{n2}^{2} + 141.75 x_{n0} x_{n1}^{3} - 2430.0 x_{n0} x_{n1}^{2} x_{n2} + 4860.0 x_{n0} x_{n1} x_{n2}^{2} - 2592.0 x_{n0} x_{n2}^{3} + 5.0625 x_{n1}^{4} - 162.0 x_{n1}^{3} x_{n2} + 1458.0 x_{n1}^{2} x_{n2}^{2} - 2592.0 x_{n1} x_{n2}^{3} + 1296.0 x_{n2}^{4}} & \\frac{E \\left(- 135.0 A_{n0} x_{n0}^{2} + 54.0 A_{n0} x_{n0} x_{n1} + 216.0 A_{n0} x_{n0} x_{n2} + 513.0 A_{n0} x_{n1}^{2} - 1080.0 A_{n0} x_{n1} x_{n2} + 432.0 A_{n0} x_{n2}^{2} + 513.0 A_{n1} x_{n0}^{2} + 54.0 A_{n1} x_{n0} x_{n1} - 1080.0 A_{n1} x_{n0} x_{n2} - 135.0 A_{n1} x_{n1}^{2} + 216.0 A_{n1} x_{n1} x_{n2} + 432.0 A_{n1} x_{n2}^{2} + 756.0 A_{n2} x_{n0}^{2} + 216.0 A_{n2} x_{n0} x_{n1} - 1728.0 A_{n2} x_{n0} x_{n2} + 756.0 A_{n2} x_{n1}^{2} - 1728.0 A_{n2} x_{n1} x_{n2} + 1728.0 A_{n2} x_{n2}^{2}\\right)}{5.0625 x_{n0}^{4} + 141.75 x_{n0}^{3} x_{n1} - 162.0 x_{n0}^{3} x_{n2} + 1002.375 x_{n0}^{2} x_{n1}^{2} - 2430.0 x_{n0}^{2} x_{n1} x_{n2} + 1458.0 x_{n0}^{2} x_{n2}^{2} + 141.75 x_{n0} x_{n1}^{3} - 2430.0 x_{n0} x_{n1}^{2} x_{n2} + 4860.0 x_{n0} x_{n1} x_{n2}^{2} - 2592.0 x_{n0} x_{n2}^{3} + 5.0625 x_{n1}^{4} - 162.0 x_{n1}^{3} x_{n2} + 1458.0 x_{n1}^{2} x_{n2}^{2} - 2592.0 x_{n1} x_{n2}^{3} + 1296.0 x_{n2}^{4}}\\end{matrix}\\right]$"
      ],
      "text/plain": [
       "Matrix([\n",
       "[         E*(0.5625*A_n0*x_n0**2 + 21.375*A_n0*x_n0*x_n1 - 22.5*A_n0*x_n0*x_n2 + 149.0625*A_n0*x_n1**2 - 319.5*A_n0*x_n1*x_n2 + 171.0*A_n0*x_n2**2 + 0.5625*A_n1*x_n0**2 - 5.625*A_n1*x_n0*x_n1 + 4.5*A_n1*x_n0*x_n2 - 39.9375*A_n1*x_n1**2 + 85.5*A_n1*x_n1*x_n2 - 45.0*A_n1*x_n2**2 + 2.25*A_n2*x_n0**2 + 31.5*A_n2*x_n0*x_n1 - 36.0*A_n2*x_n0*x_n2 + 218.25*A_n2*x_n1**2 - 468.0*A_n2*x_n1*x_n2 + 252.0*A_n2*x_n2**2)/(1.6875*x_n0**4 + 47.25*x_n0**3*x_n1 - 54.0*x_n0**3*x_n2 + 334.125*x_n0**2*x_n1**2 - 810.0*x_n0**2*x_n1*x_n2 + 486.0*x_n0**2*x_n2**2 + 47.25*x_n0*x_n1**3 - 810.0*x_n0*x_n1**2*x_n2 + 1620.0*x_n0*x_n1*x_n2**2 - 864.0*x_n0*x_n2**3 + 1.6875*x_n1**4 - 54.0*x_n1**3*x_n2 + 486.0*x_n1**2*x_n2**2 - 864.0*x_n1*x_n2**3 + 432.0*x_n2**4),                   E*(-2.8125*A_n0*x_n0**2 + 1.125*A_n0*x_n0*x_n1 + 4.5*A_n0*x_n0*x_n2 + 10.6875*A_n0*x_n1**2 - 22.5*A_n0*x_n1*x_n2 + 9.0*A_n0*x_n2**2 + 10.6875*A_n1*x_n0**2 + 1.125*A_n1*x_n0*x_n1 - 22.5*A_n1*x_n0*x_n2 - 2.8125*A_n1*x_n1**2 + 4.5*A_n1*x_n1*x_n2 + 9.0*A_n1*x_n2**2 + 15.75*A_n2*x_n0**2 + 4.5*A_n2*x_n0*x_n1 - 36.0*A_n2*x_n0*x_n2 + 15.75*A_n2*x_n1**2 - 36.0*A_n2*x_n1*x_n2 + 36.0*A_n2*x_n2**2)/(1.6875*x_n0**4 + 47.25*x_n0**3*x_n1 - 54.0*x_n0**3*x_n2 + 334.125*x_n0**2*x_n1**2 - 810.0*x_n0**2*x_n1*x_n2 + 486.0*x_n0**2*x_n2**2 + 47.25*x_n0*x_n1**3 - 810.0*x_n0*x_n1**2*x_n2 + 1620.0*x_n0*x_n1*x_n2**2 - 864.0*x_n0*x_n2**3 + 1.6875*x_n1**4 - 54.0*x_n1**3*x_n2 + 486.0*x_n1**2*x_n2**2 - 864.0*x_n1*x_n2**3 + 432.0*x_n2**4),                           E*(2.25*A_n0*x_n0**2 - 22.5*A_n0*x_n0*x_n1 + 18.0*A_n0*x_n0*x_n2 - 159.75*A_n0*x_n1**2 + 342.0*A_n0*x_n1*x_n2 - 180.0*A_n0*x_n2**2 - 11.25*A_n1*x_n0**2 + 4.5*A_n1*x_n0*x_n1 + 18.0*A_n1*x_n0*x_n2 + 42.75*A_n1*x_n1**2 - 90.0*A_n1*x_n1*x_n2 + 36.0*A_n1*x_n2**2 - 18.0*A_n2*x_n0**2 - 36.0*A_n2*x_n0*x_n1 + 72.0*A_n2*x_n0*x_n2 - 234.0*A_n2*x_n1**2 + 504.0*A_n2*x_n1*x_n2 - 288.0*A_n2*x_n2**2)/(1.6875*x_n0**4 + 47.25*x_n0**3*x_n1 - 54.0*x_n0**3*x_n2 + 334.125*x_n0**2*x_n1**2 - 810.0*x_n0**2*x_n1*x_n2 + 486.0*x_n0**2*x_n2**2 + 47.25*x_n0*x_n1**3 - 810.0*x_n0*x_n1**2*x_n2 + 1620.0*x_n0*x_n1*x_n2**2 - 864.0*x_n0*x_n2**3 + 1.6875*x_n1**4 - 54.0*x_n1**3*x_n2 + 486.0*x_n1**2*x_n2**2 - 864.0*x_n1*x_n2**3 + 432.0*x_n2**4)],\n",
       "[                  E*(-2.8125*A_n0*x_n0**2 + 1.125*A_n0*x_n0*x_n1 + 4.5*A_n0*x_n0*x_n2 + 10.6875*A_n0*x_n1**2 - 22.5*A_n0*x_n1*x_n2 + 9.0*A_n0*x_n2**2 + 10.6875*A_n1*x_n0**2 + 1.125*A_n1*x_n0*x_n1 - 22.5*A_n1*x_n0*x_n2 - 2.8125*A_n1*x_n1**2 + 4.5*A_n1*x_n1*x_n2 + 9.0*A_n1*x_n2**2 + 15.75*A_n2*x_n0**2 + 4.5*A_n2*x_n0*x_n1 - 36.0*A_n2*x_n0*x_n2 + 15.75*A_n2*x_n1**2 - 36.0*A_n2*x_n1*x_n2 + 36.0*A_n2*x_n2**2)/(1.6875*x_n0**4 + 47.25*x_n0**3*x_n1 - 54.0*x_n0**3*x_n2 + 334.125*x_n0**2*x_n1**2 - 810.0*x_n0**2*x_n1*x_n2 + 486.0*x_n0**2*x_n2**2 + 47.25*x_n0*x_n1**3 - 810.0*x_n0*x_n1**2*x_n2 + 1620.0*x_n0*x_n1*x_n2**2 - 864.0*x_n0*x_n2**3 + 1.6875*x_n1**4 - 54.0*x_n1**3*x_n2 + 486.0*x_n1**2*x_n2**2 - 864.0*x_n1*x_n2**3 + 432.0*x_n2**4),         E*(-39.9375*A_n0*x_n0**2 - 5.625*A_n0*x_n0*x_n1 + 85.5*A_n0*x_n0*x_n2 + 0.5625*A_n0*x_n1**2 + 4.5*A_n0*x_n1*x_n2 - 45.0*A_n0*x_n2**2 + 149.0625*A_n1*x_n0**2 + 21.375*A_n1*x_n0*x_n1 - 319.5*A_n1*x_n0*x_n2 + 0.5625*A_n1*x_n1**2 - 22.5*A_n1*x_n1*x_n2 + 171.0*A_n1*x_n2**2 + 218.25*A_n2*x_n0**2 + 31.5*A_n2*x_n0*x_n1 - 468.0*A_n2*x_n0*x_n2 + 2.25*A_n2*x_n1**2 - 36.0*A_n2*x_n1*x_n2 + 252.0*A_n2*x_n2**2)/(1.6875*x_n0**4 + 47.25*x_n0**3*x_n1 - 54.0*x_n0**3*x_n2 + 334.125*x_n0**2*x_n1**2 - 810.0*x_n0**2*x_n1*x_n2 + 486.0*x_n0**2*x_n2**2 + 47.25*x_n0*x_n1**3 - 810.0*x_n0*x_n1**2*x_n2 + 1620.0*x_n0*x_n1*x_n2**2 - 864.0*x_n0*x_n2**3 + 1.6875*x_n1**4 - 54.0*x_n1**3*x_n2 + 486.0*x_n1**2*x_n2**2 - 864.0*x_n1*x_n2**3 + 432.0*x_n2**4),                           E*(42.75*A_n0*x_n0**2 + 4.5*A_n0*x_n0*x_n1 - 90.0*A_n0*x_n0*x_n2 - 11.25*A_n0*x_n1**2 + 18.0*A_n0*x_n1*x_n2 + 36.0*A_n0*x_n2**2 - 159.75*A_n1*x_n0**2 - 22.5*A_n1*x_n0*x_n1 + 342.0*A_n1*x_n0*x_n2 + 2.25*A_n1*x_n1**2 + 18.0*A_n1*x_n1*x_n2 - 180.0*A_n1*x_n2**2 - 234.0*A_n2*x_n0**2 - 36.0*A_n2*x_n0*x_n1 + 504.0*A_n2*x_n0*x_n2 - 18.0*A_n2*x_n1**2 + 72.0*A_n2*x_n1*x_n2 - 288.0*A_n2*x_n2**2)/(1.6875*x_n0**4 + 47.25*x_n0**3*x_n1 - 54.0*x_n0**3*x_n2 + 334.125*x_n0**2*x_n1**2 - 810.0*x_n0**2*x_n1*x_n2 + 486.0*x_n0**2*x_n2**2 + 47.25*x_n0*x_n1**3 - 810.0*x_n0*x_n1**2*x_n2 + 1620.0*x_n0*x_n1*x_n2**2 - 864.0*x_n0*x_n2**3 + 1.6875*x_n1**4 - 54.0*x_n1**3*x_n2 + 486.0*x_n1**2*x_n2**2 - 864.0*x_n1*x_n2**3 + 432.0*x_n2**4)],\n",
       "[E*(6.75*A_n0*x_n0**2 - 67.5*A_n0*x_n0*x_n1 + 54.0*A_n0*x_n0*x_n2 - 479.25*A_n0*x_n1**2 + 1026.0*A_n0*x_n1*x_n2 - 540.0*A_n0*x_n2**2 - 33.75*A_n1*x_n0**2 + 13.5*A_n1*x_n0*x_n1 + 54.0*A_n1*x_n0*x_n2 + 128.25*A_n1*x_n1**2 - 270.0*A_n1*x_n1*x_n2 + 108.0*A_n1*x_n2**2 - 54.0*A_n2*x_n0**2 - 108.0*A_n2*x_n0*x_n1 + 216.0*A_n2*x_n0*x_n2 - 702.0*A_n2*x_n1**2 + 1512.0*A_n2*x_n1*x_n2 - 864.0*A_n2*x_n2**2)/(5.0625*x_n0**4 + 141.75*x_n0**3*x_n1 - 162.0*x_n0**3*x_n2 + 1002.375*x_n0**2*x_n1**2 - 2430.0*x_n0**2*x_n1*x_n2 + 1458.0*x_n0**2*x_n2**2 + 141.75*x_n0*x_n1**3 - 2430.0*x_n0*x_n1**2*x_n2 + 4860.0*x_n0*x_n1*x_n2**2 - 2592.0*x_n0*x_n2**3 + 5.0625*x_n1**4 - 162.0*x_n1**3*x_n2 + 1458.0*x_n1**2*x_n2**2 - 2592.0*x_n1*x_n2**3 + 1296.0*x_n2**4), E*(128.25*A_n0*x_n0**2 + 13.5*A_n0*x_n0*x_n1 - 270.0*A_n0*x_n0*x_n2 - 33.75*A_n0*x_n1**2 + 54.0*A_n0*x_n1*x_n2 + 108.0*A_n0*x_n2**2 - 479.25*A_n1*x_n0**2 - 67.5*A_n1*x_n0*x_n1 + 1026.0*A_n1*x_n0*x_n2 + 6.75*A_n1*x_n1**2 + 54.0*A_n1*x_n1*x_n2 - 540.0*A_n1*x_n2**2 - 702.0*A_n2*x_n0**2 - 108.0*A_n2*x_n0*x_n1 + 1512.0*A_n2*x_n0*x_n2 - 54.0*A_n2*x_n1**2 + 216.0*A_n2*x_n1*x_n2 - 864.0*A_n2*x_n2**2)/(5.0625*x_n0**4 + 141.75*x_n0**3*x_n1 - 162.0*x_n0**3*x_n2 + 1002.375*x_n0**2*x_n1**2 - 2430.0*x_n0**2*x_n1*x_n2 + 1458.0*x_n0**2*x_n2**2 + 141.75*x_n0*x_n1**3 - 2430.0*x_n0*x_n1**2*x_n2 + 4860.0*x_n0*x_n1*x_n2**2 - 2592.0*x_n0*x_n2**3 + 5.0625*x_n1**4 - 162.0*x_n1**3*x_n2 + 1458.0*x_n1**2*x_n2**2 - 2592.0*x_n1*x_n2**3 + 1296.0*x_n2**4), E*(-135.0*A_n0*x_n0**2 + 54.0*A_n0*x_n0*x_n1 + 216.0*A_n0*x_n0*x_n2 + 513.0*A_n0*x_n1**2 - 1080.0*A_n0*x_n1*x_n2 + 432.0*A_n0*x_n2**2 + 513.0*A_n1*x_n0**2 + 54.0*A_n1*x_n0*x_n1 - 1080.0*A_n1*x_n0*x_n2 - 135.0*A_n1*x_n1**2 + 216.0*A_n1*x_n1*x_n2 + 432.0*A_n1*x_n2**2 + 756.0*A_n2*x_n0**2 + 216.0*A_n2*x_n0*x_n1 - 1728.0*A_n2*x_n0*x_n2 + 756.0*A_n2*x_n1**2 - 1728.0*A_n2*x_n1*x_n2 + 1728.0*A_n2*x_n2**2)/(5.0625*x_n0**4 + 141.75*x_n0**3*x_n1 - 162.0*x_n0**3*x_n2 + 1002.375*x_n0**2*x_n1**2 - 2430.0*x_n0**2*x_n1*x_n2 + 1458.0*x_n0**2*x_n2**2 + 141.75*x_n0*x_n1**3 - 2430.0*x_n0*x_n1**2*x_n2 + 4860.0*x_n0*x_n1*x_n2**2 - 2592.0*x_n0*x_n2**3 + 5.0625*x_n1**4 - 162.0*x_n1**3*x_n2 + 1458.0*x_n1**2*x_n2**2 - 2592.0*x_n1*x_n2**3 + 1296.0*x_n2**4)]])"
      ]
     },
     "metadata": {},
     "output_type": "display_data"
    },
    {
     "data": {
      "text/latex": [
       "$\\displaystyle \\left[\\begin{matrix}443333333333.333 A_{n0} - 116666666666.667 A_{n1} + 653333333333.333 A_{n2} & 23333333333.3333 A_{n0} + 23333333333.3333 A_{n1} + 93333333333.3333 A_{n2} & - 466666666666.667 A_{n0} + 93333333333.3333 A_{n1} - 746666666666.667 A_{n2}\\\\23333333333.3333 A_{n0} + 23333333333.3333 A_{n1} + 93333333333.3333 A_{n2} & - 116666666666.667 A_{n0} + 443333333333.333 A_{n1} + 653333333333.333 A_{n2} & 93333333333.3333 A_{n0} - 466666666666.667 A_{n1} - 746666666666.667 A_{n2}\\\\- 466666666666.667 A_{n0} + 93333333333.3333 A_{n1} - 746666666666.667 A_{n2} & 93333333333.3333 A_{n0} - 466666666666.667 A_{n1} - 746666666666.667 A_{n2} & 373333333333.333 A_{n0} + 373333333333.333 A_{n1} + 1493333333333.33 A_{n2}\\end{matrix}\\right]$"
      ],
      "text/plain": [
       "Matrix([\n",
       "[ 443333333333.333*A_n0 - 116666666666.667*A_n1 + 653333333333.333*A_n2,  23333333333.3333*A_n0 + 23333333333.3333*A_n1 + 93333333333.3333*A_n2, -466666666666.667*A_n0 + 93333333333.3333*A_n1 - 746666666666.667*A_n2],\n",
       "[ 23333333333.3333*A_n0 + 23333333333.3333*A_n1 + 93333333333.3333*A_n2, -116666666666.667*A_n0 + 443333333333.333*A_n1 + 653333333333.333*A_n2,  93333333333.3333*A_n0 - 466666666666.667*A_n1 - 746666666666.667*A_n2],\n",
       "[-466666666666.667*A_n0 + 93333333333.3333*A_n1 - 746666666666.667*A_n2,  93333333333.3333*A_n0 - 466666666666.667*A_n1 - 746666666666.667*A_n2,  373333333333.333*A_n0 + 373333333333.333*A_n1 + 1493333333333.33*A_n2]])"
      ]
     },
     "metadata": {},
     "output_type": "display_data"
    }
   ],
   "source": [
    "k1 = sp.derive_by_array(term1,w_n0)\n",
    "k2 = sp.derive_by_array(term1,w_n1)\n",
    "k3 = sp.derive_by_array(term1,w_n2)\n",
    "\n",
    "\n",
    "\n",
    "\n",
    "GaussPoint = 1/sp.sqrt(3)\n",
    "\n",
    "eq1 = sp.simplify(k1.subs({'xi':GaussPoint}) + k1.subs({'xi':-GaussPoint}))\n",
    "eq2 = sp.simplify(k2.subs({'xi':GaussPoint}) + k2.subs({'xi':-GaussPoint}))\n",
    "eq3 = sp.simplify(k3.subs({'xi':GaussPoint}) + k3.subs({'xi':-GaussPoint}))\n",
    "\n",
    "\"\"\" display(eq1)\n",
    "display(eq2)\n",
    "display(eq3) \"\"\"\n",
    "\n",
    "Poly1 = sp.Poly(eq1,q_n0,q_n1,q_n2)\n",
    "Poly2 = sp.Poly(eq2,q_n0,q_n1,q_n2)\n",
    "Poly3 = sp.Poly(eq3,q_n0,q_n1,q_n2)\n",
    "Coef1 = Poly1.coeffs()\n",
    "Coef2 = Poly2.coeffs()\n",
    "Coef3 = Poly3.coeffs()\n",
    "\n",
    "StiffnessMatrix = sp.simplify(sp.Matrix([[Coef1[0],Coef1[1],Coef1[2]],[Coef2[0],Coef2[1],Coef2[2]],[Coef3[0],Coef3[1],Coef3[2]]]))\n",
    "\n",
    "\n",
    "\n",
    "display(StiffnessMatrix)\n",
    "display(StiffnessMatrix.subs({x_n0:0,x_n1:1,x_n2:0.5,E:210E9}))\n",
    "#display(StiffnessMatrix[0])\n"
   ]
  },
  {
   "cell_type": "code",
   "execution_count": 28,
   "metadata": {},
   "outputs": [
    {
     "name": "stdout",
     "output_type": "stream",
     "text": [
      "E*(-135.0*A_n0*x_n0**2 + 54.0*A_n0*x_n0*x_n1 + 216.0*A_n0*x_n0*x_n2 + 513.0*A_n0*x_n1**2 - 1080.0*A_n0*x_n1*x_n2 + 432.0*A_n0*x_n2**2 + 513.0*A_n1*x_n0**2 + 54.0*A_n1*x_n0*x_n1 - 1080.0*A_n1*x_n0*x_n2 - 135.0*A_n1*x_n1**2 + 216.0*A_n1*x_n1*x_n2 + 432.0*A_n1*x_n2**2 + 756.0*A_n2*x_n0**2 + 216.0*A_n2*x_n0*x_n1 - 1728.0*A_n2*x_n0*x_n2 + 756.0*A_n2*x_n1**2 - 1728.0*A_n2*x_n1*x_n2 + 1728.0*A_n2*x_n2**2)/(5.0625*x_n0**4 + 141.75*x_n0**3*x_n1 - 162.0*x_n0**3*x_n2 + 1002.375*x_n0**2*x_n1**2 - 2430.0*x_n0**2*x_n1*x_n2 + 1458.0*x_n0**2*x_n2**2 + 141.75*x_n0*x_n1**3 - 2430.0*x_n0*x_n1**2*x_n2 + 4860.0*x_n0*x_n1*x_n2**2 - 2592.0*x_n0*x_n2**3 + 5.0625*x_n1**4 - 162.0*x_n1**3*x_n2 + 1458.0*x_n1**2*x_n2**2 - 2592.0*x_n1*x_n2**3 + 1296.0*x_n2**4)\n"
     ]
    }
   ],
   "source": [
    "\"\"\" display(StiffnessMatrix[6])\n",
    "display(StiffnessMatrix[7])\n",
    "display(StiffnessMatrix[8]) \"\"\"\n",
    "print(StiffnessMatrix[8])"
   ]
  },
  {
   "cell_type": "code",
   "execution_count": 26,
   "metadata": {},
   "outputs": [
    {
     "data": {
      "text/latex": [
       "$\\displaystyle \\left[\\begin{matrix}24500000.0 & 3500000.0 & -28000000.0\\\\3500000.0 & 24500000.0 & -28000000.0\\\\-28000000.0 & -28000000.0 & 56000000.0\\end{matrix}\\right]$"
      ],
      "text/plain": [
       "Matrix([\n",
       "[ 24500000.0,   3500000.0, -28000000.0],\n",
       "[  3500000.0,  24500000.0, -28000000.0],\n",
       "[-28000000.0, -28000000.0,  56000000.0]])"
      ]
     },
     "metadata": {},
     "output_type": "display_data"
    }
   ],
   "source": [
    "display(StiffnessMatrix.subs({x_n0:0,x_n1:1,x_n2:0.5,E:210E9,A_n0:2.5E-5,A_n1:2.5E-5,A_n2:2.5E-5}))\n"
   ]
  },
  {
   "cell_type": "markdown",
   "metadata": {},
   "source": [
    "### if midside node is in the middel of the other two nodes:"
   ]
  },
  {
   "cell_type": "code",
   "execution_count": 11,
   "metadata": {},
   "outputs": [
    {
     "data": {
      "text/latex": [
       "$\\displaystyle \\left[\\begin{matrix}\\frac{378.0 E}{81.0 x_{n0}^{2} - 162.0 x_{n0} x_{n1} + 81.0 x_{n1}^{2}} & \\frac{54.0 E}{81.0 x_{n0}^{2} - 162.0 x_{n0} x_{n1} + 81.0 x_{n1}^{2}} & - \\frac{432.0 E}{81.0 x_{n0}^{2} - 162.0 x_{n0} x_{n1} + 81.0 x_{n1}^{2}}\\\\\\frac{54.0 E}{81.0 x_{n0}^{2} - 162.0 x_{n0} x_{n1} + 81.0 x_{n1}^{2}} & \\frac{378.0 E}{81.0 x_{n0}^{2} - 162.0 x_{n0} x_{n1} + 81.0 x_{n1}^{2}} & - \\frac{432.0 E}{81.0 x_{n0}^{2} - 162.0 x_{n0} x_{n1} + 81.0 x_{n1}^{2}}\\\\- \\frac{432.0 E}{81.0 x_{n0}^{2} - 162.0 x_{n0} x_{n1} + 81.0 x_{n1}^{2}} & - \\frac{432.0 E}{81.0 x_{n0}^{2} - 162.0 x_{n0} x_{n1} + 81.0 x_{n1}^{2}} & \\frac{864.0 E}{81.0 x_{n0}^{2} - 162.0 x_{n0} x_{n1} + 81.0 x_{n1}^{2}}\\end{matrix}\\right]$"
      ],
      "text/plain": [
       "Matrix([\n",
       "[ 378.0*E/(81.0*x_n0**2 - 162.0*x_n0*x_n1 + 81.0*x_n1**2),   54.0*E/(81.0*x_n0**2 - 162.0*x_n0*x_n1 + 81.0*x_n1**2), -432.0*E/(81.0*x_n0**2 - 162.0*x_n0*x_n1 + 81.0*x_n1**2)],\n",
       "[  54.0*E/(81.0*x_n0**2 - 162.0*x_n0*x_n1 + 81.0*x_n1**2),  378.0*E/(81.0*x_n0**2 - 162.0*x_n0*x_n1 + 81.0*x_n1**2), -432.0*E/(81.0*x_n0**2 - 162.0*x_n0*x_n1 + 81.0*x_n1**2)],\n",
       "[-432.0*E/(81.0*x_n0**2 - 162.0*x_n0*x_n1 + 81.0*x_n1**2), -432.0*E/(81.0*x_n0**2 - 162.0*x_n0*x_n1 + 81.0*x_n1**2),  864.0*E/(81.0*x_n0**2 - 162.0*x_n0*x_n1 + 81.0*x_n1**2)]])"
      ]
     },
     "metadata": {},
     "output_type": "display_data"
    },
    {
     "data": {
      "text/latex": [
       "$\\displaystyle \\left[\\begin{matrix}980000000000.0 & 140000000000.0 & -1120000000000.0\\\\140000000000.0 & 980000000000.0 & -1120000000000.0\\\\-1120000000000.0 & -1120000000000.0 & 2240000000000.0\\end{matrix}\\right]$"
      ],
      "text/plain": [
       "Matrix([\n",
       "[  980000000000.0,   140000000000.0, -1120000000000.0],\n",
       "[  140000000000.0,   980000000000.0, -1120000000000.0],\n",
       "[-1120000000000.0, -1120000000000.0,  2240000000000.0]])"
      ]
     },
     "metadata": {},
     "output_type": "display_data"
    }
   ],
   "source": [
    "k1 = sp.derive_by_array(term1,w_n0).subs({x_n2:(x_n0+x_n1)/2})\n",
    "k2 = sp.derive_by_array(term1,w_n1).subs({x_n2:(x_n0+x_n1)/2})\n",
    "k3 = sp.derive_by_array(term1,w_n2).subs({x_n2:(x_n0+x_n1)/2})\n",
    "\n",
    "\n",
    "\n",
    "\n",
    "GaussPoint = 1/sp.sqrt(3)\n",
    "\n",
    "eq1 = sp.simplify(k1.subs({'xi':GaussPoint}) + k1.subs({'xi':-GaussPoint}))\n",
    "eq2 = sp.simplify(k2.subs({'xi':GaussPoint}) + k2.subs({'xi':-GaussPoint}))\n",
    "eq3 = sp.simplify(k3.subs({'xi':GaussPoint}) + k3.subs({'xi':-GaussPoint}))\n",
    "\n",
    "\"\"\" display(eq1)\n",
    "display(eq2)\n",
    "display(eq3) \"\"\"\n",
    "\n",
    "Poly1 = sp.Poly(eq1,q_n0,q_n1,q_n2)\n",
    "Poly2 = sp.Poly(eq2,q_n0,q_n1,q_n2)\n",
    "Poly3 = sp.Poly(eq3,q_n0,q_n1,q_n2)\n",
    "Coef1 = Poly1.coeffs()\n",
    "Coef2 = Poly2.coeffs()\n",
    "Coef3 = Poly3.coeffs()\n",
    "\n",
    "StiffnessMatrix = sp.simplify(sp.Matrix([[Coef1[0],Coef1[1],Coef1[2]],[Coef2[0],Coef2[1],Coef2[2]],[Coef3[0],Coef3[1],Coef3[2]]]))\n",
    "\n",
    "\n",
    "\n",
    "display(StiffnessMatrix)\n",
    "display(StiffnessMatrix.subs({x_n0:0,x_n1:1,x_n2:0.5,E:210E9}))\n",
    "#display(StiffnessMatrix[0])\n",
    "\n",
    "\n"
   ]
  },
  {
   "cell_type": "markdown",
   "metadata": {},
   "source": [
    "### Gausian quadrature looks way more efficient complete integration tested below:"
   ]
  },
  {
   "cell_type": "code",
   "execution_count": 13,
   "metadata": {},
   "outputs": [
    {
     "data": {
      "text/latex": [
       "$\\displaystyle \\frac{2.0 E q_{n0}}{1.0 x_{n0}^{2} + 2.0 x_{n0} x_{n1} - 4.0 x_{n0} x_{n2} + 1.0 x_{n1}^{2} - 4.0 x_{n1} x_{n2} + 4.0 x_{n2}^{2}} + \\frac{2.0 E q_{n1}}{1.0 x_{n0}^{2} + 2.0 x_{n0} x_{n1} - 4.0 x_{n0} x_{n2} + 1.0 x_{n1}^{2} - 4.0 x_{n1} x_{n2} + 4.0 x_{n2}^{2}} - \\frac{4.0 E q_{n2}}{1.0 x_{n0}^{2} + 2.0 x_{n0} x_{n1} - 4.0 x_{n0} x_{n2} + 1.0 x_{n1}^{2} - 4.0 x_{n1} x_{n2} + 4.0 x_{n2}^{2}} + \\frac{0.375 E \\left(0.666666666666667 q_{n0} x_{n1} - 0.666666666666667 q_{n0} x_{n2} - 0.333333333333333 q_{n1} x_{n0} + 0.333333333333333 q_{n1} x_{n1} + 0.333333333333333 q_{n2} x_{n0} - 1.0 q_{n2} x_{n1} + 0.666666666666667 q_{n2} x_{n2}\\right) \\log{\\left(- 1.5 x_{n0} - 0.5 x_{n1} + 2.0 x_{n2} \\right)}}{\\left(0.5 x_{n0} + 0.5 x_{n1} - 1.0 x_{n2}\\right)^{3}} - \\frac{0.375 E \\left(0.666666666666667 q_{n0} x_{n1} - 0.666666666666667 q_{n0} x_{n2} - 0.333333333333333 q_{n1} x_{n0} + 0.333333333333333 q_{n1} x_{n1} + 0.333333333333333 q_{n2} x_{n0} - 1.0 q_{n2} x_{n1} + 0.666666666666667 q_{n2} x_{n2}\\right) \\log{\\left(0.5 x_{n0} + 1.5 x_{n1} - 2.0 x_{n2} \\right)}}{\\left(0.5 x_{n0} + 0.5 x_{n1} - 1.0 x_{n2}\\right)^{3}} + \\frac{- 2.0 E q_{n0} x_{n1}^{2} + 4.0 E q_{n0} x_{n1} x_{n2} - 2.0 E q_{n0} x_{n2}^{2} + 2.0 E q_{n1} x_{n0} x_{n1} - 2.0 E q_{n1} x_{n0} x_{n2} - 2.0 E q_{n1} x_{n1} x_{n2} + 2.0 E q_{n1} x_{n2}^{2} - 2.0 E q_{n2} x_{n0} x_{n1} + 2.0 E q_{n2} x_{n0} x_{n2} + 2.0 E q_{n2} x_{n1}^{2} - 2.0 E q_{n2} x_{n1} x_{n2}}{1.0 x_{n0}^{4} + 6.0 x_{n0}^{3} x_{n1} - 10.0 x_{n0}^{3} x_{n2} + 12.0 x_{n0}^{2} x_{n1}^{2} - 42.0 x_{n0}^{2} x_{n1} x_{n2} + 36.0 x_{n0}^{2} x_{n2}^{2} + 10.0 x_{n0} x_{n1}^{3} - 54.0 x_{n0} x_{n1}^{2} x_{n2} + 96.0 x_{n0} x_{n1} x_{n2}^{2} - 56.0 x_{n0} x_{n2}^{3} + 3.0 x_{n1}^{4} - 22.0 x_{n1}^{3} x_{n2} + 60.0 x_{n1}^{2} x_{n2}^{2} - 72.0 x_{n1} x_{n2}^{3} + 32.0 x_{n2}^{4}} - \\frac{- 2.0 E q_{n0} x_{n1}^{2} + 4.0 E q_{n0} x_{n1} x_{n2} - 2.0 E q_{n0} x_{n2}^{2} + 2.0 E q_{n1} x_{n0} x_{n1} - 2.0 E q_{n1} x_{n0} x_{n2} - 2.0 E q_{n1} x_{n1} x_{n2} + 2.0 E q_{n1} x_{n2}^{2} - 2.0 E q_{n2} x_{n0} x_{n1} + 2.0 E q_{n2} x_{n0} x_{n2} + 2.0 E q_{n2} x_{n1}^{2} - 2.0 E q_{n2} x_{n1} x_{n2}}{- 3.0 x_{n0}^{4} - 10.0 x_{n0}^{3} x_{n1} + 22.0 x_{n0}^{3} x_{n2} - 12.0 x_{n0}^{2} x_{n1}^{2} + 54.0 x_{n0}^{2} x_{n1} x_{n2} - 60.0 x_{n0}^{2} x_{n2}^{2} - 6.0 x_{n0} x_{n1}^{3} + 42.0 x_{n0} x_{n1}^{2} x_{n2} - 96.0 x_{n0} x_{n1} x_{n2}^{2} + 72.0 x_{n0} x_{n2}^{3} - 1.0 x_{n1}^{4} + 10.0 x_{n1}^{3} x_{n2} - 36.0 x_{n1}^{2} x_{n2}^{2} + 56.0 x_{n1} x_{n2}^{3} - 32.0 x_{n2}^{4}}$"
      ],
      "text/plain": [
       "2.0*E*q_n0/(1.0*x_n0**2 + 2.0*x_n0*x_n1 - 4.0*x_n0*x_n2 + 1.0*x_n1**2 - 4.0*x_n1*x_n2 + 4.0*x_n2**2) + 2.0*E*q_n1/(1.0*x_n0**2 + 2.0*x_n0*x_n1 - 4.0*x_n0*x_n2 + 1.0*x_n1**2 - 4.0*x_n1*x_n2 + 4.0*x_n2**2) - 4.0*E*q_n2/(1.0*x_n0**2 + 2.0*x_n0*x_n1 - 4.0*x_n0*x_n2 + 1.0*x_n1**2 - 4.0*x_n1*x_n2 + 4.0*x_n2**2) + 0.375*E*(0.666666666666667*q_n0*x_n1 - 0.666666666666667*q_n0*x_n2 - 0.333333333333333*q_n1*x_n0 + 0.333333333333333*q_n1*x_n1 + 0.333333333333333*q_n2*x_n0 - 1.0*q_n2*x_n1 + 0.666666666666667*q_n2*x_n2)*log(-1.5*x_n0 - 0.5*x_n1 + 2.0*x_n2)/(0.5*x_n0 + 0.5*x_n1 - 1.0*x_n2)**3 - 0.375*E*(0.666666666666667*q_n0*x_n1 - 0.666666666666667*q_n0*x_n2 - 0.333333333333333*q_n1*x_n0 + 0.333333333333333*q_n1*x_n1 + 0.333333333333333*q_n2*x_n0 - 1.0*q_n2*x_n1 + 0.666666666666667*q_n2*x_n2)*log(0.5*x_n0 + 1.5*x_n1 - 2.0*x_n2)/(0.5*x_n0 + 0.5*x_n1 - 1.0*x_n2)**3 + (-2.0*E*q_n0*x_n1**2 + 4.0*E*q_n0*x_n1*x_n2 - 2.0*E*q_n0*x_n2**2 + 2.0*E*q_n1*x_n0*x_n1 - 2.0*E*q_n1*x_n0*x_n2 - 2.0*E*q_n1*x_n1*x_n2 + 2.0*E*q_n1*x_n2**2 - 2.0*E*q_n2*x_n0*x_n1 + 2.0*E*q_n2*x_n0*x_n2 + 2.0*E*q_n2*x_n1**2 - 2.0*E*q_n2*x_n1*x_n2)/(1.0*x_n0**4 + 6.0*x_n0**3*x_n1 - 10.0*x_n0**3*x_n2 + 12.0*x_n0**2*x_n1**2 - 42.0*x_n0**2*x_n1*x_n2 + 36.0*x_n0**2*x_n2**2 + 10.0*x_n0*x_n1**3 - 54.0*x_n0*x_n1**2*x_n2 + 96.0*x_n0*x_n1*x_n2**2 - 56.0*x_n0*x_n2**3 + 3.0*x_n1**4 - 22.0*x_n1**3*x_n2 + 60.0*x_n1**2*x_n2**2 - 72.0*x_n1*x_n2**3 + 32.0*x_n2**4) - (-2.0*E*q_n0*x_n1**2 + 4.0*E*q_n0*x_n1*x_n2 - 2.0*E*q_n0*x_n2**2 + 2.0*E*q_n1*x_n0*x_n1 - 2.0*E*q_n1*x_n0*x_n2 - 2.0*E*q_n1*x_n1*x_n2 + 2.0*E*q_n1*x_n2**2 - 2.0*E*q_n2*x_n0*x_n1 + 2.0*E*q_n2*x_n0*x_n2 + 2.0*E*q_n2*x_n1**2 - 2.0*E*q_n2*x_n1*x_n2)/(-3.0*x_n0**4 - 10.0*x_n0**3*x_n1 + 22.0*x_n0**3*x_n2 - 12.0*x_n0**2*x_n1**2 + 54.0*x_n0**2*x_n1*x_n2 - 60.0*x_n0**2*x_n2**2 - 6.0*x_n0*x_n1**3 + 42.0*x_n0*x_n1**2*x_n2 - 96.0*x_n0*x_n1*x_n2**2 + 72.0*x_n0*x_n2**3 - 1.0*x_n1**4 + 10.0*x_n1**3*x_n2 - 36.0*x_n1**2*x_n2**2 + 56.0*x_n1*x_n2**3 - 32.0*x_n2**4)"
      ]
     },
     "metadata": {},
     "output_type": "display_data"
    },
    {
     "data": {
      "text/latex": [
       "$\\displaystyle \\frac{2.0 E q_{n0}}{1.0 x_{n0}^{2} + 2.0 x_{n0} x_{n1} - 4.0 x_{n0} x_{n2} + 1.0 x_{n1}^{2} - 4.0 x_{n1} x_{n2} + 4.0 x_{n2}^{2}} + \\frac{2.0 E q_{n1}}{1.0 x_{n0}^{2} + 2.0 x_{n0} x_{n1} - 4.0 x_{n0} x_{n2} + 1.0 x_{n1}^{2} - 4.0 x_{n1} x_{n2} + 4.0 x_{n2}^{2}} - \\frac{4.0 E q_{n2}}{1.0 x_{n0}^{2} + 2.0 x_{n0} x_{n1} - 4.0 x_{n0} x_{n2} + 1.0 x_{n1}^{2} - 4.0 x_{n1} x_{n2} + 4.0 x_{n2}^{2}} - \\frac{0.375 E \\left(0.333333333333333 q_{n0} x_{n0} - 0.333333333333333 q_{n0} x_{n1} + 0.666666666666667 q_{n1} x_{n0} - 0.666666666666667 q_{n1} x_{n2} - 1.0 q_{n2} x_{n0} + 0.333333333333333 q_{n2} x_{n1} + 0.666666666666667 q_{n2} x_{n2}\\right) \\log{\\left(- 1.5 x_{n0} - 0.5 x_{n1} + 2.0 x_{n2} \\right)}}{\\left(0.5 x_{n0} + 0.5 x_{n1} - 1.0 x_{n2}\\right)^{3}} + \\frac{0.375 E \\left(0.333333333333333 q_{n0} x_{n0} - 0.333333333333333 q_{n0} x_{n1} + 0.666666666666667 q_{n1} x_{n0} - 0.666666666666667 q_{n1} x_{n2} - 1.0 q_{n2} x_{n0} + 0.333333333333333 q_{n2} x_{n1} + 0.666666666666667 q_{n2} x_{n2}\\right) \\log{\\left(0.5 x_{n0} + 1.5 x_{n1} - 2.0 x_{n2} \\right)}}{\\left(0.5 x_{n0} + 0.5 x_{n1} - 1.0 x_{n2}\\right)^{3}} + \\frac{2.0 E q_{n0} x_{n0} x_{n1} - 2.0 E q_{n0} x_{n0} x_{n2} - 2.0 E q_{n0} x_{n1} x_{n2} + 2.0 E q_{n0} x_{n2}^{2} - 2.0 E q_{n1} x_{n0}^{2} + 4.0 E q_{n1} x_{n0} x_{n2} - 2.0 E q_{n1} x_{n2}^{2} + 2.0 E q_{n2} x_{n0}^{2} - 2.0 E q_{n2} x_{n0} x_{n1} - 2.0 E q_{n2} x_{n0} x_{n2} + 2.0 E q_{n2} x_{n1} x_{n2}}{1.0 x_{n0}^{4} + 6.0 x_{n0}^{3} x_{n1} - 10.0 x_{n0}^{3} x_{n2} + 12.0 x_{n0}^{2} x_{n1}^{2} - 42.0 x_{n0}^{2} x_{n1} x_{n2} + 36.0 x_{n0}^{2} x_{n2}^{2} + 10.0 x_{n0} x_{n1}^{3} - 54.0 x_{n0} x_{n1}^{2} x_{n2} + 96.0 x_{n0} x_{n1} x_{n2}^{2} - 56.0 x_{n0} x_{n2}^{3} + 3.0 x_{n1}^{4} - 22.0 x_{n1}^{3} x_{n2} + 60.0 x_{n1}^{2} x_{n2}^{2} - 72.0 x_{n1} x_{n2}^{3} + 32.0 x_{n2}^{4}} - \\frac{2.0 E q_{n0} x_{n0} x_{n1} - 2.0 E q_{n0} x_{n0} x_{n2} - 2.0 E q_{n0} x_{n1} x_{n2} + 2.0 E q_{n0} x_{n2}^{2} - 2.0 E q_{n1} x_{n0}^{2} + 4.0 E q_{n1} x_{n0} x_{n2} - 2.0 E q_{n1} x_{n2}^{2} + 2.0 E q_{n2} x_{n0}^{2} - 2.0 E q_{n2} x_{n0} x_{n1} - 2.0 E q_{n2} x_{n0} x_{n2} + 2.0 E q_{n2} x_{n1} x_{n2}}{- 3.0 x_{n0}^{4} - 10.0 x_{n0}^{3} x_{n1} + 22.0 x_{n0}^{3} x_{n2} - 12.0 x_{n0}^{2} x_{n1}^{2} + 54.0 x_{n0}^{2} x_{n1} x_{n2} - 60.0 x_{n0}^{2} x_{n2}^{2} - 6.0 x_{n0} x_{n1}^{3} + 42.0 x_{n0} x_{n1}^{2} x_{n2} - 96.0 x_{n0} x_{n1} x_{n2}^{2} + 72.0 x_{n0} x_{n2}^{3} - 1.0 x_{n1}^{4} + 10.0 x_{n1}^{3} x_{n2} - 36.0 x_{n1}^{2} x_{n2}^{2} + 56.0 x_{n1} x_{n2}^{3} - 32.0 x_{n2}^{4}}$"
      ],
      "text/plain": [
       "2.0*E*q_n0/(1.0*x_n0**2 + 2.0*x_n0*x_n1 - 4.0*x_n0*x_n2 + 1.0*x_n1**2 - 4.0*x_n1*x_n2 + 4.0*x_n2**2) + 2.0*E*q_n1/(1.0*x_n0**2 + 2.0*x_n0*x_n1 - 4.0*x_n0*x_n2 + 1.0*x_n1**2 - 4.0*x_n1*x_n2 + 4.0*x_n2**2) - 4.0*E*q_n2/(1.0*x_n0**2 + 2.0*x_n0*x_n1 - 4.0*x_n0*x_n2 + 1.0*x_n1**2 - 4.0*x_n1*x_n2 + 4.0*x_n2**2) - 0.375*E*(0.333333333333333*q_n0*x_n0 - 0.333333333333333*q_n0*x_n1 + 0.666666666666667*q_n1*x_n0 - 0.666666666666667*q_n1*x_n2 - 1.0*q_n2*x_n0 + 0.333333333333333*q_n2*x_n1 + 0.666666666666667*q_n2*x_n2)*log(-1.5*x_n0 - 0.5*x_n1 + 2.0*x_n2)/(0.5*x_n0 + 0.5*x_n1 - 1.0*x_n2)**3 + 0.375*E*(0.333333333333333*q_n0*x_n0 - 0.333333333333333*q_n0*x_n1 + 0.666666666666667*q_n1*x_n0 - 0.666666666666667*q_n1*x_n2 - 1.0*q_n2*x_n0 + 0.333333333333333*q_n2*x_n1 + 0.666666666666667*q_n2*x_n2)*log(0.5*x_n0 + 1.5*x_n1 - 2.0*x_n2)/(0.5*x_n0 + 0.5*x_n1 - 1.0*x_n2)**3 + (2.0*E*q_n0*x_n0*x_n1 - 2.0*E*q_n0*x_n0*x_n2 - 2.0*E*q_n0*x_n1*x_n2 + 2.0*E*q_n0*x_n2**2 - 2.0*E*q_n1*x_n0**2 + 4.0*E*q_n1*x_n0*x_n2 - 2.0*E*q_n1*x_n2**2 + 2.0*E*q_n2*x_n0**2 - 2.0*E*q_n2*x_n0*x_n1 - 2.0*E*q_n2*x_n0*x_n2 + 2.0*E*q_n2*x_n1*x_n2)/(1.0*x_n0**4 + 6.0*x_n0**3*x_n1 - 10.0*x_n0**3*x_n2 + 12.0*x_n0**2*x_n1**2 - 42.0*x_n0**2*x_n1*x_n2 + 36.0*x_n0**2*x_n2**2 + 10.0*x_n0*x_n1**3 - 54.0*x_n0*x_n1**2*x_n2 + 96.0*x_n0*x_n1*x_n2**2 - 56.0*x_n0*x_n2**3 + 3.0*x_n1**4 - 22.0*x_n1**3*x_n2 + 60.0*x_n1**2*x_n2**2 - 72.0*x_n1*x_n2**3 + 32.0*x_n2**4) - (2.0*E*q_n0*x_n0*x_n1 - 2.0*E*q_n0*x_n0*x_n2 - 2.0*E*q_n0*x_n1*x_n2 + 2.0*E*q_n0*x_n2**2 - 2.0*E*q_n1*x_n0**2 + 4.0*E*q_n1*x_n0*x_n2 - 2.0*E*q_n1*x_n2**2 + 2.0*E*q_n2*x_n0**2 - 2.0*E*q_n2*x_n0*x_n1 - 2.0*E*q_n2*x_n0*x_n2 + 2.0*E*q_n2*x_n1*x_n2)/(-3.0*x_n0**4 - 10.0*x_n0**3*x_n1 + 22.0*x_n0**3*x_n2 - 12.0*x_n0**2*x_n1**2 + 54.0*x_n0**2*x_n1*x_n2 - 60.0*x_n0**2*x_n2**2 - 6.0*x_n0*x_n1**3 + 42.0*x_n0*x_n1**2*x_n2 - 96.0*x_n0*x_n1*x_n2**2 + 72.0*x_n0*x_n2**3 - 1.0*x_n1**4 + 10.0*x_n1**3*x_n2 - 36.0*x_n1**2*x_n2**2 + 56.0*x_n1*x_n2**3 - 32.0*x_n2**4)"
      ]
     },
     "metadata": {},
     "output_type": "display_data"
    },
    {
     "data": {
      "text/latex": [
       "$\\displaystyle - \\frac{4.0 E q_{n0}}{1.0 x_{n0}^{2} + 2.0 x_{n0} x_{n1} - 4.0 x_{n0} x_{n2} + 1.0 x_{n1}^{2} - 4.0 x_{n1} x_{n2} + 4.0 x_{n2}^{2}} - \\frac{4.0 E q_{n1}}{1.0 x_{n0}^{2} + 2.0 x_{n0} x_{n1} - 4.0 x_{n0} x_{n2} + 1.0 x_{n1}^{2} - 4.0 x_{n1} x_{n2} + 4.0 x_{n2}^{2}} + \\frac{8.0 E q_{n2}}{1.0 x_{n0}^{2} + 2.0 x_{n0} x_{n1} - 4.0 x_{n0} x_{n2} + 1.0 x_{n1}^{2} - 4.0 x_{n1} x_{n2} + 4.0 x_{n2}^{2}} + \\frac{0.5 E \\left(0.25 q_{n0} x_{n0} - 0.75 q_{n0} x_{n1} + 0.5 q_{n0} x_{n2} + 0.75 q_{n1} x_{n0} - 0.25 q_{n1} x_{n1} - 0.5 q_{n1} x_{n2} - 1.0 q_{n2} x_{n0} + 1.0 q_{n2} x_{n1}\\right) \\log{\\left(- 1.5 x_{n0} - 0.5 x_{n1} + 2.0 x_{n2} \\right)}}{\\left(0.5 x_{n0} + 0.5 x_{n1} - 1.0 x_{n2}\\right)^{3}} - \\frac{0.5 E \\left(0.25 q_{n0} x_{n0} - 0.75 q_{n0} x_{n1} + 0.5 q_{n0} x_{n2} + 0.75 q_{n1} x_{n0} - 0.25 q_{n1} x_{n1} - 0.5 q_{n1} x_{n2} - 1.0 q_{n2} x_{n0} + 1.0 q_{n2} x_{n1}\\right) \\log{\\left(0.5 x_{n0} + 1.5 x_{n1} - 2.0 x_{n2} \\right)}}{\\left(0.5 x_{n0} + 0.5 x_{n1} - 1.0 x_{n2}\\right)^{3}} - \\frac{2.0 E q_{n0} x_{n0} x_{n1} - 2.0 E q_{n0} x_{n0} x_{n2} - 2.0 E q_{n0} x_{n1}^{2} + 2.0 E q_{n0} x_{n1} x_{n2} - 2.0 E q_{n1} x_{n0}^{2} + 2.0 E q_{n1} x_{n0} x_{n1} + 2.0 E q_{n1} x_{n0} x_{n2} - 2.0 E q_{n1} x_{n1} x_{n2} + 2.0 E q_{n2} x_{n0}^{2} - 4.0 E q_{n2} x_{n0} x_{n1} + 2.0 E q_{n2} x_{n1}^{2}}{1.0 x_{n0}^{4} + 6.0 x_{n0}^{3} x_{n1} - 10.0 x_{n0}^{3} x_{n2} + 12.0 x_{n0}^{2} x_{n1}^{2} - 42.0 x_{n0}^{2} x_{n1} x_{n2} + 36.0 x_{n0}^{2} x_{n2}^{2} + 10.0 x_{n0} x_{n1}^{3} - 54.0 x_{n0} x_{n1}^{2} x_{n2} + 96.0 x_{n0} x_{n1} x_{n2}^{2} - 56.0 x_{n0} x_{n2}^{3} + 3.0 x_{n1}^{4} - 22.0 x_{n1}^{3} x_{n2} + 60.0 x_{n1}^{2} x_{n2}^{2} - 72.0 x_{n1} x_{n2}^{3} + 32.0 x_{n2}^{4}} + \\frac{2.0 E q_{n0} x_{n0} x_{n1} - 2.0 E q_{n0} x_{n0} x_{n2} - 2.0 E q_{n0} x_{n1}^{2} + 2.0 E q_{n0} x_{n1} x_{n2} - 2.0 E q_{n1} x_{n0}^{2} + 2.0 E q_{n1} x_{n0} x_{n1} + 2.0 E q_{n1} x_{n0} x_{n2} - 2.0 E q_{n1} x_{n1} x_{n2} + 2.0 E q_{n2} x_{n0}^{2} - 4.0 E q_{n2} x_{n0} x_{n1} + 2.0 E q_{n2} x_{n1}^{2}}{- 3.0 x_{n0}^{4} - 10.0 x_{n0}^{3} x_{n1} + 22.0 x_{n0}^{3} x_{n2} - 12.0 x_{n0}^{2} x_{n1}^{2} + 54.0 x_{n0}^{2} x_{n1} x_{n2} - 60.0 x_{n0}^{2} x_{n2}^{2} - 6.0 x_{n0} x_{n1}^{3} + 42.0 x_{n0} x_{n1}^{2} x_{n2} - 96.0 x_{n0} x_{n1} x_{n2}^{2} + 72.0 x_{n0} x_{n2}^{3} - 1.0 x_{n1}^{4} + 10.0 x_{n1}^{3} x_{n2} - 36.0 x_{n1}^{2} x_{n2}^{2} + 56.0 x_{n1} x_{n2}^{3} - 32.0 x_{n2}^{4}}$"
      ],
      "text/plain": [
       "-4.0*E*q_n0/(1.0*x_n0**2 + 2.0*x_n0*x_n1 - 4.0*x_n0*x_n2 + 1.0*x_n1**2 - 4.0*x_n1*x_n2 + 4.0*x_n2**2) - 4.0*E*q_n1/(1.0*x_n0**2 + 2.0*x_n0*x_n1 - 4.0*x_n0*x_n2 + 1.0*x_n1**2 - 4.0*x_n1*x_n2 + 4.0*x_n2**2) + 8.0*E*q_n2/(1.0*x_n0**2 + 2.0*x_n0*x_n1 - 4.0*x_n0*x_n2 + 1.0*x_n1**2 - 4.0*x_n1*x_n2 + 4.0*x_n2**2) + 0.5*E*(0.25*q_n0*x_n0 - 0.75*q_n0*x_n1 + 0.5*q_n0*x_n2 + 0.75*q_n1*x_n0 - 0.25*q_n1*x_n1 - 0.5*q_n1*x_n2 - 1.0*q_n2*x_n0 + 1.0*q_n2*x_n1)*log(-1.5*x_n0 - 0.5*x_n1 + 2.0*x_n2)/(0.5*x_n0 + 0.5*x_n1 - 1.0*x_n2)**3 - 0.5*E*(0.25*q_n0*x_n0 - 0.75*q_n0*x_n1 + 0.5*q_n0*x_n2 + 0.75*q_n1*x_n0 - 0.25*q_n1*x_n1 - 0.5*q_n1*x_n2 - 1.0*q_n2*x_n0 + 1.0*q_n2*x_n1)*log(0.5*x_n0 + 1.5*x_n1 - 2.0*x_n2)/(0.5*x_n0 + 0.5*x_n1 - 1.0*x_n2)**3 - (2.0*E*q_n0*x_n0*x_n1 - 2.0*E*q_n0*x_n0*x_n2 - 2.0*E*q_n0*x_n1**2 + 2.0*E*q_n0*x_n1*x_n2 - 2.0*E*q_n1*x_n0**2 + 2.0*E*q_n1*x_n0*x_n1 + 2.0*E*q_n1*x_n0*x_n2 - 2.0*E*q_n1*x_n1*x_n2 + 2.0*E*q_n2*x_n0**2 - 4.0*E*q_n2*x_n0*x_n1 + 2.0*E*q_n2*x_n1**2)/(1.0*x_n0**4 + 6.0*x_n0**3*x_n1 - 10.0*x_n0**3*x_n2 + 12.0*x_n0**2*x_n1**2 - 42.0*x_n0**2*x_n1*x_n2 + 36.0*x_n0**2*x_n2**2 + 10.0*x_n0*x_n1**3 - 54.0*x_n0*x_n1**2*x_n2 + 96.0*x_n0*x_n1*x_n2**2 - 56.0*x_n0*x_n2**3 + 3.0*x_n1**4 - 22.0*x_n1**3*x_n2 + 60.0*x_n1**2*x_n2**2 - 72.0*x_n1*x_n2**3 + 32.0*x_n2**4) + (2.0*E*q_n0*x_n0*x_n1 - 2.0*E*q_n0*x_n0*x_n2 - 2.0*E*q_n0*x_n1**2 + 2.0*E*q_n0*x_n1*x_n2 - 2.0*E*q_n1*x_n0**2 + 2.0*E*q_n1*x_n0*x_n1 + 2.0*E*q_n1*x_n0*x_n2 - 2.0*E*q_n1*x_n1*x_n2 + 2.0*E*q_n2*x_n0**2 - 4.0*E*q_n2*x_n0*x_n1 + 2.0*E*q_n2*x_n1**2)/(-3.0*x_n0**4 - 10.0*x_n0**3*x_n1 + 22.0*x_n0**3*x_n2 - 12.0*x_n0**2*x_n1**2 + 54.0*x_n0**2*x_n1*x_n2 - 60.0*x_n0**2*x_n2**2 - 6.0*x_n0*x_n1**3 + 42.0*x_n0*x_n1**2*x_n2 - 96.0*x_n0*x_n1*x_n2**2 + 72.0*x_n0*x_n2**3 - 1.0*x_n1**4 + 10.0*x_n1**3*x_n2 - 36.0*x_n1**2*x_n2**2 + 56.0*x_n1*x_n2**3 - 32.0*x_n2**4)"
      ]
     },
     "metadata": {},
     "output_type": "display_data"
    },
    {
     "data": {
      "text/latex": [
       "$\\displaystyle \\left[\\begin{matrix}\\frac{E \\left(0.75 x_{n0}^{3} + 0.75 x_{n0}^{2} x_{n1} \\log{\\left(- 1.5 x_{n0} - 0.5 x_{n1} + 2.0 x_{n2} \\right)} - 0.75 x_{n0}^{2} x_{n1} \\log{\\left(0.5 x_{n0} + 1.5 x_{n1} - 2.0 x_{n2} \\right)} + 3.25 x_{n0}^{2} x_{n1} - 0.75 x_{n0}^{2} x_{n2} \\log{\\left(- 1.5 x_{n0} - 0.5 x_{n1} + 2.0 x_{n2} \\right)} + 0.75 x_{n0}^{2} x_{n2} \\log{\\left(0.5 x_{n0} + 1.5 x_{n1} - 2.0 x_{n2} \\right)} - 5.5 x_{n0}^{2} x_{n2} + 2.5 x_{n0} x_{n1}^{2} \\log{\\left(- 1.5 x_{n0} - 0.5 x_{n1} + 2.0 x_{n2} \\right)} - 2.5 x_{n0} x_{n1}^{2} \\log{\\left(0.5 x_{n0} + 1.5 x_{n1} - 2.0 x_{n2} \\right)} + 2.25 x_{n0} x_{n1}^{2} - 6.5 x_{n0} x_{n1} x_{n2} \\log{\\left(- 1.5 x_{n0} - 0.5 x_{n1} + 2.0 x_{n2} \\right)} + 6.5 x_{n0} x_{n1} x_{n2} \\log{\\left(0.5 x_{n0} + 1.5 x_{n1} - 2.0 x_{n2} \\right)} - 11.0 x_{n0} x_{n1} x_{n2} + 4.0 x_{n0} x_{n2}^{2} \\log{\\left(- 1.5 x_{n0} - 0.5 x_{n1} + 2.0 x_{n2} \\right)} - 4.0 x_{n0} x_{n2}^{2} \\log{\\left(0.5 x_{n0} + 1.5 x_{n1} - 2.0 x_{n2} \\right)} + 11.0 x_{n0} x_{n2}^{2} + 0.75 x_{n1}^{3} \\log{\\left(- 1.5 x_{n0} - 0.5 x_{n1} + 2.0 x_{n2} \\right)} - 0.75 x_{n1}^{3} \\log{\\left(0.5 x_{n0} + 1.5 x_{n1} - 2.0 x_{n2} \\right)} - 0.25 x_{n1}^{3} - 4.75 x_{n1}^{2} x_{n2} \\log{\\left(- 1.5 x_{n0} - 0.5 x_{n1} + 2.0 x_{n2} \\right)} + 4.75 x_{n1}^{2} x_{n2} \\log{\\left(0.5 x_{n0} + 1.5 x_{n1} - 2.0 x_{n2} \\right)} - 1.5 x_{n1}^{2} x_{n2} + 8.0 x_{n1} x_{n2}^{2} \\log{\\left(- 1.5 x_{n0} - 0.5 x_{n1} + 2.0 x_{n2} \\right)} - 8.0 x_{n1} x_{n2}^{2} \\log{\\left(0.5 x_{n0} + 1.5 x_{n1} - 2.0 x_{n2} \\right)} + 7.0 x_{n1} x_{n2}^{2} - 4.0 x_{n2}^{3} \\log{\\left(- 1.5 x_{n0} - 0.5 x_{n1} + 2.0 x_{n2} \\right)} + 4.0 x_{n2}^{3} \\log{\\left(0.5 x_{n0} + 1.5 x_{n1} - 2.0 x_{n2} \\right)} - 6.0 x_{n2}^{3}\\right)}{0.375 x_{n0}^{5} + 2.375 x_{n0}^{4} x_{n1} - 4.25 x_{n0}^{4} x_{n2} + 5.25 x_{n0}^{3} x_{n1}^{2} - 20.0 x_{n0}^{3} x_{n1} x_{n2} + 18.5 x_{n0}^{3} x_{n2}^{2} + 5.25 x_{n0}^{2} x_{n1}^{3} - 31.5 x_{n0}^{2} x_{n1}^{2} x_{n2} + 61.5 x_{n0}^{2} x_{n1} x_{n2}^{2} - 39.0 x_{n0}^{2} x_{n2}^{3} + 2.375 x_{n0} x_{n1}^{4} - 20.0 x_{n0} x_{n1}^{3} x_{n2} + 61.5 x_{n0} x_{n1}^{2} x_{n2}^{2} - 82.0 x_{n0} x_{n1} x_{n2}^{3} + 40.0 x_{n0} x_{n2}^{4} + 0.375 x_{n1}^{5} - 4.25 x_{n1}^{4} x_{n2} + 18.5 x_{n1}^{3} x_{n2}^{2} - 39.0 x_{n1}^{2} x_{n2}^{3} + 40.0 x_{n1} x_{n2}^{4} - 16.0 x_{n2}^{5}} & \\frac{E \\left(- 0.375 x_{n0}^{3} \\log{\\left(- 1.5 x_{n0} - 0.5 x_{n1} + 2.0 x_{n2} \\right)} + 0.375 x_{n0}^{3} \\log{\\left(0.5 x_{n0} + 1.5 x_{n1} - 2.0 x_{n2} \\right)} + 0.75 x_{n0}^{3} - 0.875 x_{n0}^{2} x_{n1} \\log{\\left(- 1.5 x_{n0} - 0.5 x_{n1} + 2.0 x_{n2} \\right)} + 0.875 x_{n0}^{2} x_{n1} \\log{\\left(0.5 x_{n0} + 1.5 x_{n1} - 2.0 x_{n2} \\right)} + 4.25 x_{n0}^{2} x_{n1} + 2.0 x_{n0}^{2} x_{n2} \\log{\\left(- 1.5 x_{n0} - 0.5 x_{n1} + 2.0 x_{n2} \\right)} - 2.0 x_{n0}^{2} x_{n2} \\log{\\left(0.5 x_{n0} + 1.5 x_{n1} - 2.0 x_{n2} \\right)} - 6.5 x_{n0}^{2} x_{n2} + 0.875 x_{n0} x_{n1}^{2} \\log{\\left(- 1.5 x_{n0} - 0.5 x_{n1} + 2.0 x_{n2} \\right)} - 0.875 x_{n0} x_{n1}^{2} \\log{\\left(0.5 x_{n0} + 1.5 x_{n1} - 2.0 x_{n2} \\right)} + 4.25 x_{n0} x_{n1}^{2} - 17.0 x_{n0} x_{n1} x_{n2} - 2.0 x_{n0} x_{n2}^{2} \\log{\\left(- 1.5 x_{n0} - 0.5 x_{n1} + 2.0 x_{n2} \\right)} + 2.0 x_{n0} x_{n2}^{2} \\log{\\left(0.5 x_{n0} + 1.5 x_{n1} - 2.0 x_{n2} \\right)} + 15.0 x_{n0} x_{n2}^{2} + 0.375 x_{n1}^{3} \\log{\\left(- 1.5 x_{n0} - 0.5 x_{n1} + 2.0 x_{n2} \\right)} - 0.375 x_{n1}^{3} \\log{\\left(0.5 x_{n0} + 1.5 x_{n1} - 2.0 x_{n2} \\right)} + 0.75 x_{n1}^{3} - 2.0 x_{n1}^{2} x_{n2} \\log{\\left(- 1.5 x_{n0} - 0.5 x_{n1} + 2.0 x_{n2} \\right)} + 2.0 x_{n1}^{2} x_{n2} \\log{\\left(0.5 x_{n0} + 1.5 x_{n1} - 2.0 x_{n2} \\right)} - 6.5 x_{n1}^{2} x_{n2} + 2.0 x_{n1} x_{n2}^{2} \\log{\\left(- 1.5 x_{n0} - 0.5 x_{n1} + 2.0 x_{n2} \\right)} - 2.0 x_{n1} x_{n2}^{2} \\log{\\left(0.5 x_{n0} + 1.5 x_{n1} - 2.0 x_{n2} \\right)} + 15.0 x_{n1} x_{n2}^{2} - 10.0 x_{n2}^{3}\\right)}{0.375 x_{n0}^{5} + 2.375 x_{n0}^{4} x_{n1} - 4.25 x_{n0}^{4} x_{n2} + 5.25 x_{n0}^{3} x_{n1}^{2} - 20.0 x_{n0}^{3} x_{n1} x_{n2} + 18.5 x_{n0}^{3} x_{n2}^{2} + 5.25 x_{n0}^{2} x_{n1}^{3} - 31.5 x_{n0}^{2} x_{n1}^{2} x_{n2} + 61.5 x_{n0}^{2} x_{n1} x_{n2}^{2} - 39.0 x_{n0}^{2} x_{n2}^{3} + 2.375 x_{n0} x_{n1}^{4} - 20.0 x_{n0} x_{n1}^{3} x_{n2} + 61.5 x_{n0} x_{n1}^{2} x_{n2}^{2} - 82.0 x_{n0} x_{n1} x_{n2}^{3} + 40.0 x_{n0} x_{n2}^{4} + 0.375 x_{n1}^{5} - 4.25 x_{n1}^{4} x_{n2} + 18.5 x_{n1}^{3} x_{n2}^{2} - 39.0 x_{n1}^{2} x_{n2}^{3} + 40.0 x_{n1} x_{n2}^{4} - 16.0 x_{n2}^{5}} & \\frac{E \\left(0.375 x_{n0}^{3} \\log{\\left(- 1.5 x_{n0} - 0.5 x_{n1} + 2.0 x_{n2} \\right)} - 0.375 x_{n0}^{3} \\log{\\left(0.5 x_{n0} + 1.5 x_{n1} - 2.0 x_{n2} \\right)} - 1.5 x_{n0}^{3} + 0.125 x_{n0}^{2} x_{n1} \\log{\\left(- 1.5 x_{n0} - 0.5 x_{n1} + 2.0 x_{n2} \\right)} - 0.125 x_{n0}^{2} x_{n1} \\log{\\left(0.5 x_{n0} + 1.5 x_{n1} - 2.0 x_{n2} \\right)} - 7.5 x_{n0}^{2} x_{n1} - 1.25 x_{n0}^{2} x_{n2} \\log{\\left(- 1.5 x_{n0} - 0.5 x_{n1} + 2.0 x_{n2} \\right)} + 1.25 x_{n0}^{2} x_{n2} \\log{\\left(0.5 x_{n0} + 1.5 x_{n1} - 2.0 x_{n2} \\right)} + 12.0 x_{n0}^{2} x_{n2} - 3.375 x_{n0} x_{n1}^{2} \\log{\\left(- 1.5 x_{n0} - 0.5 x_{n1} + 2.0 x_{n2} \\right)} + 3.375 x_{n0} x_{n1}^{2} \\log{\\left(0.5 x_{n0} + 1.5 x_{n1} - 2.0 x_{n2} \\right)} - 6.5 x_{n0} x_{n1}^{2} + 6.5 x_{n0} x_{n1} x_{n2} \\log{\\left(- 1.5 x_{n0} - 0.5 x_{n1} + 2.0 x_{n2} \\right)} - 6.5 x_{n0} x_{n1} x_{n2} \\log{\\left(0.5 x_{n0} + 1.5 x_{n1} - 2.0 x_{n2} \\right)} + 28.0 x_{n0} x_{n1} x_{n2} - 2.0 x_{n0} x_{n2}^{2} \\log{\\left(- 1.5 x_{n0} - 0.5 x_{n1} + 2.0 x_{n2} \\right)} + 2.0 x_{n0} x_{n2}^{2} \\log{\\left(0.5 x_{n0} + 1.5 x_{n1} - 2.0 x_{n2} \\right)} - 26.0 x_{n0} x_{n2}^{2} - 1.125 x_{n1}^{3} \\log{\\left(- 1.5 x_{n0} - 0.5 x_{n1} + 2.0 x_{n2} \\right)} + 1.125 x_{n1}^{3} \\log{\\left(0.5 x_{n0} + 1.5 x_{n1} - 2.0 x_{n2} \\right)} - 0.5 x_{n1}^{3} + 6.75 x_{n1}^{2} x_{n2} \\log{\\left(- 1.5 x_{n0} - 0.5 x_{n1} + 2.0 x_{n2} \\right)} - 6.75 x_{n1}^{2} x_{n2} \\log{\\left(0.5 x_{n0} + 1.5 x_{n1} - 2.0 x_{n2} \\right)} + 8.0 x_{n1}^{2} x_{n2} - 10.0 x_{n1} x_{n2}^{2} \\log{\\left(- 1.5 x_{n0} - 0.5 x_{n1} + 2.0 x_{n2} \\right)} + 10.0 x_{n1} x_{n2}^{2} \\log{\\left(0.5 x_{n0} + 1.5 x_{n1} - 2.0 x_{n2} \\right)} - 22.0 x_{n1} x_{n2}^{2} + 4.0 x_{n2}^{3} \\log{\\left(- 1.5 x_{n0} - 0.5 x_{n1} + 2.0 x_{n2} \\right)} - 4.0 x_{n2}^{3} \\log{\\left(0.5 x_{n0} + 1.5 x_{n1} - 2.0 x_{n2} \\right)} + 16.0 x_{n2}^{3}\\right)}{0.375 x_{n0}^{5} + 2.375 x_{n0}^{4} x_{n1} - 4.25 x_{n0}^{4} x_{n2} + 5.25 x_{n0}^{3} x_{n1}^{2} - 20.0 x_{n0}^{3} x_{n1} x_{n2} + 18.5 x_{n0}^{3} x_{n2}^{2} + 5.25 x_{n0}^{2} x_{n1}^{3} - 31.5 x_{n0}^{2} x_{n1}^{2} x_{n2} + 61.5 x_{n0}^{2} x_{n1} x_{n2}^{2} - 39.0 x_{n0}^{2} x_{n2}^{3} + 2.375 x_{n0} x_{n1}^{4} - 20.0 x_{n0} x_{n1}^{3} x_{n2} + 61.5 x_{n0} x_{n1}^{2} x_{n2}^{2} - 82.0 x_{n0} x_{n1} x_{n2}^{3} + 40.0 x_{n0} x_{n2}^{4} + 0.375 x_{n1}^{5} - 4.25 x_{n1}^{4} x_{n2} + 18.5 x_{n1}^{3} x_{n2}^{2} - 39.0 x_{n1}^{2} x_{n2}^{3} + 40.0 x_{n1} x_{n2}^{4} - 16.0 x_{n2}^{5}}\\\\\\frac{E \\left(- 0.375 x_{n0}^{3} \\log{\\left(- 1.5 x_{n0} - 0.5 x_{n1} + 2.0 x_{n2} \\right)} + 0.375 x_{n0}^{3} \\log{\\left(0.5 x_{n0} + 1.5 x_{n1} - 2.0 x_{n2} \\right)} + 0.75 x_{n0}^{3} - 0.875 x_{n0}^{2} x_{n1} \\log{\\left(- 1.5 x_{n0} - 0.5 x_{n1} + 2.0 x_{n2} \\right)} + 0.875 x_{n0}^{2} x_{n1} \\log{\\left(0.5 x_{n0} + 1.5 x_{n1} - 2.0 x_{n2} \\right)} + 4.25 x_{n0}^{2} x_{n1} + 2.0 x_{n0}^{2} x_{n2} \\log{\\left(- 1.5 x_{n0} - 0.5 x_{n1} + 2.0 x_{n2} \\right)} - 2.0 x_{n0}^{2} x_{n2} \\log{\\left(0.5 x_{n0} + 1.5 x_{n1} - 2.0 x_{n2} \\right)} - 6.5 x_{n0}^{2} x_{n2} + 0.875 x_{n0} x_{n1}^{2} \\log{\\left(- 1.5 x_{n0} - 0.5 x_{n1} + 2.0 x_{n2} \\right)} - 0.875 x_{n0} x_{n1}^{2} \\log{\\left(0.5 x_{n0} + 1.5 x_{n1} - 2.0 x_{n2} \\right)} + 4.25 x_{n0} x_{n1}^{2} - 17.0 x_{n0} x_{n1} x_{n2} - 2.0 x_{n0} x_{n2}^{2} \\log{\\left(- 1.5 x_{n0} - 0.5 x_{n1} + 2.0 x_{n2} \\right)} + 2.0 x_{n0} x_{n2}^{2} \\log{\\left(0.5 x_{n0} + 1.5 x_{n1} - 2.0 x_{n2} \\right)} + 15.0 x_{n0} x_{n2}^{2} + 0.375 x_{n1}^{3} \\log{\\left(- 1.5 x_{n0} - 0.5 x_{n1} + 2.0 x_{n2} \\right)} - 0.375 x_{n1}^{3} \\log{\\left(0.5 x_{n0} + 1.5 x_{n1} - 2.0 x_{n2} \\right)} + 0.75 x_{n1}^{3} - 2.0 x_{n1}^{2} x_{n2} \\log{\\left(- 1.5 x_{n0} - 0.5 x_{n1} + 2.0 x_{n2} \\right)} + 2.0 x_{n1}^{2} x_{n2} \\log{\\left(0.5 x_{n0} + 1.5 x_{n1} - 2.0 x_{n2} \\right)} - 6.5 x_{n1}^{2} x_{n2} + 2.0 x_{n1} x_{n2}^{2} \\log{\\left(- 1.5 x_{n0} - 0.5 x_{n1} + 2.0 x_{n2} \\right)} - 2.0 x_{n1} x_{n2}^{2} \\log{\\left(0.5 x_{n0} + 1.5 x_{n1} - 2.0 x_{n2} \\right)} + 15.0 x_{n1} x_{n2}^{2} - 10.0 x_{n2}^{3}\\right)}{0.375 x_{n0}^{5} + 2.375 x_{n0}^{4} x_{n1} - 4.25 x_{n0}^{4} x_{n2} + 5.25 x_{n0}^{3} x_{n1}^{2} - 20.0 x_{n0}^{3} x_{n1} x_{n2} + 18.5 x_{n0}^{3} x_{n2}^{2} + 5.25 x_{n0}^{2} x_{n1}^{3} - 31.5 x_{n0}^{2} x_{n1}^{2} x_{n2} + 61.5 x_{n0}^{2} x_{n1} x_{n2}^{2} - 39.0 x_{n0}^{2} x_{n2}^{3} + 2.375 x_{n0} x_{n1}^{4} - 20.0 x_{n0} x_{n1}^{3} x_{n2} + 61.5 x_{n0} x_{n1}^{2} x_{n2}^{2} - 82.0 x_{n0} x_{n1} x_{n2}^{3} + 40.0 x_{n0} x_{n2}^{4} + 0.375 x_{n1}^{5} - 4.25 x_{n1}^{4} x_{n2} + 18.5 x_{n1}^{3} x_{n2}^{2} - 39.0 x_{n1}^{2} x_{n2}^{3} + 40.0 x_{n1} x_{n2}^{4} - 16.0 x_{n2}^{5}} & \\frac{E \\left(- 0.75 x_{n0}^{3} \\log{\\left(- 1.5 x_{n0} - 0.5 x_{n1} + 2.0 x_{n2} \\right)} + 0.75 x_{n0}^{3} \\log{\\left(0.5 x_{n0} + 1.5 x_{n1} - 2.0 x_{n2} \\right)} - 0.25 x_{n0}^{3} - 2.5 x_{n0}^{2} x_{n1} \\log{\\left(- 1.5 x_{n0} - 0.5 x_{n1} + 2.0 x_{n2} \\right)} + 2.5 x_{n0}^{2} x_{n1} \\log{\\left(0.5 x_{n0} + 1.5 x_{n1} - 2.0 x_{n2} \\right)} + 2.25 x_{n0}^{2} x_{n1} + 4.75 x_{n0}^{2} x_{n2} \\log{\\left(- 1.5 x_{n0} - 0.5 x_{n1} + 2.0 x_{n2} \\right)} - 4.75 x_{n0}^{2} x_{n2} \\log{\\left(0.5 x_{n0} + 1.5 x_{n1} - 2.0 x_{n2} \\right)} - 1.5 x_{n0}^{2} x_{n2} - 0.75 x_{n0} x_{n1}^{2} \\log{\\left(- 1.5 x_{n0} - 0.5 x_{n1} + 2.0 x_{n2} \\right)} + 0.75 x_{n0} x_{n1}^{2} \\log{\\left(0.5 x_{n0} + 1.5 x_{n1} - 2.0 x_{n2} \\right)} + 3.25 x_{n0} x_{n1}^{2} + 6.5 x_{n0} x_{n1} x_{n2} \\log{\\left(- 1.5 x_{n0} - 0.5 x_{n1} + 2.0 x_{n2} \\right)} - 6.5 x_{n0} x_{n1} x_{n2} \\log{\\left(0.5 x_{n0} + 1.5 x_{n1} - 2.0 x_{n2} \\right)} - 11.0 x_{n0} x_{n1} x_{n2} - 8.0 x_{n0} x_{n2}^{2} \\log{\\left(- 1.5 x_{n0} - 0.5 x_{n1} + 2.0 x_{n2} \\right)} + 8.0 x_{n0} x_{n2}^{2} \\log{\\left(0.5 x_{n0} + 1.5 x_{n1} - 2.0 x_{n2} \\right)} + 7.0 x_{n0} x_{n2}^{2} + 0.75 x_{n1}^{3} + 0.75 x_{n1}^{2} x_{n2} \\log{\\left(- 1.5 x_{n0} - 0.5 x_{n1} + 2.0 x_{n2} \\right)} - 0.75 x_{n1}^{2} x_{n2} \\log{\\left(0.5 x_{n0} + 1.5 x_{n1} - 2.0 x_{n2} \\right)} - 5.5 x_{n1}^{2} x_{n2} - 4.0 x_{n1} x_{n2}^{2} \\log{\\left(- 1.5 x_{n0} - 0.5 x_{n1} + 2.0 x_{n2} \\right)} + 4.0 x_{n1} x_{n2}^{2} \\log{\\left(0.5 x_{n0} + 1.5 x_{n1} - 2.0 x_{n2} \\right)} + 11.0 x_{n1} x_{n2}^{2} + 4.0 x_{n2}^{3} \\log{\\left(- 1.5 x_{n0} - 0.5 x_{n1} + 2.0 x_{n2} \\right)} - 4.0 x_{n2}^{3} \\log{\\left(0.5 x_{n0} + 1.5 x_{n1} - 2.0 x_{n2} \\right)} - 6.0 x_{n2}^{3}\\right)}{0.375 x_{n0}^{5} + 2.375 x_{n0}^{4} x_{n1} - 4.25 x_{n0}^{4} x_{n2} + 5.25 x_{n0}^{3} x_{n1}^{2} - 20.0 x_{n0}^{3} x_{n1} x_{n2} + 18.5 x_{n0}^{3} x_{n2}^{2} + 5.25 x_{n0}^{2} x_{n1}^{3} - 31.5 x_{n0}^{2} x_{n1}^{2} x_{n2} + 61.5 x_{n0}^{2} x_{n1} x_{n2}^{2} - 39.0 x_{n0}^{2} x_{n2}^{3} + 2.375 x_{n0} x_{n1}^{4} - 20.0 x_{n0} x_{n1}^{3} x_{n2} + 61.5 x_{n0} x_{n1}^{2} x_{n2}^{2} - 82.0 x_{n0} x_{n1} x_{n2}^{3} + 40.0 x_{n0} x_{n2}^{4} + 0.375 x_{n1}^{5} - 4.25 x_{n1}^{4} x_{n2} + 18.5 x_{n1}^{3} x_{n2}^{2} - 39.0 x_{n1}^{2} x_{n2}^{3} + 40.0 x_{n1} x_{n2}^{4} - 16.0 x_{n2}^{5}} & \\frac{E \\left(1.125 x_{n0}^{3} \\log{\\left(- 1.5 x_{n0} - 0.5 x_{n1} + 2.0 x_{n2} \\right)} - 1.125 x_{n0}^{3} \\log{\\left(0.5 x_{n0} + 1.5 x_{n1} - 2.0 x_{n2} \\right)} - 0.5 x_{n0}^{3} + 3.375 x_{n0}^{2} x_{n1} \\log{\\left(- 1.5 x_{n0} - 0.5 x_{n1} + 2.0 x_{n2} \\right)} - 3.375 x_{n0}^{2} x_{n1} \\log{\\left(0.5 x_{n0} + 1.5 x_{n1} - 2.0 x_{n2} \\right)} - 6.5 x_{n0}^{2} x_{n1} - 6.75 x_{n0}^{2} x_{n2} \\log{\\left(- 1.5 x_{n0} - 0.5 x_{n1} + 2.0 x_{n2} \\right)} + 6.75 x_{n0}^{2} x_{n2} \\log{\\left(0.5 x_{n0} + 1.5 x_{n1} - 2.0 x_{n2} \\right)} + 8.0 x_{n0}^{2} x_{n2} - 0.125 x_{n0} x_{n1}^{2} \\log{\\left(- 1.5 x_{n0} - 0.5 x_{n1} + 2.0 x_{n2} \\right)} + 0.125 x_{n0} x_{n1}^{2} \\log{\\left(0.5 x_{n0} + 1.5 x_{n1} - 2.0 x_{n2} \\right)} - 7.5 x_{n0} x_{n1}^{2} - 6.5 x_{n0} x_{n1} x_{n2} \\log{\\left(- 1.5 x_{n0} - 0.5 x_{n1} + 2.0 x_{n2} \\right)} + 6.5 x_{n0} x_{n1} x_{n2} \\log{\\left(0.5 x_{n0} + 1.5 x_{n1} - 2.0 x_{n2} \\right)} + 28.0 x_{n0} x_{n1} x_{n2} + 10.0 x_{n0} x_{n2}^{2} \\log{\\left(- 1.5 x_{n0} - 0.5 x_{n1} + 2.0 x_{n2} \\right)} - 10.0 x_{n0} x_{n2}^{2} \\log{\\left(0.5 x_{n0} + 1.5 x_{n1} - 2.0 x_{n2} \\right)} - 22.0 x_{n0} x_{n2}^{2} - 0.375 x_{n1}^{3} \\log{\\left(- 1.5 x_{n0} - 0.5 x_{n1} + 2.0 x_{n2} \\right)} + 0.375 x_{n1}^{3} \\log{\\left(0.5 x_{n0} + 1.5 x_{n1} - 2.0 x_{n2} \\right)} - 1.5 x_{n1}^{3} + 1.25 x_{n1}^{2} x_{n2} \\log{\\left(- 1.5 x_{n0} - 0.5 x_{n1} + 2.0 x_{n2} \\right)} - 1.25 x_{n1}^{2} x_{n2} \\log{\\left(0.5 x_{n0} + 1.5 x_{n1} - 2.0 x_{n2} \\right)} + 12.0 x_{n1}^{2} x_{n2} + 2.0 x_{n1} x_{n2}^{2} \\log{\\left(- 1.5 x_{n0} - 0.5 x_{n1} + 2.0 x_{n2} \\right)} - 2.0 x_{n1} x_{n2}^{2} \\log{\\left(0.5 x_{n0} + 1.5 x_{n1} - 2.0 x_{n2} \\right)} - 26.0 x_{n1} x_{n2}^{2} - 4.0 x_{n2}^{3} \\log{\\left(- 1.5 x_{n0} - 0.5 x_{n1} + 2.0 x_{n2} \\right)} + 4.0 x_{n2}^{3} \\log{\\left(0.5 x_{n0} + 1.5 x_{n1} - 2.0 x_{n2} \\right)} + 16.0 x_{n2}^{3}\\right)}{0.375 x_{n0}^{5} + 2.375 x_{n0}^{4} x_{n1} - 4.25 x_{n0}^{4} x_{n2} + 5.25 x_{n0}^{3} x_{n1}^{2} - 20.0 x_{n0}^{3} x_{n1} x_{n2} + 18.5 x_{n0}^{3} x_{n2}^{2} + 5.25 x_{n0}^{2} x_{n1}^{3} - 31.5 x_{n0}^{2} x_{n1}^{2} x_{n2} + 61.5 x_{n0}^{2} x_{n1} x_{n2}^{2} - 39.0 x_{n0}^{2} x_{n2}^{3} + 2.375 x_{n0} x_{n1}^{4} - 20.0 x_{n0} x_{n1}^{3} x_{n2} + 61.5 x_{n0} x_{n1}^{2} x_{n2}^{2} - 82.0 x_{n0} x_{n1} x_{n2}^{3} + 40.0 x_{n0} x_{n2}^{4} + 0.375 x_{n1}^{5} - 4.25 x_{n1}^{4} x_{n2} + 18.5 x_{n1}^{3} x_{n2}^{2} - 39.0 x_{n1}^{2} x_{n2}^{3} + 40.0 x_{n1} x_{n2}^{4} - 16.0 x_{n2}^{5}}\\\\\\frac{E \\left(0.375 x_{n0}^{3} \\log{\\left(- 1.5 x_{n0} - 0.5 x_{n1} + 2.0 x_{n2} \\right)} - 0.375 x_{n0}^{3} \\log{\\left(0.5 x_{n0} + 1.5 x_{n1} - 2.0 x_{n2} \\right)} - 1.5 x_{n0}^{3} + 0.125 x_{n0}^{2} x_{n1} \\log{\\left(- 1.5 x_{n0} - 0.5 x_{n1} + 2.0 x_{n2} \\right)} - 0.125 x_{n0}^{2} x_{n1} \\log{\\left(0.5 x_{n0} + 1.5 x_{n1} - 2.0 x_{n2} \\right)} - 7.5 x_{n0}^{2} x_{n1} - 1.25 x_{n0}^{2} x_{n2} \\log{\\left(- 1.5 x_{n0} - 0.5 x_{n1} + 2.0 x_{n2} \\right)} + 1.25 x_{n0}^{2} x_{n2} \\log{\\left(0.5 x_{n0} + 1.5 x_{n1} - 2.0 x_{n2} \\right)} + 12.0 x_{n0}^{2} x_{n2} - 3.375 x_{n0} x_{n1}^{2} \\log{\\left(- 1.5 x_{n0} - 0.5 x_{n1} + 2.0 x_{n2} \\right)} + 3.375 x_{n0} x_{n1}^{2} \\log{\\left(0.5 x_{n0} + 1.5 x_{n1} - 2.0 x_{n2} \\right)} - 6.5 x_{n0} x_{n1}^{2} + 6.5 x_{n0} x_{n1} x_{n2} \\log{\\left(- 1.5 x_{n0} - 0.5 x_{n1} + 2.0 x_{n2} \\right)} - 6.5 x_{n0} x_{n1} x_{n2} \\log{\\left(0.5 x_{n0} + 1.5 x_{n1} - 2.0 x_{n2} \\right)} + 28.0 x_{n0} x_{n1} x_{n2} - 2.0 x_{n0} x_{n2}^{2} \\log{\\left(- 1.5 x_{n0} - 0.5 x_{n1} + 2.0 x_{n2} \\right)} + 2.0 x_{n0} x_{n2}^{2} \\log{\\left(0.5 x_{n0} + 1.5 x_{n1} - 2.0 x_{n2} \\right)} - 26.0 x_{n0} x_{n2}^{2} - 1.125 x_{n1}^{3} \\log{\\left(- 1.5 x_{n0} - 0.5 x_{n1} + 2.0 x_{n2} \\right)} + 1.125 x_{n1}^{3} \\log{\\left(0.5 x_{n0} + 1.5 x_{n1} - 2.0 x_{n2} \\right)} - 0.5 x_{n1}^{3} + 6.75 x_{n1}^{2} x_{n2} \\log{\\left(- 1.5 x_{n0} - 0.5 x_{n1} + 2.0 x_{n2} \\right)} - 6.75 x_{n1}^{2} x_{n2} \\log{\\left(0.5 x_{n0} + 1.5 x_{n1} - 2.0 x_{n2} \\right)} + 8.0 x_{n1}^{2} x_{n2} - 10.0 x_{n1} x_{n2}^{2} \\log{\\left(- 1.5 x_{n0} - 0.5 x_{n1} + 2.0 x_{n2} \\right)} + 10.0 x_{n1} x_{n2}^{2} \\log{\\left(0.5 x_{n0} + 1.5 x_{n1} - 2.0 x_{n2} \\right)} - 22.0 x_{n1} x_{n2}^{2} + 4.0 x_{n2}^{3} \\log{\\left(- 1.5 x_{n0} - 0.5 x_{n1} + 2.0 x_{n2} \\right)} - 4.0 x_{n2}^{3} \\log{\\left(0.5 x_{n0} + 1.5 x_{n1} - 2.0 x_{n2} \\right)} + 16.0 x_{n2}^{3}\\right)}{0.375 x_{n0}^{5} + 2.375 x_{n0}^{4} x_{n1} - 4.25 x_{n0}^{4} x_{n2} + 5.25 x_{n0}^{3} x_{n1}^{2} - 20.0 x_{n0}^{3} x_{n1} x_{n2} + 18.5 x_{n0}^{3} x_{n2}^{2} + 5.25 x_{n0}^{2} x_{n1}^{3} - 31.5 x_{n0}^{2} x_{n1}^{2} x_{n2} + 61.5 x_{n0}^{2} x_{n1} x_{n2}^{2} - 39.0 x_{n0}^{2} x_{n2}^{3} + 2.375 x_{n0} x_{n1}^{4} - 20.0 x_{n0} x_{n1}^{3} x_{n2} + 61.5 x_{n0} x_{n1}^{2} x_{n2}^{2} - 82.0 x_{n0} x_{n1} x_{n2}^{3} + 40.0 x_{n0} x_{n2}^{4} + 0.375 x_{n1}^{5} - 4.25 x_{n1}^{4} x_{n2} + 18.5 x_{n1}^{3} x_{n2}^{2} - 39.0 x_{n1}^{2} x_{n2}^{3} + 40.0 x_{n1} x_{n2}^{4} - 16.0 x_{n2}^{5}} & \\frac{E \\left(1.125 x_{n0}^{3} \\log{\\left(- 1.5 x_{n0} - 0.5 x_{n1} + 2.0 x_{n2} \\right)} - 1.125 x_{n0}^{3} \\log{\\left(0.5 x_{n0} + 1.5 x_{n1} - 2.0 x_{n2} \\right)} - 0.5 x_{n0}^{3} + 3.375 x_{n0}^{2} x_{n1} \\log{\\left(- 1.5 x_{n0} - 0.5 x_{n1} + 2.0 x_{n2} \\right)} - 3.375 x_{n0}^{2} x_{n1} \\log{\\left(0.5 x_{n0} + 1.5 x_{n1} - 2.0 x_{n2} \\right)} - 6.5 x_{n0}^{2} x_{n1} - 6.75 x_{n0}^{2} x_{n2} \\log{\\left(- 1.5 x_{n0} - 0.5 x_{n1} + 2.0 x_{n2} \\right)} + 6.75 x_{n0}^{2} x_{n2} \\log{\\left(0.5 x_{n0} + 1.5 x_{n1} - 2.0 x_{n2} \\right)} + 8.0 x_{n0}^{2} x_{n2} - 0.125 x_{n0} x_{n1}^{2} \\log{\\left(- 1.5 x_{n0} - 0.5 x_{n1} + 2.0 x_{n2} \\right)} + 0.125 x_{n0} x_{n1}^{2} \\log{\\left(0.5 x_{n0} + 1.5 x_{n1} - 2.0 x_{n2} \\right)} - 7.5 x_{n0} x_{n1}^{2} - 6.5 x_{n0} x_{n1} x_{n2} \\log{\\left(- 1.5 x_{n0} - 0.5 x_{n1} + 2.0 x_{n2} \\right)} + 6.5 x_{n0} x_{n1} x_{n2} \\log{\\left(0.5 x_{n0} + 1.5 x_{n1} - 2.0 x_{n2} \\right)} + 28.0 x_{n0} x_{n1} x_{n2} + 10.0 x_{n0} x_{n2}^{2} \\log{\\left(- 1.5 x_{n0} - 0.5 x_{n1} + 2.0 x_{n2} \\right)} - 10.0 x_{n0} x_{n2}^{2} \\log{\\left(0.5 x_{n0} + 1.5 x_{n1} - 2.0 x_{n2} \\right)} - 22.0 x_{n0} x_{n2}^{2} - 0.375 x_{n1}^{3} \\log{\\left(- 1.5 x_{n0} - 0.5 x_{n1} + 2.0 x_{n2} \\right)} + 0.375 x_{n1}^{3} \\log{\\left(0.5 x_{n0} + 1.5 x_{n1} - 2.0 x_{n2} \\right)} - 1.5 x_{n1}^{3} + 1.25 x_{n1}^{2} x_{n2} \\log{\\left(- 1.5 x_{n0} - 0.5 x_{n1} + 2.0 x_{n2} \\right)} - 1.25 x_{n1}^{2} x_{n2} \\log{\\left(0.5 x_{n0} + 1.5 x_{n1} - 2.0 x_{n2} \\right)} + 12.0 x_{n1}^{2} x_{n2} + 2.0 x_{n1} x_{n2}^{2} \\log{\\left(- 1.5 x_{n0} - 0.5 x_{n1} + 2.0 x_{n2} \\right)} - 2.0 x_{n1} x_{n2}^{2} \\log{\\left(0.5 x_{n0} + 1.5 x_{n1} - 2.0 x_{n2} \\right)} - 26.0 x_{n1} x_{n2}^{2} - 4.0 x_{n2}^{3} \\log{\\left(- 1.5 x_{n0} - 0.5 x_{n1} + 2.0 x_{n2} \\right)} + 4.0 x_{n2}^{3} \\log{\\left(0.5 x_{n0} + 1.5 x_{n1} - 2.0 x_{n2} \\right)} + 16.0 x_{n2}^{3}\\right)}{0.375 x_{n0}^{5} + 2.375 x_{n0}^{4} x_{n1} - 4.25 x_{n0}^{4} x_{n2} + 5.25 x_{n0}^{3} x_{n1}^{2} - 20.0 x_{n0}^{3} x_{n1} x_{n2} + 18.5 x_{n0}^{3} x_{n2}^{2} + 5.25 x_{n0}^{2} x_{n1}^{3} - 31.5 x_{n0}^{2} x_{n1}^{2} x_{n2} + 61.5 x_{n0}^{2} x_{n1} x_{n2}^{2} - 39.0 x_{n0}^{2} x_{n2}^{3} + 2.375 x_{n0} x_{n1}^{4} - 20.0 x_{n0} x_{n1}^{3} x_{n2} + 61.5 x_{n0} x_{n1}^{2} x_{n2}^{2} - 82.0 x_{n0} x_{n1} x_{n2}^{3} + 40.0 x_{n0} x_{n2}^{4} + 0.375 x_{n1}^{5} - 4.25 x_{n1}^{4} x_{n2} + 18.5 x_{n1}^{3} x_{n2}^{2} - 39.0 x_{n1}^{2} x_{n2}^{3} + 40.0 x_{n1} x_{n2}^{4} - 16.0 x_{n2}^{5}} & \\frac{E \\left(- 1.5 x_{n0}^{3} \\log{\\left(- 1.5 x_{n0} - 0.5 x_{n1} + 2.0 x_{n2} \\right)} + 1.5 x_{n0}^{3} \\log{\\left(0.5 x_{n0} + 1.5 x_{n1} - 2.0 x_{n2} \\right)} + 2.0 x_{n0}^{3} - 3.5 x_{n0}^{2} x_{n1} \\log{\\left(- 1.5 x_{n0} - 0.5 x_{n1} + 2.0 x_{n2} \\right)} + 3.5 x_{n0}^{2} x_{n1} \\log{\\left(0.5 x_{n0} + 1.5 x_{n1} - 2.0 x_{n2} \\right)} + 14.0 x_{n0}^{2} x_{n1} + 8.0 x_{n0}^{2} x_{n2} \\log{\\left(- 1.5 x_{n0} - 0.5 x_{n1} + 2.0 x_{n2} \\right)} - 8.0 x_{n0}^{2} x_{n2} \\log{\\left(0.5 x_{n0} + 1.5 x_{n1} - 2.0 x_{n2} \\right)} - 20.0 x_{n0}^{2} x_{n2} + 3.5 x_{n0} x_{n1}^{2} \\log{\\left(- 1.5 x_{n0} - 0.5 x_{n1} + 2.0 x_{n2} \\right)} - 3.5 x_{n0} x_{n1}^{2} \\log{\\left(0.5 x_{n0} + 1.5 x_{n1} - 2.0 x_{n2} \\right)} + 14.0 x_{n0} x_{n1}^{2} - 56.0 x_{n0} x_{n1} x_{n2} - 8.0 x_{n0} x_{n2}^{2} \\log{\\left(- 1.5 x_{n0} - 0.5 x_{n1} + 2.0 x_{n2} \\right)} + 8.0 x_{n0} x_{n2}^{2} \\log{\\left(0.5 x_{n0} + 1.5 x_{n1} - 2.0 x_{n2} \\right)} + 48.0 x_{n0} x_{n2}^{2} + 1.5 x_{n1}^{3} \\log{\\left(- 1.5 x_{n0} - 0.5 x_{n1} + 2.0 x_{n2} \\right)} - 1.5 x_{n1}^{3} \\log{\\left(0.5 x_{n0} + 1.5 x_{n1} - 2.0 x_{n2} \\right)} + 2.0 x_{n1}^{3} - 8.0 x_{n1}^{2} x_{n2} \\log{\\left(- 1.5 x_{n0} - 0.5 x_{n1} + 2.0 x_{n2} \\right)} + 8.0 x_{n1}^{2} x_{n2} \\log{\\left(0.5 x_{n0} + 1.5 x_{n1} - 2.0 x_{n2} \\right)} - 20.0 x_{n1}^{2} x_{n2} + 8.0 x_{n1} x_{n2}^{2} \\log{\\left(- 1.5 x_{n0} - 0.5 x_{n1} + 2.0 x_{n2} \\right)} - 8.0 x_{n1} x_{n2}^{2} \\log{\\left(0.5 x_{n0} + 1.5 x_{n1} - 2.0 x_{n2} \\right)} + 48.0 x_{n1} x_{n2}^{2} - 32.0 x_{n2}^{3}\\right)}{0.375 x_{n0}^{5} + 2.375 x_{n0}^{4} x_{n1} - 4.25 x_{n0}^{4} x_{n2} + 5.25 x_{n0}^{3} x_{n1}^{2} - 20.0 x_{n0}^{3} x_{n1} x_{n2} + 18.5 x_{n0}^{3} x_{n2}^{2} + 5.25 x_{n0}^{2} x_{n1}^{3} - 31.5 x_{n0}^{2} x_{n1}^{2} x_{n2} + 61.5 x_{n0}^{2} x_{n1} x_{n2}^{2} - 39.0 x_{n0}^{2} x_{n2}^{3} + 2.375 x_{n0} x_{n1}^{4} - 20.0 x_{n0} x_{n1}^{3} x_{n2} + 61.5 x_{n0} x_{n1}^{2} x_{n2}^{2} - 82.0 x_{n0} x_{n1} x_{n2}^{3} + 40.0 x_{n0} x_{n2}^{4} + 0.375 x_{n1}^{5} - 4.25 x_{n1}^{4} x_{n2} + 18.5 x_{n1}^{3} x_{n2}^{2} - 39.0 x_{n1}^{2} x_{n2}^{3} + 40.0 x_{n1} x_{n2}^{4} - 16.0 x_{n2}^{5}}\\end{matrix}\\right]$"
      ],
      "text/plain": [
       "Matrix([\n",
       "[                                                                                                                  E*(0.75*x_n0**3 + 0.75*x_n0**2*x_n1*log(-1.5*x_n0 - 0.5*x_n1 + 2.0*x_n2) - 0.75*x_n0**2*x_n1*log(0.5*x_n0 + 1.5*x_n1 - 2.0*x_n2) + 3.25*x_n0**2*x_n1 - 0.75*x_n0**2*x_n2*log(-1.5*x_n0 - 0.5*x_n1 + 2.0*x_n2) + 0.75*x_n0**2*x_n2*log(0.5*x_n0 + 1.5*x_n1 - 2.0*x_n2) - 5.5*x_n0**2*x_n2 + 2.5*x_n0*x_n1**2*log(-1.5*x_n0 - 0.5*x_n1 + 2.0*x_n2) - 2.5*x_n0*x_n1**2*log(0.5*x_n0 + 1.5*x_n1 - 2.0*x_n2) + 2.25*x_n0*x_n1**2 - 6.5*x_n0*x_n1*x_n2*log(-1.5*x_n0 - 0.5*x_n1 + 2.0*x_n2) + 6.5*x_n0*x_n1*x_n2*log(0.5*x_n0 + 1.5*x_n1 - 2.0*x_n2) - 11.0*x_n0*x_n1*x_n2 + 4.0*x_n0*x_n2**2*log(-1.5*x_n0 - 0.5*x_n1 + 2.0*x_n2) - 4.0*x_n0*x_n2**2*log(0.5*x_n0 + 1.5*x_n1 - 2.0*x_n2) + 11.0*x_n0*x_n2**2 + 0.75*x_n1**3*log(-1.5*x_n0 - 0.5*x_n1 + 2.0*x_n2) - 0.75*x_n1**3*log(0.5*x_n0 + 1.5*x_n1 - 2.0*x_n2) - 0.25*x_n1**3 - 4.75*x_n1**2*x_n2*log(-1.5*x_n0 - 0.5*x_n1 + 2.0*x_n2) + 4.75*x_n1**2*x_n2*log(0.5*x_n0 + 1.5*x_n1 - 2.0*x_n2) - 1.5*x_n1**2*x_n2 + 8.0*x_n1*x_n2**2*log(-1.5*x_n0 - 0.5*x_n1 + 2.0*x_n2) - 8.0*x_n1*x_n2**2*log(0.5*x_n0 + 1.5*x_n1 - 2.0*x_n2) + 7.0*x_n1*x_n2**2 - 4.0*x_n2**3*log(-1.5*x_n0 - 0.5*x_n1 + 2.0*x_n2) + 4.0*x_n2**3*log(0.5*x_n0 + 1.5*x_n1 - 2.0*x_n2) - 6.0*x_n2**3)/(0.375*x_n0**5 + 2.375*x_n0**4*x_n1 - 4.25*x_n0**4*x_n2 + 5.25*x_n0**3*x_n1**2 - 20.0*x_n0**3*x_n1*x_n2 + 18.5*x_n0**3*x_n2**2 + 5.25*x_n0**2*x_n1**3 - 31.5*x_n0**2*x_n1**2*x_n2 + 61.5*x_n0**2*x_n1*x_n2**2 - 39.0*x_n0**2*x_n2**3 + 2.375*x_n0*x_n1**4 - 20.0*x_n0*x_n1**3*x_n2 + 61.5*x_n0*x_n1**2*x_n2**2 - 82.0*x_n0*x_n1*x_n2**3 + 40.0*x_n0*x_n2**4 + 0.375*x_n1**5 - 4.25*x_n1**4*x_n2 + 18.5*x_n1**3*x_n2**2 - 39.0*x_n1**2*x_n2**3 + 40.0*x_n1*x_n2**4 - 16.0*x_n2**5),                                                                                                                                                                                                                           E*(-0.375*x_n0**3*log(-1.5*x_n0 - 0.5*x_n1 + 2.0*x_n2) + 0.375*x_n0**3*log(0.5*x_n0 + 1.5*x_n1 - 2.0*x_n2) + 0.75*x_n0**3 - 0.875*x_n0**2*x_n1*log(-1.5*x_n0 - 0.5*x_n1 + 2.0*x_n2) + 0.875*x_n0**2*x_n1*log(0.5*x_n0 + 1.5*x_n1 - 2.0*x_n2) + 4.25*x_n0**2*x_n1 + 2.0*x_n0**2*x_n2*log(-1.5*x_n0 - 0.5*x_n1 + 2.0*x_n2) - 2.0*x_n0**2*x_n2*log(0.5*x_n0 + 1.5*x_n1 - 2.0*x_n2) - 6.5*x_n0**2*x_n2 + 0.875*x_n0*x_n1**2*log(-1.5*x_n0 - 0.5*x_n1 + 2.0*x_n2) - 0.875*x_n0*x_n1**2*log(0.5*x_n0 + 1.5*x_n1 - 2.0*x_n2) + 4.25*x_n0*x_n1**2 - 17.0*x_n0*x_n1*x_n2 - 2.0*x_n0*x_n2**2*log(-1.5*x_n0 - 0.5*x_n1 + 2.0*x_n2) + 2.0*x_n0*x_n2**2*log(0.5*x_n0 + 1.5*x_n1 - 2.0*x_n2) + 15.0*x_n0*x_n2**2 + 0.375*x_n1**3*log(-1.5*x_n0 - 0.5*x_n1 + 2.0*x_n2) - 0.375*x_n1**3*log(0.5*x_n0 + 1.5*x_n1 - 2.0*x_n2) + 0.75*x_n1**3 - 2.0*x_n1**2*x_n2*log(-1.5*x_n0 - 0.5*x_n1 + 2.0*x_n2) + 2.0*x_n1**2*x_n2*log(0.5*x_n0 + 1.5*x_n1 - 2.0*x_n2) - 6.5*x_n1**2*x_n2 + 2.0*x_n1*x_n2**2*log(-1.5*x_n0 - 0.5*x_n1 + 2.0*x_n2) - 2.0*x_n1*x_n2**2*log(0.5*x_n0 + 1.5*x_n1 - 2.0*x_n2) + 15.0*x_n1*x_n2**2 - 10.0*x_n2**3)/(0.375*x_n0**5 + 2.375*x_n0**4*x_n1 - 4.25*x_n0**4*x_n2 + 5.25*x_n0**3*x_n1**2 - 20.0*x_n0**3*x_n1*x_n2 + 18.5*x_n0**3*x_n2**2 + 5.25*x_n0**2*x_n1**3 - 31.5*x_n0**2*x_n1**2*x_n2 + 61.5*x_n0**2*x_n1*x_n2**2 - 39.0*x_n0**2*x_n2**3 + 2.375*x_n0*x_n1**4 - 20.0*x_n0*x_n1**3*x_n2 + 61.5*x_n0*x_n1**2*x_n2**2 - 82.0*x_n0*x_n1*x_n2**3 + 40.0*x_n0*x_n2**4 + 0.375*x_n1**5 - 4.25*x_n1**4*x_n2 + 18.5*x_n1**3*x_n2**2 - 39.0*x_n1**2*x_n2**3 + 40.0*x_n1*x_n2**4 - 16.0*x_n2**5), E*(0.375*x_n0**3*log(-1.5*x_n0 - 0.5*x_n1 + 2.0*x_n2) - 0.375*x_n0**3*log(0.5*x_n0 + 1.5*x_n1 - 2.0*x_n2) - 1.5*x_n0**3 + 0.125*x_n0**2*x_n1*log(-1.5*x_n0 - 0.5*x_n1 + 2.0*x_n2) - 0.125*x_n0**2*x_n1*log(0.5*x_n0 + 1.5*x_n1 - 2.0*x_n2) - 7.5*x_n0**2*x_n1 - 1.25*x_n0**2*x_n2*log(-1.5*x_n0 - 0.5*x_n1 + 2.0*x_n2) + 1.25*x_n0**2*x_n2*log(0.5*x_n0 + 1.5*x_n1 - 2.0*x_n2) + 12.0*x_n0**2*x_n2 - 3.375*x_n0*x_n1**2*log(-1.5*x_n0 - 0.5*x_n1 + 2.0*x_n2) + 3.375*x_n0*x_n1**2*log(0.5*x_n0 + 1.5*x_n1 - 2.0*x_n2) - 6.5*x_n0*x_n1**2 + 6.5*x_n0*x_n1*x_n2*log(-1.5*x_n0 - 0.5*x_n1 + 2.0*x_n2) - 6.5*x_n0*x_n1*x_n2*log(0.5*x_n0 + 1.5*x_n1 - 2.0*x_n2) + 28.0*x_n0*x_n1*x_n2 - 2.0*x_n0*x_n2**2*log(-1.5*x_n0 - 0.5*x_n1 + 2.0*x_n2) + 2.0*x_n0*x_n2**2*log(0.5*x_n0 + 1.5*x_n1 - 2.0*x_n2) - 26.0*x_n0*x_n2**2 - 1.125*x_n1**3*log(-1.5*x_n0 - 0.5*x_n1 + 2.0*x_n2) + 1.125*x_n1**3*log(0.5*x_n0 + 1.5*x_n1 - 2.0*x_n2) - 0.5*x_n1**3 + 6.75*x_n1**2*x_n2*log(-1.5*x_n0 - 0.5*x_n1 + 2.0*x_n2) - 6.75*x_n1**2*x_n2*log(0.5*x_n0 + 1.5*x_n1 - 2.0*x_n2) + 8.0*x_n1**2*x_n2 - 10.0*x_n1*x_n2**2*log(-1.5*x_n0 - 0.5*x_n1 + 2.0*x_n2) + 10.0*x_n1*x_n2**2*log(0.5*x_n0 + 1.5*x_n1 - 2.0*x_n2) - 22.0*x_n1*x_n2**2 + 4.0*x_n2**3*log(-1.5*x_n0 - 0.5*x_n1 + 2.0*x_n2) - 4.0*x_n2**3*log(0.5*x_n0 + 1.5*x_n1 - 2.0*x_n2) + 16.0*x_n2**3)/(0.375*x_n0**5 + 2.375*x_n0**4*x_n1 - 4.25*x_n0**4*x_n2 + 5.25*x_n0**3*x_n1**2 - 20.0*x_n0**3*x_n1*x_n2 + 18.5*x_n0**3*x_n2**2 + 5.25*x_n0**2*x_n1**3 - 31.5*x_n0**2*x_n1**2*x_n2 + 61.5*x_n0**2*x_n1*x_n2**2 - 39.0*x_n0**2*x_n2**3 + 2.375*x_n0*x_n1**4 - 20.0*x_n0*x_n1**3*x_n2 + 61.5*x_n0*x_n1**2*x_n2**2 - 82.0*x_n0*x_n1*x_n2**3 + 40.0*x_n0*x_n2**4 + 0.375*x_n1**5 - 4.25*x_n1**4*x_n2 + 18.5*x_n1**3*x_n2**2 - 39.0*x_n1**2*x_n2**3 + 40.0*x_n1*x_n2**4 - 16.0*x_n2**5)],\n",
       "[                                                                                                                                                                                                                          E*(-0.375*x_n0**3*log(-1.5*x_n0 - 0.5*x_n1 + 2.0*x_n2) + 0.375*x_n0**3*log(0.5*x_n0 + 1.5*x_n1 - 2.0*x_n2) + 0.75*x_n0**3 - 0.875*x_n0**2*x_n1*log(-1.5*x_n0 - 0.5*x_n1 + 2.0*x_n2) + 0.875*x_n0**2*x_n1*log(0.5*x_n0 + 1.5*x_n1 - 2.0*x_n2) + 4.25*x_n0**2*x_n1 + 2.0*x_n0**2*x_n2*log(-1.5*x_n0 - 0.5*x_n1 + 2.0*x_n2) - 2.0*x_n0**2*x_n2*log(0.5*x_n0 + 1.5*x_n1 - 2.0*x_n2) - 6.5*x_n0**2*x_n2 + 0.875*x_n0*x_n1**2*log(-1.5*x_n0 - 0.5*x_n1 + 2.0*x_n2) - 0.875*x_n0*x_n1**2*log(0.5*x_n0 + 1.5*x_n1 - 2.0*x_n2) + 4.25*x_n0*x_n1**2 - 17.0*x_n0*x_n1*x_n2 - 2.0*x_n0*x_n2**2*log(-1.5*x_n0 - 0.5*x_n1 + 2.0*x_n2) + 2.0*x_n0*x_n2**2*log(0.5*x_n0 + 1.5*x_n1 - 2.0*x_n2) + 15.0*x_n0*x_n2**2 + 0.375*x_n1**3*log(-1.5*x_n0 - 0.5*x_n1 + 2.0*x_n2) - 0.375*x_n1**3*log(0.5*x_n0 + 1.5*x_n1 - 2.0*x_n2) + 0.75*x_n1**3 - 2.0*x_n1**2*x_n2*log(-1.5*x_n0 - 0.5*x_n1 + 2.0*x_n2) + 2.0*x_n1**2*x_n2*log(0.5*x_n0 + 1.5*x_n1 - 2.0*x_n2) - 6.5*x_n1**2*x_n2 + 2.0*x_n1*x_n2**2*log(-1.5*x_n0 - 0.5*x_n1 + 2.0*x_n2) - 2.0*x_n1*x_n2**2*log(0.5*x_n0 + 1.5*x_n1 - 2.0*x_n2) + 15.0*x_n1*x_n2**2 - 10.0*x_n2**3)/(0.375*x_n0**5 + 2.375*x_n0**4*x_n1 - 4.25*x_n0**4*x_n2 + 5.25*x_n0**3*x_n1**2 - 20.0*x_n0**3*x_n1*x_n2 + 18.5*x_n0**3*x_n2**2 + 5.25*x_n0**2*x_n1**3 - 31.5*x_n0**2*x_n1**2*x_n2 + 61.5*x_n0**2*x_n1*x_n2**2 - 39.0*x_n0**2*x_n2**3 + 2.375*x_n0*x_n1**4 - 20.0*x_n0*x_n1**3*x_n2 + 61.5*x_n0*x_n1**2*x_n2**2 - 82.0*x_n0*x_n1*x_n2**3 + 40.0*x_n0*x_n2**4 + 0.375*x_n1**5 - 4.25*x_n1**4*x_n2 + 18.5*x_n1**3*x_n2**2 - 39.0*x_n1**2*x_n2**3 + 40.0*x_n1*x_n2**4 - 16.0*x_n2**5),                                                                                                                  E*(-0.75*x_n0**3*log(-1.5*x_n0 - 0.5*x_n1 + 2.0*x_n2) + 0.75*x_n0**3*log(0.5*x_n0 + 1.5*x_n1 - 2.0*x_n2) - 0.25*x_n0**3 - 2.5*x_n0**2*x_n1*log(-1.5*x_n0 - 0.5*x_n1 + 2.0*x_n2) + 2.5*x_n0**2*x_n1*log(0.5*x_n0 + 1.5*x_n1 - 2.0*x_n2) + 2.25*x_n0**2*x_n1 + 4.75*x_n0**2*x_n2*log(-1.5*x_n0 - 0.5*x_n1 + 2.0*x_n2) - 4.75*x_n0**2*x_n2*log(0.5*x_n0 + 1.5*x_n1 - 2.0*x_n2) - 1.5*x_n0**2*x_n2 - 0.75*x_n0*x_n1**2*log(-1.5*x_n0 - 0.5*x_n1 + 2.0*x_n2) + 0.75*x_n0*x_n1**2*log(0.5*x_n0 + 1.5*x_n1 - 2.0*x_n2) + 3.25*x_n0*x_n1**2 + 6.5*x_n0*x_n1*x_n2*log(-1.5*x_n0 - 0.5*x_n1 + 2.0*x_n2) - 6.5*x_n0*x_n1*x_n2*log(0.5*x_n0 + 1.5*x_n1 - 2.0*x_n2) - 11.0*x_n0*x_n1*x_n2 - 8.0*x_n0*x_n2**2*log(-1.5*x_n0 - 0.5*x_n1 + 2.0*x_n2) + 8.0*x_n0*x_n2**2*log(0.5*x_n0 + 1.5*x_n1 - 2.0*x_n2) + 7.0*x_n0*x_n2**2 + 0.75*x_n1**3 + 0.75*x_n1**2*x_n2*log(-1.5*x_n0 - 0.5*x_n1 + 2.0*x_n2) - 0.75*x_n1**2*x_n2*log(0.5*x_n0 + 1.5*x_n1 - 2.0*x_n2) - 5.5*x_n1**2*x_n2 - 4.0*x_n1*x_n2**2*log(-1.5*x_n0 - 0.5*x_n1 + 2.0*x_n2) + 4.0*x_n1*x_n2**2*log(0.5*x_n0 + 1.5*x_n1 - 2.0*x_n2) + 11.0*x_n1*x_n2**2 + 4.0*x_n2**3*log(-1.5*x_n0 - 0.5*x_n1 + 2.0*x_n2) - 4.0*x_n2**3*log(0.5*x_n0 + 1.5*x_n1 - 2.0*x_n2) - 6.0*x_n2**3)/(0.375*x_n0**5 + 2.375*x_n0**4*x_n1 - 4.25*x_n0**4*x_n2 + 5.25*x_n0**3*x_n1**2 - 20.0*x_n0**3*x_n1*x_n2 + 18.5*x_n0**3*x_n2**2 + 5.25*x_n0**2*x_n1**3 - 31.5*x_n0**2*x_n1**2*x_n2 + 61.5*x_n0**2*x_n1*x_n2**2 - 39.0*x_n0**2*x_n2**3 + 2.375*x_n0*x_n1**4 - 20.0*x_n0*x_n1**3*x_n2 + 61.5*x_n0*x_n1**2*x_n2**2 - 82.0*x_n0*x_n1*x_n2**3 + 40.0*x_n0*x_n2**4 + 0.375*x_n1**5 - 4.25*x_n1**4*x_n2 + 18.5*x_n1**3*x_n2**2 - 39.0*x_n1**2*x_n2**3 + 40.0*x_n1*x_n2**4 - 16.0*x_n2**5), E*(1.125*x_n0**3*log(-1.5*x_n0 - 0.5*x_n1 + 2.0*x_n2) - 1.125*x_n0**3*log(0.5*x_n0 + 1.5*x_n1 - 2.0*x_n2) - 0.5*x_n0**3 + 3.375*x_n0**2*x_n1*log(-1.5*x_n0 - 0.5*x_n1 + 2.0*x_n2) - 3.375*x_n0**2*x_n1*log(0.5*x_n0 + 1.5*x_n1 - 2.0*x_n2) - 6.5*x_n0**2*x_n1 - 6.75*x_n0**2*x_n2*log(-1.5*x_n0 - 0.5*x_n1 + 2.0*x_n2) + 6.75*x_n0**2*x_n2*log(0.5*x_n0 + 1.5*x_n1 - 2.0*x_n2) + 8.0*x_n0**2*x_n2 - 0.125*x_n0*x_n1**2*log(-1.5*x_n0 - 0.5*x_n1 + 2.0*x_n2) + 0.125*x_n0*x_n1**2*log(0.5*x_n0 + 1.5*x_n1 - 2.0*x_n2) - 7.5*x_n0*x_n1**2 - 6.5*x_n0*x_n1*x_n2*log(-1.5*x_n0 - 0.5*x_n1 + 2.0*x_n2) + 6.5*x_n0*x_n1*x_n2*log(0.5*x_n0 + 1.5*x_n1 - 2.0*x_n2) + 28.0*x_n0*x_n1*x_n2 + 10.0*x_n0*x_n2**2*log(-1.5*x_n0 - 0.5*x_n1 + 2.0*x_n2) - 10.0*x_n0*x_n2**2*log(0.5*x_n0 + 1.5*x_n1 - 2.0*x_n2) - 22.0*x_n0*x_n2**2 - 0.375*x_n1**3*log(-1.5*x_n0 - 0.5*x_n1 + 2.0*x_n2) + 0.375*x_n1**3*log(0.5*x_n0 + 1.5*x_n1 - 2.0*x_n2) - 1.5*x_n1**3 + 1.25*x_n1**2*x_n2*log(-1.5*x_n0 - 0.5*x_n1 + 2.0*x_n2) - 1.25*x_n1**2*x_n2*log(0.5*x_n0 + 1.5*x_n1 - 2.0*x_n2) + 12.0*x_n1**2*x_n2 + 2.0*x_n1*x_n2**2*log(-1.5*x_n0 - 0.5*x_n1 + 2.0*x_n2) - 2.0*x_n1*x_n2**2*log(0.5*x_n0 + 1.5*x_n1 - 2.0*x_n2) - 26.0*x_n1*x_n2**2 - 4.0*x_n2**3*log(-1.5*x_n0 - 0.5*x_n1 + 2.0*x_n2) + 4.0*x_n2**3*log(0.5*x_n0 + 1.5*x_n1 - 2.0*x_n2) + 16.0*x_n2**3)/(0.375*x_n0**5 + 2.375*x_n0**4*x_n1 - 4.25*x_n0**4*x_n2 + 5.25*x_n0**3*x_n1**2 - 20.0*x_n0**3*x_n1*x_n2 + 18.5*x_n0**3*x_n2**2 + 5.25*x_n0**2*x_n1**3 - 31.5*x_n0**2*x_n1**2*x_n2 + 61.5*x_n0**2*x_n1*x_n2**2 - 39.0*x_n0**2*x_n2**3 + 2.375*x_n0*x_n1**4 - 20.0*x_n0*x_n1**3*x_n2 + 61.5*x_n0*x_n1**2*x_n2**2 - 82.0*x_n0*x_n1*x_n2**3 + 40.0*x_n0*x_n2**4 + 0.375*x_n1**5 - 4.25*x_n1**4*x_n2 + 18.5*x_n1**3*x_n2**2 - 39.0*x_n1**2*x_n2**3 + 40.0*x_n1*x_n2**4 - 16.0*x_n2**5)],\n",
       "[E*(0.375*x_n0**3*log(-1.5*x_n0 - 0.5*x_n1 + 2.0*x_n2) - 0.375*x_n0**3*log(0.5*x_n0 + 1.5*x_n1 - 2.0*x_n2) - 1.5*x_n0**3 + 0.125*x_n0**2*x_n1*log(-1.5*x_n0 - 0.5*x_n1 + 2.0*x_n2) - 0.125*x_n0**2*x_n1*log(0.5*x_n0 + 1.5*x_n1 - 2.0*x_n2) - 7.5*x_n0**2*x_n1 - 1.25*x_n0**2*x_n2*log(-1.5*x_n0 - 0.5*x_n1 + 2.0*x_n2) + 1.25*x_n0**2*x_n2*log(0.5*x_n0 + 1.5*x_n1 - 2.0*x_n2) + 12.0*x_n0**2*x_n2 - 3.375*x_n0*x_n1**2*log(-1.5*x_n0 - 0.5*x_n1 + 2.0*x_n2) + 3.375*x_n0*x_n1**2*log(0.5*x_n0 + 1.5*x_n1 - 2.0*x_n2) - 6.5*x_n0*x_n1**2 + 6.5*x_n0*x_n1*x_n2*log(-1.5*x_n0 - 0.5*x_n1 + 2.0*x_n2) - 6.5*x_n0*x_n1*x_n2*log(0.5*x_n0 + 1.5*x_n1 - 2.0*x_n2) + 28.0*x_n0*x_n1*x_n2 - 2.0*x_n0*x_n2**2*log(-1.5*x_n0 - 0.5*x_n1 + 2.0*x_n2) + 2.0*x_n0*x_n2**2*log(0.5*x_n0 + 1.5*x_n1 - 2.0*x_n2) - 26.0*x_n0*x_n2**2 - 1.125*x_n1**3*log(-1.5*x_n0 - 0.5*x_n1 + 2.0*x_n2) + 1.125*x_n1**3*log(0.5*x_n0 + 1.5*x_n1 - 2.0*x_n2) - 0.5*x_n1**3 + 6.75*x_n1**2*x_n2*log(-1.5*x_n0 - 0.5*x_n1 + 2.0*x_n2) - 6.75*x_n1**2*x_n2*log(0.5*x_n0 + 1.5*x_n1 - 2.0*x_n2) + 8.0*x_n1**2*x_n2 - 10.0*x_n1*x_n2**2*log(-1.5*x_n0 - 0.5*x_n1 + 2.0*x_n2) + 10.0*x_n1*x_n2**2*log(0.5*x_n0 + 1.5*x_n1 - 2.0*x_n2) - 22.0*x_n1*x_n2**2 + 4.0*x_n2**3*log(-1.5*x_n0 - 0.5*x_n1 + 2.0*x_n2) - 4.0*x_n2**3*log(0.5*x_n0 + 1.5*x_n1 - 2.0*x_n2) + 16.0*x_n2**3)/(0.375*x_n0**5 + 2.375*x_n0**4*x_n1 - 4.25*x_n0**4*x_n2 + 5.25*x_n0**3*x_n1**2 - 20.0*x_n0**3*x_n1*x_n2 + 18.5*x_n0**3*x_n2**2 + 5.25*x_n0**2*x_n1**3 - 31.5*x_n0**2*x_n1**2*x_n2 + 61.5*x_n0**2*x_n1*x_n2**2 - 39.0*x_n0**2*x_n2**3 + 2.375*x_n0*x_n1**4 - 20.0*x_n0*x_n1**3*x_n2 + 61.5*x_n0*x_n1**2*x_n2**2 - 82.0*x_n0*x_n1*x_n2**3 + 40.0*x_n0*x_n2**4 + 0.375*x_n1**5 - 4.25*x_n1**4*x_n2 + 18.5*x_n1**3*x_n2**2 - 39.0*x_n1**2*x_n2**3 + 40.0*x_n1*x_n2**4 - 16.0*x_n2**5), E*(1.125*x_n0**3*log(-1.5*x_n0 - 0.5*x_n1 + 2.0*x_n2) - 1.125*x_n0**3*log(0.5*x_n0 + 1.5*x_n1 - 2.0*x_n2) - 0.5*x_n0**3 + 3.375*x_n0**2*x_n1*log(-1.5*x_n0 - 0.5*x_n1 + 2.0*x_n2) - 3.375*x_n0**2*x_n1*log(0.5*x_n0 + 1.5*x_n1 - 2.0*x_n2) - 6.5*x_n0**2*x_n1 - 6.75*x_n0**2*x_n2*log(-1.5*x_n0 - 0.5*x_n1 + 2.0*x_n2) + 6.75*x_n0**2*x_n2*log(0.5*x_n0 + 1.5*x_n1 - 2.0*x_n2) + 8.0*x_n0**2*x_n2 - 0.125*x_n0*x_n1**2*log(-1.5*x_n0 - 0.5*x_n1 + 2.0*x_n2) + 0.125*x_n0*x_n1**2*log(0.5*x_n0 + 1.5*x_n1 - 2.0*x_n2) - 7.5*x_n0*x_n1**2 - 6.5*x_n0*x_n1*x_n2*log(-1.5*x_n0 - 0.5*x_n1 + 2.0*x_n2) + 6.5*x_n0*x_n1*x_n2*log(0.5*x_n0 + 1.5*x_n1 - 2.0*x_n2) + 28.0*x_n0*x_n1*x_n2 + 10.0*x_n0*x_n2**2*log(-1.5*x_n0 - 0.5*x_n1 + 2.0*x_n2) - 10.0*x_n0*x_n2**2*log(0.5*x_n0 + 1.5*x_n1 - 2.0*x_n2) - 22.0*x_n0*x_n2**2 - 0.375*x_n1**3*log(-1.5*x_n0 - 0.5*x_n1 + 2.0*x_n2) + 0.375*x_n1**3*log(0.5*x_n0 + 1.5*x_n1 - 2.0*x_n2) - 1.5*x_n1**3 + 1.25*x_n1**2*x_n2*log(-1.5*x_n0 - 0.5*x_n1 + 2.0*x_n2) - 1.25*x_n1**2*x_n2*log(0.5*x_n0 + 1.5*x_n1 - 2.0*x_n2) + 12.0*x_n1**2*x_n2 + 2.0*x_n1*x_n2**2*log(-1.5*x_n0 - 0.5*x_n1 + 2.0*x_n2) - 2.0*x_n1*x_n2**2*log(0.5*x_n0 + 1.5*x_n1 - 2.0*x_n2) - 26.0*x_n1*x_n2**2 - 4.0*x_n2**3*log(-1.5*x_n0 - 0.5*x_n1 + 2.0*x_n2) + 4.0*x_n2**3*log(0.5*x_n0 + 1.5*x_n1 - 2.0*x_n2) + 16.0*x_n2**3)/(0.375*x_n0**5 + 2.375*x_n0**4*x_n1 - 4.25*x_n0**4*x_n2 + 5.25*x_n0**3*x_n1**2 - 20.0*x_n0**3*x_n1*x_n2 + 18.5*x_n0**3*x_n2**2 + 5.25*x_n0**2*x_n1**3 - 31.5*x_n0**2*x_n1**2*x_n2 + 61.5*x_n0**2*x_n1*x_n2**2 - 39.0*x_n0**2*x_n2**3 + 2.375*x_n0*x_n1**4 - 20.0*x_n0*x_n1**3*x_n2 + 61.5*x_n0*x_n1**2*x_n2**2 - 82.0*x_n0*x_n1*x_n2**3 + 40.0*x_n0*x_n2**4 + 0.375*x_n1**5 - 4.25*x_n1**4*x_n2 + 18.5*x_n1**3*x_n2**2 - 39.0*x_n1**2*x_n2**3 + 40.0*x_n1*x_n2**4 - 16.0*x_n2**5),                                                                                                                                                                                                                                           E*(-1.5*x_n0**3*log(-1.5*x_n0 - 0.5*x_n1 + 2.0*x_n2) + 1.5*x_n0**3*log(0.5*x_n0 + 1.5*x_n1 - 2.0*x_n2) + 2.0*x_n0**3 - 3.5*x_n0**2*x_n1*log(-1.5*x_n0 - 0.5*x_n1 + 2.0*x_n2) + 3.5*x_n0**2*x_n1*log(0.5*x_n0 + 1.5*x_n1 - 2.0*x_n2) + 14.0*x_n0**2*x_n1 + 8.0*x_n0**2*x_n2*log(-1.5*x_n0 - 0.5*x_n1 + 2.0*x_n2) - 8.0*x_n0**2*x_n2*log(0.5*x_n0 + 1.5*x_n1 - 2.0*x_n2) - 20.0*x_n0**2*x_n2 + 3.5*x_n0*x_n1**2*log(-1.5*x_n0 - 0.5*x_n1 + 2.0*x_n2) - 3.5*x_n0*x_n1**2*log(0.5*x_n0 + 1.5*x_n1 - 2.0*x_n2) + 14.0*x_n0*x_n1**2 - 56.0*x_n0*x_n1*x_n2 - 8.0*x_n0*x_n2**2*log(-1.5*x_n0 - 0.5*x_n1 + 2.0*x_n2) + 8.0*x_n0*x_n2**2*log(0.5*x_n0 + 1.5*x_n1 - 2.0*x_n2) + 48.0*x_n0*x_n2**2 + 1.5*x_n1**3*log(-1.5*x_n0 - 0.5*x_n1 + 2.0*x_n2) - 1.5*x_n1**3*log(0.5*x_n0 + 1.5*x_n1 - 2.0*x_n2) + 2.0*x_n1**3 - 8.0*x_n1**2*x_n2*log(-1.5*x_n0 - 0.5*x_n1 + 2.0*x_n2) + 8.0*x_n1**2*x_n2*log(0.5*x_n0 + 1.5*x_n1 - 2.0*x_n2) - 20.0*x_n1**2*x_n2 + 8.0*x_n1*x_n2**2*log(-1.5*x_n0 - 0.5*x_n1 + 2.0*x_n2) - 8.0*x_n1*x_n2**2*log(0.5*x_n0 + 1.5*x_n1 - 2.0*x_n2) + 48.0*x_n1*x_n2**2 - 32.0*x_n2**3)/(0.375*x_n0**5 + 2.375*x_n0**4*x_n1 - 4.25*x_n0**4*x_n2 + 5.25*x_n0**3*x_n1**2 - 20.0*x_n0**3*x_n1*x_n2 + 18.5*x_n0**3*x_n2**2 + 5.25*x_n0**2*x_n1**3 - 31.5*x_n0**2*x_n1**2*x_n2 + 61.5*x_n0**2*x_n1*x_n2**2 - 39.0*x_n0**2*x_n2**3 + 2.375*x_n0*x_n1**4 - 20.0*x_n0*x_n1**3*x_n2 + 61.5*x_n0*x_n1**2*x_n2**2 - 82.0*x_n0*x_n1*x_n2**3 + 40.0*x_n0*x_n2**4 + 0.375*x_n1**5 - 4.25*x_n1**4*x_n2 + 18.5*x_n1**3*x_n2**2 - 39.0*x_n1**2*x_n2**3 + 40.0*x_n1*x_n2**4 - 16.0*x_n2**5)]])"
      ]
     },
     "metadata": {},
     "output_type": "display_data"
    },
    {
     "data": {
      "text/latex": [
       "$\\displaystyle \\left[\\begin{matrix}\\tilde{\\infty} E & \\tilde{\\infty} E & \\tilde{\\infty} E\\\\\\tilde{\\infty} E & \\text{NaN} & \\tilde{\\infty} E\\\\\\tilde{\\infty} E & \\tilde{\\infty} E & \\tilde{\\infty} E\\end{matrix}\\right]$"
      ],
      "text/plain": [
       "Matrix([\n",
       "[zoo*E, zoo*E, zoo*E],\n",
       "[zoo*E,   nan, zoo*E],\n",
       "[zoo*E, zoo*E, zoo*E]])"
      ]
     },
     "metadata": {},
     "output_type": "display_data"
    }
   ],
   "source": [
    "\n",
    "\n",
    "k1 = sp.derive_by_array(term1,w_n0)\n",
    "k2 = sp.derive_by_array(term1,w_n1)\n",
    "k3 = sp.derive_by_array(term1,w_n2)\n",
    "\n",
    "eq1 = sp.integrate(k1,(xi,-1,1))\n",
    "eq2 = sp.integrate(k2,(xi,-1,1))\n",
    "eq3 = sp.integrate(k3,(xi,-1,1))\n",
    "\n",
    "\n",
    "display(eq1)\n",
    "display(eq2)\n",
    "display(eq3)\n",
    "\n",
    "Poly1 = sp.Poly(eq1,q_n0,q_n1,q_n2)\n",
    "Poly2 = sp.Poly(eq2,q_n0,q_n1,q_n2)\n",
    "Poly3 = sp.Poly(eq3,q_n0,q_n1,q_n2)\n",
    "Coef1 = Poly1.coeffs()\n",
    "Coef2 = Poly2.coeffs()\n",
    "Coef3 = Poly3.coeffs()\n",
    "\n",
    "StiffnessMatrix = sp.simplify(sp.Matrix([[Coef1[0],Coef1[1],Coef1[2]],[Coef2[0],Coef2[1],Coef2[2]],[Coef3[0],Coef3[1],Coef3[2]]]))\n",
    "\n",
    "\n",
    "\n",
    "display(StiffnessMatrix)\n",
    "display(StiffnessMatrix.subs({x_n0:0,x_n1:1,x_n2:0.5}))\n",
    "#display(StiffnessMatrix[0])"
   ]
  },
  {
   "cell_type": "markdown",
   "metadata": {},
   "source": []
  },
  {
   "cell_type": "markdown",
   "metadata": {},
   "source": [
    "## Problem definition"
   ]
  },
  {
   "cell_type": "code",
   "execution_count": 30,
   "metadata": {},
   "outputs": [
    {
     "data": {
      "text/latex": [
       "$\\displaystyle \\frac{F}{A{\\left(x \\right)}}$"
      ],
      "text/plain": [
       "F/A(x)"
      ]
     },
     "metadata": {},
     "output_type": "display_data"
    }
   ],
   "source": [
    "#### lenght of the Bar to simulate:\n",
    "L,F = sp.symbols('L,F')\n",
    "\n",
    "## define a tensor. That is, force over area\n",
    "\n",
    "A = sp.Function('A')(x)\n",
    "\n",
    "T = F/A\n",
    "\n",
    "display(T)\n"
   ]
  },
  {
   "cell_type": "markdown",
   "metadata": {},
   "source": [
    "## 2nd term: Applied Forces"
   ]
  },
  {
   "cell_type": "code",
   "execution_count": 31,
   "metadata": {},
   "outputs": [
    {
     "data": {
      "text/latex": [
       "$\\displaystyle \\frac{1.0 F w_{n1}}{A{\\left(x \\right)}}$"
      ],
      "text/plain": [
       "1.0*F*w_n1/A(x)"
      ]
     },
     "metadata": {},
     "output_type": "display_data"
    },
    {
     "data": {
      "text/latex": [
       "$\\displaystyle \\left[\\begin{matrix}0\\\\1.0 F\\\\0\\end{matrix}\\right]$"
      ],
      "text/plain": [
       "[[0], [1.0*F], [0]]"
      ]
     },
     "metadata": {},
     "output_type": "display_data"
    }
   ],
   "source": [
    "term2 = T*w_u\n",
    "\n",
    "### substitute the xi location of the force\n",
    "term2 = term2.subs({xi:1})\n",
    "\n",
    "display(term2)\n",
    "\n",
    "### the following line is a result of the integration step\n",
    "Integral2 = term2*A\n",
    "\n",
    "\n",
    "ans1 = sp.derive_by_array(Integral2,w_n0)\n",
    "ans2 = sp.derive_by_array(Integral2,w_n1)\n",
    "ans3 = sp.derive_by_array(Integral2,w_n2)\n",
    "\n",
    "Array2ndTerm = sp.Array([[ans1],[ans2],[ans3]])\n",
    "display(Array2ndTerm)"
   ]
  }
 ],
 "metadata": {
  "interpreter": {
   "hash": "b0d877fd5326eabdec7294d85196f572791c8fccbbd1b2db4b2baf685ab06f05"
  },
  "kernelspec": {
   "display_name": "Python 3 (ipykernel)",
   "language": "python",
   "name": "python3"
  },
  "language_info": {
   "codemirror_mode": {
    "name": "ipython",
    "version": 3
   },
   "file_extension": ".py",
   "mimetype": "text/x-python",
   "name": "python",
   "nbconvert_exporter": "python",
   "pygments_lexer": "ipython3",
   "version": "3.9.6"
  }
 },
 "nbformat": 4,
 "nbformat_minor": 2
}
