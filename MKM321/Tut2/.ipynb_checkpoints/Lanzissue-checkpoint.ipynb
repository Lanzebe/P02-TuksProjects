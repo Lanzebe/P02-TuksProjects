{
 "cells": [
  {
   "cell_type": "code",
   "execution_count": 2,
   "id": "dfde1e62",
   "metadata": {},
   "outputs": [
    {
     "name": "stdout",
     "output_type": "stream",
     "text": [
      "Give Your Solution to Q6a Here\n",
      "eq1:\n"
     ]
    },
    {
     "data": {
      "text/latex": [
       "$\\displaystyle 0.5 F_{b} + 1.125 F_{d} + 2.0 F_{f} + 2.75 F_{g} + M_{a} - 0.75 P - 8.53125 q$"
      ],
      "text/plain": [
       "0.5*F_b + 1.125*F_d + 2.0*F_f + 2.75*F_g + M_a - 0.75*P - 8.53125*q"
      ]
     },
     "metadata": {},
     "output_type": "display_data"
    },
    {
     "name": "stdout",
     "output_type": "stream",
     "text": [
      "eq2:\n"
     ]
    },
    {
     "data": {
      "text/latex": [
       "$\\displaystyle F_{a} + F_{b} + F_{d} + F_{f} + F_{g} - P - 0.875 q$"
      ],
      "text/plain": [
       "F_a + F_b + F_d + F_f + F_g - P - 0.875*q"
      ]
     },
     "metadata": {},
     "output_type": "display_data"
    },
    {
     "name": "stdout",
     "output_type": "stream",
     "text": [
      "eq3:\n"
     ]
    },
    {
     "data": {
      "text/latex": [
       "$\\displaystyle \\frac{0.5 F_{b} + 1.4375 F_{d} + 2.75 F_{f} + 3.875 F_{g} - 0.875 P - 2.98046875 q}{E height^{3} width}$"
      ],
      "text/plain": [
       "(0.5*F_b + 1.4375*F_d + 2.75*F_f + 3.875*F_g - 0.875*P - 2.98046875*q)/(E*height**3*width)"
      ]
     },
     "metadata": {},
     "output_type": "display_data"
    },
    {
     "name": "stdout",
     "output_type": "stream",
     "text": [
      "eq4:\n"
     ]
    },
    {
     "data": {
      "text/latex": [
       "$\\displaystyle \\frac{1.4375 F_{b} + 5.6953125 F_{d} + 12.33984375 F_{f} + 18.03515625 F_{g} - 2.953125 P - 13.704345703125 q}{E height^{3} width}$"
      ],
      "text/plain": [
       "(1.4375*F_b + 5.6953125*F_d + 12.33984375*F_f + 18.03515625*F_g - 2.953125*P - 13.704345703125*q)/(E*height**3*width)"
      ]
     },
     "metadata": {},
     "output_type": "display_data"
    },
    {
     "name": "stdout",
     "output_type": "stream",
     "text": [
      "eq5:\n"
     ]
    },
    {
     "data": {
      "text/latex": [
       "$\\displaystyle \\frac{2.75 F_{b} + 12.33984375 F_{d} + 32.0 F_{f} + 50.0 F_{g} - 5.90625 P - 37.1875 q}{E height^{3} width}$"
      ],
      "text/plain": [
       "(2.75*F_b + 12.33984375*F_d + 32.0*F_f + 50.0*F_g - 5.90625*P - 37.1875*q)/(E*height**3*width)"
      ]
     },
     "metadata": {},
     "output_type": "display_data"
    },
    {
     "name": "stdout",
     "output_type": "stream",
     "text": [
      "eq6:\n"
     ]
    },
    {
     "data": {
      "text/latex": [
       "$\\displaystyle \\frac{3.875 F_{b} + 18.03515625 F_{d} + 50.0 F_{f} + 83.1875 F_{g} - 8.4375 P - 60.5400390625 q}{E height^{3} width}$"
      ],
      "text/plain": [
       "(3.875*F_b + 18.03515625*F_d + 50.0*F_f + 83.1875*F_g - 8.4375*P - 60.5400390625*q)/(E*height**3*width)"
      ]
     },
     "metadata": {},
     "output_type": "display_data"
    },
    {
     "data": {
      "text/latex": [
       "$\\displaystyle \\left[\\begin{matrix}4.01133531070915 \\cdot 10^{15} M_{a} + 129840590320322.0 P - 2.56597356660688 \\cdot 10^{16} q & 0.845242105263157 P + 0.0317072368420496 q & 0.396607518796993 P - 0.0720902255638767 q & - 4.01133531070917 \\cdot 10^{15} M_{a} - 129840590320322.0 P + 2.56597356660689 \\cdot 10^{16} q & 0.0117894736842106 P + 0.465804093567254 q & 1.0 M_{a}\\end{matrix}\\right]$"
      ],
      "text/plain": [
       "Matrix([[4.01133531070915e+15*M_a + 129840590320322.0*P - 2.56597356660688e+16*q, 0.845242105263157*P + 0.0317072368420496*q, 0.396607518796993*P - 0.0720902255638767*q, -4.01133531070917e+15*M_a - 129840590320322.0*P + 2.56597356660689e+16*q, 0.0117894736842106*P + 0.465804093567254*q, 1.0*M_a]])"
      ]
     },
     "metadata": {},
     "output_type": "display_data"
    },
    {
     "name": "stdout",
     "output_type": "stream",
     "text": [
      "MA = 1.0*M_a\n",
      "RA = 4.01133531070915e+15*M_a - 2.55298950757485e+19\n",
      "RB = 876.949342105206\n",
      "RD = 324.517293233116\n",
      "RF = 2.55298950757486e+19 - 4.01133531070917e+15*M_a\n",
      "RG = 477.593567251465\n"
     ]
    }
   ],
   "source": [
    "import sympy as sp\n",
    "print('Give Your Solution to Q6a Here')\n",
    "\n",
    "#using superpositions:\n",
    "\n",
    "L,d,P,q,E,width,height,v,x,I,F_a,F_b,F_d,F_f,F_g,M_a = sp.symbols('L,d,P,q,E,width,height,v,x,I,F_a,F_b,F_d,F_f,F_g,M_a')\n",
    "d = 0.25\n",
    "\n",
    "def deflection(F,force_pos,ret_pos):\n",
    "    if force_pos>=ret_pos:\n",
    "        return ((F*(ret_pos*d)**2)/(6*E*I))*(-(ret_pos*d)+3*(force_pos*d))\n",
    "    else:\n",
    "        return ((F*(force_pos*d)**2)/(6*E*I))*(-(force_pos*d)+3*(ret_pos*d))\n",
    "    \n",
    "def deflection_dist(force_pos, ret_pos):\n",
    "    if force_pos>=ret_pos:\n",
    "        return (-(q*3.5*d*(ret_pos*d)**2)/(12*E*I))*(3*L+3*(8*d)-2*(ret_pos*d))\n",
    "    else:\n",
    "        return (-(q)/(24*E*I))*((ret_pos*d)**4-4*L*(ret_pos*d)**3+6*L**2*(ret_pos*d)**2-4*(ret_pos*d)*(force_pos*d)**3+(force_pos*d)**4)\n",
    "    \n",
    "def tot_deflection(pos):\n",
    "    def1 = deflection(F_b,2,pos)\n",
    "    def2 = deflection(F_d,4.5,pos)\n",
    "    def3 = deflection(F_f,8,pos)\n",
    "    def4 = deflection(F_g,11,pos)\n",
    "    def5 = deflection(-P,3,pos)\n",
    "    def6 = deflection_dist(8,pos)\n",
    "    return sp.simplify(def1+def2+def3+def4+def5+def6)\n",
    "  \n",
    "L = 11.5*d\n",
    "I = (width*height**3)/12\n",
    "eq1 = sp.simplify(M_a  + 2*d*F_b + 4.5*d*F_d + 8*d*F_f + 11*d*F_g - 3*d*P - (8+(3.5/2))*q*(3.5*d))\n",
    "eq2 = sp.simplify(F_a + F_b + F_d + F_f + F_g - P - q*(3.5*d))\n",
    "eq3 = sp.simplify(tot_deflection(2))\n",
    "eq4 = sp.simplify(tot_deflection(4.5))\n",
    "eq5 = sp.simplify(tot_deflection(8))\n",
    "eq6 = sp.simplify(tot_deflection(11))\n",
    "\n",
    "print('eq1:')\n",
    "display(eq1)\n",
    "print('eq2:')\n",
    "display(eq2)\n",
    "print('eq3:')\n",
    "display(eq3)\n",
    "print('eq4:')\n",
    "display(eq4)\n",
    "print('eq5:')\n",
    "display(eq5)\n",
    "print('eq6:')\n",
    "display(eq6)\n",
    "   \n",
    "subies = {'d':0.25,'P':1000,'q':1000,'E':210*10**9,'width':0.025,'height':0.05}\n",
    "solution = sp.linsolve([eq1,eq2,eq3,eq4,eq5,eq6],[F_a,F_b,F_d,F_f,F_g,M_a])\n",
    "\n",
    "SOLUTION_MATRIX = sp.Matrix(list(solution)) ; display(SOLUTION_MATRIX)\n",
    "F_a,F_b,F_d,F_f,F_g,M_a = SOLUTION_MATRIX.subs(subies)\n",
    "print('MA =',M_a)\n",
    "print('RA =',F_a)\n",
    "print('RB =',F_b)\n",
    "print('RD =',F_d)\n",
    "print('RF =',F_f)\n",
    "print('RG =',F_g)"
   ]
  },
  {
   "cell_type": "code",
   "execution_count": null,
   "id": "c5446989",
   "metadata": {},
   "outputs": [],
   "source": []
  }
 ],
 "metadata": {
  "kernelspec": {
   "display_name": "Python 3 (ipykernel)",
   "language": "python",
   "name": "python3"
  },
  "language_info": {
   "codemirror_mode": {
    "name": "ipython",
    "version": 3
   },
   "file_extension": ".py",
   "mimetype": "text/x-python",
   "name": "python",
   "nbconvert_exporter": "python",
   "pygments_lexer": "ipython3",
   "version": "3.9.6"
  }
 },
 "nbformat": 4,
 "nbformat_minor": 5
}
