{
 "cells": [
  {
   "cell_type": "code",
   "execution_count": 1,
   "id": "5c11fd55",
   "metadata": {},
   "outputs": [],
   "source": [
    "import numpy as np\n",
    "from scipy.integrate import odeint\n",
    "import matplotlib.pyplot as plt\n",
    "from scipy.linalg import eig\n",
    "import cmath"
   ]
  },
  {
   "cell_type": "code",
   "execution_count": 12,
   "id": "51365a9b",
   "metadata": {},
   "outputs": [
    {
     "name": "stdout",
     "output_type": "stream",
     "text": [
      "            ######### Mode 1 #########\n",
      "Rotational Frequency: 2632.4893162176368 [rad/s]\n",
      "Frequency           : 418.97368731264044 [Hz]\n",
      "Mode Shape          : [1.]\n"
     ]
    }
   ],
   "source": [
    "M = np.array([[100]])\n",
    "K = np.array([[(0.0198*70E9)/2]])\n",
    "\n",
    "Eig_value,Eig_vector = eig(K,M)\n",
    "\n",
    "Eig_vector = np.flip(Eig_vector,axis = 1)\n",
    "Eig_vector = Eig_vector/Eig_vector[0,:]\n",
    "\n",
    "w = np.sqrt(np.real(np.flip(Eig_value)))\n",
    "#Get Hz\n",
    "f = w / (2*np.pi)\n",
    "\n",
    "for idx, i in enumerate(Eig_value):\n",
    "    print('            ######### Mode',idx+1,'#########')\n",
    "    print('Rotational Frequency:',w[idx],'[rad/s]')\n",
    "    print('Frequency           :',f[idx],'[Hz]')\n",
    "    print('Mode Shape          :',Eig_vector[:,idx])"
   ]
  },
  {
   "cell_type": "code",
   "execution_count": 17,
   "id": "0ab0719f",
   "metadata": {},
   "outputs": [
    {
     "name": "stdout",
     "output_type": "stream",
     "text": [
      "Using matplotlib backend: TkAgg\n",
      "[0.0001443]\n"
     ]
    },
    {
     "name": "stderr",
     "output_type": "stream",
     "text": [
      "e:\\onedrive\\tuks\\2021-3rd year\\env\\lib\\site-packages\\ipykernel\\eventloops.py:256: RuntimeWarning: coroutine 'Kernel.do_one_iteration' was never awaited\n",
      "  self.func()\n",
      "RuntimeWarning: Enable tracemalloc to get the object allocation traceback\n"
     ]
    }
   ],
   "source": [
    "%matplotlib\n",
    "F = np.array([100000])\n",
    "\n",
    "delta = np.matmul(F,(np.linalg.inv(K)))\n",
    "print(delta)\n",
    "\n",
    "def AmplificationFactor(omega):\n",
    "    ans = []\n",
    "    for i in omega:\n",
    "        #print(i)\n",
    "        #print((1j)*i*C)\n",
    "        a = np.matmul(np.linalg.inv((-i**2*M + (1j)*i*0 + K)),F).real/delta\n",
    "        #print(a)\n",
    "        ans.append(a)\n",
    "    return np.array(ans)\n",
    "\n",
    "\n",
    "\n",
    "\n",
    "w = np.linspace(900,1100,1000)\n",
    "Amp = AmplificationFactor(w)\n",
    "l,width = np.shape(Amp)\n",
    "\n",
    "plt.figure()\n",
    "plt.yscale('symlog', linthresh=0.1)\n",
    "for i in range(width):\n",
    "    plt.plot(w,Amp[:,i])\n",
    "plt.grid()"
   ]
  },
  {
   "cell_type": "code",
   "execution_count": null,
   "id": "b057574e",
   "metadata": {},
   "outputs": [],
   "source": []
  }
 ],
 "metadata": {
  "kernelspec": {
   "display_name": "Python 3 (ipykernel)",
   "language": "python",
   "name": "python3"
  },
  "language_info": {
   "codemirror_mode": {
    "name": "ipython",
    "version": 3
   },
   "file_extension": ".py",
   "mimetype": "text/x-python",
   "name": "python",
   "nbconvert_exporter": "python",
   "pygments_lexer": "ipython3",
   "version": "3.9.6"
  }
 },
 "nbformat": 4,
 "nbformat_minor": 5
}
