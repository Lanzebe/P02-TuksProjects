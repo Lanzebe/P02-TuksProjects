{
 "cells": [
  {
   "cell_type": "markdown",
   "id": "e9e31a99",
   "metadata": {},
   "source": [
    "# MOW 323 - Introduction to Simulation-Based Design\n",
    "The package ***engmod*** will be used in this jupyter notebook. This package must be in the same directory as this jupyter notebook."
   ]
  },
  {
   "cell_type": "code",
   "execution_count": 1,
   "id": "8a1496ab",
   "metadata": {},
   "outputs": [],
   "source": [
    "import numpy as np \n",
    "import importlib; \n",
    "import os\n",
    "# if \"add_engmod.py\" in os.listdir(): print(\"Exists!\"); import add_engmod\n",
    "import engmod.structfem as sfem; importlib.reload(sfem)\n",
    "import matplotlib.pyplot as plt "
   ]
  },
  {
   "cell_type": "code",
   "execution_count": 69,
   "id": "2e92810a",
   "metadata": {},
   "outputs": [
    {
     "name": "stdout",
     "output_type": "stream",
     "text": [
      "Help on module engmod.structfem in engmod:\n",
      "\n",
      "NAME\n",
      "    engmod.structfem\n",
      "\n",
      "CLASSES\n",
      "    builtins.object\n",
      "        FEM_Truss_2D\n",
      "    \n",
      "    class FEM_Truss_2D(builtins.object)\n",
      "     |  FEM_Truss_2D(node_coordinates, elem_connectivity, prescribed_displacement, prescribed_forces, element_properties_dict)\n",
      "     |  \n",
      "     |  This is a class that allows you to model a system using truss elements.\n",
      "     |  \n",
      "     |  Parameters\n",
      "     |  ------------\n",
      "     |  \n",
      "     |  node_coordinates: array_like\n",
      "     |      This is an N x 2 array with the N nodal coordinates. The first column is the x-coordinate, the second column is the y-coordinate.\n",
      "     |      The row number indicates the node number.\n",
      "     |  \n",
      "     |      For example,\n",
      "     |  \n",
      "     |      [[0,0],[1,2]]\n",
      "     |  \n",
      "     |      [0,0] is the coordinate of node 0 (x = 0, y = 0)\n",
      "     |      [1,2] is the coordinate of node 1 (x = 1, y = 2)\n",
      "     |  \n",
      "     |  elem_connectivity: array_like\n",
      "     |      This is an M x 2 array which indicates which nodes are connected to form an element.\n",
      "     |      The row number indicates the element number.\n",
      "     |  \n",
      "     |      For example,\n",
      "     |  \n",
      "     |      [[0,1],[1,2]]\n",
      "     |  \n",
      "     |      indicates that element 0 consists of node 0 and node 1; and\n",
      "     |      element 1 consists of node 1 and node 2.\n",
      "     |  \n",
      "     |  prescribed_displacement: array_like\n",
      "     |      This is an S x 2 array that indicates the prescribed displacements of the nodes.\n",
      "     |  \n",
      "     |      [[node_number,direction,value],[node_number,direction,value]]\n",
      "     |  \n",
      "     |      node_number indicates the node number.\n",
      "     |  \n",
      "     |      direction = 0 means it is in the x-direction.\n",
      "     |      direction = 1 means it is in the y-direction.\n",
      "     |  \n",
      "     |      value indicates the value of the prescribed displacement on the node.\n",
      "     |  \n",
      "     |      For example,\n",
      "     |  \n",
      "     |      [[0,1,0],[1,0,0]]\n",
      "     |  \n",
      "     |      indicates\n",
      "     |  \n",
      "     |      - [0,1,0] means node 0 has a prescribed displacement of 0 in the 1 direction (y-direction).\n",
      "     |      - [1,0,2] means node 1 has a prescribed displacement of 2 in the 0 direction (x-direction).\n",
      "     |  \n",
      "     |  prescribed_forces: array_like\n",
      "     |      This is an S x 2 array that indicates the prescribed forces of the nodes.\n",
      "     |  \n",
      "     |      [[node_number,direction,value],[node_number,direction,value]]\n",
      "     |  \n",
      "     |      direction = 0 means it is in the x-direction.\n",
      "     |  \n",
      "     |      direction = 1 means it is in the y-direction.\n",
      "     |  \n",
      "     |      value indicates the value of the prescribed forces on the node.\n",
      "     |  \n",
      "     |      For example,\n",
      "     |  \n",
      "     |      [[0,1,0],[1,0,0]]\n",
      "     |  \n",
      "     |      indicates\n",
      "     |  \n",
      "     |      - [0,1,0] means node 0 has a prescribed force of 0 in the 1 direction (y-direction).\n",
      "     |      - [1,0,2] means node 1 has a prescribed force of 2 in the 0 direction (x-direction).\n",
      "     |  \n",
      "     |  element_properties_dict: dictionary\n",
      "     |  \n",
      "     |      This is a dictionary that indicates the properties of the elements.\n",
      "     |  \n",
      "     |      The following keys are used:\n",
      "     |  \n",
      "     |      - \"E\": Young's modulus or Modulus of Elasticity\n",
      "     |      - \"A\": The cross-sectional area of the element.\n",
      "     |      - \"rho\": The density of the material (optional depending on the analysis)\n",
      "     |  \n",
      "     |      For example,\n",
      "     |  \n",
      "     |      {\"E\": [1,2], \"A\": [3,4]}\n",
      "     |  \n",
      "     |      specifies the properties of the two elements:\n",
      "     |  \n",
      "     |      Element 0 has an E = 1 (Young's modulus) and an A = 3 (Area)\n",
      "     |      Element 1 has an E = 2 (Young's modulus) and an A = 4 (Area)\n",
      "     |  \n",
      "     |  Methods defined here:\n",
      "     |  \n",
      "     |  __init__(self, node_coordinates, elem_connectivity, prescribed_displacement, prescribed_forces, element_properties_dict)\n",
      "     |      Initialize self.  See help(type(self)) for accurate signature.\n",
      "     |  \n",
      "     |  dynamic_make_global_displacement(self, displacement_free)\n",
      "     |  \n",
      "     |  dynamic_make_matrices(self)\n",
      "     |      # Returns the matrices for dynamic analysis.\n",
      "     |  \n",
      "     |  eigen(self, number_of_eigenvalues=10)\n",
      "     |      # Perform an eigenvalue analysis.\n",
      "     |  \n",
      "     |  get_mass(self)\n",
      "     |  \n",
      "     |  mass_global(self)\n",
      "     |      The global stiffness matrix of the system under consideration:\n",
      "     |  \n",
      "     |  mass_global_partition(self)\n",
      "     |      # Returns the matrices Mff, Mfp and Mpp for further analysis\n",
      "     |  \n",
      "     |  plot_modes(self, magnification=1, number_of_modes=3)\n",
      "     |  \n",
      "     |  plot_system(self, fignum=None, magnification=1, displacement_vector=None, show_node_numbers=True, show_displacement=False, print_text=None, scaling_text=1, show_element_numbers=True, figsize=None)\n",
      "     |  \n",
      "     |  post_get_displacement(self, node, direction)\n",
      "     |  \n",
      "     |  post_get_force(self, node, direction)\n",
      "     |  \n",
      "     |  post_get_stress(self, element_number)\n",
      "     |  \n",
      "     |  post_print_solution(self)\n",
      "     |      # Prints the displacements and forces at the nodes.\n",
      "     |      # Prints the stresses and strains in the elements.\n",
      "     |  \n",
      "     |  post_stress_strain(self, displacement=None)\n",
      "     |  \n",
      "     |  solve(self)\n",
      "     |      Solve the system of equations for the prescribed displacements and loads\n",
      "     |  \n",
      "     |  stiffness_global(self)\n",
      "     |      The global stiffness matrix of the system under consideration:\n",
      "     |  \n",
      "     |  stiffness_global_partition(self)\n",
      "     |      # Returns the matrices Kff, Kfp and Kpp for further analysis\n",
      "     |  \n",
      "     |  ----------------------------------------------------------------------\n",
      "     |  Data descriptors defined here:\n",
      "     |  \n",
      "     |  __dict__\n",
      "     |      dictionary for instance variables (if defined)\n",
      "     |  \n",
      "     |  __weakref__\n",
      "     |      list of weak references to the object (if defined)\n",
      "\n",
      "FUNCTIONS\n",
      "    fem_input_checker(node_coordinates, elem_connectivity, prescribed_displacement, prescribed_forces, element_properties_dict)\n",
      "\n",
      "FILE\n",
      "    c:\\university\\courses\\mow323\\active_mow323\\lectures\\statics_sim_intro\\engmod\\structfem.py\n",
      "\n",
      "\n"
     ]
    }
   ],
   "source": [
    "help(sfem)"
   ]
  },
  {
   "cell_type": "markdown",
   "id": "5f5f6483",
   "metadata": {},
   "source": [
    "# The module is imported as ***sfem*** and we will use the Truss elements."
   ]
  },
  {
   "cell_type": "code",
   "execution_count": 2,
   "id": "1c26cc35",
   "metadata": {},
   "outputs": [
    {
     "name": "stdout",
     "output_type": "stream",
     "text": [
      "Help on class FEM_Truss_2D in module engmod.structfem:\n",
      "\n",
      "class FEM_Truss_2D(builtins.object)\n",
      " |  FEM_Truss_2D(node_coordinates, elem_connectivity, prescribed_displacement, prescribed_forces, element_properties_dict)\n",
      " |  \n",
      " |  This is a class that allows you to model a system using truss elements.\n",
      " |  \n",
      " |  Parameters\n",
      " |  ------------\n",
      " |  \n",
      " |  node_coordinates: array_like\n",
      " |      This is an N x 2 array with the N nodal coordinates. The first column is the x-coordinate, the second column is the y-coordinate.\n",
      " |      The row number indicates the node number.\n",
      " |  \n",
      " |      For example,\n",
      " |  \n",
      " |      [[0,0],[1,2]]\n",
      " |  \n",
      " |      [0,0] is the coordinate of node 0 (x = 0, y = 0)\n",
      " |      [1,2] is the coordinate of node 1 (x = 1, y = 2)\n",
      " |  \n",
      " |  elem_connectivity: array_like\n",
      " |      This is an M x 2 array which indicates which nodes are connected to form an element.\n",
      " |      The row number indicates the element number.\n",
      " |  \n",
      " |      For example,\n",
      " |  \n",
      " |      [[0,1],[1,2]]\n",
      " |  \n",
      " |      indicates that element 0 consists of node 0 and node 1; and\n",
      " |      element 1 consists of node 1 and node 2.\n",
      " |  \n",
      " |  prescribed_displacement: array_like\n",
      " |      This is an S x 2 array that indicates the prescribed displacements of the nodes.\n",
      " |  \n",
      " |      [[node_number,direction,value],[node_number,direction,value]]\n",
      " |  \n",
      " |      node_number indicates the node number.\n",
      " |  \n",
      " |      direction = 0 means it is in the x-direction.\n",
      " |      direction = 1 means it is in the y-direction.\n",
      " |  \n",
      " |      value indicates the value of the prescribed displacement on the node.\n",
      " |  \n",
      " |      For example,\n",
      " |  \n",
      " |      [[0,1,0],[1,0,0]]\n",
      " |  \n",
      " |      indicates\n",
      " |  \n",
      " |      - [0,1,0] means node 0 has a prescribed displacement of 0 in the 1 direction (y-direction).\n",
      " |      - [1,0,2] means node 1 has a prescribed displacement of 2 in the 0 direction (x-direction).\n",
      " |  \n",
      " |  prescribed_forces: array_like\n",
      " |      This is an S x 2 array that indicates the prescribed forces of the nodes.\n",
      " |  \n",
      " |      [[node_number,direction,value],[node_number,direction,value]]\n",
      " |  \n",
      " |      direction = 0 means it is in the x-direction.\n",
      " |  \n",
      " |      direction = 1 means it is in the y-direction.\n",
      " |  \n",
      " |      value indicates the value of the prescribed forces on the node.\n",
      " |  \n",
      " |      For example,\n",
      " |  \n",
      " |      [[0,1,0],[1,0,0]]\n",
      " |  \n",
      " |      indicates\n",
      " |  \n",
      " |      - [0,1,0] means node 0 has a prescribed force of 0 in the 1 direction (y-direction).\n",
      " |      - [1,0,2] means node 1 has a prescribed force of 2 in the 0 direction (x-direction).\n",
      " |  \n",
      " |  element_properties_dict: dictionary\n",
      " |  \n",
      " |      This is a dictionary that indicates the properties of the elements.\n",
      " |  \n",
      " |      The following keys are used:\n",
      " |  \n",
      " |      - \"E\": Young's modulus or Modulus of Elasticity\n",
      " |      - \"A\": The cross-sectional area of the element.\n",
      " |      - \"rho\": The density of the material (optional depending on the analysis)\n",
      " |  \n",
      " |      For example,\n",
      " |  \n",
      " |      {\"E\": [1,2], \"A\": [3,4]}\n",
      " |  \n",
      " |      specifies the properties of the two elements:\n",
      " |  \n",
      " |      Element 0 has an E = 1 (Young's modulus) and an A = 3 (Area)\n",
      " |      Element 1 has an E = 2 (Young's modulus) and an A = 4 (Area)\n",
      " |  \n",
      " |  Methods defined here:\n",
      " |  \n",
      " |  __init__(self, node_coordinates, elem_connectivity, prescribed_displacement, prescribed_forces, element_properties_dict)\n",
      " |      Initialize self.  See help(type(self)) for accurate signature.\n",
      " |  \n",
      " |  dynamic_make_global_displacement(self, displacement_free)\n",
      " |  \n",
      " |  dynamic_make_matrices(self)\n",
      " |      # Returns the matrices for dynamic analysis.\n",
      " |  \n",
      " |  eigen(self, number_of_eigenvalues=10)\n",
      " |      # Perform an eigenvalue analysis.\n",
      " |  \n",
      " |  get_mass(self)\n",
      " |  \n",
      " |  mass_global(self)\n",
      " |      The global stiffness matrix of the system under consideration:\n",
      " |  \n",
      " |  mass_global_partition(self)\n",
      " |      # Returns the matrices Mff, Mfp and Mpp for further analysis\n",
      " |  \n",
      " |  plot_modes(self, magnification=1, number_of_modes=3)\n",
      " |  \n",
      " |  plot_system(self, fignum=None, magnification=1, displacement_vector=None, show_node_numbers=True, show_displacement=False, print_text=None, scaling_text=1, show_element_numbers=True, figsize=None)\n",
      " |  \n",
      " |  post_get_displacement(self, node, direction)\n",
      " |  \n",
      " |  post_get_force(self, node, direction)\n",
      " |  \n",
      " |  post_get_stress(self, element_number)\n",
      " |  \n",
      " |  post_print_solution(self)\n",
      " |      # Prints the displacements and forces at the nodes.\n",
      " |      # Prints the stresses and strains in the elements.\n",
      " |  \n",
      " |  post_stress_strain(self, displacement=None)\n",
      " |  \n",
      " |  solve(self)\n",
      " |      Solve the system of equations for the prescribed displacements and loads\n",
      " |  \n",
      " |  stiffness_global(self)\n",
      " |      The global stiffness matrix of the system under consideration:\n",
      " |  \n",
      " |  stiffness_global_partition(self)\n",
      " |      # Returns the matrices Kff, Kfp and Kpp for further analysis\n",
      " |  \n",
      " |  ----------------------------------------------------------------------\n",
      " |  Data descriptors defined here:\n",
      " |  \n",
      " |  __dict__\n",
      " |      dictionary for instance variables (if defined)\n",
      " |  \n",
      " |  __weakref__\n",
      " |      list of weak references to the object (if defined)\n",
      "\n"
     ]
    }
   ],
   "source": [
    "help(sfem.FEM_Truss_2D)"
   ]
  },
  {
   "cell_type": "markdown",
   "id": "3e1eedc1",
   "metadata": {},
   "source": [
    "# Problem 1"
   ]
  },
  {
   "cell_type": "markdown",
   "id": "7335f793",
   "metadata": {},
   "source": [
    "\n",
    "## Definition of the node's coordinates: \n",
    "```python\n",
    "node_coordinates  = np.array([[0,0], # Node 0\n",
    "                              [4,3], # Node 1\n",
    "                              [4,0], # Node 2 \n",
    "                              ]) \n",
    "```\n",
    "## Definition of element connectivity. The element connectivity indicates which nodes are connected to form an element. \n",
    "\n",
    "```python\n",
    "elem_connectivity  = np.array([[0,1], # Element 0\n",
    "                               [0,2], # Element 1\n",
    "                                    ])\n",
    "\n",
    "```\n",
    "\n",
    "## Prescribed displacement:\n",
    "\n",
    "```python\n",
    "prescribed_displacement  = np.array([[1,0,0], # Node 1, x-direction, 0 displacement\n",
    "                                     [1,1,0], # Node 1, y-direction, 0 displacement\n",
    "                                     [2,0,0], # Node 2, x-direction, 0 displacement\n",
    "                                     [2,1,0], # Node 2, y-direction, 0 displacement\n",
    "                                            ])\n",
    "```\n",
    "\n",
    "## Prescribed force\n",
    "\n",
    "```python\n",
    "prescribed_force = np.array([[0,1,-50000] #Node 0, y-direction, -50000 force\n",
    "                            ])\n",
    "```\n",
    "\n",
    "## Definition of element properties. We must provide the value of E, A, $\\rho$ for each element in the structure. \n",
    "\n",
    "```python\n",
    "\n",
    "elem_E = np.array([E0,E1]) # Young's modulus of Element 0, Element 1\n",
    "elem_A = np.array([A0,A1]) # Area of Element 0, Element 1\n",
    "\n",
    "elemprop = {\"A\": elem_A, # We store the area in the key \"A\".\n",
    "            \"E\": elem_E, # We store the Young's modulus in the key \"E\"\n",
    "            \"density\": rho * np.ones(2)} # We store the density in the key \"density\".\n",
    "\n",
    "\n",
    "```\n",
    "\n",
    "## The model is initialised as `tmn`\n",
    "```python\n",
    "\n",
    "tmn = sfem.FEM_Truss_2D(node_coordinates,  # The coordinates of each node\n",
    "                            elem_connectivity,          # The connectivity of the nodes to form elements\n",
    "                            prescribed_displacement,    # The prescribed displacements\n",
    "                            prescribed_force,           # The prescribed loads\n",
    "                            elemprop)                   # The properties of the elements\n",
    "\n",
    "```\n",
    "\n",
    "## We can then access all the functionality of the code through `tmn`:\n",
    "\n",
    "### Plotting the created system\n",
    "```python\n",
    "tmn.plot_system(show_element_numbers=True,show_node_numbers=True)\n",
    "```\n",
    "\n",
    "### Solving the system\n",
    "```python\n",
    "tmn.solve() \n",
    "```\n",
    "### The solution dictionary\n",
    "```python\n",
    "tmn.solution_dict\n",
    "```\n",
    "### Print the solution of the nodal displacements, nodal forces, element strains and element stresses.\n",
    "```python\n",
    "tmn.post_print_solution()\n",
    "```\n",
    "### Visualise the system with the displaced system. The magnification factor is used to increase the displacement.\n",
    "```python\n",
    "tmn.plot_system(show_element_numbers=False,\n",
    "                show_node_numbers=False,\n",
    "                show_displacement=True,\n",
    "                magnification=1000)\n",
    "```\n",
    "### The stress and strain in each element:\n",
    "```python\n",
    "tmn.post_stress_strain()\n",
    "```\n",
    "### Obtain the force associated with a node:\n",
    "```python\n",
    "tmn.post_get_force(0,1)\n",
    "```\n",
    "### Obtain the displacement associated with a node:\n",
    "```python\n",
    "tmn.post_get_displacement(0,1)\n",
    "```\n",
    "### Obtain the stress in the elements:\n",
    "```python\n",
    "tmn.post_get_stress(elemnumber)\n",
    "```\n",
    "\n",
    "\n",
    "\n",
    "### THe mass of the system:\n",
    "```python\n",
    "tmn.get_mass()\n",
    "```"
   ]
  },
  {
   "cell_type": "code",
   "execution_count": 2,
   "id": "57d7f34e",
   "metadata": {},
   "outputs": [
    {
     "name": "stdout",
     "output_type": "stream",
     "text": [
      "Nodal coordinates: (3, 2)\n",
      "Element connectivity: (2, 2)\n",
      "Prescribed displacement: (4, 3)\n",
      "Prescribed forces: (1, 3)\n",
      "elem_E/10^9: [200. 200.]\n",
      "elem_A [0.0025 0.0025]\n"
     ]
    }
   ],
   "source": [
    "node_coordinates  = np.array([[0,0], # Node 0\n",
    "                              [3,3], # Node 1\n",
    "                              [3,0], # Node 2 \n",
    "                              ]) \n",
    "\n",
    "print(\"Nodal coordinates:\",node_coordinates.shape)\n",
    "\n",
    "elem_connectivity  = np.array([[0,1], # Element 0\n",
    "                               [0,2], # Element 1\n",
    "                                    ])\n",
    "\n",
    "print(\"Element connectivity:\",elem_connectivity.shape)\n",
    "\n",
    "prescribed_displacement  = np.array([[1,0,0], # Node 1, x-direction, 0 displacement\n",
    "                                     [1,1,0], # Node 1, y-direction, 0 displacement\n",
    "                                     [2,0,0], # Node 2, x-direction, 0 displacement\n",
    "                                     [2,1,0], # Node 2, y-direction, 0 displacement\n",
    "                                            ])\n",
    "\n",
    "print(\"Prescribed displacement:\",prescribed_displacement.shape)\n",
    "\n",
    "prescribed_force = np.array([[0,1,-50000] #ode 0, y-direction, -50000 force\n",
    "                            ])\n",
    "\n",
    "print(\"Prescribed forces:\",prescribed_force.shape)\n",
    "\n",
    "E   = 200E9 # GPa\n",
    "A   = 0.0025\n",
    "rho = 7800  # kg/m^3\n",
    "\n",
    "elem_E = np.array([E,E])           # Young's modulus of Element 0, Element 1\n",
    "elem_A = np.array([A,A])           # Area of Element 0, Element 1\n",
    "\n",
    "print(\"elem_E/10^9:\",elem_E/1E9)\n",
    "print(\"elem_A\",elem_A)\n",
    "\n",
    "elemprop = {\"A\": elem_A,\n",
    "            \"E\": elem_E,\n",
    "            \"density\": rho * np.ones(2)}\n",
    "\n",
    "tmn = sfem.FEM_Truss_2D(node_coordinates,            # The coordinates of each node\n",
    "                            elem_connectivity,       # The connectivity of the nodes to form elements\n",
    "                            prescribed_displacement, # The prescribed displacements\n",
    "                            prescribed_force,        # The prescribed loads\n",
    "                            elemprop)                # The properties of the elements\n"
   ]
  },
  {
   "cell_type": "markdown",
   "id": "4592001b",
   "metadata": {},
   "source": [
    "## Visualise the system"
   ]
  },
  {
   "cell_type": "code",
   "execution_count": 3,
   "id": "c0b82f92",
   "metadata": {},
   "outputs": [
    {
     "data": {
      "image/png": "[encoded data removed]",
      "text/plain": [
       "<Figure size 432x288 with 1 Axes>"
      ]
     },
     "metadata": {
      "needs_background": "light"
     },
     "output_type": "display_data"
    }
   ],
   "source": [
    "tmn.plot_system()"
   ]
  },
  {
   "cell_type": "markdown",
   "id": "2ca6d124",
   "metadata": {},
   "source": [
    "## Visualise the system without numbers"
   ]
  },
  {
   "cell_type": "code",
   "execution_count": 4,
   "id": "76a3ad86",
   "metadata": {},
   "outputs": [
    {
     "data": {
      "image/png": "[encoded data removed]",
      "text/plain": [
       "<Figure size 432x288 with 1 Axes>"
      ]
     },
     "metadata": {
      "needs_background": "light"
     },
     "output_type": "display_data"
    }
   ],
   "source": [
    "tmn.plot_system(show_element_numbers=False,show_node_numbers=False)"
   ]
  },
  {
   "cell_type": "markdown",
   "id": "d7f7d89e",
   "metadata": {},
   "source": [
    "## Solve the system of equations\n",
    "\n",
    "We can find the unknown forces and displacements by partitioning and solving the system of equations:\n",
    "$$\n",
    "\\{f\\} = [K] \\{u\\}\n",
    "$$"
   ]
  },
  {
   "cell_type": "code",
   "execution_count": 5,
   "id": "6ab787d4",
   "metadata": {},
   "outputs": [
    {
     "data": {
      "text/plain": [
       "{'displacements': array([ 0.0003    , -0.00114853,  0.        ,  0.        ,  0.        ,\n",
       "         0.        ]),\n",
       " 'loads': array([     0., -50000.,  50000.,  50000., -50000.,      0.])}"
      ]
     },
     "execution_count": 5,
     "metadata": {},
     "output_type": "execute_result"
    }
   ],
   "source": [
    "tmn.solve()"
   ]
  },
  {
   "cell_type": "markdown",
   "id": "bbe7848c",
   "metadata": {},
   "source": [
    "## Solved displacement and force results"
   ]
  },
  {
   "cell_type": "code",
   "execution_count": 6,
   "id": "e00bb7e0",
   "metadata": {},
   "outputs": [
    {
     "data": {
      "text/plain": [
       "{'displacements': array([ 0.0003    , -0.00114853,  0.        ,  0.        ,  0.        ,\n",
       "         0.        ]),\n",
       " 'loads': array([     0., -50000.,  50000.,  50000., -50000.,      0.])}"
      ]
     },
     "execution_count": 6,
     "metadata": {},
     "output_type": "execute_result"
    }
   ],
   "source": [
    "tmn.solution_dict"
   ]
  },
  {
   "cell_type": "markdown",
   "id": "392e7f6c",
   "metadata": {},
   "source": [
    "### Nodal displacements"
   ]
  },
  {
   "cell_type": "code",
   "execution_count": 41,
   "id": "e6868a0d",
   "metadata": {},
   "outputs": [
    {
     "data": {
      "text/plain": [
       "array([ 0.0003    , -0.00114853,  0.        ,  0.        ,  0.        ,\n",
       "        0.        ])"
      ]
     },
     "execution_count": 41,
     "metadata": {},
     "output_type": "execute_result"
    }
   ],
   "source": [
    "tmn.solution_dict[\"displacements\"]"
   ]
  },
  {
   "cell_type": "markdown",
   "id": "6b66b56c",
   "metadata": {},
   "source": [
    "### Nodal forces"
   ]
  },
  {
   "cell_type": "code",
   "execution_count": 42,
   "id": "a0db22f7",
   "metadata": {},
   "outputs": [
    {
     "data": {
      "text/plain": [
       "array([     0., -50000.,  50000.,  50000., -50000.,      0.])"
      ]
     },
     "execution_count": 42,
     "metadata": {},
     "output_type": "execute_result"
    }
   ],
   "source": [
    "tmn.solution_dict[\"loads\"]"
   ]
  },
  {
   "cell_type": "markdown",
   "id": "decd0326",
   "metadata": {},
   "source": [
    "## Print the nodal solution and stresses"
   ]
  },
  {
   "cell_type": "code",
   "execution_count": 43,
   "id": "5a28235b",
   "metadata": {},
   "outputs": [
    {
     "name": "stdout",
     "output_type": "stream",
     "text": [
      "                     Node 0                     \n",
      "u_x: 0.300000 x 10^-3, u_y: -1.148528 x 10^-3, F_x: 0.000000, F_y: -50000.000000\n",
      "                     Node 1                     \n",
      "u_x: 0.000000 x 10^-3, u_y: 0.000000 x 10^-3, F_x: 50000.000000, F_y: 50000.000000\n",
      "                     Node 2                     \n",
      "u_x: 0.000000 x 10^-3, u_y: 0.000000 x 10^-3, F_x: -50000.000000, F_y: 0.000000\n",
      "\n",
      "                     Element 0                     \n",
      "stress: 28.284271 x 10^6, strain: 0.000141\n",
      "                     Element 1                     \n",
      "stress: -20.000000 x 10^6, strain: -0.000100\n"
     ]
    }
   ],
   "source": [
    "tmn.post_print_solution()"
   ]
  },
  {
   "cell_type": "markdown",
   "id": "457c4e7b",
   "metadata": {},
   "source": [
    "## Obtain the force for a specific node and direction"
   ]
  },
  {
   "cell_type": "code",
   "execution_count": 44,
   "id": "046b6f39",
   "metadata": {},
   "outputs": [
    {
     "data": {
      "text/plain": [
       "-50000.0"
      ]
     },
     "execution_count": 44,
     "metadata": {},
     "output_type": "execute_result"
    }
   ],
   "source": [
    "tmn.post_get_force(0,1)"
   ]
  },
  {
   "cell_type": "markdown",
   "id": "de2f2eb8",
   "metadata": {},
   "source": [
    "## Obtain the displacement for a specific node and direction"
   ]
  },
  {
   "cell_type": "code",
   "execution_count": 45,
   "id": "9834f718",
   "metadata": {},
   "outputs": [
    {
     "data": {
      "text/plain": [
       "-0.0011485281374238568"
      ]
     },
     "execution_count": 45,
     "metadata": {},
     "output_type": "execute_result"
    }
   ],
   "source": [
    "tmn.post_get_displacement(0,1)"
   ]
  },
  {
   "cell_type": "markdown",
   "id": "92b29b5e",
   "metadata": {},
   "source": [
    "## Obtain the stress for a specific element"
   ]
  },
  {
   "cell_type": "code",
   "execution_count": 46,
   "id": "463d550e",
   "metadata": {},
   "outputs": [
    {
     "data": {
      "text/plain": [
       "28284271.2474619"
      ]
     },
     "execution_count": 46,
     "metadata": {},
     "output_type": "execute_result"
    }
   ],
   "source": [
    "tmn.post_get_stress(0)"
   ]
  },
  {
   "cell_type": "markdown",
   "id": "10dcfb68",
   "metadata": {},
   "source": [
    "## Plot the deformed system"
   ]
  },
  {
   "cell_type": "code",
   "execution_count": 7,
   "id": "dc2a89ac",
   "metadata": {},
   "outputs": [
    {
     "data": {
      "image/png": "[encoded data removed]",
      "text/plain": [
       "<Figure size 432x288 with 1 Axes>"
      ]
     },
     "metadata": {
      "needs_background": "light"
     },
     "output_type": "display_data"
    }
   ],
   "source": [
    "tmn.plot_system(show_element_numbers=False,\n",
    "                show_node_numbers=False,\n",
    "                show_displacement=True,\n",
    "                magnification=1000)"
   ]
  },
  {
   "cell_type": "markdown",
   "id": "26e07145",
   "metadata": {},
   "source": [
    "## Obtain the stress and strain for each element"
   ]
  },
  {
   "cell_type": "code",
   "execution_count": 48,
   "id": "140f4278",
   "metadata": {},
   "outputs": [
    {
     "data": {
      "text/plain": [
       "{'strain': array([ 1.41421356e-04, -1.00000000e-04]),\n",
       " 'stress': array([ 28284271.2474619, -20000000.       ])}"
      ]
     },
     "execution_count": 48,
     "metadata": {},
     "output_type": "execute_result"
    }
   ],
   "source": [
    "tmn.post_stress_strain()"
   ]
  },
  {
   "cell_type": "markdown",
   "id": "0490b32b",
   "metadata": {},
   "source": [
    "## Obtain the stress for each element"
   ]
  },
  {
   "cell_type": "code",
   "execution_count": 49,
   "id": "2cc30054",
   "metadata": {},
   "outputs": [
    {
     "data": {
      "text/plain": [
       "array([ 28284271.2474619, -20000000.       ])"
      ]
     },
     "execution_count": 49,
     "metadata": {},
     "output_type": "execute_result"
    }
   ],
   "source": [
    "tmn.post_stress_strain()[\"stress\"]"
   ]
  },
  {
   "cell_type": "markdown",
   "id": "b7fbcf80",
   "metadata": {},
   "source": [
    "## Obtain the internal forces for each element\n",
    "\n",
    "$$\n",
    "N_{i} = \\sigma_{i} \\cdot A_{i}\n",
    "$$"
   ]
  },
  {
   "cell_type": "code",
   "execution_count": 50,
   "id": "44dbde50",
   "metadata": {},
   "outputs": [
    {
     "name": "stdout",
     "output_type": "stream",
     "text": [
      "A [0.0025 0.0025]\n",
      "Stress [ 28284271.2474619 -20000000.       ]\n"
     ]
    },
    {
     "data": {
      "text/plain": [
       "array([ 70710.67811865, -50000.        ])"
      ]
     },
     "execution_count": 50,
     "metadata": {},
     "output_type": "execute_result"
    }
   ],
   "source": [
    "print(\"A\",elem_A)\n",
    "print(\"Stress\",tmn.post_stress_strain()[\"stress\"])\n",
    "\n",
    "tmn.post_stress_strain()[\"stress\"] * elem_A"
   ]
  },
  {
   "cell_type": "markdown",
   "id": "9b51e9ed",
   "metadata": {},
   "source": [
    "# The mass of the system"
   ]
  },
  {
   "cell_type": "code",
   "execution_count": 51,
   "id": "d1bcba5d",
   "metadata": {},
   "outputs": [
    {
     "data": {
      "text/plain": [
       "141.23149339882605"
      ]
     },
     "execution_count": 51,
     "metadata": {},
     "output_type": "execute_result"
    }
   ],
   "source": [
    "tmn.get_mass()"
   ]
  },
  {
   "cell_type": "code",
   "execution_count": 52,
   "id": "30233672",
   "metadata": {},
   "outputs": [
    {
     "data": {
      "text/plain": [
       "175.5"
      ]
     },
     "execution_count": 52,
     "metadata": {},
     "output_type": "execute_result"
    }
   ],
   "source": [
    "rho * np.dot(elem_A,np.array([4,np.sqrt(4**2 + 3**2)]))"
   ]
  },
  {
   "cell_type": "markdown",
   "id": "741dec0a",
   "metadata": {},
   "source": [
    "## Design parametrisation\n",
    "\n",
    "We can parameterize the model to investigate the influence the influence of parameters (e.g. cross-sectional area, node position, Young's modulus, loads) on the outcome of the model (e.g. stress, strain, displacement, safety factor, ...).\n",
    "\n",
    "**Inputs**\n",
    "\n",
    "In the section below, we will parameterize the cross-sectional areas:\n",
    "$$\n",
    "A_{0} = A \\\\\n",
    "A_{1} = A\n",
    "$$\n",
    "Both cross-sectional areas are the same and equal to $A$, where $A$ must be specified as an input to the model.\n",
    "\n",
    "**Outputs**\n",
    "\n",
    "We will monitor\n",
    "- The vertical displacement of node $0$.\n",
    "- The stress in each element.\n"
   ]
  },
  {
   "cell_type": "code",
   "execution_count": 53,
   "id": "d43c3d7f",
   "metadata": {},
   "outputs": [],
   "source": [
    "def parameterised_model(A):\n",
    "    \n",
    "    node_coordinates  = np.array([[0,0], # Node 0\n",
    "                                  [4,3], # Node 1\n",
    "                                  [4,0], # Node 2 \n",
    "                                  ]) \n",
    "\n",
    "\n",
    "    elem_connectivity  = np.array([[0,1], # Element 0\n",
    "                                   [0,2], # Element 1\n",
    "                                        ])\n",
    "\n",
    "\n",
    "    prescribed_displacement  = np.array([[1,0,0], # Node 1, x-direction, 0 displacement\n",
    "                                         [1,1,0], # Node 1, y-direction, 0 displacement\n",
    "                                         [2,0,0], # Node 2, x-direction, 0 displacement\n",
    "                                         [2,1,0], # Node 2, y-direction, 0 displacement\n",
    "                                                ])\n",
    "\n",
    "    prescribed_force = np.array([[0,1,-50000] #ode 0, y-direction, -50000 force\n",
    "                                ])\n",
    "\n",
    "    E   = 200E9 # GPa\n",
    "    rho = 7800  # kg/m^3\n",
    "\n",
    "    elem_E = np.array([E,E])           # Young's modulus of Element 0, Element 1\n",
    "    elem_A = np.array([A,A])           # Area of Element 0, Element 1\n",
    "\n",
    "    elemprop = {\"A\": elem_A,\n",
    "                \"E\": elem_E,\n",
    "                \"density\": rho * np.ones(2)}\n",
    "\n",
    "    tmn = sfem.FEM_Truss_2D(node_coordinates,            # The coordinates of each node\n",
    "                                elem_connectivity,       # The connectivity of the nodes to form elements\n",
    "                                prescribed_displacement, # The prescribed displacements\n",
    "                                prescribed_force,        # The prescribed loads\n",
    "                                elemprop)                # The properties of the elements\n",
    "\n",
    "    tmn.solve()\n",
    "\n",
    "    v0 = tmn.post_get_displacement(0,1)\n",
    "\n",
    "    stress = [tmn.post_get_stress(0),tmn.post_get_stress(1)]\n",
    "\n",
    "    return [v0,stress]\n",
    "\n"
   ]
  },
  {
   "cell_type": "markdown",
   "id": "b09e0422",
   "metadata": {},
   "source": [
    "## NOTE:\n",
    "\n",
    "Each time that you run the parameterised_model function, you solve a FEM. This can be VERY expensive for higher fidelity models. The solution to this is to perform a number of FEMs and to build a regression model for the inputs and outputs. **IF** this regression model is accurate, it can replace the FEM, which is much faster to run. These regression models are referred to as response surfaces, surrogates or emulators.\n",
    "\n"
   ]
  },
  {
   "cell_type": "code",
   "execution_count": 54,
   "id": "68bb9424",
   "metadata": {},
   "outputs": [
    {
     "data": {
      "text/plain": [
       "Text(0, 0.5, 'Stress magnitude (element 1) [MPa]')"
      ]
     },
     "execution_count": 54,
     "metadata": {},
     "output_type": "execute_result"
    },
    {
     "data": {
      "image/png": "[encoded data removed]",
      "text/plain": [
       "<Figure size 432x288 with 1 Axes>"
      ]
     },
     "metadata": {
      "needs_background": "light"
     },
     "output_type": "display_data"
    },
    {
     "data": {
      "image/png": "[encoded data removed]",
      "text/plain": [
       "<Figure size 432x288 with 1 Axes>"
      ]
     },
     "metadata": {
      "needs_background": "light"
     },
     "output_type": "display_data"
    },
    {
     "data": {
      "image/png": "[encoded data removed]",
      "text/plain": [
       "<Figure size 432x288 with 1 Axes>"
      ]
     },
     "metadata": {
      "needs_background": "light"
     },
     "output_type": "display_data"
    }
   ],
   "source": [
    "Avec = np.logspace(-4,0)\n",
    "    \n",
    "displacement = []\n",
    "stress = []\n",
    "for A in Avec:\n",
    "    v0,s = parameterised_model(A)\n",
    "    \n",
    "    displacement.append(v0)\n",
    "    \n",
    "    stress.append(s)\n",
    "    \n",
    "displacement = np.array(displacement)\n",
    "stress = np.array(stress)\n",
    "    \n",
    "plt.figure(1)\n",
    "plt.loglog(Avec,abs(displacement)*1000)\n",
    "plt.ylabel(\"Displacement magnitude [mm]\")\n",
    "plt.xlabel(\"Cross-sectional area [m^2]\")\n",
    "\n",
    "plt.figure(2)\n",
    "plt.loglog(Avec,abs(stress[:,0])/1E6)\n",
    "plt.xlabel(\"Cross-sectional area [m^2]\")\n",
    "plt.ylabel(\"Stress magnitude (element 0) [MPa]\")\n",
    "\n",
    "plt.figure(3)\n",
    "plt.loglog(Avec,abs(stress[:,1])/1E6)\n",
    "plt.xlabel(\"Cross-sectional area [m^2]\")\n",
    "plt.ylabel(\"Stress magnitude (element 1) [MPa]\")\n"
   ]
  },
  {
   "cell_type": "markdown",
   "id": "5fe4b904",
   "metadata": {},
   "source": [
    "## Response surface\n",
    "\n",
    "It would be very easy to accurately model the responses above with a first order polynomial: \n",
    "$$\n",
    "\\log |v_{0}| = w_{0} + w_{1} \\cdot \\log |A|\n",
    "$$\n",
    "$$\n",
    "\\log |\\sigma_{0}| = w_{2} + w_{3} \\cdot \\log |A|\n",
    "$$\n",
    "$$\n",
    "\\log |\\sigma_{1}| = w_{4} + w_{5} \\cdot \\log |A|\n",
    "$$\n",
    "It is seldom this easy.\n"
   ]
  },
  {
   "cell_type": "markdown",
   "id": "d0171a30",
   "metadata": {},
   "source": [
    "## Design parametrisation (Two-variables)\n",
    "\n",
    "We can parameterize the model to investigate the influence the influence of parameters (e.g. cross-sectional area, node position, Young's modulus, loads) on the outcome of the model (e.g. stress, strain, displacement, safety factor, ...).\n",
    "\n",
    "**Inputs**\n",
    "\n",
    "In the section below, we will parameterize the cross-sectional areas:\n",
    "$$\n",
    "A_{0} = a \\\\\n",
    "A_{1} = b\n",
    "$$\n",
    "where $a$ and $b$ are the two parameters we can choose.\n",
    "\n",
    "**Outputs**\n",
    "\n",
    "We will monitor\n",
    "- The vertical displacement of node $0$.\n",
    "- The stress in each element."
   ]
  },
  {
   "cell_type": "code",
   "execution_count": 55,
   "id": "99e8a8af",
   "metadata": {},
   "outputs": [],
   "source": [
    "def parameterised_model2(list_A0_and_A1):\n",
    "    \n",
    "    node_coordinates  = np.array([[0,0], # Node 0\n",
    "                                  [4,3], # Node 1\n",
    "                                  [4,0], # Node 2 \n",
    "                                  ]) \n",
    "\n",
    "\n",
    "    elem_connectivity  = np.array([[0,1], # Element 0\n",
    "                                   [0,2], # Element 1\n",
    "                                        ])\n",
    "\n",
    "\n",
    "    prescribed_displacement  = np.array([[1,0,0], # Node 1, x-direction, 0 displacement\n",
    "                                         [1,1,0], # Node 1, y-direction, 0 displacement\n",
    "                                         [2,0,0], # Node 2, x-direction, 0 displacement\n",
    "                                         [2,1,0], # Node 2, y-direction, 0 displacement\n",
    "                                                ])\n",
    "\n",
    "    prescribed_force = np.array([[0,1,-50000] #ode 0, y-direction, -50000 force\n",
    "                                ])\n",
    "\n",
    "    E   = 200E9 # GPa\n",
    "    rho = 7800  # kg/m^3\n",
    "\n",
    "    elem_E = np.array([E,E])           # Young's modulus of Element 0, Element 1\n",
    "    elem_A = np.array(list_A0_and_A1)  # Area of Element 0, Element 1\n",
    "\n",
    "    elemprop = {\"A\": elem_A,\n",
    "                \"E\": elem_E,\n",
    "                \"density\": rho * np.ones(2)}\n",
    "\n",
    "    tmn = sfem.FEM_Truss_2D(node_coordinates,            # The coordinates of each node\n",
    "                                elem_connectivity,       # The connectivity of the nodes to form elements\n",
    "                                prescribed_displacement, # The prescribed displacements\n",
    "                                prescribed_force,        # The prescribed loads\n",
    "                                elemprop)                # The properties of the elements\n",
    "\n",
    "    tmn.solve()\n",
    "\n",
    "    v0 = tmn.post_get_displacement(0,1)\n",
    "\n",
    "    stress = [tmn.post_get_stress(0),tmn.post_get_stress(1)]\n",
    "\n",
    "    return [v0,stress]\n"
   ]
  },
  {
   "cell_type": "code",
   "execution_count": 56,
   "id": "1a766ef6",
   "metadata": {},
   "outputs": [
    {
     "name": "stdout",
     "output_type": "stream",
     "text": [
      "Number of FEMs solved: 2550\n"
     ]
    },
    {
     "data": {
      "image/png": "[encoded data removed]",
      "text/plain": [
       "<Figure size 432x288 with 2 Axes>"
      ]
     },
     "metadata": {
      "needs_background": "light"
     },
     "output_type": "display_data"
    },
    {
     "data": {
      "image/png": "[encoded data removed]",
      "text/plain": [
       "<Figure size 432x288 with 2 Axes>"
      ]
     },
     "metadata": {
      "needs_background": "light"
     },
     "output_type": "display_data"
    }
   ],
   "source": [
    "A0vec = np.logspace(-3,0,50)\n",
    "A1vec = np.logspace(-3,0,51)\n",
    "    \n",
    "displacement = np.zeros([A0vec.shape[0],A1vec.shape[0]])\n",
    "stress_elem0 = np.zeros([A0vec.shape[0],A1vec.shape[0]])\n",
    "\n",
    "number_of_fems_solved = 0\n",
    "for idx,A0 in enumerate(A0vec):\n",
    "    \n",
    "    for idy,A1 in enumerate(A1vec):\n",
    "    \n",
    "        number_of_fems_solved += 1\n",
    "    \n",
    "        v0,s = parameterised_model2([A0,A1])\n",
    "\n",
    "        displacement[idx,idy] = v0\n",
    "\n",
    "        stress_elem0[idx,idy] = s[0]\n",
    "        \n",
    "from matplotlib import ticker, cm\n",
    "\n",
    "print(\"Number of FEMs solved:\",int(number_of_fems_solved))\n",
    "\n",
    "plt.figure(1)\n",
    "plt.contourf(np.log10(A0vec),np.log10(A1vec),(np.abs(displacement.T)*1000), locator=ticker.LogLocator())\n",
    "cbar = plt.colorbar()\n",
    "plt.xlabel(\"Log(A0 [m$^2$])\")\n",
    "plt.ylabel(\"Log(A1 [m$^2$])\")\n",
    "cbar.set_label('Displacement [mm]', rotation=90)\n",
    "\n",
    "\n",
    "plt.figure(2)\n",
    "plt.contourf(np.log10(A0vec),np.log10(A1vec),(np.abs(stress_elem0.T)/1E6), locator=ticker.LogLocator())\n",
    "cbar = plt.colorbar()\n",
    "plt.xlabel(\"Log(A0 [m$^2$])\")\n",
    "plt.ylabel(\"Log(A1 [m$^2$])\")\n",
    "cbar.set_label('Stress (element 0) [MPa]', rotation=90)\n"
   ]
  },
  {
   "cell_type": "markdown",
   "id": "28234394",
   "metadata": {},
   "source": [
    "# Problem 2"
   ]
  },
  {
   "cell_type": "code",
   "execution_count": 57,
   "id": "fd052467",
   "metadata": {},
   "outputs": [],
   "source": [
    "node_coordinates  = np.array([[0,0], # Node 0\n",
    "                   [4,0], # Node 1\n",
    "                   [0,3], # Node 2\n",
    "                   [4,3], # Node 3\n",
    "                   [0,6], # Node 4\n",
    "                   [4,6], # Node 5\n",
    "                  ])\n",
    "\n",
    "elem_connectivity  = np.array([[0,1], # Element 0, Node 0 connected to Node 1\n",
    "                              [0,2],  # Element 1, Node 0 connected to Node 2\n",
    "                              [1,2],  # Element 2, Node 2 connected to Node 2\n",
    "                              [1,3],  # Element 3, Node 1 connected to Node 3\n",
    "                              [2,3],  # Element 4, Node 2 connected to Node 3\n",
    "                              [2,4],  # Element 5, Node 2 connected to Node 4                               \n",
    "                              [2,5],  # Element 6, Node 2 connected to Node 5\n",
    "                              [3,5],  # Element 7, Node 3 connected to Node 5\n",
    "                              [4,5]]) # Element 8, Node 4 connected to Node 5\n",
    "\n",
    "prescribed_displacement = np.array([[0,0,0],  # Node 0, x-direction, 0m\n",
    "                                    [0,1,0],  # Node 0, y-direction, 0m\n",
    "                                    [1,1,0]]) # Node 1, y-direction, 0m\n",
    "\n",
    "prescribed_force = np.array([[3,0,100E3],  # Node 3, x-direction, 100000N\n",
    "                             [5,0,200E3]]) # Node 5, x-direction, 200000N\n",
    "\n",
    "\n",
    "# Young's modulus  E0  , E1  , E2  , E3  , E4  , E5  , E6  , E7  , E8 in Pa\n",
    "elem_E = np.array([200., 200., 200., 200., 200., 200., 200., 200.,200.]) *1E9\n",
    "\n",
    "# Cross-sect. A:   A0,A1,A2,A3,A4,A5,A6,A7,A8  m^2\n",
    "elem_A = np.array([30,30,20,30,20,30,20,30,20])/1E4 \n",
    "\n",
    "# Densities    : 7800 * [1,1,1,1,1,1,1,1,1] kg/m^3\n",
    "elem_density = np.ones(elem_A.shape)*7800.0\n",
    "\n",
    "# Element properties dictionary:\n",
    "elemprop = {\"A\": elem_A, # Cross-sectional area\n",
    "            \"E\": elem_E, # Young's modulus\n",
    "            \"density\": elem_density} #Density\n",
    "\n",
    "# Initialise the model\n",
    "tr2 = sfem.FEM_Truss_2D(node_coordinates,\n",
    "                            elem_connectivity,\n",
    "                            prescribed_displacement,\n",
    "                            prescribed_force,\n",
    "                            elemprop)\n",
    "\n"
   ]
  },
  {
   "cell_type": "code",
   "execution_count": 58,
   "id": "e5dd353e",
   "metadata": {},
   "outputs": [
    {
     "data": {
      "image/png": "[encoded data removed]",
      "text/plain": [
       "<Figure size 432x288 with 1 Axes>"
      ]
     },
     "metadata": {
      "needs_background": "light"
     },
     "output_type": "display_data"
    }
   ],
   "source": [
    "tr2.plot_system()"
   ]
  },
  {
   "cell_type": "code",
   "execution_count": 59,
   "id": "1a2ed6c1",
   "metadata": {},
   "outputs": [
    {
     "data": {
      "text/plain": [
       "{'displacements': array([ 0.        ,  0.        ,  0.002     ,  0.        ,  0.00926563,\n",
       "         0.001875  ,  0.01026563, -0.00075   ,  0.01570313,  0.001875  ,\n",
       "         0.01570313, -0.0015    ]),\n",
       " 'loads': array([-300000., -375000.,       0.,  375000.,       0.,       0.,\n",
       "         100000.,       0.,       0.,       0.,  200000.,       0.])}"
      ]
     },
     "execution_count": 59,
     "metadata": {},
     "output_type": "execute_result"
    }
   ],
   "source": [
    "# tr2.post_print_solution()\n",
    "tr2.solve()"
   ]
  },
  {
   "cell_type": "code",
   "execution_count": 60,
   "id": "3f5bffb9",
   "metadata": {},
   "outputs": [
    {
     "name": "stdout",
     "output_type": "stream",
     "text": [
      "                     Node 0                     \n",
      "u_x: 0.000000 x 10^-3, u_y: 0.000000 x 10^-3, F_x: -300000.000000, F_y: -375000.000000\n",
      "                     Node 1                     \n",
      "u_x: 2.000000 x 10^-3, u_y: 0.000000 x 10^-3, F_x: 0.000000, F_y: 375000.000000\n",
      "                     Node 2                     \n",
      "u_x: 9.265625 x 10^-3, u_y: 1.875000 x 10^-3, F_x: 0.000000, F_y: 0.000000\n",
      "                     Node 3                     \n",
      "u_x: 10.265625 x 10^-3, u_y: -0.750000 x 10^-3, F_x: 100000.000000, F_y: 0.000000\n",
      "                     Node 4                     \n",
      "u_x: 15.703125 x 10^-3, u_y: 1.875000 x 10^-3, F_x: 0.000000, F_y: 0.000000\n",
      "                     Node 5                     \n",
      "u_x: 15.703125 x 10^-3, u_y: -1.500000 x 10^-3, F_x: 200000.000000, F_y: 0.000000\n",
      "\n",
      "                     Element 0                     \n",
      "stress: 100.000000 x 10^6, strain: 0.000500\n",
      "                     Element 1                     \n",
      "stress: 125.000000 x 10^6, strain: 0.000625\n",
      "                     Element 2                     \n",
      "stress: -187.500000 x 10^6, strain: -0.000938\n",
      "                     Element 3                     \n",
      "stress: -50.000000 x 10^6, strain: -0.000250\n",
      "                     Element 4                     \n",
      "stress: 50.000000 x 10^6, strain: 0.000250\n",
      "                     Element 5                     \n",
      "stress: -0.000000 x 10^6, strain: -0.000000\n",
      "                     Element 6                     \n",
      "stress: 125.000000 x 10^6, strain: 0.000625\n",
      "                     Element 7                     \n",
      "stress: -50.000000 x 10^6, strain: -0.000250\n",
      "                     Element 8                     \n",
      "stress: 0.000000 x 10^6, strain: 0.000000\n"
     ]
    }
   ],
   "source": [
    "tr2.post_print_solution()"
   ]
  },
  {
   "cell_type": "code",
   "execution_count": 61,
   "id": "a3c149eb",
   "metadata": {},
   "outputs": [
    {
     "data": {
      "image/png": "[encoded data removed]",
      "text/plain": [
       "<Figure size 432x288 with 1 Axes>"
      ]
     },
     "metadata": {
      "needs_background": "light"
     },
     "output_type": "display_data"
    }
   ],
   "source": [
    "tr2.plot_system(show_displacement=True,magnification=20)"
   ]
  },
  {
   "cell_type": "markdown",
   "id": "3f1063a6",
   "metadata": {},
   "source": [
    "# Problem 3"
   ]
  },
  {
   "cell_type": "code",
   "execution_count": 62,
   "id": "297a34cf",
   "metadata": {},
   "outputs": [
    {
     "data": {
      "image/png": "[encoded data removed]",
      "text/plain": [
       "<Figure size 432x288 with 1 Axes>"
      ]
     },
     "metadata": {
      "needs_background": "light"
     },
     "output_type": "display_data"
    }
   ],
   "source": [
    "node_coordinates  = np.array([[0,0],  # Node 0\n",
    "                              [4,0],  # Node 1\n",
    "                              [0,6],  # Node 2\n",
    "                              [4,6]]) # Node 3\n",
    "\n",
    "elem_connectivity  = np.array([[0,1], # Element 0\n",
    "                               [1,3], # Element 1\n",
    "                               [2,3], # Element 2\n",
    "                               [0,2], # Element 3\n",
    "                               [0,3]]) # Element 4\n",
    "\n",
    "prescribed_displacement = np.array([[0,0,0],  # Node 0, x-direction, 0m\n",
    "                                    [0,1,0],  # Node 0, y-direction, 0m\n",
    "                                    [1,1,0]]) # Node 1, y-direction, 0m\n",
    "\n",
    "prescribed_force = np.array([[3,0,200E3]])  # Node 3, x-direction, 200000N\n",
    "\n",
    "\n",
    "elem_E = np.array([200., 200.,200.,200.,200.]) *1E9 # All elements have the same Young's modulus\n",
    "elem_A = np.array([30,30,30,30,30.])/1E4            # All elements have the same Cross-sectional area\n",
    "elem_density = np.ones(elem_A.shape)*7800.0         # All elements have the same Density\n",
    "\n",
    "elemprop = {\"A\": elem_A,\n",
    "            \"E\": elem_E, \n",
    "            \"density\": elem_density}\n",
    "\n",
    "tr2 = sfem.FEM_Truss_2D(node_coordinates,\n",
    "                            elem_connectivity,\n",
    "                            prescribed_displacement,\n",
    "                            prescribed_force,\n",
    "                            elemprop)\n",
    "\n",
    "tr2.plot_system()"
   ]
  },
  {
   "cell_type": "code",
   "execution_count": 63,
   "id": "17926942",
   "metadata": {},
   "outputs": [
    {
     "data": {
      "text/plain": [
       "{'displacements': array([ 0.00000000e+00,  0.00000000e+00, -1.22464680e-19,  0.00000000e+00,\n",
       "         1.23120278e-02, -7.53894270e-19,  1.23120278e-02, -3.00000000e-03]),\n",
       " 'loads': array([-200000., -300000.,       0.,  300000.,       0.,       0.,\n",
       "         200000.,       0.])}"
      ]
     },
     "execution_count": 63,
     "metadata": {},
     "output_type": "execute_result"
    }
   ],
   "source": [
    "tr2.solve()"
   ]
  },
  {
   "cell_type": "code",
   "execution_count": 64,
   "id": "6c7a32da",
   "metadata": {},
   "outputs": [
    {
     "data": {
      "image/png": "[encoded data removed]",
      "text/plain": [
       "<Figure size 432x288 with 1 Axes>"
      ]
     },
     "metadata": {
      "needs_background": "light"
     },
     "output_type": "display_data"
    }
   ],
   "source": [
    "tr2.plot_system(show_displacement=True,magnification=10)"
   ]
  },
  {
   "cell_type": "code",
   "execution_count": 65,
   "id": "ff209cb3",
   "metadata": {},
   "outputs": [
    {
     "name": "stdout",
     "output_type": "stream",
     "text": [
      "                     Node 0                     \n",
      "u_x: 0.000000 x 10^-3, u_y: 0.000000 x 10^-3, F_x: -200000.000000, F_y: -300000.000000\n",
      "                     Node 1                     \n",
      "u_x: -0.000000 x 10^-3, u_y: 0.000000 x 10^-3, F_x: 0.000000, F_y: 300000.000000\n",
      "                     Node 2                     \n",
      "u_x: 12.312028 x 10^-3, u_y: -0.000000 x 10^-3, F_x: 0.000000, F_y: 0.000000\n",
      "                     Node 3                     \n",
      "u_x: 12.312028 x 10^-3, u_y: -3.000000 x 10^-3, F_x: 200000.000000, F_y: 0.000000\n",
      "\n",
      "                     Element 0                     \n",
      "stress: -0.000000 x 10^6, strain: -0.000000\n",
      "                     Element 1                     \n",
      "stress: -100.000000 x 10^6, strain: -0.000500\n",
      "                     Element 2                     \n",
      "stress: 0.000000 x 10^6, strain: 0.000000\n",
      "                     Element 3                     \n",
      "stress: -0.000000 x 10^6, strain: -0.000000\n",
      "                     Element 4                     \n",
      "stress: 120.185043 x 10^6, strain: 0.000601\n"
     ]
    }
   ],
   "source": [
    "tr2.post_print_solution()"
   ]
  },
  {
   "cell_type": "markdown",
   "id": "4c2aae35",
   "metadata": {},
   "source": [
    "# Problem 4"
   ]
  },
  {
   "cell_type": "code",
   "execution_count": 66,
   "id": "3e27d6eb",
   "metadata": {},
   "outputs": [
    {
     "data": {
      "image/png": "[encoded data removed]",
      "text/plain": [
       "<Figure size 432x288 with 1 Axes>"
      ]
     },
     "metadata": {
      "needs_background": "light"
     },
     "output_type": "display_data"
    }
   ],
   "source": [
    "node_coordinates  = np.array([[0,0],\n",
    "                              [4,0],\n",
    "                              [0,6],\n",
    "                              [4,6]])\n",
    "\n",
    "elem_connectivity  = np.array([[0,1],\n",
    "                               [1,3],\n",
    "                               [2,3],\n",
    "                               [2,1],  # Added this element in                             \n",
    "                               [0,2],\n",
    "                               [0,3]])\n",
    "\n",
    "prescribed_displacement = np.array([[0,0,0],\n",
    "                                    [0,1,0],\n",
    "                                    [1,1,0]])\n",
    "\n",
    "prescribed_force = np.array([[3,0,200E3]])\n",
    "\n",
    "\n",
    "elem_E = np.array([200., 200.,200.,200.,200.,200.]) *1E9\n",
    "elem_A = np.array([30,30,30,30,30.,30.])/1E4 \n",
    "elem_density = np.ones(elem_A.shape)*7800.0\n",
    "\n",
    "elemprop = {\"A\": elem_A,\n",
    "            \"E\": elem_E, \n",
    "            \"density\": elem_density}\n",
    "\n",
    "tr2 = sfem.FEM_Truss_2D(node_coordinates,\n",
    "                            elem_connectivity,\n",
    "                            prescribed_displacement,\n",
    "                            prescribed_force,\n",
    "                            elemprop)\n",
    "\n",
    "tr2.plot_system()"
   ]
  },
  {
   "cell_type": "code",
   "execution_count": 67,
   "id": "f80d1bfc",
   "metadata": {},
   "outputs": [
    {
     "data": {
      "text/plain": [
       "{'displacements': array([ 0.        ,  0.        ,  0.00060152,  0.        ,  0.00615601,\n",
       "         0.00135343,  0.00675754, -0.00164657]),\n",
       " 'loads': array([-200000., -300000.,       0.,  300000.,       0.,       0.,\n",
       "         200000.,       0.])}"
      ]
     },
     "execution_count": 67,
     "metadata": {},
     "output_type": "execute_result"
    }
   ],
   "source": [
    "tr2.solve()"
   ]
  },
  {
   "cell_type": "code",
   "execution_count": 68,
   "id": "1b70f20c",
   "metadata": {},
   "outputs": [
    {
     "name": "stdout",
     "output_type": "stream",
     "text": [
      "                     Node 0                     \n",
      "u_x: 0.000000 x 10^-3, u_y: 0.000000 x 10^-3, F_x: -200000.000000, F_y: -300000.000000\n",
      "                     Node 1                     \n",
      "u_x: 0.601524 x 10^-3, u_y: 0.000000 x 10^-3, F_x: 0.000000, F_y: 300000.000000\n",
      "                     Node 2                     \n",
      "u_x: 6.156014 x 10^-3, u_y: 1.353430 x 10^-3, F_x: 0.000000, F_y: 0.000000\n",
      "                     Node 3                     \n",
      "u_x: 6.757538 x 10^-3, u_y: -1.646570 x 10^-3, F_x: 200000.000000, F_y: 0.000000\n",
      "\n",
      "                     Element 0                     \n",
      "stress: 30.076223 x 10^6, strain: 0.000150\n",
      "                     Element 1                     \n",
      "stress: -54.885665 x 10^6, strain: -0.000274\n",
      "                     Element 2                     \n",
      "stress: 30.076223 x 10^6, strain: 0.000150\n",
      "                     Element 3                     \n",
      "stress: -54.220682 x 10^6, strain: -0.000271\n",
      "                     Element 4                     \n",
      "stress: 45.114335 x 10^6, strain: 0.000226\n",
      "                     Element 5                     \n",
      "stress: 65.964360 x 10^6, strain: 0.000330\n"
     ]
    }
   ],
   "source": [
    "tr2.post_print_solution()"
   ]
  }
 ],
 "metadata": {
  "kernelspec": {
   "display_name": "Python 3 (ipykernel)",
   "language": "python",
   "name": "python3"
  },
  "language_info": {
   "codemirror_mode": {
    "name": "ipython",
    "version": 3
   },
   "file_extension": ".py",
   "mimetype": "text/x-python",
   "name": "python",
   "nbconvert_exporter": "python",
   "pygments_lexer": "ipython3",
   "version": "3.9.6"
  }
 },
 "nbformat": 4,
 "nbformat_minor": 5
}
