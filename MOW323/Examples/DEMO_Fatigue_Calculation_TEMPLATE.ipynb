{
 "cells": [
  {
   "cell_type": "code",
   "execution_count": 6,
   "id": "75e55793",
   "metadata": {},
   "outputs": [],
   "source": [
    "import numpy as np \n",
    "import matplotlib.pyplot as plt \n",
    "import scipy.stats as scistats"
   ]
  },
  {
   "cell_type": "code",
   "execution_count": 10,
   "id": "fd1d9963",
   "metadata": {},
   "outputs": [],
   "source": [
    "\n",
    "Sut = 690   # MPa\n",
    "Sy  = 580   # MPa \n",
    "E   = 200E3 # MPa\n",
    "\n",
    "def fatigue_strength_fraction(Sut):\n",
    "\n",
    "    Se = 0.5 * Sut\n",
    "\n",
    "    Ne = 1E6\n",
    "\n",
    "    sigmaf = Sut + 345\n",
    "\n",
    "    b = - np.log10(sigmaf/Se)/np.log10( 2 * Ne)\n",
    "\n",
    "    f = sigmaf / Sut * (2 * 10**3) ** b\n",
    "    \n",
    "    return f\n",
    "\n",
    "f = fatigue_strength_fraction(Sut)\n"
   ]
  },
  {
   "cell_type": "code",
   "execution_count": null,
   "id": "775c647d",
   "metadata": {},
   "outputs": [],
   "source": []
  }
 ],
 "metadata": {
  "kernelspec": {
   "display_name": "Python 3",
   "language": "python",
   "name": "python3"
  },
  "language_info": {
   "codemirror_mode": {
    "name": "ipython",
    "version": 3
   },
   "file_extension": ".py",
   "mimetype": "text/x-python",
   "name": "python",
   "nbconvert_exporter": "python",
   "pygments_lexer": "ipython3",
   "version": "3.8.8"
  }
 },
 "nbformat": 4,
 "nbformat_minor": 5
}
