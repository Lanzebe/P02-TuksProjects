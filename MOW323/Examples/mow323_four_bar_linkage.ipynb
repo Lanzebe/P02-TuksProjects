{
 "cells": [
  {
   "cell_type": "markdown",
   "id": "68469d92",
   "metadata": {},
   "source": [
    "# Kinematics and Kinetics of a Four Bar Linkage"
   ]
  },
  {
   "cell_type": "code",
   "execution_count": 1,
   "id": "d830c790",
   "metadata": {},
   "outputs": [],
   "source": [
    "import numpy as np \n",
    "import matplotlib.pyplot as plt \n",
    "import scipy.optimize as sciopt"
   ]
  },
  {
   "cell_type": "code",
   "execution_count": 2,
   "id": "dfc29435",
   "metadata": {},
   "outputs": [],
   "source": [
    "def plot_vector(x_s,x_e):\n",
    "    plt.plot([x_s[0],x_e[0]],[x_s[1],x_e[1]])\n",
    "    "
   ]
  },
  {
   "cell_type": "markdown",
   "id": "a94b16cd",
   "metadata": {},
   "source": [
    "## Initial parameters"
   ]
  },
  {
   "cell_type": "code",
   "execution_count": 3,
   "id": "1a5cbb51",
   "metadata": {},
   "outputs": [],
   "source": [
    "theta2 = np.deg2rad(60)\n",
    "l1 = 482.6/ 1000\n",
    "l2 = 127/ 1000\n",
    "l3 = 381/ 1000\n",
    "l4 = 254/ 1000"
   ]
  },
  {
   "cell_type": "markdown",
   "id": "ff9c5e32",
   "metadata": {},
   "source": [
    "## Position analysis\n",
    "\n",
    "There are two equivalent functions shown below: \n",
    "- position_residual(theta2,theta3,theta4,l1,l2,l3,l4)\n",
    "- position_residual2(theta2,theta3,theta4,l1,l2,l3,l4)\n",
    "You can use any one of those to find the position of theta3, theta4"
   ]
  },
  {
   "cell_type": "code",
   "execution_count": 4,
   "id": "3a7c00c3",
   "metadata": {},
   "outputs": [
    {
     "data": {
      "text/plain": [
       "array([ 20.91722487, 104.40972127])"
      ]
     },
     "execution_count": 4,
     "metadata": {},
     "output_type": "execute_result"
    }
   ],
   "source": [
    "\n",
    "def position_residual(theta1,theta2,theta3,theta4,l1,l2,l3,l4):\n",
    "    \n",
    "    res = l2 * np.exp(1j * theta2) + l3 * np.exp(1j *theta3) - l4 * np.exp(1j *theta4) - l1 * np.exp(1j * theta1)\n",
    "\n",
    "    return np.array([np.real(res),np.imag(res)])\n",
    "\n",
    "def position_residual2(theta1,theta2,theta3,theta4,l1,l2,l3,l4):     \n",
    "    eq1 = l2 * np.cos(theta2) + l3 * np.cos(theta3) - l4 * np.cos(theta4) - l1 * np.cos(theta1)\n",
    "    eq2 = l2 * np.sin(theta2) + l3 * np.sin(theta3) - l4 * np.sin(theta4) - l1 * np.sin(theta1)\n",
    "    res = np.array([eq1,eq2])\n",
    "    return res\n",
    "\n",
    "\n",
    "def solve_function(x):\n",
    "    \n",
    "    return position_residual(0,theta2,x[0],x[1],l1,l2,l3,l4)\n",
    "\n",
    "theta3,theta4 = sciopt.fsolve(solve_function,[0,0])\n",
    "\n",
    "np.rad2deg([theta3,theta4])"
   ]
  },
  {
   "cell_type": "markdown",
   "id": "e51701a1",
   "metadata": {},
   "source": [
    "## Plot the mechanism"
   ]
  },
  {
   "cell_type": "code",
   "execution_count": 5,
   "id": "3e3b6c3d",
   "metadata": {},
   "outputs": [
    {
     "data": {
      "image/png": "[encoded data removed]",
      "text/plain": [
       "<Figure size 432x288 with 1 Axes>"
      ]
     },
     "metadata": {
      "needs_background": "light"
     },
     "output_type": "display_data"
    }
   ],
   "source": [
    "xA,yA = np.cos(theta2)*l2 , np.sin(theta2)*l2\n",
    "xB,yB = xA + np.cos(theta3)*l3 , yA + np.sin(theta3)*l3\n",
    "xO4,yO4 = l1,0\n",
    "\n",
    "plt.figure(1)\n",
    "# plt.plot([0,xA],[0,yA])\n",
    "# plt.plot([xA,xB],[yA,yB])\n",
    "# plt.plot([xO4,xB],[yO4,yB])\n",
    "plot_vector([0,0],[xA,yA])\n",
    "plot_vector([xA,yA],[xB,yB])\n",
    "plot_vector([xB,yB],[xO4,yO4])\n"
   ]
  },
  {
   "cell_type": "markdown",
   "id": "c49d68c5",
   "metadata": {},
   "source": [
    "## Velocity analysis"
   ]
  },
  {
   "cell_type": "code",
   "execution_count": 6,
   "id": "a8c478ec",
   "metadata": {},
   "outputs": [],
   "source": [
    "w2 = 25"
   ]
  },
  {
   "cell_type": "code",
   "execution_count": 7,
   "id": "404afe5d",
   "metadata": {},
   "outputs": [
    {
     "name": "stdout",
     "output_type": "stream",
     "text": [
      "-5.869354068471628 7.931634292025387\n"
     ]
    }
   ],
   "source": [
    "A = np.array([[-l3 * np.cos(theta3),l4*np.cos(theta4)],[-l3 * np.sin(theta3),l4*np.sin(theta4)]]) \n",
    "b = l2 * np.array([np.cos(theta2),np.sin(theta2)]) * w2\n",
    "\n",
    "w3,w4 = np.linalg.solve(A,b)\n",
    "\n",
    "print(w3,w4)"
   ]
  },
  {
   "cell_type": "markdown",
   "id": "b9088585",
   "metadata": {},
   "source": [
    "## Acceleration analysis\n",
    "\n",
    "\n",
    "### The given angular acceleration"
   ]
  },
  {
   "cell_type": "code",
   "execution_count": 8,
   "id": "464df88b",
   "metadata": {},
   "outputs": [],
   "source": [
    "alpha2 = 0"
   ]
  },
  {
   "cell_type": "markdown",
   "id": "aea0e4df",
   "metadata": {},
   "source": [
    "### Solve the unknown parameters"
   ]
  },
  {
   "cell_type": "code",
   "execution_count": 9,
   "id": "2c08a4d7",
   "metadata": {},
   "outputs": [
    {
     "data": {
      "text/plain": [
       "array([111.50587893, 288.97971394])"
      ]
     },
     "execution_count": 9,
     "metadata": {},
     "output_type": "execute_result"
    }
   ],
   "source": [
    "\n",
    "A_acc = np.array([[l3 * np.real(np.exp(1j * theta3) * 1j), -l4 * np.real(np.exp(1j * theta4) * 1j)],\n",
    "                  [l3 * np.imag(np.exp(1j * theta3) * 1j), -l4 * np.imag(np.exp(1j * theta4) * 1j)]])\n",
    "\n",
    "b2 = np.array([np.real(l2 * (-np.exp(1j*theta2) * w2**2 + np.exp(1j*theta2) * 1j * alpha2)),\n",
    "               np.imag(l2 * (-np.exp(1j*theta2) * w2**2 + np.exp(1j*theta2) * 1j * alpha2))])\n",
    "\n",
    "b3 = np.array([np.real(l3 * (-np.exp(1j*theta3)*w3**2)),\n",
    "               np.imag(l3 * (-np.exp(1j*theta3)*w3**2))])\n",
    "                     \n",
    "b4 = np.array([np.real(-l4 * (-np.exp(1j*theta4)*w4**2)),\n",
    "               np.imag(-l4 * (-np.exp(1j*theta4)*w4**2))])\n",
    "\n",
    "                     \n",
    "\n",
    "b_acc = -b2 - b3 - b4\n",
    "\n",
    "np.linalg.solve(A_acc,b_acc)\n"
   ]
  },
  {
   "cell_type": "code",
   "execution_count": 10,
   "id": "593843c4",
   "metadata": {},
   "outputs": [
    {
     "name": "stdout",
     "output_type": "stream",
     "text": [
      "111.50587892725167 288.9797139437731 [-1.42108547e-14 -7.10542736e-15]\n"
     ]
    }
   ],
   "source": [
    "\n",
    "def residual_acceleration(x):\n",
    "    \n",
    "    alpha3,alpha4 = x\n",
    "    \n",
    "    term2 = l2 * (-np.exp(1j*theta2) * w2**2 + np.exp(1j*theta2) * 1j * alpha2)\n",
    "    \n",
    "    term3 = l3 * (-np.exp(1j*theta3)*w3**2 + 1j * np.exp(1j*theta3) * alpha3)\n",
    "    \n",
    "    term4 = - l4 * (-np.exp(1j*theta4)*w4**2 + 1j * np.exp(1j*theta4) * alpha4)\n",
    "    \n",
    "    residual = term2  + term3 + term4\n",
    "\n",
    "    return np.array([np.real(residual),np.imag(residual)])\n",
    "\n",
    "alpha3,alpha4 = sciopt.fsolve(residual_acceleration,[0,0])\n",
    "\n",
    "print(alpha3,alpha4,residual_acceleration([alpha3,alpha4]))\n"
   ]
  },
  {
   "cell_type": "markdown",
   "id": "870fe2c2",
   "metadata": {},
   "source": [
    "## Positions of centre of mass\n",
    "\n",
    "### Known parameters"
   ]
  },
  {
   "cell_type": "code",
   "execution_count": 11,
   "id": "36bf22f2",
   "metadata": {},
   "outputs": [],
   "source": [
    "l_G2O2 = 76.2 / 1000\n",
    "l_G3A  = 228.6 / 1000\n",
    "l_EA   = 294.8328896404719 / 1000\n",
    "l_G4O4 = 127 / 1000\n",
    "\n",
    "thetaG2 = np.deg2rad(30) \n",
    "thetaG3 = np.deg2rad(45) \n",
    "thetaG4 = np.deg2rad(0) \n",
    "thetaE  = np.deg2rad(74.26250649302872)\n"
   ]
  },
  {
   "cell_type": "markdown",
   "id": "382879d4",
   "metadata": {},
   "source": [
    "### Positions"
   ]
  },
  {
   "cell_type": "code",
   "execution_count": 12,
   "id": "88de4293",
   "metadata": {},
   "outputs": [
    {
     "name": "stdout",
     "output_type": "stream",
     "text": [
      "(0.45099551388226333+0.12300470095583253j)\n"
     ]
    }
   ],
   "source": [
    "xO2 = 0 + 0j\n",
    "xA  = l2 * np.exp(1j * theta2)\n",
    "xB  = xA + l3 * np.exp(1j * theta3)\n",
    "xO4 = l1 + 0j\n",
    "\n",
    "xG2 = xO2 + l_G2O2 * np.exp(1j * (theta2 + thetaG2))\n",
    "\n",
    "xG3 = xA + l_G3A * np.exp(1j * (theta3 + thetaG3))\n",
    "\n",
    "xE  = xA + l_EA * np.exp(1j * (theta3 + thetaE))\n",
    "\n",
    "xG4 = xO4 + l_G4O4 * np.exp(1j * (theta4 + thetaG4))\n",
    "\n",
    "print(xG4)\n"
   ]
  },
  {
   "cell_type": "markdown",
   "id": "0cb6ad2a",
   "metadata": {},
   "source": [
    "## Relative position vectors - used in the calculations of the moments:"
   ]
  },
  {
   "cell_type": "code",
   "execution_count": 13,
   "id": "1df42f03",
   "metadata": {},
   "outputs": [],
   "source": [
    "r_O2G2 = xO2 - xG2\n",
    "r_AG2  = xA  - xG2\n",
    "r_AG3  = xA  - xG3\n",
    "r_BG3  = xB  - xG3\n",
    "r_BG4  = xB  - xG4\n",
    "r_O4G4 = xO4 - xG4\n",
    "r_EG3   = xE  - xG3"
   ]
  },
  {
   "cell_type": "markdown",
   "id": "e7715c8c",
   "metadata": {},
   "source": [
    "## Dynamic analysis"
   ]
  },
  {
   "cell_type": "code",
   "execution_count": 14,
   "id": "6958e476",
   "metadata": {},
   "outputs": [],
   "source": [
    "decompose_real_imag = lambda x: (np.real(x), np.imag(x))"
   ]
  },
  {
   "cell_type": "code",
   "execution_count": 15,
   "id": "6c455c73",
   "metadata": {},
   "outputs": [],
   "source": [
    "x_O2G,y_O2G = decompose_real_imag(r_O2G2)\n",
    "x_AG2,y_AG2 = decompose_real_imag(r_AG2)\n",
    "x_AG3,y_AG3 = decompose_real_imag(r_AG3)\n",
    "x_BG3,y_BG3 = decompose_real_imag(r_BG3)\n",
    "x_BG4,y_BG4 = decompose_real_imag(r_BG4)\n",
    "x_O4G4,y_O4G4 = decompose_real_imag(r_O4G4)\n",
    "\n",
    "x_EG3,y_EG3 = decompose_real_imag(r_EG3)\n"
   ]
  },
  {
   "cell_type": "markdown",
   "id": "ea03112f",
   "metadata": {},
   "source": [
    "### Given mass parameters"
   ]
  },
  {
   "cell_type": "code",
   "execution_count": 16,
   "id": "a8c27df5",
   "metadata": {},
   "outputs": [],
   "source": [
    "m2 = 0.680\n",
    "m3 = 3.493\n",
    "m4 = 2.631\n",
    "\n",
    "Ig2 = 0.006\n",
    "Ig3 = 0.011 \n",
    "Ig4 = 0.090"
   ]
  },
  {
   "cell_type": "markdown",
   "id": "b58cee86",
   "metadata": {},
   "source": [
    "### External load parameters"
   ]
  },
  {
   "cell_type": "code",
   "execution_count": 17,
   "id": "52ce6386",
   "metadata": {},
   "outputs": [],
   "source": [
    "fex = 308.184\n",
    "fey = -177.930\n",
    "T4 = 13.558"
   ]
  },
  {
   "cell_type": "code",
   "execution_count": 18,
   "id": "27def827",
   "metadata": {},
   "outputs": [],
   "source": [
    "alpha_g2 = float(alpha2)\n",
    "alpha_g3 = float(alpha3)\n",
    "alpha_g4 = float(alpha4)"
   ]
  },
  {
   "cell_type": "code",
   "execution_count": 19,
   "id": "dda6d857",
   "metadata": {},
   "outputs": [],
   "source": [
    "def linear_acceleration_of_point_P(aA,lPA,theta,omega,alpha,thetaP):\n",
    "    \n",
    "    aP = aA + lPA * np.exp(1j * (theta + thetaP)) * (-omega**2 + alpha * 1j)\n",
    "    \n",
    "    return aP "
   ]
  },
  {
   "cell_type": "code",
   "execution_count": 20,
   "id": "14f6e743",
   "metadata": {},
   "outputs": [
    {
     "name": "stdout",
     "output_type": "stream",
     "text": [
      "(-2.916190190469635e-15-47.625j)\n",
      "(-66.17248149081468-65.52895856514762j)\n",
      "(-33.557599078258114-16.871382271360925j)\n"
     ]
    }
   ],
   "source": [
    "aG2 = linear_acceleration_of_point_P(0j,l_G2O2,theta2,w2,alpha2,thetaG2)\n",
    "\n",
    "aA = linear_acceleration_of_point_P(0j,l2,theta2,w2,alpha2,0)\n",
    "\n",
    "aG3 = linear_acceleration_of_point_P(aA,l_G3A,theta3,w3,alpha3,thetaG3)\n",
    "\n",
    "aG4 = linear_acceleration_of_point_P(0j,l_G4O4,theta4,w4,alpha4,thetaG4)\n",
    "\n",
    "print(aG2)\n",
    "print(aG3)\n",
    "print(aG4)"
   ]
  },
  {
   "cell_type": "code",
   "execution_count": 21,
   "id": "4d462c5b",
   "metadata": {},
   "outputs": [],
   "source": [
    "a_G2x,a_G2y = decompose_real_imag(aG2)\n",
    "a_G3x,a_G3y = decompose_real_imag(aG3)\n",
    "a_G4x,a_G4y = decompose_real_imag(aG4)"
   ]
  },
  {
   "cell_type": "code",
   "execution_count": 22,
   "id": "4c8334d7",
   "metadata": {},
   "outputs": [],
   "source": [
    "\n",
    "A_row1 = [1,0,1,0,0,0,0,0,0]\n",
    "A_row2 = [0,1,0,1,0,0,0,0,0]\n",
    "A_row3 = [-y_O2G,x_O2G,-y_AG2,x_AG2,0,0,0,0,1]\n",
    "A_row4 = [0,0,-1,0,1,0,0,0,0]\n",
    "A_row5 = [0,0,0,-1,0,1,0,0,0]\n",
    "A_row6 = [0,0,y_AG3,-x_AG3,-y_BG3,x_BG3,0,0,0]\n",
    "A_row7 = [0,0,0,0,-1,0,1,0,0]\n",
    "A_row8 = [0,0,0,0,0,-1,0,1,0]\n",
    "A_row9 = [0,0,0,0,y_BG4,-x_BG4,-y_O4G4,x_O4G4,0]\n",
    "\n",
    "A_matrix = np.array([A_row1,A_row2,A_row3,A_row4,A_row5,A_row6,A_row7,A_row8,A_row9])\n",
    "\n",
    "b_vector = np.array([\n",
    "                     m2 * a_G2x,\n",
    "                     m2 * a_G2y,\n",
    "                     Ig2 * alpha_g2,\n",
    "                     m3 * a_G3x - fex,\n",
    "                     m3 * a_G3y - fey, \n",
    "                     Ig3 * alpha_g3 - (x_EG3 * fey - y_EG3 * fex),\n",
    "                     m4 * a_G4x, \n",
    "                     m4 * a_G4y,     \n",
    "                     Ig4 * alpha_g4 - T4,\n",
    "                    ])\n",
    "\n",
    "x = np.linalg.solve(A_matrix,b_vector)"
   ]
  },
  {
   "cell_type": "markdown",
   "id": "6c4c2301",
   "metadata": {},
   "source": [
    "## Forces at the nodes"
   ]
  },
  {
   "cell_type": "code",
   "execution_count": 23,
   "id": "2215f52d",
   "metadata": {},
   "outputs": [
    {
     "name": "stdout",
     "output_type": "stream",
     "text": [
      "fO2x=-555.939749461331\n",
      "fO2y=-409.6562435564391\n",
      "fA2x=555.939749461331\n",
      "fA2y=377.2712435564391\n",
      "fB3x=16.615271613915255\n",
      "fB3y=326.30859128837847\n",
      "fO4x=-71.67477156098184\n",
      "fO4y=281.91998453242786\n",
      "T2=37.18843517706384\n"
     ]
    }
   ],
   "source": [
    "fO2x = x[0]\n",
    "fO2y = x[1] \n",
    "fA2x = x[2] \n",
    "fA2y = x[3] \n",
    "fB3x = x[4] \n",
    "fB3y = x[5] \n",
    "fO4x = x[6] \n",
    "fO4y = x[7] \n",
    "T2   = x[8]\n",
    "\n",
    "labels = [\"fO2x\",\"fO2y\",\"fA2x\",\"fA2y\",\"fB3x\",\"fB3y\",\"fO4x\",\"fO4y\",\"T2\"]\n",
    "for i,j in zip(labels,x):\n",
    "    print(\"{}={}\".format(i,j))\n"
   ]
  },
  {
   "cell_type": "code",
   "execution_count": 24,
   "id": "9ff0000f",
   "metadata": {},
   "outputs": [
    {
     "name": "stdout",
     "output_type": "stream",
     "text": [
      "(-555.939749461331-409.6562435564391j)\n",
      "(0.5000000000000001+0.8660254037844386j)\n",
      "(-316.37129423472356-547.9711556708637j)\n",
      "632.742588469447 276.6298242288492\n",
      "671.8650134109897 671.8650134109897\n"
     ]
    }
   ],
   "source": [
    "\n",
    "# theta2 = np.pi\n",
    "\n",
    "fO2 = fO2x + 1j * fO2y\n",
    "uO2A = np.exp(1j*theta2)\n",
    "\n",
    "print(fO2)\n",
    "print(uO2A)\n",
    "\n",
    "def dot_complex_rep(a,b): \n",
    "    \n",
    "    return np.real(a) * np.real(b) + np.imag(a) * np.imag(b) \n",
    "\n",
    "fO2_n = dot_complex_rep(fO2,uO2A) * uO2A\n",
    "\n",
    "print(fO2_n)\n",
    "\n",
    "fO2_t = fO2 - fO2_n\n",
    "\n",
    "fA2 = fA2x + 1j * fA2y\n",
    "fA2_n = fA2 * uO2A\n",
    "fA2_t = fA2 - fA2_n\n",
    "\n",
    "print(np.abs(fO2_n),np.abs(fO2_t))\n",
    "print(np.abs(fA2_n),np.abs(fA2_t))\n",
    "\n"
   ]
  },
  {
   "cell_type": "code",
   "execution_count": 25,
   "id": "c316280e",
   "metadata": {},
   "outputs": [
    {
     "data": {
      "text/plain": [
       "690.5702302560544"
      ]
     },
     "execution_count": 25,
     "metadata": {},
     "output_type": "execute_result"
    }
   ],
   "source": [
    "np.linalg.norm([x[0],x[1]])"
   ]
  },
  {
   "cell_type": "code",
   "execution_count": 26,
   "id": "ecb986bb",
   "metadata": {},
   "outputs": [
    {
     "data": {
      "text/plain": [
       "671.8650134109897"
      ]
     },
     "execution_count": 26,
     "metadata": {},
     "output_type": "execute_result"
    }
   ],
   "source": [
    "np.linalg.norm([x[2],x[3]])"
   ]
  },
  {
   "cell_type": "code",
   "execution_count": 27,
   "id": "4ccc308e",
   "metadata": {},
   "outputs": [
    {
     "data": {
      "text/plain": [
       "326.73133305425455"
      ]
     },
     "execution_count": 27,
     "metadata": {},
     "output_type": "execute_result"
    }
   ],
   "source": [
    "np.linalg.norm([x[4],x[5]])"
   ]
  },
  {
   "cell_type": "code",
   "execution_count": 28,
   "id": "e273ef97",
   "metadata": {},
   "outputs": [
    {
     "data": {
      "text/plain": [
       "290.8885534995891"
      ]
     },
     "execution_count": 28,
     "metadata": {},
     "output_type": "execute_result"
    }
   ],
   "source": [
    "np.linalg.norm([x[6],x[7]])"
   ]
  },
  {
   "cell_type": "code",
   "execution_count": 29,
   "id": "de276eee",
   "metadata": {},
   "outputs": [],
   "source": [
    "import scipy.optimize as sciopt\n",
    "import numpy as np "
   ]
  },
  {
   "cell_type": "code",
   "execution_count": 30,
   "id": "6725b385",
   "metadata": {},
   "outputs": [],
   "source": [
    "theta2v = np.arange(0,1,0.001)\n",
    "data = []\n",
    "\n",
    "alpha3,alpha4 = [0,0]\n",
    "theta3,theta4 = [0,0]\n",
    "\n",
    "for theta2 in (theta2v):\n",
    "    \n",
    "    l1 = 482.6/ 1000\n",
    "    l2 = 127/ 1000\n",
    "    l3 = 381/ 1000\n",
    "    l4 = 254/ 1000\n",
    "\n",
    "    w2 = 50\n",
    "\n",
    "    alpha2 = -40\n",
    "\n",
    "    l_G2O2 = 76.2 / 1000\n",
    "    l_G3A  = 228.6 / 1000\n",
    "    l_EA   = 294.8328896404719 / 1000\n",
    "    l_G4O4 = 127 / 1000\n",
    "\n",
    "    thetaG2 = np.deg2rad(30) \n",
    "    thetaG3 = np.deg2rad(45) \n",
    "    thetaG4 = np.deg2rad(0) \n",
    "    thetaE  = np.deg2rad(74.26250649302872)\n",
    "\n",
    "    m2 = 0.680 * 2\n",
    "    m3 = 3.493 * 2\n",
    "    m4 = 2.631 * 2\n",
    "\n",
    "    Ig2 = 0.006 * 2\n",
    "    Ig3 = 0.011 * 2 \n",
    "    Ig4 = 0.090 * 2\n",
    "\n",
    "    fex = 308.184\n",
    "    fey = -177.930\n",
    "    T4 = 13.558\n",
    "\n",
    "    def position_residual(theta1,theta2,theta3,theta4,l1,l2,l3,l4):     \n",
    "        eq1 = l2 * np.cos(theta2) + l3 * np.cos(theta3) - l4 * np.cos(theta4) - l1 * np.cos(theta1)\n",
    "        eq2 = l2 * np.sin(theta2) + l3 * np.sin(theta3) - l4 * np.sin(theta4) - l1 * np.sin(theta1)\n",
    "        res = np.array([eq1,eq2])\n",
    "        return res\n",
    "\n",
    "    def solve_function(x):\n",
    "\n",
    "        return position_residual(0,theta2,x[0],x[1],l1,l2,l3,l4)\n",
    "\n",
    "    theta3,theta4 = sciopt.fsolve(solve_function,[theta3,theta4])\n",
    "\n",
    "    A = np.array([[-l3 * np.cos(theta3),l4*np.cos(theta4)],[-l3 * np.sin(theta3),l4*np.sin(theta4)]]) \n",
    "    b = l2 * np.array([np.cos(theta2),np.sin(theta2)]) * w2\n",
    "\n",
    "    w3,w4 = np.linalg.solve(A,b)\n",
    "\n",
    "    def residual_acceleration(x):\n",
    "\n",
    "        alpha3,alpha4 = x\n",
    "\n",
    "        term2 = l2 * (-np.exp(1j*theta2) * w2**2 + np.exp(1j*theta2) * 1j * alpha2)\n",
    "\n",
    "        term3 = l3 * (-np.exp(1j*theta3)*w3**2 + 1j * np.exp(1j*theta3) * alpha3)\n",
    "\n",
    "        term4 = - l4 * (-np.exp(1j*theta4)*w4**2 + 1j * np.exp(1j*theta4) * alpha4)\n",
    "\n",
    "        residual = term2  + term3 + term4\n",
    "\n",
    "        return np.array([np.real(residual),np.imag(residual)])\n",
    "\n",
    "    alpha3,alpha4 = sciopt.fsolve(residual_acceleration,[alpha3,alpha4])\n",
    "\n",
    "    xO2 = 0 + 0j\n",
    "    xA  = l2 * np.exp(1j * theta2)\n",
    "    xB  = xA + l3 * np.exp(1j * theta3)\n",
    "    xO4 = l1 + 0j\n",
    "\n",
    "    xG2 = xO2 + l_G2O2 * np.exp(1j * (theta2 + thetaG2))\n",
    "\n",
    "    xG3 = xA + l_G3A * np.exp(1j * (theta3 + thetaG3))\n",
    "\n",
    "    xE  = xA + l_EA * np.exp(1j * (theta3 + thetaE))\n",
    "\n",
    "    xG4 = xO4 + l_G4O4 * np.exp(1j * (theta4 + thetaG4))\n",
    "\n",
    "    r_O2G2 = xO2 - xG2\n",
    "    r_AG2  = xA  - xG2\n",
    "    r_AG3  = xA  - xG3\n",
    "    r_BG3  = xB  - xG3\n",
    "    r_BG4  = xB  - xG4\n",
    "    r_O4G4 = xO4 - xG4\n",
    "    r_EG3   = xE  - xG3\n",
    "\n",
    "    decompose_real_imag = lambda x: (np.real(x), np.imag(x))\n",
    "\n",
    "    x_O2G,y_O2G = decompose_real_imag(r_O2G2)\n",
    "    x_AG2,y_AG2 = decompose_real_imag(r_AG2)\n",
    "    x_AG3,y_AG3 = decompose_real_imag(r_AG3)\n",
    "    x_BG3,y_BG3 = decompose_real_imag(r_BG3)\n",
    "    x_BG4,y_BG4 = decompose_real_imag(r_BG4)\n",
    "    x_O4G4,y_O4G4 = decompose_real_imag(r_O4G4)\n",
    "\n",
    "    x_EG3,y_EG3 = decompose_real_imag(r_EG3)\n",
    "    \n",
    "    alpha_g2 = float(alpha2)\n",
    "    alpha_g3 = float(alpha3)\n",
    "    alpha_g4 = float(alpha4)\n",
    "\n",
    "    def linear_acceleration_of_point_P(aA,lPA,theta,omega,alpha,thetaP):\n",
    "\n",
    "        aP = aA + lPA * np.exp(1j * (theta + thetaP)) * (-omega**2 + alpha * 1j)\n",
    "\n",
    "        return aP \n",
    "\n",
    "    aG2 = linear_acceleration_of_point_P(0j,l_G2O2,theta2,w2,alpha2,thetaG2)\n",
    "\n",
    "    aA = linear_acceleration_of_point_P(0j,l2,theta2,w2,alpha2,0)\n",
    "\n",
    "    aG3 = linear_acceleration_of_point_P(aA,l_G3A,theta3,w3,alpha3,thetaG3)\n",
    "\n",
    "    aG4 = linear_acceleration_of_point_P(0j,l_G4O4,theta4,w4,alpha4,thetaG4)\n",
    "\n",
    "    a_G2x,a_G2y = decompose_real_imag(aG2)\n",
    "    a_G3x,a_G3y = decompose_real_imag(aG3)\n",
    "    a_G4x,a_G4y = decompose_real_imag(aG4)\n",
    "\n",
    "\n",
    "    A_row1 = [1,0,1,0,0,0,0,0,0]\n",
    "    A_row2 = [0,1,0,1,0,0,0,0,0]\n",
    "    A_row3 = [-y_O2G,x_O2G,-y_AG2,x_AG2,0,0,0,0,1]\n",
    "    A_row4 = [0,0,-1,0,1,0,0,0,0]\n",
    "    A_row5 = [0,0,0,-1,0,1,0,0,0]\n",
    "    A_row6 = [0,0,y_AG3,-x_AG3,-y_BG3,x_BG3,0,0,0]\n",
    "    A_row7 = [0,0,0,0,-1,0,1,0,0]\n",
    "    A_row8 = [0,0,0,0,0,-1,0,1,0]\n",
    "    A_row9 = [0,0,0,0,y_BG4,-x_BG4,-y_O4G4,x_O4G4,0]\n",
    "\n",
    "    A_matrix = np.array([A_row1,A_row2,A_row3,A_row4,A_row5,A_row6,A_row7,A_row8,A_row9])\n",
    "\n",
    "    b_vector = np.array([\n",
    "                         m2 * a_G2x,\n",
    "                         m2 * a_G2y,\n",
    "                         Ig2 * alpha_g2,\n",
    "                         m3 * a_G3x - fex,\n",
    "                         m3 * a_G3y - fey, \n",
    "                         Ig3 * alpha_g3 - (x_EG3 * fey - y_EG3 * fex),\n",
    "                         m4 * a_G4x, \n",
    "                         m4 * a_G4y,     \n",
    "                         Ig4 * alpha_g4 - T4,\n",
    "                        ])\n",
    "\n",
    "    x = np.linalg.solve(A_matrix,b_vector)\n",
    "\n",
    "    data.append(x)\n",
    "    \n",
    "    fO2x = x[0]\n",
    "    fO2y = x[1] \n",
    "    fA2x = x[2] \n",
    "    fA2y = x[3] \n",
    "    fB3x = x[4] \n",
    "    fB3y = x[5] \n",
    "    fO4x = x[6] \n",
    "    fO4y = x[7] \n",
    "    T2   = x[8]\n"
   ]
  },
  {
   "cell_type": "code",
   "execution_count": null,
   "id": "89e05cae",
   "metadata": {},
   "outputs": [],
   "source": [
    "\n",
    "\n"
   ]
  },
  {
   "cell_type": "code",
   "execution_count": 31,
   "id": "ef3af644",
   "metadata": {},
   "outputs": [],
   "source": [
    "\n",
    "data = np.array(data)\n"
   ]
  },
  {
   "cell_type": "code",
   "execution_count": 32,
   "id": "eb6709f5",
   "metadata": {},
   "outputs": [
    {
     "data": {
      "text/plain": [
       "[<matplotlib.lines.Line2D at 0x23b3c17be20>]"
      ]
     },
     "execution_count": 32,
     "metadata": {},
     "output_type": "execute_result"
    },
    {
     "data": {
      "image/png": "[encoded data removed]",
      "text/plain": [
       "<Figure size 432x288 with 1 Axes>"
      ]
     },
     "metadata": {
      "needs_background": "light"
     },
     "output_type": "display_data"
    }
   ],
   "source": [
    "import matplotlib.pyplot as plt\n",
    "plt.figure(1)\n",
    "plt.plot(theta2v,np.sqrt(data[:,6]**2 + data[:,7]**2))"
   ]
  },
  {
   "cell_type": "code",
   "execution_count": null,
   "id": "37c2c9a3",
   "metadata": {},
   "outputs": [],
   "source": []
  }
 ],
 "metadata": {
  "kernelspec": {
   "display_name": "Python 3",
   "language": "python",
   "name": "python3"
  },
  "language_info": {
   "codemirror_mode": {
    "name": "ipython",
    "version": 3
   },
   "file_extension": ".py",
   "mimetype": "text/x-python",
   "name": "python",
   "nbconvert_exporter": "python",
   "pygments_lexer": "ipython3",
   "version": "3.8.8"
  }
 },
 "nbformat": 4,
 "nbformat_minor": 5
}
