{
 "cells": [
  {
   "cell_type": "markdown",
   "id": "7657839d",
   "metadata": {},
   "source": [
    "# MOW 323 - Simulation-based design \n",
    "\n",
    "# Beam Elements - Static analysis\n",
    "\n",
    "The purpose of this jupyter notebook is to introduce you to beam elements in engmod. \n",
    "\n",
    "The beam elements used in this code have the following properties: \n",
    "\n",
    "- Two nodes\n",
    "- Each node has three-degrees-of-freedom\n",
    "  * Axial displacement/Load \n",
    "  * Transverse displacement/Load \n",
    "  * Angular displacement(rotation)/Moment\n",
    "This means that each element has six degrees-of-freedom. "
   ]
  },
  {
   "cell_type": "code",
   "execution_count": 1,
   "id": "9271d926",
   "metadata": {},
   "outputs": [
    {
     "name": "stdout",
     "output_type": "stream",
     "text": [
      "Added module.\n",
      "EngMod Development Mode Activated. Not applicable/relevant to students.\n"
     ]
    }
   ],
   "source": [
    "import importlib; \n",
    "try:\n",
    "    import engmod.structfem as sfem; importlib.reload(sfem)\n",
    "except:\n",
    "    try:\n",
    "        import add_engmod\n",
    "        import engmod.structfem as sfem; importlib.reload(sfem)    \n",
    "        print(\"EngMod Development Mode Activated. Not applicable/relevant to students.\")        \n",
    "    except Exception as e:\n",
    "        print(e)\n",
    "        print(\"Engmod is not located in the correct folder. \")\n",
    "\n",
    "import numpy as np \n",
    "import matplotlib.pyplot as plt "
   ]
  },
  {
   "cell_type": "code",
   "execution_count": 2,
   "id": "3ad7efaa",
   "metadata": {},
   "outputs": [
    {
     "data": {
      "text/plain": [
       "'2021-10-07'"
      ]
     },
     "execution_count": 2,
     "metadata": {},
     "output_type": "execute_result"
    }
   ],
   "source": [
    "sfem.__version__"
   ]
  },
  {
   "cell_type": "markdown",
   "id": "0265e9f8",
   "metadata": {},
   "source": [
    "# Beam example 1"
   ]
  },
  {
   "cell_type": "code",
   "execution_count": 3,
   "id": "05d10dd8",
   "metadata": {},
   "outputs": [],
   "source": [
    "# The total length of the beam. \n",
    "L_beam = 1 \n",
    "# The Young's modulus in Pa\n",
    "E = 200E9\n",
    "# The height of the beam in metres\n",
    "h = 30/1E3\n",
    "# The width of the beam in metres\n",
    "b = 10/1E3\n",
    "# The area moment of inertia:\n",
    "I = 1/12 * b * h**3\n",
    "# The cross-sectional area\n",
    "A = h * b\n",
    "# The density (only important for dynamic analyses)\n",
    "rho = 7800\n",
    "# The force applied to the structure. \n",
    "F = 1000"
   ]
  },
  {
   "cell_type": "markdown",
   "id": "059ae07c",
   "metadata": {},
   "source": [
    "# Sanity checks\n",
    "\n",
    "The displacement of a simply supported can be calculated with the following equation\n",
    "\n",
    "$$\n",
    "\\delta = \\frac{F \\cdot L^3}{48 \\cdot E \\cdot I}\n",
    "$$\n",
    "\n",
    "The force is applied at the centre in the upward direction"
   ]
  },
  {
   "cell_type": "code",
   "execution_count": 4,
   "id": "031edd4a",
   "metadata": {},
   "outputs": [
    {
     "data": {
      "text/plain": [
       "(4.629629629629631, ' in mm')"
      ]
     },
     "execution_count": 4,
     "metadata": {},
     "output_type": "execute_result"
    }
   ],
   "source": [
    "F * L_beam**3 / (48 * E * I) * 1000,\" in mm\""
   ]
  },
  {
   "cell_type": "markdown",
   "id": "b0146b8e",
   "metadata": {},
   "source": [
    "The bending moment in a simply supported beam with a force applied to the centre is given by\n",
    "$$\n",
    "M = -\\frac{F \\cdot L}{4} \n",
    "$$\n",
    "for an upward force of $F$ applied to the edge of the beam."
   ]
  },
  {
   "cell_type": "code",
   "execution_count": 5,
   "id": "426d4e19",
   "metadata": {},
   "outputs": [
    {
     "data": {
      "text/plain": [
       "-250.0"
      ]
     },
     "execution_count": 5,
     "metadata": {},
     "output_type": "execute_result"
    }
   ],
   "source": [
    "M_max = -F * L_beam/2 /2\n",
    "\n",
    "M_max"
   ]
  },
  {
   "cell_type": "markdown",
   "id": "48d95a89",
   "metadata": {},
   "source": [
    "# Finite element calculation\n",
    "\n",
    "```python\n",
    "\n",
    "\n",
    "# In this beam we have three nodes\n",
    "nodecoor = np.array([\n",
    "                     [0,0],        # Node 0\n",
    "                     [L_beam/2,0], # Node 1\n",
    "                     [L_beam,0]])  # Node 2\n",
    "\n",
    "elemconn = np.array([\n",
    "                     [0,1], # Element 0 connects Node 0 and Node 1\n",
    "                     [1,2]  # Element 1 connects Node 1 and Node 2\n",
    "                     ])\n",
    "\n",
    "# Initialise the prescribed displacement as an empty list:\n",
    "prescribed_displacement = []\n",
    "# Prescribed displacement applied to Node 0, in the 0 direction (x-direcion) with a displacement of 0\n",
    "prescribed_displacement.append(np.array([0,0,0]))\n",
    "# Prescribed displacement applied to Node 0, in the 1 direction (y-direcion) with a displacement of 0\n",
    "prescribed_displacement.append(np.array([0,1,0]))\n",
    "# Prescribed displacement applied to Node 2, in the 0 direction (x-direcion) with a displacement of 0\n",
    "prescribed_displacement.append(np.array([2,0,0]))\n",
    "# Prescribed displacement applied to Node 2, in the 1 direction (y-direcion) with a displacement of 0\n",
    "prescribed_displacement.append(np.array([2,1,0]))\n",
    "# Convert the prescribed displacement list to an array:\n",
    "prescribed_displacement = np.array(prescribed_displacement)\n",
    "\n",
    "\"\"\"\n",
    "This is an equivalent method to define the prescribed displacements\n",
    "\n",
    "prescribed_displacement = np.array([\n",
    "                                    [0,0,0], # Node 0, in the 0 direction (x-direcion) with a displacement of 0\n",
    "                                    [0,1,0], # Node 0, in the 1 direction (y-direcion) with a displacement of 0\n",
    "                                    [2,0,0], # Node 2, in the 0 direction (x-direcion) with a displacement of 0\n",
    "                                    [2,1,0]  # Node 2, in the 1 direction (y-direcion) with a displacement of 0\n",
    "                                   ])\n",
    "\"\"\"\n",
    "\n",
    "# Initialise the prescribed force as an empty list:\n",
    "prescribed_forces = []\n",
    "# Prescribed force applied to Node 1, in the 1 direction (y-direcion) with a magnitude of F.\n",
    "prescribed_forces.append(np.array([1,1,F]))\n",
    "# Convert the prescribed force list to an array:\n",
    "prescribed_forces = np.array(prescribed_forces)\n",
    "\n",
    "\"\"\"\n",
    "This is an equivalent method to define the prescribed forces\n",
    "\n",
    "prescribed_forces = np.array([\n",
    "                              [1,1,F], # Prescribed force applied to Node 1, in the 1 direction (y-direcion) with a magnitude of F.\n",
    "                             ])\n",
    "\"\"\"\n",
    "\n",
    "# Element properties\n",
    "elemprop = {}\n",
    "# Young's modulus [Pa]\n",
    "elemprop[\"E\"] = np.ones(elemconn.shape[0]) * E\n",
    "# Area moment of inertia [m^4]\n",
    "elemprop[\"I\"] = np.ones(elemconn.shape[0]) * I\n",
    "# Cross-sectional area [m^2]\n",
    "elemprop[\"A\"] = np.ones(elemconn.shape[0]) * A\n",
    "# Density [kg/m^3]\n",
    "elemprop[\"density\"] = np.ones(elemconn.shape[0]) * rho\n",
    "\n",
    "fmn = sfem.FEM_Beam_2D(nodecoor,                # Nodal coordinates\n",
    "                       elemconn,                # Element connectivity\n",
    "                       prescribed_displacement, # Prescribed displacements\n",
    "                       prescribed_forces,       # Prescribed forces\n",
    "                       elemprop)                # Element properties\n",
    "\n",
    "\n",
    "```\n"
   ]
  },
  {
   "cell_type": "code",
   "execution_count": 6,
   "id": "536ae561",
   "metadata": {},
   "outputs": [],
   "source": [
    "\n",
    "# In this beam we have three nodes\n",
    "nodecoor = np.array([\n",
    "                     [0,0],        # Node 0\n",
    "                     [L_beam/2,0], # Node 1\n",
    "                     [L_beam,0]])  # Node 2\n",
    "\n",
    "elemconn = np.array([\n",
    "                     [0,1], # Element 0 connects Node 0 and Node 1\n",
    "                     [1,2]  # Element 1 connects Node 1 and Node 2\n",
    "                     ])\n",
    "\n",
    "# Initialise the prescribed displacement as an empty list:\n",
    "prescribed_displacement = []\n",
    "# Prescribed displacement applied to Node 0, in the 0 direction (x-direcion) with a displacement of 0\n",
    "prescribed_displacement.append(np.array([0,0,0]))\n",
    "# Prescribed displacement applied to Node 0, in the 1 direction (y-direcion) with a displacement of 0\n",
    "prescribed_displacement.append(np.array([0,1,0]))\n",
    "# Prescribed displacement applied to Node 2, in the 0 direction (x-direcion) with a displacement of 0\n",
    "prescribed_displacement.append(np.array([2,0,0]))\n",
    "# Prescribed displacement applied to Node 2, in the 1 direction (y-direcion) with a displacement of 0\n",
    "prescribed_displacement.append(np.array([2,1,0]))\n",
    "# Convert the prescribed displacement list to an array:\n",
    "prescribed_displacement = np.array(prescribed_displacement)\n",
    "\n",
    "\"\"\"\n",
    "This is an equivalent method to define the prescribed displacements\n",
    "\n",
    "prescribed_displacement = np.array([\n",
    "                                    [0,0,0], # Node 0, in the 0 direction (x-direcion) with a displacement of 0\n",
    "                                    [0,1,0], # Node 0, in the 1 direction (y-direcion) with a displacement of 0\n",
    "                                    [2,0,0], # Node 2, in the 0 direction (x-direcion) with a displacement of 0\n",
    "                                    [2,1,0]  # Node 2, in the 1 direction (y-direcion) with a displacement of 0\n",
    "                                   ])\n",
    "\"\"\"\n",
    "\n",
    "# Initialise the prescribed force as an empty list:\n",
    "prescribed_forces = []\n",
    "# Prescribed force applied to Node 1, in the 1 direction (y-direcion) with a magnitude of F.\n",
    "prescribed_forces.append(np.array([1,1,abs(F)]))\n",
    "# Convert the prescribed force list to an array:\n",
    "prescribed_forces = np.array(prescribed_forces)\n",
    "\n",
    "\"\"\"\n",
    "This is an equivalent method to define the prescribed forces\n",
    "\n",
    "prescribed_forces = np.array([\n",
    "                              [1,1,F], # Prescribed force applied to Node 1, in the 1 direction (y-direcion) with a magnitude of F.\n",
    "                             ])\n",
    "\"\"\"\n",
    "\n",
    "# Element properties\n",
    "elemprop = {}\n",
    "# Young's modulus [Pa]\n",
    "elemprop[\"E\"] = np.ones(elemconn.shape[0]) * E\n",
    "# Area moment of inertia [m^4]\n",
    "elemprop[\"I\"] = np.ones(elemconn.shape[0]) * I\n",
    "# Cross-sectional area [m^2]\n",
    "elemprop[\"A\"] = np.ones(elemconn.shape[0]) * A\n",
    "# Density [kg/m^3]\n",
    "elemprop[\"density\"] = np.ones(elemconn.shape[0]) * rho\n",
    "\n",
    "fmn = sfem.FEM_Beam_2D(nodecoor,                # Nodal coordinates\n",
    "                       elemconn,                # Element connectivity\n",
    "                       prescribed_displacement, # Prescribed displacements\n",
    "                       prescribed_forces,       # Prescribed forces\n",
    "                       elemprop)                # Element properties\n"
   ]
  },
  {
   "cell_type": "markdown",
   "id": "26f17ea8",
   "metadata": {},
   "source": [
    "Plot the system"
   ]
  },
  {
   "cell_type": "code",
   "execution_count": 7,
   "id": "dbbbe923",
   "metadata": {},
   "outputs": [
    {
     "data": {
      "image/png": "[encoded data removed]",
      "text/plain": [
       "<Figure size 432x288 with 1 Axes>"
      ]
     },
     "metadata": {
      "needs_background": "light"
     },
     "output_type": "display_data"
    }
   ],
   "source": [
    "fmn.plot_system()"
   ]
  },
  {
   "cell_type": "markdown",
   "id": "c1f7c1ec",
   "metadata": {},
   "source": [
    "Solve the system of equations \n",
    "$$\n",
    "[K]\\{u\\} = \\{f\\}\n",
    "$$"
   ]
  },
  {
   "cell_type": "code",
   "execution_count": 8,
   "id": "31ee5985",
   "metadata": {},
   "outputs": [
    {
     "data": {
      "text/plain": [
       "{'displacements': array([ 0.00000000e+00,  0.00000000e+00,  1.38888889e-02,  0.00000000e+00,\n",
       "         4.62962963e-03, -1.03762163e-19,  0.00000000e+00,  0.00000000e+00,\n",
       "        -1.38888889e-02]),\n",
       " 'loads': array([   0., -500.,    0.,    0., 1000.,    0.,    0., -500.,    0.])}"
      ]
     },
     "execution_count": 8,
     "metadata": {},
     "output_type": "execute_result"
    }
   ],
   "source": [
    "solution_dict = fmn.solve()\n",
    "\n",
    "solution_dict"
   ]
  },
  {
   "cell_type": "markdown",
   "id": "b0028c4a",
   "metadata": {},
   "source": [
    "The displacement data in the solution dictionary:"
   ]
  },
  {
   "cell_type": "code",
   "execution_count": 9,
   "id": "1077bea5",
   "metadata": {
    "scrolled": false
   },
   "outputs": [
    {
     "data": {
      "text/plain": [
       "array([ 0.00000000e+00,  0.00000000e+00,  1.38888889e-02,  0.00000000e+00,\n",
       "        4.62962963e-03, -1.03762163e-19,  0.00000000e+00,  0.00000000e+00,\n",
       "       -1.38888889e-02])"
      ]
     },
     "execution_count": 9,
     "metadata": {},
     "output_type": "execute_result"
    }
   ],
   "source": [
    "solution_dict[\"displacements\"]"
   ]
  },
  {
   "cell_type": "markdown",
   "id": "522d0fe2",
   "metadata": {},
   "source": [
    "The displacement loads in the solution dictionary:"
   ]
  },
  {
   "cell_type": "code",
   "execution_count": 10,
   "id": "90b921cb",
   "metadata": {},
   "outputs": [
    {
     "data": {
      "text/plain": [
       "array([   0., -500.,    0.,    0., 1000.,    0.,    0., -500.,    0.])"
      ]
     },
     "execution_count": 10,
     "metadata": {},
     "output_type": "execute_result"
    }
   ],
   "source": [
    "solution_dict[\"loads\"]"
   ]
  },
  {
   "cell_type": "code",
   "execution_count": 11,
   "id": "44fb7baa",
   "metadata": {
    "scrolled": false
   },
   "outputs": [
    {
     "data": {
      "image/png": "[encoded data removed]",
      "text/plain": [
       "<Figure size 432x288 with 1 Axes>"
      ]
     },
     "metadata": {
      "needs_background": "light"
     },
     "output_type": "display_data"
    }
   ],
   "source": [
    "fmn.plot_system(show_displacement=True)"
   ]
  },
  {
   "cell_type": "markdown",
   "id": "4243f5ea",
   "metadata": {},
   "source": [
    "Plot the solution at the nodes and the elements\n",
    "\n",
    "<span style=\"color: #ff0000\">Warning: The bending moments are not incorporated in the solution</span> "
   ]
  },
  {
   "cell_type": "code",
   "execution_count": 12,
   "id": "9147cbb1",
   "metadata": {},
   "outputs": [
    {
     "name": "stdout",
     "output_type": "stream",
     "text": [
      "                     Node 0                     \n",
      "u_x: 0.000000 x 10^-3, u_y: 0.000000 x 10^-3, angle: 0.013889, F_x: 0.000000, F_y: -500.000000, M_z: 0.000000\n",
      "                     Node 1                     \n",
      "u_x: 0.000000 x 10^-3, u_y: 4.629630 x 10^-3, angle: -0.000000, F_x: 0.000000, F_y: 1000.000000, M_z: 0.000000\n",
      "                     Node 2                     \n",
      "u_x: 0.000000 x 10^-3, u_y: 0.000000 x 10^-3, angle: -0.013889, F_x: 0.000000, F_y: -500.000000, M_z: 0.000000\n",
      "\n",
      "******************** WARNING ********************\n",
      "*** Bending stresses not calculated ***\n",
      "******************** WARNING ********************\n",
      "\n",
      "                     Element 0                     \n",
      "Normal stress due to axial load (only): 0.000000 x 10^6\n",
      "                     Element 1                     \n",
      "Normal stress due to axial load (only): 0.000000 x 10^6\n",
      "\n",
      "******************** WARNING ********************\n",
      "*** Bending stresses not calculated ***\n",
      "******************** WARNING ********************\n"
     ]
    }
   ],
   "source": [
    "fmn.post_print_solution()"
   ]
  },
  {
   "cell_type": "markdown",
   "id": "af383357",
   "metadata": {},
   "source": [
    "Plot the bending moment solution. "
   ]
  },
  {
   "cell_type": "code",
   "execution_count": 13,
   "id": "3a8e5b7c",
   "metadata": {
    "scrolled": true
   },
   "outputs": [
    {
     "name": "stdout",
     "output_type": "stream",
     "text": [
      "Minimum bending moment: -250.00000000000003\n",
      "Maximum bending moment: 0.0\n"
     ]
    },
    {
     "data": {
      "image/png": "[encoded data removed]",
      "text/plain": [
       "<Figure size 432x288 with 2 Axes>"
      ]
     },
     "metadata": {
      "needs_background": "light"
     },
     "output_type": "display_data"
    }
   ],
   "source": [
    "fmn.post_plot_bending_moment()"
   ]
  },
  {
   "cell_type": "markdown",
   "id": "601bc09e",
   "metadata": {},
   "source": [
    "We can calculate the bending stress using the bending moment by supplying a function: \n",
    "\n",
    "$$\n",
    "\\sigma_{xx} = \\frac{M \\cdot y}{I} = M \\cdot \\frac{y}{I} \n",
    "$$\n",
    "\n",
    "<span style=\"color: #ff0000\">Unfortunately, we can only calculate stresses in the form:\n",
    "$$\n",
    "\\sigma_{xx} = M \\cdot \\text{const}\n",
    "$$\n",
    "</span> "
   ]
  },
  {
   "cell_type": "code",
   "execution_count": 14,
   "id": "262b363f",
   "metadata": {},
   "outputs": [
    {
     "name": "stdout",
     "output_type": "stream",
     "text": [
      "Minimum bending moment: -250.00000000000003\n",
      "Maximum bending moment: 0.0\n",
      "Minimum TRANSFORMED bending moment: -166.6666666666667\n",
      "Maximum TRANSFORMED bending moment: 0.0\n"
     ]
    },
    {
     "data": {
      "image/png": "[encoded data removed]",
      "text/plain": [
       "<Figure size 432x288 with 2 Axes>"
      ]
     },
     "metadata": {
      "needs_background": "light"
     },
     "output_type": "display_data"
    }
   ],
   "source": [
    "constant = h/2/I/1E6\n",
    "\n",
    "function = lambda M: M*constant # Stress in MPa\n",
    "\n",
    "fmn.post_plot_bending_moment(function=function)"
   ]
  },
  {
   "cell_type": "markdown",
   "id": "b48a0d66",
   "metadata": {},
   "source": [
    "Displacement at a node"
   ]
  },
  {
   "cell_type": "code",
   "execution_count": 15,
   "id": "2d2b6518",
   "metadata": {},
   "outputs": [
    {
     "data": {
      "text/plain": [
       "4.6296296296296315"
      ]
     },
     "execution_count": 15,
     "metadata": {},
     "output_type": "execute_result"
    }
   ],
   "source": [
    "fmn.post_get_displacement(1,1) * 1000"
   ]
  },
  {
   "cell_type": "markdown",
   "id": "68b19c57",
   "metadata": {},
   "source": [
    "Force applied to a node"
   ]
  },
  {
   "cell_type": "code",
   "execution_count": 16,
   "id": "48a6302f",
   "metadata": {},
   "outputs": [
    {
     "data": {
      "text/plain": [
       "1000.0"
      ]
     },
     "execution_count": 16,
     "metadata": {},
     "output_type": "execute_result"
    }
   ],
   "source": [
    "fmn.post_get_force(1,1) "
   ]
  },
  {
   "cell_type": "markdown",
   "id": "d8f80778",
   "metadata": {},
   "source": [
    "Stress in an element (without including the bending moments. Be careful with the interpretation)"
   ]
  },
  {
   "cell_type": "code",
   "execution_count": 17,
   "id": "9ab690f6",
   "metadata": {},
   "outputs": [
    {
     "name": "stdout",
     "output_type": "stream",
     "text": [
      "WARNING: It does not include the stresses due to the bending moments.\n"
     ]
    },
    {
     "data": {
      "text/plain": [
       "0.0"
      ]
     },
     "execution_count": 17,
     "metadata": {},
     "output_type": "execute_result"
    }
   ],
   "source": [
    "fmn.post_get_stress(1) "
   ]
  },
  {
   "cell_type": "markdown",
   "id": "d111e3db",
   "metadata": {},
   "source": [
    "Bending moment variation over a profile"
   ]
  },
  {
   "cell_type": "code",
   "execution_count": 18,
   "id": "e7324463",
   "metadata": {},
   "outputs": [
    {
     "data": {
      "text/plain": [
       "Text(0.5, 0, 'Location on the x-axis')"
      ]
     },
     "execution_count": 18,
     "metadata": {},
     "output_type": "execute_result"
    },
    {
     "data": {
      "image/png": "[encoded data removed]",
      "text/plain": [
       "<Figure size 432x288 with 1 Axes>"
      ]
     },
     "metadata": {
      "needs_background": "light"
     },
     "output_type": "display_data"
    }
   ],
   "source": [
    "dict_moment = fmn.post_get_bending_moment(0,npoints=10)\n",
    "\n",
    "plt.figure(1)\n",
    "plt.plot(dict_moment[\"x_coor\"],dict_moment[\"moment\"])\n",
    "plt.ylabel(\"Bending moment [N.m]\")\n",
    "plt.xlabel(\"Location on the x-axis\")"
   ]
  },
  {
   "cell_type": "markdown",
   "id": "e7cf4a9a",
   "metadata": {},
   "source": [
    "Plotting the bending moment over the whole beam:"
   ]
  },
  {
   "cell_type": "code",
   "execution_count": 19,
   "id": "445cb460",
   "metadata": {},
   "outputs": [
    {
     "data": {
      "text/plain": [
       "Text(0.5, 0, 'Location on the x-axis')"
      ]
     },
     "execution_count": 19,
     "metadata": {},
     "output_type": "execute_result"
    },
    {
     "data": {
      "image/png": "[encoded data removed]",
      "text/plain": [
       "<Figure size 432x288 with 1 Axes>"
      ]
     },
     "metadata": {
      "needs_background": "light"
     },
     "output_type": "display_data"
    }
   ],
   "source": [
    "dict_moment = fmn.post_get_bending_moment(0,npoints=10)\n",
    "\n",
    "plt.figure(1)\n",
    "plt.plot(dict_moment[\"x_coor\"],dict_moment[\"moment\"])\n",
    "plt.ylabel(\"Bending moment [N.m]\")\n",
    "plt.xlabel(\"Location on the x-axis\")\n",
    "\n",
    "dict_moment = fmn.post_get_bending_moment(1,npoints=10)\n",
    "\n",
    "plt.figure(1)\n",
    "plt.plot(dict_moment[\"x_coor\"],dict_moment[\"moment\"])\n",
    "plt.ylabel(\"Bending moment [N.m]\")\n",
    "plt.xlabel(\"Location on the x-axis\")"
   ]
  },
  {
   "cell_type": "markdown",
   "id": "739456d1",
   "metadata": {},
   "source": [
    "Plotting the bending stress over the whole beam"
   ]
  },
  {
   "cell_type": "code",
   "execution_count": 20,
   "id": "e41e0e34",
   "metadata": {},
   "outputs": [
    {
     "data": {
      "text/plain": [
       "[<matplotlib.lines.Line2D at 0x21ff68d8b20>]"
      ]
     },
     "execution_count": 20,
     "metadata": {},
     "output_type": "execute_result"
    },
    {
     "data": {
      "image/png": "[encoded data removed]",
      "text/plain": [
       "<Figure size 432x288 with 1 Axes>"
      ]
     },
     "metadata": {
      "needs_background": "light"
     },
     "output_type": "display_data"
    }
   ],
   "source": [
    "dict_moment = fmn.post_get_bending_moment(0,npoints=10)\n",
    "\n",
    "plt.figure(1)\n",
    "plt.plot(dict_moment[\"x_coor\"],dict_moment[\"moment\"] * constant)\n",
    "plt.ylabel(\"Stress [MPa]\")\n",
    "plt.xlabel(\"Location on the x-axis\")\n",
    "\n",
    "dict_moment = fmn.post_get_bending_moment(1,npoints=10)\n",
    "\n",
    "plt.figure(1)\n",
    "plt.plot(dict_moment[\"x_coor\"],dict_moment[\"moment\"] * constant)"
   ]
  },
  {
   "cell_type": "markdown",
   "id": "624d371c",
   "metadata": {},
   "source": [
    "Safety factor plot for a yield strength of 250 MPa.\n",
    "\n",
    "Assume that there are only bending stresses, the Von-Mises stress is equal to $|\\sigma_{xx}|$ and therefore the safety factor is equal to\n",
    "$$\n",
    "\\text{Safety factor} = \\frac{250}{|\\sigma_{xx}|}\n",
    "$$"
   ]
  },
  {
   "cell_type": "code",
   "execution_count": 21,
   "id": "6a7e4fb6",
   "metadata": {},
   "outputs": [
    {
     "name": "stdout",
     "output_type": "stream",
     "text": [
      "Safety factor of  2\n"
     ]
    },
    {
     "data": {
      "text/plain": [
       "<matplotlib.legend.Legend at 0x21ff6912970>"
      ]
     },
     "execution_count": 21,
     "metadata": {},
     "output_type": "execute_result"
    },
    {
     "data": {
      "image/png": "[encoded data removed]",
      "text/plain": [
       "<Figure size 432x288 with 1 Axes>"
      ]
     },
     "metadata": {
      "needs_background": "light"
     },
     "output_type": "display_data"
    }
   ],
   "source": [
    "dict_moment = fmn.post_get_bending_moment(0,npoints=10)\n",
    "\n",
    "SF = 2\n",
    "\n",
    "print(\"Safety factor of \",SF)\n",
    "\n",
    "plt.figure(1)\n",
    "plt.semilogy(dict_moment[\"x_coor\"],250/abs(dict_moment[\"moment\"] * constant+1E-6))\n",
    "plt.ylabel(\"Stress [MPa]\")\n",
    "plt.xlabel(\"Location on the x-axis\")\n",
    "plt.semilogy(dict_moment[\"x_coor\"],SF * np.ones_like(dict_moment[\"x_coor\"]),'r--')\n",
    "\n",
    "dict_moment = fmn.post_get_bending_moment(1,npoints=10)\n",
    "\n",
    "plt.figure(1)\n",
    "plt.semilogy(dict_moment[\"x_coor\"],250/abs(dict_moment[\"moment\"] * constant+1E-6))\n",
    "plt.semilogy(dict_moment[\"x_coor\"],SF * np.ones_like(dict_moment[\"x_coor\"]),'r--',label=\"SF={}\".format(SF))\n",
    "plt.ylim([10**-1,None])\n",
    "plt.legend()"
   ]
  },
  {
   "cell_type": "markdown",
   "id": "ec9ff4a6",
   "metadata": {},
   "source": [
    "# Beam example 2 - Two elements\n",
    "\n",
    "Double cantilever beam with three nodes"
   ]
  },
  {
   "cell_type": "code",
   "execution_count": 22,
   "id": "29255ad1",
   "metadata": {},
   "outputs": [],
   "source": [
    "\n",
    "# In this beam we have three nodes\n",
    "nodecoor = np.array([\n",
    "                     [0,0],        # Node 0\n",
    "                     [L_beam/2,0], # Node 1\n",
    "                     [L_beam,0]])  # Node 2\n",
    "\n",
    "elemconn = np.array([\n",
    "                     [0,1], # Element 0 connects Node 0 and Node 1\n",
    "                     [1,2]  # Element 1 connects Node 1 and Node 2\n",
    "                     ])\n",
    "\n",
    "# Initialise the prescribed displacement as an empty list:\n",
    "prescribed_displacement = []\n",
    "# Prescribed displacement applied to Node 0, in the 0 direction (x-direcion) with a displacement of 0\n",
    "prescribed_displacement.append(np.array([0,0,0]))\n",
    "# Prescribed displacement applied to Node 0, in the 1 direction (y-direcion) with a displacement of 0\n",
    "prescribed_displacement.append(np.array([0,1,0]))\n",
    "# Prescribed displacement applied to Node 0, in the 2 direction (angle-direcion) with a displacement of 0\n",
    "prescribed_displacement.append(np.array([0,2,0]))\n",
    "# Prescribed displacement applied to Node 2, in the 0 direction (x-direcion) with a displacement of 0\n",
    "prescribed_displacement.append(np.array([2,0,0]))\n",
    "# Prescribed displacement applied to Node 2, in the 1 direction (y-direcion) with a displacement of 0\n",
    "prescribed_displacement.append(np.array([2,1,0]))\n",
    "# Prescribed displacement applied to Node 2, in the 2 direction (angle-direcion) with a displacement of 0\n",
    "prescribed_displacement.append(np.array([2,2,0]))\n",
    "# Convert the prescribed displacement list to an array:\n",
    "prescribed_displacement = np.array(prescribed_displacement)\n",
    "\n",
    "\"\"\"\n",
    "This is an equivalent method to define the prescribed displacements\n",
    "\n",
    "prescribed_displacement = np.array([\n",
    "                                    [0,0,0], # Node 0, in the 0 direction (x-direcion) with a displacement of 0\n",
    "                                    [0,1,0], # Node 0, in the 1 direction (y-direcion) with a displacement of 0\n",
    "                                    [2,0,0], # Node 2, in the 0 direction (x-direcion) with a displacement of 0\n",
    "                                    [2,1,0]  # Node 2, in the 1 direction (y-direcion) with a displacement of 0\n",
    "                                   ])\n",
    "\"\"\"\n",
    "\n",
    "# Initialise the prescribed force as an empty list:\n",
    "prescribed_forces = []\n",
    "# Prescribed force applied to Node 1, in the 1 direction (y-direcion) with a magnitude of F.\n",
    "prescribed_forces.append(np.array([1,1,abs(F)]))\n",
    "# Convert the prescribed force list to an array:\n",
    "prescribed_forces = np.array(prescribed_forces)\n",
    "\n",
    "\"\"\"\n",
    "This is an equivalent method to define the prescribed forces\n",
    "\n",
    "prescribed_forces = np.array([\n",
    "                              [1,1,F], # Prescribed force applied to Node 1, in the 1 direction (y-direcion) with a magnitude of F.\n",
    "                             ])\n",
    "\"\"\"\n",
    "\n",
    "# Element properties\n",
    "elemprop = {}\n",
    "# Young's modulus [Pa]\n",
    "elemprop[\"E\"] = np.ones(elemconn.shape[0]) * E\n",
    "# Area moment of inertia [m^4]\n",
    "elemprop[\"I\"] = np.ones(elemconn.shape[0]) * I\n",
    "# Cross-sectional area [m^2]\n",
    "elemprop[\"A\"] = np.ones(elemconn.shape[0]) * A\n",
    "# Density [kg/m^3]\n",
    "elemprop[\"density\"] = np.ones(elemconn.shape[0]) * rho\n",
    "\n",
    "fmn = sfem.FEM_Beam_2D(nodecoor,                # Nodal coordinates\n",
    "                       elemconn,                # Element connectivity\n",
    "                       prescribed_displacement, # Prescribed displacements\n",
    "                       prescribed_forces,       # Prescribed forces\n",
    "                       elemprop)                # Element properties\n"
   ]
  },
  {
   "cell_type": "markdown",
   "id": "425918bb",
   "metadata": {},
   "source": [
    "Plot the system"
   ]
  },
  {
   "cell_type": "code",
   "execution_count": 23,
   "id": "84b269ec",
   "metadata": {},
   "outputs": [
    {
     "data": {
      "image/png": "[encoded data removed]",
      "text/plain": [
       "<Figure size 432x288 with 1 Axes>"
      ]
     },
     "metadata": {
      "needs_background": "light"
     },
     "output_type": "display_data"
    }
   ],
   "source": [
    "fmn.plot_system()"
   ]
  },
  {
   "cell_type": "markdown",
   "id": "240fa5c9",
   "metadata": {},
   "source": [
    "Solve the system of equations \n",
    "$$\n",
    "[K]\\{u\\} = \\{f\\}\n",
    "$$"
   ]
  },
  {
   "cell_type": "code",
   "execution_count": 24,
   "id": "fe25d28c",
   "metadata": {},
   "outputs": [
    {
     "data": {
      "text/plain": [
       "{'displacements': array([0.        , 0.        , 0.        , 0.        , 0.00115741,\n",
       "        0.        , 0.        , 0.        , 0.        ]),\n",
       " 'loads': array([   0., -500., -125.,    0., 1000.,    0.,    0., -500.,  125.])}"
      ]
     },
     "execution_count": 24,
     "metadata": {},
     "output_type": "execute_result"
    }
   ],
   "source": [
    "solution_dict = fmn.solve()\n",
    "\n",
    "solution_dict"
   ]
  },
  {
   "cell_type": "markdown",
   "id": "50b849b7",
   "metadata": {},
   "source": [
    "The displacement data in the solution dictionary:"
   ]
  },
  {
   "cell_type": "code",
   "execution_count": 25,
   "id": "3d410cfb",
   "metadata": {
    "scrolled": false
   },
   "outputs": [
    {
     "data": {
      "text/plain": [
       "array([0.        , 0.        , 0.        , 0.        , 0.00115741,\n",
       "       0.        , 0.        , 0.        , 0.        ])"
      ]
     },
     "execution_count": 25,
     "metadata": {},
     "output_type": "execute_result"
    }
   ],
   "source": [
    "solution_dict[\"displacements\"]"
   ]
  },
  {
   "cell_type": "markdown",
   "id": "a0c164b5",
   "metadata": {},
   "source": [
    "The displacement loads in the solution dictionary:"
   ]
  },
  {
   "cell_type": "code",
   "execution_count": 26,
   "id": "9513b88d",
   "metadata": {},
   "outputs": [
    {
     "data": {
      "text/plain": [
       "array([   0., -500., -125.,    0., 1000.,    0.,    0., -500.,  125.])"
      ]
     },
     "execution_count": 26,
     "metadata": {},
     "output_type": "execute_result"
    }
   ],
   "source": [
    "solution_dict[\"loads\"]"
   ]
  },
  {
   "cell_type": "code",
   "execution_count": 27,
   "id": "5587ab6d",
   "metadata": {
    "scrolled": false
   },
   "outputs": [
    {
     "data": {
      "image/png": "[encoded data removed]",
      "text/plain": [
       "<Figure size 432x288 with 1 Axes>"
      ]
     },
     "metadata": {
      "needs_background": "light"
     },
     "output_type": "display_data"
    }
   ],
   "source": [
    "fmn.plot_system(show_displacement=True)"
   ]
  },
  {
   "cell_type": "markdown",
   "id": "1d3206ba",
   "metadata": {},
   "source": [
    "Plot the solution at the nodes and the elements\n",
    "\n",
    "<span style=\"color: #ff0000\">Warning: The bending moments are not incorporated in the solution</span> "
   ]
  },
  {
   "cell_type": "code",
   "execution_count": 28,
   "id": "4fce1305",
   "metadata": {},
   "outputs": [
    {
     "name": "stdout",
     "output_type": "stream",
     "text": [
      "                     Node 0                     \n",
      "u_x: 0.000000 x 10^-3, u_y: 0.000000 x 10^-3, angle: 0.000000, F_x: 0.000000, F_y: -500.000000, M_z: -125.000000\n",
      "                     Node 1                     \n",
      "u_x: 0.000000 x 10^-3, u_y: 1.157407 x 10^-3, angle: 0.000000, F_x: 0.000000, F_y: 1000.000000, M_z: 0.000000\n",
      "                     Node 2                     \n",
      "u_x: 0.000000 x 10^-3, u_y: 0.000000 x 10^-3, angle: 0.000000, F_x: 0.000000, F_y: -500.000000, M_z: 125.000000\n",
      "\n",
      "******************** WARNING ********************\n",
      "*** Bending stresses not calculated ***\n",
      "******************** WARNING ********************\n",
      "\n",
      "                     Element 0                     \n",
      "Normal stress due to axial load (only): 0.000000 x 10^6\n",
      "                     Element 1                     \n",
      "Normal stress due to axial load (only): 0.000000 x 10^6\n",
      "\n",
      "******************** WARNING ********************\n",
      "*** Bending stresses not calculated ***\n",
      "******************** WARNING ********************\n"
     ]
    }
   ],
   "source": [
    "fmn.post_print_solution()"
   ]
  },
  {
   "cell_type": "markdown",
   "id": "8a428b69",
   "metadata": {},
   "source": [
    "Plot the bending moment solution. "
   ]
  },
  {
   "cell_type": "code",
   "execution_count": 29,
   "id": "de36f038",
   "metadata": {
    "scrolled": true
   },
   "outputs": [
    {
     "name": "stdout",
     "output_type": "stream",
     "text": [
      "Minimum bending moment: -125.00000000000001\n",
      "Maximum bending moment: 125.00000000000001\n"
     ]
    },
    {
     "data": {
      "image/png": "[encoded data removed]",
      "text/plain": [
       "<Figure size 432x288 with 2 Axes>"
      ]
     },
     "metadata": {
      "needs_background": "light"
     },
     "output_type": "display_data"
    }
   ],
   "source": [
    "fmn.post_plot_bending_moment()"
   ]
  },
  {
   "cell_type": "markdown",
   "id": "d909b385",
   "metadata": {},
   "source": [
    "We can calculate the bending stress using the bending moment by supplying a function: \n",
    "\n",
    "$$\n",
    "\\sigma_{xx} = \\frac{M \\cdot y}{I} = M \\cdot \\frac{y}{I} \n",
    "$$\n",
    "\n",
    "<span style=\"color: #ff0000\">Unfortunately, we can only calculate stresses in the form:\n",
    "$$\n",
    "\\sigma_{xx} = M \\cdot \\text{const}\n",
    "$$\n",
    "</span> "
   ]
  },
  {
   "cell_type": "code",
   "execution_count": 30,
   "id": "e8300f7d",
   "metadata": {},
   "outputs": [
    {
     "name": "stdout",
     "output_type": "stream",
     "text": [
      "Minimum bending moment: -125.00000000000001\n",
      "Maximum bending moment: 125.00000000000001\n",
      "Minimum TRANSFORMED bending moment: -83.33333333333336\n",
      "Maximum TRANSFORMED bending moment: 83.33333333333336\n"
     ]
    },
    {
     "data": {
      "image/png": "[encoded data removed]",
      "text/plain": [
       "<Figure size 432x288 with 2 Axes>"
      ]
     },
     "metadata": {
      "needs_background": "light"
     },
     "output_type": "display_data"
    }
   ],
   "source": [
    "constant = h/2/I/1E6\n",
    "\n",
    "function = lambda M: M*constant # Stress in MPa\n",
    "\n",
    "fmn.post_plot_bending_moment(function=function)"
   ]
  },
  {
   "cell_type": "markdown",
   "id": "6eca90b5",
   "metadata": {},
   "source": [
    "Displacement at a node"
   ]
  },
  {
   "cell_type": "code",
   "execution_count": 31,
   "id": "efa280f2",
   "metadata": {},
   "outputs": [
    {
     "data": {
      "text/plain": [
       "1.1574074074074079"
      ]
     },
     "execution_count": 31,
     "metadata": {},
     "output_type": "execute_result"
    }
   ],
   "source": [
    "fmn.post_get_displacement(1,1) * 1000"
   ]
  },
  {
   "cell_type": "markdown",
   "id": "d9a90118",
   "metadata": {},
   "source": [
    "Force applied to a node"
   ]
  },
  {
   "cell_type": "code",
   "execution_count": 32,
   "id": "810e124b",
   "metadata": {},
   "outputs": [
    {
     "data": {
      "text/plain": [
       "1000.0"
      ]
     },
     "execution_count": 32,
     "metadata": {},
     "output_type": "execute_result"
    }
   ],
   "source": [
    "fmn.post_get_force(1,1) "
   ]
  },
  {
   "cell_type": "markdown",
   "id": "449df657",
   "metadata": {},
   "source": [
    "Stress in an element (without including the bending moments. Be careful with the interpretation)"
   ]
  },
  {
   "cell_type": "code",
   "execution_count": 33,
   "id": "efaeb122",
   "metadata": {},
   "outputs": [
    {
     "name": "stdout",
     "output_type": "stream",
     "text": [
      "WARNING: It does not include the stresses due to the bending moments.\n"
     ]
    },
    {
     "data": {
      "text/plain": [
       "0.0"
      ]
     },
     "execution_count": 33,
     "metadata": {},
     "output_type": "execute_result"
    }
   ],
   "source": [
    "fmn.post_get_stress(1) "
   ]
  },
  {
   "cell_type": "markdown",
   "id": "f89b639e",
   "metadata": {},
   "source": [
    "Bending moment variation over a profile"
   ]
  },
  {
   "cell_type": "code",
   "execution_count": 34,
   "id": "b2eb64ce",
   "metadata": {},
   "outputs": [
    {
     "data": {
      "text/plain": [
       "Text(0.5, 0, 'Location on the x-axis')"
      ]
     },
     "execution_count": 34,
     "metadata": {},
     "output_type": "execute_result"
    },
    {
     "data": {
      "image/png": "[encoded data removed]",
      "text/plain": [
       "<Figure size 432x288 with 1 Axes>"
      ]
     },
     "metadata": {
      "needs_background": "light"
     },
     "output_type": "display_data"
    }
   ],
   "source": [
    "dict_moment = fmn.post_get_bending_moment(0,npoints=10)\n",
    "\n",
    "plt.figure(1)\n",
    "plt.plot(dict_moment[\"x_coor\"],dict_moment[\"moment\"])\n",
    "plt.ylabel(\"Bending moment [N.m]\")\n",
    "plt.xlabel(\"Location on the x-axis\")"
   ]
  },
  {
   "cell_type": "markdown",
   "id": "a2f89066",
   "metadata": {},
   "source": [
    "Plotting the bending moment over the whole beam:"
   ]
  },
  {
   "cell_type": "code",
   "execution_count": 35,
   "id": "c06c90d1",
   "metadata": {},
   "outputs": [
    {
     "data": {
      "text/plain": [
       "Text(0.5, 0, 'Location on the x-axis')"
      ]
     },
     "execution_count": 35,
     "metadata": {},
     "output_type": "execute_result"
    },
    {
     "data": {
      "image/png": "[encoded data removed]",
      "text/plain": [
       "<Figure size 432x288 with 1 Axes>"
      ]
     },
     "metadata": {
      "needs_background": "light"
     },
     "output_type": "display_data"
    }
   ],
   "source": [
    "dict_moment = fmn.post_get_bending_moment(0,npoints=10)\n",
    "\n",
    "plt.figure(1)\n",
    "plt.plot(dict_moment[\"x_coor\"],dict_moment[\"moment\"])\n",
    "plt.ylabel(\"Bending moment [N.m]\")\n",
    "plt.xlabel(\"Location on the x-axis\")\n",
    "\n",
    "dict_moment = fmn.post_get_bending_moment(1,npoints=10)\n",
    "\n",
    "plt.figure(1)\n",
    "plt.plot(dict_moment[\"x_coor\"],dict_moment[\"moment\"])\n",
    "plt.ylabel(\"Bending moment [N.m]\")\n",
    "plt.xlabel(\"Location on the x-axis\")"
   ]
  },
  {
   "cell_type": "markdown",
   "id": "cb8c142c",
   "metadata": {},
   "source": [
    "Plotting the bending stress over the whole beam"
   ]
  },
  {
   "cell_type": "code",
   "execution_count": 36,
   "id": "81dbbd40",
   "metadata": {},
   "outputs": [
    {
     "data": {
      "text/plain": [
       "[<matplotlib.lines.Line2D at 0x21ff7a61f40>]"
      ]
     },
     "execution_count": 36,
     "metadata": {},
     "output_type": "execute_result"
    },
    {
     "data": {
      "image/png": "[encoded data removed]",
      "text/plain": [
       "<Figure size 432x288 with 1 Axes>"
      ]
     },
     "metadata": {
      "needs_background": "light"
     },
     "output_type": "display_data"
    }
   ],
   "source": [
    "dict_moment = fmn.post_get_bending_moment(0,npoints=10)\n",
    "\n",
    "plt.figure(1)\n",
    "plt.plot(dict_moment[\"x_coor\"],dict_moment[\"moment\"] * constant)\n",
    "plt.ylabel(\"Stress [MPa]\")\n",
    "plt.xlabel(\"Location on the x-axis\")\n",
    "\n",
    "dict_moment = fmn.post_get_bending_moment(1,npoints=10)\n",
    "\n",
    "plt.figure(1)\n",
    "plt.plot(dict_moment[\"x_coor\"],dict_moment[\"moment\"] * constant)"
   ]
  },
  {
   "cell_type": "markdown",
   "id": "88311c1f",
   "metadata": {},
   "source": [
    "Safety factor plot for a yield strength of 250 MPa.\n",
    "\n",
    "Assume that there are only bending stresses, the Von-Mises stress is equal to $|\\sigma_{xx}|$ and therefore the safety factor is equal to\n",
    "$$\n",
    "\\text{Safety factor} = \\frac{250}{|\\sigma_{xx}|}\n",
    "$$"
   ]
  },
  {
   "cell_type": "code",
   "execution_count": 37,
   "id": "0598f80a",
   "metadata": {},
   "outputs": [
    {
     "name": "stdout",
     "output_type": "stream",
     "text": [
      "Safety factor of  2\n"
     ]
    },
    {
     "data": {
      "text/plain": [
       "<matplotlib.legend.Legend at 0x21ff6193c70>"
      ]
     },
     "execution_count": 37,
     "metadata": {},
     "output_type": "execute_result"
    },
    {
     "data": {
      "image/png": "[encoded data removed]",
      "text/plain": [
       "<Figure size 432x288 with 1 Axes>"
      ]
     },
     "metadata": {
      "needs_background": "light"
     },
     "output_type": "display_data"
    }
   ],
   "source": [
    "dict_moment = fmn.post_get_bending_moment(0,npoints=10)\n",
    "\n",
    "SF = 2\n",
    "\n",
    "print(\"Safety factor of \",SF)\n",
    "\n",
    "plt.figure(1)\n",
    "plt.semilogy(dict_moment[\"x_coor\"],250/abs(dict_moment[\"moment\"] * constant+1E-6))\n",
    "plt.ylabel(\"Stress [MPa]\")\n",
    "plt.xlabel(\"Location on the x-axis\")\n",
    "plt.semilogy(dict_moment[\"x_coor\"],SF * np.ones_like(dict_moment[\"x_coor\"]),'r--')\n",
    "\n",
    "dict_moment = fmn.post_get_bending_moment(1,npoints=10)\n",
    "\n",
    "plt.figure(1)\n",
    "plt.semilogy(dict_moment[\"x_coor\"],250/abs(dict_moment[\"moment\"] * constant+1E-6))\n",
    "plt.semilogy(dict_moment[\"x_coor\"],SF * np.ones_like(dict_moment[\"x_coor\"]),'r--',label=\"SF={}\".format(SF))\n",
    "plt.ylim([10**-1,None])\n",
    "plt.legend()"
   ]
  },
  {
   "cell_type": "code",
   "execution_count": null,
   "id": "f2fcd972",
   "metadata": {},
   "outputs": [],
   "source": []
  },
  {
   "cell_type": "code",
   "execution_count": null,
   "id": "9c96c004",
   "metadata": {},
   "outputs": [],
   "source": []
  },
  {
   "cell_type": "markdown",
   "id": "16052ee7",
   "metadata": {},
   "source": [
    "# Beam example 2 - Many elements\n",
    "\n",
    "Double cantilever beam with many nodes"
   ]
  },
  {
   "cell_type": "code",
   "execution_count": 38,
   "id": "62270b22",
   "metadata": {},
   "outputs": [
    {
     "name": "stdout",
     "output_type": "stream",
     "text": [
      "Prescribed displacement\n",
      " [[ 0  0  0]\n",
      " [ 0  1  0]\n",
      " [ 0  2  0]\n",
      " [99  0  0]\n",
      " [99  1  0]\n",
      " [99  2  0]]\n",
      "Prescribed forces\n",
      " [[  49    1 1000]]\n"
     ]
    },
    {
     "data": {
      "image/png": "[encoded data removed]",
      "text/plain": [
       "<Figure size 432x288 with 1 Axes>"
      ]
     },
     "metadata": {
      "needs_background": "light"
     },
     "output_type": "display_data"
    },
    {
     "data": {
      "image/png": "[encoded data removed]",
      "text/plain": [
       "<Figure size 432x288 with 1 Axes>"
      ]
     },
     "metadata": {
      "needs_background": "light"
     },
     "output_type": "display_data"
    }
   ],
   "source": [
    "nnodes = 100\n",
    "\n",
    "# ------------------------------------------------------------------------------\n",
    "# Create the nodal coordinates:\n",
    "nodecoor = np.zeros([nnodes,2])\n",
    "\n",
    "nodecoor[:,0] = np.linspace(0,1,nodecoor.shape[0])*L_beam\n",
    "nodecoor[:,1] = 0\n",
    "\n",
    "# ------------------------------------------------------------------------------\n",
    "# Create the element connectivity:\n",
    "elemconn = np.zeros([nodecoor.shape[0]-1,2])\n",
    "elemconn[:,0] = np.arange(elemconn.shape[0])\n",
    "elemconn[:,1] = elemconn[:,0] + 1\n",
    "elemconn = np.array(elemconn).astype(int)\n",
    "# ------------------------------------------------------------------------------\n",
    "# Create the prescribed displacements.\n",
    "prescribed_displacement = []\n",
    "prescribed_displacement.append(np.array([0,0,0]))\n",
    "prescribed_displacement.append(np.array([0,1,0]))\n",
    "prescribed_displacement.append(np.array([0,2,0]))\n",
    "prescribed_displacement.append(np.array([nnodes-1,0,0]))\n",
    "prescribed_displacement.append(np.array([nnodes-1,1,0]))\n",
    "prescribed_displacement.append(np.array([nnodes-1,2,0]))\n",
    "\n",
    "prescribed_displacement = np.array(prescribed_displacement)\n",
    "print(\"Prescribed displacement\\n\",prescribed_displacement)\n",
    "# ------------------------------------------------------------------------------\n",
    "# Create the prescribed forces:\n",
    "prescribed_forces = []\n",
    "prescribed_forces.append(np.array([int((nnodes-1)/2),1,F]))\n",
    "prescribed_forces = np.array(prescribed_forces)\n",
    "print(\"Prescribed forces\\n\",prescribed_forces)\n",
    "# ------------------------------------------------------------------------------\n",
    "\n",
    "elemprop = {}#np.ones([elemconn.shape[0],3]) * np.array([E,I,A])\n",
    "elemprop[\"E\"] = np.ones(elemconn.shape[0]) * E\n",
    "elemprop[\"I\"] = np.ones(elemconn.shape[0]) * I\n",
    "elemprop[\"A\"] = np.ones(elemconn.shape[0]) * A\n",
    "elemprop[\"density\"] = np.ones(elemconn.shape[0]) * rho\n",
    "\n",
    "fmn = sfem.FEM_Beam_2D(nodecoor,elemconn,prescribed_displacement,prescribed_forces,elemprop)\n",
    "\n",
    "\n",
    "fmn.solve()\n",
    "\n",
    "fmn.plot_system(show_element_numbers=False,show_node_numbers=False)\n",
    "\n",
    "fmn.plot_system(show_displacement=True,show_element_numbers=False,show_node_numbers=False)\n",
    "\n",
    "#fmn.post_print_solution()\n"
   ]
  },
  {
   "cell_type": "code",
   "execution_count": 39,
   "id": "4b58f809",
   "metadata": {},
   "outputs": [
    {
     "data": {
      "text/plain": [
       "[<matplotlib.lines.Line2D at 0x21ff98f54f0>]"
      ]
     },
     "execution_count": 39,
     "metadata": {},
     "output_type": "execute_result"
    },
    {
     "data": {
      "image/png": "[encoded data removed]",
      "text/plain": [
       "<Figure size 432x288 with 1 Axes>"
      ]
     },
     "metadata": {
      "needs_background": "light"
     },
     "output_type": "display_data"
    }
   ],
   "source": [
    "dict_moment = fmn.post_get_bending_moment(50,npoints=10)\n",
    "\n",
    "plt.figure(1)\n",
    "plt.plot(dict_moment[\"x_coor\"],dict_moment[\"moment\"])"
   ]
  },
  {
   "cell_type": "code",
   "execution_count": 40,
   "id": "e9497749",
   "metadata": {},
   "outputs": [
    {
     "data": {
      "image/png": "[encoded data removed]",
      "text/plain": [
       "<Figure size 432x288 with 1 Axes>"
      ]
     },
     "metadata": {
      "needs_background": "light"
     },
     "output_type": "display_data"
    }
   ],
   "source": [
    "for i in range(45,53):\n",
    "\n",
    "    dict_moment = fmn.post_get_bending_moment(i,npoints=10)\n",
    "\n",
    "    plt.figure(1)\n",
    "    plt.plot(dict_moment[\"x_coor\"],dict_moment[\"moment\"])"
   ]
  },
  {
   "cell_type": "code",
   "execution_count": 41,
   "id": "b152e93d",
   "metadata": {},
   "outputs": [
    {
     "name": "stdout",
     "output_type": "stream",
     "text": [
      "This might take a few seconds to calculate - not a good idea to do it like this.\n"
     ]
    },
    {
     "data": {
      "image/png": "[encoded data removed]",
      "text/plain": [
       "<Figure size 432x288 with 1 Axes>"
      ]
     },
     "metadata": {
      "needs_background": "light"
     },
     "output_type": "display_data"
    }
   ],
   "source": [
    "print(\"This might take a few seconds to calculate - not a good idea to do it like this.\")\n",
    "for i in range(0,elemconn.shape[0]):\n",
    "\n",
    "    dict_moment = fmn.post_get_bending_moment(i,npoints=10)\n",
    "\n",
    "    plt.figure(1)\n",
    "    plt.plot(dict_moment[\"x_coor\"],dict_moment[\"moment\"])"
   ]
  },
  {
   "cell_type": "code",
   "execution_count": 42,
   "id": "b268a970",
   "metadata": {},
   "outputs": [
    {
     "name": "stdout",
     "output_type": "stream",
     "text": [
      "Minimum bending moment: -124.9744936912904\n",
      "Maximum bending moment: 126.24974363586028\n"
     ]
    },
    {
     "data": {
      "image/png": "[encoded data removed]",
      "text/plain": [
       "<Figure size 432x288 with 2 Axes>"
      ]
     },
     "metadata": {
      "needs_background": "light"
     },
     "output_type": "display_data"
    }
   ],
   "source": [
    "fmn.post_plot_bending_moment()"
   ]
  },
  {
   "cell_type": "markdown",
   "id": "7ae07f37",
   "metadata": {},
   "source": [
    "# Beam example 2 - Moment applied at the centre with the load\n",
    "- The load is applied to Node 1 downwards. This is a negative force.\n",
    "- The mometn is applied to Node 1 in the clockwise direction. This means it is negative. See slides for positive directions.\n"
   ]
  },
  {
   "cell_type": "code",
   "execution_count": 49,
   "id": "c47aef32",
   "metadata": {},
   "outputs": [],
   "source": [
    "\n",
    "# In this beam we have three nodes\n",
    "nodecoor = np.array([\n",
    "                     [0,0],        # Node 0\n",
    "                     [L_beam/2,0], # Node 1\n",
    "                     [L_beam,0]])  # Node 2\n",
    "\n",
    "elemconn = np.array([\n",
    "                     [0,1], # Element 0 connects Node 0 and Node 1\n",
    "                     [1,2]  # Element 1 connects Node 1 and Node 2\n",
    "                     ])\n",
    "\n",
    "# Initialise the prescribed displacement as an empty list:\n",
    "prescribed_displacement = []\n",
    "# Prescribed displacement applied to Node 0, in the 0 direction (x-direcion) with a displacement of 0\n",
    "prescribed_displacement.append(np.array([0,0,0]))\n",
    "# Prescribed displacement applied to Node 0, in the 1 direction (y-direcion) with a displacement of 0\n",
    "prescribed_displacement.append(np.array([0,1,0]))\n",
    "# Prescribed displacement applied to Node 0, in the 2 direction (angle-direcion) with a displacement of 0\n",
    "prescribed_displacement.append(np.array([0,2,0]))\n",
    "# Prescribed displacement applied to Node 2, in the 0 direction (x-direcion) with a displacement of 0\n",
    "prescribed_displacement.append(np.array([2,0,0]))\n",
    "# Prescribed displacement applied to Node 2, in the 1 direction (y-direcion) with a displacement of 0\n",
    "prescribed_displacement.append(np.array([2,1,0]))\n",
    "# Prescribed displacement applied to Node 2, in the 2 direction (angle-direcion) with a displacement of 0\n",
    "prescribed_displacement.append(np.array([2,2,0]))\n",
    "# Convert the prescribed displacement list to an array:\n",
    "prescribed_displacement = np.array(prescribed_displacement)\n",
    "\n",
    "\"\"\"\n",
    "This is an equivalent method to define the prescribed displacements\n",
    "\n",
    "prescribed_displacement = np.array([\n",
    "                                    [0,0,0], # Node 0, in the 0 direction (x-direcion) with a displacement of 0\n",
    "                                    [0,1,0], # Node 0, in the 1 direction (y-direcion) with a displacement of 0\n",
    "                                    [2,0,0], # Node 2, in the 0 direction (x-direcion) with a displacement of 0\n",
    "                                    [2,1,0]  # Node 2, in the 1 direction (y-direcion) with a displacement of 0\n",
    "                                   ])\n",
    "\"\"\"\n",
    "\n",
    "# Initialise the prescribed force as an empty list:\n",
    "prescribed_forces = []\n",
    "# Prescribed force applied to Node 1, in the 1 direction (y-direcion) with a magnitude of F.\n",
    "prescribed_forces.append(np.array([1,1,-(F)]))\n",
    "# Prescribed moment applied to Node 1, in the 2 direction (rotation in the z-direcion) with a magnitude of 1000. The moment is applied clockwise.\n",
    "prescribed_forces.append(np.array([1,2,-1000]))\n",
    "# Convert the prescribed force list to an array:\n",
    "prescribed_forces = np.array(prescribed_forces)\n",
    "\n",
    "\"\"\"\n",
    "This is an equivalent method to define the prescribed forces\n",
    "\n",
    "prescribed_forces = np.array([\n",
    "                              [1,1,F], # Prescribed force applied to Node 1, in the 1 direction (y-direcion) with a magnitude of F.\n",
    "                             ])\n",
    "\"\"\"\n",
    "\n",
    "# Element properties\n",
    "elemprop = {}\n",
    "# Young's modulus [Pa]\n",
    "elemprop[\"E\"] = np.ones(elemconn.shape[0]) * E\n",
    "# Area moment of inertia [m^4]\n",
    "elemprop[\"I\"] = np.ones(elemconn.shape[0]) * I\n",
    "# Cross-sectional area [m^2]\n",
    "elemprop[\"A\"] = np.ones(elemconn.shape[0]) * A\n",
    "# Density [kg/m^3]\n",
    "elemprop[\"density\"] = np.ones(elemconn.shape[0]) * rho\n",
    "\n",
    "fmn = sfem.FEM_Beam_2D(nodecoor,                # Nodal coordinates\n",
    "                       elemconn,                # Element connectivity\n",
    "                       prescribed_displacement, # Prescribed displacements\n",
    "                       prescribed_forces,       # Prescribed forces\n",
    "                       elemprop)                # Element properties\n"
   ]
  },
  {
   "cell_type": "code",
   "execution_count": 50,
   "id": "ed44a55e",
   "metadata": {},
   "outputs": [
    {
     "data": {
      "text/plain": [
       "{'displacements': array([ 0.        ,  0.        ,  0.        ,  0.        , -0.00115741,\n",
       "        -0.01388889,  0.        ,  0.        ,  0.        ]),\n",
       " 'loads': array([    0., -1000.,  -125.,     0., -1000., -1000.,     0.,  2000.,\n",
       "         -375.])}"
      ]
     },
     "execution_count": 50,
     "metadata": {},
     "output_type": "execute_result"
    }
   ],
   "source": [
    "fmn.solve()"
   ]
  },
  {
   "cell_type": "code",
   "execution_count": 51,
   "id": "e4a2ad6a",
   "metadata": {},
   "outputs": [
    {
     "data": {
      "image/png": "[encoded data removed]",
      "text/plain": [
       "<Figure size 432x288 with 1 Axes>"
      ]
     },
     "metadata": {
      "needs_background": "light"
     },
     "output_type": "display_data"
    }
   ],
   "source": [
    "fmn.plot_system(show_displacement=True)"
   ]
  },
  {
   "cell_type": "code",
   "execution_count": null,
   "id": "4d6e8422",
   "metadata": {},
   "outputs": [],
   "source": []
  }
 ],
 "metadata": {
  "kernelspec": {
   "display_name": "Python 3",
   "language": "python",
   "name": "python3"
  },
  "language_info": {
   "codemirror_mode": {
    "name": "ipython",
    "version": 3
   },
   "file_extension": ".py",
   "mimetype": "text/x-python",
   "name": "python",
   "nbconvert_exporter": "python",
   "pygments_lexer": "ipython3",
   "version": "3.8.8"
  }
 },
 "nbformat": 4,
 "nbformat_minor": 5
}
