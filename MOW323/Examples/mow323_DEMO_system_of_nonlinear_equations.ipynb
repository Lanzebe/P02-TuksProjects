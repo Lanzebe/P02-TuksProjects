{
 "cells": [
  {
   "cell_type": "markdown",
   "id": "1e35c596",
   "metadata": {},
   "source": [
    "## Solve the following system of non-linear equations using scipy.linalg.solve\n",
    "\n",
    "\n",
    "### Residual equation\n",
    "If we have an equation \n",
    "$$\n",
    "f(x) = g(x)\n",
    "$$\n",
    "that is a function of an unknown variable $x$, we can write the equation as:\n",
    "$$\n",
    "f(x) - g(x) = 0\n",
    "$$\n",
    "or \n",
    "$$\n",
    "g(x) - f(x) = 0\n",
    "$$\n",
    "These are residual equations, i.e. $R(x) = 0$\n",
    "\n",
    "### Example\n",
    "$$\n",
    "3 \\cdot x_1 - \\cos(x_2 \\cdot x_3) - \\frac{1}{2} = 0\n",
    "$$\n",
    "$$\n",
    "x_1^2 - 81 \\cdot (x_2 + 0.1)^2 + \\sin(x_3) + 1.06 = 0\n",
    "$$\n",
    "$$\n",
    "e^{-x_1 x_2} + 20 \\cdot x_3 + \\frac{10 \\cdot \\pi - 3}{3} = 0\n",
    "$$\n",
    "\n",
    "\n"
   ]
  },
  {
   "cell_type": "code",
   "execution_count": 2,
   "id": "f15faeff",
   "metadata": {},
   "outputs": [],
   "source": [
    "import numpy as np \n",
    "import scipy.optimize as sciopt"
   ]
  },
  {
   "cell_type": "code",
   "execution_count": 6,
   "id": "ddeda5ab",
   "metadata": {},
   "outputs": [],
   "source": [
    "def function(x): \n",
    "    \n",
    "    x1,x2,x3 = x\n",
    "    \n",
    "    eq1 = 3 * x1 - np.cos(x2 * x3) - 1/2 \n",
    "    eq2 = x1**2 - 81 * (x2 + 0.1)**2 + np.sin(x3) + 1.06\n",
    "    eq3 = np.exp(-x1 * x2) + 20 * x3 + (10*np.pi-3)/3\n",
    "    \n",
    "    return eq1,eq2,eq3"
   ]
  },
  {
   "cell_type": "code",
   "execution_count": 8,
   "id": "3e348c5c",
   "metadata": {},
   "outputs": [],
   "source": [
    "x = sciopt.fsolve(function,[0.1,0.1,-0.1])"
   ]
  },
  {
   "cell_type": "code",
   "execution_count": 11,
   "id": "a5e53ba2",
   "metadata": {},
   "outputs": [
    {
     "data": {
      "text/plain": [
       "array([ 0.5   ,  0.    , -0.5236])"
      ]
     },
     "execution_count": 11,
     "metadata": {},
     "output_type": "execute_result"
    }
   ],
   "source": [
    "np.round(x,5)"
   ]
  },
  {
   "cell_type": "code",
   "execution_count": null,
   "id": "e7dec03c",
   "metadata": {},
   "outputs": [],
   "source": []
  }
 ],
 "metadata": {
  "kernelspec": {
   "display_name": "Python 3",
   "language": "python",
   "name": "python3"
  },
  "language_info": {
   "codemirror_mode": {
    "name": "ipython",
    "version": 3
   },
   "file_extension": ".py",
   "mimetype": "text/x-python",
   "name": "python",
   "nbconvert_exporter": "python",
   "pygments_lexer": "ipython3",
   "version": "3.8.8"
  }
 },
 "nbformat": 4,
 "nbformat_minor": 5
}
