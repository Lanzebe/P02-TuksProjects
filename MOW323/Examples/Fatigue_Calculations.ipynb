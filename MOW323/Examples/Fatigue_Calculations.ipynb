{
 "cells": [
  {
   "cell_type": "code",
   "execution_count": 35,
   "id": "64cebdca",
   "metadata": {},
   "outputs": [],
   "source": [
    "import numpy as np \n",
    "import scipy.stats as scistats"
   ]
  },
  {
   "cell_type": "code",
   "execution_count": 68,
   "id": "8f433f36",
   "metadata": {},
   "outputs": [],
   "source": [
    "def fatigue_strength_fraction(Sut):\n",
    "\n",
    "    if Sut < 490:\n",
    "        f = 0.9\n",
    "    else:\n",
    "        Se = 0.5 * Sut\n",
    "        Ne = 1E6\n",
    "        sigmaf = Sut + 345\n",
    "        b = - np.log10(sigmaf/Se)/np.log10( 2 * Ne)\n",
    "        f = sigmaf / Sut * (2 * 10**3) ** b\n",
    "    return f\n",
    "\n",
    "def number_cycles_to_failure(sigma_reversed,Sut,Se):\n",
    "    f = fatigue_strength_fraction(Sut)\n",
    "    a = (f * Sut)**2 / Se \n",
    "    b = (-1/3 * np.log10(f * Sut/Se))\n",
    "    N = (sigma_reversed/a)**(1/b)\n",
    "    return N\n",
    "\n",
    "\n",
    "def marin_surface_factor(Sut,surface_finish): \n",
    "    '''\n",
    "    Sut: Ultimate strength in MPa\n",
    "    \n",
    "    surface_finish must be one of the following options: \n",
    "    * ground\n",
    "    * machined\n",
    "    * cold-drawn\n",
    "    * hot-rolled\n",
    "    * as-forged    \n",
    "    '''\n",
    "    if surface_finish == \"ground\": \n",
    "        \n",
    "        a = 1.58\n",
    "        b = -0.085\n",
    "    \n",
    "    elif (surface_finish == \"machined\") or (surface_finish == \"cold-drawn\"):\n",
    "        a = 4.51\n",
    "        b = -0.265\n",
    "            \n",
    "    elif (surface_finish == \"hot-rolled\"): \n",
    "        \n",
    "        a = 57.7\n",
    "        b = -0.718\n",
    "        \n",
    "    elif (surface_finish == \"as-forged\"): \n",
    "        \n",
    "        a = 272.\n",
    "        b = -0.995\n",
    "        \n",
    "    else:\n",
    "        raise ValueError(\"You supplied the following surface finish: '{}' which does not exist. Please check your spelling - only the following options are available:  \\n* ground\\n* machined\\n* cold-drawn\\n* hot-rolled\\n* as-forged   \".format(surface_finish))\n",
    "        \n",
    "    return a * Sut ** b\n",
    "\n",
    "def marin_loading_factor(load_type): \n",
    "    \n",
    "    if load_type == \"bending\": \n",
    "        return 1 \n",
    "    if load_type == \"axial\": \n",
    "        return 0.85\n",
    "    if load_type == \"torsion\":\n",
    "        return 0.59\n",
    "    raise ValueError(\"You must supply bending, axial or torsion as an input.\")\n",
    "def marin_temperature_factor(temperature_degrees_celcius): \n",
    "    x = 20,50,100,150,200,250,300,350,400,450,500,550,660\n",
    "    y = 1,1.010,1.020,1.025,1.020,1.00,0.975,0.943,0.9,0.843,0.768,0.672,0.549\n",
    "    \n",
    "    import scipy.interpolate as sciint\n",
    "    \n",
    "    kd = float(sciint.interp1d(x,y,kind=\"linear\")(temperature_degrees_celcius))\n",
    "\n",
    "    #kd = 0.975 + 0.432 * 1E-3 * Tf - 0.115 * 1E-5 * Tf **2 + 0.104 * 1E-8 * Tf **3 - 0.595 * 1E-12 * Tf**4\n",
    "    \n",
    "    return kd\n",
    "    \n",
    "def marin_reliability_factor(reliability_fraction): \n",
    "    if (reliability_fraction < 0) | (reliability_fraction > 1):\n",
    "        raise ValueError(\"Please insert a value between 0 and 1\")\n",
    "    return 1 - 0.08 * scistats.norm.ppf(reliability_fraction)\n"
   ]
  },
  {
   "cell_type": "code",
   "execution_count": 72,
   "id": "5f7e7f5f",
   "metadata": {},
   "outputs": [
    {
     "name": "stdout",
     "output_type": "stream",
     "text": [
      "ka 0.8278782262842558\n",
      "kc 0.85\n",
      "kd 1.0\n",
      "ke 0.8138921700767328\n"
     ]
    }
   ],
   "source": [
    "\n",
    "Sut = 600\n",
    "ka = marin_surface_factor(Sut,\"cold-drawn\")\n",
    "# kb = \n",
    "kc = marin_loading_factor(\"axial\")\n",
    "kd = marin_temperature_factor(20)\n",
    "ke = marin_reliability_factor(0.99)\n",
    "\n",
    "print(\"ka\",ka)\n",
    "print(\"kc\",kc)\n",
    "print(\"kd\",kd)\n",
    "print(\"ke\",ke)\n"
   ]
  },
  {
   "cell_type": "code",
   "execution_count": 69,
   "id": "29c41dfc",
   "metadata": {},
   "outputs": [
    {
     "data": {
      "text/plain": [
       "620051.2627241726"
      ]
     },
     "execution_count": 69,
     "metadata": {},
     "output_type": "execute_result"
    }
   ],
   "source": [
    "number_cycles_to_failure(205.71428571428572,690,190.40854046579244)"
   ]
  },
  {
   "cell_type": "code",
   "execution_count": null,
   "id": "e928d061",
   "metadata": {},
   "outputs": [],
   "source": []
  }
 ],
 "metadata": {
  "kernelspec": {
   "display_name": "Python 3",
   "language": "python",
   "name": "python3"
  },
  "language_info": {
   "codemirror_mode": {
    "name": "ipython",
    "version": 3
   },
   "file_extension": ".py",
   "mimetype": "text/x-python",
   "name": "python",
   "nbconvert_exporter": "python",
   "pygments_lexer": "ipython3",
   "version": "3.8.8"
  }
 },
 "nbformat": 4,
 "nbformat_minor": 5
}
