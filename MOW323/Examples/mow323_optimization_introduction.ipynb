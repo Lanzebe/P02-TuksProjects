{
 "cells": [
  {
   "cell_type": "markdown",
   "id": "2af572fe",
   "metadata": {},
   "source": [
    "# MOW 323 - Optimization in Python\n",
    "\n",
    "In mechanical design, we often want to have an optimal design. \n",
    "This means that we have to:\n",
    "- obtain a model.\n",
    "- identify the objective function.\n",
    "- identify the constraints.\n",
    "- formulate the optimization problem.\n",
    "- implement the optimization problem.\n",
    "- verify the results.\n",
    "- ...\n",
    "\n",
    "## Standard form\n",
    "In this section, we are always going to formulate the optimization problem in the following form:\n",
    "$$\n",
    "\\min_{x} f(x)\n",
    "$$\n",
    "subjected to\n",
    "$$\n",
    "h_{i}(x) = 0, \\quad i = 0, 1, ... N_{h}-1\n",
    "$$\n",
    "$$\n",
    "g_{i}(x) \\geq 0, \\quad i = 0, 1, ... N_{g}-1\n",
    "$$\n"
   ]
  },
  {
   "cell_type": "code",
   "execution_count": 2,
   "id": "994d1458",
   "metadata": {},
   "outputs": [],
   "source": [
    "import numpy as np \n",
    "import scipy.optimize as sciopt\n",
    "import matplotlib.pyplot as plt"
   ]
  },
  {
   "cell_type": "code",
   "execution_count": 3,
   "id": "7cf5076a",
   "metadata": {},
   "outputs": [
    {
     "name": "stdout",
     "output_type": "stream",
     "text": [
      "Help on function minimize in module scipy.optimize._minimize:\n",
      "\n",
      "minimize(fun, x0, args=(), method=None, jac=None, hess=None, hessp=None, bounds=None, constraints=(), tol=None, callback=None, options=None)\n",
      "    Minimization of scalar function of one or more variables.\n",
      "    \n",
      "    Parameters\n",
      "    ----------\n",
      "    fun : callable\n",
      "        The objective function to be minimized.\n",
      "    \n",
      "            ``fun(x, *args) -> float``\n",
      "    \n",
      "        where ``x`` is an 1-D array with shape (n,) and ``args``\n",
      "        is a tuple of the fixed parameters needed to completely\n",
      "        specify the function.\n",
      "    x0 : ndarray, shape (n,)\n",
      "        Initial guess. Array of real elements of size (n,),\n",
      "        where 'n' is the number of independent variables.\n",
      "    args : tuple, optional\n",
      "        Extra arguments passed to the objective function and its\n",
      "        derivatives (`fun`, `jac` and `hess` functions).\n",
      "    method : str or callable, optional\n",
      "        Type of solver.  Should be one of\n",
      "    \n",
      "            - 'Nelder-Mead' :ref:`(see here) <optimize.minimize-neldermead>`\n",
      "            - 'Powell'      :ref:`(see here) <optimize.minimize-powell>`\n",
      "            - 'CG'          :ref:`(see here) <optimize.minimize-cg>`\n",
      "            - 'BFGS'        :ref:`(see here) <optimize.minimize-bfgs>`\n",
      "            - 'Newton-CG'   :ref:`(see here) <optimize.minimize-newtoncg>`\n",
      "            - 'L-BFGS-B'    :ref:`(see here) <optimize.minimize-lbfgsb>`\n",
      "            - 'TNC'         :ref:`(see here) <optimize.minimize-tnc>`\n",
      "            - 'COBYLA'      :ref:`(see here) <optimize.minimize-cobyla>`\n",
      "            - 'SLSQP'       :ref:`(see here) <optimize.minimize-slsqp>`\n",
      "            - 'trust-constr':ref:`(see here) <optimize.minimize-trustconstr>`\n",
      "            - 'dogleg'      :ref:`(see here) <optimize.minimize-dogleg>`\n",
      "            - 'trust-ncg'   :ref:`(see here) <optimize.minimize-trustncg>`\n",
      "            - 'trust-exact' :ref:`(see here) <optimize.minimize-trustexact>`\n",
      "            - 'trust-krylov' :ref:`(see here) <optimize.minimize-trustkrylov>`\n",
      "            - custom - a callable object (added in version 0.14.0),\n",
      "              see below for description.\n",
      "    \n",
      "        If not given, chosen to be one of ``BFGS``, ``L-BFGS-B``, ``SLSQP``,\n",
      "        depending if the problem has constraints or bounds.\n",
      "    jac : {callable,  '2-point', '3-point', 'cs', bool}, optional\n",
      "        Method for computing the gradient vector. Only for CG, BFGS,\n",
      "        Newton-CG, L-BFGS-B, TNC, SLSQP, dogleg, trust-ncg, trust-krylov,\n",
      "        trust-exact and trust-constr.\n",
      "        If it is a callable, it should be a function that returns the gradient\n",
      "        vector:\n",
      "    \n",
      "            ``jac(x, *args) -> array_like, shape (n,)``\n",
      "    \n",
      "        where ``x`` is an array with shape (n,) and ``args`` is a tuple with\n",
      "        the fixed parameters. If `jac` is a Boolean and is True, `fun` is\n",
      "        assumed to return and objective and gradient as an ``(f, g)`` tuple.\n",
      "        Methods 'Newton-CG', 'trust-ncg', 'dogleg', 'trust-exact', and\n",
      "        'trust-krylov' require that either a callable be supplied, or that\n",
      "        `fun` return the objective and gradient.\n",
      "        If None or False, the gradient will be estimated using 2-point finite\n",
      "        difference estimation with an absolute step size.\n",
      "        Alternatively, the keywords  {'2-point', '3-point', 'cs'} can be used\n",
      "        to select a finite difference scheme for numerical estimation of the\n",
      "        gradient with a relative step size. These finite difference schemes\n",
      "        obey any specified `bounds`.\n",
      "    hess : {callable, '2-point', '3-point', 'cs', HessianUpdateStrategy}, optional\n",
      "        Method for computing the Hessian matrix. Only for Newton-CG, dogleg,\n",
      "        trust-ncg,  trust-krylov, trust-exact and trust-constr. If it is\n",
      "        callable, it should return the  Hessian matrix:\n",
      "    \n",
      "            ``hess(x, *args) -> {LinearOperator, spmatrix, array}, (n, n)``\n",
      "    \n",
      "        where x is a (n,) ndarray and `args` is a tuple with the fixed\n",
      "        parameters. LinearOperator and sparse matrix returns are\n",
      "        allowed only for 'trust-constr' method. Alternatively, the keywords\n",
      "        {'2-point', '3-point', 'cs'} select a finite difference scheme\n",
      "        for numerical estimation. Or, objects implementing\n",
      "        `HessianUpdateStrategy` interface can be used to approximate\n",
      "        the Hessian. Available quasi-Newton methods implementing\n",
      "        this interface are:\n",
      "    \n",
      "            - `BFGS`;\n",
      "            - `SR1`.\n",
      "    \n",
      "        Whenever the gradient is estimated via finite-differences,\n",
      "        the Hessian cannot be estimated with options\n",
      "        {'2-point', '3-point', 'cs'} and needs to be\n",
      "        estimated using one of the quasi-Newton strategies.\n",
      "        Finite-difference options {'2-point', '3-point', 'cs'} and\n",
      "        `HessianUpdateStrategy` are available only for 'trust-constr' method.\n",
      "    hessp : callable, optional\n",
      "        Hessian of objective function times an arbitrary vector p. Only for\n",
      "        Newton-CG, trust-ncg, trust-krylov, trust-constr.\n",
      "        Only one of `hessp` or `hess` needs to be given.  If `hess` is\n",
      "        provided, then `hessp` will be ignored.  `hessp` must compute the\n",
      "        Hessian times an arbitrary vector:\n",
      "    \n",
      "            ``hessp(x, p, *args) ->  ndarray shape (n,)``\n",
      "    \n",
      "        where x is a (n,) ndarray, p is an arbitrary vector with\n",
      "        dimension (n,) and `args` is a tuple with the fixed\n",
      "        parameters.\n",
      "    bounds : sequence or `Bounds`, optional\n",
      "        Bounds on variables for L-BFGS-B, TNC, SLSQP, Powell, and\n",
      "        trust-constr methods. There are two ways to specify the bounds:\n",
      "    \n",
      "            1. Instance of `Bounds` class.\n",
      "            2. Sequence of ``(min, max)`` pairs for each element in `x`. None\n",
      "               is used to specify no bound.\n",
      "    \n",
      "    constraints : {Constraint, dict} or List of {Constraint, dict}, optional\n",
      "        Constraints definition (only for COBYLA, SLSQP and trust-constr).\n",
      "    \n",
      "        Constraints for 'trust-constr' are defined as a single object or a\n",
      "        list of objects specifying constraints to the optimization problem.\n",
      "        Available constraints are:\n",
      "    \n",
      "            - `LinearConstraint`\n",
      "            - `NonlinearConstraint`\n",
      "    \n",
      "        Constraints for COBYLA, SLSQP are defined as a list of dictionaries.\n",
      "        Each dictionary with fields:\n",
      "    \n",
      "            type : str\n",
      "                Constraint type: 'eq' for equality, 'ineq' for inequality.\n",
      "            fun : callable\n",
      "                The function defining the constraint.\n",
      "            jac : callable, optional\n",
      "                The Jacobian of `fun` (only for SLSQP).\n",
      "            args : sequence, optional\n",
      "                Extra arguments to be passed to the function and Jacobian.\n",
      "    \n",
      "        Equality constraint means that the constraint function result is to\n",
      "        be zero whereas inequality means that it is to be non-negative.\n",
      "        Note that COBYLA only supports inequality constraints.\n",
      "    tol : float, optional\n",
      "        Tolerance for termination. For detailed control, use solver-specific\n",
      "        options.\n",
      "    options : dict, optional\n",
      "        A dictionary of solver options. All methods accept the following\n",
      "        generic options:\n",
      "    \n",
      "            maxiter : int\n",
      "                Maximum number of iterations to perform. Depending on the\n",
      "                method each iteration may use several function evaluations.\n",
      "            disp : bool\n",
      "                Set to True to print convergence messages.\n",
      "    \n",
      "        For method-specific options, see :func:`show_options()`.\n",
      "    callback : callable, optional\n",
      "        Called after each iteration. For 'trust-constr' it is a callable with\n",
      "        the signature:\n",
      "    \n",
      "            ``callback(xk, OptimizeResult state) -> bool``\n",
      "    \n",
      "        where ``xk`` is the current parameter vector. and ``state``\n",
      "        is an `OptimizeResult` object, with the same fields\n",
      "        as the ones from the return. If callback returns True\n",
      "        the algorithm execution is terminated.\n",
      "        For all the other methods, the signature is:\n",
      "    \n",
      "            ``callback(xk)``\n",
      "    \n",
      "        where ``xk`` is the current parameter vector.\n",
      "    \n",
      "    Returns\n",
      "    -------\n",
      "    res : OptimizeResult\n",
      "        The optimization result represented as a ``OptimizeResult`` object.\n",
      "        Important attributes are: ``x`` the solution array, ``success`` a\n",
      "        Boolean flag indicating if the optimizer exited successfully and\n",
      "        ``message`` which describes the cause of the termination. See\n",
      "        `OptimizeResult` for a description of other attributes.\n",
      "    \n",
      "    See also\n",
      "    --------\n",
      "    minimize_scalar : Interface to minimization algorithms for scalar\n",
      "        univariate functions\n",
      "    show_options : Additional options accepted by the solvers\n",
      "    \n",
      "    Notes\n",
      "    -----\n",
      "    This section describes the available solvers that can be selected by the\n",
      "    'method' parameter. The default method is *BFGS*.\n",
      "    \n",
      "    **Unconstrained minimization**\n",
      "    \n",
      "    Method :ref:`Nelder-Mead <optimize.minimize-neldermead>` uses the\n",
      "    Simplex algorithm [1]_, [2]_. This algorithm is robust in many\n",
      "    applications. However, if numerical computation of derivative can be\n",
      "    trusted, other algorithms using the first and/or second derivatives\n",
      "    information might be preferred for their better performance in\n",
      "    general.\n",
      "    \n",
      "    Method :ref:`CG <optimize.minimize-cg>` uses a nonlinear conjugate\n",
      "    gradient algorithm by Polak and Ribiere, a variant of the\n",
      "    Fletcher-Reeves method described in [5]_ pp.120-122. Only the\n",
      "    first derivatives are used.\n",
      "    \n",
      "    Method :ref:`BFGS <optimize.minimize-bfgs>` uses the quasi-Newton\n",
      "    method of Broyden, Fletcher, Goldfarb, and Shanno (BFGS) [5]_\n",
      "    pp. 136. It uses the first derivatives only. BFGS has proven good\n",
      "    performance even for non-smooth optimizations. This method also\n",
      "    returns an approximation of the Hessian inverse, stored as\n",
      "    `hess_inv` in the OptimizeResult object.\n",
      "    \n",
      "    Method :ref:`Newton-CG <optimize.minimize-newtoncg>` uses a\n",
      "    Newton-CG algorithm [5]_ pp. 168 (also known as the truncated\n",
      "    Newton method). It uses a CG method to the compute the search\n",
      "    direction. See also *TNC* method for a box-constrained\n",
      "    minimization with a similar algorithm. Suitable for large-scale\n",
      "    problems.\n",
      "    \n",
      "    Method :ref:`dogleg <optimize.minimize-dogleg>` uses the dog-leg\n",
      "    trust-region algorithm [5]_ for unconstrained minimization. This\n",
      "    algorithm requires the gradient and Hessian; furthermore the\n",
      "    Hessian is required to be positive definite.\n",
      "    \n",
      "    Method :ref:`trust-ncg <optimize.minimize-trustncg>` uses the\n",
      "    Newton conjugate gradient trust-region algorithm [5]_ for\n",
      "    unconstrained minimization. This algorithm requires the gradient\n",
      "    and either the Hessian or a function that computes the product of\n",
      "    the Hessian with a given vector. Suitable for large-scale problems.\n",
      "    \n",
      "    Method :ref:`trust-krylov <optimize.minimize-trustkrylov>` uses\n",
      "    the Newton GLTR trust-region algorithm [14]_, [15]_ for unconstrained\n",
      "    minimization. This algorithm requires the gradient\n",
      "    and either the Hessian or a function that computes the product of\n",
      "    the Hessian with a given vector. Suitable for large-scale problems.\n",
      "    On indefinite problems it requires usually less iterations than the\n",
      "    `trust-ncg` method and is recommended for medium and large-scale problems.\n",
      "    \n",
      "    Method :ref:`trust-exact <optimize.minimize-trustexact>`\n",
      "    is a trust-region method for unconstrained minimization in which\n",
      "    quadratic subproblems are solved almost exactly [13]_. This\n",
      "    algorithm requires the gradient and the Hessian (which is\n",
      "    *not* required to be positive definite). It is, in many\n",
      "    situations, the Newton method to converge in fewer iteraction\n",
      "    and the most recommended for small and medium-size problems.\n",
      "    \n",
      "    **Bound-Constrained minimization**\n",
      "    \n",
      "    Method :ref:`L-BFGS-B <optimize.minimize-lbfgsb>` uses the L-BFGS-B\n",
      "    algorithm [6]_, [7]_ for bound constrained minimization.\n",
      "    \n",
      "    Method :ref:`Powell <optimize.minimize-powell>` is a modification\n",
      "    of Powell's method [3]_, [4]_ which is a conjugate direction\n",
      "    method. It performs sequential one-dimensional minimizations along\n",
      "    each vector of the directions set (`direc` field in `options` and\n",
      "    `info`), which is updated at each iteration of the main\n",
      "    minimization loop. The function need not be differentiable, and no\n",
      "    derivatives are taken. If bounds are not provided, then an\n",
      "    unbounded line search will be used. If bounds are provided and\n",
      "    the initial guess is within the bounds, then every function\n",
      "    evaluation throughout the minimization procedure will be within\n",
      "    the bounds. If bounds are provided, the initial guess is outside\n",
      "    the bounds, and `direc` is full rank (default has full rank), then\n",
      "    some function evaluations during the first iteration may be\n",
      "    outside the bounds, but every function evaluation after the first\n",
      "    iteration will be within the bounds. If `direc` is not full rank,\n",
      "    then some parameters may not be optimized and the solution is not\n",
      "    guaranteed to be within the bounds.\n",
      "    \n",
      "    Method :ref:`TNC <optimize.minimize-tnc>` uses a truncated Newton\n",
      "    algorithm [5]_, [8]_ to minimize a function with variables subject\n",
      "    to bounds. This algorithm uses gradient information; it is also\n",
      "    called Newton Conjugate-Gradient. It differs from the *Newton-CG*\n",
      "    method described above as it wraps a C implementation and allows\n",
      "    each variable to be given upper and lower bounds.\n",
      "    \n",
      "    **Constrained Minimization**\n",
      "    \n",
      "    Method :ref:`COBYLA <optimize.minimize-cobyla>` uses the\n",
      "    Constrained Optimization BY Linear Approximation (COBYLA) method\n",
      "    [9]_, [10]_, [11]_. The algorithm is based on linear\n",
      "    approximations to the objective function and each constraint. The\n",
      "    method wraps a FORTRAN implementation of the algorithm. The\n",
      "    constraints functions 'fun' may return either a single number\n",
      "    or an array or list of numbers.\n",
      "    \n",
      "    Method :ref:`SLSQP <optimize.minimize-slsqp>` uses Sequential\n",
      "    Least SQuares Programming to minimize a function of several\n",
      "    variables with any combination of bounds, equality and inequality\n",
      "    constraints. The method wraps the SLSQP Optimization subroutine\n",
      "    originally implemented by Dieter Kraft [12]_. Note that the\n",
      "    wrapper handles infinite values in bounds by converting them into\n",
      "    large floating values.\n",
      "    \n",
      "    Method :ref:`trust-constr <optimize.minimize-trustconstr>` is a\n",
      "    trust-region algorithm for constrained optimization. It swiches\n",
      "    between two implementations depending on the problem definition.\n",
      "    It is the most versatile constrained minimization algorithm\n",
      "    implemented in SciPy and the most appropriate for large-scale problems.\n",
      "    For equality constrained problems it is an implementation of Byrd-Omojokun\n",
      "    Trust-Region SQP method described in [17]_ and in [5]_, p. 549. When\n",
      "    inequality constraints  are imposed as well, it swiches to the trust-region\n",
      "    interior point  method described in [16]_. This interior point algorithm,\n",
      "    in turn, solves inequality constraints by introducing slack variables\n",
      "    and solving a sequence of equality-constrained barrier problems\n",
      "    for progressively smaller values of the barrier parameter.\n",
      "    The previously described equality constrained SQP method is\n",
      "    used to solve the subproblems with increasing levels of accuracy\n",
      "    as the iterate gets closer to a solution.\n",
      "    \n",
      "    **Finite-Difference Options**\n",
      "    \n",
      "    For Method :ref:`trust-constr <optimize.minimize-trustconstr>`\n",
      "    the gradient and the Hessian may be approximated using\n",
      "    three finite-difference schemes: {'2-point', '3-point', 'cs'}.\n",
      "    The scheme 'cs' is, potentially, the most accurate but it\n",
      "    requires the function to correctly handles complex inputs and to\n",
      "    be differentiable in the complex plane. The scheme '3-point' is more\n",
      "    accurate than '2-point' but requires twice as many operations.\n",
      "    \n",
      "    **Custom minimizers**\n",
      "    \n",
      "    It may be useful to pass a custom minimization method, for example\n",
      "    when using a frontend to this method such as `scipy.optimize.basinhopping`\n",
      "    or a different library.  You can simply pass a callable as the ``method``\n",
      "    parameter.\n",
      "    \n",
      "    The callable is called as ``method(fun, x0, args, **kwargs, **options)``\n",
      "    where ``kwargs`` corresponds to any other parameters passed to `minimize`\n",
      "    (such as `callback`, `hess`, etc.), except the `options` dict, which has\n",
      "    its contents also passed as `method` parameters pair by pair.  Also, if\n",
      "    `jac` has been passed as a bool type, `jac` and `fun` are mangled so that\n",
      "    `fun` returns just the function values and `jac` is converted to a function\n",
      "    returning the Jacobian.  The method shall return an `OptimizeResult`\n",
      "    object.\n",
      "    \n",
      "    The provided `method` callable must be able to accept (and possibly ignore)\n",
      "    arbitrary parameters; the set of parameters accepted by `minimize` may\n",
      "    expand in future versions and then these parameters will be passed to\n",
      "    the method.  You can find an example in the scipy.optimize tutorial.\n",
      "    \n",
      "    .. versionadded:: 0.11.0\n",
      "    \n",
      "    References\n",
      "    ----------\n",
      "    .. [1] Nelder, J A, and R Mead. 1965. A Simplex Method for Function\n",
      "        Minimization. The Computer Journal 7: 308-13.\n",
      "    .. [2] Wright M H. 1996. Direct search methods: Once scorned, now\n",
      "        respectable, in Numerical Analysis 1995: Proceedings of the 1995\n",
      "        Dundee Biennial Conference in Numerical Analysis (Eds. D F\n",
      "        Griffiths and G A Watson). Addison Wesley Longman, Harlow, UK.\n",
      "        191-208.\n",
      "    .. [3] Powell, M J D. 1964. An efficient method for finding the minimum of\n",
      "       a function of several variables without calculating derivatives. The\n",
      "       Computer Journal 7: 155-162.\n",
      "    .. [4] Press W, S A Teukolsky, W T Vetterling and B P Flannery.\n",
      "       Numerical Recipes (any edition), Cambridge University Press.\n",
      "    .. [5] Nocedal, J, and S J Wright. 2006. Numerical Optimization.\n",
      "       Springer New York.\n",
      "    .. [6] Byrd, R H and P Lu and J. Nocedal. 1995. A Limited Memory\n",
      "       Algorithm for Bound Constrained Optimization. SIAM Journal on\n",
      "       Scientific and Statistical Computing 16 (5): 1190-1208.\n",
      "    .. [7] Zhu, C and R H Byrd and J Nocedal. 1997. L-BFGS-B: Algorithm\n",
      "       778: L-BFGS-B, FORTRAN routines for large scale bound constrained\n",
      "       optimization. ACM Transactions on Mathematical Software 23 (4):\n",
      "       550-560.\n",
      "    .. [8] Nash, S G. Newton-Type Minimization Via the Lanczos Method.\n",
      "       1984. SIAM Journal of Numerical Analysis 21: 770-778.\n",
      "    .. [9] Powell, M J D. A direct search optimization method that models\n",
      "       the objective and constraint functions by linear interpolation.\n",
      "       1994. Advances in Optimization and Numerical Analysis, eds. S. Gomez\n",
      "       and J-P Hennart, Kluwer Academic (Dordrecht), 51-67.\n",
      "    .. [10] Powell M J D. Direct search algorithms for optimization\n",
      "       calculations. 1998. Acta Numerica 7: 287-336.\n",
      "    .. [11] Powell M J D. A view of algorithms for optimization without\n",
      "       derivatives. 2007.Cambridge University Technical Report DAMTP\n",
      "       2007/NA03\n",
      "    .. [12] Kraft, D. A software package for sequential quadratic\n",
      "       programming. 1988. Tech. Rep. DFVLR-FB 88-28, DLR German Aerospace\n",
      "       Center -- Institute for Flight Mechanics, Koln, Germany.\n",
      "    .. [13] Conn, A. R., Gould, N. I., and Toint, P. L.\n",
      "       Trust region methods. 2000. Siam. pp. 169-200.\n",
      "    .. [14] F. Lenders, C. Kirches, A. Potschka: \"trlib: A vector-free\n",
      "       implementation of the GLTR method for iterative solution of\n",
      "       the trust region problem\", :arxiv:`1611.04718`\n",
      "    .. [15] N. Gould, S. Lucidi, M. Roma, P. Toint: \"Solving the\n",
      "       Trust-Region Subproblem using the Lanczos Method\",\n",
      "       SIAM J. Optim., 9(2), 504--525, (1999).\n",
      "    .. [16] Byrd, Richard H., Mary E. Hribar, and Jorge Nocedal. 1999.\n",
      "        An interior point algorithm for large-scale nonlinear  programming.\n",
      "        SIAM Journal on Optimization 9.4: 877-900.\n",
      "    .. [17] Lalee, Marucha, Jorge Nocedal, and Todd Plantega. 1998. On the\n",
      "        implementation of an algorithm for large-scale equality constrained\n",
      "        optimization. SIAM Journal on Optimization 8.3: 682-706.\n",
      "    \n",
      "    Examples\n",
      "    --------\n",
      "    Let us consider the problem of minimizing the Rosenbrock function. This\n",
      "    function (and its respective derivatives) is implemented in `rosen`\n",
      "    (resp. `rosen_der`, `rosen_hess`) in the `scipy.optimize`.\n",
      "    \n",
      "    >>> from scipy.optimize import minimize, rosen, rosen_der\n",
      "    \n",
      "    A simple application of the *Nelder-Mead* method is:\n",
      "    \n",
      "    >>> x0 = [1.3, 0.7, 0.8, 1.9, 1.2]\n",
      "    >>> res = minimize(rosen, x0, method='Nelder-Mead', tol=1e-6)\n",
      "    >>> res.x\n",
      "    array([ 1.,  1.,  1.,  1.,  1.])\n",
      "    \n",
      "    Now using the *BFGS* algorithm, using the first derivative and a few\n",
      "    options:\n",
      "    \n",
      "    >>> res = minimize(rosen, x0, method='BFGS', jac=rosen_der,\n",
      "    ...                options={'gtol': 1e-6, 'disp': True})\n",
      "    Optimization terminated successfully.\n",
      "             Current function value: 0.000000\n",
      "             Iterations: 26\n",
      "             Function evaluations: 31\n",
      "             Gradient evaluations: 31\n",
      "    >>> res.x\n",
      "    array([ 1.,  1.,  1.,  1.,  1.])\n",
      "    >>> print(res.message)\n",
      "    Optimization terminated successfully.\n",
      "    >>> res.hess_inv\n",
      "    array([[ 0.00749589,  0.01255155,  0.02396251,  0.04750988,  0.09495377],  # may vary\n",
      "           [ 0.01255155,  0.02510441,  0.04794055,  0.09502834,  0.18996269],\n",
      "           [ 0.02396251,  0.04794055,  0.09631614,  0.19092151,  0.38165151],\n",
      "           [ 0.04750988,  0.09502834,  0.19092151,  0.38341252,  0.7664427 ],\n",
      "           [ 0.09495377,  0.18996269,  0.38165151,  0.7664427,   1.53713523]])\n",
      "    \n",
      "    \n",
      "    Next, consider a minimization problem with several constraints (namely\n",
      "    Example 16.4 from [5]_). The objective function is:\n",
      "    \n",
      "    >>> fun = lambda x: (x[0] - 1)**2 + (x[1] - 2.5)**2\n",
      "    \n",
      "    There are three constraints defined as:\n",
      "    \n",
      "    >>> cons = ({'type': 'ineq', 'fun': lambda x:  x[0] - 2 * x[1] + 2},\n",
      "    ...         {'type': 'ineq', 'fun': lambda x: -x[0] - 2 * x[1] + 6},\n",
      "    ...         {'type': 'ineq', 'fun': lambda x: -x[0] + 2 * x[1] + 2})\n",
      "    \n",
      "    And variables must be positive, hence the following bounds:\n",
      "    \n",
      "    >>> bnds = ((0, None), (0, None))\n",
      "    \n",
      "    The optimization problem is solved using the SLSQP method as:\n",
      "    \n",
      "    >>> res = minimize(fun, (2, 0), method='SLSQP', bounds=bnds,\n",
      "    ...                constraints=cons)\n",
      "    \n",
      "    It should converge to the theoretical solution (1.4 ,1.7).\n",
      "\n"
     ]
    }
   ],
   "source": [
    "help(sciopt.minimize)"
   ]
  },
  {
   "cell_type": "markdown",
   "id": "6d042a5c",
   "metadata": {},
   "source": [
    "# Unconstrained optimization \n",
    "\n",
    "## Example 1: Optimization of a univariate function\n",
    "\n",
    "Consider the following design problem:\n",
    "$$\n",
    "\\min_{x} x^2\n",
    "$$\n",
    "The only design variable is $x$ and $x$ is a scalar. This refers to a univariate (single variable) design problem. \n",
    "\n",
    "The objective is to find the design variable $x$ that minimizes the function $x^2$\n",
    "\n",
    "This is referred to an unconstrained optimization problem as there are no constraints on the design variables."
   ]
  },
  {
   "cell_type": "code",
   "execution_count": 4,
   "id": "135678f3",
   "metadata": {},
   "outputs": [
    {
     "data": {
      "text/plain": [
       "[<matplotlib.lines.Line2D at 0x23ac8726550>]"
      ]
     },
     "execution_count": 4,
     "metadata": {},
     "output_type": "execute_result"
    },
    {
     "data": {
      "image/png": "[encoded data removed]",
      "text/plain": [
       "<Figure size 432x288 with 1 Axes>"
      ]
     },
     "metadata": {
      "needs_background": "light"
     },
     "output_type": "display_data"
    }
   ],
   "source": [
    "fun = lambda x: x**2\n",
    "\n",
    "x_grid = np.linspace(-10,10,1000)\n",
    "plt.figure(1)\n",
    "plt.plot(x_grid,fun(x_grid),'b')\n"
   ]
  },
  {
   "cell_type": "code",
   "execution_count": 5,
   "id": "3abefe19",
   "metadata": {},
   "outputs": [
    {
     "data": {
      "text/plain": [
       "      fun: 5.5507930986288555e-17\n",
       " hess_inv: array([[0.5]])\n",
       "      jac: array([4.32220232e-13])\n",
       "  message: 'Optimization terminated successfully.'\n",
       "     nfev: 6\n",
       "      nit: 2\n",
       "     njev: 3\n",
       "   status: 0\n",
       "  success: True\n",
       "        x: array([-7.45036449e-09])"
      ]
     },
     "execution_count": 5,
     "metadata": {},
     "output_type": "execute_result"
    }
   ],
   "source": [
    "x0 = 1\n",
    "\n",
    "sciopt.minimize(fun,x0)"
   ]
  },
  {
   "cell_type": "markdown",
   "id": "c3b3355c",
   "metadata": {},
   "source": [
    "## Example 2: Optimization of a multivariate function\n",
    "\n",
    "Consider the following design problem:\n",
    "$$\n",
    "\\min_{x,y,z} x^2 + (y+2)^2 + (z-3)^2\n",
    "$$\n",
    "We have three design variables in the design $x,y,z$\n",
    "\n",
    "It is also possible to write this as a single design variable vector:\n",
    "$$\n",
    "\\min_{\\mathbf{x}} x_{0}^2 + (x_{1}+2)^2 + (x_{2}-3)^2\n",
    "$$\n",
    "where $\\mathbf{x} = [x_{0},x_{1},x_{2}]$\n",
    "\n",
    "This is referred to an unconstrained optimization problem as there are no constraints applicable to the design."
   ]
  },
  {
   "cell_type": "code",
   "execution_count": 6,
   "id": "3b096b69",
   "metadata": {},
   "outputs": [
    {
     "data": {
      "text/plain": [
       "      fun: 7.52577332819495e-16\n",
       " hess_inv: array([[ 1.00000000e+00,  1.69576781e-09, -2.54365172e-09],\n",
       "       [ 1.69576781e-09,  8.46153848e-01,  2.30769232e-01],\n",
       "       [-2.54365172e-09,  2.30769232e-01,  6.53846146e-01]])\n",
       "      jac: array([-1.68381631e-08, -1.72268200e-08, -1.62551776e-08])\n",
       "  message: 'Optimization terminated successfully.'\n",
       "     nfev: 16\n",
       "      nit: 3\n",
       "     njev: 4\n",
       "   status: 0\n",
       "  success: True\n",
       "        x: array([-1.58696622e-08, -2.00000002e+00,  2.99999998e+00])"
      ]
     },
     "execution_count": 6,
     "metadata": {},
     "output_type": "execute_result"
    }
   ],
   "source": [
    "fun = lambda x: (x[0])**2 + (x[1]+2)**2 + (x[2]-3)**2\n",
    "\n",
    "x0 = [0,0,0]\n",
    "\n",
    "sciopt.minimize(fun,x0)"
   ]
  },
  {
   "cell_type": "markdown",
   "id": "f0b075cd",
   "metadata": {},
   "source": [
    "## Example 3: Optimization of a multivariate function\n",
    "\n",
    "Consider the following design problem:\n",
    "$$\n",
    "\\min_{\\mathbf{x}} x_{0}^2 + x_{1}^2 + x_{2}^2 + x_{3}^2 + \\ldots x_{N-1}^2\n",
    "$$\n",
    "that has $N$ design variables, i.e. \n",
    "$$\n",
    "\\mathbf{x} = [x_{0},x_{1},\\ldots,x_{N-1}]\n",
    "$$\n",
    "\n",
    "We can write the objective function as:\n",
    "$$\n",
    "\\min_{\\mathbf{x}} \\sum_{i=0}^{N-1} x_{i}^2\n",
    "$$\n",
    "or equivalently\n",
    "$$\n",
    "\\min_{\\mathbf{x}} \\mathbf{x}^T \\mathbf{x}\n",
    "$$"
   ]
  },
  {
   "cell_type": "code",
   "execution_count": 7,
   "id": "65a31bd9",
   "metadata": {},
   "outputs": [
    {
     "data": {
      "text/plain": [
       "      fun: 5.6755962442526845e-16\n",
       " hess_inv: array([[ 0.9, -0.1, -0.1, -0.1, -0.1],\n",
       "       [-0.1,  0.9, -0.1, -0.1, -0.1],\n",
       "       [-0.1, -0.1,  0.9, -0.1, -0.1],\n",
       "       [-0.1, -0.1, -0.1,  0.9, -0.1],\n",
       "       [-0.1, -0.1, -0.1, -0.1,  0.9]])\n",
       "      jac: array([-6.40723385e-09, -6.40723385e-09, -6.40723385e-09, -6.40723385e-09,\n",
       "       -6.40723385e-09])\n",
       "  message: 'Optimization terminated successfully.'\n",
       "     nfev: 18\n",
       "      nit: 2\n",
       "     njev: 3\n",
       "   status: 0\n",
       "  success: True\n",
       "        x: array([-1.06541975e-08, -1.06541975e-08, -1.06541975e-08, -1.06541975e-08,\n",
       "       -1.06541975e-08])"
      ]
     },
     "execution_count": 7,
     "metadata": {},
     "output_type": "execute_result"
    }
   ],
   "source": [
    "fun = lambda x: np.sum(x**2)\n",
    "\n",
    "N  = 5\n",
    "x0 = np.ones(N)\n",
    "\n",
    "sciopt.minimize(fun,x0)"
   ]
  },
  {
   "cell_type": "markdown",
   "id": "97638bce",
   "metadata": {},
   "source": [
    "# Local and Global Minima\n",
    "\n",
    "Local minimum - A minimum for a local region in the design space. \n",
    "\n",
    "Global minimum - The minimum for the entire design space.\n"
   ]
  },
  {
   "cell_type": "code",
   "execution_count": 8,
   "id": "62c0b295",
   "metadata": {},
   "outputs": [
    {
     "name": "stdout",
     "output_type": "stream",
     "text": [
      "Random initialised point -13.239427587506377\n"
     ]
    },
    {
     "data": {
      "text/plain": [
       "      fun: 1.0026950829654546\n",
       " hess_inv: array([[0.49386527]])\n",
       "      jac: array([0.])\n",
       "  message: 'Optimization terminated successfully.'\n",
       "     nfev: 24\n",
       "      nit: 8\n",
       "     njev: 12\n",
       "   status: 0\n",
       "  success: True\n",
       "        x: array([1.13689039])"
      ]
     },
     "execution_count": 8,
     "metadata": {},
     "output_type": "execute_result"
    },
    {
     "data": {
      "image/png": "[encoded data removed]",
      "text/plain": [
       "<Figure size 432x288 with 1 Axes>"
      ]
     },
     "metadata": {
      "needs_background": "light"
     },
     "output_type": "display_data"
    },
    {
     "data": {
      "image/png": "[encoded data removed]",
      "text/plain": [
       "<Figure size 432x288 with 1 Axes>"
      ]
     },
     "metadata": {
      "needs_background": "light"
     },
     "output_type": "display_data"
    }
   ],
   "source": [
    "\n",
    "f = lambda x: 2*np.cos(x+2) + (x/5)**4 + 3\n",
    "\n",
    "xmax = 15\n",
    "\n",
    "x_grid = np.linspace(-xmax,xmax,10000)\n",
    "\n",
    "x0 = np.random.rand()*(2*xmax) - xmax\n",
    "\n",
    "print(\"Random initialised point\",x0)\n",
    "\n",
    "dictsol = sciopt.minimize(f,x0)\n",
    "\n",
    "x_opt = dictsol[\"x\"]\n",
    "\n",
    "plt.figure(1)\n",
    "plt.plot(x_grid,f(x_grid))\n",
    "ylim = plt.ylim()\n",
    "plt.plot(x0*np.ones(2),ylim,'r--',label=\"$x_{0}$\")\n",
    "plt.plot(x_opt*np.ones(2),ylim,'k:',label=\"$x_{opt}$\")\n",
    "plt.legend()\n",
    "plt.xlabel(\"$x$\")\n",
    "plt.ylabel(\"$f(x)$\")\n",
    "\n",
    "\n",
    "plt.figure(2)\n",
    "plt.semilogy(x_grid,f(x_grid))\n",
    "ylim = plt.ylim()\n",
    "plt.semilogy(x0*np.ones(2),ylim,'r--',label=\"$x_{0}$\")\n",
    "plt.semilogy(x_opt*np.ones(2),ylim,'k:',label=\"$x_{opt}$\")\n",
    "plt.legend()\n",
    "plt.xlabel(\"$x$\")\n",
    "plt.ylabel(\"$\\log f(x)$\")\n",
    "\n",
    "dictsol"
   ]
  },
  {
   "cell_type": "markdown",
   "id": "eb684cc7",
   "metadata": {},
   "source": [
    "## Restarting the optimization at random locations 100 times"
   ]
  },
  {
   "cell_type": "code",
   "execution_count": 9,
   "id": "cd1e836d",
   "metadata": {},
   "outputs": [
    {
     "data": {
      "text/plain": [
       "Text(0, 0.5, 'f(x)')"
      ]
     },
     "execution_count": 9,
     "metadata": {},
     "output_type": "execute_result"
    },
    {
     "data": {
      "image/png": "[encoded data removed]",
      "text/plain": [
       "<Figure size 432x288 with 1 Axes>"
      ]
     },
     "metadata": {
      "needs_background": "light"
     },
     "output_type": "display_data"
    },
    {
     "data": {
      "image/png": "[encoded data removed]",
      "text/plain": [
       "<Figure size 432x288 with 1 Axes>"
      ]
     },
     "metadata": {
      "needs_background": "light"
     },
     "output_type": "display_data"
    },
    {
     "data": {
      "image/png": "[encoded data removed]",
      "text/plain": [
       "<Figure size 432x288 with 1 Axes>"
      ]
     },
     "metadata": {
      "needs_background": "light"
     },
     "output_type": "display_data"
    }
   ],
   "source": [
    "\n",
    "\n",
    "X = []\n",
    "for n in range(100):\n",
    "\n",
    "    x_grid = np.linspace(-8,8,10000)\n",
    "\n",
    "    x0 = np.random.rand()*16-8\n",
    "\n",
    "    dictsol = sciopt.minimize(f,x0)\n",
    "\n",
    "    x_opt = dictsol[\"x\"]\n",
    "\n",
    "    X.append([x0,x_opt[0]])\n",
    "\n",
    "X = np.array(X)\n",
    "plt.figure(1)\n",
    "plt.plot(X[:,1],'b.')\n",
    "plt.xlabel(\"Run\")\n",
    "plt.ylabel(\"Design variable\")\n",
    "\n",
    "plt.figure(2)\n",
    "plt.plot(f(X[:,1]),'b.')\n",
    "plt.xlabel(\"Run\")\n",
    "plt.ylabel(\"f(x)\")\n",
    "\n",
    "plt.figure(3)\n",
    "plt.plot(X[:,1],f(X[:,1]),'b.')\n",
    "plt.xlabel(\"x\")\n",
    "plt.ylabel(\"f(x)\")"
   ]
  },
  {
   "cell_type": "markdown",
   "id": "fc2f02bf",
   "metadata": {},
   "source": [
    "# Constrained optimization\n",
    "\n",
    "Constraints are typically encountered in engineering:\n",
    "- Constraints are dictated by failure criteria (e.g. buckling, yield criteria)\n",
    "- Constraints are dictated by specifications \n",
    "- Constraints are dictated by requirements of equipment (e.g. misalignment in shafts due to deflection).\n",
    "\n",
    "We can specify the following constraints in python:\n",
    "- Bounds: This bounds the design variables.\n",
    "- Equality constraints: $h(x) = 0$\n",
    "- Inequality constraints: $g(x) \\geq 0$\n",
    "\n",
    "Note: That inequality constraints can also be used to specify bounds. \n"
   ]
  },
  {
   "cell_type": "markdown",
   "id": "cc954928",
   "metadata": {},
   "source": [
    "## Example 1: Bounds on $x$\n",
    "\n",
    "Consider the following design problem:\n",
    "$$\n",
    "\\min_{x,y,z} x^2 + (y+2)^2 + (z-3)^2\n",
    "$$\n",
    "subjected to:\n",
    "$$\n",
    "x \\geq 0\n",
    "$$\n",
    "$$\n",
    "1-x \\geq 0\n",
    "$$\n",
    "These two inequality constraints are equivalent to:\n",
    "$$\n",
    "0 \\leq x \\leq 1\n",
    "$$"
   ]
  },
  {
   "cell_type": "code",
   "execution_count": 10,
   "id": "b17cafa2",
   "metadata": {},
   "outputs": [
    {
     "name": "stdout",
     "output_type": "stream",
     "text": [
      "[-0.72723295  0.84220466  0.39486706] 15.393712738850882\n"
     ]
    },
    {
     "data": {
      "text/plain": [
       "      fun: 5.382410580446205e-14\n",
       " hess_inv: <3x3 LbfgsInvHessProduct with dtype=float64>\n",
       "      jac: array([ 1.00000000e-08, -4.35109796e-07, -1.21048436e-07])\n",
       "  message: 'CONVERGENCE: NORM_OF_PROJECTED_GRADIENT_<=_PGTOL'\n",
       "     nfev: 12\n",
       "      nit: 2\n",
       "     njev: 3\n",
       "   status: 0\n",
       "  success: True\n",
       "        x: array([ 0.        , -2.00000022,  2.99999993])"
      ]
     },
     "execution_count": 10,
     "metadata": {},
     "output_type": "execute_result"
    }
   ],
   "source": [
    "fun = lambda x: x[0]**2 + (x[1]+2)**2 + (x[2] - 3)**2\n",
    "\n",
    "x0 = np.random.normal(0,1,3)\n",
    "\n",
    "print(x0,fun(x0))\n",
    "\n",
    "dictsol = sciopt.minimize(fun,x0,bounds=[[0,1],[None,None],[None,None]])\n",
    "\n",
    "dictsol"
   ]
  },
  {
   "cell_type": "markdown",
   "id": "f759703a",
   "metadata": {},
   "source": [
    "## Example 2: Equality constraint of $h(x)$\n",
    "\n",
    "Consider the following design problem:\n",
    "$$\n",
    "\\min_{x,y,z} x^2 + (y+2)^2 + (z-3)^2\n",
    "$$\n",
    "subjected to:\n",
    "$$\n",
    "(x^2 + y^2) = 0\n",
    "$$\n",
    "This is a constrained optimization with an equality constraint."
   ]
  },
  {
   "cell_type": "code",
   "execution_count": 11,
   "id": "9f20dd89",
   "metadata": {},
   "outputs": [
    {
     "name": "stdout",
     "output_type": "stream",
     "text": [
      "[0.3128539  1.14002002 2.04958393] 10.860894015290855\n"
     ]
    },
    {
     "data": {
      "text/plain": [
       "     fun: 3.9999925085031016\n",
       "     jac: array([-8.34465027e-07,  3.99999562e+00,  2.98023224e-07])\n",
       " message: 'Optimization terminated successfully'\n",
       "    nfev: 194\n",
       "     nit: 41\n",
       "    njev: 41\n",
       "  status: 0\n",
       " success: True\n",
       "       x: array([ 6.04849084e-08, -1.87287510e-06,  3.00000006e+00])"
      ]
     },
     "execution_count": 11,
     "metadata": {},
     "output_type": "execute_result"
    }
   ],
   "source": [
    "fun = lambda x: x[0]**2 + (x[1]+2)**2 + (x[2] - 3)**2\n",
    "\n",
    "x0 = np.random.normal(0,1,3)\n",
    "\n",
    "print(x0,fun(x0))\n",
    "\n",
    "h = lambda x: (x[0]**2 + x[1]**2)\n",
    "\n",
    "cons = [{\"type\":\"eq\",\n",
    "         \"fun\": h}]\n",
    "\n",
    "dictsol = sciopt.minimize(fun,x0,constraints=cons)\n",
    "\n",
    "dictsol"
   ]
  },
  {
   "cell_type": "markdown",
   "id": "c3445d46",
   "metadata": {},
   "source": [
    "## Example 2: Equality constraints\n",
    "\n",
    "Consider the following design problem:\n",
    "$$\n",
    "\\min_{x,y,z} x^2 + (y+2)^2 + (z-3)^2\n",
    "$$\n",
    "subjected to:\n",
    "$$\n",
    "(x^2 + y^2) = 0\n",
    "$$\n",
    "$$\n",
    "(x^2 + 3 \\cdot z^2 - 1) = 0\n",
    "$$\n",
    "\n",
    "This is a constrained optimization with two equality constraint."
   ]
  },
  {
   "cell_type": "code",
   "execution_count": 21,
   "id": "a226de72",
   "metadata": {},
   "outputs": [
    {
     "name": "stdout",
     "output_type": "stream",
     "text": [
      "[1.16928058 0.42106872 0.0675795 ] 15.827880832340115\n",
      "h1 nan\n",
      "h2 nan\n"
     ]
    },
    {
     "data": {
      "text/plain": [
       "     fun: nan\n",
       "     jac: array([nan, nan, nan])\n",
       " message: 'Iteration limit reached'\n",
       "    nfev: 1426\n",
       "     nit: 100\n",
       "    njev: 100\n",
       "  status: 9\n",
       " success: False\n",
       "       x: array([nan, nan, nan])"
      ]
     },
     "execution_count": 21,
     "metadata": {},
     "output_type": "execute_result"
    }
   ],
   "source": [
    "fun = lambda x: x[0]**2 + (x[1]+2)**2 + (x[2] - 3)**2\n",
    "\n",
    "x0 = np.random.normal(0,1,3)\n",
    "\n",
    "print(x0,fun(x0))\n",
    "\n",
    "h1 = lambda x: (x[0]**2 + x[1]**2)\n",
    "h2 = lambda x: (x[0]**2 + 3 * x[1]**2 -1)\n",
    "\n",
    "dictsol = sciopt.minimize(fun,x0,constraints=[{\"type\":\"eq\",\"fun\": h1},{\"type\":\"eq\",\"fun\": h2}])\n",
    "\n",
    "print(\"h1\",h1(dictsol[\"x\"]))\n",
    "print(\"h2\",h2(dictsol[\"x\"]))\n",
    "\n",
    "dictsol"
   ]
  },
  {
   "cell_type": "markdown",
   "id": "899700c8",
   "metadata": {},
   "source": [
    "## Example 3: Equality and Inequality constraints\n",
    "\n",
    "Consider the following design problem:\n",
    "$$\n",
    "\\min_{x,y,z} x^2 + (y+2)^2 + (z-3)^2\n",
    "$$\n",
    "subjected to:\n",
    "$$\n",
    "(x^2 + y^2) = 0\n",
    "$$\n",
    "$$\n",
    "(x^2 + 3 \\cdot z^2 - 1) \\geq 0\n",
    "$$\n",
    "\n",
    "This is a constrained optimization with two equality constraint."
   ]
  },
  {
   "cell_type": "code",
   "execution_count": 13,
   "id": "cc561391",
   "metadata": {},
   "outputs": [
    {
     "name": "stdout",
     "output_type": "stream",
     "text": [
      "[-1.42398913  1.25664224  0.25796259] 20.152232899127192\n",
      "h1 2.5276081185038317e-12\n",
      "g2 25.999999893167104\n"
     ]
    },
    {
     "data": {
      "text/plain": [
       "     fun: 3.9999936438825054\n",
       "     jac: array([-7.15255737e-07,  3.99999627e+00,  0.00000000e+00])\n",
       " message: 'Optimization terminated successfully'\n",
       "    nfev: 197\n",
       "     nit: 42\n",
       "    njev: 42\n",
       "  status: 0\n",
       " success: True\n",
       "       x: array([ 5.09093292e-08, -1.58903001e-06,  2.99999999e+00])"
      ]
     },
     "execution_count": 13,
     "metadata": {},
     "output_type": "execute_result"
    }
   ],
   "source": [
    "fun = lambda x: x[0]**2 + (x[1]+2)**2 + (x[2] - 3)**2\n",
    "\n",
    "x0 = np.random.normal(0,1,3)\n",
    "\n",
    "print(x0,fun(x0))\n",
    "\n",
    "h1 = lambda x: (x[0]**2 + x[1]**2)\n",
    "g2 = lambda x: (x[0]**2 + 3 * x[2]**2 -1)\n",
    "\n",
    "dictsol = sciopt.minimize(fun,x0,constraints=[{\"type\":\"eq\",\"fun\": h1},{\"type\":\"ineq\",\"fun\": g2}])\n",
    "\n",
    "print(\"h1\",h1(dictsol[\"x\"]))\n",
    "print(\"g2\",g2(dictsol[\"x\"]))\n",
    "\n",
    "dictsol"
   ]
  },
  {
   "cell_type": "markdown",
   "id": "1074f2da",
   "metadata": {},
   "source": [
    "# Tips and tricks\n",
    "\n",
    "- The minimum of $f(x)$ is a maximum of $-f(x)$.\n",
    "- $f(x)$ and $\\log f(x)$ have the same minima.\n",
    "- We can transform a function $s(x) \\geq t(x)$ to $g(x) \\geq 0$, where $g(x) = s(x) - t(x)$.\n",
    "- The optimum of $a \\cdot f(x)$ is the same as $f(x)$ if $a \\neq 0$.\n",
    "- The variables must have the same order of magnitude. \n",
    "- Be careful of large-valued objective functions, as these could lead to premature convergence.\n"
   ]
  },
  {
   "cell_type": "markdown",
   "id": "8cef6dd7",
   "metadata": {},
   "source": [
    "## The minimum of $f(x)$ is the maximum of -$f(x)$ and vice versa"
   ]
  },
  {
   "cell_type": "code",
   "execution_count": 14,
   "id": "8c01a548",
   "metadata": {},
   "outputs": [
    {
     "data": {
      "text/plain": [
       "[<matplotlib.lines.Line2D at 0x23ac88df400>]"
      ]
     },
     "execution_count": 14,
     "metadata": {},
     "output_type": "execute_result"
    },
    {
     "data": {
      "image/png": "[encoded data removed]",
      "text/plain": [
       "<Figure size 432x288 with 1 Axes>"
      ]
     },
     "metadata": {
      "needs_background": "light"
     },
     "output_type": "display_data"
    }
   ],
   "source": [
    "\n",
    "f = lambda x: 2*np.cos(x+2) + (x/5)**4 + 3\n",
    "\n",
    "x_grid = np.linspace(-5,5,10000)\n",
    "\n",
    "plt.figure(1)\n",
    "plt.plot(x_grid,f(x_grid))\n",
    "plt.plot(x_grid,-f(x_grid))\n"
   ]
  },
  {
   "cell_type": "markdown",
   "id": "c798d644",
   "metadata": {},
   "source": [
    "## The minima and maxima are the same for $f(x)$ and $\\log f(x)$"
   ]
  },
  {
   "cell_type": "code",
   "execution_count": 15,
   "id": "29d054b6",
   "metadata": {},
   "outputs": [
    {
     "data": {
      "text/plain": [
       "[<matplotlib.lines.Line2D at 0x23ac896f070>]"
      ]
     },
     "execution_count": 15,
     "metadata": {},
     "output_type": "execute_result"
    },
    {
     "data": {
      "image/png": "[encoded data removed]",
      "text/plain": [
       "<Figure size 432x288 with 2 Axes>"
      ]
     },
     "metadata": {
      "needs_background": "light"
     },
     "output_type": "display_data"
    }
   ],
   "source": [
    "\n",
    "f = lambda x: 2*np.cos(x+2) + (x/5)**4 + 3\n",
    "\n",
    "x_grid = np.linspace(-5,5,10000)\n",
    "\n",
    "plt.figure(1)\n",
    "plt.subplot(211)\n",
    "plt.plot(x_grid,f(x_grid))\n",
    "plt.subplot(212)\n",
    "plt.plot(x_grid,np.log(f(x_grid)))\n"
   ]
  },
  {
   "cell_type": "markdown",
   "id": "5b7423b8",
   "metadata": {},
   "source": [
    "# Truss problem\n",
    "\n",
    "In this section, we use the closed form expressions for the mass, stress and displacement of a truss to optimize the truss"
   ]
  },
  {
   "cell_type": "code",
   "execution_count": 17,
   "id": "3d754b62",
   "metadata": {},
   "outputs": [
    {
     "name": "stdout",
     "output_type": "stream",
     "text": [
      "[0.02916128 0.02075876]\n",
      "------------------------------\n",
      "Constraints:\n",
      "272.22219633535974\n",
      "227.77776404874118\n",
      "-2.35681605342819e-08\n",
      "------------------------------\n"
     ]
    }
   ],
   "source": [
    "A = np.random.rand(2)\n",
    "\n",
    "def displacement(A):\n",
    "    \n",
    "    import numpy as np \n",
    "\n",
    "    N = np.array([-50E3,np.sqrt(2)*50E3])\n",
    "\n",
    "    L = np.array([3,np.sqrt(3**2 + 3**2)])\n",
    "\n",
    "    E = np.ones(2)*200E9\n",
    "\n",
    "    n = np.array([-1,np.sqrt(2)])\n",
    "\n",
    "    f_virtual = 1\n",
    "    deflection = np.sum(n * N * L / (A * E)) /f_virtual\n",
    "\n",
    "    return deflection\n",
    "\n",
    "def stress(A):\n",
    "    \n",
    "    import numpy as np \n",
    "\n",
    "    N = np.array([-50E3,np.sqrt(2)*50E3])\n",
    "\n",
    "    #L = np.array([3,np.sqrt(3**2 + 3**2)])\n",
    "    #E = np.ones(2)*200E9\n",
    "    #n = np.array([-1,np.sqrt(2)])\n",
    "    #f_virtual = 1\n",
    "    #deflection = np.sum(n * N * L / (A * E)) /f_virtual\n",
    "\n",
    "    return N/A\n",
    "\n",
    "# deflection,stress_in_members = function_displacement_and_stress(A)\n",
    "\n",
    "def mass1(A):\n",
    "\n",
    "    area_of_members = A * np.ones(2) # Assume the two cross-sections are the same\n",
    "\n",
    "    L = np.array([3,np.sqrt(3**2 + 3**2)]) # The lengths of the members\n",
    "\n",
    "    mass_of_members = 7800 * A*L # The mass of each member. \n",
    "\n",
    "    return np.sum(mass_of_members)\n",
    "    \n",
    "def mass2(A):\n",
    "\n",
    "    area_of_members = A * np.ones(2) # Assume the two cross-sections are the same\n",
    "\n",
    "    L = np.array([3,np.sqrt(3**2 + 3**2)]) # The lengths of the members\n",
    "\n",
    "    mass_of_members = A*L # The mass of each member. \n",
    "\n",
    "    return np.sum(mass_of_members)\n",
    "    \n",
    "cons = [\n",
    "        {\"type\": \"ineq\", \"fun\": lambda A: 250 - stress(A)[0]/1E6},\n",
    "        {\"type\": \"ineq\", \"fun\": lambda A: 250 - stress(A)[1]/1E6},    \n",
    "        {\"type\": \"ineq\", \"fun\": lambda A: 1 - displacement(A)*1000},        \n",
    "        ]\n",
    "    \n",
    "# dictsol = sciopt.minimize(mass1,A,bounds=[[0,None],[0,None]],constraints=cons)\n",
    "    \n",
    "print(A)\n",
    "    \n",
    "dictsol = sciopt.minimize(mass2,A,bounds=[[1E-8,None],[1E-8,None]],constraints=cons)\n",
    "\n",
    "print(\"-\"*30)\n",
    "print(\"Constraints:\")\n",
    "for con in cons:\n",
    "    print(con[\"fun\"](dictsol[\"x\"]))\n",
    "dictsol\n",
    "print(\"-\"*30)"
   ]
  }
 ],
 "metadata": {
  "kernelspec": {
   "display_name": "Python 3 (ipykernel)",
   "language": "python",
   "name": "python3"
  },
  "language_info": {
   "codemirror_mode": {
    "name": "ipython",
    "version": 3
   },
   "file_extension": ".py",
   "mimetype": "text/x-python",
   "name": "python",
   "nbconvert_exporter": "python",
   "pygments_lexer": "ipython3",
   "version": "3.9.6"
  }
 },
 "nbformat": 4,
 "nbformat_minor": 5
}
