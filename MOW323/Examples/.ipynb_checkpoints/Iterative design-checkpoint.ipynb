{
 "cells": [
  {
   "cell_type": "code",
   "execution_count": 1,
   "id": "4d53564d",
   "metadata": {},
   "outputs": [],
   "source": [
    "import structfem as sfem\n",
    "import numpy as np\n",
    "from scipy.optimize import minimize"
   ]
  },
  {
   "cell_type": "code",
   "execution_count": 2,
   "id": "ce1a1ed5",
   "metadata": {},
   "outputs": [],
   "source": [
    "node_coordinates  = np.array([[0,0],[1,0],[0,2],[1,2]]) \n",
    "elem_connectivity  = np.array([[0,1],[0,2],[0,3],[1,2],[1,3],[2,3]])\n",
    "prescribed_DOFS  = np.array([[0,0,0],[0,1,0],[1,1,0]])    #[Node num,direction x = 0 y = 1, fixation 0 = fixed 1 = free] \n",
    "prescribed_force = np.array([[2,1,-9.81E6/2],[3,1,-9.81E6/2]]) #[Node num,direction x = 0 y = 1, Force Mag]\n",
    "\n",
    "E   = 200E9 # GPa\n",
    "#A   = 0.1   # m^2\n",
    "rho = 7800  # kg/m^3\n",
    "\n",
    "elem_E = np.array([E,E,E,E,E,E])           # Young's modulus of Element 0, Element 1\n",
    "#elem_A = np.array([A,A,A,A,A,A])           # Area of Element 0, Element 1\n",
    "\n",
    "#elemprop = {\"A\": elem_A,\"E\": elem_E,\"density\": rho * np.ones(6)}\n",
    "#tmn = sfem.FEM_Truss_2D(node_coordinates,elem_connectivity, prescribed_DOFS,prescribed_force,elemprop)\n",
    "#tmn.solve()\n"
   ]
  },
  {
   "cell_type": "code",
   "execution_count": 3,
   "id": "b7771528",
   "metadata": {},
   "outputs": [],
   "source": [
    "\n",
    "#print(\"Nodal coordinates:\",node_coordinates.shape)\n",
    "#print(\"Element connectivity:\",elem_connectivity.shape)\n",
    "#print(\"Prescribed DOFs:\",prescribed_DOFS.shape)\n",
    "#print(\"Prescribed forces:\",prescribed_force.shape)\n",
    "#print(\"elem_E/10^9:\",elem_E/1E9)\n",
    "#print(\"elem_A\",elem_A)\n"
   ]
  },
  {
   "cell_type": "code",
   "execution_count": 4,
   "id": "78ad46b5",
   "metadata": {},
   "outputs": [],
   "source": [
    "#tmn.plot_system(show_element_numbers=True,\n",
    "#                show_node_numbers=True,\n",
    "#                show_displacement=True,\n",
    "#                magnification=1000)"
   ]
  },
  {
   "cell_type": "code",
   "execution_count": 5,
   "id": "0973d7f2",
   "metadata": {},
   "outputs": [],
   "source": [
    "#print('Node displacements:[n0x,n0y,x1x,n1y....]')\n",
    "#print(tmn.solution_dict[\"displacements\"])\n",
    "\n",
    "#print('Node Loads:[n0x,n0y,x1x,n1y....]')\n",
    "#print(tmn.solution_dict[\"loads\"])"
   ]
  },
  {
   "cell_type": "code",
   "execution_count": 6,
   "id": "d5c106e3",
   "metadata": {},
   "outputs": [],
   "source": [
    "def Weight(unknowns):\n",
    "    elem_A = np.array([unknowns[0],unknowns[1],unknowns[2],unknowns[3],unknowns[4],unknowns[5]])\n",
    "    #print(elem_A)\n",
    "    elemprop = {\"A\": elem_A,\"E\": elem_E,\"density\": rho * np.ones(6)}\n",
    "    tmn = sfem.FEM_Truss_2D(node_coordinates,elem_connectivity, prescribed_DOFS,prescribed_force,elemprop)\n",
    "    tmn.solve()\n",
    "    a = tmn.get_mass()\n",
    "    #print(a)\n",
    "    return a\n",
    "    \n",
    "def maxDisplacementDelta(unknowns):\n",
    "    elem_A = np.array([unknowns[0],unknowns[1],unknowns[2],unknowns[3],unknowns[4],unknowns[5]])\n",
    "    #print(elem_A)\n",
    "    elemprop = {\"A\": elem_A,\"E\": elem_E,\"density\": rho * np.ones(6)}\n",
    "    tmn = sfem.FEM_Truss_2D(node_coordinates,elem_connectivity, prescribed_DOFS,prescribed_force,elemprop)\n",
    "    tmn.solve()\n",
    "    a = tmn.solution_dict[\"displacements\"]\n",
    "    #print(a)\n",
    "    return (1)-(max(abs(a))*1000)\n",
    "\n",
    "def maxStressDelta(unknowns):\n",
    "    elem_A = np.array([unknowns[0],unknowns[1],unknowns[2],unknowns[3],unknowns[4],unknowns[5]])\n",
    "    #print(elem_A)\n",
    "    elemprop = {\"A\": elem_A,\"E\": elem_E,\"density\": rho * np.ones(6)}\n",
    "    tmn = sfem.FEM_Truss_2D(node_coordinates,elem_connectivity, prescribed_DOFS,prescribed_force,elemprop)\n",
    "    tmn.solve()\n",
    "    a = tmn.post_stress_strain()[\"stress\"]\n",
    "    return (200)-(max(abs(a))/1000000)"
   ]
  },
  {
   "cell_type": "code",
   "execution_count": 7,
   "id": "2dce4166",
   "metadata": {},
   "outputs": [],
   "source": [
    "con1 = {'type': 'eq', 'fun': maxDisplacementDelta}\n",
    "con2 = {'type': 'ineq', 'fun': maxStressDelta}\n",
    "constraints = [con1,con2]\n",
    "bnd = [0.00001,1]\n",
    "bounds=[bnd,bnd,bnd,bnd,bnd,bnd]"
   ]
  },
  {
   "cell_type": "code",
   "execution_count": 8,
   "id": "9af30dde",
   "metadata": {},
   "outputs": [
    {
     "name": "stdout",
     "output_type": "stream",
     "text": [
      "8168.266044899672\n",
      "0.7039466754214971\n",
      "170.3946675421497\n"
     ]
    }
   ],
   "source": [
    "A   = 0.1   # m^2\n",
    "SolutionInitCon = ([A,A,A,A,A,A])\n",
    "print(Weight(SolutionInitCon))\n",
    "print(maxDisplacementDelta(SolutionInitCon))\n",
    "print(maxStressDelta(SolutionInitCon))\n"
   ]
  },
  {
   "cell_type": "code",
   "execution_count": 9,
   "id": "30103937",
   "metadata": {},
   "outputs": [
    {
     "name": "stderr",
     "output_type": "stream",
     "text": [
      "e:\\onedrive\\tuks\\2021-3rd year\\env\\lib\\site-packages\\scipy\\optimize\\optimize.py:282: RuntimeWarning: Values in x were outside bounds during a minimize step, clipping to bounds\n",
      "  warnings.warn(\"Values in x were outside bounds during a \"\n"
     ]
    },
    {
     "name": "stdout",
     "output_type": "stream",
     "text": [
      "Positive directional derivative for linesearch    (Exit mode 8)\n",
      "            Current function value: 1625.3834715230976\n",
      "            Iterations: 31\n",
      "            Function evaluations: 261\n",
      "            Gradient evaluations: 27\n"
     ]
    }
   ],
   "source": [
    "myoptions={'disp':True,'maxiter': 100}#, 'ftol':0.1}\n",
    "solution = minimize(Weight ,SolutionInitCon ,bounds=bounds, method='SLSQP',options = myoptions ,constraints=constraints )"
   ]
  },
  {
   "cell_type": "code",
   "execution_count": 10,
   "id": "fd72b9af",
   "metadata": {},
   "outputs": [
    {
     "data": {
      "text/plain": [
       "{'displacements': array([ 0.        ,  0.        ,  0.00024979,  0.        , -0.00017888,\n",
       "        -0.00099958,  0.00034041, -0.00091099]),\n",
       " 'loads': array([-9.82254278e-11,  4.90500000e+06,  0.00000000e+00,  4.90500000e+06,\n",
       "         0.00000000e+00, -4.90500000e+06,  0.00000000e+00, -4.90500000e+06])}"
      ]
     },
     "execution_count": 10,
     "metadata": {},
     "output_type": "execute_result"
    }
   ],
   "source": [
    "elem_A = np.array(solution.x)           # Area of Element 0, Element 1\n",
    "\n",
    "elemprop = {\"A\": elem_A,\"E\": elem_E,\"density\": rho * np.ones(6)}\n",
    "tmn = sfem.FEM_Truss_2D(node_coordinates,elem_connectivity, prescribed_DOFS,prescribed_force,elemprop)\n",
    "tmn.solve()\n"
   ]
  },
  {
   "cell_type": "code",
   "execution_count": 14,
   "id": "6a99b6f5",
   "metadata": {},
   "outputs": [
    {
     "data": {
      "image/png": "[encoded data removed]",
      "text/plain": [
       "<Figure size 432x288 with 1 Axes>"
      ]
     },
     "metadata": {
      "needs_background": "light"
     },
     "output_type": "display_data"
    }
   ],
   "source": [
    "tmn.plot_system(show_element_numbers=True,\n",
    "                show_node_numbers=True,\n",
    "                show_displacement=True,\n",
    "                magnification=100)"
   ]
  },
  {
   "cell_type": "code",
   "execution_count": 12,
   "id": "a2296416",
   "metadata": {},
   "outputs": [
    {
     "name": "stdout",
     "output_type": "stream",
     "text": [
      "mass(kg) 1625.3834715230976\n",
      "maxDisplacement: 0.0009995845509863913\n",
      "maxStress 103858083.39450864\n",
      "Areas: [0.00046651 0.04860407 0.00087937 0.00082957 0.05333106 0.0002244 ]\n"
     ]
    }
   ],
   "source": [
    "print('mass(kg)',Weight(solution.x))\n",
    "print('maxDisplacement:',max(abs(tmn.solution_dict[\"displacements\"])))\n",
    "print('maxStress',max(abs(tmn.post_stress_strain()[\"stress\"])))\n",
    "print('Areas:',solution.x)"
   ]
  },
  {
   "cell_type": "code",
   "execution_count": 13,
   "id": "90ae09af",
   "metadata": {},
   "outputs": [
    {
     "name": "stdout",
     "output_type": "stream",
     "text": [
      "Node displacements:[n0x,n0y,x1x,n1y....]\n",
      "[ 0.          0.          0.00024979  0.         -0.00017888 -0.00099958\n",
      "  0.00034041 -0.00091099]\n",
      "Node Loads:[n0x,n0y,n1x,n1y....]\n",
      "[-9.82254278e-11  4.90500000e+06  0.00000000e+00  4.90500000e+06\n",
      "  0.00000000e+00 -4.90500000e+06  0.00000000e+00 -4.90500000e+06]\n",
      "Element stresses:[e0,e0,e1,e1....]\n",
      "[ 4.99580954e+07 -9.99584551e+07 -5.92625064e+07 -6.28199489e+07\n",
      " -9.10986588e+07  1.03858083e+08]\n"
     ]
    }
   ],
   "source": [
    "print('Node displacements:[n0x,n0y,x1x,n1y....]')\n",
    "print(tmn.solution_dict[\"displacements\"])\n",
    "\n",
    "print('Node Loads:[n0x,n0y,n1x,n1y....]')\n",
    "print(tmn.solution_dict[\"loads\"])\n",
    "\n",
    "print('Element stresses:[e0,e0,e1,e1....]')\n",
    "print(tmn.post_stress_strain()[\"stress\"])"
   ]
  },
  {
   "cell_type": "code",
   "execution_count": null,
   "id": "dfe97b9b",
   "metadata": {},
   "outputs": [],
   "source": []
  }
 ],
 "metadata": {
  "kernelspec": {
   "display_name": "Python 3 (ipykernel)",
   "language": "python",
   "name": "python3"
  },
  "language_info": {
   "codemirror_mode": {
    "name": "ipython",
    "version": 3
   },
   "file_extension": ".py",
   "mimetype": "text/x-python",
   "name": "python",
   "nbconvert_exporter": "python",
   "pygments_lexer": "ipython3",
   "version": "3.9.6"
  }
 },
 "nbformat": 4,
 "nbformat_minor": 5
}
