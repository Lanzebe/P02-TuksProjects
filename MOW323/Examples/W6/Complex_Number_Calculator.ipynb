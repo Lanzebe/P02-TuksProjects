{
 "cells": [
  {
   "cell_type": "code",
   "execution_count": 1,
   "id": "00d52777",
   "metadata": {},
   "outputs": [],
   "source": [
    "import numpy as np "
   ]
  },
  {
   "cell_type": "code",
   "execution_count": 11,
   "id": "efed9077",
   "metadata": {},
   "outputs": [
    {
     "data": {
      "text/plain": [
       "(3+4j)"
      ]
     },
     "execution_count": 11,
     "metadata": {},
     "output_type": "execute_result"
    }
   ],
   "source": [
    "3 + 4j "
   ]
  },
  {
   "cell_type": "code",
   "execution_count": 22,
   "id": "8196f2fa",
   "metadata": {},
   "outputs": [
    {
     "data": {
      "text/plain": [
       "5.0"
      ]
     },
     "execution_count": 22,
     "metadata": {},
     "output_type": "execute_result"
    }
   ],
   "source": [
    "abs(3 + 4j)"
   ]
  },
  {
   "cell_type": "code",
   "execution_count": 19,
   "id": "637e23d2",
   "metadata": {},
   "outputs": [
    {
     "data": {
      "text/plain": [
       "(53.13010235415598, 'degrees')"
      ]
     },
     "execution_count": 19,
     "metadata": {},
     "output_type": "execute_result"
    }
   ],
   "source": [
    "np.rad2deg(np.angle(3 + 4j )), \"degrees\""
   ]
  },
  {
   "cell_type": "code",
   "execution_count": 20,
   "id": "5f76b8f8",
   "metadata": {},
   "outputs": [
    {
     "data": {
      "text/plain": [
       "(53.13010235415598, 'degrees')"
      ]
     },
     "execution_count": 20,
     "metadata": {},
     "output_type": "execute_result"
    }
   ],
   "source": [
    "(np.angle(3 + 4j )) * 180 / np.pi, \"degrees\""
   ]
  },
  {
   "cell_type": "code",
   "execution_count": 21,
   "id": "b36d38bc",
   "metadata": {},
   "outputs": [
    {
     "data": {
      "text/plain": [
       "(53.13010235415598, 'degrees')"
      ]
     },
     "execution_count": 21,
     "metadata": {},
     "output_type": "execute_result"
    }
   ],
   "source": [
    "np.arctan(4/3) *  180 / np.pi, \"degrees\""
   ]
  },
  {
   "cell_type": "code",
   "execution_count": 18,
   "id": "46aff470",
   "metadata": {},
   "outputs": [
    {
     "name": "stdout",
     "output_type": "stream",
     "text": [
      "(0.09999999999999999-0.3j)\n",
      "0.31622776601683794\n",
      "-1.2490457723982544 rad\n"
     ]
    }
   ],
   "source": [
    "\n",
    "a = 1\n",
    "b = 3\n",
    "\n",
    "zv = 1/(a + b * 1j)\n",
    "\n",
    "print(zv)\n",
    "print(np.abs(zv))\n",
    "print(np.angle(zv),'rad')\n"
   ]
  },
  {
   "cell_type": "code",
   "execution_count": null,
   "id": "8bad87f7",
   "metadata": {},
   "outputs": [],
   "source": []
  }
 ],
 "metadata": {
  "kernelspec": {
   "display_name": "Python 3",
   "language": "python",
   "name": "python3"
  },
  "language_info": {
   "codemirror_mode": {
    "name": "ipython",
    "version": 3
   },
   "file_extension": ".py",
   "mimetype": "text/x-python",
   "name": "python",
   "nbconvert_exporter": "python",
   "pygments_lexer": "ipython3",
   "version": "3.8.8"
  }
 },
 "nbformat": 4,
 "nbformat_minor": 5
}
