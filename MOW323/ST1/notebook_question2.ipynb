{
 "cells": [
  {
   "cell_type": "markdown",
   "id": "93c3334d",
   "metadata": {},
   "source": [
    "# Question 2 - Supplementary notebook\n",
    "\n",
    "### This is a supplementary notebook for Question 2. \n",
    "### It is your responsibility to check the correctness of the inputs of the model, i.e. you must perform basic verifications."
   ]
  },
  {
   "cell_type": "markdown",
   "id": "a3e5c44c",
   "metadata": {},
   "source": [
    "# ----\n",
    "\n",
    "***Double click on this cell to ensure that you can edit it.***\n",
    " \n",
    "# Name and Surname: XXXX INSERT NAME AND SURNAMEXXX\n",
    "\n",
    "# Student number: XXX INSERT STUDENT NUMBER XXX\n"
   ]
  },
  {
   "cell_type": "code",
   "execution_count": 1,
   "id": "665936ed",
   "metadata": {},
   "outputs": [
    {
     "name": "stdout",
     "output_type": "stream",
     "text": [
      "Successfully imported all modules\n"
     ]
    }
   ],
   "source": [
    "try: \n",
    "    import engmod.structfem as sfem\n",
    "except:\n",
    "    print(\"*\"*100)\n",
    "    print(\"You must ensure that the engmod folder is the same directory as the jupyter notebook file\")\n",
    "    print(\"*\"*100)    \n",
    "    raise ValueError(\"You have to fix this\")\n",
    "\n",
    "import numpy as np\n",
    "import scipy.optimize as sciopt\n",
    "import scipy.linalg as slin\n",
    "import matplotlib.pyplot as plt \n",
    "import random\n",
    "\n",
    "\n",
    "print(\"Successfully imported all modules\")"
   ]
  },
  {
   "cell_type": "code",
   "execution_count": 2,
   "id": "b033eb9d",
   "metadata": {},
   "outputs": [
    {
     "data": {
      "image/png": "[encoded data removed]",
      "text/plain": [
       "<Figure size 432x288 with 1 Axes>"
      ]
     },
     "metadata": {
      "needs_background": "light"
     },
     "output_type": "display_data"
    }
   ],
   "source": [
    "# =======================================================================================\n",
    "# Define node coordinates\n",
    "# =======================================================================================\n",
    "node_coordinates  = np.array([[0,0], # Node 0\n",
    "                              [4,0], # Node 1\n",
    "                              [8,0], # Node 2\n",
    "                              [2,3], # Node 3\n",
    "                              [6,3], # Node 4\n",
    "                              [4,6], # Node 5\n",
    "                              ]) \n",
    "# =======================================================================================\n",
    "# Define elements from nodes\n",
    "# =======================================================================================\n",
    "elem_connectivity  = np.array([[0,1], # Element 0\n",
    "                               [0,3], # Element 1\n",
    "                               [1,3], # Element 2\n",
    "                               [1,4], # Element 3\n",
    "                               [1,2], # Element 4\n",
    "                               [2,4], # Element 5\n",
    "                               [3,4], # Element 6\n",
    "                               [3,5], # Element 7\n",
    "                               [4,5], # Element 8\n",
    "                                    ])\n",
    "\n",
    "# =======================================================================================\n",
    "# Prescribed displacements\n",
    "# =======================================================================================\n",
    "prescribed_displacement  = np.array([[0,1,0],\n",
    "                                     [1,1,0],\n",
    "                                     [1,0,0],\n",
    "                                     [2,1,0],\n",
    "                                            ])\n",
    "\n",
    "# =======================================================================================\n",
    "# Prescribed forces/loads\n",
    "# =======================================================================================\n",
    "\n",
    "prescribed_force = np.array([[4,0,5000],\n",
    "                             [4,1,0],\n",
    "                             [5,0,5000],\n",
    "                             [5,1,0],\n",
    "                            ])\n",
    "\n",
    "# =======================================================================================\n",
    "# Element properties\n",
    "# =======================================================================================\n",
    "\n",
    "E   = 73.1E9 # Pa\n",
    "b = 0.030    # m\n",
    "h = 0.040    # m\n",
    "A   = b * h  # m^2\n",
    "\n",
    "rho = 2710   # kg/m^3\n",
    "\n",
    "elem_E = np.array([E,E,E,E,E,E,E,E,E])           # Young's modulus properties \n",
    "elem_A = np.array([A,A,A,A,A,A,A,A,A])           # Area properties\n",
    "elem_rho = rho * np.ones(9)                      # Density properties\n",
    "\n",
    "elemprop = {\"A\": elem_A,\n",
    "            \"E\": elem_E,\n",
    "            \"density\": elem_rho}\n",
    "\n",
    "# =======================================================================================\n",
    "# Define the truss structure\n",
    "# =======================================================================================\n",
    "\n",
    "tmn = sfem.FEM_Truss_2D(node_coordinates,            # The coordinates of each node\n",
    "                            elem_connectivity,       # The connectivity of the nodes to form elements\n",
    "                            prescribed_displacement, # The prescribed displacements\n",
    "                            prescribed_force,        # The prescribed loads\n",
    "                            elemprop)                # The properties of the elements\n",
    "\n",
    "tmn.solve()\n",
    "tmn.plot_system(show_element_numbers=True,show_node_numbers=True,show_displacement=False,magnification=1)"
   ]
  },
  {
   "cell_type": "code",
   "execution_count": 3,
   "id": "c42cb192",
   "metadata": {},
   "outputs": [
    {
     "data": {
      "image/png": "[encoded data removed]",
      "text/plain": [
       "<Figure size 432x288 with 1 Axes>"
      ]
     },
     "metadata": {
      "needs_background": "light"
     },
     "output_type": "display_data"
    }
   ],
   "source": [
    "tmn.plot_system(show_element_numbers=True,\n",
    "                show_node_numbers=True,\n",
    "                show_displacement=True,\n",
    "                magnification=1000)"
   ]
  },
  {
   "cell_type": "code",
   "execution_count": 4,
   "id": "309c46f5",
   "metadata": {},
   "outputs": [
    {
     "name": "stdout",
     "output_type": "stream",
     "text": [
      "Node Loads:[n0x,n0y,x1x,n1y....]\n",
      "0.0\n"
     ]
    }
   ],
   "source": [
    "print('Node Loads:[n0x,n0y,x1x,n1y....]')\n",
    "print(tmn.solution_dict[\"loads\"][0])"
   ]
  },
  {
   "cell_type": "code",
   "execution_count": 5,
   "id": "c1a13d01",
   "metadata": {},
   "outputs": [
    {
     "name": "stdout",
     "output_type": "stream",
     "text": [
      "Node displacements:[n0x,n0y,x1x,n1y....]\n",
      "0.00037532942356470483\n"
     ]
    }
   ],
   "source": [
    "print('Node displacements:[n0x,n0y,x1x,n1y....]')\n",
    "print(tmn.solution_dict[\"displacements\"][6])"
   ]
  },
  {
   "cell_type": "code",
   "execution_count": 6,
   "id": "90657076",
   "metadata": {},
   "outputs": [
    {
     "name": "stdout",
     "output_type": "stream",
     "text": [
      "Element stresses:[e0,e0,e1,e1....]\n",
      "6057623.947024474\n",
      "5\n",
      "[-2889834.80792688  5209723.78880049 -1453941.21019217  2301841.36841615\n",
      "  3360165.19207312 -6057623.94702447  1613002.94918709  3755782.57860832\n",
      " -3755782.57860832]\n"
     ]
    }
   ],
   "source": [
    "print('Element stresses:[e0,e0,e1,e1....]')\n",
    "sigmas = tmn.post_stress_strain()[\"stress\"]\n",
    "maxsigma = max(abs(tmn.post_stress_strain()[\"stress\"]))\n",
    "print(maxsigma)\n",
    "for idx,i in enumerate(sigmas):\n",
    "    if abs(i) == maxsigma:\n",
    "        print(idx)\n",
    "print(tmn.post_stress_strain()[\"stress\"])"
   ]
  },
  {
   "cell_type": "code",
   "execution_count": 7,
   "id": "dce7d083",
   "metadata": {},
   "outputs": [
    {
     "name": "stdout",
     "output_type": "stream",
     "text": [
      "68.34362839630516\n"
     ]
    }
   ],
   "source": [
    "SF = 414E6/maxsigma\n",
    "print(SF)"
   ]
  },
  {
   "cell_type": "code",
   "execution_count": 8,
   "id": "056942ff",
   "metadata": {},
   "outputs": [
    {
     "name": "stdout",
     "output_type": "stream",
     "text": [
      "Element loads:[e0,e0,e1,e1....]\n",
      "-9999.999999999998\n",
      "2\n",
      "[     0.          -5201.70265427 -10000.           -846.59469146\n",
      "      0.           6048.29734573      0.              0.\n",
      "   5000.              0.           5000.              0.        ]\n"
     ]
    }
   ],
   "source": [
    "print('Element loads:[e0,e0,e1,e1....]')\n",
    "loadscom = tmn.solution_dict[\"loads\"]\n",
    "minload = min(loadscom)\n",
    "print(minload)\n",
    "for idx,i in enumerate(loadscom):\n",
    "    if i == minload:\n",
    "        print(idx)\n",
    "print(loadscom)"
   ]
  },
  {
   "cell_type": "code",
   "execution_count": 9,
   "id": "2b0a4723",
   "metadata": {},
   "outputs": [
    {
     "name": "stdout",
     "output_type": "stream",
     "text": [
      "3.605551275463989\n"
     ]
    }
   ],
   "source": [
    "lengte2 = ((4-2)**2+(0-3)**2)**0.5\n",
    "print(lengte2)"
   ]
  },
  {
   "cell_type": "code",
   "execution_count": 10,
   "id": "24fdce23",
   "metadata": {},
   "outputs": [],
   "source": [
    "# =======================================================================================\n",
    "# Define node coordinates\n",
    "# =======================================================================================\n",
    "node_coordinates  = np.array([[0,0], # Node 0\n",
    "                              [4,0], # Node 1\n",
    "                              [8,0], # Node 2\n",
    "                              [2,3], # Node 3\n",
    "                              [6,3], # Node 4\n",
    "                              [4,6], # Node 5\n",
    "                              ]) \n",
    "# =======================================================================================\n",
    "# Define elements from nodes\n",
    "# =======================================================================================\n",
    "elem_connectivity  = np.array([[0,1], # Element 0\n",
    "                               [0,3], # Element 1\n",
    "                               [1,3], # Element 2\n",
    "                               [1,4], # Element 3\n",
    "                               [1,2], # Element 4\n",
    "                               [2,4], # Element 5\n",
    "                               [3,4], # Element 6\n",
    "                               [3,5], # Element 7\n",
    "                               [4,5], # Element 8\n",
    "                                    ])\n",
    "\n",
    "# =======================================================================================\n",
    "# Prescribed displacements\n",
    "# =======================================================================================\n",
    "prescribed_displacement  = np.array([[0,1,0],\n",
    "                                     [1,1,0],\n",
    "                                     [1,0,0],\n",
    "                                     [2,1,0],\n",
    "                                            ])\n",
    "\n",
    "# =======================================================================================\n",
    "# Prescribed forces/loads\n",
    "# =======================================================================================\n",
    "\n",
    "prescribed_force = np.array([[4,0,5000],\n",
    "                             [4,1,0],\n",
    "                             [5,0,5000],\n",
    "                             [5,1,0],\n",
    "                            ])\n",
    "\n",
    "# =======================================================================================\n",
    "# Element properties\n",
    "# =======================================================================================\n",
    "\n",
    "E   = 73.1E9 # Pa\n",
    "b = 0.030    # m\n",
    "h = 0.040    # m\n",
    "A   = b * h  # m^2\n",
    "\n",
    "rho = 2710   # kg/m^3\n",
    "\n",
    "elem_E = np.array([E,E,E,E,E,E,E,E,E])           # Young's modulus properties \n",
    "elem_A = np.array([A,A,A,A,A,A,A,A,A])           # Area properties\n",
    "elem_rho = rho * np.ones(9)                      # Density properties\n",
    "\n",
    "elemprop = {\"A\": elem_A,\n",
    "            \"E\": elem_E,\n",
    "            \"density\": elem_rho}\n",
    "\n",
    "# =======================================================================================\n",
    "# Define the truss structure\n",
    "# =======================================================================================\n",
    "\n",
    "tmn = sfem.FEM_Truss_2D(node_coordinates,            # The coordinates of each node\n",
    "                            elem_connectivity,       # The connectivity of the nodes to form elements\n",
    "                            prescribed_displacement, # The prescribed displacements\n",
    "                            prescribed_force,        # The prescribed loads\n",
    "                            elemprop)                # The properties of the elements\n"
   ]
  },
  {
   "cell_type": "code",
   "execution_count": 11,
   "id": "546e044a",
   "metadata": {},
   "outputs": [],
   "source": [
    "def inverseMaxStress(unknowsn):\n",
    "    theta = unknowsn[0]\n",
    "    #print(theta)\n",
    "    \n",
    "    prescribed_force = np.array([[4,0,5000*np.sin(theta)],\n",
    "                             [4,1,5000*np.cos(theta)],\n",
    "                             [5,0,5000*np.sin(theta)],\n",
    "                             [5,1,5000*np.cos(theta)],\n",
    "                            ])\n",
    "    \n",
    "    tmn = sfem.FEM_Truss_2D(node_coordinates,            # The coordinates of each node\n",
    "                            elem_connectivity,       # The connectivity of the nodes to form elements\n",
    "                            prescribed_displacement, # The prescribed displacements\n",
    "                            prescribed_force,        # The prescribed loads\n",
    "                            elemprop)                # The properties of the elements\n",
    "    tmn.solve()\n",
    "    maxstress = (max(abs(tmn.post_stress_strain()[\"stress\"])))\n",
    "    #print(100000000/maxstress)\n",
    "    return 100000000/maxstress\n"
   ]
  },
  {
   "cell_type": "code",
   "execution_count": 12,
   "id": "86cfc57f",
   "metadata": {},
   "outputs": [],
   "source": [
    "bnd = [0,np.pi]\n",
    "bounds=[bnd]\n",
    "SolutionInitCon = ([0])"
   ]
  },
  {
   "cell_type": "code",
   "execution_count": 13,
   "id": "08d2fb67",
   "metadata": {},
   "outputs": [
    {
     "name": "stdout",
     "output_type": "stream",
     "text": [
      "Optimization terminated successfully    (Exit mode 0)\n",
      "            Current function value: 14.0302402747731\n",
      "            Iterations: 5\n",
      "            Function evaluations: 12\n",
      "            Gradient evaluations: 5\n"
     ]
    }
   ],
   "source": [
    "myoptions={'disp':True,'maxiter': 100}#, 'ftol':0.1}\n",
    "solution = sciopt.minimize(inverseMaxStress ,SolutionInitCon ,bounds=bounds, method='SLSQP',options = myoptions )"
   ]
  },
  {
   "cell_type": "code",
   "execution_count": 14,
   "id": "add363c3",
   "metadata": {},
   "outputs": [
    {
     "name": "stdout",
     "output_type": "stream",
     "text": [
      "[2.12569186]\n"
     ]
    }
   ],
   "source": [
    "print(solution.x)"
   ]
  },
  {
   "cell_type": "code",
   "execution_count": 15,
   "id": "7eb6464c",
   "metadata": {},
   "outputs": [
    {
     "name": "stdout",
     "output_type": "stream",
     "text": [
      "worst angel 2.1257987019320983\n",
      "worst angel 2.125798680431579\n",
      "worst angel 2.1257987011012784\n",
      "worst angel 2.1257987082094543\n"
     ]
    },
    {
     "data": {
      "image/png": "[encoded data removed]",
      "text/plain": [
       "<Figure size 432x288 with 1 Axes>"
      ]
     },
     "metadata": {
      "needs_background": "light"
     },
     "output_type": "display_data"
    }
   ],
   "source": [
    "thetas = []\n",
    "maxstress = []\n",
    "myoptions={'disp':False,'maxiter': 100}\n",
    "for i in range(100):\n",
    "    SolutionInitCon = ([random.uniform(0, np.pi)])\n",
    "    solution = sciopt.minimize(inverseMaxStress ,SolutionInitCon ,bounds=bounds, method='SLSQP',options = myoptions )\n",
    "    thetas.append(solution.x[0])\n",
    "    \n",
    "    prescribed_force = np.array([[4,0,5000*np.sin(solution.x[0])],\n",
    "                             [4,1,5000*np.cos(solution.x[0])],\n",
    "                             [5,0,5000*np.sin(solution.x[0])],\n",
    "                             [5,1,5000*np.cos(solution.x[0])],\n",
    "                            ])\n",
    "    \n",
    "    tmn = sfem.FEM_Truss_2D(node_coordinates,            # The coordinates of each node\n",
    "                            elem_connectivity,       # The connectivity of the nodes to form elements\n",
    "                            prescribed_displacement, # The prescribed displacements\n",
    "                            prescribed_force,        # The prescribed loads\n",
    "                            elemprop)                # The properties of the elements\n",
    "    tmn.solve()\n",
    "    \n",
    "    maxstress.append((max(abs(tmn.post_stress_strain()[\"stress\"]))))\n",
    "\n",
    "maxxs = max(maxstress)\n",
    "for idx,i in enumerate(maxstress):\n",
    "    if abs(i)== maxxs:\n",
    "        print('worst angel',thetas[idx])\n",
    "    \n",
    "\n",
    "plt.figure()\n",
    "plt.scatter(thetas,maxstress)\n",
    "plt.show()"
   ]
  },
  {
   "cell_type": "code",
   "execution_count": null,
   "id": "6c6e38f5",
   "metadata": {},
   "outputs": [],
   "source": []
  },
  {
   "cell_type": "code",
   "execution_count": null,
   "id": "aa160ba6",
   "metadata": {},
   "outputs": [],
   "source": []
  },
  {
   "cell_type": "code",
   "execution_count": null,
   "id": "ed729f1e",
   "metadata": {},
   "outputs": [],
   "source": []
  }
 ],
 "metadata": {
  "kernelspec": {
   "display_name": "Python 3 (ipykernel)",
   "language": "python",
   "name": "python3"
  },
  "language_info": {
   "codemirror_mode": {
    "name": "ipython",
    "version": 3
   },
   "file_extension": ".py",
   "mimetype": "text/x-python",
   "name": "python",
   "nbconvert_exporter": "python",
   "pygments_lexer": "ipython3",
   "version": "3.9.6"
  }
 },
 "nbformat": 4,
 "nbformat_minor": 5
}
