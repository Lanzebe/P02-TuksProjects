{
 "cells": [
  {
   "cell_type": "markdown",
   "id": "01939759",
   "metadata": {},
   "source": [
    "# Question 4 - Supplementary notebook\n",
    "\n",
    "### This is a supplementary notebook for Question 4. \n",
    "### It is your responsibility to check the correctness of the inputs of the model, i.e. you must perform basic verifications."
   ]
  },
  {
   "cell_type": "markdown",
   "id": "3b1e2824",
   "metadata": {},
   "source": [
    "----\n",
    "\n",
    "***Double click on this cell to ensure that you can edit it.***\n",
    " \n",
    "# Name and Surname: XXXX INSERT NAME AND SURNAMEXXX\n",
    "\n",
    "# Student number: XXX INSERT STUDENT NUMBER XXX\n"
   ]
  },
  {
   "cell_type": "code",
   "execution_count": 1,
   "id": "30f10980",
   "metadata": {},
   "outputs": [
    {
     "name": "stdout",
     "output_type": "stream",
     "text": [
      "Successfully imported all modules\n"
     ]
    }
   ],
   "source": [
    "try: \n",
    "    import engmod.structfem as sfem\n",
    "except:\n",
    "    print(\"*\"*100)\n",
    "    print(\"You must ensure that the engmod folder is the same directory as the jupyter notebook file\")\n",
    "    print(\"*\"*100)    \n",
    "    raise ValueError(\"You have to fix this\")\n",
    "\n",
    "import numpy as np\n",
    "import scipy.optimize as sciopt\n",
    "import scipy.linalg as slin\n",
    "import matplotlib.pyplot as plt \n",
    "\n",
    "print(\"Successfully imported all modules\")"
   ]
  },
  {
   "cell_type": "code",
   "execution_count": 2,
   "id": "0456baec",
   "metadata": {},
   "outputs": [
    {
     "data": {
      "text/plain": [
       "{'displacements': array([ 0.00000000e+00,  0.00000000e+00,  0.00000000e+00,  0.00000000e+00,\n",
       "        -3.02836654e-07, -2.29858167e-06,  3.02836654e-07, -2.29858167e-06]),\n",
       " 'loads': array([ 12113.4661795,  98000.       , -12113.4661795,  98000.       ,\n",
       "             0.       , -98000.       ,      0.       , -98000.       ])}"
      ]
     },
     "execution_count": 2,
     "metadata": {},
     "output_type": "execute_result"
    }
   ],
   "source": [
    "\n",
    "#x_coor = 4\n",
    "node_coordinates  = np.array([[0,0], # Node 0\n",
    "                              [2,0], # Node 1\n",
    "                              [0,1], # Node 2\n",
    "                              [2,1], # Node 3\n",
    "                              ]) \n",
    "\n",
    "elem_connectivity  = np.array([[0,1], \n",
    "                               [0,2], \n",
    "                               [0,3],\n",
    "                               [1,2],\n",
    "                               [1,3],\n",
    "                               [2,3],\n",
    "                                    ])\n",
    "\n",
    "prescribed_displacement  = np.array([\n",
    "                                     [0,0,0], # \n",
    "                                     [0,1,0], # \n",
    "                                     [1,0,0], # \n",
    "                                     [1,1,0], #                           \n",
    "                                            ])\n",
    "\n",
    "prescribed_force = np.array([[2,1,-20000*9.8/2],\n",
    "                            [3,1,-20000*9.8/2],\n",
    "                            ])\n",
    "\n",
    "E   = 200E9 # Pa\n",
    "A   = 0.2   # m^2\n",
    "rho = 7800  # kg/m^3\n",
    "\n",
    "elem_E = np.array([E,E,E,E,E,E])           # Young's modulus of Element 0, Element 1\n",
    "elem_A = np.array([A,A,A,A,A,A])           # Area of Element 0, Element 1\n",
    "\n",
    "elemprop = {\"A\": elem_A,\n",
    "            \"E\": elem_E,\n",
    "            \"density\": rho * np.ones(len(elem_A))}\n",
    "\n",
    "tmn = sfem.FEM_Truss_2D(node_coordinates,            # The coordinates of each node\n",
    "                            elem_connectivity,       # The connectivity of the nodes to form elements\n",
    "                            prescribed_displacement, # The prescribed displacements\n",
    "                            prescribed_force,        # The prescribed loads\n",
    "                            elemprop)                # The properties of the elements\n",
    "\n",
    "\n",
    "tmn.solve()"
   ]
  },
  {
   "cell_type": "code",
   "execution_count": 3,
   "id": "fe5569fb",
   "metadata": {},
   "outputs": [
    {
     "data": {
      "image/png": "[encoded data removed]",
      "text/plain": [
       "<Figure size 432x288 with 1 Axes>"
      ]
     },
     "metadata": {
      "needs_background": "light"
     },
     "output_type": "display_data"
    }
   ],
   "source": [
    "tmn.plot_system(show_element_numbers=True,\n",
    "                show_node_numbers=True,\n",
    "                show_displacement=True,\n",
    "                magnification=50000)"
   ]
  },
  {
   "cell_type": "code",
   "execution_count": 4,
   "id": "afe3baad",
   "metadata": {},
   "outputs": [
    {
     "data": {
      "text/plain": [
       "16336.532089799344"
      ]
     },
     "execution_count": 4,
     "metadata": {},
     "output_type": "execute_result"
    }
   ],
   "source": [
    "tmn.get_mass()"
   ]
  },
  {
   "cell_type": "code",
   "execution_count": 5,
   "id": "c5e133d2",
   "metadata": {},
   "outputs": [
    {
     "name": "stdout",
     "output_type": "stream",
     "text": [
      "[ 0.00000000e+00  0.00000000e+00  0.00000000e+00  0.00000000e+00\n",
      " -3.02836654e-07 -2.29858167e-06  3.02836654e-07 -2.29858167e-06]\n",
      "2.298581672756276e-06\n"
     ]
    }
   ],
   "source": [
    "a = tmn.solution_dict[\"displacements\"]\n",
    "print(a)\n",
    "print(max(abs(a)))"
   ]
  },
  {
   "cell_type": "code",
   "execution_count": 6,
   "id": "b831c0d3",
   "metadata": {},
   "outputs": [
    {
     "name": "stdout",
     "output_type": "stream",
     "text": [
      "[      0.         -459716.33455126  -67716.33455126  -67716.33455126\n",
      " -459716.33455126   60567.33089749]\n",
      "459716.33455125516\n"
     ]
    }
   ],
   "source": [
    "maxSigama = tmn.post_stress_strain()[\"stress\"]\n",
    "print(maxSigama)\n",
    "print(max(abs(maxSigama)))"
   ]
  },
  {
   "cell_type": "code",
   "execution_count": 7,
   "id": "ee116707",
   "metadata": {},
   "outputs": [],
   "source": [
    "def Weight(unknowns):\n",
    "    elem_A = np.array([unknowns[0],unknowns[1],unknowns[2],unknowns[3],unknowns[4],unknowns[5]])\n",
    "    #print(elem_A)\n",
    "    elemprop = {\"A\": elem_A,\"E\": elem_E,\"density\": rho * np.ones(6)}\n",
    "    tmn = sfem.FEM_Truss_2D(node_coordinates,elem_connectivity, prescribed_displacement,prescribed_force,elemprop)\n",
    "    tmn.solve()\n",
    "    a = tmn.get_mass()\n",
    "    #print(a)\n",
    "    return a\n",
    "    \n",
    "def maxDisplacementDelta(unknowns):\n",
    "    elem_A = np.array([unknowns[0],unknowns[1],unknowns[2],unknowns[3],unknowns[4],unknowns[5]])\n",
    "    #print(elem_A)\n",
    "    elemprop = {\"A\": elem_A,\"E\": elem_E,\"density\": rho * np.ones(6)}\n",
    "    tmn = sfem.FEM_Truss_2D(node_coordinates,elem_connectivity, prescribed_displacement,prescribed_force,elemprop)\n",
    "    tmn.solve()\n",
    "    a = tmn.solution_dict[\"displacements\"]\n",
    "    #print(a)\n",
    "    return (1)-(max(abs(a))*1000)\n",
    "\n",
    "def maxStressDelta(unknowns):\n",
    "    elem_A = np.array([unknowns[0],unknowns[1],unknowns[2],unknowns[3],unknowns[4],unknowns[5]])\n",
    "    #print(elem_A)\n",
    "    elemprop = {\"A\": elem_A,\"E\": elem_E,\"density\": rho * np.ones(6)}\n",
    "    tmn = sfem.FEM_Truss_2D(node_coordinates,elem_connectivity, prescribed_displacement,prescribed_force,elemprop)\n",
    "    tmn.solve()\n",
    "    a = tmn.post_stress_strain()[\"stress\"]\n",
    "    return (250)-(max(abs(a))/1000000)"
   ]
  },
  {
   "cell_type": "code",
   "execution_count": 8,
   "id": "fdc9bd39",
   "metadata": {},
   "outputs": [],
   "source": [
    "con1 = {'type': 'eq', 'fun': maxDisplacementDelta}\n",
    "con2 = {'type': 'ineq', 'fun': maxStressDelta}\n",
    "constraints = [con1,con2]\n",
    "bnd = [0.00001,0.2]\n",
    "bounds=[bnd,bnd,bnd,bnd,bnd,bnd]"
   ]
  },
  {
   "cell_type": "code",
   "execution_count": 9,
   "id": "72e5a540",
   "metadata": {},
   "outputs": [
    {
     "name": "stdout",
     "output_type": "stream",
     "text": [
      "16336.532089799344\n",
      "0.9977014183272437\n",
      "249.54028366544875\n"
     ]
    }
   ],
   "source": [
    "A   = 0.2   # m^2\n",
    "SolutionInitCon = ([A,A,A,A,A,A])\n",
    "print(Weight(SolutionInitCon))\n",
    "print(maxDisplacementDelta(SolutionInitCon))\n",
    "print(maxStressDelta(SolutionInitCon))\n"
   ]
  },
  {
   "cell_type": "code",
   "execution_count": 10,
   "id": "333f6ef8",
   "metadata": {},
   "outputs": [
    {
     "name": "stderr",
     "output_type": "stream",
     "text": [
      "e:\\onedrive\\tuks\\2021-3rd year\\env\\lib\\site-packages\\scipy\\optimize\\optimize.py:282: RuntimeWarning: Values in x were outside bounds during a minimize step, clipping to bounds\n",
      "  warnings.warn(\"Values in x were outside bounds during a \"\n"
     ]
    },
    {
     "name": "stdout",
     "output_type": "stream",
     "text": [
      "Iteration limit reached    (Exit mode 9)\n",
      "            Current function value: 225.09043588820097\n",
      "            Iterations: 100\n",
      "            Function evaluations: 1645\n",
      "            Gradient evaluations: 99\n"
     ]
    }
   ],
   "source": [
    "myoptions={'disp':True,'maxiter': 100}#, 'ftol':0.1}\n",
    "solution = sciopt.minimize(Weight ,SolutionInitCon ,bounds=bounds, method='SLSQP',options = myoptions ,constraints=constraints )"
   ]
  },
  {
   "cell_type": "code",
   "execution_count": 11,
   "id": "a5dfa19c",
   "metadata": {},
   "outputs": [
    {
     "data": {
      "text/plain": [
       "{'displacements': array([ 0.00000000e+00,  0.00000000e+00,  0.00000000e+00,  0.00000000e+00,\n",
       "         6.29950236e-07, -2.04200562e-04,  8.27666958e-05, -3.70996342e-04]),\n",
       " 'loads': array([ 23362.07213824,  98000.        , -23362.07213824,  98000.        ,\n",
       "             0.        , -98000.        ,      0.        , -98000.        ])}"
      ]
     },
     "execution_count": 11,
     "metadata": {},
     "output_type": "execute_result"
    }
   ],
   "source": [
    "elem_A = np.array(solution.x)           # Area of Element 0, Element 1\n",
    "\n",
    "elemprop = {\"A\": elem_A,\"E\": elem_E,\"density\": rho * np.ones(6)}\n",
    "tmn = sfem.FEM_Truss_2D(node_coordinates,elem_connectivity, prescribed_displacement,prescribed_force,elemprop)\n",
    "tmn.solve()"
   ]
  },
  {
   "cell_type": "code",
   "execution_count": 12,
   "id": "ad061b87",
   "metadata": {},
   "outputs": [
    {
     "data": {
      "text/plain": [
       "225.09043588820097"
      ]
     },
     "execution_count": 12,
     "metadata": {},
     "output_type": "execute_result"
    }
   ],
   "source": [
    "tmn.get_mass()"
   ]
  },
  {
   "cell_type": "code",
   "execution_count": 13,
   "id": "76bb423c",
   "metadata": {},
   "outputs": [
    {
     "name": "stdout",
     "output_type": "stream",
     "text": [
      "[0.00283955 0.00211358 0.00317814 0.00317818 0.00116334 0.00284429]\n"
     ]
    }
   ],
   "source": [
    "print(solution.x)"
   ]
  },
  {
   "cell_type": "code",
   "execution_count": null,
   "id": "c63e7f15",
   "metadata": {},
   "outputs": [],
   "source": []
  },
  {
   "cell_type": "code",
   "execution_count": null,
   "id": "e4b692fe",
   "metadata": {},
   "outputs": [],
   "source": []
  }
 ],
 "metadata": {
  "kernelspec": {
   "display_name": "Python 3 (ipykernel)",
   "language": "python",
   "name": "python3"
  },
  "language_info": {
   "codemirror_mode": {
    "name": "ipython",
    "version": 3
   },
   "file_extension": ".py",
   "mimetype": "text/x-python",
   "name": "python",
   "nbconvert_exporter": "python",
   "pygments_lexer": "ipython3",
   "version": "3.9.6"
  }
 },
 "nbformat": 4,
 "nbformat_minor": 5
}
