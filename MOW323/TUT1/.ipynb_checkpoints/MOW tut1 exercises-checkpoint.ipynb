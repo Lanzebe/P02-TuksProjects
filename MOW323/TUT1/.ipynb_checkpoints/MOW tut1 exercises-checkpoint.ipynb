{
 "cells": [
  {
   "cell_type": "code",
   "execution_count": 38,
   "id": "9f764dc5",
   "metadata": {},
   "outputs": [
    {
     "data": {
      "text/latex": [
       "$\\displaystyle \\frac{E a b}{L}$"
      ],
      "text/plain": [
       "E*a*b/L"
      ]
     },
     "metadata": {},
     "output_type": "display_data"
    },
    {
     "name": "stdout",
     "output_type": "stream",
     "text": [
      ": 40000000.0000000\n"
     ]
    }
   ],
   "source": [
    "from math import pi\n",
    "import sympy as sp\n",
    "from sympy import evalf\n",
    "\n",
    "E, L, F, Fx, Fy, theta, sigma, epsilon, a, b, dx, stifness = sp.symbols(\"E, L, F, Fx, Fy, theta, sigma, epsilon, a, b, dx, stifness\")\n",
    "\n",
    "Fx = F*sp.sin(theta)\n",
    "Fy = F*sp.cos(theta)\n",
    "sigma = Fx/(a*b)\n",
    "epsilon = sigma/E\n",
    "dx = L*epsilon\n",
    "stiffnessX = Fx/dx\n",
    "\n",
    "SubDic = {'E':200*10**9, 'L':1, 'F':100, 'theta': pi/4, 'a': 0.01, 'b': 0.02 }\n",
    "\n",
    "stiffnessXsub = stiffnessX.subs(SubDic)\n",
    "\n",
    "\n",
    "ans = stiffnessXsub.evalf()\n",
    "display(stiffnessX)\n",
    "print(':',ans)\n",
    "\n"
   ]
  },
  {
   "cell_type": "code",
   "execution_count": 39,
   "id": "9622c1b0",
   "metadata": {},
   "outputs": [
    {
     "data": {
      "text/latex": [
       "$\\displaystyle \\frac{E a b^{3}}{4 L^{3}}$"
      ],
      "text/plain": [
       "E*a*b**3/(4*L**3)"
      ]
     },
     "metadata": {},
     "output_type": "display_data"
    },
    {
     "name": "stdout",
     "output_type": "stream",
     "text": [
      ": 4000.00000000000\n"
     ]
    }
   ],
   "source": [
    "I = (a*b**3)/12\n",
    "dy = (Fy*L**3)/(3*E*I)\n",
    "stiffnessY = Fy/dy\n",
    "\n",
    "stiffnessYsub = stiffnessY.subs(SubDic)\n",
    "\n",
    "SY = stiffnessYsub.evalf()\n",
    "display(stiffnessY)\n",
    "print(':',SY)\n"
   ]
  },
  {
   "cell_type": "code",
   "execution_count": 79,
   "id": "01ece522",
   "metadata": {},
   "outputs": [
    {
     "data": {
      "text/latex": [
       "$\\displaystyle 70.7106781186547$"
      ],
      "text/plain": [
       "70.7106781186547"
      ]
     },
     "metadata": {},
     "output_type": "display_data"
    },
    {
     "data": {
      "image/png": "[encoded data removed]",
      "text/plain": [
       "<Figure size 432x288 with 1 Axes>"
      ]
     },
     "metadata": {
      "needs_background": "light"
     },
     "output_type": "display_data"
    },
    {
     "data": {
      "text/plain": [
       "<sympy.plotting.plot.Plot at 0x2756d74fac0>"
      ]
     },
     "execution_count": 79,
     "metadata": {},
     "output_type": "execute_result"
    }
   ],
   "source": [
    "AxialForce,x = sp.symbols('AxialForce,x')\n",
    "\n",
    "AxialForce = Fx.subs(SubDic) \n",
    "\n",
    "\n",
    "display(AxialForce)\n",
    "sp.plotting.plot(AxialForce, show=True)\n",
    "#sp.plotting.plot(AxialForce,(x,0,2),title='M(x)')"
   ]
  },
  {
   "cell_type": "code",
   "execution_count": null,
   "id": "4f837541",
   "metadata": {},
   "outputs": [],
   "source": []
  }
 ],
 "metadata": {
  "kernelspec": {
   "display_name": "Python 3 (ipykernel)",
   "language": "python",
   "name": "python3"
  },
  "language_info": {
   "codemirror_mode": {
    "name": "ipython",
    "version": 3
   },
   "file_extension": ".py",
   "mimetype": "text/x-python",
   "name": "python",
   "nbconvert_exporter": "python",
   "pygments_lexer": "ipython3",
   "version": "3.9.6"
  }
 },
 "nbformat": 4,
 "nbformat_minor": 5
}
