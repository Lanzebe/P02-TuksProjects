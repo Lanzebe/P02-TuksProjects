{
 "cells": [
  {
   "cell_type": "markdown",
   "id": "09e7bdb9",
   "metadata": {},
   "source": [
    "# MOW 323 "
   ]
  },
  {
   "cell_type": "markdown",
   "id": "3dd12dfc",
   "metadata": {},
   "source": [
    "# Lanz Ebersohn\n"
   ]
  },
  {
   "cell_type": "markdown",
   "id": "4e00088e",
   "metadata": {},
   "source": [
    "# u18285229"
   ]
  },
  {
   "cell_type": "code",
   "execution_count": 1,
   "id": "e80dd4ae",
   "metadata": {},
   "outputs": [
    {
     "name": "stdout",
     "output_type": "stream",
     "text": [
      "12:03:05.979126 - 2021-11-04\n",
      "E:\\OneDrive\\TUKS\\2021-3rd year\\env\\Scripts\\MOW323\\ST2\n"
     ]
    }
   ],
   "source": [
    "try:\n",
    "    import os    \n",
    "    if \"add_engmod.py\" in os.listdir(): \n",
    "        print(\"Exists!\"); import add_engmod\n",
    "        print(\"Development version is loaded. For office use only.\")\n",
    "except:\n",
    "    pass\n",
    "try:\n",
    "    import importlib; \n",
    "    import engmod.structfem as sfem; importlib.reload(sfem)\n",
    "    import numpy as np \n",
    "    try:\n",
    "        from datetime import datetime\n",
    "        print(str(datetime.time(datetime.now())),'-',str(datetime.date(datetime.now())))\n",
    "        import os\n",
    "        print(os.getcwd())\n",
    "    except: \n",
    "        pass    \n",
    "    \n",
    "except Exception as e:\n",
    "    print(e)\n",
    "    print(\"Engmod is not imported. Please ensure that the jupyter notebook and engmod folder is in the same directory.\")\n",
    "import matplotlib.pyplot as plt "
   ]
  },
  {
   "cell_type": "markdown",
   "id": "b38c95f0",
   "metadata": {},
   "source": [
    "# Configuration1"
   ]
  },
  {
   "cell_type": "markdown",
   "id": "c2857a58",
   "metadata": {},
   "source": [
    "## Finite Element Model (FEM)"
   ]
  },
  {
   "cell_type": "code",
   "execution_count": 5,
   "id": "7260250f",
   "metadata": {},
   "outputs": [],
   "source": [
    "nodecoor = np.array([\n",
    "                    [0.0,0.0], # Node 0\n",
    "                    [0.1,0.0], # Node 1\n",
    "                    [0.2,0.0], # Node 2\n",
    "                    [0.3,0.0], # Node 3\n",
    "                    [0.4,0.0], # Node 4\n",
    "                    [0.5,0.0], # Node 5\n",
    "                    [0.6,0.0], # Node 6\n",
    "                    [0.7,0.0], # Node 7\n",
    "                    [0.8,0.0], # Node 8\n",
    "                    [0.9,0.0], # Node 9\n",
    "                    [1.0,0.0], # Node 10    \n",
    "                    ])\n",
    "\n",
    "elemconn = np.array([\n",
    "                    [0,1], # Element 0\n",
    "                    [1,2], # Element 1\n",
    "                    [2,3], # Element 2\n",
    "                    [3,4], # Element 3\n",
    "                    [4,5], # Element 4\n",
    "                    [5,6], # Element 5\n",
    "                    [6,7], # Element 6\n",
    "                    [7,8], # Element 7\n",
    "                    [8,9], # Element 8    \n",
    "                    [9,10] # Element 9   \n",
    "                    ])\n",
    "\n",
    "prescribed_displacement = np.array([\n",
    "                                    [0,0,0],\n",
    "                                    [0,1,0],\n",
    "                                    [0,2,0],\n",
    "                                    [10,1,0]])\n",
    "\n",
    "prescribed_force = np.array([\n",
    "                            [3,1,-500],\n",
    "                            ])\n",
    "\n",
    "A0 = 314.1592653589793  / 1E6\n",
    "I0 = 7853.981633974483  / 1E12\n",
    "A1 = 1256.6370614359173 / 1E6 \n",
    "I1 = 125663.70614359173 / 1E12\n",
    "\n",
    "element_properties_dict = {\n",
    "    \"A\": np.array([A0,A0,A0,A0,A0,A1,A1,A1,A1,A1]),\n",
    "    \"I\": np.array([I0,I0,I0,I0,I0,I1,I1,I1,I1,I1]),  \n",
    "    \"density\": np.ones(elemconn.shape[0])*7800,    \n",
    "    \"E\": np.ones(elemconn.shape[0]) * 200E9\n",
    "}\n",
    "\n",
    "fmn = sfem.FEM_Beam_2D(\n",
    "                            nodecoor,\n",
    "                            elemconn,\n",
    "                            prescribed_displacement,\n",
    "                            prescribed_force,\n",
    "                            element_properties_dict,\n",
    "                        )\n"
   ]
  },
  {
   "cell_type": "code",
   "execution_count": 6,
   "id": "b13d9d8e",
   "metadata": {},
   "outputs": [
    {
     "data": {
      "text/plain": [
       "{'displacements': array([ 0.        ,  0.        ,  0.        ,  0.        , -0.00021267,\n",
       "        -0.00379594,  0.        , -0.00066769, -0.00484687,  0.        ,\n",
       "        -0.00109055, -0.00315279,  0.        , -0.0012598 , -0.00030524,\n",
       "         0.        , -0.0011662 ,  0.00210423,  0.        , -0.00094939,\n",
       "         0.00222744,  0.        , -0.00072162,  0.00232327,  0.        ,\n",
       "        -0.00048565,  0.00239172,  0.        , -0.00024419,  0.00243279,\n",
       "         0.        ,  0.        ,  0.00244648]),\n",
       " 'loads': array([   0.        ,  431.18584071,   81.18584071,    0.        ,\n",
       "           0.        ,    0.        ,    0.        ,    0.        ,\n",
       "           0.        ,    0.        , -500.        ,    0.        ,\n",
       "           0.        ,    0.        ,    0.        ,    0.        ,\n",
       "           0.        ,    0.        ,    0.        ,    0.        ,\n",
       "           0.        ,    0.        ,    0.        ,    0.        ,\n",
       "           0.        ,    0.        ,    0.        ,    0.        ,\n",
       "           0.        ,    0.        ,    0.        ,   68.81415929,\n",
       "           0.        ])}"
      ]
     },
     "execution_count": 6,
     "metadata": {},
     "output_type": "execute_result"
    }
   ],
   "source": [
    "fmn.solve()"
   ]
  },
  {
   "cell_type": "code",
   "execution_count": 7,
   "id": "abb7184b",
   "metadata": {},
   "outputs": [
    {
     "data": {
      "image/png": "[encoded data removed]",
      "text/plain": [
       "<Figure size 432x288 with 1 Axes>"
      ]
     },
     "metadata": {
      "needs_background": "light"
     },
     "output_type": "display_data"
    }
   ],
   "source": [
    "fmn.plot_system(show_displacement=True,magnification=10)"
   ]
  },
  {
   "cell_type": "markdown",
   "id": "88d73511",
   "metadata": {},
   "source": [
    "## a.)Getting modes and frequencies"
   ]
  },
  {
   "cell_type": "code",
   "execution_count": 8,
   "id": "521d53bf",
   "metadata": {},
   "outputs": [
    {
     "data": {
      "text/plain": [
       "{'natural_frequencies_hz': array([  59.23277369,  313.20004061,  538.51607018,  747.58647708,\n",
       "        1006.66787863, 1533.46448627, 2092.7981262 , 3036.9431254 ,\n",
       "        3649.07402591, 4368.13669735, 5252.47092797]),\n",
       " 'modes': array([[-2.99524602e-16,  1.33026116e-16,  2.41287499e-15,\n",
       "         -8.37142522e-02,  2.50528799e-15,  1.35245621e-16,\n",
       "          4.44769503e-16, -4.92853520e-17, -2.85378310e-16,\n",
       "          4.72214058e-01, -8.61912835e-16],\n",
       "        [ 8.72377389e-02,  4.03296093e-01,  4.95655630e-01,\n",
       "         -1.19848705e-14, -9.72883268e-01,  7.91685220e-01,\n",
       "          1.21510467e+00, -9.74827630e-01,  7.98480660e-01,\n",
       "         -2.85050819e-15, -5.52594942e-01],\n",
       "        [ 1.58491824e+00,  6.46797337e+00,  6.96332548e+00,\n",
       "         -1.07671816e-13, -9.93922772e+00,  4.53989915e+00,\n",
       "          4.89767691e-01,  1.04867722e+01, -1.61787267e+01,\n",
       "          1.28461338e-13,  3.48467040e+01],\n",
       "        [-5.98301593e-16,  3.61146910e-16,  4.74992483e-15,\n",
       "         -1.66709181e-01,  5.00608792e-15,  4.96005160e-17,\n",
       "          7.39844875e-16, -3.26387688e-16, -4.97569289e-16,\n",
       "          8.12178127e-01, -1.39393148e-15],\n",
       "        [ 2.85246184e-01,  1.00363985e+00,  9.10190913e-01,\n",
       "         -2.51047812e-15, -8.20641997e-01,  4.51450997e-02,\n",
       "         -6.29026944e-01,  9.89981852e-01, -8.69733749e-01,\n",
       "         -1.44508448e-15,  2.98793837e-01],\n",
       "        [ 2.21882137e+00,  4.35894724e+00, -1.76425041e-01,\n",
       "          3.13694436e-13,  1.34543516e+01, -1.52872136e+01,\n",
       "         -2.12799384e+01,  1.76905777e+00,  1.15623843e+01,\n",
       "         -8.84022025e-14, -4.11862398e+01],\n",
       "        [-8.18319121e-16,  6.99206931e-16,  7.33784668e-15,\n",
       "         -2.48271644e-01,  6.91769275e-15,  6.48758242e-16,\n",
       "          1.47520114e-15, -2.78146890e-16, -5.56365409e-16,\n",
       "          9.24680633e-01, -1.23416919e-15],\n",
       "        [ 5.00590782e-01,  1.12831428e+00,  4.11570166e-01,\n",
       "          3.62119392e-14,  8.38055645e-01, -7.31064124e-01,\n",
       "         -3.10520722e-01, -8.70385572e-01,  9.47778246e-01,\n",
       "          1.71969413e-15, -4.09448531e-02],\n",
       "        [ 1.94195428e+00, -2.06984023e+00, -8.79474989e+00,\n",
       "          2.57416527e-13,  1.29321246e+01,  4.91600633e+00,\n",
       "          2.46081005e+01, -1.22058875e+01, -7.67913199e+00,\n",
       "          6.59780601e-14,  4.41310340e+01],\n",
       "        [-1.14002608e-15,  8.54077108e-16,  9.63101623e-15,\n",
       "         -3.27700806e-01,  9.29463649e-15,  4.76685637e-16,\n",
       "          1.59045804e-15, -1.86032726e-16, -8.13171070e-16,\n",
       "          7.78213712e-01, -6.22544380e-16],\n",
       "        [ 6.46062552e-01,  6.62046974e-01, -4.86002793e-01,\n",
       "          1.49514388e-14,  9.07848475e-01,  5.29034460e-01,\n",
       "          1.10227782e+00,  6.21921896e-01, -1.01181455e+00,\n",
       "         -2.09137632e-15, -2.45716398e-01],\n",
       "        [ 8.39222771e-01, -6.36688672e+00, -7.01999308e+00,\n",
       "         -6.05844951e-13, -1.09458777e+01,  1.20688965e+01,\n",
       "         -8.76959931e+00,  2.14616420e+01,  2.86535238e+00,\n",
       "         -5.64150370e-14, -4.33079433e+01],\n",
       "        [-1.57337948e-15,  5.16550129e-16,  1.15171049e-14,\n",
       "         -4.04314166e-01,  1.22981149e-14,  2.30175172e-16,\n",
       "          1.40746120e-15, -1.70156775e-16, -5.59642284e-16,\n",
       "          4.13797426e-01, -2.28855626e-16],\n",
       "        [ 6.45016855e-01,  1.10603586e-01, -6.55434131e-01,\n",
       "         -2.87445314e-14, -2.08328182e-01,  5.63366194e-01,\n",
       "         -4.47526241e-01,  2.93990713e-01,  6.56697735e-01,\n",
       "          6.81821359e-16, -1.82515027e-01],\n",
       "        [-9.65482861e-01, -3.11453217e+00,  4.47779728e+00,\n",
       "          6.54169117e-14, -2.43537665e+00, -9.55306610e+00,\n",
       "          1.06241656e+00, -1.19612028e+01, -9.06655957e+00,\n",
       "          4.38998434e-15,  1.51060008e+01],\n",
       "        [-1.69952810e-15,  3.03311604e-16,  1.18174913e-14,\n",
       "         -4.21296186e-01,  1.28717009e-14,  2.08651227e-16,\n",
       "          1.52860947e-15, -3.67477984e-16, -8.84932967e-19,\n",
       "          2.50262346e-01, -3.64293061e-16],\n",
       "        [ 5.41435248e-01, -1.64951392e-01, -1.78781592e-01,\n",
       "         -1.63972345e-14, -2.98184129e-01, -2.90819278e-01,\n",
       "         -7.37722940e-02, -4.12786881e-01, -3.39677020e-01,\n",
       "         -9.58281510e-17,  2.67255196e-01],\n",
       "        [-1.10922089e+00, -2.28944382e+00,  4.85084350e+00,\n",
       "          1.79465862e-13,  8.67922651e-01, -6.01870496e+00,\n",
       "          5.60039608e+00,  5.19691037e-01, -6.02380430e+00,\n",
       "         -1.44532762e-14, -8.40684054e+00],\n",
       "        [-1.69898520e-15,  4.91467779e-16,  1.23143348e-14,\n",
       "         -4.34658174e-01,  1.33637618e-14,  4.99460351e-17,\n",
       "          1.33696387e-15, -5.07429200e-16,  2.25745377e-16,\n",
       "          1.66378813e-02, -2.94027653e-16],\n",
       "        [ 4.23064893e-01, -3.28683270e-01,  2.53280372e-01,\n",
       "          3.90685075e-15, -6.44365630e-02, -4.13521580e-01,\n",
       "          3.19534221e-01,  2.10668615e-01, -2.40967872e-02,\n",
       "         -3.70071823e-16, -4.34480430e-01],\n",
       "        [-1.25639216e+00, -9.17684241e-01,  3.45104107e+00,\n",
       "          2.01157729e-13,  3.32313006e+00,  3.64277384e+00,\n",
       "          6.66372019e-01,  7.49638025e+00,  9.37882403e+00,\n",
       "          1.13859278e-14,  3.13752725e+00],\n",
       "        [-1.75078648e-15,  3.01490149e-16,  1.24010699e-14,\n",
       "         -4.44285317e-01,  1.38194942e-14, -1.22995078e-16,\n",
       "          1.24672090e-15, -4.04836077e-16,  2.16591469e-16,\n",
       "         -2.21646249e-01,  4.84994220e-16],\n",
       "        [ 2.90918282e-01, -3.42544713e-01,  4.56215619e-01,\n",
       "          1.86278871e-14,  2.37982429e-01,  1.98081646e-01,\n",
       "          2.32601837e-02,  2.94360769e-01,  3.98642557e-01,\n",
       "          6.22722743e-16,  4.26255499e-01],\n",
       "        [-1.38094548e+00,  6.27806390e-01,  4.45017790e-01,\n",
       "          7.24799477e-14,  2.08693617e+00,  6.50786038e+00,\n",
       "         -5.22000937e+00, -6.42347737e+00, -4.40448678e+00,\n",
       "         -1.37664704e-15,  3.66116515e+00],\n",
       "        [-1.77915259e-15,  2.71946050e-16,  1.24693549e-14,\n",
       "         -4.50094892e-01,  1.41462414e-14, -1.16226724e-16,\n",
       "          1.23273044e-15, -3.56562177e-16,  2.18567414e-16,\n",
       "         -3.97855323e-01,  1.02846634e-15],\n",
       "        [ 1.48280828e-01, -2.14337198e-01,  3.41394562e-01,\n",
       "          1.65454450e-14,  2.71866698e-01,  5.06074263e-01,\n",
       "         -3.26616053e-01, -4.14698118e-01, -3.84538887e-01,\n",
       "         -4.62308990e-16, -2.61551201e-01],\n",
       "        [-1.46359616e+00,  1.83991914e+00, -2.58109261e+00,\n",
       "         -1.09945629e-13, -1.47983068e+00, -1.37598419e+00,\n",
       "         -1.91851322e-01, -3.03290441e+00, -4.90532535e+00,\n",
       "         -9.61859910e-15, -9.07559802e+00],\n",
       "        [-1.79263078e-15,  1.87584324e-16,  1.24617062e-14,\n",
       "         -4.52036979e-01,  1.41477039e-14,  3.88506336e-17,\n",
       "          1.48875730e-15, -2.86266653e-16,  9.95867950e-18,\n",
       "         -4.62639587e-01,  1.57970708e-15],\n",
       "        [-1.49248141e+00,  2.29793347e+00, -3.84419630e+00,\n",
       "         -1.94539754e-13, -3.37933962e+00, -7.09718738e+00,\n",
       "          5.25223692e+00,  8.55889376e+00,  9.47277874e+00,\n",
       "          1.42983352e-14,  1.11353288e+01]]),\n",
       " 'coor_global': array([0. , 0.1, 0.2, 0.3, 0.4, 0.5, 0.6, 0.7, 0.8, 0.9, 1. , 0. , 0. ,\n",
       "        0. , 0. , 0. , 0. , 0. , 0. , 0. , 0. , 0. ]),\n",
       " 'index_p': array([ 0,  1,  2, 31]),\n",
       " 'index_f': array([ 3,  4,  5,  6,  7,  8,  9, 10, 11, 12, 13, 14, 15, 16, 17, 18, 19,\n",
       "        20, 21, 22, 23, 24, 25, 26, 27, 28, 29, 30, 32])}"
      ]
     },
     "execution_count": 8,
     "metadata": {},
     "output_type": "execute_result"
    }
   ],
   "source": [
    "fmn.eigen()"
   ]
  },
  {
   "cell_type": "markdown",
   "id": "d6ec4245",
   "metadata": {},
   "source": [
    "## b.) Displacement"
   ]
  },
  {
   "cell_type": "code",
   "execution_count": 11,
   "id": "b3842524",
   "metadata": {},
   "outputs": [
    {
     "data": {
      "text/plain": [
       "-0.0009493859961085109"
      ]
     },
     "execution_count": 11,
     "metadata": {},
     "output_type": "execute_result"
    }
   ],
   "source": [
    "fmn.post_get_displacement(6,1)"
   ]
  },
  {
   "cell_type": "markdown",
   "id": "ee234bb1",
   "metadata": {},
   "source": [
    "## c.) Max BM"
   ]
  },
  {
   "cell_type": "code",
   "execution_count": 12,
   "id": "28b599ef",
   "metadata": {},
   "outputs": [
    {
     "name": "stdout",
     "output_type": "stream",
     "text": [
      "Minimum bending moment: -81.18584070795725\n",
      "Maximum bending moment: 48.169911504406016\n"
     ]
    },
    {
     "data": {
      "image/png": "[encoded data removed]",
      "text/plain": [
       "<Figure size 432x288 with 2 Axes>"
      ]
     },
     "metadata": {
      "needs_background": "light"
     },
     "output_type": "display_data"
    }
   ],
   "source": [
    "fmn.post_plot_bending_moment()"
   ]
  },
  {
   "cell_type": "markdown",
   "id": "2f55d65b",
   "metadata": {},
   "source": [
    "## d.) Normal stress at bm = 20"
   ]
  },
  {
   "cell_type": "code",
   "execution_count": 33,
   "id": "76a5fa35",
   "metadata": {},
   "outputs": [
    {
     "name": "stdout",
     "output_type": "stream",
     "text": [
      "7853.981633974483 DWS it is in section 1\n",
      "xpos is at x= 0.1419013217305421\n",
      "25.464790894703253 [Mpa]\n"
     ]
    }
   ],
   "source": [
    "a = fmn.post_get_bending_moment(1)\n",
    "\n",
    "I = (np.pi*20**4)/64\n",
    "print(I,'DWS it is in section 1')\n",
    "\n",
    "for idx,i in enumerate(a['moment']):\n",
    "    if i > -20:\n",
    "        posidx = idx\n",
    "        \n",
    "        break\n",
    "        \n",
    "ratio = (-20-a['moment'][posidx-1])/(a['moment'][posidx]-a['moment'][posidx-1])\n",
    "#print(ratio)\n",
    "\n",
    "xpos = a['x_coor'][posidx-1] + ratio*(a['x_coor'][posidx]-a['x_coor'][posidx-1])\n",
    "print('xpos is at x=',xpos)\n",
    "\n",
    "M = -20\n",
    "y = 10\n",
    "sigma = -(M*1000*y)/I\n",
    "\n",
    "print(sigma,'[Mpa]')"
   ]
  },
  {
   "cell_type": "markdown",
   "id": "d91ce6b7",
   "metadata": {},
   "source": [
    "## e.) and f.) Node to minimize 2nd natural frequency"
   ]
  },
  {
   "cell_type": "code",
   "execution_count": 40,
   "id": "c4a61874",
   "metadata": {},
   "outputs": [
    {
     "name": "stdout",
     "output_type": "stream",
     "text": [
      "2nd natural frequency_hz with node 5 roller:\n",
      "378.94850451049484\n",
      "2nd natural frequency_hz with node 6 roller:\n",
      "510.9850751688877\n",
      "2nd natural frequency_hz with node 7 roller:\n",
      "492.8446599625217\n",
      "2nd natural frequency_hz with node 8 roller:\n",
      "421.0981448427927\n",
      "2nd natural frequency_hz with node 9 roller:\n",
      "384.1524883188241\n"
     ]
    }
   ],
   "source": [
    "#node 5\n",
    "prescribed_displacement = np.array([[0,0,0],[0,1,0],[0,2,0],[5,1,0],[10,1,0]])\n",
    "fmn = sfem.FEM_Beam_2D(nodecoor,elemconn,prescribed_displacement,prescribed_force,element_properties_dict)\n",
    "fmn.solve()\n",
    "print('2nd natural frequency_hz with node 5 roller:')\n",
    "print(fmn.eigen()['natural_frequencies_hz'][1])\n",
    "#node 6\n",
    "prescribed_displacement = np.array([[0,0,0],[0,1,0],[0,2,0],[6,1,0],[10,1,0]])\n",
    "fmn = sfem.FEM_Beam_2D(nodecoor,elemconn,prescribed_displacement,prescribed_force,element_properties_dict)\n",
    "fmn.solve()\n",
    "print('2nd natural frequency_hz with node 6 roller:')\n",
    "print(fmn.eigen()['natural_frequencies_hz'][1])\n",
    "#node 7\n",
    "prescribed_displacement = np.array([[0,0,0],[0,1,0],[0,2,0],[7,1,0],[10,1,0]])\n",
    "fmn = sfem.FEM_Beam_2D(nodecoor,elemconn,prescribed_displacement,prescribed_force,element_properties_dict)\n",
    "fmn.solve()\n",
    "print('2nd natural frequency_hz with node 7 roller:')\n",
    "print(fmn.eigen()['natural_frequencies_hz'][1])\n",
    "#node 8\n",
    "prescribed_displacement = np.array([[0,0,0],[0,1,0],[0,2,0],[8,1,0],[10,1,0]])\n",
    "fmn = sfem.FEM_Beam_2D(nodecoor,elemconn,prescribed_displacement,prescribed_force,element_properties_dict)\n",
    "fmn.solve()\n",
    "print('2nd natural frequency_hz with node 8 roller:')\n",
    "print(fmn.eigen()['natural_frequencies_hz'][1])\n",
    "#node 9\n",
    "prescribed_displacement = np.array([[0,0,0],[0,1,0],[0,2,0],[9,1,0],[10,1,0]])\n",
    "fmn = sfem.FEM_Beam_2D(nodecoor,elemconn,prescribed_displacement,prescribed_force,element_properties_dict)\n",
    "fmn.solve()\n",
    "print('2nd natural frequency_hz with node 9 roller:')\n",
    "print(fmn.eigen()['natural_frequencies_hz'][1])"
   ]
  },
  {
   "cell_type": "markdown",
   "id": "4f976e61",
   "metadata": {},
   "source": [
    "With the trial and error method above it can be seen that the lowwest frequency is obtainded with a roller at node 5."
   ]
  },
  {
   "cell_type": "markdown",
   "id": "3486999b",
   "metadata": {},
   "source": [
    "## g.) Material change"
   ]
  },
  {
   "cell_type": "code",
   "execution_count": 41,
   "id": "cb2b963c",
   "metadata": {},
   "outputs": [
    {
     "name": "stdout",
     "output_type": "stream",
     "text": [
      "3rd natural frequency_hz with new material:\n",
      "751.9967671357812\n"
     ]
    }
   ],
   "source": [
    "#reset boundary conditions\n",
    "prescribed_displacement = np.array([[0,0,0],[0,1,0],[0,2,0],[10,1,0]])\n",
    "element_properties_dict = {\n",
    "    \"A\": np.array([A0,A0,A0,A0,A0,A1,A1,A1,A1,A1]),\n",
    "    \"I\": np.array([I0,I0,I0,I0,I0,I1,I1,I1,I1,I1]),  \n",
    "    \"density\": np.ones(elemconn.shape[0])*3000,    \n",
    "    \"E\": np.ones(elemconn.shape[0]) * 150E9\n",
    "}\n",
    "fmn = sfem.FEM_Beam_2D(nodecoor,elemconn,prescribed_displacement,prescribed_force,element_properties_dict)\n",
    "fmn.solve()\n",
    "print('3rd natural frequency_hz with new material:')\n",
    "print(fmn.eigen()['natural_frequencies_hz'][2])"
   ]
  },
  {
   "cell_type": "markdown",
   "id": "715bd438",
   "metadata": {},
   "source": [
    "## h.) Configuration2 "
   ]
  },
  {
   "cell_type": "code",
   "execution_count": 52,
   "id": "b63b8a12",
   "metadata": {},
   "outputs": [
    {
     "name": "stdout",
     "output_type": "stream",
     "text": [
      "Upward reaction load at x = 0:\n",
      "301.09734513274725 [N]\n"
     ]
    },
    {
     "data": {
      "image/png": "[encoded data removed]",
      "text/plain": [
       "<Figure size 432x288 with 1 Axes>"
      ]
     },
     "metadata": {
      "needs_background": "light"
     },
     "output_type": "display_data"
    }
   ],
   "source": [
    "nodecoor = np.array([\n",
    "                    [0.0,0.0], # Node 0\n",
    "                    [0.1,0.0], # Node 1\n",
    "                    [0.2,0.0], # Node 2\n",
    "                    [0.3,0.0], # Node 3\n",
    "                    [0.4,0.0], # Node 4\n",
    "                    [0.5,0.0], # Node 5\n",
    "                    [0.6,0.0], # Node 6\n",
    "                    [0.7,0.0], # Node 7\n",
    "                    [0.8,0.0], # Node 8\n",
    "                    [0.9,0.0], # Node 9\n",
    "                    [1.0,0.0], # Node 10    \n",
    "                    ])\n",
    "\n",
    "elemconn = np.array([\n",
    "                    [0,1], # Element 0\n",
    "                    [1,2], # Element 1\n",
    "                    [2,3], # Element 2\n",
    "                    [3,4], # Element 3\n",
    "                    [4,5], # Element 4\n",
    "                    [5,6], # Element 5\n",
    "                    [6,7], # Element 6\n",
    "                    [7,8], # Element 7\n",
    "                    [8,9], # Element 8    \n",
    "                    [9,10] # Element 9   \n",
    "                    ])\n",
    "\n",
    "prescribed_displacement = np.array([\n",
    "                                    [0,0,0],\n",
    "                                    [0,1,0],\n",
    "                                    [0,2,0],\n",
    "                                    [10,1,0]])\n",
    "\n",
    "prescribed_force = np.array([\n",
    "                            [3,1,-500],\n",
    "                            [10,2,-100],\n",
    "])\n",
    "\n",
    "A0 = 314.1592653589793  / 1E6\n",
    "I0 = 7853.981633974483  / 1E12\n",
    "A1 = 1256.6370614359173 / 1E6 \n",
    "I1 = 125663.70614359173 / 1E12\n",
    "\n",
    "element_properties_dict = {\n",
    "    \"A\": np.array([A0,A0,A0,A0,A0,A1,A1,A1,A1,A1]),\n",
    "    \"I\": np.array([I0,I0,I0,I0,I0,I1,I1,I1,I1,I1]),  \n",
    "    \"density\": np.ones(elemconn.shape[0])*7800,    \n",
    "    \"E\": np.ones(elemconn.shape[0]) * 200E9\n",
    "}\n",
    "\n",
    "fmn = sfem.FEM_Beam_2D(\n",
    "                            nodecoor,\n",
    "                            elemconn,\n",
    "                            prescribed_displacement,\n",
    "                            prescribed_force,\n",
    "                            element_properties_dict,\n",
    "                        )\n",
    "fmn.solve()\n",
    "fmn.plot_system(show_displacement=True,magnification=10)\n",
    "print('Upward reaction load at x = 0:')\n",
    "print(fmn.solution_dict['loads'][1],'[N]')"
   ]
  },
  {
   "cell_type": "code",
   "execution_count": null,
   "id": "0b2e8f75",
   "metadata": {},
   "outputs": [],
   "source": []
  },
  {
   "cell_type": "code",
   "execution_count": null,
   "id": "bf82e1a6",
   "metadata": {},
   "outputs": [],
   "source": []
  },
  {
   "cell_type": "code",
   "execution_count": null,
   "id": "c1e54bbc",
   "metadata": {},
   "outputs": [],
   "source": []
  },
  {
   "cell_type": "code",
   "execution_count": null,
   "id": "0a4e3400",
   "metadata": {},
   "outputs": [],
   "source": []
  },
  {
   "cell_type": "markdown",
   "id": "fdd52a4c",
   "metadata": {},
   "source": [
    "### Backup of code if you want to revert back to the original code, copy this and paste this into you cell.\n",
    "\n",
    "```python\n",
    "\n",
    "nodecoor = np.array([\n",
    "                    [0.0,0.0], # Node 0\n",
    "                    [0.1,0.0], # Node 1\n",
    "                    [0.2,0.0], # Node 2\n",
    "                    [0.3,0.0], # Node 3\n",
    "                    [0.4,0.0], # Node 4\n",
    "                    [0.5,0.0], # Node 5\n",
    "                    [0.6,0.0], # Node 6\n",
    "                    [0.7,0.0], # Node 7\n",
    "                    [0.8,0.0], # Node 8\n",
    "                    [0.9,0.0], # Node 9\n",
    "                    [1.0,0.0], # Node 10    \n",
    "                    ])\n",
    "\n",
    "elemconn = np.array([\n",
    "                    [0,1], # Element 0\n",
    "                    [1,2], # Element 1\n",
    "                    [2,3], # Element 2\n",
    "                    [3,4], # Element 3\n",
    "                    [4,5], # Element 4\n",
    "                    [5,6], # Element 5\n",
    "                    [6,7], # Element 6\n",
    "                    [7,8], # Element 7\n",
    "                    [8,9], # Element 8    \n",
    "                    [9,10] # Element 9   \n",
    "                    ])\n",
    "\n",
    "prescribed_displacement = np.array([\n",
    "                                    [0,0,0],\n",
    "                                    [0,1,0],\n",
    "                                    [0,2,0],\n",
    "                                    [10,1,0]])\n",
    "\n",
    "prescribed_force = np.array([\n",
    "                            [3,1,-500],\n",
    "                            ])\n",
    "\n",
    "A0 = 314.1592653589793  / 1E6\n",
    "I0 = 7853.981633974483  / 1E12\n",
    "A1 = 1256.6370614359173 / 1E6 \n",
    "I1 = 125663.70614359173 / 1E12\n",
    "\n",
    "element_properties_dict = {\n",
    "    \"A\": np.array([A0,A0,A0,A0,A0,A1,A1,A1,A1,A1]),\n",
    "    \"I\": np.array([I0,I0,I0,I0,I0,I1,I1,I1,I1,I1]),  \n",
    "    \"density\": np.ones(elemconn.shape[0])*7800,    \n",
    "    \"E\": np.ones(elemconn.shape[0]) * 200E9\n",
    "}\n",
    "\n",
    "fmn = sfem.FEM_Beam_2D(\n",
    "                            nodecoor,\n",
    "                            elemconn,\n",
    "                            prescribed_displacement,\n",
    "                            prescribed_force,\n",
    "                            element_properties_dict,\n",
    "                        )\n",
    "```"
   ]
  }
 ],
 "metadata": {
  "kernelspec": {
   "display_name": "Python 3 (ipykernel)",
   "language": "python",
   "name": "python3"
  },
  "language_info": {
   "codemirror_mode": {
    "name": "ipython",
    "version": 3
   },
   "file_extension": ".py",
   "mimetype": "text/x-python",
   "name": "python",
   "nbconvert_exporter": "python",
   "pygments_lexer": "ipython3",
   "version": "3.9.6"
  }
 },
 "nbformat": 4,
 "nbformat_minor": 5
}
