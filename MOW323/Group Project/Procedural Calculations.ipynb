{
 "cells": [
  {
   "cell_type": "code",
   "execution_count": 1,
   "metadata": {},
   "outputs": [],
   "source": [
    "import importlib; \n",
    "try:\n",
    "    import engmod.structfem as sfem; importlib.reload(sfem)\n",
    "except:\n",
    "    try:\n",
    "        import add_engmod\n",
    "        import engmod.structfem as sfem; importlib.reload(sfem)    \n",
    "        print(\"EngMod Development Mode Activated. Not applicable/relevant to students.\")        \n",
    "    except Exception as e:\n",
    "        print(e)\n",
    "        print(\"Engmod is not located in the correct folder. \")\n",
    "\n",
    "import numpy as np \n",
    "import matplotlib.pyplot as plt "
   ]
  },
  {
   "cell_type": "markdown",
   "metadata": {},
   "source": [
    "# Bearings at Front and Rear wheels"
   ]
  },
  {
   "cell_type": "markdown",
   "metadata": {},
   "source": [
    "### Load case 1: 33.3% of weight on handle bars & 33.3% of weight on seat & 33.3% of weight on pedals"
   ]
  },
  {
   "cell_type": "code",
   "execution_count": 30,
   "metadata": {},
   "outputs": [
    {
     "name": "stdout",
     "output_type": "stream",
     "text": [
      "392.0\n"
     ]
    }
   ],
   "source": [
    "# The Young's modulus in Pa\n",
    "E = 70E9\n",
    "# The height of the beam in metres\n",
    "h = 27/1E3\n",
    "# The width of the beam in metres\n",
    "b = 27/1E3\n",
    "# The area moment of inertia:\n",
    "I = 1/12 * b * h**3\n",
    "# The cross-sectional area\n",
    "A = h * b\n",
    "# The density (only important for dynamic analyses)\n",
    "rho = 2710\n",
    "# The force applied to the structure. \n",
    "F = (120*9.8)/3\n",
    "print(F)"
   ]
  },
  {
   "cell_type": "code",
   "execution_count": 31,
   "metadata": {},
   "outputs": [],
   "source": [
    "nodecoor = np.array([\n",
    "                        [0,0],              # Node 0\n",
    "                        [141.13,461.62],    # Node 1\n",
    "                        [158.67,519],       # Node 2\n",
    "                        [179.14,585.94],    # Node 3\n",
    "                        [78.32,647.23],     # Node 4\n",
    "                        [574.79,0],         # Node 5\n",
    "                        [635.22,430],       # Node 6\n",
    "                        [663.05,628.05],    # Node 7\n",
    "                        [884.36,0],         # Node 8\n",
    "\n",
    "\n",
    "])     \n",
    "\n",
    "\n",
    "elemconn = np.array([\n",
    "                     [0,1],  # Element 0 connects Node 0 and Node 1\n",
    "                     [1,2],  # Element 1 connects Node 1 and Node 2\n",
    "                     [2,3],  # Element 2 connects Node 2 and Node 3\n",
    "                     [3,4],  # Element 3 connects Node 3 and Node 4\n",
    "                     [1,5],  # Element 4 connects Node 1 and Node 5\n",
    "                     [2,6],  # Element 5 connects Node 2 and Node 6\n",
    "                     [5,6],  # Element 6 connects Node 5 and Node 6\n",
    "                     [6,7],  # Element 7 connects Node 6 and Node 7\n",
    "                     [6,8],  # Element 8 connects Node 6 and Node 8\n",
    "                     [5,8],  # Element 9 connects Node 5 and Node 8\n",
    "\n",
    "])\n",
    "\n",
    "\n",
    "\n",
    "\n",
    "\n",
    "prescribed_displacement = np.array([\n",
    "                                    [0,0,0], # Node 1, in the 0 direction (x-direcion) with a displacement of 0\n",
    "                                    [0,1,0], # Node 1, in the 1 direction (y-direcion) with a displacement of 0\n",
    "                                    [8,0,0], # Node 8, in the 0 direction (x-direcion) with a displacement of 0\n",
    "                                    [8,1,0], # Node 8, in the 1 direction (y-direcion) with a displacement of 0\n",
    "                                    ])\n",
    "\n",
    "\n",
    "\n",
    "prescribed_forces = np.array([\n",
    "                              [7,1,-F], # (Seat)Prescribed force applied to Node 7, in the 1 direction (y-direcion) with a magnitude of F.\n",
    "                              [4,1,-F], # (handle bars)Prescribed force applied to Node 4, in the 1 direction (y-direcion) with a magnitude of F.\n",
    "                              [5,1,-F], # (Pedals)Prescribed force applied to Node 5, in the 1 direction (y-direcion) with a magnitude of F.\n",
    "                                ])\n",
    "\n",
    "# Element properties\n",
    "elemprop = {}\n",
    "# Young's modulus [Pa]\n",
    "elemprop[\"E\"] = np.ones(elemconn.shape[0]) * E\n",
    "# Area moment of inertia [m^4]\n",
    "elemprop[\"I\"] = np.ones(elemconn.shape[0]) * I\n",
    "# Cross-sectional area [m^2]\n",
    "elemprop[\"A\"] = np.ones(elemconn.shape[0]) * A\n",
    "# Density [kg/m^3]\n",
    "elemprop[\"density\"] = np.ones(elemconn.shape[0]) * rho\n",
    "\n",
    "fmn = sfem.FEM_Beam_2D(nodecoor,                # Nodal coordinates\n",
    "                       elemconn,                # Element connectivity\n",
    "                       prescribed_displacement, # Prescribed displacements\n",
    "                       prescribed_forces,       # Prescribed forces\n",
    "                       elemprop)                # Element properties"
   ]
  },
  {
   "cell_type": "code",
   "execution_count": 32,
   "metadata": {},
   "outputs": [
    {
     "data": {
      "text/plain": [
       "array([ 157.88035333,  592.60102767,    0.        ,    0.        ,\n",
       "          0.        ,    0.        ,    0.        ,    0.        ,\n",
       "          0.        ,    0.        ,    0.        ,    0.        ,\n",
       "          0.        , -392.        ,    0.        ,    0.        ,\n",
       "       -392.        ,    0.        ,    0.        ,    0.        ,\n",
       "          0.        ,    0.        , -392.        ,    0.        ,\n",
       "       -157.88035393,  583.3989768 ,    0.        ])"
      ]
     },
     "execution_count": 32,
     "metadata": {},
     "output_type": "execute_result"
    }
   ],
   "source": [
    "solution_dict = fmn.solve()\n",
    "solution_dict[\"loads\"]"
   ]
  },
  {
   "cell_type": "code",
   "execution_count": 33,
   "metadata": {},
   "outputs": [
    {
     "data": {
      "image/png": "[encoded data removed]",
      "text/plain": [
       "<Figure size 432x288 with 1 Axes>"
      ]
     },
     "metadata": {
      "needs_background": "light"
     },
     "output_type": "display_data"
    }
   ],
   "source": [
    "fmn.plot_system()"
   ]
  },
  {
   "cell_type": "code",
   "execution_count": 34,
   "metadata": {},
   "outputs": [
    {
     "data": {
      "text/plain": [
       "592.6010276675224"
      ]
     },
     "execution_count": 34,
     "metadata": {},
     "output_type": "execute_result"
    }
   ],
   "source": [
    "fmn.post_get_force(0,1) # Force at front wheel (N)"
   ]
  },
  {
   "cell_type": "code",
   "execution_count": 35,
   "metadata": {},
   "outputs": [
    {
     "data": {
      "text/plain": [
       "583.3989768028259"
      ]
     },
     "execution_count": 35,
     "metadata": {},
     "output_type": "execute_result"
    }
   ],
   "source": [
    "fmn.post_get_force(8,1) # Force at rear wheel  (N)"
   ]
  },
  {
   "cell_type": "markdown",
   "metadata": {},
   "source": [
    "# Handle bar"
   ]
  },
  {
   "cell_type": "code",
   "execution_count": 12,
   "metadata": {},
   "outputs": [],
   "source": [
    "# Length of the beam in meters\n",
    "L_beam = 0.6\n",
    "# The Young's modulus in Pa\n",
    "E = 70E9\n",
    "# The height of the beam in metres\n",
    "h = 27/1E3\n",
    "# The width of the beam in metres\n",
    "b = 27/1E3\n",
    "# The area moment of inertia:\n",
    "I = 1/12 * b * h**3\n",
    "# The cross-sectional area\n",
    "A = h * b\n",
    "# The density (only important for dynamic analyses)\n",
    "rho = 2710\n",
    "# The force applied to the structure. \n",
    "F = (120*9.8)/2"
   ]
  },
  {
   "cell_type": "code",
   "execution_count": 13,
   "metadata": {},
   "outputs": [],
   "source": [
    "nodecoor = np.array([\n",
    "                     [0,0],        # Node 0\n",
    "                     [0.3,0],      # Node 1\n",
    "                     [0.6,0]])     # Node 2\n",
    "\n",
    "elemconn = np.array([\n",
    "                     [0,1], # Element 0 connects Node 0 and Node 1\n",
    "                     [1,2]  # Element 1 connects Node 1 and Node 2\n",
    "                     ])\n",
    "\n",
    "\n",
    "\n",
    "\n",
    "\n",
    "prescribed_displacement = np.array([\n",
    "                                    [1,0,0], # Node 1, in the 0 direction (x-direcion) with a displacement of 0\n",
    "                                    [1,1,0], # Node 1, in the 1 direction (y-direcion) with a displacement of 0\n",
    "                                    [1,2,0],  # Node 1, in the 2 direction (moment) with a angle of 0\n",
    "                                    ])\n",
    "\n",
    "\n",
    "\n",
    "prescribed_forces = np.array([\n",
    "                              [0,1,-F], # Prescribed force applied to Node 0, in the 1 direction (y-direcion) with a magnitude of F.\n",
    "                              [2,1,-F], # Prescribed force applied to Node 2, in the 1 direction (y-direcion) with a magnitude of F.\n",
    "                                ])\n",
    "\n",
    "# Element properties\n",
    "elemprop = {}\n",
    "# Young's modulus [Pa]\n",
    "elemprop[\"E\"] = np.ones(elemconn.shape[0]) * E\n",
    "# Area moment of inertia [m^4]\n",
    "elemprop[\"I\"] = np.ones(elemconn.shape[0]) * I\n",
    "# Cross-sectional area [m^2]\n",
    "elemprop[\"A\"] = np.ones(elemconn.shape[0]) * A\n",
    "# Density [kg/m^3]\n",
    "elemprop[\"density\"] = np.ones(elemconn.shape[0]) * rho\n",
    "\n",
    "fmn = sfem.FEM_Beam_2D(nodecoor,                # Nodal coordinates\n",
    "                       elemconn,                # Element connectivity\n",
    "                       prescribed_displacement, # Prescribed displacements\n",
    "                       prescribed_forces,       # Prescribed forces\n",
    "                       elemprop)                # Element properties"
   ]
  },
  {
   "cell_type": "code",
   "execution_count": 14,
   "metadata": {},
   "outputs": [
    {
     "data": {
      "text/plain": [
       "array([   0., -588.,    0.,    0., 1176.,    0.,    0., -588.,    0.])"
      ]
     },
     "execution_count": 14,
     "metadata": {},
     "output_type": "execute_result"
    }
   ],
   "source": [
    "solution_dict = fmn.solve()\n",
    "solution_dict[\"loads\"]"
   ]
  },
  {
   "cell_type": "code",
   "execution_count": 15,
   "metadata": {},
   "outputs": [
    {
     "data": {
      "image/png": "[encoded data removed]",
      "text/plain": [
       "<Figure size 432x288 with 1 Axes>"
      ]
     },
     "metadata": {
      "needs_background": "light"
     },
     "output_type": "display_data"
    }
   ],
   "source": [
    "fmn.plot_system(show_displacement=True)"
   ]
  },
  {
   "cell_type": "code",
   "execution_count": null,
   "metadata": {},
   "outputs": [],
   "source": []
  },
  {
   "cell_type": "code",
   "execution_count": null,
   "metadata": {},
   "outputs": [],
   "source": []
  }
 ],
 "metadata": {
  "kernelspec": {
   "display_name": "Python 3 (ipykernel)",
   "language": "python",
   "name": "python3"
  },
  "language_info": {
   "codemirror_mode": {
    "name": "ipython",
    "version": 3
   },
   "file_extension": ".py",
   "mimetype": "text/x-python",
   "name": "python",
   "nbconvert_exporter": "python",
   "pygments_lexer": "ipython3",
   "version": "3.9.6"
  }
 },
 "nbformat": 4,
 "nbformat_minor": 2
}
