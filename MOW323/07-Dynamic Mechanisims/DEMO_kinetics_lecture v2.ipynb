{
  "nbformat": 4,
  "nbformat_minor": 0,
  "metadata": {
    "colab": {
      "name": "DEMO_kinetics_lecture",
      "provenance": [],
      "collapsed_sections": []
    },
    "kernelspec": {
      "name": "python3",
      "display_name": "Python 3"
    },
    "language_info": {
      "name": "python"
    }
  },
  "cells": [
    {
      "cell_type": "markdown",
      "metadata": {
        "id": "ec7B35WKRGJK"
      },
      "source": [
        "# Example - Link in pure rotation\n",
        "\n",
        "Consider a bar with a length of 250 mm. The centre-of-mass is located 125mm from the origin. A force of 1000N is applied that is always perpendicular to the bar. \n",
        "\n",
        "The bar rotates at a constant rotational speed of 10 rad/s in the counterclockwise direction.\n",
        "\n",
        "Th mass of the bar is 2kg and the mass moment of inertia around CG is 0.011 kg.m$^2$"
      ]
    },
    {
      "cell_type": "code",
      "metadata": {
        "id": "UtvdN35eHfuc"
      },
      "source": [
        "def plot_complex_vector(vector,color=\"b-\"):\n",
        "\n",
        "    x = np.real(vector)\n",
        "    y = np.imag(vector)\n",
        "\n",
        "    plt.figure()\n",
        "    plt.plot([0,x],[0,y],color)\n",
        "    plt.axis(\"equal\")\n",
        "\n",
        "import numpy as np \n",
        "import matplotlib.pyplot as plt"
      ],
      "execution_count": 4,
      "outputs": []
    },
    {
      "cell_type": "code",
      "metadata": {
        "colab": {
          "base_uri": "https://localhost:8080/"
        },
        "id": "58-ZdodNdcR8",
        "outputId": "accfae5f-03ba-48f9-e4ca-7c7cfe817a4f"
      },
      "source": [
        "# 7800, 2700\n",
        "\n",
        "7800/2700\n"
      ],
      "execution_count": 116,
      "outputs": [
        {
          "output_type": "execute_result",
          "data": {
            "text/plain": [
              "2.888888888888889"
            ]
          },
          "metadata": {},
          "execution_count": 116
        }
      ]
    },
    {
      "cell_type": "code",
      "metadata": {
        "id": "1oC3TQJARFnb"
      },
      "source": [
        "\n",
        "l = 0.250\n",
        "\n",
        "theta = 0\n",
        "omega = 100\n",
        "alpha = 0\n",
        "\n",
        "def kinematics(r,theta,omega,alpha):\n",
        "\n",
        "    xp = r * np.exp(1j * theta)\n",
        "    vp = r * 1j * omega * np.exp(1j * theta)\n",
        "    ap = - r * omega**2 * np.exp(1j * theta) + r * 1j * alpha * np.exp(1j * theta)\n",
        "\n",
        "    return xp,vp,ap\n",
        "\n",
        "xA,vA,aA = kinematics(l,theta,omega,alpha)\n",
        "\n",
        "f = np.exp(1j * theta) * np.exp(1j * np.pi/2) * 1000\n",
        "\n",
        "mass_factor = 1/3 # Change density\n",
        "\n",
        "m = 2 * mass_factor\n",
        "\n",
        "xG,vG,aG = kinematics(l/2,theta,omega,alpha)\n",
        "\n",
        "fr = -f + m * aG\n",
        "\n",
        "xO = 0 + 0j\n",
        "rAG = xA - xG\n",
        "\n",
        "theta_AG = np.angle(rAG)\n",
        "\n",
        "theta_f = np.angle(f)\n",
        "\n",
        "moment_f = np.abs(rAG) * np.abs(f) * np.sin(theta_f - theta_AG)\n",
        "\n",
        "rOG = xO - xG\n",
        "\n",
        "theta_fr = np.angle(fr)\n",
        "\n",
        "theta_OG = np.angle(rOG)\n",
        "\n",
        "moment_fr = np.abs(rOG) * np.abs(fr) * np.sin(theta_fr - theta_OG)\n",
        "\n",
        "Ig = 0.011 * mass_factor\n",
        "\n",
        "I_alpha = Ig * alpha\n",
        "\n",
        "T = -moment_f - moment_fr + I_alpha\n",
        "\n",
        "# plot_complex_vector(vp,color=\"b-\")\n",
        "# plot_complex_vector(ap,color=\"b-\")\n"
      ],
      "execution_count": 120,
      "outputs": []
    },
    {
      "cell_type": "code",
      "metadata": {
        "colab": {
          "base_uri": "https://localhost:8080/"
        },
        "id": "YjstOQttapZf",
        "outputId": "a865b047-d8b2-4e1b-fe50-a34fe41168fe"
      },
      "source": [
        "np.abs(fr)"
      ],
      "execution_count": 121,
      "outputs": [
        {
          "output_type": "execute_result",
          "data": {
            "text/plain": [
              "1301.7082793177758"
            ]
          },
          "metadata": {},
          "execution_count": 121
        }
      ]
    },
    {
      "cell_type": "code",
      "metadata": {
        "colab": {
          "base_uri": "https://localhost:8080/"
        },
        "id": "WPsJKELldLOm",
        "outputId": "3ebba0e6-4740-46a5-c0f3-c140617da7c0"
      },
      "source": [
        "2692.582403567252 # N"
      ],
      "execution_count": 122,
      "outputs": [
        {
          "output_type": "execute_result",
          "data": {
            "text/plain": [
              "2692.582403567252"
            ]
          },
          "metadata": {},
          "execution_count": 122
        }
      ]
    },
    {
      "cell_type": "code",
      "metadata": {
        "colab": {
          "base_uri": "https://localhost:8080/"
        },
        "id": "9mPYpHU0aTV_",
        "outputId": "c88a486a-a03d-4cb1-81a5-ed2d679c2698"
      },
      "source": [
        "T # N.m"
      ],
      "execution_count": 110,
      "outputs": [
        {
          "output_type": "execute_result",
          "data": {
            "text/plain": [
              "-207.74999999999994"
            ]
          },
          "metadata": {},
          "execution_count": 110
        }
      ]
    },
    {
      "cell_type": "code",
      "metadata": {
        "colab": {
          "base_uri": "https://localhost:8080/"
        },
        "id": "7Rv-IWSpba7G",
        "outputId": "1a60caaa-a52d-4fb8-da5e-090f2cc68505"
      },
      "source": [
        "fr"
      ],
      "execution_count": 103,
      "outputs": [
        {
          "output_type": "execute_result",
          "data": {
            "text/plain": [
              "(-2500-1000j)"
            ]
          },
          "metadata": {},
          "execution_count": 103
        }
      ]
    },
    {
      "cell_type": "code",
      "metadata": {
        "colab": {
          "base_uri": "https://localhost:8080/"
        },
        "id": "e36cOet8cLaY",
        "outputId": "f6e96295-160a-4049-d7b4-5fd9ee6846e8"
      },
      "source": [
        "f"
      ],
      "execution_count": 104,
      "outputs": [
        {
          "output_type": "execute_result",
          "data": {
            "text/plain": [
              "(6.123233995736766e-14+1000j)"
            ]
          },
          "metadata": {},
          "execution_count": 104
        }
      ]
    },
    {
      "cell_type": "code",
      "metadata": {
        "id": "nuURZpZAbOeJ"
      },
      "source": [
        "moment_f = np.abs(rAG) * np.abs(f) * np.sin(theta_f - theta_AG)"
      ],
      "execution_count": 92,
      "outputs": []
    },
    {
      "cell_type": "code",
      "metadata": {
        "colab": {
          "base_uri": "https://localhost:8080/"
        },
        "id": "xN4uBbrwbtwP",
        "outputId": "69172f87-fde7-416f-91a4-179f958fdaba"
      },
      "source": [
        "np.abs(rAG)"
      ],
      "execution_count": 93,
      "outputs": [
        {
          "output_type": "execute_result",
          "data": {
            "text/plain": [
              "0.25"
            ]
          },
          "metadata": {},
          "execution_count": 93
        }
      ]
    },
    {
      "cell_type": "code",
      "metadata": {
        "colab": {
          "base_uri": "https://localhost:8080/"
        },
        "id": "tnGOAasTZDhO",
        "outputId": "91dcbf98-a1e7-4ee1-832f-693b38d17593"
      },
      "source": [
        "1000  * l"
      ],
      "execution_count": 58,
      "outputs": [
        {
          "output_type": "execute_result",
          "data": {
            "text/plain": [
              "250.0"
            ]
          },
          "metadata": {},
          "execution_count": 58
        }
      ]
    },
    {
      "cell_type": "code",
      "metadata": {
        "colab": {
          "base_uri": "https://localhost:8080/"
        },
        "id": "fKHzPfvHZIFv",
        "outputId": "e9df6dd2-bde3-4d01-fd00-76c93f13a49c"
      },
      "source": [
        "moment_f"
      ],
      "execution_count": 59,
      "outputs": [
        {
          "output_type": "execute_result",
          "data": {
            "text/plain": [
              "249.99999999999997"
            ]
          },
          "metadata": {},
          "execution_count": 59
        }
      ]
    },
    {
      "cell_type": "code",
      "metadata": {
        "colab": {
          "base_uri": "https://localhost:8080/"
        },
        "id": "vhjG96AgY6zf",
        "outputId": "52f1cc59-4784-4d96-abab-05c1118a5813"
      },
      "source": [
        "theta_f * 180 / np.pi"
      ],
      "execution_count": 52,
      "outputs": [
        {
          "output_type": "execute_result",
          "data": {
            "text/plain": [
              "135.0"
            ]
          },
          "metadata": {},
          "execution_count": 52
        }
      ]
    },
    {
      "cell_type": "code",
      "metadata": {
        "colab": {
          "base_uri": "https://localhost:8080/",
          "height": 761
        },
        "id": "wNcnPvmgXzRA",
        "outputId": "3fde2c98-dd94-40b2-905f-525ac101ec3d"
      },
      "source": [
        "\n",
        "plot_complex_vector(xA,color=\"b-\")\n",
        "\n",
        "plot_complex_vector(f,color=\"b-\")\n",
        "\n",
        "plot_complex_vector(fr,color=\"b-\")\n",
        "\n"
      ],
      "execution_count": 61,
      "outputs": [
        {
          "output_type": "display_data",
          "data": {
            "image/png": "[encoded data removed]",
            "text/plain": [
              "<Figure size 432x288 with 1 Axes>"
            ]
          },
          "metadata": {
            "needs_background": "light"
          }
        },
        {
          "output_type": "display_data",
          "data": {
            "image/png": "[encoded data removed]",
            "text/plain": [
              "<Figure size 432x288 with 1 Axes>"
            ]
          },
          "metadata": {
            "needs_background": "light"
          }
        },
        {
          "output_type": "display_data",
          "data": {
            "image/png": "[encoded data removed]",
            "text/plain": [
              "<Figure size 432x288 with 1 Axes>"
            ]
          },
          "metadata": {
            "needs_background": "light"
          }
        }
      ]
    },
    {
      "cell_type": "code",
      "metadata": {
        "colab": {
          "base_uri": "https://localhost:8080/"
        },
        "id": "KlDfy9wDZpAX",
        "outputId": "613dc6d9-a5a8-4f92-cdfe-0c0888aa0831"
      },
      "source": [
        "abs(rOG),l/2"
      ],
      "execution_count": 65,
      "outputs": [
        {
          "output_type": "execute_result",
          "data": {
            "text/plain": [
              "(0.125, 0.125)"
            ]
          },
          "metadata": {},
          "execution_count": 65
        }
      ]
    },
    {
      "cell_type": "code",
      "metadata": {
        "colab": {
          "base_uri": "https://localhost:8080/"
        },
        "id": "C4zADd3VXz2W",
        "outputId": "f93a90da-9154-4b28-e1f2-8d894eaf0476"
      },
      "source": [
        "abs(f)"
      ],
      "execution_count": 45,
      "outputs": [
        {
          "output_type": "execute_result",
          "data": {
            "text/plain": [
              "999.9999999999999"
            ]
          },
          "metadata": {},
          "execution_count": 45
        }
      ]
    },
    {
      "cell_type": "code",
      "metadata": {
        "id": "kgdvtRl_YAYn"
      },
      "source": [
        ""
      ],
      "execution_count": null,
      "outputs": []
    }
  ]
}