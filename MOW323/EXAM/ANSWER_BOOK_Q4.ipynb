{
 "cells": [
  {
   "cell_type": "markdown",
   "id": "f1a5d8fd",
   "metadata": {},
   "source": [
    "# MOW 323 - Question 4"
   ]
  },
  {
   "cell_type": "markdown",
   "id": "b2e1ae8b",
   "metadata": {},
   "source": [
    "# Lanz Ebersohn\n",
    "# u18285229"
   ]
  },
  {
   "cell_type": "code",
   "execution_count": 1,
   "id": "14f54059",
   "metadata": {},
   "outputs": [],
   "source": [
    "import numpy as np \n",
    "import scipy.optimize as sciopt\n",
    "import matplotlib.pyplot as plt"
   ]
  },
  {
   "cell_type": "markdown",
   "id": "4d0f5ac9",
   "metadata": {},
   "source": [
    "# Supplementary code is provided here that was made available during class. You do not have to use it. You can overwrite it with your own code. "
   ]
  },
  {
   "cell_type": "code",
   "execution_count": 2,
   "id": "64457b88",
   "metadata": {},
   "outputs": [],
   "source": [
    "\n",
    "def plot_four_bar_linkage(dictionary_output):\n",
    "\n",
    "    def plot_vector(x_s,x_e,col,label=None):\n",
    "        plt.plot([x_s[0],x_e[0]],[x_s[1],x_e[1]],col,label=label)    \n",
    "    \n",
    "    xA = dictionary_output[\"xA\"]\n",
    "    xB = dictionary_output[\"xB\"]\n",
    "    yA = dictionary_output[\"yA\"]\n",
    "    yB = dictionary_output[\"yB\"] \n",
    "    xO4 = dictionary_output[\"xO4\"]\n",
    "    yO4 = dictionary_output[\"yO4\"]     \n",
    "    \n",
    "    plt.figure()\n",
    "    plot_vector([0,0],[xA,yA],'bo-',label=\"Link 2\")\n",
    "    plot_vector([xA,yA],[xB,yB],'ro-',label=\"Link 3\")\n",
    "    plot_vector([xB,yB],[xO4,yO4],'ko-',label=\"Link 4\")    \n",
    "    plt.legend()\n",
    "\n",
    "def plot_four_bar_linkage_loop(dictionary_output,fignum):\n",
    "\n",
    "    def plot_vector(x_s,x_e,col,label=None):\n",
    "        plt.plot([x_s[0],x_e[0]],[x_s[1],x_e[1]],col,label=label)    \n",
    "    \n",
    "    xA = dictionary_output[\"xA\"]\n",
    "    xB = dictionary_output[\"xB\"]\n",
    "    yA = dictionary_output[\"yA\"]\n",
    "    yB = dictionary_output[\"yB\"] \n",
    "    xO4 = dictionary_output[\"xO4\"]\n",
    "    yO4 = dictionary_output[\"yO4\"]     \n",
    "    \n",
    "    plt.figure(fignum)\n",
    "    plot_vector([0,0],[xA,yA],'bo-',label=\"Link 2\")\n",
    "    plot_vector([xA,yA],[xB,yB],'ro-',label=\"Link 3\")\n",
    "    plot_vector([xB,yB],[xO4,yO4],'ko-',label=\"Link 4\")    \n",
    "    \n",
    "\n",
    "def kinematics_four_bar_linkage_problem(theta2,       # We assume we know theta2\n",
    "                       theta3_guess, # theta3 is unknown. This is the initial guess.\n",
    "                       theta4_guess, # theta4 is unknown. This is the initial guess.\n",
    "                       w2,           # We assume we know w2\n",
    "                       alpha2,       # We assume we know alpha2\n",
    "                       l1,           # Length of l1\n",
    "                       l2,           # Length of l2\n",
    "                       l3,           # Length of l3\n",
    "                       l4):           # Length of l4\n",
    "\n",
    "    def position_residual(theta1,theta2,theta3,theta4,l1,l2,l3,l4):     \n",
    "        eq1 = l2 * np.cos(theta2) + l3 * np.cos(theta3) - l4 * np.cos(theta4) - l1 * np.cos(theta1)\n",
    "        eq2 = l2 * np.sin(theta2) + l3 * np.sin(theta3) - l4 * np.sin(theta4) - l1 * np.sin(theta1)\n",
    "        res = np.array([eq1,eq2])\n",
    "        return res\n",
    "    \n",
    "    def solve_function(x):\n",
    "\n",
    "        return position_residual(0,theta2,x[0],x[1],l1,l2,l3,l4)\n",
    "\n",
    "    theta3,theta4 = sciopt.fsolve(solve_function,[theta3_guess,theta4_guess])\n",
    "\n",
    "    xA,yA = np.cos(theta2)*l2 , np.sin(theta2)*l2\n",
    "    xB,yB = xA + np.cos(theta3)*l3 , yA + np.sin(theta3)*l3\n",
    "    xO4,yO4 = l1,0\n",
    "    \n",
    "    A = np.array([[-l3 * np.cos(theta3),l4*np.cos(theta4)],[-l3 * np.sin(theta3),l4*np.sin(theta4)]]) \n",
    "    b = l2 * np.array([np.cos(theta2),np.sin(theta2)]) * w2\n",
    "\n",
    "    w3,w4 = np.linalg.solve(A,b)\n",
    "    \n",
    "    A_acc = np.array([[l3 * np.real(np.exp(1j * theta3) * 1j), -l4 * np.real(np.exp(1j * theta4) * 1j)],\n",
    "                      [l3 * np.imag(np.exp(1j * theta3) * 1j), -l4 * np.imag(np.exp(1j * theta4) * 1j)]])\n",
    "\n",
    "    b2 = np.array([np.real(l2 * (-np.exp(1j*theta2) * w2**2 + np.exp(1j*theta2) * 1j * alpha2)),\n",
    "                   np.imag(l2 * (-np.exp(1j*theta2) * w2**2 + np.exp(1j*theta2) * 1j * alpha2))])\n",
    "\n",
    "    b3 = np.array([np.real(l3 * (-np.exp(1j*theta3)*w3**2)),\n",
    "                   np.imag(l3 * (-np.exp(1j*theta3)*w3**2))])\n",
    "\n",
    "    b4 = np.array([np.real(-l4 * (-np.exp(1j*theta4)*w4**2)),\n",
    "                   np.imag(-l4 * (-np.exp(1j*theta4)*w4**2))])\n",
    "    \n",
    "    b_acc = -b2 - b3 - b4\n",
    "\n",
    "    alpha3,alpha4 = np.linalg.solve(A_acc,b_acc)\n",
    "    \n",
    "    return {\"theta2\": theta2,\n",
    "            \"theta3\": theta3,\n",
    "            \"theta4\": theta4,\n",
    "            \"alpha2\": alpha2,\n",
    "            \"alpha3\": alpha3, \n",
    "            \"alpha4\": alpha4,\n",
    "            \"w2\": w2,\n",
    "            \"w3\": w3, \n",
    "            \"w4\": w4,            \n",
    "            \"xA\": xA,\n",
    "            \"xB\": xB,\n",
    "            \"yA\": yA,\n",
    "            \"yB\": yB,            \n",
    "            \"xO4\": xO4,\n",
    "            \"yO4\": yO4,\n",
    "            \"l1\": l1,\n",
    "            \"l2\": l2,\n",
    "            \"l3\": l3,\n",
    "            \"l4\": l4}"
   ]
  },
  {
   "cell_type": "markdown",
   "id": "ced7f3ff",
   "metadata": {},
   "source": [
    "# Supplementary code is provided here that was made available during class. You do not have to use it. You can overwrite it with your own code. "
   ]
  },
  {
   "cell_type": "code",
   "execution_count": 3,
   "id": "9be9dfad",
   "metadata": {},
   "outputs": [],
   "source": [
    "\n",
    "def four_bar_linkage_kinetics(dictionary_kinematics, # Obtained from kinematics analysis                            \n",
    "                              thetaG2, # Angle between A/O2 and G2/O2 [rad]\n",
    "                              thetaG3, # Angle between B/A and G3/A [rad]\n",
    "                              thetaG4, # Angle between B/O4 and G4/O4 [rad]\n",
    "                              thetaE,\n",
    "                              l_G2O2,\n",
    "                              l_G3A,\n",
    "                              l_EA,\n",
    "                              l_G4O4,\n",
    "                              m2, # Length of mass 2 [m]\n",
    "                              m3, # Length of mass 3 [m]\n",
    "                              m4, # Length of mass 4 [m]\n",
    "                              Ig2, # Mass moment of inertia around G2 [kg.m^2]\n",
    "                              Ig3, # Mass moment of inertia around G3 [kg.m^2]\n",
    "                              Ig4, # Mass moment of inertia around G4 [kg.m^2]\n",
    "                              fex, # External force applied to link 3 x-component [N]\n",
    "                              fey, # External force applied to link 3 y-component [N]\n",
    "                              T4): # External torque applied to link 4.\n",
    "     \n",
    "    theta2 = dictionary_kinematics[\"theta2\"]\n",
    "    theta3 = dictionary_kinematics[\"theta3\"]\n",
    "    theta4 = dictionary_kinematics[\"theta4\"]\n",
    "    \n",
    "    alpha2 = dictionary_kinematics[\"alpha2\"]\n",
    "    alpha3 = dictionary_kinematics[\"alpha3\"]\n",
    "    alpha4 = dictionary_kinematics[\"alpha4\"]\n",
    "\n",
    "    w2 = dictionary_kinematics[\"w2\"]\n",
    "    w3 = dictionary_kinematics[\"w3\"]\n",
    "    w4 = dictionary_kinematics[\"w4\"]\n",
    "    \n",
    "    l1 = dictionary_kinematics[\"l1\"]\n",
    "    l2 = dictionary_kinematics[\"l2\"]\n",
    "    l3 = dictionary_kinematics[\"l3\"]\n",
    "    l4 = dictionary_kinematics[\"l4\"]    \n",
    "    \n",
    "    xO2 = 0 + 0j\n",
    "    xA  = l2 * np.exp(1j * theta2)\n",
    "    xB  = xA + l3 * np.exp(1j * theta3)\n",
    "    xO4 = l1 + 0j\n",
    "\n",
    "    xG2 = xO2 + l_G2O2 * np.exp(1j * (theta2 + thetaG2))\n",
    "\n",
    "    xG3 = xA + l_G3A * np.exp(1j * (theta3 + thetaG3))\n",
    "\n",
    "    xE  = xA + l_EA * np.exp(1j * (theta3 + thetaE))\n",
    "\n",
    "    xG4 = xO4 + l_G4O4 * np.exp(1j * (theta4 + thetaG4))\n",
    "    \n",
    "    r_O2G2 = xO2 - xG2\n",
    "    r_AG2  = xA  - xG2\n",
    "    r_AG3  = xA  - xG3\n",
    "    r_BG3  = xB  - xG3\n",
    "    r_BG4  = xB  - xG4\n",
    "    r_O4G4 = xO4 - xG4\n",
    "    r_EG3   = xE  - xG3\n",
    "    \n",
    "    decompose_real_imag = lambda x: (np.real(x), np.imag(x))\n",
    "    \n",
    "    x_O2G,y_O2G = decompose_real_imag(r_O2G2)\n",
    "    x_AG2,y_AG2 = decompose_real_imag(r_AG2)\n",
    "    x_AG3,y_AG3 = decompose_real_imag(r_AG3)\n",
    "    x_BG3,y_BG3 = decompose_real_imag(r_BG3)\n",
    "    x_BG4,y_BG4 = decompose_real_imag(r_BG4)\n",
    "    x_O4G4,y_O4G4 = decompose_real_imag(r_O4G4)\n",
    "    x_EG3,y_EG3 = decompose_real_imag(r_EG3)\n",
    "    \n",
    "    alpha_g2 = float(alpha2)\n",
    "    alpha_g3 = float(alpha3)\n",
    "    alpha_g4 = float(alpha4)\n",
    "\n",
    "    def linear_acceleration_of_point_P(aA,lPA,theta,omega,alpha,thetaP):\n",
    "\n",
    "        aP = aA + lPA * np.exp(1j * (theta + thetaP)) * (-omega**2 + alpha * 1j)\n",
    "\n",
    "        return aP \n",
    "\n",
    "    aG2 = linear_acceleration_of_point_P(0j,l_G2O2,theta2,w2,alpha2,thetaG2)\n",
    "\n",
    "    aA = linear_acceleration_of_point_P(0j,l2,theta2,w2,alpha2,0)\n",
    "\n",
    "    aG3 = linear_acceleration_of_point_P(aA,l_G3A,theta3,w3,alpha3,thetaG3)\n",
    "\n",
    "    aG4 = linear_acceleration_of_point_P(0j,l_G4O4,theta4,w4,alpha4,thetaG4)\n",
    "\n",
    "    a_G2x,a_G2y = decompose_real_imag(aG2)\n",
    "    a_G3x,a_G3y = decompose_real_imag(aG3)\n",
    "    a_G4x,a_G4y = decompose_real_imag(aG4)\n",
    "\n",
    "\n",
    "    A_row1 = [1,0,1,0,0,0,0,0,0]\n",
    "    A_row2 = [0,1,0,1,0,0,0,0,0]\n",
    "    A_row3 = [-y_O2G,x_O2G,-y_AG2,x_AG2,0,0,0,0,1]\n",
    "    A_row4 = [0,0,-1,0,1,0,0,0,0]\n",
    "    A_row5 = [0,0,0,-1,0,1,0,0,0]\n",
    "    A_row6 = [0,0,y_AG3,-x_AG3,-y_BG3,x_BG3,0,0,0]\n",
    "    A_row7 = [0,0,0,0,-1,0,1,0,0]\n",
    "    A_row8 = [0,0,0,0,0,-1,0,1,0]\n",
    "    A_row9 = [0,0,0,0,y_BG4,-x_BG4,-y_O4G4,x_O4G4,0]\n",
    "\n",
    "    A_matrix = np.array([A_row1,A_row2,A_row3,A_row4,A_row5,A_row6,A_row7,A_row8,A_row9])\n",
    "\n",
    "    b_vector = np.array([\n",
    "                         m2  * a_G2x,\n",
    "                         m2  * a_G2y,\n",
    "                         Ig2 * alpha_g2,\n",
    "                         m3  * a_G3x - fex,\n",
    "                         m3  * a_G3y - fey, \n",
    "                         Ig3 * alpha_g3 - (x_EG3 * fey - y_EG3 * fex),\n",
    "                         m4  * a_G4x, \n",
    "                         m4  * a_G4y,     \n",
    "                         Ig4 * alpha_g4 - T4,\n",
    "                        ])\n",
    "\n",
    "    x = np.linalg.solve(A_matrix,b_vector)\n",
    "    \n",
    "\n",
    "    dict_output = {}\n",
    "    labels = [\"fO2x\",\"fO2y\",\"fA2x\",\"fA2y\",\"fB3x\",\"fB3y\",\"fO4x\",\"fO4y\",\"T2\"]\n",
    "    for i,j in zip(labels,x):\n",
    "        dict_output[i] = float(j)\n",
    "        \n",
    "    dict_output[\"T4\"] = T4\n",
    "    dict_output[\"theta2\"] = theta2\n",
    "    dict_output[\"theta3\"] = theta3\n",
    "    dict_output[\"theta4\"] = theta4\n",
    "    dict_output[\"w2\"] = w2\n",
    "    dict_output[\"w3\"] = w3\n",
    "    dict_output[\"w4\"] = w4    \n",
    "    \n",
    "    dict_output[\"alpha2\"] = alpha2\n",
    "    dict_output[\"alpha3\"] =  alpha3\n",
    "    dict_output[\"alpha4\"] =  alpha4    \n",
    "    \n",
    "    return dict_output"
   ]
  },
  {
   "cell_type": "markdown",
   "id": "fa313b92",
   "metadata": {},
   "source": [
    "# **Part A**\n",
    "\n",
    "## (a)"
   ]
  },
  {
   "cell_type": "markdown",
   "id": "0b9a8db3",
   "metadata": {},
   "source": []
  },
  {
   "cell_type": "markdown",
   "id": "4ca7170e",
   "metadata": {},
   "source": [
    "No, since it is stated that the rotational speeds of the system will be very large it is sugested that accelerating massses will have a very large impact on the produced forces.\n",
    "My first instinct says that Material B would be better as it will produce 4 times less forces IF the same geometry is used, note the problem wont be linear as the geometries will differ so my intuition may be wrong. The recomendation will be to calculate the required geometry for both materials, and select the Lowest mass option if no other requirements are given like cost."
   ]
  },
  {
   "cell_type": "markdown",
   "id": "8ff22529",
   "metadata": {},
   "source": [
    "# **Part B**\n",
    "\n",
    "## Parameters\n",
    "\n",
    "### Lengths of the links: (All lengths are given in metres  or [m]. ) "
   ]
  },
  {
   "cell_type": "code",
   "execution_count": 4,
   "id": "f496617d",
   "metadata": {},
   "outputs": [],
   "source": [
    "l1 = 0.4 # Length of link 1 (O2-O4) in metres\n",
    "l2 = 0.2 # Length of link 2 in metres\n",
    "l3 = 0.31 # Length of link 3 in metres\n",
    "l4 = 0.3 # Length of link 4 in metres"
   ]
  },
  {
   "cell_type": "markdown",
   "id": "9af8bf87",
   "metadata": {},
   "source": [
    "### Masses of the links in kg"
   ]
  },
  {
   "cell_type": "code",
   "execution_count": 5,
   "id": "58a42914",
   "metadata": {},
   "outputs": [],
   "source": [
    "m2 = 0.054 # Mass of link 1 in kg.\n",
    "m3 = 0.083 # Mass of link 1 in kg.\n",
    "m4 = 0.081 # Mass of link 2 in kg."
   ]
  },
  {
   "cell_type": "markdown",
   "id": "1676c244",
   "metadata": {},
   "source": [
    "### Mass moment of inertia of the links around the centre of gravity in kg/m$^3$:"
   ]
  },
  {
   "cell_type": "code",
   "execution_count": 6,
   "id": "7db8f8fe",
   "metadata": {},
   "outputs": [],
   "source": [
    "Ig2 = 0.0001800  # Mass moment of inertia of link 2 around its CG in kg.m^2\n",
    "Ig3 = 0.0006700  # Mass moment of inertia of link 3 around its CG in kg.m^2\n",
    "Ig4 = 0.0006075  # Mass moment of inertia of link 4 around its CG in kg.m^2"
   ]
  },
  {
   "cell_type": "markdown",
   "id": "bd12c89d",
   "metadata": {},
   "source": [
    "<span style=\"color:red\">\n",
    "\n",
    "### NB:\n",
    "### The centre of gravity is located at the centre of each link, along the centre line that connects the two nodes of the links.\n",
    "    \n",
    "</span>\n",
    "    "
   ]
  },
  {
   "cell_type": "markdown",
   "id": "ffbc06f6",
   "metadata": {},
   "source": [
    "## (b)"
   ]
  },
  {
   "cell_type": "code",
   "execution_count": 7,
   "id": "59ceb62b",
   "metadata": {},
   "outputs": [],
   "source": [
    "theta2 = 0\n",
    "\n",
    "theta3 = np.pi/4\n",
    "theta4 = 3*np.pi/4\n",
    "\n",
    "w2 = +0.5\n",
    "alpha2 =0\n",
    "\n",
    "theta_vector = []\n",
    "w_vector = []\n",
    "alpha_vector = []\n",
    "\n",
    "\n",
    "dictkin = kinematics_four_bar_linkage_problem(theta2,       # We assume we know theta2\n",
    "                        theta3, # theta3 is unknown. This is the initial guess.\n",
    "                        theta4, # theta4 is unknown. This is the initial guess.\n",
    "                        w2,           # We assume we know w2\n",
    "                        alpha2,       # We assume we know alpha2\n",
    "                        l1,           # Length of l1\n",
    "                        l2,           # Length of l2\n",
    "                        l3,           # Length of l3\n",
    "                        l4)           # Length of l4\n",
    "\n",
    "theta3 = dictkin[\"theta3\"]\n",
    "theta4 = dictkin[\"theta4\"]\n",
    "w3 = dictkin[\"w3\"]\n",
    "w4 = dictkin[\"w4\"]\n",
    "alpha3 = dictkin[\"alpha3\"]\n",
    "alpha4 = dictkin[\"alpha4\"]\n"
   ]
  },
  {
   "cell_type": "code",
   "execution_count": 8,
   "id": "c5fa18d0",
   "metadata": {},
   "outputs": [
    {
     "data": {
      "image/png": "[encoded data removed]",
      "text/plain": [
       "<Figure size 432x288 with 1 Axes>"
      ]
     },
     "metadata": {
      "needs_background": "light"
     },
     "output_type": "display_data"
    },
    {
     "name": "stdout",
     "output_type": "stream",
     "text": [
      "theta3[rads]:\n",
      "1.189876854881888\n",
      "we can see from inspection that the 4bar link is in the correct location and orienttaiton \n"
     ]
    }
   ],
   "source": [
    "xpos = [0, dictkin['xA'],dictkin['xB'],dictkin['xO4']]\n",
    "ypos = [0, dictkin['yA'],dictkin['yB'],dictkin['yO4']]\n",
    "\n",
    "plt.figure()\n",
    "plt.plot(xpos,ypos)\n",
    "plt.show()\n",
    "\n",
    "\n",
    "print(\"theta3[rads]:\")\n",
    "print(theta3)\n",
    "\n",
    "\n",
    "\n",
    "print('we can see from inspection that the 4bar link is in the correct location and orienttaiton ')"
   ]
  },
  {
   "cell_type": "markdown",
   "id": "affcf3cb",
   "metadata": {},
   "source": [
    "You can write text in this cell. "
   ]
  },
  {
   "cell_type": "markdown",
   "id": "1223314f",
   "metadata": {},
   "source": [
    "You can write text in this cell. "
   ]
  },
  {
   "cell_type": "markdown",
   "id": "9a2afe47",
   "metadata": {},
   "source": [
    "## (c)"
   ]
  },
  {
   "cell_type": "code",
   "execution_count": 9,
   "id": "22d996c5",
   "metadata": {},
   "outputs": [
    {
     "name": "stdout",
     "output_type": "stream",
     "text": [
      "Xvelocity of pointB[m/s]:\n",
      "0.14389009477723133\n",
      "This will be to the right\n"
     ]
    }
   ],
   "source": [
    "import numpy as np\n",
    "print('Xvelocity of pointB[m/s]:')\n",
    "print(-dictkin[\"w4\"]*dictkin[\"l4\"]*np.sin(dictkin[\"theta4\"]))\n",
    "print('This will be to the right')\n"
   ]
  },
  {
   "cell_type": "markdown",
   "id": "e9165aed",
   "metadata": {},
   "source": [
    "You can write text in this cell. "
   ]
  },
  {
   "cell_type": "markdown",
   "id": "da2a1e13",
   "metadata": {},
   "source": [
    "## (d)"
   ]
  },
  {
   "cell_type": "code",
   "execution_count": 10,
   "id": "1ab57a9f",
   "metadata": {},
   "outputs": [
    {
     "data": {
      "image/png": "[encoded data removed]",
      "text/plain": [
       "<Figure size 432x288 with 1 Axes>"
      ]
     },
     "metadata": {
      "needs_background": "light"
     },
     "output_type": "display_data"
    }
   ],
   "source": [
    "l22 = l2 - 0.05\n",
    "\n",
    "theta2 = 0\n",
    "\n",
    "theta3 = np.pi/4\n",
    "theta4 = 3*np.pi/4\n",
    "\n",
    "w2 = +0.5\n",
    "alpha2 =0\n",
    "\n",
    "theta_vector = []\n",
    "w_vector = []\n",
    "alpha_vector = []\n",
    "\n",
    "\n",
    "dictkin2 = kinematics_four_bar_linkage_problem(theta2,       # We assume we know theta2\n",
    "                        theta3, # theta3 is unknown. This is the initial guess.\n",
    "                        theta4, # theta4 is unknown. This is the initial guess.\n",
    "                        w2,           # We assume we know w2\n",
    "                        alpha2,       # We assume we know alpha2\n",
    "                        l1,           # Length of l1\n",
    "                        l22,           # Length of l2\n",
    "                        l3,           # Length of l3\n",
    "                        l4)           # Length of l4\n",
    "\n",
    "\n",
    "xpos = [0, dictkin2['xA'],dictkin2['xB'],dictkin2['xO4']]\n",
    "ypos = [0, dictkin2['yA'],dictkin2['yB'],dictkin2['yO4']]\n",
    "\n",
    "plt.figure()\n",
    "plt.plot(xpos,ypos)\n",
    "plt.show()"
   ]
  },
  {
   "cell_type": "code",
   "execution_count": 11,
   "id": "5d77d309",
   "metadata": {},
   "outputs": [
    {
     "name": "stdout",
     "output_type": "stream",
     "text": [
      "Initial angular acceleration of link 4:\n",
      "0.20023963459471375\n",
      "After change in l2 angular acceleration of link 4:\n",
      "0.11845205144334968\n",
      " difference:\n",
      "-0.08178758315136407\n"
     ]
    }
   ],
   "source": [
    "print('Initial angular acceleration of link 4:')\n",
    "print(dictkin[\"alpha4\"])\n",
    "\n",
    "print('After change in l2 angular acceleration of link 4:')\n",
    "print(dictkin2[\"alpha4\"])\n",
    "\n",
    "print(\" difference:\")\n",
    "print(dictkin2[\"alpha4\"]-dictkin[\"alpha4\"])\n",
    "\n",
    "\n",
    "\n"
   ]
  },
  {
   "cell_type": "markdown",
   "id": "cfde163c",
   "metadata": {},
   "source": [
    "You can write text in this cell. "
   ]
  },
  {
   "cell_type": "markdown",
   "id": "d06529c9",
   "metadata": {},
   "source": [
    "# **Part C**\n",
    "\n",
    "## (e)"
   ]
  },
  {
   "cell_type": "markdown",
   "id": "b98e5e67",
   "metadata": {},
   "source": [
    "<span style=\"color:red\">\n",
    "\n",
    "### NB:\n",
    "### The centre of gravity is located at the centre of each link, along the centre line that connects the two nodes of the links.\n",
    "    \n",
    "</span>\n",
    "    "
   ]
  },
  {
   "cell_type": "code",
   "execution_count": 35,
   "id": "76d17090",
   "metadata": {},
   "outputs": [
    {
     "name": "stdout",
     "output_type": "stream",
     "text": [
      "The min and max of theta4 is: 1.528700921335856 and 3.009208411529804 rads respectively\n"
     ]
    }
   ],
   "source": [
    "theta2v = np.linspace(0,2*np.pi,1000)\n",
    "\n",
    "\n",
    "theta3 = np.pi/4\n",
    "theta4 = 3*np.pi/4\n",
    "\n",
    "w2 = +0.5\n",
    "alpha2 =0\n",
    "\n",
    "theta_vector = []\n",
    "w_vector = []\n",
    "alpha_vector = []\n",
    "\n",
    "xss = []\n",
    "yss = []\n",
    "\n",
    "for theta2 in theta2v:\n",
    "\n",
    "    dictkin = kinematics_four_bar_linkage_problem(theta2,       # We assume we know theta2\n",
    "                           theta3, # theta3 is unknown. This is the initial guess.\n",
    "                           theta4, # theta4 is unknown. This is the initial guess.\n",
    "                           w2,           # We assume we know w2\n",
    "                           alpha2,       # We assume we know alpha2\n",
    "                           l1,           # Length of l1\n",
    "                           l2,           # Length of l2\n",
    "                           l3,           # Length of l3\n",
    "                           l4)           # Length of l4\n",
    "\n",
    "    theta3 = dictkin[\"theta3\"]\n",
    "    theta4 = dictkin[\"theta4\"]\n",
    "    w3 = dictkin[\"w3\"]\n",
    "    w4 = dictkin[\"w4\"]\n",
    "    alpha3 = dictkin[\"alpha3\"]\n",
    "    alpha4 = dictkin[\"alpha4\"]\n",
    "    \n",
    "    thetaG2 = 0\n",
    "    thetaG3 = 0\n",
    "    thetaG4 = 0\n",
    "    thetaE  = 0\n",
    "    \n",
    "    l_G2O2 = 0.09105\n",
    "    l_G3A = 0.42824\n",
    "    l_G4O4 = l4/2.0\n",
    "    \n",
    "    l_EA = 0\n",
    "    \n",
    "    T4 = calculate_T4(theta4)\n",
    "    \n",
    "    \n",
    "    dictkinetic = four_bar_linkage_kinetics(dictkin, # Obtained from kinematics analysis                            \n",
    "                                  thetaG2, # Angle between A/O2 and G2/O2 [rad]\n",
    "                                  thetaG3, # Angle between B/A and G3/A [rad]\n",
    "                                  thetaG4, # Angle between B/O4 and G4/O4 [rad]\n",
    "                                  thetaE,\n",
    "                                  l_G2O2,\n",
    "                                  l_G3A,\n",
    "                                  l_EA,\n",
    "                                  l_G4O4,\n",
    "                                  m2, # Length of mass 2 [m]\n",
    "                                  m3, # Length of mass 3 [m]\n",
    "                                  m4, # Length of mass 4 [m]\n",
    "                                  Ig2, # Mass moment of inertia around G2 [kg.m^2]\n",
    "                                  Ig3, # Mass moment of inertia around G3 [kg.m^2]\n",
    "                                  Ig4, # Mass moment of inertia around G4 [kg.m^2]\n",
    "                                  0, # External force applied to link 3 x-component [N]\n",
    "                                  0, # External force applied to link 3 y-component [N]\n",
    "                                  T4)    \n",
    "    \n",
    "    theta_vector.append([theta2,theta3,theta4])\n",
    "    w_vector.append([w2,w3,w4])\n",
    "    xss.append([0, dictkin['xA'],dictkin['xB'],dictkin['xO4']])\n",
    "    yss.append([0, dictkin['yA'],dictkin['yB'],dictkin['yO4']])\n",
    "\n",
    "\n",
    "\n",
    "\n",
    "theta2vec = np.array(theta_vector)[:,2]\n",
    "print('The min and max of theta4 is:',min(theta2vec),'and',max(theta2vec),'rads respectively')"
   ]
  },
  {
   "cell_type": "code",
   "execution_count": 33,
   "id": "77b2f5e1",
   "metadata": {},
   "outputs": [
    {
     "data": {
      "image/png": "[encoded data removed]",
      "text/plain": [
       "<Figure size 432x288 with 1 Axes>"
      ]
     },
     "metadata": {
      "needs_background": "light"
     },
     "output_type": "display_data"
    },
    {
     "name": "stdout",
     "output_type": "stream",
     "text": [
      "looks good\n"
     ]
    }
   ],
   "source": [
    "## checking model solutions:\n",
    "plt.figure()\n",
    "plt.plot(xss,yss)\n",
    "plt.show()\n",
    "\n",
    "\n",
    "print('looks good')\n"
   ]
  },
  {
   "cell_type": "markdown",
   "id": "05013c7e",
   "metadata": {},
   "source": [
    "You can write text in this cell. "
   ]
  },
  {
   "cell_type": "markdown",
   "id": "0d9eafe0",
   "metadata": {},
   "source": [
    "## (f) The torque is given in N.m"
   ]
  },
  {
   "cell_type": "code",
   "execution_count": 34,
   "id": "cc378bd2",
   "metadata": {},
   "outputs": [
    {
     "data": {
      "image/png": "[encoded data removed]",
      "text/plain": [
       "<Figure size 432x288 with 1 Axes>"
      ]
     },
     "metadata": {
      "needs_background": "light"
     },
     "output_type": "display_data"
    }
   ],
   "source": [
    "def calculate_T4(theta4_rad): \n",
    "    import numpy as np \n",
    "    return np.cos(theta4_rad * 2) * 10 # N.m\n",
    "\n",
    "def plot_T4():\n",
    "    theta4v = np.linspace(0,2*np.pi)\n",
    "    \n",
    "    for theta4 in theta4v:\n",
    "        T4 = calculate_T4(theta4)\n",
    "        plt.figure(1)\n",
    "        plt.plot(theta4,T4,'b.')\n",
    "    plt.xlabel(r\"$\\theta_{4}$\")\n",
    "    plt.ylabel(\"$T_{4}$ N.m\")\n",
    "plot_T4()"
   ]
  },
  {
   "cell_type": "code",
   "execution_count": 14,
   "id": "3a65bed0",
   "metadata": {},
   "outputs": [],
   "source": [
    "# You can code in this cell if necessary"
   ]
  },
  {
   "cell_type": "markdown",
   "id": "b67cdbef",
   "metadata": {},
   "source": [
    "You can write text in this cell. "
   ]
  },
  {
   "cell_type": "code",
   "execution_count": null,
   "id": "b59772d8",
   "metadata": {},
   "outputs": [],
   "source": []
  }
 ],
 "metadata": {
  "kernelspec": {
   "display_name": "Python 3",
   "language": "python",
   "name": "python3"
  },
  "language_info": {
   "codemirror_mode": {
    "name": "ipython",
    "version": 3
   },
   "file_extension": ".py",
   "mimetype": "text/x-python",
   "name": "python",
   "nbconvert_exporter": "python",
   "pygments_lexer": "ipython3",
   "version": "3.9.6"
  }
 },
 "nbformat": 4,
 "nbformat_minor": 5
}
