{
 "cells": [
  {
   "cell_type": "markdown",
   "id": "2f31260f",
   "metadata": {},
   "source": [
    "# MOW 323 - Question 2"
   ]
  },
  {
   "cell_type": "markdown",
   "id": "e8a5287a",
   "metadata": {},
   "source": [
    "# Lanz Ebersohn\n",
    "# u18285229"
   ]
  },
  {
   "cell_type": "code",
   "execution_count": 2,
   "id": "9cd5b766",
   "metadata": {},
   "outputs": [],
   "source": [
    "try:\n",
    "    import os    \n",
    "    if \"add_engmod.py\" in os.listdir(): \n",
    "        print(\"Exists!\"); import add_engmod\n",
    "        print(\"Development version is loaded. For office use only.\")\n",
    "except:\n",
    "    pass\n",
    "try:\n",
    "    import importlib; \n",
    "    import engmod.structfem as sfem; importlib.reload(sfem)\n",
    "    import numpy as np \n",
    "except Exception as e:\n",
    "    print(e)\n",
    "    print(\"Engmod is not imported. Please ensure that the jupyter notebook and engmod folder is in the same directory.\")\n",
    "import matplotlib.pyplot as plt "
   ]
  },
  {
   "cell_type": "markdown",
   "id": "e3eed125",
   "metadata": {},
   "source": [
    "# Define cross-sectional area and moment of inertia in m$^2$ and m$^4$, respectively for the geometry given in the question paper"
   ]
  },
  {
   "cell_type": "code",
   "execution_count": 3,
   "id": "becf0fe2",
   "metadata": {},
   "outputs": [
    {
     "name": "stdout",
     "output_type": "stream",
     "text": [
      "A = 0.0003141592653589793\n",
      "I = 7.853981633974483e-09\n"
     ]
    }
   ],
   "source": [
    "r = 0.01\n",
    "A = np.pi*(r**2) # m^2\n",
    "\n",
    "I = np.pi*((r*2)**4)/64 # m^4\n",
    "\n",
    "print(\"A =\",A)\n",
    "print(\"I =\",I)"
   ]
  },
  {
   "cell_type": "markdown",
   "id": "ce78a7b3",
   "metadata": {},
   "source": [
    "# This code checks whether you have updated A and I in the previous cell"
   ]
  },
  {
   "cell_type": "code",
   "execution_count": 4,
   "id": "f9526f6a",
   "metadata": {},
   "outputs": [],
   "source": [
    "assert np.abs(A - 1.0) >1E-6, \"The placeholder value for A is not replaced. Please replace this value.\""
   ]
  },
  {
   "cell_type": "code",
   "execution_count": 5,
   "id": "71ca04dd",
   "metadata": {},
   "outputs": [],
   "source": [
    "assert np.abs(I - 1.0) >1E-6, \"The placeholder value for I is not replaced. Please replace this value.\""
   ]
  },
  {
   "cell_type": "markdown",
   "id": "89af0830",
   "metadata": {},
   "source": [
    "# FEM Setup"
   ]
  },
  {
   "cell_type": "code",
   "execution_count": 6,
   "id": "9fb1084f",
   "metadata": {},
   "outputs": [
    {
     "data": {
      "image/png": "[encoded data removed]",
      "text/plain": [
       "<Figure size 432x288 with 1 Axes>"
      ]
     },
     "metadata": {
      "needs_background": "light"
     },
     "output_type": "display_data"
    }
   ],
   "source": [
    "density = 7800 # kg/m^3\n",
    "\n",
    "E = 200E9 # Pa\n",
    "\n",
    "# Nodal coordinates are in metres:\n",
    "node_coordinates = np.array([[   0. ,    0. ],\n",
    "                               [ 317.5,  508. ],\n",
    "                               [ 635. ,    0. ],\n",
    "                               [ 952.5,  508. ],\n",
    "                               [1016. ,  355.6],\n",
    "                               [1206.5,    0. ]]) / 1000.0\n",
    "\n",
    "element_connectivity = np.array([\n",
    "                                 [0,1],\n",
    "                                 [1,2],\n",
    "                                 [0,2],\n",
    "                                 [1,3],\n",
    "                                 [2,4],\n",
    "                                 [3,4],\n",
    "                                 [4,5]])\n",
    "\n",
    "prescribed_displacement = np.array([[0,0,0],\n",
    "                                    [0,1,0],\n",
    "                                    [5,1,0]])\n",
    "\n",
    "# Prescribed forces are in N. \n",
    "prescribed_forces = np.array([[1,1,-700],[3,1,-300]])\n",
    "\n",
    "try:\n",
    "    elem_I = np.array([I, I, I, I, I, I ,I])\n",
    "    elem_A = np.array([A, A, A, A, A, A ,A])\n",
    "except Exception as e: \n",
    "    raise ValueError(\"The cross-sectional areas and/or the mass moment of inertia are/is not defined.\")\n",
    "\n",
    "element_properties_dict = {\n",
    "    \"A\": elem_A,\n",
    "    \"I\": elem_I,\n",
    "    \"E\": np.ones(element_connectivity.shape[0]) * E,\n",
    "    \"density\": np.ones(element_connectivity.shape[0]) * density\n",
    "}\n",
    "\n",
    "\n",
    "fem = sfem.FEM_Beam_2D(\n",
    "                            node_coordinates,\n",
    "                            element_connectivity,\n",
    "                            prescribed_displacement,\n",
    "                            prescribed_forces,\n",
    "                            element_properties_dict,\n",
    "                        )\n",
    "\n",
    "fem.plot_system()\n",
    "plt.axis(\"equal\")\n",
    "fem.solve()"
   ]
  },
  {
   "cell_type": "code",
   "execution_count": 20,
   "id": "be00e469",
   "metadata": {},
   "outputs": [
    {
     "data": {
      "image/png": "[encoded data removed]",
      "text/plain": [
       "<Figure size 432x288 with 1 Axes>"
      ]
     },
     "metadata": {
      "needs_background": "light"
     },
     "output_type": "display_data"
    }
   ],
   "source": [
    "fem.plot_system(show_displacement=True,magnification=100)"
   ]
  },
  {
   "cell_type": "markdown",
   "id": "0b3ba524",
   "metadata": {},
   "source": [
    "# C)"
   ]
  },
  {
   "cell_type": "code",
   "execution_count": 13,
   "id": "cae3c4b1",
   "metadata": {},
   "outputs": [
    {
     "name": "stdout",
     "output_type": "stream",
     "text": [
      "-0.0015378203416080035\n"
     ]
    }
   ],
   "source": [
    "#print(fem.solution_dict['displacements'])\n",
    "print(fem.solution_dict['displacements'][2*2+1])"
   ]
  },
  {
   "cell_type": "markdown",
   "id": "3ddf5d7b",
   "metadata": {},
   "source": [
    "# D)"
   ]
  },
  {
   "cell_type": "code",
   "execution_count": 16,
   "id": "92678c37",
   "metadata": {},
   "outputs": [
    {
     "name": "stdout",
     "output_type": "stream",
     "text": [
      "[ 1.09139364e-11  5.78947368e+02  0.00000000e+00  0.00000000e+00\n",
      " -7.00000000e+02  0.00000000e+00  0.00000000e+00  0.00000000e+00\n",
      "  0.00000000e+00  0.00000000e+00 -3.00000000e+02  0.00000000e+00\n",
      "  0.00000000e+00  0.00000000e+00  0.00000000e+00  0.00000000e+00\n",
      "  4.21052632e+02  0.00000000e+00]\n",
      "578.9473684210934\n"
     ]
    }
   ],
   "source": [
    "print(fem.solution_dict['loads'])\n",
    "print(fem.solution_dict['loads'][2*0 + 1])\n"
   ]
  },
  {
   "cell_type": "markdown",
   "id": "c2ba14cc",
   "metadata": {},
   "source": [
    "# E)"
   ]
  },
  {
   "cell_type": "code",
   "execution_count": 19,
   "id": "5dd9e15a",
   "metadata": {},
   "outputs": [
    {
     "name": "stdout",
     "output_type": "stream",
     "text": [
      "Minimum bending moment: -17.2445584863603\n",
      "Maximum bending moment: 80.21052631578037\n"
     ]
    },
    {
     "data": {
      "image/png": "[encoded data removed]",
      "text/plain": [
       "<Figure size 432x288 with 2 Axes>"
      ]
     },
     "metadata": {
      "needs_background": "light"
     },
     "output_type": "display_data"
    }
   ],
   "source": [
    "fem.post_plot_bending_moment()\n",
    "\n"
   ]
  },
  {
   "cell_type": "markdown",
   "id": "f6587cf4",
   "metadata": {},
   "source": [
    "# g)"
   ]
  },
  {
   "cell_type": "code",
   "execution_count": 36,
   "id": "382471fd",
   "metadata": {},
   "outputs": [
    {
     "name": "stdout",
     "output_type": "stream",
     "text": [
      "0.09158817869598024\n",
      "0.510139274115499\n",
      "0.4572670115829482\n",
      "0.18564085769598554\n"
     ]
    }
   ],
   "source": [
    "# it will need to be the element with the largest strain energy\n",
    "strain = fem.post_axial_stress_strain()['strain']\n",
    "\n",
    "\n",
    "E1L = ((317.5-635)**2 + (508.-0)**2)**0.5\n",
    "E3L = ((317.5-952.5)**2 + (508.-508.)**2)**0.5\n",
    "E4L = ((635-1016.)**2 + (0-355.6)**2)**0.5\n",
    "E5L = ((1016.-952.5)**2 + (355.6-508.)**2)**0.5\n",
    "\n",
    "\n",
    "\n",
    "Eeng1 = 0.5*(A*E/E1L)*((strain[1]*E1L)**2)\n",
    "Eeng3 = 0.5*(A*E/E3L)*((strain[3]*E3L)**2)\n",
    "Eeng4 = 0.5*(A*E/E4L)*((strain[4]*E4L)**2)\n",
    "Eeng5 = 0.5*(A*E/E5L)*((strain[5]*E5L)**2)\n",
    "\n",
    "print(Eeng1)\n",
    "print(Eeng3)\n",
    "print(Eeng4)\n",
    "print(Eeng5)\n"
   ]
  },
  {
   "cell_type": "markdown",
   "id": "0833b72b",
   "metadata": {},
   "source": [
    "# h) what is the decrease in energy?"
   ]
  },
  {
   "cell_type": "code",
   "execution_count": 39,
   "id": "13dfce5d",
   "metadata": {},
   "outputs": [
    {
     "data": {
      "text/plain": [
       "{'displacements': array([ 0.00000000e+00,  0.00000000e+00, -1.14244229e-03,  7.05522490e-04,\n",
       "        -4.48784785e-04, -1.67853084e-03,  3.73840992e-06, -8.85698318e-04,\n",
       "        -2.13679390e-03,  7.04115670e-04, -1.55687061e-03, -1.52911261e-03,\n",
       "         6.52902138e-04, -1.57716618e-03,  1.40149605e-03,  3.59189938e-03,\n",
       "         0.00000000e+00,  1.17013436e-02]),\n",
       " 'loads': array([ 7.27595761e-11,  5.78947368e+02,  0.00000000e+00,  0.00000000e+00,\n",
       "        -7.00000000e+02,  0.00000000e+00,  0.00000000e+00,  0.00000000e+00,\n",
       "         0.00000000e+00,  0.00000000e+00, -3.00000000e+02,  0.00000000e+00,\n",
       "         0.00000000e+00,  0.00000000e+00,  0.00000000e+00,  0.00000000e+00,\n",
       "         4.21052632e+02,  0.00000000e+00])}"
      ]
     },
     "execution_count": 39,
     "metadata": {},
     "output_type": "execute_result"
    },
    {
     "data": {
      "image/png": "[encoded data removed]",
      "text/plain": [
       "<Figure size 432x288 with 1 Axes>"
      ]
     },
     "metadata": {
      "needs_background": "light"
     },
     "output_type": "display_data"
    }
   ],
   "source": [
    "r1 = 0.01 + 0.005\n",
    "A1 = np.pi*(r1**2) # m^2\n",
    "\n",
    "I1 = np.pi*((r1*2)**4)/64 # m^4\n",
    "\n",
    "\n",
    "try:\n",
    "    elem_I = np.array([I, I, I, I1, I, I ,I])\n",
    "    elem_A = np.array([A, A, A, A1, A, A ,A])\n",
    "except Exception as e: \n",
    "    raise ValueError(\"The cross-sectional areas and/or the mass moment of inertia are/is not defined.\")\n",
    "\n",
    "element_properties_dict = {\n",
    "    \"A\": elem_A,\n",
    "    \"I\": elem_I,\n",
    "    \"E\": np.ones(element_connectivity.shape[0]) * E,\n",
    "    \"density\": np.ones(element_connectivity.shape[0]) * density\n",
    "}\n",
    "\n",
    "\n",
    "femh = sfem.FEM_Beam_2D(\n",
    "                            node_coordinates,\n",
    "                            element_connectivity,\n",
    "                            prescribed_displacement,\n",
    "                            prescribed_forces,\n",
    "                            element_properties_dict,\n",
    "                        )\n",
    "\n",
    "femh.plot_system()\n",
    "plt.axis(\"equal\")\n",
    "femh.solve()"
   ]
  },
  {
   "cell_type": "code",
   "execution_count": 42,
   "id": "fdcbb481",
   "metadata": {},
   "outputs": [
    {
     "name": "stdout",
     "output_type": "stream",
     "text": [
      "0.9696748096148236\n",
      "1.244635322090413\n",
      "-0.2749605124755894\n"
     ]
    }
   ],
   "source": [
    "# recalculating the energys\n",
    "strainh = femh.post_axial_stress_strain()['strain']\n",
    "\n",
    "\n",
    "E1L = ((317.5-635)**2 + (508.-0)**2)**0.5\n",
    "E3L = ((317.5-952.5)**2 + (508.-508.)**2)**0.5\n",
    "E4L = ((635-1016.)**2 + (0-355.6)**2)**0.5\n",
    "E5L = ((1016.-952.5)**2 + (355.6-508.)**2)**0.5\n",
    "\n",
    "\n",
    "\n",
    "Eeng1h = 0.5*(A*E/E1L)*((strainh[1]*E1L)**2)\n",
    "Eeng3h = 0.5*(A1*E/E3L)*((strainh[3]*E3L)**2)\n",
    "Eeng4h = 0.5*(A*E/E4L)*((strainh[4]*E4L)**2)\n",
    "Eeng5h = 0.5*(A*E/E5L)*((strainh[5]*E5L)**2)\n",
    "\n",
    "energh = Eeng1h+Eeng3h+Eeng4h+Eeng5h\n",
    "energ = Eeng1+Eeng3+Eeng4+Eeng5\n",
    "\n",
    "print(energh)\n",
    "print(energ)\n",
    "print(energh-energ)"
   ]
  },
  {
   "cell_type": "markdown",
   "id": "9b954a4a",
   "metadata": {},
   "source": [
    "# i) max displacement(use unmodified model)"
   ]
  },
  {
   "cell_type": "code",
   "execution_count": 43,
   "id": "95acb48e",
   "metadata": {},
   "outputs": [
    {
     "data": {
      "text/plain": [
       "{'displacements': array([ 0.00000000e+00,  0.00000000e+00,  1.76711474e-03, -8.93101675e-04,\n",
       "         5.64517657e-04,  1.43273917e-03, -2.94150065e-06,  1.12763298e-03,\n",
       "         2.13666519e-03, -8.86925306e-04,  1.59734582e-03,  3.00098007e-03,\n",
       "        -5.72035245e-04,  1.72780839e-03, -4.72870933e-04, -3.79096970e-03,\n",
       "         0.00000000e+00, -1.33476804e-02]),\n",
       " 'loads': array([-2.18278728e-11, -4.73684211e+02,  0.00000000e+00,  0.00000000e+00,\n",
       "         0.00000000e+00,  0.00000000e+00,  0.00000000e+00,  1.00000000e+03,\n",
       "         0.00000000e+00,  0.00000000e+00,  0.00000000e+00,  0.00000000e+00,\n",
       "         0.00000000e+00,  0.00000000e+00,  0.00000000e+00,  0.00000000e+00,\n",
       "        -5.26315789e+02,  0.00000000e+00])}"
      ]
     },
     "execution_count": 43,
     "metadata": {},
     "output_type": "execute_result"
    },
    {
     "data": {
      "image/png": "[encoded data removed]",
      "text/plain": [
       "<Figure size 432x288 with 1 Axes>"
      ]
     },
     "metadata": {
      "needs_background": "light"
     },
     "output_type": "display_data"
    }
   ],
   "source": [
    "\n",
    "\n",
    "# Prescribed forces are in N. \n",
    "prescribed_forces = np.array([[2,1,1000]])\n",
    "\n",
    "try:\n",
    "    elem_I = np.array([I, I, I, I, I, I ,I])\n",
    "    elem_A = np.array([A, A, A, A, A, A ,A])\n",
    "except Exception as e: \n",
    "    raise ValueError(\"The cross-sectional areas and/or the mass moment of inertia are/is not defined.\")\n",
    "\n",
    "element_properties_dict = {\n",
    "    \"A\": elem_A,\n",
    "    \"I\": elem_I,\n",
    "    \"E\": np.ones(element_connectivity.shape[0]) * E,\n",
    "    \"density\": np.ones(element_connectivity.shape[0]) * density\n",
    "}\n",
    "\n",
    "\n",
    "fem = sfem.FEM_Beam_2D(\n",
    "                            node_coordinates,\n",
    "                            element_connectivity,\n",
    "                            prescribed_displacement,\n",
    "                            prescribed_forces,\n",
    "                            element_properties_dict,\n",
    "                        )\n",
    "\n",
    "fem.plot_system()\n",
    "plt.axis(\"equal\")\n",
    "fem.solve()"
   ]
  },
  {
   "cell_type": "code",
   "execution_count": 44,
   "id": "7dde3d1a",
   "metadata": {},
   "outputs": [
    {
     "data": {
      "text/plain": [
       "{'natural_frequencies_hz': array([  37.92772206,  109.92337204,  173.71537817,  202.1292945 ,\n",
       "         369.24573504,  442.72379808,  644.52577576,  830.39152713,\n",
       "         914.62155039, 1333.46337422, 2243.49669649]),\n",
       " 'modes': array([[ 2.85594221e-01,  2.70011256e+00, -2.06287614e-01,\n",
       "          6.88025587e+00, -4.43784746e+00, -6.43049024e+00,\n",
       "          1.86160422e+00, -5.72282707e-01, -4.92272427e+00,\n",
       "          1.66536217e+00,  4.82896594e-01],\n",
       "        [-1.77311107e-01, -2.51868835e-01,  1.44613561e-02,\n",
       "          2.23354061e-01,  5.03664757e-03,  5.90818402e-02,\n",
       "          2.13727595e-01,  2.88517783e-01,  1.53167271e-02,\n",
       "         -2.58589602e-01, -3.99447637e-02],\n",
       "        [ 1.11133431e-01,  1.58564709e-01, -2.00912258e-02,\n",
       "         -1.39830205e-01, -1.88466357e-02, -6.87676955e-02,\n",
       "         -7.19447047e-02,  8.69108011e-02,  1.20686957e-01,\n",
       "         -5.06688127e-01, -6.56401151e-01],\n",
       "        [ 4.49121964e-01, -1.35278599e+00, -4.87449724e+00,\n",
       "         -2.27677801e+00, -7.54414630e-01, -7.11258097e+00,\n",
       "          1.66200779e+00, -3.33111393e+00, -5.19344223e+00,\n",
       "          2.26689502e+00,  2.36044338e+00],\n",
       "        [-8.83729452e-04, -2.01217740e-03, -6.87079708e-03,\n",
       "         -2.15756992e-04,  8.56910997e-03,  3.95813735e-02,\n",
       "          1.48876153e-01,  2.95337124e-01, -1.20635196e-01,\n",
       "          4.49824614e-01, -4.74478211e-01],\n",
       "        [ 2.21388960e-01,  3.14925320e-01, -3.83069655e-02,\n",
       "         -2.79603602e-01, -1.09303225e-02, -8.38208557e-02,\n",
       "         -4.82678837e-03,  3.16859984e-01,  9.11523012e-02,\n",
       "         -1.40022533e-01,  4.04038506e-01],\n",
       "        [ 6.31302237e-01, -1.08952868e+00,  4.40208369e+00,\n",
       "         -2.57142187e+00, -5.41477489e+00, -5.39568795e+00,\n",
       "          1.02188340e+00,  2.50446953e+00, -5.70629121e+00,\n",
       "          7.54723730e-01,  2.88369769e-02],\n",
       "        [-1.76889878e-01, -2.48962844e-01,  1.11045617e-02,\n",
       "          2.21290506e-01, -1.18153866e-02,  4.97773669e-02,\n",
       "          2.15256290e-01,  4.35474960e-01,  1.41341507e-01,\n",
       "         -4.02477559e-01,  1.75207918e-01],\n",
       "        [ 4.39875942e-01, -1.44076113e-01,  1.64195445e-02,\n",
       "          1.08864909e-01,  8.66140563e-03,  2.90130640e-01,\n",
       "          4.22858252e-01,  3.89788836e-02, -1.49098757e-01,\n",
       "         -2.12595788e-01,  6.41329210e-02],\n",
       "        [ 1.28095007e-01,  3.26722720e+00,  1.56313459e+00,\n",
       "         -2.46042532e+00,  7.17127807e+00, -4.42067128e+00,\n",
       "          8.63482422e+00, -3.79282369e+00, -7.65399223e+00,\n",
       "         -3.99371703e+00, -1.04334038e+00],\n",
       "        [-1.97668948e-01,  2.35112614e-01, -3.93999125e-02,\n",
       "         -1.99084904e-01, -2.04906380e-02, -1.84168380e-01,\n",
       "         -5.12322356e-02,  6.22300505e-01,  2.23802190e-02,\n",
       "          3.29246917e-01,  4.25831988e-02],\n",
       "        [ 4.31134123e-01,  5.73681790e-02, -3.34241472e-03,\n",
       "         -6.58310375e-02,  1.19680624e-02,  1.90323873e-01,\n",
       "          3.18352654e-01,  1.02812249e-01, -2.20221024e-01,\n",
       "          7.91277238e-02, -1.18677814e-02],\n",
       "        [-5.27074338e-01,  1.97270026e+00, -1.65710803e+00,\n",
       "         -1.64516919e+00, -4.55123834e+00,  5.55406357e+00,\n",
       "         -3.45993532e+00, -4.28590941e-01, -1.35149536e+01,\n",
       "         -6.55394391e+00,  3.27040832e+00],\n",
       "        [-1.00166234e+00,  1.31036769e-01, -3.58495469e-02,\n",
       "         -8.15785667e-02, -7.43777231e-02, -5.41748044e-01,\n",
       "         -6.07939675e-01,  4.07915447e-01,  6.30564569e-01,\n",
       "          2.95158689e-01,  3.67003243e-03],\n",
       "        [-3.07768556e+00, -1.74185232e+00,  1.21939186e+00,\n",
       "          2.30433376e+00,  9.37638416e+00, -8.60022363e+00,\n",
       "         -2.27505021e+01,  1.53867258e+01, -8.73996489e+00,\n",
       "          9.73607529e-01,  2.99657832e+00]]),\n",
       " 'coor_global': array([0.    , 0.3175, 0.635 , 0.9525, 1.016 , 1.2065, 0.    , 0.508 ,\n",
       "        0.    , 0.508 , 0.3556, 0.    ]),\n",
       " 'index_p': array([ 0,  1, 16]),\n",
       " 'index_f': array([ 2,  3,  4,  5,  6,  7,  8,  9, 10, 11, 12, 13, 14, 15, 17])}"
      ]
     },
     "execution_count": 44,
     "metadata": {},
     "output_type": "execute_result"
    }
   ],
   "source": [
    "fem.eigen()"
   ]
  },
  {
   "cell_type": "markdown",
   "id": "9204a18e",
   "metadata": {},
   "source": [
    "# This is a copy of the original code"
   ]
  },
  {
   "cell_type": "markdown",
   "id": "5dedfce3",
   "metadata": {},
   "source": [
    "```python\n",
    "\n",
    "density = 7800 # kg/m^3\n",
    "\n",
    "E = 200E9 # Pa\n",
    "\n",
    "# Nodal coordinates are in metres:\n",
    "node_coordinates = np.array([[   0. ,    0. ],\n",
    "                               [ 317.5,  508. ],\n",
    "                               [ 635. ,    0. ],\n",
    "                               [ 952.5,  508. ],\n",
    "                               [1016. ,  355.6],\n",
    "                               [1206.5,    0. ]]) / 1000.0\n",
    "\n",
    "element_connectivity = np.array([\n",
    "                                 [0,1],\n",
    "                                 [1,2],\n",
    "                                 [0,2],\n",
    "                                 [1,3],\n",
    "                                 [2,4],\n",
    "                                 [3,4],\n",
    "                                 [4,5]])\n",
    "\n",
    "prescribed_displacement = np.array([[0,0,0],\n",
    "                                    [0,1,0],\n",
    "                                    [5,1,0]])\n",
    "\n",
    "# Prescribed forces are in N. \n",
    "prescribed_forces = np.array([[1,1,-700],[3,1,-300]])\n",
    "\n",
    "try:\n",
    "    elem_I = np.array([I, I, I, I, I, I ,I])\n",
    "    elem_A = np.array([A, A, A, A, A, A ,A])\n",
    "except Exception as e: \n",
    "    raise ValueError(\"The cross-sectional areas and/or the mass moment of inertia are/is not defined.\")\n",
    "\n",
    "element_properties_dict = {\n",
    "    \"A\": elem_A,\n",
    "    \"I\": elem_I,\n",
    "    \"E\": np.ones(element_connectivity.shape[0]) * E,\n",
    "    \"density\": np.ones(element_connectivity.shape[0]) * density\n",
    "}\n",
    "\n",
    "\n",
    "fem = sfem.FEM_Beam_2D(\n",
    "                            node_coordinates,\n",
    "                            element_connectivity,\n",
    "                            prescribed_displacement,\n",
    "                            prescribed_forces,\n",
    "                            element_properties_dict,\n",
    "                        )\n",
    "\n",
    "fem.plot_system()\n",
    "plt.axis(\"equal\")\n",
    "fem.solve();\n",
    "\n",
    "```"
   ]
  },
  {
   "cell_type": "code",
   "execution_count": null,
   "id": "e3e0d295",
   "metadata": {},
   "outputs": [],
   "source": []
  },
  {
   "cell_type": "code",
   "execution_count": null,
   "id": "87bf2a4c",
   "metadata": {},
   "outputs": [],
   "source": []
  }
 ],
 "metadata": {
  "kernelspec": {
   "display_name": "Python 3",
   "language": "python",
   "name": "python3"
  },
  "language_info": {
   "codemirror_mode": {
    "name": "ipython",
    "version": 3
   },
   "file_extension": ".py",
   "mimetype": "text/x-python",
   "name": "python",
   "nbconvert_exporter": "python",
   "pygments_lexer": "ipython3",
   "version": "3.9.6"
  }
 },
 "nbformat": 4,
 "nbformat_minor": 5
}
