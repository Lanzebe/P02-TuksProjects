{
 "cells": [
  {
   "cell_type": "code",
   "execution_count": 2,
   "metadata": {},
   "outputs": [],
   "source": [
    "import numpy as np\n",
    "from scipy.integrate import odeint\n",
    "import matplotlib.pyplot as plt\n",
    "from scipy.linalg import eig\n",
    "import cmath"
   ]
  },
  {
   "cell_type": "markdown",
   "metadata": {},
   "source": [
    "# Q1"
   ]
  },
  {
   "cell_type": "code",
   "execution_count": 6,
   "metadata": {},
   "outputs": [
    {
     "name": "stdout",
     "output_type": "stream",
     "text": [
      "            ######### Mode 1 #########\n",
      "Rotational Frequency: 4.3024185724722654 [rad/s]\n",
      "Frequency           : 0.684751183059337 [Hz]\n",
      "Mode Shape          : [ 0.70963442 -1.47574733  1.        ]\n",
      "            ######### Mode 2 #########\n",
      "Rotational Frequency: nan [rad/s]\n",
      "Frequency           : nan [Hz]\n",
      "Mode Shape          : [1. 1. 1.]\n",
      "            ######### Mode 3 #########\n",
      "Rotational Frequency: 9.48746128845715 [rad/s]\n",
      "Frequency           : 1.5099763614509576 [Hz]\n",
      "Mode Shape          : [-0.41195171  0.06643361  1.        ]\n"
     ]
    },
    {
     "name": "stderr",
     "output_type": "stream",
     "text": [
      "C:\\Users\\ebers\\AppData\\Local\\Temp/ipykernel_1952/1635100844.py:10: RuntimeWarning: invalid value encountered in sqrt\n",
      "  w = np.sqrt(np.real(np.flip(Eig_value)))\n"
     ]
    }
   ],
   "source": [
    "M = np.array([[11,0,0],[0,8,0],[0,0,4]])\n",
    "K = np.array([[355,-100,-255],[-100,100,0],[-255,0,255]])\n",
    "C = np.array([[0,0,0],[0,0,0],[0,0,0]])\n",
    "\n",
    "Eig_value,Eig_vector = eig(K,M)\n",
    "\n",
    "Eig_vector = np.flip(Eig_vector,axis = 1)\n",
    "Eig_vector = Eig_vector/Eig_vector[2,:]\n",
    "\n",
    "w = np.sqrt(np.real(np.flip(Eig_value)))\n",
    "#Get Hz\n",
    "f = w / (2*np.pi)\n",
    "\n",
    "for idx, i in enumerate(Eig_value):\n",
    "    print('            ######### Mode',idx+1,'#########')\n",
    "    print('Rotational Frequency:',w[idx],'[rad/s]')\n",
    "    print('Frequency           :',f[idx],'[Hz]')\n",
    "    print('Mode Shape          :',Eig_vector[:,idx])"
   ]
  },
  {
   "cell_type": "code",
   "execution_count": null,
   "metadata": {},
   "outputs": [],
   "source": [
    "F = np.array([100,200,30])\n",
    "\n",
    "\n",
    "def Amplification(omega):\n",
    "    X = []\n",
    "    delta = np.matmul(F,(np.linalg.inv(K)))\n",
    "    for i in omega:\n",
    "        Z = (-(i**2)*M) + (i*(1j)*C) + K\n",
    "        X.append(np.divide(np.matmul(np.linalg.inv(Z),F).real,delta))\n",
    "    return np.ndarray.tolist(np.transpose(X))\n",
    "\n",
    "\n",
    "w = np.linspace(0,75,1000)\n",
    "Amp = Amplification(w)\n",
    "\n",
    "\n",
    "plt.figure()\n",
    "plt.title('FRF (Frequency Responce Function)')\n",
    "plt.xlabel('Rotational Frequency [rad/s]')\n",
    "plt.ylabel('X/delta [m]')\n",
    "plt.yscale('symlog', linthresh=0.1)\n",
    "for i in range(len(Amp)):\n",
    "    plt.plot(w,Amp[i], label= 'm' + str(i+1))\n",
    "\n",
    "plt.legend()\n",
    "plt.grid()"
   ]
  },
  {
   "cell_type": "markdown",
   "metadata": {},
   "source": [
    "# Q2"
   ]
  },
  {
   "cell_type": "markdown",
   "metadata": {},
   "source": []
  },
  {
   "cell_type": "markdown",
   "metadata": {},
   "source": [
    "# Q3"
   ]
  },
  {
   "cell_type": "markdown",
   "metadata": {},
   "source": []
  },
  {
   "cell_type": "markdown",
   "metadata": {},
   "source": [
    "# Q4"
   ]
  },
  {
   "cell_type": "markdown",
   "metadata": {},
   "source": []
  },
  {
   "cell_type": "markdown",
   "metadata": {},
   "source": [
    "# Q5"
   ]
  },
  {
   "cell_type": "markdown",
   "metadata": {},
   "source": []
  },
  {
   "cell_type": "markdown",
   "metadata": {},
   "source": [
    "# Q6"
   ]
  },
  {
   "cell_type": "markdown",
   "metadata": {},
   "source": []
  }
 ],
 "metadata": {
  "kernelspec": {
   "display_name": "Python 3 (ipykernel)",
   "language": "python",
   "name": "python3"
  },
  "language_info": {
   "codemirror_mode": {
    "name": "ipython",
    "version": 3
   },
   "file_extension": ".py",
   "mimetype": "text/x-python",
   "name": "python",
   "nbconvert_exporter": "python",
   "pygments_lexer": "ipython3",
   "version": "3.9.6"
  }
 },
 "nbformat": 4,
 "nbformat_minor": 2
}
