{
 "cells": [
  {
   "cell_type": "code",
   "execution_count": null,
   "metadata": {},
   "outputs": [],
   "source": [
    "import numpy as np\n",
    "from scipy.integrate import odeint\n",
    "import matplotlib.pyplot as plt\n",
    "from scipy.linalg import eig\n",
    "import cmath"
   ]
  },
  {
   "cell_type": "markdown",
   "metadata": {},
   "source": [
    "# Q1"
   ]
  },
  {
   "cell_type": "code",
   "execution_count": null,
   "metadata": {},
   "outputs": [],
   "source": [
    "#M = np.array([[20,0],[0,40]])\n",
    "#K = np.array([[1000+2000,-2000],[-2000,2000]])\n",
    "\n",
    "\n",
    "\n",
    "print('Mass Matrix:')\n",
    "print(M)\n",
    "print('Stiffness Matrix:')\n",
    "print(K)\n",
    "\n",
    "Eig_value,Eig_vector = eig(K,M)\n",
    "\n",
    "Eig_vector = np.flip(Eig_vector,axis = 1)\n",
    "Eig_vector = Eig_vector/Eig_vector[0,:]\n",
    "\n",
    "w = np.sqrt(np.real(np.flip(Eig_value)))\n",
    "#Get Hz\n",
    "f = w / (2*np.pi)\n",
    "\n",
    "for idx, i in enumerate(Eig_value):\n",
    "    print('            ######### Mode',idx+1,'#########')\n",
    "    print('Rotational Frequency:',w[idx],'[rad/s]')\n",
    "    print('Frequency           :',f[idx],'[Hz]')\n",
    "    print('Mode Shape          :',Eig_vector[:,idx])"
   ]
  },
  {
   "cell_type": "markdown",
   "metadata": {},
   "source": [
    "# Q2"
   ]
  },
  {
   "cell_type": "markdown",
   "metadata": {},
   "source": []
  },
  {
   "cell_type": "markdown",
   "metadata": {},
   "source": [
    "# Q3"
   ]
  },
  {
   "cell_type": "markdown",
   "metadata": {},
   "source": []
  },
  {
   "cell_type": "markdown",
   "metadata": {},
   "source": [
    "# Q4"
   ]
  },
  {
   "cell_type": "markdown",
   "metadata": {},
   "source": []
  },
  {
   "cell_type": "markdown",
   "metadata": {},
   "source": [
    "# Q5"
   ]
  },
  {
   "cell_type": "markdown",
   "metadata": {},
   "source": []
  },
  {
   "cell_type": "markdown",
   "metadata": {},
   "source": [
    "# Q6"
   ]
  },
  {
   "cell_type": "markdown",
   "metadata": {},
   "source": []
  }
 ],
 "metadata": {
  "kernelspec": {
   "display_name": "Python 3 (ipykernel)",
   "language": "python",
   "name": "python3"
  },
  "language_info": {
   "codemirror_mode": {
    "name": "ipython",
    "version": 3
   },
   "file_extension": ".py",
   "mimetype": "text/x-python",
   "name": "python",
   "nbconvert_exporter": "python",
   "pygments_lexer": "ipython3",
   "version": "3.9.6"
  }
 },
 "nbformat": 4,
 "nbformat_minor": 2
}
