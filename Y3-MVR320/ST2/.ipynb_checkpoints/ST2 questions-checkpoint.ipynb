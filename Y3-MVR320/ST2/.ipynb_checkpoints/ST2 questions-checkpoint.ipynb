{
 "cells": [
  {
   "cell_type": "code",
   "execution_count": 1,
   "id": "c179d519",
   "metadata": {},
   "outputs": [],
   "source": [
    "import numpy as np\n",
    "from scipy.integrate import odeint\n",
    "import matplotlib.pyplot as plt\n",
    "from scipy.linalg import eig\n",
    "import cmath"
   ]
  },
  {
   "cell_type": "code",
   "execution_count": 3,
   "id": "50e28388",
   "metadata": {},
   "outputs": [
    {
     "name": "stdout",
     "output_type": "stream",
     "text": [
      "Normilization: [0.49996906 0.9132504 ]\n",
      "            ######### Mode 1 #########\n",
      "Rotational Frequency: 1.8072902015305867 [rad/s]\n",
      "Frequency           : 0.2876391691751406 [Hz]\n",
      "Mode Shape          : [1.         1.73219374]\n",
      "            ######### Mode 2 #########\n",
      "Rotational Frequency: 5.004918595625897 [rad/s]\n",
      "Frequency           : 0.7965575342664084 [Hz]\n",
      "Mode Shape          : [ 1.         -0.44609749]\n"
     ]
    }
   ],
   "source": [
    "M = np.array([[8500,0],[0,11000]])\n",
    "k1 = 90E3\n",
    "k2 = 85E3\n",
    "K = np.array([[k1+k2,-k2],[-k2,k2]])\n",
    "\n",
    "Eig_value,Eig_vector = eig(K,M)\n",
    "\n",
    "Eig_vector = np.flip(Eig_vector,axis = 1)\n",
    "print('Normilization:',Eig_vector[0,:])\n",
    "Eig_vector = Eig_vector/Eig_vector[0,:]\n",
    "\n",
    "w = np.sqrt(np.real(np.flip(Eig_value)))\n",
    "#Get Hz\n",
    "f = w / (2*np.pi)\n",
    "\n",
    "for idx, i in enumerate(Eig_value):\n",
    "    print('            ######### Mode',idx+1,'#########')\n",
    "    print('Rotational Frequency:',w[idx],'[rad/s]')\n",
    "    print('Frequency           :',f[idx],'[Hz]')\n",
    "    print('Mode Shape          :',Eig_vector[:,idx])"
   ]
  },
  {
   "cell_type": "code",
   "execution_count": 4,
   "id": "c39ae116",
   "metadata": {},
   "outputs": [
    {
     "name": "stdout",
     "output_type": "stream",
     "text": [
      "Normilization: [0.70710678 0.791285  ]\n",
      "            ######### Mode 1 #########\n",
      "Rotational Frequency: 0.0 [rad/s]\n",
      "Frequency           : 0.0 [Hz]\n",
      "Mode Shape          : [1. 1.]\n",
      "            ######### Mode 2 #########\n",
      "Rotational Frequency: 4.210376791603422 [rad/s]\n",
      "Frequency           : 0.6701022786630795 [Hz]\n",
      "Mode Shape          : [ 1.         -0.77272727]\n"
     ]
    }
   ],
   "source": [
    "M = np.array([[8500,0],[0,11000]])\n",
    "k1 = 90E3\n",
    "k2 = 85E3\n",
    "K = np.array([[k2,-k2],[-k2,k2]])\n",
    "\n",
    "Eig_value,Eig_vector = eig(K,M)\n",
    "\n",
    "Eig_vector = np.flip(Eig_vector,axis = 1)\n",
    "print('Normilization:',Eig_vector[0,:])\n",
    "Eig_vector = Eig_vector/Eig_vector[0,:]\n",
    "\n",
    "w = np.sqrt(np.real(np.flip(Eig_value)))\n",
    "#Get Hz\n",
    "f = w / (2*np.pi)\n",
    "\n",
    "for idx, i in enumerate(Eig_value):\n",
    "    print('            ######### Mode',idx+1,'#########')\n",
    "    print('Rotational Frequency:',w[idx],'[rad/s]')\n",
    "    print('Frequency           :',f[idx],'[Hz]')\n",
    "    print('Mode Shape          :',Eig_vector[:,idx])"
   ]
  },
  {
   "cell_type": "markdown",
   "id": "c6a5a3d0",
   "metadata": {},
   "source": [
    "# Q2c"
   ]
  },
  {
   "cell_type": "code",
   "execution_count": 16,
   "id": "8d4be577",
   "metadata": {},
   "outputs": [],
   "source": [
    "def ExitationFunction(t):\n",
    "    return 0,0\n",
    "\n",
    "def ForcingFunction(t):\n",
    "    if t<1:\n",
    "        return 3000*t\n",
    "    elif (t>=1) and (t <2):\n",
    "        return 3000*(2-t)\n",
    "    else:\n",
    "        return 0\n",
    "\n",
    "def DerivativeX(X,t):\n",
    "    #print(X)\n",
    "    Xdis = X[0:len(M)]\n",
    "    Xvel = X[len(M):]\n",
    "    F = np.zeros(len(M))\n",
    "    #print(Xdis,Xvel)\n",
    "    \n",
    "    \n",
    "    ### Forcing a displacement on a mass:\n",
    "    Xdis[0],Xvel[0] = ExitationFunction(t)\n",
    "    ### Forcing with a forcing function:\n",
    "    F[1] = ForcingFunction(t)\n",
    "        \n",
    "    term1 = np.matmul(-np.linalg.inv(M), K)\n",
    "    term2 = np.matmul(-np.linalg.inv(M), C)\n",
    "    term3 = np.matmul(np.linalg.inv(M), F)  \n",
    "    xdd = np.matmul(term1,Xdis) + np.matmul(term2,Xvel) + term3\n",
    "    \n",
    "    return np.append(Xvel,xdd)\n",
    "def SolveSystem(t):\n",
    "    return odeint(DerivativeX,InitialConditions,t)\n"
   ]
  },
  {
   "cell_type": "code",
   "execution_count": 18,
   "id": "d7951fd0",
   "metadata": {},
   "outputs": [
    {
     "data": {
      "text/plain": [
       "[<matplotlib.lines.Line2D at 0x217e7731c10>]"
      ]
     },
     "execution_count": 18,
     "metadata": {},
     "output_type": "execute_result"
    },
    {
     "data": {
      "image/png": "[encoded data removed]",
      "text/plain": [
       "<Figure size 432x288 with 1 Axes>"
      ]
     },
     "metadata": {
      "needs_background": "light"
     },
     "output_type": "display_data"
    },
    {
     "data": {
      "image/png": "[encoded data removed]",
      "text/plain": [
       "<Figure size 432x288 with 1 Axes>"
      ]
     },
     "metadata": {
      "needs_background": "light"
     },
     "output_type": "display_data"
    }
   ],
   "source": [
    "t0 = 0\n",
    "t1 = 10\n",
    "\n",
    "m0 = 1\n",
    "m = 270\n",
    "\n",
    "k1 = 3500\n",
    "k2 = 2000\n",
    "\n",
    "c1 = 150\n",
    "c2 = 360\n",
    "\n",
    "M = np.array([[m0,0],[0,m]])\n",
    "K = np.array([[k1+k2,-k1-k2],[-k1-k2,k1+k2]])\n",
    "C = np.array([[c1+c2,-c1-c2],[-c1-c2,c1+c2]])\n",
    "\n",
    "\n",
    "InitialConditions = np.array([0,0,0,0])\n",
    "\n",
    "##Solving\n",
    "res = 100000\n",
    "t = np.linspace(t0,t1,res)\n",
    "sol = SolveSystem(t)\n",
    "\n",
    "##Plotting\n",
    "plt.figure(0)\n",
    "plt.grid()\n",
    "plt.plot(t,sol[:,0])\n",
    "plt.plot(t,sol[:,1])\n",
    "plt.figure(1)\n",
    "plt.grid()\n",
    "\n",
    "def bla(t):\n",
    "    a = []\n",
    "    for i in t:\n",
    "        a.append(ForcingFunction(i))\n",
    "        \n",
    "    return a\n",
    "plt.plot(t,bla(t))"
   ]
  },
  {
   "cell_type": "code",
   "execution_count": null,
   "id": "385d9fa9",
   "metadata": {},
   "outputs": [],
   "source": []
  }
 ],
 "metadata": {
  "kernelspec": {
   "display_name": "Python 3 (ipykernel)",
   "language": "python",
   "name": "python3"
  },
  "language_info": {
   "codemirror_mode": {
    "name": "ipython",
    "version": 3
   },
   "file_extension": ".py",
   "mimetype": "text/x-python",
   "name": "python",
   "nbconvert_exporter": "python",
   "pygments_lexer": "ipython3",
   "version": "3.9.6"
  }
 },
 "nbformat": 4,
 "nbformat_minor": 5
}
