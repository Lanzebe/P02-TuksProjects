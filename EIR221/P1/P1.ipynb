{
 "cells": [
  {
   "cell_type": "code",
   "execution_count": 1,
   "id": "dff07e6f",
   "metadata": {},
   "outputs": [],
   "source": [
    "import numpy as np\n",
    "import cmath\n",
    "\n",
    "\n",
    "def print_polar(n):\n",
    "    print(cmath.polar(a/b)[0],'/__',360*cmath.polar(a/b)[1]/(2*cmath.pi),'deg')"
   ]
  },
  {
   "cell_type": "code",
   "execution_count": 10,
   "id": "844089f0",
   "metadata": {},
   "outputs": [],
   "source": [
    "#values for Q1\n",
    "f = 2000\n",
    "C = 100 * 10**(-9)\n",
    "R = 1E3"
   ]
  },
  {
   "cell_type": "code",
   "execution_count": 12,
   "id": "a1cc3d2e",
   "metadata": {},
   "outputs": [],
   "source": [
    "#Calcs for Q1\n",
    "omega = f*2*np.pi\n",
    "Ztot = (1/(omega*C*(1j))) + R\n"
   ]
  },
  {
   "cell_type": "code",
   "execution_count": 15,
   "id": "a1816120",
   "metadata": {},
   "outputs": [
    {
     "name": "stdout",
     "output_type": "stream",
     "text": [
      "Ztot: (1000-795.7747154594767j)\n"
     ]
    }
   ],
   "source": [
    "print('Ztot:',Ztot)"
   ]
  },
  {
   "cell_type": "code",
   "execution_count": 16,
   "id": "841eb3fd",
   "metadata": {},
   "outputs": [],
   "source": [
    "#values for Q2\n",
    "f = 1500\n",
    "C = 100 * 10**(-9)\n",
    "R = 1E3"
   ]
  },
  {
   "cell_type": "code",
   "execution_count": 17,
   "id": "7eb06f38",
   "metadata": {},
   "outputs": [],
   "source": [
    "#Calcs for Q2\n",
    "omega = f*2*np.pi\n",
    "Ztot = (1/(omega*C*(1j))) + R"
   ]
  },
  {
   "cell_type": "code",
   "execution_count": 18,
   "id": "1864dbd8",
   "metadata": {},
   "outputs": [
    {
     "name": "stdout",
     "output_type": "stream",
     "text": [
      "Ztot: (1000-1061.0329539459688j)\n"
     ]
    }
   ],
   "source": [
    "print('Ztot:',Ztot)"
   ]
  },
  {
   "cell_type": "code",
   "execution_count": 20,
   "id": "e84f01ab",
   "metadata": {},
   "outputs": [],
   "source": [
    "#values for Q4\n",
    "f = 12000\n",
    "L = 47 * 10**(-3)\n",
    "R = 3.7E3"
   ]
  },
  {
   "cell_type": "code",
   "execution_count": 21,
   "id": "1ed88bda",
   "metadata": {},
   "outputs": [],
   "source": [
    "#Calcs for Q4\n",
    "omega = f*2*np.pi\n",
    "Ztot = ((omega*C*(1j))) + R"
   ]
  },
  {
   "cell_type": "code",
   "execution_count": 22,
   "id": "8ce4a3cb",
   "metadata": {},
   "outputs": [
    {
     "name": "stdout",
     "output_type": "stream",
     "text": [
      "Ztot: (3700+0.007539822368615504j)\n"
     ]
    }
   ],
   "source": [
    "print('Ztot:',Ztot)"
   ]
  },
  {
   "cell_type": "code",
   "execution_count": null,
   "id": "a93d1170",
   "metadata": {},
   "outputs": [],
   "source": []
  }
 ],
 "metadata": {
  "kernelspec": {
   "display_name": "Python 3 (ipykernel)",
   "language": "python",
   "name": "python3"
  },
  "language_info": {
   "codemirror_mode": {
    "name": "ipython",
    "version": 3
   },
   "file_extension": ".py",
   "mimetype": "text/x-python",
   "name": "python",
   "nbconvert_exporter": "python",
   "pygments_lexer": "ipython3",
   "version": "3.9.6"
  }
 },
 "nbformat": 4,
 "nbformat_minor": 5
}
