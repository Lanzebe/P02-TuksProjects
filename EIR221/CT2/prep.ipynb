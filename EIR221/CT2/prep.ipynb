{
 "cells": [
  {
   "cell_type": "code",
   "execution_count": 4,
   "metadata": {},
   "outputs": [],
   "source": [
    "import cmath\n",
    "import numpy as np\n",
    "import math\n",
    "\n",
    "def print_polar(n):\n",
    "    print(cmath.polar(n)[0],'/__',360*cmath.polar(n)[1]/(2*cmath.pi),'deg')\n",
    "\n",
    "def parallel(Zlist):\n",
    "    ans = 0\n",
    "    for i in Zlist:\n",
    "        ans = ans + i**-1\n",
    "    return ans**-1\n",
    "\n",
    "def ComplexPolar(z,thetaDeg):\n",
    "    return z*np.cos(math.radians(thetaDeg)) + z*np.sin(math.radians(thetaDeg))*1j\n",
    "\n",
    "def ComplexConjugate(N):\n",
    "    return N.real - N.imag*1j\n"
   ]
  },
  {
   "cell_type": "code",
   "execution_count": 19,
   "metadata": {},
   "outputs": [
    {
     "name": "stdout",
     "output_type": "stream",
     "text": [
      "(6.153846153846153+0.7692307692307694j)\n",
      "(622.2539674441618+0j)\n"
     ]
    }
   ],
   "source": [
    "z1 = 10-30j\n",
    "z2 = 10+10j\n",
    "z3 = 10\n",
    "v = ComplexPolar(440,0)*(2**0.5)\n",
    "\n",
    "z = parallel([z1,z2,z3])\n",
    "\n",
    "print(z)\n",
    "print(v)"
   ]
  },
  {
   "cell_type": "code",
   "execution_count": 7,
   "metadata": {},
   "outputs": [
    {
     "name": "stdout",
     "output_type": "stream",
     "text": [
      "(70.40000000000002-8.800000000000004j)\n"
     ]
    }
   ],
   "source": [
    "i = v/z\n",
    "\n",
    "print(i)\n"
   ]
  },
  {
   "cell_type": "code",
   "execution_count": 16,
   "metadata": {},
   "outputs": [
    {
     "name": "stdout",
     "output_type": "stream",
     "text": [
      "(21903.339654034502+2737.9174567543137j)\n"
     ]
    }
   ],
   "source": [
    "S = 0.5*v*ComplexConjugate(i)\n",
    "\n",
    "print(S)"
   ]
  },
  {
   "cell_type": "markdown",
   "metadata": {},
   "source": [
    "Exa 11.11"
   ]
  },
  {
   "cell_type": "code",
   "execution_count": 11,
   "metadata": {},
   "outputs": [
    {
     "name": "stdout",
     "output_type": "stream",
     "text": [
      "42.426406871192846 /__ -9.999999999999998 deg\n",
      "1.0606601717798212 /__ 50.0 deg\n"
     ]
    }
   ],
   "source": [
    "Vm = ComplexPolar(60,-10)\n",
    "Im = ComplexPolar(1.5,50)\n",
    "\n",
    "Vrms = Vm/(2**0.5)\n",
    "Irms = Im/(2**0.5)\n",
    "\n",
    "print_polar(Vrms)\n",
    "print_polar(Irms)"
   ]
  },
  {
   "cell_type": "code",
   "execution_count": 13,
   "metadata": {},
   "outputs": [
    {
     "name": "stdout",
     "output_type": "stream",
     "text": [
      "44.99999999999999 /__ -59.99999999999999 deg\n",
      "45.0 /__ -59.99999999999999 deg\n"
     ]
    }
   ],
   "source": [
    "S = Vrms*ComplexConjugate(Irms)\n",
    "print_polar(S)\n",
    "S2 = 0.5*Vm*ComplexConjugate(Im)\n",
    "print_polar(S2)"
   ]
  }
 ],
 "metadata": {
  "interpreter": {
   "hash": "b0d877fd5326eabdec7294d85196f572791c8fccbbd1b2db4b2baf685ab06f05"
  },
  "kernelspec": {
   "display_name": "Python 3.9.6 64-bit ('env': venv)",
   "name": "python3"
  },
  "language_info": {
   "codemirror_mode": {
    "name": "ipython",
    "version": 3
   },
   "file_extension": ".py",
   "mimetype": "text/x-python",
   "name": "python",
   "nbconvert_exporter": "python",
   "pygments_lexer": "ipython3",
   "version": "3.9.6"
  },
  "orig_nbformat": 4
 },
 "nbformat": 4,
 "nbformat_minor": 2
}
