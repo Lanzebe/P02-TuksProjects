{
 "cells": [
  {
   "cell_type": "code",
   "execution_count": 1,
   "metadata": {},
   "outputs": [],
   "source": [
    "import cmath\n",
    "import numpy as np\n",
    "import math\n",
    "\n",
    "def print_polar(n):\n",
    "    print(cmath.polar(n)[0],'/__',360*cmath.polar(n)[1]/(2*cmath.pi),'deg')\n",
    "\n",
    "def parallel(Zlist):\n",
    "    ans = 0\n",
    "    for i in Zlist:\n",
    "        ans = ans + i**-1\n",
    "    return ans**-1\n",
    "\n",
    "def ComplexPolar(z,thetaDeg):\n",
    "    return z*np.cos(math.radians(thetaDeg)) + z*np.sin(math.radians(thetaDeg))*1j\n",
    "\n",
    "def ComplexConjugate(N):\n",
    "    return N.real - N.imag*1j"
   ]
  },
  {
   "cell_type": "code",
   "execution_count": 6,
   "metadata": {},
   "outputs": [
    {
     "name": "stdout",
     "output_type": "stream",
     "text": [
      "(-0.5000000000000001+0j) (0.09756097560975609-0.1219512195121951j)\n"
     ]
    }
   ],
   "source": [
    "z1 = 2+2.5j\n",
    "z2 = 1-1.5j\n",
    "\n",
    "\n",
    "a = [[1,-z1],[1,z1]]\n",
    "b = [-1,0]\n",
    "\n",
    "Vx,i1 = np.linalg.solve(a,b)\n",
    "\n"
   ]
  },
  {
   "cell_type": "code",
   "execution_count": 7,
   "metadata": {},
   "outputs": [
    {
     "name": "stdout",
     "output_type": "stream",
     "text": [
      "(0.6223277909738715+0.04750593824228024j)\n"
     ]
    }
   ],
   "source": [
    "Rth = 1/(i1-3*Vx)\n",
    "\n",
    "print(Rth)"
   ]
  },
  {
   "cell_type": "code",
   "execution_count": 8,
   "metadata": {},
   "outputs": [
    {
     "name": "stdout",
     "output_type": "stream",
     "text": [
      "(-3.3321799307958475+0.6228373702422143j) (-0.16608996539792387+0.31141868512110715j) (-1.1107266435986158+0.20761245674740478j)\n"
     ]
    }
   ],
   "source": [
    "A = [[1,0,-3],[-1,2,0],[0,-z1,1]]\n",
    "B = [0,3,0]\n",
    "\n",
    "i1,i2,vx = np.linalg.solve(A,B)\n",
    "print(i1,i2,vx)"
   ]
  },
  {
   "cell_type": "code",
   "execution_count": 9,
   "metadata": {},
   "outputs": [
    {
     "name": "stdout",
     "output_type": "stream",
     "text": [
      "(-1.2871972318339102+5.413494809688581j)\n"
     ]
    }
   ],
   "source": [
    "Vth = z2*i1 -vx\n",
    "print(Vth)"
   ]
  },
  {
   "cell_type": "code",
   "execution_count": 11,
   "metadata": {},
   "outputs": [
    {
     "data": {
      "text/plain": [
       "(-2.397923875432526+5.621107266435986j)"
      ]
     },
     "execution_count": 11,
     "metadata": {},
     "output_type": "execute_result"
    }
   ],
   "source": [
    "#v1\n",
    "v1 = z2*i1\n",
    "v1\n"
   ]
  },
  {
   "cell_type": "code",
   "execution_count": 12,
   "metadata": {},
   "outputs": [
    {
     "data": {
      "text/plain": [
       "(-1.2871972318339102+5.413494809688581j)"
      ]
     },
     "execution_count": 12,
     "metadata": {},
     "output_type": "execute_result"
    }
   ],
   "source": [
    "#v2\n",
    "v2 = v1 - vx\n",
    "v2"
   ]
  },
  {
   "cell_type": "code",
   "execution_count": 13,
   "metadata": {},
   "outputs": [
    {
     "data": {
      "text/plain": [
       "(-1.1107266435986158+0.20761245674740478j)"
      ]
     },
     "execution_count": 13,
     "metadata": {},
     "output_type": "execute_result"
    }
   ],
   "source": [
    "#vx\n",
    "vx"
   ]
  },
  {
   "cell_type": "code",
   "execution_count": 14,
   "metadata": {},
   "outputs": [
    {
     "data": {
      "text/plain": [
       "(-3.3321799307958475+0.6228373702422143j)"
      ]
     },
     "execution_count": 14,
     "metadata": {},
     "output_type": "execute_result"
    }
   ],
   "source": [
    "i1"
   ]
  },
  {
   "cell_type": "code",
   "execution_count": 15,
   "metadata": {},
   "outputs": [
    {
     "data": {
      "text/plain": [
       "(-0.16608996539792387+0.31141868512110715j)"
      ]
     },
     "execution_count": 15,
     "metadata": {},
     "output_type": "execute_result"
    }
   ],
   "source": [
    "i2"
   ]
  },
  {
   "cell_type": "code",
   "execution_count": 16,
   "metadata": {},
   "outputs": [
    {
     "data": {
      "text/plain": [
       "(11.491349480968855-17.237024221453282j)"
      ]
     },
     "execution_count": 16,
     "metadata": {},
     "output_type": "execute_result"
    }
   ],
   "source": [
    "S1 = v1*ComplexConjugate(i1)\n",
    "S1"
   ]
  },
  {
   "cell_type": "code",
   "execution_count": 17,
   "metadata": {},
   "outputs": [
    {
     "data": {
      "text/plain": [
       "(0.24913494809688574+0.31141868512110715j)"
      ]
     },
     "execution_count": 17,
     "metadata": {},
     "output_type": "execute_result"
    }
   ],
   "source": [
    "S2 = vx*ComplexConjugate(i2)\n",
    "S2"
   ]
  },
  {
   "cell_type": "code",
   "execution_count": 19,
   "metadata": {},
   "outputs": [
    {
     "data": {
      "text/plain": [
       "(7.6608996539792376-17.237024221453286j)"
      ]
     },
     "execution_count": 19,
     "metadata": {},
     "output_type": "execute_result"
    }
   ],
   "source": [
    "S3 = v2*ComplexConjugate(3*vx)\n",
    "S3"
   ]
  },
  {
   "cell_type": "code",
   "execution_count": 21,
   "metadata": {},
   "outputs": [
    {
     "data": {
      "text/plain": [
       "(-3.3321799307958475+0.6228373702422134j)"
      ]
     },
     "execution_count": 21,
     "metadata": {},
     "output_type": "execute_result"
    }
   ],
   "source": [
    "S4 = (v1-v2)*ComplexConjugate(3)\n",
    "S4"
   ]
  },
  {
   "cell_type": "code",
   "execution_count": 22,
   "metadata": {},
   "outputs": [
    {
     "data": {
      "text/plain": [
       "(-1.2871972318339102+5.413494809688581j)"
      ]
     },
     "execution_count": 22,
     "metadata": {},
     "output_type": "execute_result"
    }
   ],
   "source": [
    "Vth"
   ]
  },
  {
   "cell_type": "code",
   "execution_count": 27,
   "metadata": {},
   "outputs": [
    {
     "data": {
      "text/plain": [
       "(-0.9820518099475671+0.7033133804295612j)"
      ]
     },
     "execution_count": 27,
     "metadata": {},
     "output_type": "execute_result"
    }
   ],
   "source": [
    "Rl = (Vth/ComplexConjugate(-(S1+S2+S3+S4)/Vth))-Rth\n",
    "Rl"
   ]
  },
  {
   "cell_type": "code",
   "execution_count": 30,
   "metadata": {},
   "outputs": [
    {
     "name": "stdout",
     "output_type": "stream",
     "text": [
      "3.8805700005813275 /__ -14.036243467926477 deg\n"
     ]
    }
   ],
   "source": [
    "V = 80\n",
    "R = 20+5j\n",
    "i = V/R\n",
    "print_polar(i)"
   ]
  }
 ],
 "metadata": {
  "interpreter": {
   "hash": "b0d877fd5326eabdec7294d85196f572791c8fccbbd1b2db4b2baf685ab06f05"
  },
  "kernelspec": {
   "display_name": "Python 3.9.6 64-bit ('env': venv)",
   "name": "python3"
  },
  "language_info": {
   "codemirror_mode": {
    "name": "ipython",
    "version": 3
   },
   "file_extension": ".py",
   "mimetype": "text/x-python",
   "name": "python",
   "nbconvert_exporter": "python",
   "pygments_lexer": "ipython3",
   "version": "3.9.6"
  },
  "orig_nbformat": 4
 },
 "nbformat": 4,
 "nbformat_minor": 2
}
