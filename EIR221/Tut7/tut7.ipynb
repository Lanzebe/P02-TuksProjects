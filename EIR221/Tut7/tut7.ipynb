{
 "cells": [
  {
   "cell_type": "code",
   "execution_count": 36,
   "metadata": {},
   "outputs": [],
   "source": [
    "import cmath\n",
    "import numpy as np\n",
    "import math\n",
    "\n",
    "def print_polar(n):\n",
    "    print(cmath.polar(n)[0],'/__',360*cmath.polar(n)[1]/(2*cmath.pi),'deg')\n",
    "\n",
    "def parallel(Zlist):\n",
    "    ans = 0\n",
    "    for i in Zlist:\n",
    "        ans = ans + i**-1\n",
    "    return ans**-1\n",
    "\n",
    "def ComplexPolar(z,thetaDeg):\n",
    "    return z*np.cos(math.radians(thetaDeg)) + z*np.sin(math.radians(thetaDeg))*1j\n",
    "\n",
    "def Z_magnitude(n):\n",
    "    return cmath.polar(n)[0]\n",
    "\n",
    "def ComplexConjugate(N):\n",
    "    return N.real - N.imag*1j"
   ]
  },
  {
   "cell_type": "code",
   "execution_count": 16,
   "metadata": {},
   "outputs": [
    {
     "name": "stdout",
     "output_type": "stream",
     "text": [
      "0.12\n",
      "(0.2+0.25j)\n",
      "(0.65+0.3j)\n",
      "15j\n"
     ]
    }
   ],
   "source": [
    "###############\n",
    "P = 6\n",
    "Vll = 400\n",
    "\n",
    "R_s = 0.2\n",
    "X_s = 0.25\n",
    "Rp_r = 0.078\n",
    "Xp_r = 0.3\n",
    "X_m = 15\n",
    "\n",
    "f = 50\n",
    "###############\n",
    "ns = 120*f/P\n",
    "nm = 880\n",
    "\n",
    "s = (ns-nm)/ns\n",
    "\n",
    "r = (1-s)/s\n",
    "R1 = R_s + X_s*(1j)\n",
    "R2 = Rp_r + r*Rp_r + Xp_r*(1j)\n",
    "R3 = X_m*(1j)\n",
    "\n",
    "print(s)\n",
    "print(R1)\n",
    "print(R2)\n",
    "print(R3)\n"
   ]
  },
  {
   "cell_type": "code",
   "execution_count": 17,
   "metadata": {},
   "outputs": [
    {
     "data": {
      "text/plain": [
       "230.94010767585033"
      ]
     },
     "execution_count": 17,
     "metadata": {},
     "output_type": "execute_result"
    }
   ],
   "source": [
    "Vs = Vll/(3**0.5)\n",
    "Vs"
   ]
  },
  {
   "cell_type": "code",
   "execution_count": 18,
   "metadata": {},
   "outputs": [
    {
     "name": "stdout",
     "output_type": "stream",
     "text": [
      "230.4829214923834 /__ -34.7141315887844 deg\n"
     ]
    }
   ],
   "source": [
    "R = R1 + parallel([R2,R3])\n",
    "Is = Vs/R\n",
    "print_polar(Is)"
   ]
  },
  {
   "cell_type": "code",
   "execution_count": 19,
   "metadata": {},
   "outputs": [
    {
     "data": {
      "text/plain": [
       "(0.8236341346410105+0.5706119076808271j)"
      ]
     },
     "execution_count": 19,
     "metadata": {},
     "output_type": "execute_result"
    }
   ],
   "source": [
    "R"
   ]
  },
  {
   "cell_type": "code",
   "execution_count": 20,
   "metadata": {},
   "outputs": [
    {
     "data": {
      "text/plain": [
       "0.65"
      ]
     },
     "execution_count": 20,
     "metadata": {},
     "output_type": "execute_result"
    }
   ],
   "source": [
    "Zp_r = Rp_r + r*Rp_r\n",
    "Zp_r"
   ]
  },
  {
   "cell_type": "code",
   "execution_count": 21,
   "metadata": {},
   "outputs": [
    {
     "name": "stdout",
     "output_type": "stream",
     "text": [
      "161.61956960819123 /__ -7.5063194374553 deg\n"
     ]
    }
   ],
   "source": [
    "Ip_r = (parallel([R2,R3])/R)*Vs\n",
    "print_polar(Ip_r)"
   ]
  },
  {
   "cell_type": "code",
   "execution_count": 22,
   "metadata": {},
   "outputs": [
    {
     "data": {
      "text/plain": [
       "1000.0"
      ]
     },
     "execution_count": 22,
     "metadata": {},
     "output_type": "execute_result"
    }
   ],
   "source": [
    "ns"
   ]
  },
  {
   "cell_type": "code",
   "execution_count": 24,
   "metadata": {},
   "outputs": [
    {
     "data": {
      "text/plain": [
       "12.0"
      ]
     },
     "execution_count": 24,
     "metadata": {},
     "output_type": "execute_result"
    }
   ],
   "source": [
    "s*100"
   ]
  },
  {
   "cell_type": "code",
   "execution_count": 37,
   "metadata": {},
   "outputs": [
    {
     "name": "stdout",
     "output_type": "stream",
     "text": [
      "1.0019836011297785 /__ 34.7141315887844 deg\n",
      "pf: 0.8220036073567756\n",
      "131260.209277666 /__ 0.0 deg\n"
     ]
    }
   ],
   "source": [
    "print_polar(R)\n",
    "pf = np.cos(math.radians(34.7141315887844))###from above\n",
    "print('pf:',pf)\n",
    "P_in = Z_magnitude(3*Vs*230.4829214923834*pf)\n",
    "print_polar(P_in)"
   ]
  },
  {
   "cell_type": "code",
   "execution_count": 38,
   "metadata": {},
   "outputs": [
    {
     "name": "stdout",
     "output_type": "stream",
     "text": [
      "31873.42625979851 /__ 0.0 deg\n"
     ]
    }
   ],
   "source": [
    "Ps =  Z_magnitude(3*R_s*Is**2)\n",
    "print_polar(Ps)"
   ]
  },
  {
   "cell_type": "code",
   "execution_count": 39,
   "metadata": {},
   "outputs": [
    {
     "name": "stdout",
     "output_type": "stream",
     "text": [
      "6112.287155598851 /__ 0.0 deg\n"
     ]
    }
   ],
   "source": [
    "Pr =  Z_magnitude(3*Rp_r*Ip_r**2)\n",
    "print_polar(Pr)"
   ]
  },
  {
   "cell_type": "code",
   "execution_count": 40,
   "metadata": {},
   "outputs": [
    {
     "name": "stdout",
     "output_type": "stream",
     "text": [
      "50935.7262966571 /__ 0.0 deg\n"
     ]
    }
   ],
   "source": [
    "Pag =  Z_magnitude(3*(1/s)*Rp_r*Ip_r**2)\n",
    "print_polar(Pag)"
   ]
  },
  {
   "cell_type": "code",
   "execution_count": 41,
   "metadata": {},
   "outputs": [
    {
     "name": "stdout",
     "output_type": "stream",
     "text": [
      "44823.43914105825 /__ 0.0 deg\n"
     ]
    }
   ],
   "source": [
    "Pdev =  Z_magnitude((1-s)*Pag)\n",
    "print_polar(Pdev)"
   ]
  },
  {
   "cell_type": "code",
   "execution_count": 43,
   "metadata": {},
   "outputs": [
    {
     "name": "stdout",
     "output_type": "stream",
     "text": [
      "42423.43914105825\n"
     ]
    }
   ],
   "source": [
    "Pout = Pdev - 2400\n",
    "print(Pout)"
   ]
  },
  {
   "cell_type": "code",
   "execution_count": 44,
   "metadata": {},
   "outputs": [
    {
     "name": "stdout",
     "output_type": "stream",
     "text": [
      "460.3568210630189\n"
     ]
    }
   ],
   "source": [
    "Tout = Pout/(nm*(2*np.pi/60))\n",
    "print(Tout)"
   ]
  },
  {
   "cell_type": "code",
   "execution_count": 46,
   "metadata": {},
   "outputs": [
    {
     "name": "stdout",
     "output_type": "stream",
     "text": [
      "32.32010627936476\n"
     ]
    }
   ],
   "source": [
    "n_eff = 100*Pout/P_in\n",
    "print(n_eff)"
   ]
  },
  {
   "cell_type": "code",
   "execution_count": null,
   "metadata": {},
   "outputs": [],
   "source": []
  }
 ],
 "metadata": {
  "interpreter": {
   "hash": "63fd5069d213b44bf678585dea6b12cceca9941eaf7f819626cde1f2670de90d"
  },
  "kernelspec": {
   "display_name": "Python 3.9.6 64-bit",
   "language": "python",
   "name": "python3"
  },
  "language_info": {
   "codemirror_mode": {
    "name": "ipython",
    "version": 3
   },
   "file_extension": ".py",
   "mimetype": "text/x-python",
   "name": "python",
   "nbconvert_exporter": "python",
   "pygments_lexer": "ipython3",
   "version": "3.9.6"
  },
  "orig_nbformat": 4
 },
 "nbformat": 4,
 "nbformat_minor": 2
}
