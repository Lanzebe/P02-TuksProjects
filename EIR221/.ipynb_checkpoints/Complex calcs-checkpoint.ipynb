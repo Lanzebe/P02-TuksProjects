{
 "cells": [
  {
   "cell_type": "markdown",
   "metadata": {},
   "source": [
    "## Conversion of complex numbers"
   ]
  },
  {
   "cell_type": "code",
   "execution_count": 3,
   "metadata": {},
   "outputs": [
    {
     "name": "stdout",
     "output_type": "stream",
     "text": [
      "A = 5.385164807134504 \n",
      "Thetha [rad] = 0.3805063771123649  | Thetha [degrees] = 21.80140948635181\n",
      "polar = 5.385164807134504*e^(j*0.3805063771123649)\n",
      "\n",
      "polar = 5.385 /_21.801deg\n"
     ]
    }
   ],
   "source": [
    "# Complex to Exponential-> A*e^j*theta\n",
    "HM_rectangular = 5+2j \n",
    "\n",
    "#\n",
    "import math, cmath, numpy\n",
    "A,theta = cmath.polar(HM_rectangular) ; print('A =',A,'\\nThetha [rad] =',theta,' | Thetha [degrees] =',math.degrees(theta))\n",
    "print(\"polar = {}*e^(j*{})\".format(A,theta))\n",
    "print('\\npolar = {} /_{}deg'.format(numpy.round(A,3),numpy.round(math.degrees(theta),3)))"
   ]
  },
  {
   "cell_type": "code",
   "execution_count": 4,
   "metadata": {},
   "outputs": [
    {
     "name": "stdout",
     "output_type": "stream",
     "text": [
      "polar = 5.38*e^(j*0.38048177693476387)\n",
      "polar = 5.38 /_21.8deg\n",
      "\n",
      "Rectangular = (4.995253748619315+1.9979589552602635j)\n"
     ]
    }
   ],
   "source": [
    "# Exponential to complex\n",
    "A  = 5.38\n",
    "# theta = 0.38 # radians\n",
    "theta = math.radians(21.8) # conversion of degrees to rad\n",
    "\n",
    "#\n",
    "print(\"polar = {}*e^(j*{})\".format(A,theta))\n",
    "print('polar = {} /_{}deg'.format(numpy.round(A,3),numpy.round(math.degrees(theta),3)))\n",
    "HM_polar = A*cmath.exp(1j*theta)\n",
    "print(\"\\nRectangular =\",HM_polar)"
   ]
  },
  {
   "cell_type": "code",
   "execution_count": null,
   "metadata": {},
   "outputs": [],
   "source": []
  },
  {
   "cell_type": "markdown",
   "metadata": {},
   "source": [
    "## Simultaneous eq solver"
   ]
  },
  {
   "cell_type": "markdown",
   "metadata": {},
   "source": [
    "### Cramer's rule: 2x2"
   ]
  },
  {
   "cell_type": "code",
   "execution_count": 103,
   "metadata": {},
   "outputs": [
    {
     "name": "stdout",
     "output_type": "stream",
     "text": [
      "A =\n",
      " [[ 1.+1.5j  0.+2.5j]\n",
      " [11.+0.j  15.+0.j ]] \n",
      "B =\n",
      " [[20]\n",
      " [ 0]]\n",
      "C1 =\n",
      " [[20.+0.j   0.+2.5j]\n",
      " [ 0.+0.j  15.+0.j ]] \n",
      "C2 =\n",
      " [[ 1.+1.5j 20.+0.j ]\n",
      " [11.+0.j   0.+0.j ]]\n",
      "det A = (15-5j)\n",
      "det_C1 = (300+0j)\n",
      "det_C2 = (-220+0j)\n",
      "\n",
      "x1 = (18+6j) \n",
      "x2 = (-13.2-4.4j)\n",
      "\n",
      "x1 = 18.974 /_18.435deg\n",
      "x2 = 13.914 /_-161.565deg\n",
      "\n",
      "CHECKING:\n",
      "x1 = (18+5.999999999999999j) \n",
      "x2 = (-13.2-4.3999999999999995j)\n"
     ]
    }
   ],
   "source": [
    "# AX = B\n",
    "A = np.array([[1+1.5j,2.5j],\n",
    "              [11,15]])\n",
    "\n",
    "B = np.array([[20],\n",
    "              [0]])\n",
    "\n",
    "import numpy as np\n",
    "def cramer_solve2(A,B):\n",
    "    C1 = np.array(A,copy=True)\n",
    "    C2 = np.array(A,copy=True)\n",
    "    print('A =\\n',A,'\\nB =\\n',B)\n",
    "    for i in range(0,len(A)):\n",
    "        C1[i,0] = B[i,0] \n",
    "        C2[i,1] = B[i,0]\n",
    "    print('C1 =\\n',C1,'\\nC2 =\\n',C2)\n",
    "    det_A = np.linalg.det(A)\n",
    "    print('det A =',np.round(det_A,3))\n",
    "    det_C1 = np.linalg.det(C1)\n",
    "    print('det_C1 =',np.round(det_C1,3))\n",
    "    det_C2 = np.linalg.det(C2)\n",
    "    print('det_C2 =',np.round(det_C2,3))\n",
    "    print('\\nx1 = {} \\nx2 = {}'.format(np.round(det_C1/det_A,3),np.round(det_C2/det_A,3)))\n",
    "    import math, cmath\n",
    "    A1,theta1 =cmath.polar(det_C1/det_A)\n",
    "    print('\\nx1 = {} /_{}deg'.format(np.round(A1,3),np.round(math.degrees(theta1),3)))\n",
    "    A2,theta2 =cmath.polar(det_C2/det_A)\n",
    "    print('x2 = {} /_{}deg'.format(np.round(A2,3),np.round(math.degrees(theta2),3)))\n",
    "\n",
    "cramer_solve2(A,B)\n",
    "\n",
    "print(\"\\nCHECKING:\")\n",
    "x1,x2 = np.linalg.solve(A,B)\n",
    "print('x1 = {} \\nx2 = {}'.format(x1[0],x2[0]))"
   ]
  },
  {
   "cell_type": "markdown",
   "metadata": {},
   "source": [
    "### Cramer's rule: 3x3"
   ]
  },
  {
   "cell_type": "code",
   "execution_count": 105,
   "metadata": {},
   "outputs": [
    {
     "name": "stdout",
     "output_type": "stream",
     "text": [
      "A =\n",
      " [[  1.+1.5j   0.+2.5j -20.+0.j ]\n",
      " [ -5.+0.j   10.+0.j   -4.+0.j ]\n",
      " [ -5.+0.j   -4.+0.j    9.+0.j ]] \n",
      "B =\n",
      " [[50]\n",
      " [ 0]\n",
      " [ 0]]\n",
      "C1 =\n",
      " [[ 50.+0.j    0.+2.5j -20.+0.j ]\n",
      " [  0.+0.j   10.+0.j   -4.+0.j ]\n",
      " [  0.+0.j   -4.+0.j    9.+0.j ]] \n",
      "C2 =\n",
      " [[  1.+1.5j  50.+0.j  -20.+0.j ]\n",
      " [ -5.+0.j    0.+0.j   -4.+0.j ]\n",
      " [ -5.+0.j    0.+0.j    9.+0.j ]] \n",
      "C3 =\n",
      " [[ 1.+1.5j  0.+2.5j 50.+0.j ]\n",
      " [-5.+0.j  10.+0.j   0.+0.j ]\n",
      " [-5.+0.j  -4.+0.j   0.+0.j ]]\n",
      "det A = (-1326+273.5j)\n",
      "det_C1 = (3700+0j)\n",
      "det_C2 = (3250+0j)\n",
      "det_C3 = (3500+0j)\n",
      "\n",
      "x1 = (-2.676-0.552j) \n",
      "x2 = (-2.351-0.485j) \n",
      "x3 = (-2.532-0.522j)\n",
      "\n",
      "x1 = 2.733 /_-168.346deg\n",
      "x2 = 2.4 /_-168.346deg\n",
      "x3 = 2.4 /_-168.346deg\n",
      "\n",
      "CHECKING:\n",
      "x1 = (-2.6764814868105056-0.5520495374379132j) \n",
      "x2 = (-2.350963468144363-0.4849083774792482j) \n",
      "x3 = (-2.5318068118477757-0.5222090219007289j)\n"
     ]
    }
   ],
   "source": [
    "# AX = B\n",
    "A = np.array([[1+1.5j,2.5j,-20],\n",
    "              [-5,10,-4],\n",
    "              [-5,-4,9]])\n",
    "\n",
    "B = np.array([[50],\n",
    "              [0],\n",
    "              [0]])\n",
    "\n",
    "\n",
    "import numpy as np\n",
    "def cramer_solve3(A,B):\n",
    "    C1 = np.array(A,copy=True)\n",
    "    C2 = np.array(A,copy=True)\n",
    "    C3 = np.array(A,copy=True)\n",
    "    print('A =\\n',A,'\\nB =\\n',B)\n",
    "    for i in range(0,len(A)):\n",
    "        C1[i,0] = B[i,0] \n",
    "        C2[i,1] = B[i,0]\n",
    "        C3[i,2] = B[i,0]\n",
    "    print('C1 =\\n',C1,'\\nC2 =\\n',C2,'\\nC3 =\\n',C3)\n",
    "    det_A = np.linalg.det(A)\n",
    "    print('det A =',np.round(det_A,3))\n",
    "    det_C1 = np.linalg.det(C1)\n",
    "    print('det_C1 =',np.round(det_C1,3))\n",
    "    det_C2 = np.linalg.det(C2)\n",
    "    print('det_C2 =',np.round(det_C2,3))\n",
    "    det_C3 = np.linalg.det(C3)\n",
    "    print('det_C3 =',np.round(det_C3,3))\n",
    "    print('\\nx1 = {} \\nx2 = {} \\nx3 = {}'.format(np.round(det_C1/det_A,3),np.round(det_C2/det_A,3),np.round(det_C3/det_A,3)))\n",
    "    import math, cmath\n",
    "    A1,theta1 =cmath.polar(det_C1/det_A)\n",
    "    print('\\nx1 = {} /_{}deg'.format(np.round(A1,3),np.round(math.degrees(theta1),3)))\n",
    "    A2,theta2 =cmath.polar(det_C2/det_A)\n",
    "    print('x2 = {} /_{}deg'.format(np.round(A2,3),np.round(math.degrees(theta2),3)))\n",
    "    A3,theta3 =cmath.polar(det_C2/det_A)\n",
    "    print('x3 = {} /_{}deg'.format(np.round(A3,3),np.round(math.degrees(theta3),3)))\n",
    "\n",
    "\n",
    "cramer_solve3(A,B)\n",
    "\n",
    "print(\"\\nCHECKING:\")\n",
    "x1,x2,x3 = np.linalg.solve(A,B)\n",
    "print('x1 = {} \\nx2 = {} \\nx3 = {}'.format(x1[0],x2[0],x3[0]))"
   ]
  },
  {
   "cell_type": "code",
   "execution_count": null,
   "metadata": {},
   "outputs": [],
   "source": []
  },
  {
   "cell_type": "code",
   "execution_count": null,
   "metadata": {},
   "outputs": [],
   "source": []
  }
 ],
 "metadata": {
  "kernelspec": {
   "display_name": "Python 3 (ipykernel)",
   "language": "python",
   "name": "python3"
  },
  "language_info": {
   "codemirror_mode": {
    "name": "ipython",
    "version": 3
   },
   "file_extension": ".py",
   "mimetype": "text/x-python",
   "name": "python",
   "nbconvert_exporter": "python",
   "pygments_lexer": "ipython3",
   "version": "3.9.6"
  }
 },
 "nbformat": 4,
 "nbformat_minor": 4
}
