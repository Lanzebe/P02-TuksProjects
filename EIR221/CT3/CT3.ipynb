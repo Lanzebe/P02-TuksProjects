{
 "cells": [
  {
   "cell_type": "code",
   "execution_count": 1,
   "metadata": {},
   "outputs": [],
   "source": [
    "import cmath\n",
    "import numpy as np\n",
    "import math\n",
    "\n",
    "def print_polar(n):\n",
    "    print(cmath.polar(n)[0],'/__',360*cmath.polar(n)[1]/(2*cmath.pi),'deg')\n",
    "\n",
    "def parallel(Zlist):\n",
    "    ans = 0\n",
    "    for i in Zlist:\n",
    "        ans = ans + i**-1\n",
    "    return ans**-1\n",
    "\n",
    "def ComplexPolar(z,thetaDeg):\n",
    "    return z*np.cos(math.radians(thetaDeg)) + z*np.sin(math.radians(thetaDeg))*1j\n",
    "\n",
    "def Z_magnitude(n):\n",
    "    return cmath.polar(n)[0]\n",
    "\n",
    "def ComplexConjugate(N):\n",
    "    return N.real - N.imag*1j"
   ]
  },
  {
   "cell_type": "code",
   "execution_count": 2,
   "metadata": {},
   "outputs": [
    {
     "name": "stdout",
     "output_type": "stream",
     "text": [
      "293.3333333333333 /__ 0.0 deg\n",
      "293.3333333333333 /__ 0.0 deg\n"
     ]
    }
   ],
   "source": [
    "Vs = 400\n",
    "N1 = 150\n",
    "N2 = 110\n",
    "N3 = 110\n",
    "R2 = 5\n",
    "R3 = 12\n",
    "\n",
    "V = ComplexPolar(Vs,0)\n",
    "\n",
    "V2 = V*(N2/N1)\n",
    "V3 = V*(N3/N1)\n",
    "print_polar(V2)\n",
    "print_polar(V3)"
   ]
  },
  {
   "cell_type": "code",
   "execution_count": 3,
   "metadata": {},
   "outputs": [
    {
     "name": "stdout",
     "output_type": "stream",
     "text": [
      "(58.666666666666664+0j)\n",
      "(24.444444444444443+0j)\n"
     ]
    }
   ],
   "source": [
    "I2 = V2/R2\n",
    "I3 = V3/R3\n",
    "\n",
    "print(I2)\n",
    "print(I3)"
   ]
  },
  {
   "cell_type": "code",
   "execution_count": 5,
   "metadata": {},
   "outputs": [
    {
     "name": "stdout",
     "output_type": "stream",
     "text": [
      "(83.11111111111111+0j)\n"
     ]
    }
   ],
   "source": [
    "I1 = (N2/N3)*(I2+I3)\n",
    "print(I1)"
   ]
  },
  {
   "cell_type": "code",
   "execution_count": 6,
   "metadata": {},
   "outputs": [
    {
     "name": "stdout",
     "output_type": "stream",
     "text": [
      "(7170.3703703703695+0j)\n"
     ]
    }
   ],
   "source": [
    "P3 = I3*V3\n",
    "print(P3)"
   ]
  },
  {
   "cell_type": "code",
   "execution_count": null,
   "metadata": {},
   "outputs": [],
   "source": [
    "# Q2"
   ]
  },
  {
   "cell_type": "code",
   "execution_count": null,
   "metadata": {},
   "outputs": [],
   "source": [
    "Vs = ComplexPolar(7000,0)\n",
    "Is = 0.35\n",
    "P = 300\n",
    "S = 30 000\n",
    "X = 120 ##hz\n",
    "\n",
    "w = 120*2*np.pi"
   ]
  },
  {
   "cell_type": "code",
   "execution_count": null,
   "metadata": {},
   "outputs": [],
   "source": [
    "## Q3"
   ]
  },
  {
   "cell_type": "code",
   "execution_count": 7,
   "metadata": {},
   "outputs": [],
   "source": [
    "P = 4\n",
    "Vs = ComplexPolar(350,0)\n",
    "Rs = 2.2\n",
    "Xs = 0.8\n",
    "Xm = 55\n",
    "Rpr = 0.6\n",
    "Xpr = 0.9\n",
    "\n",
    "\n",
    "f = 60\n",
    "\n",
    "\n",
    "ns = 120*f/P\n",
    "\n"
   ]
  },
  {
   "cell_type": "code",
   "execution_count": 8,
   "metadata": {},
   "outputs": [
    {
     "name": "stdout",
     "output_type": "stream",
     "text": [
      "1800.0\n"
     ]
    }
   ],
   "source": [
    "f = 60\n",
    "ns = 120*f/P\n",
    "\n",
    "print(ns)"
   ]
  },
  {
   "cell_type": "code",
   "execution_count": 10,
   "metadata": {},
   "outputs": [
    {
     "name": "stdout",
     "output_type": "stream",
     "text": [
      "0.0\n"
     ]
    }
   ],
   "source": [
    "nm = ns\n",
    "\n",
    "s = (ns-nm)/ns\n",
    "\n",
    "print(s)"
   ]
  },
  {
   "cell_type": "code",
   "execution_count": 12,
   "metadata": {},
   "outputs": [
    {
     "name": "stdout",
     "output_type": "stream",
     "text": [
      "(2.2+0.8j) 55j (0.6+0.9j)\n"
     ]
    }
   ],
   "source": [
    "r = 0\n",
    "\n",
    "\n",
    "Z1 = Rs + Xs*(1j)\n",
    "Z2 = Xm*(1j)\n",
    "Z3 = Rpr + (Xpr + r*Rpr)*(1j)\n",
    "\n",
    "print(Z1,Z2,Z3)"
   ]
  },
  {
   "cell_type": "code",
   "execution_count": 14,
   "metadata": {},
   "outputs": [
    {
     "name": "stdout",
     "output_type": "stream",
     "text": [
      "(2.7807684061987032+1.6917434891541903j)\n"
     ]
    }
   ],
   "source": [
    "Ztot = Z1 + parallel([Z2,Z3])\n",
    "print(Ztot)"
   ]
  },
  {
   "cell_type": "code",
   "execution_count": 15,
   "metadata": {},
   "outputs": [
    {
     "name": "stdout",
     "output_type": "stream",
     "text": [
      "1.0\n"
     ]
    }
   ],
   "source": [
    "S = Z_magnitude(Vs)*Z_magnitude(Vs/Ztot)\n",
    "P = S.real\n",
    "pf = P/S\n",
    "print(pf)"
   ]
  },
  {
   "cell_type": "code",
   "execution_count": 16,
   "metadata": {},
   "outputs": [
    {
     "name": "stdout",
     "output_type": "stream",
     "text": [
      "186.24515166092124 /__ -31.315188123732035 deg\n"
     ]
    }
   ],
   "source": [
    "Ip = Vs/Ztot\n",
    "Iline = Ip*3**0.5\n",
    "print_polar(Iline)"
   ]
  },
  {
   "cell_type": "code",
   "execution_count": 17,
   "metadata": {},
   "outputs": [
    {
     "name": "stdout",
     "output_type": "stream",
     "text": [
      "114.43085573342839 /__ 25.609702268429 deg\n"
     ]
    }
   ],
   "source": [
    "V1 = Ip*Z1\n",
    "\n",
    "Vx = Vs-V1\n",
    "\n",
    "print_polar(Vx)"
   ]
  },
  {
   "cell_type": "code",
   "execution_count": 18,
   "metadata": {},
   "outputs": [
    {
     "name": "stdout",
     "output_type": "stream",
     "text": [
      "(35082.82541980265-67769.54523724697j)\n"
     ]
    }
   ],
   "source": [
    "Ps = 3*Rs*Ip**2\n",
    "print(Ps)"
   ]
  },
  {
   "cell_type": "code",
   "execution_count": null,
   "metadata": {},
   "outputs": [],
   "source": []
  }
 ],
 "metadata": {
  "interpreter": {
   "hash": "b0d877fd5326eabdec7294d85196f572791c8fccbbd1b2db4b2baf685ab06f05"
  },
  "kernelspec": {
   "display_name": "Python 3.9.6 64-bit ('env': venv)",
   "language": "python",
   "name": "python3"
  },
  "language_info": {
   "codemirror_mode": {
    "name": "ipython",
    "version": 3
   },
   "file_extension": ".py",
   "mimetype": "text/x-python",
   "name": "python",
   "nbconvert_exporter": "python",
   "pygments_lexer": "ipython3",
   "version": "3.9.6"
  },
  "orig_nbformat": 4
 },
 "nbformat": 4,
 "nbformat_minor": 2
}
