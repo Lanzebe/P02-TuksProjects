{
 "cells": [
  {
   "cell_type": "code",
   "execution_count": 1,
   "metadata": {},
   "outputs": [],
   "source": [
    "import cmath\n",
    "import numpy as np\n",
    "import math\n",
    "import sys\n",
    "import sympy as sp\n",
    "sys.path.append(r'E:\\OneDrive\\ENGINEERING\\01-ENGINEERING TOOLS\\engineering_library')\n",
    "from LSODESolver import *\n",
    "\n",
    "def print_polar(n):\n",
    "    print(cmath.polar(n)[0],'/__',360*cmath.polar(n)[1]/(2*cmath.pi),'deg')\n",
    "\n",
    "def AngleDegrees(n):\n",
    "    return 360*cmath.polar(n)[1]/(2*cmath.pi)\n",
    "\n",
    "def parallel(Zlist):\n",
    "    ans = 0\n",
    "    for i in Zlist:\n",
    "        ans = ans + i**-1\n",
    "    return ans**-1\n",
    "\n",
    "def ComplexPolar(z,thetaDeg):\n",
    "    return z*np.cos(math.radians(thetaDeg)) + z*np.sin(math.radians(thetaDeg))*1j\n",
    "\n",
    "def Z_magnitude(n):\n",
    "    return cmath.polar(n)[0]\n",
    "\n",
    "def ComplexConjugate(N):\n",
    "    return N.real - N.imag*1j"
   ]
  },
  {
   "cell_type": "markdown",
   "metadata": {},
   "source": [
    "# Q1"
   ]
  },
  {
   "cell_type": "code",
   "execution_count": 2,
   "metadata": {},
   "outputs": [],
   "source": [
    "Vs = 50\n",
    "R1 = 15\n",
    "L = 2"
   ]
  },
  {
   "cell_type": "code",
   "execution_count": 5,
   "metadata": {},
   "outputs": [
    {
     "name": "stdout",
     "output_type": "stream",
     "text": [
      "1.8181818181818183\n"
     ]
    }
   ],
   "source": [
    "Ra = parallel([5,10])\n",
    "V1 = Vs*Ra/(15+Ra)\n",
    "Iinf = V1/5\n",
    "print(Iinf)"
   ]
  },
  {
   "cell_type": "code",
   "execution_count": 8,
   "metadata": {},
   "outputs": [
    {
     "name": "stdout",
     "output_type": "stream",
     "text": [
      "1.8181818181818183\n",
      "1.0909090909090908\n",
      "0.1818181818181818\n"
     ]
    }
   ],
   "source": [
    "k1 = Iinf\n",
    "k2 = 32/11 - k1\n",
    "tau = -k2/(-6)\n",
    "\n",
    "print(k1)\n",
    "print(k2)\n",
    "print(tau)"
   ]
  },
  {
   "cell_type": "code",
   "execution_count": 9,
   "metadata": {},
   "outputs": [
    {
     "data": {
      "text/plain": [
       "2.909090909090909"
      ]
     },
     "execution_count": 9,
     "metadata": {},
     "output_type": "execute_result"
    }
   ],
   "source": [
    "k1 + k2"
   ]
  },
  {
   "cell_type": "markdown",
   "metadata": {},
   "source": [
    "# Q2"
   ]
  },
  {
   "cell_type": "code",
   "execution_count": 10,
   "metadata": {},
   "outputs": [],
   "source": [
    "Is = 10\n",
    "R = 15\n",
    "L = 10\n",
    "C = 3"
   ]
  },
  {
   "cell_type": "code",
   "execution_count": 11,
   "metadata": {},
   "outputs": [
    {
     "name": "stderr",
     "output_type": "stream",
     "text": [
      "No handles with labels found to put in legend.\n"
     ]
    },
    {
     "name": "stdout",
     "output_type": "stream",
     "text": [
      "root1: -0.022321875446915662\n",
      "root2: -4.977678124553084\n",
      "Over dammped\n",
      "Solution to the differential equation:\n",
      "0.0 + 0.33633639699815626 e^( -0.022321875446915662 x )  +  -0.33633639699815626 e^( -4.977678124553084 x )\n"
     ]
    },
    {
     "data": {
      "image/png": "[encoded data removed]",
      "text/plain": [
       "<Figure size 432x288 with 1 Axes>"
      ]
     },
     "metadata": {
      "needs_background": "light"
     },
     "output_type": "display_data"
    }
   ],
   "source": [
    "Q2 = LSODECC(3,15,1/3,0)\n",
    "Q2.initial_conditions([0,0],[0,5/3])\n",
    "Q2.plot(0,10)"
   ]
  },
  {
   "cell_type": "code",
   "execution_count": 13,
   "metadata": {},
   "outputs": [
    {
     "data": {
      "text/latex": [
       "$\\displaystyle - 0.336336396998156 e^{- 4.97767812455308 x} + 0.336336396998156 e^{- 0.0223218754469157 x}$"
      ],
      "text/plain": [
       "-0.336336396998156*exp(-4.97767812455308*x) + 0.336336396998156*exp(-0.0223218754469157*x)"
      ]
     },
     "metadata": {},
     "output_type": "display_data"
    }
   ],
   "source": [
    "x = sp.symbols('x')\n",
    "Vc = 0.33633639699815626 * sp.exp( -0.022321875446915662 * x )  +  -0.33633639699815626 * sp.exp( -4.977678124553084 * x )\n",
    "Vcp = Vc.diff(x)\n",
    "display(Vc)"
   ]
  },
  {
   "cell_type": "code",
   "execution_count": 14,
   "metadata": {},
   "outputs": [
    {
     "data": {
      "text/latex": [
       "$\\displaystyle 10 - 5.02252297748617 e^{- 4.97767812455308 x} + 0.0225229774861717 e^{- 0.0223218754469157 x}$"
      ],
      "text/plain": [
       "10 - 5.02252297748617*exp(-4.97767812455308*x) + 0.0225229774861717*exp(-0.0223218754469157*x)"
      ]
     },
     "metadata": {},
     "output_type": "display_data"
    }
   ],
   "source": [
    "Il = 10-3*Vcp\n",
    "display(Il)"
   ]
  },
  {
   "cell_type": "markdown",
   "metadata": {},
   "source": [
    "# Q3"
   ]
  },
  {
   "cell_type": "code",
   "execution_count": 15,
   "metadata": {},
   "outputs": [],
   "source": [
    "I0 = 10\n",
    "R = 30\n",
    "k = 3"
   ]
  },
  {
   "cell_type": "code",
   "execution_count": 25,
   "metadata": {},
   "outputs": [
    {
     "name": "stdout",
     "output_type": "stream",
     "text": [
      "[[ 0.23333333+0.j  -0.8       +0.2j]\n",
      " [-0.2       -0.2j  0.8       +0.j ]]\n",
      "[ -7.31707317+65.85365854j -18.29268293+14.63414634j]\n"
     ]
    }
   ],
   "source": [
    "k11 = 1/30 + 1/(-5*(1j)) + 1/(5*(1j)) + 0.2\n",
    "k12 = -1/(5*(1j)) - 0.8\n",
    "k21 = -0.2 - 1/(-5*(1j)) \n",
    "k22 = 0.8 + 1/(5*(1j)) + 1/(-5*(1j))\n",
    "\n",
    "K = np.array([[k11,k12],[k21,k22]])\n",
    "B = np.array([ComplexPolar(I0,0),0])\n",
    "\n",
    "print(K)\n",
    "\n",
    "Ans = np.linalg.solve(K,B)\n",
    "print(Ans)"
   ]
  },
  {
   "cell_type": "code",
   "execution_count": 19,
   "metadata": {},
   "outputs": [
    {
     "name": "stdout",
     "output_type": "stream",
     "text": [
      "66.25891564490793 /__ 96.3401917459099 deg\n",
      "23.426064283290913 /__ 141.3401917459099 deg\n"
     ]
    }
   ],
   "source": [
    "V1 = Ans[0]\n",
    "Vx = Ans[1]\n",
    "\n",
    "print_polar(V1)\n",
    "print_polar(Vx)"
   ]
  },
  {
   "cell_type": "code",
   "execution_count": 20,
   "metadata": {},
   "outputs": [
    {
     "name": "stdout",
     "output_type": "stream",
     "text": [
      "2.208630521496931 /__ 96.3401917459099 deg\n"
     ]
    }
   ],
   "source": [
    "I1 = V1/R\n",
    "print_polar(I1)"
   ]
  },
  {
   "cell_type": "code",
   "execution_count": 21,
   "metadata": {},
   "outputs": [
    {
     "name": "stdout",
     "output_type": "stream",
     "text": [
      "4.6852128566581825 /__ -128.6598082540901 deg\n"
     ]
    }
   ],
   "source": [
    "I4 = Vx/(-5*(1j))\n",
    "print_polar(I4)"
   ]
  },
  {
   "cell_type": "code",
   "execution_count": 22,
   "metadata": {},
   "outputs": [
    {
     "name": "stdout",
     "output_type": "stream",
     "text": [
      "13.251783128981588 /__ -173.6598082540901 deg\n"
     ]
    }
   ],
   "source": [
    "I2 = V1/(-5*(1j))\n",
    "print_polar(I2)"
   ]
  },
  {
   "cell_type": "code",
   "execution_count": 23,
   "metadata": {},
   "outputs": [
    {
     "name": "stdout",
     "output_type": "stream",
     "text": [
      "13.251783128981588 /__ 6.3401917459099 deg\n"
     ]
    }
   ],
   "source": [
    "I3 = (V1-4*Vx)/(5)\n",
    "print_polar(I3)"
   ]
  },
  {
   "cell_type": "code",
   "execution_count": 24,
   "metadata": {},
   "outputs": [
    {
     "name": "stdout",
     "output_type": "stream",
     "text": [
      "10.476454436543674 /__ -12.094757077012108 deg\n"
     ]
    }
   ],
   "source": [
    "I1x = (V1-Vx)/(5*(1j))\n",
    "print_polar(I1x)"
   ]
  },
  {
   "cell_type": "markdown",
   "metadata": {},
   "source": [
    "## finding resistance"
   ]
  },
  {
   "cell_type": "code",
   "execution_count": 26,
   "metadata": {},
   "outputs": [
    {
     "name": "stdout",
     "output_type": "stream",
     "text": [
      "(43.71428571428571+0j)\n"
     ]
    }
   ],
   "source": [
    "V1p = (30/7)*(ComplexPolar(10,0)+ComplexPolar(0.2,0))\n",
    "print(V1p)"
   ]
  },
  {
   "cell_type": "code",
   "execution_count": 27,
   "metadata": {},
   "outputs": [
    {
     "name": "stdout",
     "output_type": "stream",
     "text": [
      "12.223663901779755 /__ 134.337103205218 deg\n"
     ]
    }
   ],
   "source": [
    "i = 1/(-5*(1j)) + ((1-V1p)/(5*(1j))) + ((1-V1p)/(5))\n",
    "print_polar(i)"
   ]
  },
  {
   "cell_type": "code",
   "execution_count": 28,
   "metadata": {},
   "outputs": [
    {
     "name": "stdout",
     "output_type": "stream",
     "text": [
      "0.08180853204368624 /__ -134.337103205218 deg\n"
     ]
    }
   ],
   "source": [
    "Zth = 1/i\n",
    "print_polar(Zth)"
   ]
  },
  {
   "cell_type": "code",
   "execution_count": 29,
   "metadata": {},
   "outputs": [
    {
     "name": "stdout",
     "output_type": "stream",
     "text": [
      "286.35233634043516 /__ -84.32270504887211 deg\n"
     ]
    }
   ],
   "source": [
    "In = Vx/Zth\n",
    "print_polar(In)"
   ]
  },
  {
   "cell_type": "markdown",
   "metadata": {},
   "source": [
    "# Q4"
   ]
  },
  {
   "cell_type": "code",
   "execution_count": 30,
   "metadata": {},
   "outputs": [],
   "source": [
    "Vp = 200\n",
    "theta = 10\n",
    "Rl = 30\n",
    "Xl = 5\n",
    "Rd = 25\n",
    "Xd = -20"
   ]
  },
  {
   "cell_type": "code",
   "execution_count": 32,
   "metadata": {},
   "outputs": [],
   "source": [
    "Van = ComplexPolar(Vp,theta)\n",
    "Zl = Rl + Xl*(1j)\n",
    "Zd = Rd + Xd*(1j)"
   ]
  },
  {
   "cell_type": "code",
   "execution_count": 34,
   "metadata": {},
   "outputs": [
    {
     "name": "stdout",
     "output_type": "stream",
     "text": [
      "346.41016151377545 /__ 29.999999999999996 deg\n",
      "346.4101615137754 /__ -90.0 deg\n"
     ]
    }
   ],
   "source": [
    "Vab = (3**0.5)*Vp*ComplexPolar(1,30)\n",
    "Vbc = Vab*ComplexPolar(1,-120)\n",
    "print_polar(Vab)\n",
    "print_polar(Vbc)"
   ]
  },
  {
   "cell_type": "code",
   "execution_count": 36,
   "metadata": {},
   "outputs": [
    {
     "name": "stdout",
     "output_type": "stream",
     "text": [
      "6.0764362025019985 /__ 45.25511870305777 deg\n"
     ]
    }
   ],
   "source": [
    "Z = Zl+Zd\n",
    "Iab = Vab/Z\n",
    "\n",
    "Ia = Iab*ComplexPolar(3**0.5,-30)\n",
    "print_polar(Iab)"
   ]
  },
  {
   "cell_type": "code",
   "execution_count": 38,
   "metadata": {},
   "outputs": [
    {
     "name": "stdout",
     "output_type": "stream",
     "text": [
      "10.524696231684349 /__ 15.255118703057775 deg\n",
      "10.524696231684349 /__ 135.25511870305778 deg\n"
     ]
    }
   ],
   "source": [
    "print_polar(Ia)\n",
    "Ic = Ia*ComplexPolar(1,+120)\n",
    "print_polar(Ic)"
   ]
  },
  {
   "cell_type": "code",
   "execution_count": 42,
   "metadata": {},
   "outputs": [
    {
     "name": "stdout",
     "output_type": "stream",
     "text": [
      "6314.817739010609 /__ -15.255118703057775 deg\n"
     ]
    }
   ],
   "source": [
    "Sl = 3*(Vab)*ComplexConjugate(Iab)\n",
    "print_polar(Sl)"
   ]
  },
  {
   "cell_type": "code",
   "execution_count": 43,
   "metadata": {},
   "outputs": [
    {
     "name": "stdout",
     "output_type": "stream",
     "text": [
      "10035.446532675418 /__ -5.792796495032157 deg\n"
     ]
    }
   ],
   "source": [
    "Ss = Sl + 3*(Vp**2)/ComplexConjugate(Zl)\n",
    "print_polar(Ss)"
   ]
  },
  {
   "cell_type": "markdown",
   "metadata": {},
   "source": [
    "# Q5"
   ]
  },
  {
   "cell_type": "code",
   "execution_count": 44,
   "metadata": {},
   "outputs": [],
   "source": [
    "x = 0.01\n",
    "w = 0.08\n",
    "h = 0.1\n",
    "lg = 0.001\n",
    "I = 10\n",
    "Wg = 0.2 #J\n",
    "mu_r =  3000"
   ]
  },
  {
   "cell_type": "markdown",
   "metadata": {},
   "source": [
    "# Q6"
   ]
  },
  {
   "cell_type": "code",
   "execution_count": 68,
   "metadata": {},
   "outputs": [],
   "source": [
    "N1 = 50\n",
    "N2 = 30\n",
    "A = 0.25E-4\n",
    "R = 0.04\n",
    "mu_r =  1000\n",
    "i1 = 2\n",
    "i2 = 4"
   ]
  },
  {
   "cell_type": "code",
   "execution_count": 69,
   "metadata": {},
   "outputs": [
    {
     "data": {
      "text/plain": [
       "8000000.000000003"
      ]
     },
     "metadata": {},
     "output_type": "display_data"
    }
   ],
   "source": [
    "l = 2*np.pi*R\n",
    "Rc = l/(mu_r*4*np.pi*(1E-7)*A)\n",
    "\n",
    "\n",
    "display(Rc)\n",
    "\n"
   ]
  },
  {
   "cell_type": "code",
   "execution_count": 70,
   "metadata": {},
   "outputs": [
    {
     "name": "stdout",
     "output_type": "stream",
     "text": [
      "1.0999999999999996\n"
     ]
    }
   ],
   "source": [
    "phi = (i1*N1 + i2*N2)/Rc\n",
    "B = phi/A\n",
    "print(B)"
   ]
  },
  {
   "cell_type": "code",
   "execution_count": 71,
   "metadata": {},
   "outputs": [
    {
     "name": "stdout",
     "output_type": "stream",
     "text": [
      "481.4437028529832\n"
     ]
    }
   ],
   "source": [
    "Wvg = (B**2)/(2*mu_r*4*np.pi*(1E-7))\n",
    "print(Wvg)"
   ]
  },
  {
   "cell_type": "markdown",
   "metadata": {},
   "source": [
    "# Q7"
   ]
  },
  {
   "cell_type": "code",
   "execution_count": 58,
   "metadata": {},
   "outputs": [],
   "source": [
    "Vs = 350\n",
    "nm = 1400\n",
    "Prot = 1200\n",
    "Rs = 1.6\n",
    "Xs = 0.8\n",
    "Xm = 45\n",
    "Rpr = 1.2\n",
    "Xpr = 0.6\n",
    "\n",
    "p = 4\n",
    "f = 50 #hz"
   ]
  },
  {
   "cell_type": "code",
   "execution_count": 64,
   "metadata": {},
   "outputs": [],
   "source": [
    "def parallel(Z1, Z2):\n",
    "    return (1/Z1 + 1/Z2)**(-1)\n",
    "\n",
    "def motor(f, p, V, n_m, P_rot, R_s, X_s, X_m, R_r, X_r):\n",
    "    Z_s = R_s + 1j*X_s\n",
    "    print('Z_s = {} Ohm'.format(Z_s))\n",
    "\n",
    "    n_s = 120*f/p\n",
    "    print('n_s = {} RPM'.format(n_s))\n",
    "\n",
    "    s = (n_s-n_m)/n_s\n",
    "    print('s = {}%'. format(s*100))\n",
    "\n",
    "    Z_r = R_r/s + 1j*X_r\n",
    "    print('Z_r = {} Ohm'.format(Z_r))\n",
    "\n",
    "    Z_tot = Z_s + parallel(1j*X_m, Z_r)\n",
    "    print('Z_tot = {} Ohm'.format(Z_tot))\n",
    "\n",
    "    pf = np.cos(np.angle(Z_tot))\n",
    "    if np.angle(Z_tot) > 0:\n",
    "        print('pf = {}% lag'.format(pf*100))\n",
    "    if np.angle(Z_tot) < 0: \n",
    "        print('pf = {}% lead'.format(pf*100))\n",
    "\n",
    "    V_s = V/np.sqrt(3)\n",
    "    print('V_s = {} V RMS'.format(V_s))\n",
    "\n",
    "    I_s = V_s/Z_tot\n",
    "    print('I_s = {} A'.format(I_s))\n",
    "\n",
    "    I_r = I_s*((1j*X_m)/(1j*X_m + Z_r))\n",
    "    print('I_r = {} A'.format(I_r))\n",
    "\n",
    "    P_in = np.real(3*V_s*np.conj(I_s))\n",
    "    print('P_in = {} W'.format(P_in))\n",
    "\n",
    "    P_Cu_s = 3*np.absolute(I_s)**2*R_s\n",
    "    print('P_Cu_s = {} W'.format(P_Cu_s))\n",
    "\n",
    "    P_Cu_r = 3*np.absolute(I_r)**2*R_r\n",
    "    print('P_Cu_r = {} W'.format(P_Cu_r))\n",
    "\n",
    "    R_dev = (1-s)/s*R_r\n",
    "    print('R_dev = {} Ohm'.format(R_dev))\n",
    "\n",
    "    P_dev = 3*np.absolute(I_r)**2*R_dev\n",
    "    print('P_dev = {} W'.format(P_dev))\n",
    "\n",
    "    P_out = P_dev - P_rot\n",
    "    print('P_out = {} W'.format(P_out))\n",
    "\n",
    "    omega_m = n_m*2*np.pi/60 # rad/s\n",
    "    T_out = P_out/omega_m # Nm\n",
    "    print('T_out = {} Nm'.format(T_out))\n",
    "\n",
    "    n = P_out/P_in\n",
    "    print('efficiency = {}%'.format(n*100))"
   ]
  },
  {
   "cell_type": "code",
   "execution_count": 65,
   "metadata": {},
   "outputs": [
    {
     "name": "stdout",
     "output_type": "stream",
     "text": [
      "Z_s = (1.6+0.8j) Ohm\n",
      "n_s = 1500.0 RPM\n",
      "s = 6.666666666666667%\n",
      "Z_r = (18+0.6j) Ohm\n",
      "Z_tot = (16.766267225883762+7.378789694427801j) Ohm\n",
      "pf = 91.52821848332914% lag\n",
      "V_s = 202.07259421636903 V RMS\n",
      "I_s = (10.096737182809038-4.4435472289766205j) A\n",
      "I_r = (10.11824194236203-0.39103663029454827j) A\n",
      "P_in = 6120.821626953288 W\n",
      "P_Cu_s = 584.108225831349 W\n",
      "P_Cu_r = 369.1142267414626 W\n",
      "R_dev = 16.8 Ohm\n",
      "P_dev = 5167.599174380476 W\n",
      "P_out = 3967.599174380476 W\n",
      "T_out = 27.062700891856103 Nm\n",
      "efficiency = 64.82134942323742%\n"
     ]
    }
   ],
   "source": [
    "\n",
    "motor(f, p, Vs, nm, Prot, Rs, Xs, Xm, Rpr, Xpr)"
   ]
  },
  {
   "cell_type": "markdown",
   "metadata": {},
   "source": []
  },
  {
   "cell_type": "code",
   "execution_count": 66,
   "metadata": {},
   "outputs": [
    {
     "name": "stdout",
     "output_type": "stream",
     "text": [
      "11.031283411954584 /__ -23.754167136067068 deg\n"
     ]
    }
   ],
   "source": [
    "Is = 10.096737182809038-4.4435472289766205j\n",
    "print_polar(Is)"
   ]
  },
  {
   "cell_type": "code",
   "execution_count": 67,
   "metadata": {},
   "outputs": [
    {
     "name": "stdout",
     "output_type": "stream",
     "text": [
      "10.125795260146546 /__ -2.21319121752863 deg\n"
     ]
    }
   ],
   "source": [
    "Ir = 10.11824194236203-0.39103663029454827j\n",
    "print_polar(Ir)\n"
   ]
  },
  {
   "cell_type": "code",
   "execution_count": null,
   "metadata": {},
   "outputs": [],
   "source": []
  }
 ],
 "metadata": {
  "interpreter": {
   "hash": "63fd5069d213b44bf678585dea6b12cceca9941eaf7f819626cde1f2670de90d"
  },
  "kernelspec": {
   "display_name": "Python 3.9.6 64-bit",
   "language": "python",
   "name": "python3"
  },
  "language_info": {
   "codemirror_mode": {
    "name": "ipython",
    "version": 3
   },
   "file_extension": ".py",
   "mimetype": "text/x-python",
   "name": "python",
   "nbconvert_exporter": "python",
   "pygments_lexer": "ipython3",
   "version": "3.9.6"
  },
  "orig_nbformat": 4
 },
 "nbformat": 4,
 "nbformat_minor": 2
}
