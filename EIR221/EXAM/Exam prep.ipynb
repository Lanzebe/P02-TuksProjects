{
 "cells": [
  {
   "cell_type": "code",
   "execution_count": 44,
   "metadata": {},
   "outputs": [],
   "source": [
    "import cmath\n",
    "import numpy as np\n",
    "import math\n",
    "import sys\n",
    "import sympy as sp\n",
    "sys.path.append(r'E:\\OneDrive\\ENGINEERING\\01-ENGINEERING TOOLS\\engineering_library')\n",
    "from LSODESolver import *\n",
    "\n",
    "def print_polar(n):\n",
    "    print(cmath.polar(n)[0],'/__',360*cmath.polar(n)[1]/(2*cmath.pi),'deg')\n",
    "\n",
    "def AngleDegrees(n):\n",
    "    return 360*cmath.polar(n)[1]/(2*cmath.pi)\n",
    "\n",
    "def parallel(Zlist):\n",
    "    ans = 0\n",
    "    for i in Zlist:\n",
    "        ans = ans + i**-1\n",
    "    return ans**-1\n",
    "\n",
    "def ComplexPolar(z,thetaDeg):\n",
    "    return z*np.cos(math.radians(thetaDeg)) + z*np.sin(math.radians(thetaDeg))*1j\n",
    "\n",
    "def Z_magnitude(n):\n",
    "    return cmath.polar(n)[0]\n",
    "\n",
    "def ComplexConjugate(N):\n",
    "    return N.real - N.imag*1j"
   ]
  },
  {
   "cell_type": "code",
   "execution_count": 2,
   "metadata": {},
   "outputs": [
    {
     "name": "stderr",
     "output_type": "stream",
     "text": [
      "No handles with labels found to put in legend.\n"
     ]
    },
    {
     "name": "stdout",
     "output_type": "stream",
     "text": [
      "root1: -0.02344355629253627\n",
      "root2: -0.4265564437074637\n",
      "Over dammped\n",
      "Solution to the differential equation:\n",
      "55.0 + -4.457047559917282 e^( -0.02344355629253627 x )  +  -25.54295244008272 e^( -0.4265564437074637 x )\n"
     ]
    },
    {
     "data": {
      "image/png": "[encoded data removed]",
      "text/plain": [
       "<Figure size 432x288 with 1 Axes>"
      ]
     },
     "metadata": {
      "needs_background": "light"
     },
     "output_type": "display_data"
    }
   ],
   "source": [
    "\n",
    "Q1v1 = LSODECC(100,45,1,55)\n",
    "Q1v1.initial_conditions([0,25],[0,11])\n",
    "Q1v1.plot(0,10)"
   ]
  },
  {
   "cell_type": "code",
   "execution_count": 9,
   "metadata": {},
   "outputs": [
    {
     "data": {
      "text/latex": [
       "$\\displaystyle 55.0 - 25.5429524400827 e^{- 0.426556443707464 x} - 4.45704755991728 e^{- 0.0234435562925363 x}$"
      ],
      "text/plain": [
       "55.0 - 25.5429524400827*exp(-0.426556443707464*x) - 4.45704755991728*exp(-0.0234435562925363*x)"
      ]
     },
     "metadata": {},
     "output_type": "display_data"
    }
   ],
   "source": [
    "x = sp.symbols('x')\n",
    "V1 = 55.0 + -4.457047559917282 * sp.exp( -0.02344355629253627 * x )  +  -25.54295244008272 *  sp.exp( -0.4265564437074637 * x )\n",
    "V1p = V1.diff(x)\n",
    "display(V1)"
   ]
  },
  {
   "cell_type": "code",
   "execution_count": 8,
   "metadata": {},
   "outputs": [
    {
     "data": {
      "text/latex": [
       "$\\displaystyle 55.0 + 3.3916498929874 e^{- 0.426556443707464 x} - 8.3916498929874 e^{- 0.0234435562925363 x}$"
      ],
      "text/plain": [
       "55.0 + 3.3916498929874*exp(-0.426556443707464*x) - 8.3916498929874*exp(-0.0234435562925363*x)"
      ]
     },
     "metadata": {},
     "output_type": "display_data"
    }
   ],
   "source": [
    "V2 = 2*V1 +5*V1p -55\n",
    "\n",
    "display(V2)"
   ]
  },
  {
   "cell_type": "code",
   "execution_count": null,
   "metadata": {},
   "outputs": [],
   "source": []
  },
  {
   "cell_type": "markdown",
   "metadata": {},
   "source": [
    "# ST2"
   ]
  },
  {
   "cell_type": "markdown",
   "metadata": {},
   "source": [
    "## Q1"
   ]
  },
  {
   "cell_type": "code",
   "execution_count": 19,
   "metadata": {},
   "outputs": [],
   "source": [
    "Vp = 100\n",
    "theta = 20\n",
    "R1 = 10\n",
    "X1 = 20\n",
    "P2 = 46E3\n",
    "pf2 = 0.8\n",
    "\n",
    "Z1 = R1 + X1*(1j)\n"
   ]
  },
  {
   "cell_type": "code",
   "execution_count": 38,
   "metadata": {},
   "outputs": [
    {
     "name": "stdout",
     "output_type": "stream",
     "text": [
      "100.0 /__ 19.999999999999996 deg\n"
     ]
    }
   ],
   "source": [
    "Va = ComplexPolar(Vp,theta)\n",
    "Vb = ComplexPolar(Vp,theta-120)\n",
    "Vc = ComplexPolar(Vp,theta+120)\n",
    "\n",
    "print_polar(Va)"
   ]
  },
  {
   "cell_type": "code",
   "execution_count": 39,
   "metadata": {},
   "outputs": [
    {
     "name": "stdout",
     "output_type": "stream",
     "text": [
      "1341.640786499874 /__ 63.43494882292201 deg\n"
     ]
    }
   ],
   "source": [
    "S1 = 3*Vp**2/ComplexConjugate(Z1)\n",
    "print_polar(S1)"
   ]
  },
  {
   "cell_type": "code",
   "execution_count": 40,
   "metadata": {},
   "outputs": [
    {
     "name": "stdout",
     "output_type": "stream",
     "text": [
      "36.86989764584401\n"
     ]
    }
   ],
   "source": [
    "theta2 = math.degrees(np.arccos(pf2))\n",
    "print(theta2)\n",
    "\n"
   ]
  },
  {
   "cell_type": "code",
   "execution_count": 41,
   "metadata": {},
   "outputs": [
    {
     "name": "stdout",
     "output_type": "stream",
     "text": [
      "57499.99999999999 /__ 36.86989764584401 deg\n"
     ]
    }
   ],
   "source": [
    "S2 = ComplexPolar(P2/pf2,theta2)\n",
    "print_polar(S2)"
   ]
  },
  {
   "cell_type": "code",
   "execution_count": 42,
   "metadata": {},
   "outputs": [
    {
     "name": "stdout",
     "output_type": "stream",
     "text": [
      "58703.06635943305 /__ 37.45552406065174 deg\n"
     ]
    }
   ],
   "source": [
    "S = S1+S2\n",
    "print_polar(S)"
   ]
  },
  {
   "cell_type": "code",
   "execution_count": 45,
   "metadata": {},
   "outputs": [
    {
     "name": "stdout",
     "output_type": "stream",
     "text": [
      "37.45552406065174\n"
     ]
    }
   ],
   "source": [
    "thetaOld = AngleDegrees(S)\n",
    "print(thetaOld)"
   ]
  },
  {
   "cell_type": "code",
   "execution_count": 46,
   "metadata": {},
   "outputs": [
    {
     "name": "stdout",
     "output_type": "stream",
     "text": [
      "11900.0\n"
     ]
    }
   ],
   "source": [
    "Qc = S.real*np.tan(math.radians(thetaOld))\n",
    "\n",
    "Qcp = Qc/3\n",
    "print(Qcp)"
   ]
  },
  {
   "cell_type": "code",
   "execution_count": 48,
   "metadata": {},
   "outputs": [
    {
     "name": "stdout",
     "output_type": "stream",
     "text": [
      "155.33333333333334\n"
     ]
    }
   ],
   "source": [
    "P = S.real\n",
    "\n",
    "Il = P/(3*Vp)\n",
    "print(Il)"
   ]
  },
  {
   "cell_type": "code",
   "execution_count": 49,
   "metadata": {},
   "outputs": [
    {
     "name": "stdout",
     "output_type": "stream",
     "text": [
      "37500.0 /__ 36.86989764584401 deg\n"
     ]
    }
   ],
   "source": []
  },
  {
   "cell_type": "markdown",
   "metadata": {},
   "source": [
    "## Q2"
   ]
  },
  {
   "cell_type": "code",
   "execution_count": 54,
   "metadata": {},
   "outputs": [],
   "source": [
    "Vp = 355\n",
    "theta = 0\n",
    "RY = 20\n",
    "XY = 5\n",
    "Rl = 2\n",
    "Xl = 2\n",
    "\n",
    "\n",
    "Vab = ComplexPolar(Vp,theta)\n",
    "Zl = Rl + Xl*(1j)\n",
    "ZY = RY + XY*(1j)\n",
    "\n",
    "Z = Zl + ZY"
   ]
  },
  {
   "cell_type": "code",
   "execution_count": 59,
   "metadata": {},
   "outputs": [
    {
     "name": "stdout",
     "output_type": "stream",
     "text": [
      "8.877774738226309 /__ -47.65012421993012 deg\n",
      "8.877774738226307 /__ -167.6501242199301 deg\n",
      "8.877774738226307 /__ 72.34987578006988 deg\n"
     ]
    }
   ],
   "source": [
    "Ia = ComplexPolar(Vp,-30)/((3**0.5)*Z)\n",
    "print_polar(Ia)\n",
    "Ib = Ia*ComplexPolar(1,-120)\n",
    "print_polar(Ib)\n",
    "Ic = Ia*ComplexPolar(1,+120)\n",
    "print_polar(Ic)"
   ]
  },
  {
   "cell_type": "code",
   "execution_count": 66,
   "metadata": {},
   "outputs": [
    {
     "name": "stdout",
     "output_type": "stream",
     "text": [
      "4874.431392762343 /__ 14.036243467926477 deg\n"
     ]
    }
   ],
   "source": [
    "S = 3*(Z_magnitude(Ia)**2)*ZY\n",
    "print_polar(S)"
   ]
  },
  {
   "cell_type": "code",
   "execution_count": null,
   "metadata": {},
   "outputs": [],
   "source": []
  }
 ],
 "metadata": {
  "interpreter": {
   "hash": "b0d877fd5326eabdec7294d85196f572791c8fccbbd1b2db4b2baf685ab06f05"
  },
  "kernelspec": {
   "display_name": "Python 3.9.6 64-bit ('env': venv)",
   "language": "python",
   "name": "python3"
  },
  "language_info": {
   "codemirror_mode": {
    "name": "ipython",
    "version": 3
   },
   "file_extension": ".py",
   "mimetype": "text/x-python",
   "name": "python",
   "nbconvert_exporter": "python",
   "pygments_lexer": "ipython3",
   "version": "3.9.6"
  },
  "orig_nbformat": 4
 },
 "nbformat": 4,
 "nbformat_minor": 2
}
