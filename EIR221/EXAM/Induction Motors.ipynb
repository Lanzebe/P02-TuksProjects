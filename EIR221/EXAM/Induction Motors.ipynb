{
 "cells": [
  {
   "cell_type": "markdown",
   "metadata": {},
   "source": [
    "# Wye connected motors"
   ]
  },
  {
   "cell_type": "code",
   "execution_count": 109,
   "metadata": {},
   "outputs": [],
   "source": [
    "import numpy as np\n",
    "\n",
    "def parallel(Z1, Z2):\n",
    "    return (1/Z1 + 1/Z2)**(-1)\n",
    "\n",
    "def motor(f, p, V, n_m, P_rot, R_s, X_s, X_m, R_r, X_r):\n",
    "    Z_s = R_s + 1j*X_s\n",
    "    print('Z_s = {} Ohm'.format(Z_s))\n",
    "\n",
    "    n_s = 120*f/p\n",
    "    print('n_s = {} RPM'.format(n_s))\n",
    "\n",
    "    s = (n_s-n_m)/n_s\n",
    "    print('s = {}%'. format(s*100))\n",
    "\n",
    "    Z_r = R_r/s + 1j*X_r\n",
    "    print('Z_r = {} Ohm'.format(Z_r))\n",
    "\n",
    "    Z_tot = Z_s + parallel(1j*X_m, Z_r)\n",
    "    print('Z_tot = {} Ohm'.format(Z_tot))\n",
    "\n",
    "    pf = np.cos(np.angle(Z_tot))\n",
    "    if np.angle(Z_tot) > 0:\n",
    "        print('pf = {}% lag'.format(pf*100))\n",
    "    if np.angle(Z_tot) < 0: \n",
    "        print('pf = {}% lead'.format(pf*100))\n",
    "\n",
    "    V_s = V/np.sqrt(3)\n",
    "    print('V_s = {} V RMS'.format(V_s))\n",
    "\n",
    "    I_s = V_s/Z_tot\n",
    "    print('I_s = {} A'.format(I_s))\n",
    "\n",
    "    I_r = I_s*((1j*X_m)/(1j*X_m + Z_r))\n",
    "    print('I_r = {} A'.format(I_r))\n",
    "\n",
    "    P_in = np.real(3*V_s*np.conj(I_s))\n",
    "    print('P_in = {} W'.format(P_in))\n",
    "\n",
    "    P_Cu_s = 3*np.absolute(I_s)**2*R_s\n",
    "    print('P_Cu_s = {} W'.format(P_Cu_s))\n",
    "\n",
    "    P_Cu_r = 3*np.absolute(I_r)**2*R_r\n",
    "    print('P_Cu_r = {} W'.format(P_Cu_r))\n",
    "\n",
    "    R_dev = (1-s)/s*R_r\n",
    "    print('R_dev = {} Ohm'.format(R_dev))\n",
    "\n",
    "    P_dev = 3*np.absolute(I_r)**2*R_dev\n",
    "    print('P_dev = {} W'.format(P_dev))\n",
    "\n",
    "    P_out = P_dev - P_rot\n",
    "    print('P_out = {} W'.format(P_out))\n",
    "\n",
    "    omega_m = n_m*2*np.pi/60 # rad/s\n",
    "    T_out = P_out/omega_m # Nm\n",
    "    print('T_out = {} Nm'.format(T_out))\n",
    "\n",
    "    n = P_out/P_in\n",
    "    print('efficiency = {}%'.format(n*100))"
   ]
  },
  {
   "cell_type": "code",
   "execution_count": 110,
   "metadata": {},
   "outputs": [],
   "source": [
    "# INPUTS:\n",
    "\n",
    "f = 50 # Hz\n",
    "p = 6 # pole\n",
    "V = 400 # V in amplitude\n",
    "n_m = 880 # RPM\n",
    "P_rot = 2400 # W\n",
    "R_s = 0.15 # Ohm\n",
    "X_s = 0.3 # Ohm\n",
    "X_m = 12 # Ohm\n",
    "R_r = 0.075 # Ohm\n",
    "X_r = 0.25 # Ohm\n",
    "\n",
    "# NOTE: for the case that we neglect rotational losses:\n",
    "#P_rot = 0\n",
    "#n_m = 0\n",
    "\n",
    "# See memorandum of tutorial 9 2020 for further computations"
   ]
  },
  {
   "cell_type": "code",
   "execution_count": 111,
   "metadata": {},
   "outputs": [
    {
     "name": "stdout",
     "output_type": "stream",
     "text": [
      "Z_s = (0.15+0.3j) Ohm\n",
      "n_s = 1000.0 RPM\n",
      "s = 12.0%\n",
      "Z_r = (0.625+0.25j) Ohm\n",
      "Z_tot = (0.7481929587703812+0.5754180081005296j) Ohm\n",
      "pf = 79.26828853512801% lag\n",
      "V_s = 230.94010767585033 V RMS\n",
      "I_s = (193.94773419298767-149.16074466719226j) A\n",
      "I_r = (196.93191823947248-136.0691009882969j) A\n",
      "P_in = 134370.93185404732 W\n",
      "P_Cu_s = 26939.093106719298 W\n",
      "P_Cu_r = 12891.820649679365 W\n",
      "R_dev = 0.55 Ohm\n",
      "P_dev = 94540.01809764869 W\n",
      "P_out = 92140.01809764869 W\n",
      "T_out = 999.8549547830102 Nm\n",
      "efficiency = 68.57139176330969%\n"
     ]
    }
   ],
   "source": [
    "# OUTPUTS:\n",
    "\n",
    "motor(f, p, V, n_m, P_rot, R_s, X_s, X_m, R_r, X_r)"
   ]
  }
 ],
 "metadata": {
  "interpreter": {
   "hash": "df4addc1b8971322dbddb4033f311525118ba271253b879c7a2e8d65e5860473"
  },
  "kernelspec": {
   "display_name": "Python 3.9.9 64-bit (windows store)",
   "language": "python",
   "name": "python3"
  },
  "language_info": {
   "codemirror_mode": {
    "name": "ipython",
    "version": 3
   },
   "file_extension": ".py",
   "mimetype": "text/x-python",
   "name": "python",
   "nbconvert_exporter": "python",
   "pygments_lexer": "ipython3",
   "version": "3.9.9"
  },
  "orig_nbformat": 4
 },
 "nbformat": 4,
 "nbformat_minor": 2
}
