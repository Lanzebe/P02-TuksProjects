{
 "cells": [
  {
   "cell_type": "code",
   "execution_count": 1,
   "metadata": {},
   "outputs": [],
   "source": [
    "import sympy as sp"
   ]
  },
  {
   "cell_type": "code",
   "execution_count": 2,
   "metadata": {},
   "outputs": [],
   "source": [
    "x,x_l,x_r = sp.symbols('x,x_l,x_r')\n",
    "y,y_b,y_t = sp.symbols('y,y_b,y_t')\n",
    "\n",
    "u,u_l,x_r,u_b,u_t = sp.symbols('u,u_l,x_r,u_b,u_t')\n",
    "v,v_l,v_r,v_b,v_t = sp.symbols('v,v_l,v_r,v_b,v_t')\n",
    "p,p_l,p_r,p_b,p_t = sp.symbols('p,p_l,p_r,p_b,p_t')\n",
    "\n",
    "u_x,u_x_l,u_x_r,u_x_b,u_x_t = sp.symbols('u_x,u_x_l,u_x_r,u_x_b,u_x_t')\n",
    "u_y,u_y_l,u_y_r,u_y_b,u_y_t = sp.symbols('u_y,u_y_l,u_y_r,u_y_b,u_y_t')\n",
    "v_x,v_x_l,v_x_r,v_x_b,v_x_t = sp.symbols('v_x,v_x_l,v_x_r,v_x_b,v_x_t')\n",
    "v_y,v_y_l,v_y_r,v_y_b,v_y_t = sp.symbols('v_y,v_y_l,v_y_r,v_y_b,v_y_t')\n",
    "\n",
    "\n",
    "u_xx,u_yy,v_xx,v_yy = sp.symbols('u_xx,u_yy,v_xx,v_yy')\n",
    "rho,mu = sp.symbols('rho,mu')"
   ]
  },
  {
   "cell_type": "code",
   "execution_count": 6,
   "metadata": {},
   "outputs": [
    {
     "data": {
      "text/latex": [
       "$\\displaystyle \\left(- \\mu \\left(u_{xx} + u_{yy}\\right) + \\rho \\left(u u_{x} + u_{y} v\\right) - \\frac{0.5 \\left(- p + p_{t}\\right)}{- x + x_{r}} - \\frac{0.5 \\left(p - p_{l}\\right)}{x - x_{l}}\\right)^{2}$"
      ],
      "text/plain": [
       "(-mu*(u_xx + u_yy) + rho*(u*u_x + u_y*v) - 0.5*(-p + p_t)/(-x + x_r) - 0.5*(p - p_l)/(x - x_l))**2"
      ]
     },
     "metadata": {},
     "output_type": "display_data"
    },
    {
     "data": {
      "text/latex": [
       "$\\displaystyle 2 \\rho u_{x} \\left(- \\mu \\left(u_{xx} + u_{yy}\\right) + \\rho \\left(u u_{x} + u_{y} v\\right) - \\frac{0.5 \\left(- p + p_{t}\\right)}{- x + x_{r}} - \\frac{0.5 \\left(p - p_{l}\\right)}{x - x_{l}}\\right)$"
      ],
      "text/plain": [
       "2*rho*u_x*(-mu*(u_xx + u_yy) + rho*(u*u_x + u_y*v) - 0.5*(-p + p_t)/(-x + x_r) - 0.5*(p - p_l)/(x - x_l))"
      ]
     },
     "metadata": {},
     "output_type": "display_data"
    }
   ],
   "source": [
    "dudx = 0.5*(((u-u_l)/(x-x_l))+((u_t-u)/(x_r-x)))\n",
    "dudy = 0.5*(((u-u_b)/(y-y_b))+((u_t-u)/(y_t-y)))\n",
    "dvdx = 0.5*(((v-v_l)/(x-x_l))+((v_t-v)/(x_r-x)))\n",
    "dvdy = 0.5*(((v-v_b)/(y-y_b))+((v_t-v)/(y_t-y)))\n",
    "\n",
    "dpdx = 0.5*(((p-p_l)/(x-x_l))+((p_t-p)/(x_r-x)))\n",
    "dpdy = 0.5*(((p-p_b)/(y-y_b))+((p_t-p)/(y_t-y)))\n",
    "\n",
    "dduddxx = 0.5*(((u_x-u_x_l)/(x-x_l))+((u_x_t-u_x)/(x_r-x)))\n",
    "dduddyy = 0.5*(((u_y-u_y_b)/(y-y_b))+((u_y_t-u_y)/(y_t-y)))\n",
    "ddvddxx = 0.5*(((v_x-v_x_l)/(x-x_l))+((v_x_t-v_x)/(x_r-x)))\n",
    "ddvddyy = 0.5*(((v_y-v_y_b)/(y-y_b))+((v_y_t-v_y)/(y_t-y)))\n",
    "\n",
    "\n",
    "\n",
    "Continuity = u_x+u_y\n",
    "MommentumX = rho*(u*u_x + v*u_y) - dpdx - mu*(u_xx + u_yy)\n",
    "MommentumY = rho*(u*v_x + v*v_y) - dpdy - mu*(v_xx + v_yy)\n",
    "UxGradient = dudx - u_x\n",
    "UyGradient = dudy - u_y\n",
    "VxGradient = dvdx - v_x\n",
    "VyGradient = dvdy - v_y\n",
    "UxxGradient = dduddxx - u_xx\n",
    "UyyGradient = dduddyy - u_yy\n",
    "VxxGradient = ddvddxx - v_xx\n",
    "VyyGradient = ddvddyy - v_yy\n",
    "\n",
    "\n",
    "\n",
    "#COST = Continuity**2  +  MommentumX**2 +  MommentumY**2 + UxGradient**2 + UyGradient**2 + VxGradient**2 + VyGradient**2 + UxxGradient**2 + UyyGradient**2 + VxxGradient**2 + VyyGradient**2\n",
    "COST = MommentumX**2\n",
    "\n",
    "\n",
    "dCOSTdu = sp.diff(COST,u)\n",
    "\n",
    "\n",
    "display(COST)\n",
    "display(dCOSTdu)"
   ]
  },
  {
   "cell_type": "code",
   "execution_count": 8,
   "metadata": {},
   "outputs": [
    {
     "data": {
      "text/latex": [
       "$\\displaystyle 2.0 \\rho^{2} u_{x}^{2}$"
      ],
      "text/plain": [
       "2.0*rho**2*u_x**2"
      ]
     },
     "metadata": {},
     "output_type": "display_data"
    },
    {
     "data": {
      "text/latex": [
       "$\\displaystyle \\operatorname{Poly}{\\left( 2.0 \\rho^{2} u_{x}^{2} u + \\frac{- 2.0 \\mu \\rho u_{x} u_{xx} x^{2} + 2.0 \\mu \\rho u_{x} u_{xx} x x_{l} + 2.0 \\mu \\rho u_{x} u_{xx} x x_{r} - 2.0 \\mu \\rho u_{x} u_{xx} x_{l} x_{r} - 2.0 \\mu \\rho u_{x} u_{yy} x^{2} + 2.0 \\mu \\rho u_{x} u_{yy} x x_{l} + 2.0 \\mu \\rho u_{x} u_{yy} x x_{r} - 2.0 \\mu \\rho u_{x} u_{yy} x_{l} x_{r} - 2.0 p \\rho u_{x} x + 1.0 p \\rho u_{x} x_{l} + 1.0 p \\rho u_{x} x_{r} + 1.0 p_{l} \\rho u_{x} x - 1.0 p_{l} \\rho u_{x} x_{r} + 1.0 p_{t} \\rho u_{x} x - 1.0 p_{t} \\rho u_{x} x_{l} + 2.0 \\rho^{2} u_{x} u_{y} v x^{2} - 2.0 \\rho^{2} u_{x} u_{y} v x x_{l} - 2.0 \\rho^{2} u_{x} u_{y} v x x_{r} + 2.0 \\rho^{2} u_{x} u_{y} v x_{l} x_{r}}{1.0 x^{2} - 1.0 x x_{l} - 1.0 x x_{r} + 1.0 x_{l} x_{r}}, u, domain=\\mathbb{R}\\left(x, p, v, \\mu, p_{l}, p_{t}, \\rho, u_{x}, u_{xx}, u_{y}, u_{yy}, x_{l}, x_{r}\\right) \\right)}$"
      ],
      "text/plain": [
       "Poly(2.0*rho**2*u_x**2*u + (-2.0*mu*rho*u_x*u_xx*x**2 + 2.0*mu*rho*u_x*u_xx*x*x_l + 2.0*mu*rho*u_x*u_xx*x*x_r - 2.0*mu*rho*u_x*u_xx*x_l*x_r - 2.0*mu*rho*u_x*u_yy*x**2 + 2.0*mu*rho*u_x*u_yy*x*x_l + 2.0*mu*rho*u_x*u_yy*x*x_r - 2.0*mu*rho*u_x*u_yy*x_l*x_r - 2.0*p*rho*u_x*x + 1.0*p*rho*u_x*x_l + 1.0*p*rho*u_x*x_r + 1.0*p_l*rho*u_x*x - 1.0*p_l*rho*u_x*x_r + 1.0*p_t*rho*u_x*x - 1.0*p_t*rho*u_x*x_l + 2.0*rho**2*u_x*u_y*v*x**2 - 2.0*rho**2*u_x*u_y*v*x*x_l - 2.0*rho**2*u_x*u_y*v*x*x_r + 2.0*rho**2*u_x*u_y*v*x_l*x_r)/(1.0*x**2 - 1.0*x*x_l - 1.0*x*x_r + 1.0*x_l*x_r), u, domain='RR(x,p,v,mu,p_l,p_t,rho,u_x,u_xx,u_y,u_yy,x_l,x_r)')"
      ]
     },
     "metadata": {},
     "output_type": "display_data"
    }
   ],
   "source": [
    "a = sp.Poly(dCOSTdu,u)\n",
    "display(a.coeffs()[0])\n",
    "display(a)\n",
    "\n"
   ]
  }
 ],
 "metadata": {
  "interpreter": {
   "hash": "5769c1ee80cbd8e53d3db7831241b8ba867cfe138c2c354408fafcc75cd057f6"
  },
  "kernelspec": {
   "display_name": "Python 3.9.6 ('EnvTuks')",
   "language": "python",
   "name": "python3"
  },
  "language_info": {
   "codemirror_mode": {
    "name": "ipython",
    "version": 3
   },
   "file_extension": ".py",
   "mimetype": "text/x-python",
   "name": "python",
   "nbconvert_exporter": "python",
   "pygments_lexer": "ipython3",
   "version": "3.9.6"
  },
  "orig_nbformat": 4
 },
 "nbformat": 4,
 "nbformat_minor": 2
}
