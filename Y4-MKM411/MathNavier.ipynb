{
 "cells": [
  {
   "cell_type": "code",
   "execution_count": 1,
   "metadata": {},
   "outputs": [],
   "source": [
    "import sympy as sp"
   ]
  },
  {
   "cell_type": "code",
   "execution_count": 7,
   "metadata": {},
   "outputs": [],
   "source": [
    "x,y = sp.symbols('x,y')\n",
    "rho,mu = sp.symbols('rho,mu')\n",
    "a_u,a_v,a_p = sp.symbols('a_u,a_v,a_p')\n",
    "b_u,b_v,b_p = sp.symbols('b_u,b_v,b_p')\n",
    "K_u,K_v,K_p = sp.symbols('K_u,K_v,K_p')\n"
   ]
  },
  {
   "cell_type": "code",
   "execution_count": 6,
   "metadata": {},
   "outputs": [],
   "source": [
    "u = K_u*sp.exp(a_u*x + b_u*y)\n",
    "v = K_v*sp.exp(a_v*x + b_v*y)\n",
    "p = K_p*sp.exp(a_p*x + b_p*y)\n",
    "\n",
    "u_x = sp.diff(u,x)\n",
    "u_y = sp.diff(u,y)\n",
    "u_xx = sp.diff(u_x,x)\n",
    "u_yy = sp.diff(u_y,y)\n",
    "\n",
    "v_x = sp.diff(v,x)\n",
    "v_y = sp.diff(v,y)\n",
    "v_xx = sp.diff(v_x,x)\n",
    "v_yy = sp.diff(v_y,y)\n",
    "\n",
    "p_x = sp.diff(p,x)\n",
    "p_y = sp.diff(p,y)\n",
    "\n",
    "\n",
    "#display(u,u_x,u_y,u_xx,u_yy)"
   ]
  },
  {
   "cell_type": "code",
   "execution_count": 25,
   "metadata": {},
   "outputs": [
    {
     "data": {
      "text/latex": [
       "$\\displaystyle K_{p} a_{p} e^{a_{p} x + b_{p} y} + K_{u} \\mu \\left(a_{u}^{2} + b_{u}^{2}\\right) e^{a_{u} x + b_{u} y} - K_{u} \\rho \\left(K_{u} a_{u} e^{2 a_{u} x + 2 b_{u} y} + K_{v} b_{u} e^{a_{u} x + a_{v} x + b_{u} y + b_{v} y}\\right) = 0$"
      ],
      "text/plain": [
       "Eq(K_p*a_p*exp(a_p*x + b_p*y) + K_u*mu*(a_u**2 + b_u**2)*exp(a_u*x + b_u*y) - K_u*rho*(K_u*a_u*exp(2*a_u*x + 2*b_u*y) + K_v*b_u*exp(a_u*x + a_v*x + b_u*y + b_v*y)), 0)"
      ]
     },
     "metadata": {},
     "output_type": "display_data"
    },
    {
     "data": {
      "text/latex": [
       "$\\displaystyle K_{p} b_{p} e^{a_{p} x + b_{p} y} + K_{v} \\mu \\left(a_{v}^{2} + b_{v}^{2}\\right) e^{a_{v} x + b_{v} y} - K_{v} \\rho \\left(K_{u} a_{v} e^{a_{u} x + a_{v} x + b_{u} y + b_{v} y} + K_{v} b_{v} e^{2 a_{v} x + 2 b_{v} y}\\right) = 0$"
      ],
      "text/plain": [
       "Eq(K_p*b_p*exp(a_p*x + b_p*y) + K_v*mu*(a_v**2 + b_v**2)*exp(a_v*x + b_v*y) - K_v*rho*(K_u*a_v*exp(a_u*x + a_v*x + b_u*y + b_v*y) + K_v*b_v*exp(2*a_v*x + 2*b_v*y)), 0)"
      ]
     },
     "metadata": {},
     "output_type": "display_data"
    },
    {
     "data": {
      "text/latex": [
       "$\\displaystyle K_{u} a_{u} e^{a_{u} x + b_{u} y} + K_{v} b_{v} e^{a_{v} x + b_{v} y} = 0$"
      ],
      "text/plain": [
       "Eq(K_u*a_u*exp(a_u*x + b_u*y) + K_v*b_v*exp(a_v*x + b_v*y), 0)"
      ]
     },
     "metadata": {},
     "output_type": "display_data"
    }
   ],
   "source": [
    "MomentumX = sp.simplify(sp.Equality(rho*(u*u_x + v*u_y),p_x + mu*(u_xx + u_yy)))\n",
    "MomentumY = sp.simplify(sp.Equality(rho*(u*v_x + v*v_y),p_y + mu*(v_xx + v_yy)))\n",
    "Continuity = sp.simplify(sp.Equality(u_x + v_y,0))\n",
    "\n",
    "MomentumX = sp.Equality(MomentumX.lhs-MomentumX.rhs,0)\n",
    "MomentumY = sp.Equality(MomentumY.lhs-MomentumY.rhs,0)\n",
    "\n",
    "\n",
    "display(MomentumX)\n",
    "display(MomentumY)\n",
    "display(Continuity)"
   ]
  },
  {
   "cell_type": "code",
   "execution_count": 48,
   "metadata": {},
   "outputs": [
    {
     "data": {
      "text/latex": [
       "$\\displaystyle K_{p} a_{p} e^{a_{p} x} e^{- a_{u} x} e^{b_{p} y} e^{- b_{u} y} - K_{u}^{2} a_{u} \\rho e^{a_{u} x} e^{b_{u} y} - K_{u} K_{v} b_{u} \\rho e^{a_{v} x} e^{b_{v} y} + K_{u} a_{u}^{2} \\mu + K_{u} b_{u}^{2} \\mu$"
      ],
      "text/plain": [
       "K_p*a_p*exp(a_p*x)*exp(-a_u*x)*exp(b_p*y)*exp(-b_u*y) - K_u**2*a_u*rho*exp(a_u*x)*exp(b_u*y) - K_u*K_v*b_u*rho*exp(a_v*x)*exp(b_v*y) + K_u*a_u**2*mu + K_u*b_u**2*mu"
      ]
     },
     "metadata": {},
     "output_type": "display_data"
    }
   ],
   "source": [
    "MomentumX2 = sp.expand(sp.simplify((MomentumX.lhs)/(sp.exp(a_u*x)*sp.exp(b_u*y))))\n",
    "\n",
    "display(MomentumX2)"
   ]
  }
 ],
 "metadata": {
  "interpreter": {
   "hash": "5769c1ee80cbd8e53d3db7831241b8ba867cfe138c2c354408fafcc75cd057f6"
  },
  "kernelspec": {
   "display_name": "Python 3.9.6 ('EnvTuks')",
   "language": "python",
   "name": "python3"
  },
  "language_info": {
   "codemirror_mode": {
    "name": "ipython",
    "version": 3
   },
   "file_extension": ".py",
   "mimetype": "text/x-python",
   "name": "python",
   "nbconvert_exporter": "python",
   "pygments_lexer": "ipython3",
   "version": "3.9.6"
  },
  "orig_nbformat": 4
 },
 "nbformat": 4,
 "nbformat_minor": 2
}
