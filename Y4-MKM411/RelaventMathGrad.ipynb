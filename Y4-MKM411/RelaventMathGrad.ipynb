{
 "cells": [
  {
   "cell_type": "code",
   "execution_count": 1,
   "metadata": {},
   "outputs": [],
   "source": [
    "import sympy as sp"
   ]
  },
  {
   "cell_type": "code",
   "execution_count": 2,
   "metadata": {},
   "outputs": [],
   "source": [
    "x,x_l,x_r = sp.symbols('x,x_l,x_r')\n",
    "y,y_b,y_t = sp.symbols('y,y_b,y_t')\n",
    "\n",
    "u,u_l,u_r,u_b,u_t = sp.symbols('u,u_l,u_r,u_b,u_t')\n",
    "v,v_l,v_r,v_b,v_t = sp.symbols('v,v_l,v_r,v_b,v_t')\n",
    "p,p_l,p_r,p_b,p_t = sp.symbols('p,p_l,p_r,p_b,p_t')\n",
    "\n",
    "\n",
    "rho,mu = sp.symbols('rho,mu')"
   ]
  },
  {
   "cell_type": "code",
   "execution_count": 4,
   "metadata": {},
   "outputs": [
    {
     "name": "stdout",
     "output_type": "stream",
     "text": [
      "(-mu*(((-u + u_t)/(-y + y_t) - (u - u_b)/(y - y_b))/(-y_b + y_t)**2 + ((-u + u_r)/(-x + x_r) - (u - u_l)/(x - x_l))/(-x_l + x_r)**2) + rho*(u*((u - u_l)/(x - x_l) + (x - x_l)*((-u + u_r)/(-x + x_r) - (u - u_l)/(x - x_l))/(-x_l + x_r)) + v*((u - u_b)/(y - y_b) + (y - y_b)*((-u + u_t)/(-y + y_t) - (u - u_b)/(y - y_b))/(-y_b + y_t))) - (p - p_l)/(x - x_l) - (x - x_l)*((-p + p_r)/(-x + x_r) - (p - p_l)/(x - x_l))/(-x_l + x_r))**2 + (-mu*(((-v + v_t)/(-y + y_t) - (v - v_b)/(y - y_b))/(-y_b + y_t)**2 + ((-v + v_r)/(-x + x_r) - (v - v_l)/(x - x_l))/(-x_l + x_r)**2) + rho*(u*((v - v_l)/(x - x_l) + (x - x_l)*((-v + v_r)/(-x + x_r) - (v - v_l)/(x - x_l))/(-x_l + x_r)) + v*((v - v_b)/(y - y_b) + (y - y_b)*((-v + v_t)/(-y + y_t) - (v - v_b)/(y - y_b))/(-y_b + y_t))) - (p - p_b)/(y - y_b) - (y - y_b)*((-p + p_t)/(-y + y_t) - (p - p_b)/(y - y_b))/(-y_b + y_t))**2 + ((u - u_l)/(x - x_l) + (v - v_b)/(y - y_b) + (x - x_l)*((-u + u_r)/(-x + x_r) - (u - u_l)/(x - x_l))/(-x_l + x_r) + (y - y_b)*((-v + v_t)/(-y + y_t) - (v - v_b)/(y - y_b))/(-y_b + y_t))**2\n"
     ]
    }
   ],
   "source": [
    "dudx = ((u-u_l)/(x-x_l))+((((u_r-u)/(x_r-x))-((u-u_l)/(x-x_l)))*((x-x_l)/(x_r-x_l)))\n",
    "dudy = ((u-u_b)/(y-y_b))+((((u_t-u)/(y_t-y))-((u-u_b)/(y-y_b)))*((y-y_b)/(y_t-y_b)))\n",
    "dvdx = ((v-v_l)/(x-x_l))+((((v_r-v)/(x_r-x))-((v-v_l)/(x-x_l)))*((x-x_l)/(x_r-x_l)))\n",
    "dvdy = ((v-v_b)/(y-y_b))+((((v_t-v)/(y_t-y))-((v-v_b)/(y-y_b)))*((y-y_b)/(y_t-y_b)))\n",
    "dpdx = ((p-p_l)/(x-x_l))+((((p_r-p)/(x_r-x))-((p-p_l)/(x-x_l)))*((x-x_l)/(x_r-x_l)))\n",
    "dpdy = ((p-p_b)/(y-y_b))+((((p_t-p)/(y_t-y))-((p-p_b)/(y-y_b)))*((y-y_b)/(y_t-y_b)))\n",
    "\n",
    "dduddxx = (((u_r-u)/(x_r-x))-((u-u_l)/(x-x_l)))/((x_r-x_l)**2)\n",
    "dduddyy = (((u_t-u)/(y_t-y))-((u-u_b)/(y-y_b)))/((y_t-y_b)**2)\n",
    "ddvddxx = (((v_r-v)/(x_r-x))-((v-v_l)/(x-x_l)))/((x_r-x_l)**2)\n",
    "ddvddyy = (((v_t-v)/(y_t-y))-((v-v_b)/(y-y_b)))/((y_t-y_b)**2)\n",
    "\n",
    "\n",
    "\n",
    "Continuity = dudx + dvdy\n",
    "MommentumX = rho*(u*dudx + v*dudy) - dpdx - mu*(dduddxx + dduddyy)\n",
    "MommentumY = rho*(u*dvdx + v*dvdy) - dpdy - mu*(ddvddxx + ddvddyy)\n",
    "\n",
    "\n",
    "\n",
    "COST = Continuity**2  +  MommentumX**2 +  MommentumY**2\n",
    "\n",
    "\n",
    "print(COST)"
   ]
  },
  {
   "cell_type": "code",
   "execution_count": 8,
   "metadata": {},
   "outputs": [
    {
     "data": {
      "text/latex": [
       "$\\displaystyle 2.0 \\rho^{2} u_{x}^{2}$"
      ],
      "text/plain": [
       "2.0*rho**2*u_x**2"
      ]
     },
     "metadata": {},
     "output_type": "display_data"
    },
    {
     "data": {
      "text/latex": [
       "$\\displaystyle \\operatorname{Poly}{\\left( 2.0 \\rho^{2} u_{x}^{2} u + \\frac{- 2.0 \\mu \\rho u_{x} u_{xx} x^{2} + 2.0 \\mu \\rho u_{x} u_{xx} x x_{l} + 2.0 \\mu \\rho u_{x} u_{xx} x x_{r} - 2.0 \\mu \\rho u_{x} u_{xx} x_{l} x_{r} - 2.0 \\mu \\rho u_{x} u_{yy} x^{2} + 2.0 \\mu \\rho u_{x} u_{yy} x x_{l} + 2.0 \\mu \\rho u_{x} u_{yy} x x_{r} - 2.0 \\mu \\rho u_{x} u_{yy} x_{l} x_{r} - 2.0 p \\rho u_{x} x + 1.0 p \\rho u_{x} x_{l} + 1.0 p \\rho u_{x} x_{r} + 1.0 p_{l} \\rho u_{x} x - 1.0 p_{l} \\rho u_{x} x_{r} + 1.0 p_{t} \\rho u_{x} x - 1.0 p_{t} \\rho u_{x} x_{l} + 2.0 \\rho^{2} u_{x} u_{y} v x^{2} - 2.0 \\rho^{2} u_{x} u_{y} v x x_{l} - 2.0 \\rho^{2} u_{x} u_{y} v x x_{r} + 2.0 \\rho^{2} u_{x} u_{y} v x_{l} x_{r}}{1.0 x^{2} - 1.0 x x_{l} - 1.0 x x_{r} + 1.0 x_{l} x_{r}}, u, domain=\\mathbb{R}\\left(x, p, v, \\mu, p_{l}, p_{t}, \\rho, u_{x}, u_{xx}, u_{y}, u_{yy}, x_{l}, x_{r}\\right) \\right)}$"
      ],
      "text/plain": [
       "Poly(2.0*rho**2*u_x**2*u + (-2.0*mu*rho*u_x*u_xx*x**2 + 2.0*mu*rho*u_x*u_xx*x*x_l + 2.0*mu*rho*u_x*u_xx*x*x_r - 2.0*mu*rho*u_x*u_xx*x_l*x_r - 2.0*mu*rho*u_x*u_yy*x**2 + 2.0*mu*rho*u_x*u_yy*x*x_l + 2.0*mu*rho*u_x*u_yy*x*x_r - 2.0*mu*rho*u_x*u_yy*x_l*x_r - 2.0*p*rho*u_x*x + 1.0*p*rho*u_x*x_l + 1.0*p*rho*u_x*x_r + 1.0*p_l*rho*u_x*x - 1.0*p_l*rho*u_x*x_r + 1.0*p_t*rho*u_x*x - 1.0*p_t*rho*u_x*x_l + 2.0*rho**2*u_x*u_y*v*x**2 - 2.0*rho**2*u_x*u_y*v*x*x_l - 2.0*rho**2*u_x*u_y*v*x*x_r + 2.0*rho**2*u_x*u_y*v*x_l*x_r)/(1.0*x**2 - 1.0*x*x_l - 1.0*x*x_r + 1.0*x_l*x_r), u, domain='RR(x,p,v,mu,p_l,p_t,rho,u_x,u_xx,u_y,u_yy,x_l,x_r)')"
      ]
     },
     "metadata": {},
     "output_type": "display_data"
    }
   ],
   "source": [
    "a = sp.Poly(dCOSTdu,u)\n",
    "display(a.coeffs()[0])\n",
    "display(a)\n",
    "\n"
   ]
  }
 ],
 "metadata": {
  "interpreter": {
   "hash": "5769c1ee80cbd8e53d3db7831241b8ba867cfe138c2c354408fafcc75cd057f6"
  },
  "kernelspec": {
   "display_name": "Python 3.9.6 ('EnvTuks')",
   "language": "python",
   "name": "python3"
  },
  "language_info": {
   "codemirror_mode": {
    "name": "ipython",
    "version": 3
   },
   "file_extension": ".py",
   "mimetype": "text/x-python",
   "name": "python",
   "nbconvert_exporter": "python",
   "pygments_lexer": "ipython3",
   "version": "3.9.6"
  },
  "orig_nbformat": 4
 },
 "nbformat": 4,
 "nbformat_minor": 2
}
