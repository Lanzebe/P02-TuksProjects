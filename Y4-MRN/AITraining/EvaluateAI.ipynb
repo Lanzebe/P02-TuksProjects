{
 "cells": [
  {
   "cell_type": "code",
   "execution_count": 1,
   "metadata": {},
   "outputs": [],
   "source": [
    "import tensorflow as tf\n",
    "from tensorflow import keras\n",
    "import numpy as np\n",
    "import matplotlib.pyplot as plt\n",
    "#print(\"TensorFlow version:\", tf.__version__)"
   ]
  },
  {
   "cell_type": "code",
   "execution_count": 2,
   "metadata": {},
   "outputs": [],
   "source": [
    "TrainingSetInputs = np.load('TrainingSetInputs.npy', allow_pickle=True)\n",
    "TrainingSetOutputs = np.load('TrainingSetOutputs.npy', allow_pickle=True)\n",
    "TrainingSetAdditional = np.load('TrainingSetAdditional.npy', allow_pickle=True)\n",
    "\n",
    "TestSetInputs = np.load('TestSetInputs.npy', allow_pickle=True)\n",
    "TestSetOutputs = np.load('TestSetOutputs.npy', allow_pickle=True)\n",
    "TestSetAdditional = np.load('TestSetAdditional.npy', allow_pickle=True)\n",
    "\n",
    "ValidationSetInputs = np.load('ValidationSetInputs.npy', allow_pickle=True)\n",
    "ValidationSetOutputs = np.load('ValidationSetOutputs.npy', allow_pickle=True)\n",
    "ValidationSetAdditional = np.load('ValidationSetAdditional.npy', allow_pickle=True)\n",
    "\n",
    "\n",
    "train_dataset = tf.data.Dataset.from_tensor_slices((TrainingSetInputs, TrainingSetOutputs))\n",
    "test_dataset = tf.data.Dataset.from_tensor_slices((TestSetInputs, TestSetOutputs))\n",
    "validation_dataset = tf.data.Dataset.from_tensor_slices((ValidationSetInputs, ValidationSetOutputs))\n",
    "\n",
    "BATCH_SIZE = 64\n",
    "SHUFFLE_BUFFER_SIZE = 100\n",
    "\n",
    "Batched_train_dataset = train_dataset.shuffle(SHUFFLE_BUFFER_SIZE).batch(BATCH_SIZE)\n",
    "Batched_test_dataset = test_dataset.batch(BATCH_SIZE)\n",
    "Batched_validation_dataset = test_dataset.batch(BATCH_SIZE)"
   ]
  },
  {
   "cell_type": "code",
   "execution_count": 48,
   "metadata": {},
   "outputs": [],
   "source": [
    "model = keras.models.load_model(\"./SavedModels/my_modelV1\")"
   ]
  },
  {
   "cell_type": "code",
   "execution_count": 49,
   "metadata": {},
   "outputs": [
    {
     "name": "stdout",
     "output_type": "stream",
     "text": [
      "150/150 [==============================] - 0s 2ms/step - loss: 3.2754e-04\n",
      "0.0003275449853390455\n"
     ]
    }
   ],
   "source": [
    "test_loss= model.evaluate(Batched_validation_dataset)\n",
    "print(test_loss)\n",
    "#print(test_acc)"
   ]
  },
  {
   "cell_type": "code",
   "execution_count": 50,
   "metadata": {},
   "outputs": [
    {
     "name": "stdout",
     "output_type": "stream",
     "text": [
      "[1.05263158e+02 1.05263158e-02 1.05263158e-02 2.22222700e-12\n",
      " 1.08695652e-04 4.00000000e+00 4.04217721e-01 4.06924419e-01\n",
      " 3.97457843e-01 4.13271966e-01 4.09233913e-01 4.20275833e-01\n",
      " 4.19838615e-01 4.22475629e-01]\n",
      "[-0.05263158 -0.05263158 -0.05263158 -0.11111135 -0.08695652 -0.6\n",
      "  1.69476329  1.63808697  1.57154979  1.56035196  1.5449788   1.48923576\n",
      "  1.48646014  1.48375072]\n"
     ]
    }
   ],
   "source": [
    "Gradients = np.load('Gradients.npy', allow_pickle=True)\n",
    "Y_intercepts = np.load('C_Intercept.npy', allow_pickle=True)\n",
    "\n",
    "\n",
    "GradientsFrequency = Gradients[6:]\n",
    "Y_interceptsFerquency = Y_intercepts[6:]\n",
    "#print(Gradients)\n",
    "#print(Y_intercepts)"
   ]
  },
  {
   "cell_type": "code",
   "execution_count": 51,
   "metadata": {},
   "outputs": [],
   "source": [
    "def Decoder(NN_Output,Thickness , ElasticModulus, Density):\n",
    "    return ((ElasticModulus/Density)**0.5)*((10**((NN_Output-Y_interceptsFerquency)/GradientsFrequency))/Thickness)"
   ]
  },
  {
   "cell_type": "code",
   "execution_count": 75,
   "metadata": {},
   "outputs": [
    {
     "name": "stdout",
     "output_type": "stream",
     "text": [
      "1/1 [==============================] - 0s 33ms/step\n",
      "0.006005385195387014 283662961408.085 7853.168947068307\n",
      "Prediction [[134.61672659 170.67094769 317.58900556 363.94756949 444.62147542\n",
      "  531.97923387 682.49625083 745.43237526]]\n",
      "Actual [146.31829688 150.06825323 338.24606287 384.32552651 402.27531758\n",
      " 493.89425115 610.06289896 732.75147089]\n"
     ]
    }
   ],
   "source": [
    "IndexToTest = 1\n",
    "\n",
    "\n",
    "DataToPredict = tf.convert_to_tensor([TestSetInputs[IndexToTest]])\n",
    "\n",
    "\n",
    "thickness = TestSetAdditional[IndexToTest][0]\n",
    "ElasticModulus = TestSetAdditional[IndexToTest][1]\n",
    "Density = TestSetAdditional[IndexToTest][2]\n",
    "\n",
    "\n",
    "\n",
    "thickness = (thickness-Y_intercepts[0])/Gradients[0]\n",
    "ElasticModulus = (ElasticModulus-Y_intercepts[3])/Gradients[3]\n",
    "Density = (Density-Y_intercepts[4])/Gradients[4]\n",
    "\n",
    "predictions = Decoder(model.predict(DataToPredict),thickness,ElasticModulus,Density)\n",
    "actual = Decoder(TestSetOutputs[IndexToTest],thickness,ElasticModulus,Density)\n",
    "\n",
    "print(thickness,ElasticModulus,Density)\n",
    "\n",
    "print(\"Prediction\", predictions)\n",
    "print(\"Actual\", actual)"
   ]
  },
  {
   "cell_type": "code",
   "execution_count": 76,
   "metadata": {},
   "outputs": [
    {
     "data": {
      "image/png": "[encoded data removed]",
      "text/plain": [
       "<Figure size 432x288 with 1 Axes>"
      ]
     },
     "metadata": {
      "needs_background": "light"
     },
     "output_type": "display_data"
    }
   ],
   "source": [
    "Frequencies = ['f1','f2','f3','f4','f5','f6','f7','f8']\n",
    "\n",
    "plt.figure()\n",
    "\n",
    "X_axis = np.arange(len(Frequencies))\n",
    "plt.bar(X_axis-0.2, predictions[0], 0.4, label = 'AI Prediction')\n",
    "plt.bar(X_axis+0.2, actual, 0.4, label = 'Actual')\n",
    "#plt.grid()\n",
    "plt.legend()\n",
    "plt.show()"
   ]
  }
 ],
 "metadata": {
  "kernelspec": {
   "display_name": "Python 3.10.5 64-bit",
   "language": "python",
   "name": "python3"
  },
  "language_info": {
   "codemirror_mode": {
    "name": "ipython",
    "version": 3
   },
   "file_extension": ".py",
   "mimetype": "text/x-python",
   "name": "python",
   "nbconvert_exporter": "python",
   "pygments_lexer": "ipython3",
   "version": "3.10.5"
  },
  "orig_nbformat": 4,
  "vscode": {
   "interpreter": {
    "hash": "8f89a6284e35e05a02f78ae58e1195ef45c420fc64682672b9d4ce68be967371"
   }
  }
 },
 "nbformat": 4,
 "nbformat_minor": 2
}
