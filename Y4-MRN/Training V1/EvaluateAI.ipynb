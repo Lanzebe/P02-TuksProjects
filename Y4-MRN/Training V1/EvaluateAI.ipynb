{
 "cells": [
  {
   "cell_type": "code",
   "execution_count": 1,
   "metadata": {},
   "outputs": [],
   "source": [
    "import tensorflow as tf\n",
    "from tensorflow import keras\n",
    "import numpy as np\n",
    "import matplotlib.pyplot as plt\n",
    "#print(\"TensorFlow version:\", tf.__version__)"
   ]
  },
  {
   "cell_type": "code",
   "execution_count": 2,
   "metadata": {},
   "outputs": [],
   "source": [
    "TrainingSetInputs = np.load('TrainingSetInputs.npy', allow_pickle=True)\n",
    "TrainingSetOutputs = np.load('TrainingSetOutputs.npy', allow_pickle=True)\n",
    "TrainingSetAdditional = np.load('TrainingSetAdditional.npy', allow_pickle=True)\n",
    "\n",
    "TestSetInputs = np.load('TestSetInputs.npy', allow_pickle=True)\n",
    "TestSetOutputs = np.load('TestSetOutputs.npy', allow_pickle=True)\n",
    "TestSetAdditional = np.load('TestSetAdditional.npy', allow_pickle=True)\n",
    "\n",
    "ValidationSetInputs = np.load('ValidationSetInputs.npy', allow_pickle=True)\n",
    "ValidationSetOutputs = np.load('ValidationSetOutputs.npy', allow_pickle=True)\n",
    "ValidationSetAdditional = np.load('ValidationSetAdditional.npy', allow_pickle=True)\n",
    "\n",
    "\n",
    "train_dataset = tf.data.Dataset.from_tensor_slices((TrainingSetInputs, TrainingSetOutputs))\n",
    "test_dataset = tf.data.Dataset.from_tensor_slices((TestSetInputs, TestSetOutputs))\n",
    "validation_dataset = tf.data.Dataset.from_tensor_slices((ValidationSetInputs, ValidationSetOutputs))\n",
    "\n",
    "BATCH_SIZE = 64\n",
    "SHUFFLE_BUFFER_SIZE = 100\n",
    "\n",
    "Batched_train_dataset = train_dataset.shuffle(SHUFFLE_BUFFER_SIZE).batch(BATCH_SIZE)\n",
    "Batched_test_dataset = test_dataset.batch(BATCH_SIZE)\n",
    "Batched_validation_dataset = test_dataset.batch(BATCH_SIZE)"
   ]
  },
  {
   "cell_type": "code",
   "execution_count": 3,
   "metadata": {},
   "outputs": [],
   "source": [
    "modeltest = keras.models.load_model(\"./SavedModels/0.125 10 10\")"
   ]
  },
  {
   "cell_type": "code",
   "execution_count": 5,
   "metadata": {},
   "outputs": [
    {
     "name": "stdout",
     "output_type": "stream",
     "text": [
      "150/150 [==============================] - 1s 2ms/step - loss: 0.0035 - accuracy: 0.2914\n",
      "[0.0035193904768675566, 0.2913541793823242]\n"
     ]
    }
   ],
   "source": [
    "test_loss= modeltest.evaluate(Batched_validation_dataset)\n",
    "print(test_loss)\n",
    "#print(test_acc)"
   ]
  },
  {
   "cell_type": "code",
   "execution_count": 6,
   "metadata": {},
   "outputs": [],
   "source": [
    "Gradients = np.load('Gradients.npy', allow_pickle=True)\n",
    "Y_intercepts = np.load('C_Intercept.npy', allow_pickle=True)\n",
    "\n",
    "\n",
    "GradientsFrequency = Gradients[6:]\n",
    "Y_interceptsFerquency = Y_intercepts[6:]\n",
    "#print(Gradients)\n",
    "#print(Y_intercepts)"
   ]
  },
  {
   "cell_type": "code",
   "execution_count": 7,
   "metadata": {},
   "outputs": [],
   "source": [
    "def Decoder(NN_Output,Thickness , ElasticModulus, Density):\n",
    "    return ((ElasticModulus/Density)**0.5)*((10**((NN_Output-Y_interceptsFerquency)/GradientsFrequency))/Thickness)"
   ]
  },
  {
   "cell_type": "code",
   "execution_count": 22,
   "metadata": {},
   "outputs": [
    {
     "name": "stdout",
     "output_type": "stream",
     "text": [
      "1/1 [==============================] - 0s 99ms/step\n",
      "0.006005385195387014 283662961408.085 7853.168947068307\n",
      "Prediction [[ 161.44757857  233.21512719  401.34895872  490.63553974  608.75905209\n",
      "   765.53414372  893.13887765 1025.0819266 ]]\n",
      "Actual [146.31829688 150.06825323 338.24606287 384.32552651 402.27531758\n",
      " 493.89425115 610.06289896 732.75147089]\n"
     ]
    },
    {
     "data": {
      "image/png": "[encoded data removed]",
      "text/plain": [
       "<Figure size 432x288 with 1 Axes>"
      ]
     },
     "metadata": {
      "needs_background": "light"
     },
     "output_type": "display_data"
    }
   ],
   "source": [
    "IndexToTest = 1\n",
    "\n",
    "\n",
    "DataToPredict = tf.convert_to_tensor([TestSetInputs[IndexToTest]])\n",
    "\n",
    "\n",
    "thickness = TestSetAdditional[IndexToTest][0]\n",
    "ElasticModulus = TestSetAdditional[IndexToTest][1]\n",
    "Density = TestSetAdditional[IndexToTest][2]\n",
    "\n",
    "\n",
    "\n",
    "thickness = (thickness-Y_intercepts[0])/Gradients[0]\n",
    "ElasticModulus = (ElasticModulus-Y_intercepts[3])/Gradients[3]\n",
    "Density = (Density-Y_intercepts[4])/Gradients[4]\n",
    "\n",
    "predictions = Decoder(modeltest.predict(DataToPredict),thickness,ElasticModulus,Density)\n",
    "actual = Decoder(TestSetOutputs[IndexToTest],thickness,ElasticModulus,Density)\n",
    "\n",
    "print(thickness,ElasticModulus,Density)\n",
    "\n",
    "print(\"Prediction\", predictions)\n",
    "print(\"Actual\", actual)\n",
    "\n",
    "Frequencies = ['f1','f2','f3','f4','f5','f6','f7','f8']\n",
    "\n",
    "plt.figure()\n",
    "\n",
    "X_axis = np.arange(len(Frequencies))\n",
    "plt.bar(X_axis-0.2, predictions[0], 0.4, label = 'AI Prediction')\n",
    "plt.bar(X_axis+0.2, actual, 0.4, label = 'Actual')\n",
    "plt.grid()\n",
    "plt.legend()\n",
    "plt.show()"
   ]
  },
  {
   "cell_type": "code",
   "execution_count": 26,
   "metadata": {},
   "outputs": [
    {
     "name": "stdout",
     "output_type": "stream",
     "text": [
      "1/1 [==============================] - 0s 34ms/step\n",
      "[ 99.05386369 143.08582157 246.24194059 301.02245143 373.49545099\n",
      " 469.68257684 547.97264494 628.92442447]\n",
      "[ 110.85418837  288.63486807  307.16389667  595.80876421  604.84829031\n",
      "  938.25081139 1002.44744583 1330.63024056]\n",
      "[0.10644906 0.50426703 0.19833697 0.49476666 0.3824973  0.49940616\n",
      " 0.45336521 0.52734847]\n",
      "1/1 [==============================] - 0s 32ms/step\n",
      "[ 161.44757857  233.21512719  401.34895872  490.63553974  608.75905209\n",
      "  765.53414372  893.13887765 1025.0819266 ]\n",
      "[146.31829688 150.06825323 338.24606287 384.32552651 402.27531758\n",
      " 493.89425115 610.06289896 732.75147089]\n",
      "[0.10339979 0.55406038 0.18655914 0.2766145  0.51328959 0.54999606\n",
      " 0.46401114 0.39894899]\n",
      "1/1 [==============================] - 0s 33ms/step\n",
      "[ 95.52952952 137.99483137 237.48065807 290.3120796  360.20649152\n",
      " 452.97128167 528.47579097 606.54730806]\n",
      "[159.88680462 177.37645508 371.87256802 402.95194689 467.59065507\n",
      " 550.26900272 695.30610411 788.44424272]\n",
      "[0.40251774 0.22202284 0.36139237 0.27953672 0.22965421 0.17681847\n",
      " 0.23993794 0.23070361]\n",
      "1/1 [==============================] - 0s 30ms/step\n",
      "[ 229.72500611  331.84360519  571.08253226  698.12909781  866.20795558\n",
      " 1089.28444396 1270.85420513 1458.59698824]\n",
      "[ 222.01699343  614.24168188  688.89067098 1208.38363596 1410.38090049\n",
      " 2002.67287962 2194.37028364 2994.95944199]\n",
      "[0.03471812 0.45975075 0.17101137 0.42226204 0.38583403 0.45608469\n",
      " 0.42085699 0.51298272]\n",
      "1/1 [==============================] - 0s 26ms/step\n",
      "[ 187.59818372  270.99034043  466.35778846  570.10663734  707.36330335\n",
      "  889.5321702  1037.80578651 1191.12042001]\n",
      "[ 130.07938105  232.03889591  361.92827786  491.69766039  712.64660907\n",
      "  804.82617046 1160.09448001 1194.69431538]\n",
      "[0.44218232 0.16786601 0.28853648 0.15946583 0.00741364 0.10524757\n",
      " 0.1054127  0.00299147]\n",
      "0.3124629278181175\n"
     ]
    }
   ],
   "source": [
    "accuracy = []\n",
    "\n",
    "for i in range(5):\n",
    "    thickness = TestSetAdditional[i][0]\n",
    "    ElasticModulus = TestSetAdditional[i][1]\n",
    "    Density = TestSetAdditional[i][2]\n",
    "\n",
    "\n",
    "\n",
    "    thickness = (thickness-Y_intercepts[0])/Gradients[0]\n",
    "    ElasticModulus = (ElasticModulus-Y_intercepts[3])/Gradients[3]\n",
    "    Density = (Density-Y_intercepts[4])/Gradients[4]\n",
    "\n",
    "    predictions = Decoder(modeltest.predict(DataToPredict),thickness,ElasticModulus,Density)[0]\n",
    "    actual = Decoder(TestSetOutputs[i],thickness,ElasticModulus,Density)\n",
    "\n",
    "    print(predictions)\n",
    "    print(actual)\n",
    "    print(abs(predictions-actual)/actual)\n",
    "    accuracy.append(np.mean(abs(predictions-actual)/actual))\n",
    "\n",
    "print(np.mean(accuracy))\n",
    "\n",
    "\n",
    "    \n",
    "    "
   ]
  },
  {
   "cell_type": "code",
   "execution_count": 16,
   "metadata": {},
   "outputs": [],
   "source": [
    "accuracyold = accuracy"
   ]
  }
 ],
 "metadata": {
  "kernelspec": {
   "display_name": "Python 3.10.5 64-bit",
   "language": "python",
   "name": "python3"
  },
  "language_info": {
   "codemirror_mode": {
    "name": "ipython",
    "version": 3
   },
   "file_extension": ".py",
   "mimetype": "text/x-python",
   "name": "python",
   "nbconvert_exporter": "python",
   "pygments_lexer": "ipython3",
   "version": "3.10.5"
  },
  "orig_nbformat": 4,
  "vscode": {
   "interpreter": {
    "hash": "8f89a6284e35e05a02f78ae58e1195ef45c420fc64682672b9d4ce68be967371"
   }
  }
 },
 "nbformat": 4,
 "nbformat_minor": 2
}
