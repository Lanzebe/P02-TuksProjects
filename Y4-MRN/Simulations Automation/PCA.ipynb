{
 "cells": [
  {
   "cell_type": "code",
   "execution_count": 4,
   "metadata": {},
   "outputs": [],
   "source": [
    "from sklearn.decomposition import PCA\n",
    "import numpy as np\n",
    "import matplotlib.pyplot as plt\n",
    "\n",
    "\n"
   ]
  },
  {
   "cell_type": "code",
   "execution_count": 14,
   "metadata": {},
   "outputs": [
    {
     "name": "stdout",
     "output_type": "stream",
     "text": [
      "Input shape (38400, 3)\n",
      "Output shape (38400, 8)\n",
      "Output shape (38400, 3)\n"
     ]
    }
   ],
   "source": [
    "\n",
    "InputData = np.load('TrainingSetInputs.npy', allow_pickle=True)\n",
    "OutputData = np.load('TrainingSetOutputs.npy', allow_pickle=True)\n",
    "AdditionalData = np.load('TrainingSetAdditional.npy', allow_pickle=True)\n",
    "\n",
    "\n",
    "print('Input shape',np.shape(InputData))\n",
    "print('Output shape',np.shape(OutputData))\n",
    "print('Output shape',np.shape(AdditionalData))"
   ]
  },
  {
   "cell_type": "code",
   "execution_count": 16,
   "metadata": {},
   "outputs": [],
   "source": [
    "x = np.array([InputData[:,0], InputData[:,1],InputData[:,2],AdditionalData[:,0],AdditionalData[:,1],AdditionalData[:,2],OutputData[:,0]]).T\n",
    "\n",
    "\n"
   ]
  },
  {
   "cell_type": "code",
   "execution_count": 30,
   "metadata": {},
   "outputs": [
    {
     "name": "stdout",
     "output_type": "stream",
     "text": [
      "components: [[-6.62262680e-01 -6.08171606e-01  5.49624310e-03  6.10635028e-02\n",
      "  -3.61608119e-02  7.97147788e-03  4.31746838e-01]\n",
      " [ 7.14215657e-03  9.19219897e-03  3.08152815e-01  5.35108670e-01\n",
      "   4.38943763e-01 -6.52568739e-01 -6.88916287e-03]\n",
      " [ 3.74896779e-03 -2.39904318e-03  5.64357265e-01 -3.12981491e-01\n",
      "  -6.38378159e-01 -4.19473092e-01 -6.26936638e-03]\n",
      " [-2.05785208e-02 -1.71296894e-02  7.06575443e-01 -2.87887548e-01\n",
      "   4.86753674e-01  4.24435635e-01  8.95840597e-03]\n",
      " [ 3.98039438e-02  4.43587994e-02  2.95361866e-01  7.27350670e-01\n",
      "  -4.01946836e-01  4.66867356e-01 -2.53757001e-02]\n",
      " [ 5.64137615e-01 -7.88186476e-01 -5.88488634e-04  7.04651920e-03\n",
      "   1.82602227e-03  4.39565405e-03 -2.45841769e-01]]\n",
      "mean:       [0.66809009 0.336251   0.49975261 0.50298591 0.50125448 0.50270594\n",
      " 0.22305185]\n",
      "explained_variance_:       [0.10109582 0.08472632 0.08326997 0.08274565 0.08152353 0.02964747]\n",
      "covariance: [[ 5.42248713e-02  2.77597218e-02 -2.57050610e-04 -8.95161980e-04\n",
      "   3.85116952e-04 -1.94730194e-04 -3.26271130e-02]\n",
      " [ 2.77597218e-02  5.60106402e-02 -1.29847507e-04 -4.01628515e-04\n",
      "   5.06587233e-04  6.93030825e-05 -2.08277011e-02]\n",
      " [-2.57050610e-04 -1.29847507e-04  8.29926300e-02 -2.13045303e-05\n",
      "   2.20264104e-04 -6.89327126e-04 -3.12554095e-04]\n",
      " [-8.95161980e-04 -4.01628515e-04 -2.13045303e-05  8.27830171e-02\n",
      "   8.86180816e-04 -1.03080891e-03  7.44722723e-04]\n",
      " [ 3.85116952e-04  5.06587233e-04  2.20264104e-04  8.86180816e-04\n",
      "   8.31672821e-02 -2.03238727e-04 -3.21655550e-04]\n",
      " [-1.94730194e-04  6.93030825e-05 -6.89327126e-04 -1.03080891e-03\n",
      "  -2.03238727e-04  8.34149018e-02  2.62915451e-04]\n",
      " [-3.26271130e-02 -2.08277011e-02 -3.12554095e-04  7.44722723e-04\n",
      "  -3.21655550e-04  2.62915451e-04  2.15769513e-02]]\n"
     ]
    }
   ],
   "source": [
    "\n",
    "pc = PCA(n_components=6)\n",
    "pc = pc.fit(x)\n",
    "\n",
    "print(\"components:\", pc.components_)\n",
    "print(\"mean:      \", pc.mean_)\n",
    "print(\"explained_variance_:      \", pc.explained_variance_)\n",
    "print(\"covariance:\", pc.get_covariance()) "
   ]
  },
  {
   "cell_type": "code",
   "execution_count": 28,
   "metadata": {},
   "outputs": [
    {
     "name": "stdout",
     "output_type": "stream",
     "text": [
      "[-0.66226268 -0.60817161  0.00549624  0.0610635  -0.03616081  0.00797148\n",
      "  0.43174684]\n"
     ]
    },
    {
     "data": {
      "image/png": "[encoded data removed]",
      "text/plain": [
       "<Figure size 432x288 with 1 Axes>"
      ]
     },
     "metadata": {
      "needs_background": "light"
     },
     "output_type": "display_data"
    }
   ],
   "source": [
    "plt.figure()\n",
    "print(pc.components_[0])\n",
    "plt.bar(['1','2','3','4','5','6','7'],pc.components_[3])\n",
    "plt.show()"
   ]
  },
  {
   "cell_type": "code",
   "execution_count": 41,
   "metadata": {},
   "outputs": [],
   "source": [
    "pca = PCA(n_components=6)\n",
    "pca = pca.fit_transform(x)\n",
    "\n"
   ]
  },
  {
   "cell_type": "code",
   "execution_count": 51,
   "metadata": {},
   "outputs": [
    {
     "name": "stdout",
     "output_type": "stream",
     "text": [
      "(38400, 6)\n"
     ]
    },
    {
     "data": {
      "image/png": "[encoded data removed]",
      "text/plain": [
       "<Figure size 432x288 with 1 Axes>"
      ]
     },
     "metadata": {
      "needs_background": "light"
     },
     "output_type": "display_data"
    }
   ],
   "source": [
    "print(np.shape(pca))\n",
    "plt.scatter(x[:,0],x[:,6], label = \"Original\")\n",
    "plt.scatter(pca[:,4], pca[:,5], label = \"Projected\")\n",
    "plt.legend(loc=\"best\", fancybox=True, shadow=True)\n",
    "plt.grid(True)\n",
    "plt.show()"
   ]
  }
 ],
 "metadata": {
  "kernelspec": {
   "display_name": "Python 3.10.5 64-bit",
   "language": "python",
   "name": "python3"
  },
  "language_info": {
   "codemirror_mode": {
    "name": "ipython",
    "version": 3
   },
   "file_extension": ".py",
   "mimetype": "text/x-python",
   "name": "python",
   "nbconvert_exporter": "python",
   "pygments_lexer": "ipython3",
   "version": "3.10.5"
  },
  "orig_nbformat": 4,
  "vscode": {
   "interpreter": {
    "hash": "8f89a6284e35e05a02f78ae58e1195ef45c420fc64682672b9d4ce68be967371"
   }
  }
 },
 "nbformat": 4,
 "nbformat_minor": 2
}
