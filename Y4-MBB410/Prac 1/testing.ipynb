{
 "cells": [
  {
   "cell_type": "code",
   "execution_count": 1,
   "metadata": {},
   "outputs": [],
   "source": [
    "import control"
   ]
  },
  {
   "cell_type": "code",
   "execution_count": 3,
   "metadata": {},
   "outputs": [
    {
     "name": "stdout",
     "output_type": "stream",
     "text": [
      "G1= \n",
      "  1\n",
      "-----\n",
      "s + 3\n",
      "\n"
     ]
    }
   ],
   "source": [
    "numG1 = [1]\n",
    "denG1 = [1,3]\n",
    "G1 = control.tf(numG1,denG1)\n",
    "print('G1=',G1)"
   ]
  }
 ],
 "metadata": {
  "kernelspec": {
   "display_name": "Python 3.10.5 64-bit",
   "language": "python",
   "name": "python3"
  },
  "language_info": {
   "codemirror_mode": {
    "name": "ipython",
    "version": 3
   },
   "file_extension": ".py",
   "mimetype": "text/x-python",
   "name": "python",
   "nbconvert_exporter": "python",
   "pygments_lexer": "ipython3",
   "version": "3.10.5"
  },
  "orig_nbformat": 4,
  "vscode": {
   "interpreter": {
    "hash": "8f89a6284e35e05a02f78ae58e1195ef45c420fc64682672b9d4ce68be967371"
   }
  }
 },
 "nbformat": 4,
 "nbformat_minor": 2
}
