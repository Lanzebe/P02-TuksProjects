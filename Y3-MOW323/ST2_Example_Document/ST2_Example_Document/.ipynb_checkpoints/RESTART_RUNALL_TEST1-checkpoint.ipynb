{
 "cells": [
  {
   "cell_type": "code",
   "execution_count": 1,
   "id": "00eac052",
   "metadata": {},
   "outputs": [
    {
     "name": "stdout",
     "output_type": "stream",
     "text": [
      "Successfully imported all modules\n"
     ]
    }
   ],
   "source": [
    "try:\n",
    "    import os    \n",
    "    if \"add_engmod.py\" in os.listdir(): \n",
    "        print(\"Exists!\"); import add_engmod\n",
    "        print(\"Development version is loaded. For office use only.\")\n",
    "except:\n",
    "    pass\n",
    "try:\n",
    "    import importlib; \n",
    "    import engmod.structfem as sfem; importlib.reload(sfem)\n",
    "    import numpy as np \n",
    "    try:\n",
    "        from datetime import datetime\n",
    "        \n",
    "        import os\n",
    "\n",
    "    except: \n",
    "        pass    \n",
    "    \n",
    "except Exception as e:\n",
    "    print(e)\n",
    "    print(\"Engmod is not imported. Please ensure that the jupyter notebook and engmod folder is in the same directory.\")\n",
    "import matplotlib.pyplot as plt \n",
    "\n",
    "import numpy as np\n",
    "# import scipy.optimize as sciopt\n",
    "import scipy.linalg as slin\n",
    "import matplotlib.pyplot as plt \n",
    "\n",
    "print(\"Successfully imported all modules\")"
   ]
  },
  {
   "cell_type": "code",
   "execution_count": 2,
   "id": "c460d06c",
   "metadata": {},
   "outputs": [],
   "source": [
    "# The total length of the beam. \n",
    "L_beam = 1 \n",
    "# The Young's modulus in Pa\n",
    "E = 200E9\n",
    "# The height of the beam in metres\n",
    "h = 30/1E3\n",
    "# The width of the beam in metres\n",
    "b = 10/1E3\n",
    "# The area moment of inertia:\n",
    "I = 1/12 * b * h**3\n",
    "# The cross-sectional area\n",
    "A = h * b\n",
    "# The density (only important for dynamic analyses)\n",
    "rho = 7800\n",
    "# The force applied to the structure. \n",
    "F = 1000"
   ]
  },
  {
   "cell_type": "code",
   "execution_count": 3,
   "id": "2fc35e1d",
   "metadata": {},
   "outputs": [
    {
     "name": "stdout",
     "output_type": "stream",
     "text": [
      "[[  1   1 100]]\n"
     ]
    }
   ],
   "source": [
    "\n",
    "# In this beam we have three nodes\n",
    "nodecoor = np.array([\n",
    "                     [0,0],        # Node 0\n",
    "                     [L_beam/2,0], # Node 1\n",
    "                     [L_beam,0]])  # Node 2\n",
    "\n",
    "elemconn = np.array([\n",
    "                     [0,1], # Element 0 connects Node 0 and Node 1\n",
    "                     [1,2]  # Element 1 connects Node 1 and Node 2\n",
    "                     ])\n",
    "\n",
    "# Initialise the prescribed displacement as an empty list:\n",
    "prescribed_displacement = []\n",
    "# Prescribed displacement applied to Node 0, in the 0 direction (x-direcion) with a displacement of 0\n",
    "prescribed_displacement.append(np.array([0,0,0]))\n",
    "# Prescribed displacement applied to Node 0, in the 1 direction (y-direcion) with a displacement of 0\n",
    "prescribed_displacement.append(np.array([0,1,0]))\n",
    "# Prescribed displacement applied to Node 2, in the 0 direction (x-direcion) with a displacement of 0\n",
    "prescribed_displacement.append(np.array([2,0,0]))\n",
    "# Prescribed displacement applied to Node 2, in the 1 direction (y-direcion) with a displacement of 0\n",
    "prescribed_displacement.append(np.array([2,1,0]))\n",
    "# Convert the prescribed displacement list to an array:\n",
    "prescribed_displacement = np.array(prescribed_displacement)\n",
    "\n",
    "\"\"\"\n",
    "This is an equivalent method to define the prescribed displacements\n",
    "\n",
    "prescribed_displacement = np.array([\n",
    "                                    [0,0,0], # Node 0, in the 0 direction (x-direcion) with a displacement of 0\n",
    "                                    [0,1,0], # Node 0, in the 1 direction (y-direcion) with a displacement of 0\n",
    "                                    [2,0,0], # Node 2, in the 0 direction (x-direcion) with a displacement of 0\n",
    "                                    [2,1,0]  # Node 2, in the 1 direction (y-direcion) with a displacement of 0\n",
    "                                   ])\n",
    "\"\"\"\n",
    "\n",
    "# Initialise the prescribed force as an empty list:\n",
    "prescribed_forces = np.array([[1,1,100]])\n",
    "\n",
    "\"\"\"\n",
    "This is an equivalent method to define the prescribed forces\n",
    "\n",
    "prescribed_forces = np.array([\n",
    "                              [1,1,F], # Prescribed force applied to Node 1, in the 1 direction (y-direcion) with a magnitude of F.\n",
    "                             ])\n",
    "\"\"\"\n",
    "\n",
    "# Element properties\n",
    "elemprop = {}\n",
    "# Young's modulus [Pa]\n",
    "elemprop[\"E\"] = np.ones(elemconn.shape[0]) * E\n",
    "# Area moment of inertia [m^4]\n",
    "elemprop[\"I\"] = np.ones(elemconn.shape[0]) * I\n",
    "# Cross-sectional area [m^2]\n",
    "elemprop[\"A\"] = np.ones(elemconn.shape[0]) * A\n",
    "# Density [kg/m^3]\n",
    "elemprop[\"density\"] = np.ones(elemconn.shape[0]) * rho\n",
    "\n",
    "print(prescribed_forces)\n",
    "fmn = sfem.FEM_Beam_2D(nodecoor,                # Nodal coordinates\n",
    "                       elemconn,                # Element connectivity\n",
    "                       prescribed_displacement, # Prescribed displacements\n",
    "                       prescribed_forces,       # Prescribed forces\n",
    "                       elemprop)                # Element properties\n"
   ]
  },
  {
   "cell_type": "code",
   "execution_count": 4,
   "id": "82e3ff3a",
   "metadata": {},
   "outputs": [
    {
     "data": {
      "text/plain": [
       "{'displacements': array([ 0.00000000e+00,  0.00000000e+00,  1.38888889e-03,  0.00000000e+00,\n",
       "         4.62962963e-04, -9.37393167e-20,  0.00000000e+00,  0.00000000e+00,\n",
       "        -1.38888889e-03]),\n",
       " 'loads': array([  0., -50.,   0.,   0., 100.,   0.,   0., -50.,   0.])}"
      ]
     },
     "execution_count": 4,
     "metadata": {},
     "output_type": "execute_result"
    }
   ],
   "source": [
    "fmn.solve()"
   ]
  },
  {
   "cell_type": "code",
   "execution_count": 5,
   "id": "4d4124b7",
   "metadata": {},
   "outputs": [
    {
     "data": {
      "image/png": "[encoded data removed]",
      "text/plain": [
       "<Figure size 432x288 with 1 Axes>"
      ]
     },
     "metadata": {
      "needs_background": "light"
     },
     "output_type": "display_data"
    }
   ],
   "source": [
    "fmn.plot_system()"
   ]
  },
  {
   "cell_type": "code",
   "execution_count": 6,
   "id": "c67134fd",
   "metadata": {},
   "outputs": [
    {
     "data": {
      "image/png": "[encoded data removed]",
      "text/plain": [
       "<Figure size 432x288 with 1 Axes>"
      ]
     },
     "metadata": {
      "needs_background": "light"
     },
     "output_type": "display_data"
    }
   ],
   "source": [
    "fmn.plot_system(show_displacement=True,magnification=10)"
   ]
  },
  {
   "cell_type": "code",
   "execution_count": 7,
   "id": "3013ba16",
   "metadata": {},
   "outputs": [
    {
     "data": {
      "image/png": "[encoded data removed]",
      "text/plain": [
       "<Figure size 432x288 with 1 Axes>"
      ]
     },
     "metadata": {
      "needs_background": "light"
     },
     "output_type": "display_data"
    }
   ],
   "source": [
    "fmn.plot_system(show_element_numbers=False,show_node_numbers=False,show_displacement=True)"
   ]
  },
  {
   "cell_type": "code",
   "execution_count": 8,
   "id": "02a75499",
   "metadata": {},
   "outputs": [
    {
     "data": {
      "text/plain": [
       "{'natural_frequencies_hz': array([  69.15585371,  305.82224648,  768.70936229, 1401.45359367,\n",
       "        2791.76238302]),\n",
       " 'modes': array([[ 2.92683529e+00, -7.16114874e+00, -1.54138730e+01,\n",
       "          1.89466187e+01,  2.72809231e-15],\n",
       "        [-6.83576512e-17,  3.67461186e-17, -6.54976442e-17,\n",
       "          8.94441744e-17, -1.13227703e+00],\n",
       "        [ 9.31859902e-01, -3.10284713e-15,  8.42345768e-01,\n",
       "          1.17305277e-15, -8.95370389e-17],\n",
       "        [ 1.79193948e-14,  7.16114874e+00, -1.29434880e-14,\n",
       "          1.89466187e+01,  2.86146874e-15],\n",
       "        [-2.92683529e+00, -7.16114874e+00,  1.54138730e+01,\n",
       "          1.89466187e+01,  7.38814933e-16]]),\n",
       " 'coor_global': array([0. , 0.5, 1. , 0. , 0. , 0. ]),\n",
       " 'index_p': array([0, 1, 6, 7]),\n",
       " 'index_f': array([2, 3, 4, 5, 8])}"
      ]
     },
     "execution_count": 8,
     "metadata": {},
     "output_type": "execute_result"
    }
   ],
   "source": [
    "fmn.eigen()"
   ]
  },
  {
   "cell_type": "code",
   "execution_count": 9,
   "id": "2f4d732c",
   "metadata": {},
   "outputs": [
    {
     "data": {
      "image/png": "[encoded data removed]",
      "text/plain": [
       "<Figure size 432x288 with 1 Axes>"
      ]
     },
     "metadata": {
      "needs_background": "light"
     },
     "output_type": "display_data"
    },
    {
     "data": {
      "image/png": "[encoded data removed]",
      "text/plain": [
       "<Figure size 432x288 with 1 Axes>"
      ]
     },
     "metadata": {
      "needs_background": "light"
     },
     "output_type": "display_data"
    },
    {
     "data": {
      "image/png": "[encoded data removed]",
      "text/plain": [
       "<Figure size 432x288 with 1 Axes>"
      ]
     },
     "metadata": {
      "needs_background": "light"
     },
     "output_type": "display_data"
    }
   ],
   "source": [
    "fmn.plot_modes()"
   ]
  },
  {
   "cell_type": "code",
   "execution_count": 10,
   "id": "37657aac",
   "metadata": {},
   "outputs": [
    {
     "data": {
      "image/png": "[encoded data removed]",
      "text/plain": [
       "<Figure size 432x288 with 1 Axes>"
      ]
     },
     "metadata": {
      "needs_background": "light"
     },
     "output_type": "display_data"
    },
    {
     "data": {
      "image/png": "[encoded data removed]",
      "text/plain": [
       "<Figure size 432x288 with 1 Axes>"
      ]
     },
     "metadata": {
      "needs_background": "light"
     },
     "output_type": "display_data"
    },
    {
     "data": {
      "image/png": "[encoded data removed]",
      "text/plain": [
       "<Figure size 432x288 with 1 Axes>"
      ]
     },
     "metadata": {
      "needs_background": "light"
     },
     "output_type": "display_data"
    },
    {
     "data": {
      "image/png": "[encoded data removed]",
      "text/plain": [
       "<Figure size 432x288 with 1 Axes>"
      ]
     },
     "metadata": {
      "needs_background": "light"
     },
     "output_type": "display_data"
    }
   ],
   "source": [
    "fmn.plot_modes(number_of_modes=4)"
   ]
  },
  {
   "cell_type": "code",
   "execution_count": 11,
   "id": "b2b26d44",
   "metadata": {},
   "outputs": [
    {
     "data": {
      "text/plain": [
       "array([[ 1.20e+08,  0.00e+00,  0.00e+00, -1.20e+08,  0.00e+00,  0.00e+00,\n",
       "         0.00e+00,  0.00e+00,  0.00e+00],\n",
       "       [ 0.00e+00,  4.32e+05,  1.08e+05,  0.00e+00, -4.32e+05,  1.08e+05,\n",
       "         0.00e+00,  0.00e+00,  0.00e+00],\n",
       "       [ 0.00e+00,  1.08e+05,  3.60e+04,  0.00e+00, -1.08e+05,  1.80e+04,\n",
       "         0.00e+00,  0.00e+00,  0.00e+00],\n",
       "       [-1.20e+08,  0.00e+00,  0.00e+00,  2.40e+08,  0.00e+00,  0.00e+00,\n",
       "        -1.20e+08,  0.00e+00,  0.00e+00],\n",
       "       [ 0.00e+00, -4.32e+05, -1.08e+05,  0.00e+00,  8.64e+05,  0.00e+00,\n",
       "         0.00e+00, -4.32e+05,  1.08e+05],\n",
       "       [ 0.00e+00,  1.08e+05,  1.80e+04,  0.00e+00,  0.00e+00,  7.20e+04,\n",
       "         0.00e+00, -1.08e+05,  1.80e+04],\n",
       "       [ 0.00e+00,  0.00e+00,  0.00e+00, -1.20e+08,  0.00e+00,  0.00e+00,\n",
       "         1.20e+08,  0.00e+00,  0.00e+00],\n",
       "       [ 0.00e+00,  0.00e+00,  0.00e+00,  0.00e+00, -4.32e+05, -1.08e+05,\n",
       "         0.00e+00,  4.32e+05, -1.08e+05],\n",
       "       [ 0.00e+00,  0.00e+00,  0.00e+00,  0.00e+00,  1.08e+05,  1.80e+04,\n",
       "         0.00e+00, -1.08e+05,  3.60e+04]])"
      ]
     },
     "execution_count": 11,
     "metadata": {},
     "output_type": "execute_result"
    }
   ],
   "source": [
    "fmn.stiffness_global()"
   ]
  },
  {
   "cell_type": "code",
   "execution_count": 12,
   "id": "4e5e3201",
   "metadata": {},
   "outputs": [
    {
     "data": {
      "text/plain": [
       "array([[ 0.39      ,  0.        ,  0.        ,  0.195     ,  0.        ,\n",
       "         0.        ,  0.        ,  0.        ,  0.        ],\n",
       "       [ 0.        ,  0.43457143,  0.03064286,  0.        ,  0.15042857,\n",
       "        -0.01810714,  0.        ,  0.        ,  0.        ],\n",
       "       [ 0.        ,  0.03064286,  0.00278571,  0.        ,  0.01810714,\n",
       "        -0.00208929,  0.        ,  0.        ,  0.        ],\n",
       "       [ 0.195     ,  0.        ,  0.        ,  0.78      ,  0.        ,\n",
       "         0.        ,  0.195     ,  0.        ,  0.        ],\n",
       "       [ 0.        ,  0.15042857,  0.01810714,  0.        ,  0.86914286,\n",
       "         0.        ,  0.        ,  0.15042857, -0.01810714],\n",
       "       [ 0.        , -0.01810714, -0.00208929,  0.        ,  0.        ,\n",
       "         0.00557143,  0.        ,  0.01810714, -0.00208929],\n",
       "       [ 0.        ,  0.        ,  0.        ,  0.195     ,  0.        ,\n",
       "         0.        ,  0.39      ,  0.        ,  0.        ],\n",
       "       [ 0.        ,  0.        ,  0.        ,  0.        ,  0.15042857,\n",
       "         0.01810714,  0.        ,  0.43457143, -0.03064286],\n",
       "       [ 0.        ,  0.        ,  0.        ,  0.        , -0.01810714,\n",
       "        -0.00208929,  0.        , -0.03064286,  0.00278571]])"
      ]
     },
     "execution_count": 12,
     "metadata": {},
     "output_type": "execute_result"
    }
   ],
   "source": [
    "fmn.mass_global()"
   ]
  },
  {
   "cell_type": "code",
   "execution_count": 13,
   "id": "d266f337",
   "metadata": {},
   "outputs": [
    {
     "data": {
      "text/plain": [
       "array([[0, 1],\n",
       "       [1, 2]])"
      ]
     },
     "execution_count": 13,
     "metadata": {},
     "output_type": "execute_result"
    }
   ],
   "source": [
    "fmn.elemconn"
   ]
  },
  {
   "cell_type": "code",
   "execution_count": 14,
   "id": "674a7e75",
   "metadata": {},
   "outputs": [],
   "source": [
    "Mff,Kff = fmn.dynamic_make_matrices()"
   ]
  },
  {
   "cell_type": "code",
   "execution_count": 15,
   "id": "16fd847c",
   "metadata": {},
   "outputs": [
    {
     "data": {
      "text/plain": [
       "(array([[ 0.00278571,  0.        ,  0.01810714, -0.00208929,  0.        ],\n",
       "        [ 0.        ,  0.78      ,  0.        ,  0.        ,  0.        ],\n",
       "        [ 0.01810714,  0.        ,  0.86914286,  0.        , -0.01810714],\n",
       "        [-0.00208929,  0.        ,  0.        ,  0.00557143, -0.00208929],\n",
       "        [ 0.        ,  0.        , -0.01810714, -0.00208929,  0.00278571]]),\n",
       " array([[ 0.        ,  0.03064286,  0.        ,  0.        ],\n",
       "        [ 0.195     ,  0.        ,  0.195     ,  0.        ],\n",
       "        [ 0.        ,  0.15042857,  0.        ,  0.15042857],\n",
       "        [ 0.        , -0.01810714,  0.        ,  0.01810714],\n",
       "        [ 0.        ,  0.        ,  0.        , -0.03064286]]),\n",
       " array([[0.39      , 0.        , 0.        , 0.        ],\n",
       "        [0.        , 0.43457143, 0.        , 0.        ],\n",
       "        [0.        , 0.        , 0.39      , 0.        ],\n",
       "        [0.        , 0.        , 0.        , 0.43457143]]))"
      ]
     },
     "execution_count": 15,
     "metadata": {},
     "output_type": "execute_result"
    }
   ],
   "source": [
    "fmn.mass_global_partition()"
   ]
  },
  {
   "cell_type": "code",
   "execution_count": 16,
   "id": "915116f2",
   "metadata": {},
   "outputs": [
    {
     "data": {
      "text/plain": [
       "{'stress': array([0., 0.]), 'strain': array([0., 0.])}"
      ]
     },
     "execution_count": 16,
     "metadata": {},
     "output_type": "execute_result"
    }
   ],
   "source": [
    "fmn.post_axial_stress_strain()"
   ]
  },
  {
   "cell_type": "code",
   "execution_count": 17,
   "id": "7f493790",
   "metadata": {},
   "outputs": [
    {
     "data": {
      "text/plain": [
       "{'moment': array([-2.50000000e+01, -2.47474747e+01, -2.44949495e+01, -2.42424242e+01,\n",
       "        -2.39898990e+01, -2.37373737e+01, -2.34848485e+01, -2.32323232e+01,\n",
       "        -2.29797980e+01, -2.27272727e+01, -2.24747475e+01, -2.22222222e+01,\n",
       "        -2.19696970e+01, -2.17171717e+01, -2.14646465e+01, -2.12121212e+01,\n",
       "        -2.09595960e+01, -2.07070707e+01, -2.04545455e+01, -2.02020202e+01,\n",
       "        -1.99494949e+01, -1.96969697e+01, -1.94444444e+01, -1.91919192e+01,\n",
       "        -1.89393939e+01, -1.86868687e+01, -1.84343434e+01, -1.81818182e+01,\n",
       "        -1.79292929e+01, -1.76767677e+01, -1.74242424e+01, -1.71717172e+01,\n",
       "        -1.69191919e+01, -1.66666667e+01, -1.64141414e+01, -1.61616162e+01,\n",
       "        -1.59090909e+01, -1.56565657e+01, -1.54040404e+01, -1.51515152e+01,\n",
       "        -1.48989899e+01, -1.46464646e+01, -1.43939394e+01, -1.41414141e+01,\n",
       "        -1.38888889e+01, -1.36363636e+01, -1.33838384e+01, -1.31313131e+01,\n",
       "        -1.28787879e+01, -1.26262626e+01, -1.23737374e+01, -1.21212121e+01,\n",
       "        -1.18686869e+01, -1.16161616e+01, -1.13636364e+01, -1.11111111e+01,\n",
       "        -1.08585859e+01, -1.06060606e+01, -1.03535354e+01, -1.01010101e+01,\n",
       "        -9.84848485e+00, -9.59595960e+00, -9.34343434e+00, -9.09090909e+00,\n",
       "        -8.83838384e+00, -8.58585859e+00, -8.33333334e+00, -8.08080808e+00,\n",
       "        -7.82828283e+00, -7.57575758e+00, -7.32323233e+00, -7.07070707e+00,\n",
       "        -6.81818182e+00, -6.56565657e+00, -6.31313132e+00, -6.06060606e+00,\n",
       "        -5.80808081e+00, -5.55555556e+00, -5.30303031e+00, -5.05050505e+00,\n",
       "        -4.79797980e+00, -4.54545455e+00, -4.29292930e+00, -4.04040404e+00,\n",
       "        -3.78787879e+00, -3.53535354e+00, -3.28282829e+00, -3.03030303e+00,\n",
       "        -2.77777778e+00, -2.52525253e+00, -2.27272728e+00, -2.02020202e+00,\n",
       "        -1.76767677e+00, -1.51515152e+00, -1.26262627e+00, -1.01010101e+00,\n",
       "        -7.57575760e-01, -5.05050508e-01, -2.52525255e-01, -2.50000021e-09]),\n",
       " 'x_coor': array([0.5       , 0.50505051, 0.51010101, 0.51515152, 0.52020202,\n",
       "        0.52525253, 0.53030303, 0.53535354, 0.54040404, 0.54545455,\n",
       "        0.55050505, 0.55555556, 0.56060606, 0.56565657, 0.57070707,\n",
       "        0.57575758, 0.58080808, 0.58585859, 0.59090909, 0.5959596 ,\n",
       "        0.6010101 , 0.60606061, 0.61111111, 0.61616162, 0.62121212,\n",
       "        0.62626263, 0.63131313, 0.63636364, 0.64141414, 0.64646465,\n",
       "        0.65151515, 0.65656566, 0.66161616, 0.66666667, 0.67171717,\n",
       "        0.67676768, 0.68181818, 0.68686869, 0.69191919, 0.6969697 ,\n",
       "        0.7020202 , 0.70707071, 0.71212121, 0.71717172, 0.72222222,\n",
       "        0.72727273, 0.73232323, 0.73737374, 0.74242424, 0.74747475,\n",
       "        0.75252525, 0.75757576, 0.76262626, 0.76767677, 0.77272727,\n",
       "        0.77777778, 0.78282828, 0.78787879, 0.79292929, 0.7979798 ,\n",
       "        0.8030303 , 0.80808081, 0.81313131, 0.81818182, 0.82323232,\n",
       "        0.82828283, 0.83333333, 0.83838384, 0.84343434, 0.84848485,\n",
       "        0.85353535, 0.85858586, 0.86363636, 0.86868687, 0.87373737,\n",
       "        0.87878788, 0.88383838, 0.88888889, 0.89393939, 0.8989899 ,\n",
       "        0.9040404 , 0.90909091, 0.91414141, 0.91919192, 0.92424242,\n",
       "        0.92929293, 0.93434343, 0.93939394, 0.94444444, 0.94949495,\n",
       "        0.95454545, 0.95959596, 0.96464646, 0.96969697, 0.97474747,\n",
       "        0.97979798, 0.98484848, 0.98989899, 0.99494949, 1.        ]),\n",
       " 'y_coor': array([0., 0., 0., 0., 0., 0., 0., 0., 0., 0., 0., 0., 0., 0., 0., 0., 0.,\n",
       "        0., 0., 0., 0., 0., 0., 0., 0., 0., 0., 0., 0., 0., 0., 0., 0., 0.,\n",
       "        0., 0., 0., 0., 0., 0., 0., 0., 0., 0., 0., 0., 0., 0., 0., 0., 0.,\n",
       "        0., 0., 0., 0., 0., 0., 0., 0., 0., 0., 0., 0., 0., 0., 0., 0., 0.,\n",
       "        0., 0., 0., 0., 0., 0., 0., 0., 0., 0., 0., 0., 0., 0., 0., 0., 0.,\n",
       "        0., 0., 0., 0., 0., 0., 0., 0., 0., 0., 0., 0., 0., 0., 0.])}"
      ]
     },
     "execution_count": 17,
     "metadata": {},
     "output_type": "execute_result"
    }
   ],
   "source": [
    "fmn.post_get_bending_moment(1)"
   ]
  },
  {
   "cell_type": "code",
   "execution_count": 18,
   "id": "d987f4d0",
   "metadata": {},
   "outputs": [
    {
     "data": {
      "text/plain": [
       "0.0"
      ]
     },
     "execution_count": 18,
     "metadata": {},
     "output_type": "execute_result"
    }
   ],
   "source": [
    "fmn.post_get_displacement(2,1)"
   ]
  },
  {
   "cell_type": "code",
   "execution_count": 19,
   "id": "ba2686e8",
   "metadata": {},
   "outputs": [
    {
     "data": {
      "text/plain": [
       "{'x_displ': array([0., 0., 0., 0., 0., 0., 0., 0., 0., 0., 0., 0., 0., 0., 0., 0., 0.,\n",
       "        0., 0., 0.]),\n",
       " 'y_displ': array([4.62962963e-04, 4.61073043e-04, 4.55538276e-04, 4.46561155e-04,\n",
       "        4.34344171e-04, 4.19089814e-04, 4.01000578e-04, 3.80278952e-04,\n",
       "        3.57127429e-04, 3.31748500e-04, 3.04344657e-04, 2.75118390e-04,\n",
       "        2.44272192e-04, 2.12008553e-04, 1.78529966e-04, 1.44038922e-04,\n",
       "        1.08737911e-04, 7.28294267e-05, 3.65159591e-05, 6.94444502e-14]),\n",
       " 'x_coor': array([0.5       , 0.52631579, 0.55263158, 0.57894737, 0.60526316,\n",
       "        0.63157895, 0.65789474, 0.68421053, 0.71052632, 0.73684211,\n",
       "        0.76315789, 0.78947368, 0.81578947, 0.84210526, 0.86842105,\n",
       "        0.89473684, 0.92105263, 0.94736842, 0.97368421, 1.        ]),\n",
       " 'y_coor': array([0., 0., 0., 0., 0., 0., 0., 0., 0., 0., 0., 0., 0., 0., 0., 0., 0.,\n",
       "        0., 0., 0.])}"
      ]
     },
     "execution_count": 19,
     "metadata": {},
     "output_type": "execute_result"
    }
   ],
   "source": [
    "fmn.post_get_displacement_element(1)"
   ]
  },
  {
   "cell_type": "code",
   "execution_count": 20,
   "id": "719e7617",
   "metadata": {},
   "outputs": [
    {
     "data": {
      "text/plain": [
       "-49.99999999999997"
      ]
     },
     "execution_count": 20,
     "metadata": {},
     "output_type": "execute_result"
    }
   ],
   "source": [
    "fmn.post_get_force(2,1)"
   ]
  },
  {
   "cell_type": "code",
   "execution_count": 21,
   "id": "eb75b6c8",
   "metadata": {},
   "outputs": [
    {
     "name": "stdout",
     "output_type": "stream",
     "text": [
      "WARNING: It does not include the stresses due to the bending moments.\n"
     ]
    },
    {
     "data": {
      "text/plain": [
       "0.0"
      ]
     },
     "execution_count": 21,
     "metadata": {},
     "output_type": "execute_result"
    }
   ],
   "source": [
    "fmn.post_get_stress(1)"
   ]
  },
  {
   "cell_type": "code",
   "execution_count": 22,
   "id": "b2eae6a5",
   "metadata": {},
   "outputs": [
    {
     "name": "stdout",
     "output_type": "stream",
     "text": [
      "Minimum bending moment: -25.0\n",
      "Maximum bending moment: 1.561251128379126e-14\n"
     ]
    },
    {
     "data": {
      "image/png": "[encoded data removed]",
      "text/plain": [
       "<Figure size 432x288 with 2 Axes>"
      ]
     },
     "metadata": {
      "needs_background": "light"
     },
     "output_type": "display_data"
    }
   ],
   "source": [
    "fmn.post_plot_bending_moment()"
   ]
  },
  {
   "cell_type": "code",
   "execution_count": 23,
   "id": "4877bb92",
   "metadata": {},
   "outputs": [
    {
     "name": "stdout",
     "output_type": "stream",
     "text": [
      "                     Element 0                     \n",
      "Data: 0.000002\n",
      "                     Element 1                     \n",
      "Data: 0.000002\n"
     ]
    }
   ],
   "source": [
    "fmn.post_print_element_data([2,2])"
   ]
  },
  {
   "cell_type": "code",
   "execution_count": 24,
   "id": "bfbffe5e",
   "metadata": {},
   "outputs": [
    {
     "name": "stdout",
     "output_type": "stream",
     "text": [
      "                     Node 0                     \n",
      "u_x: 0.000000 x 10^-3, u_y: 0.000000 x 10^-3, angle: 0.001389, F_x: 0.000000, F_y: -50.000000, M_z: 0.000000\n",
      "                     Node 1                     \n",
      "u_x: 0.000000 x 10^-3, u_y: 0.462963 x 10^-3, angle: -0.000000, F_x: 0.000000, F_y: 100.000000, M_z: 0.000000\n",
      "                     Node 2                     \n",
      "u_x: 0.000000 x 10^-3, u_y: 0.000000 x 10^-3, angle: -0.001389, F_x: 0.000000, F_y: -50.000000, M_z: 0.000000\n",
      "\n",
      "******************** WARNING ********************\n",
      "*** Bending stresses not calculated ***\n",
      "******************** WARNING ********************\n",
      "\n",
      "                     Element 0                     \n",
      "Normal stress due to axial load (only): 0.000000 x 10^6\n",
      "                     Element 1                     \n",
      "Normal stress due to axial load (only): 0.000000 x 10^6\n",
      "\n",
      "******************** WARNING ********************\n",
      "*** Bending stresses not calculated ***\n",
      "******************** WARNING ********************\n"
     ]
    }
   ],
   "source": [
    "fmn.post_print_solution()\n"
   ]
  },
  {
   "cell_type": "code",
   "execution_count": 25,
   "id": "e38fa66d",
   "metadata": {},
   "outputs": [
    {
     "data": {
      "text/plain": [
       "{'displacements': array([ 0.00000000e+00,  0.00000000e+00,  1.38888889e-03,  0.00000000e+00,\n",
       "         4.62962963e-04, -9.37393167e-20,  0.00000000e+00,  0.00000000e+00,\n",
       "        -1.38888889e-03]),\n",
       " 'loads': array([  0., -50.,   0.,   0., 100.,   0.,   0., -50.,   0.])}"
      ]
     },
     "execution_count": 25,
     "metadata": {},
     "output_type": "execute_result"
    }
   ],
   "source": [
    "fmn.solution_dict"
   ]
  },
  {
   "cell_type": "code",
   "execution_count": 26,
   "id": "2691044a",
   "metadata": {},
   "outputs": [
    {
     "data": {
      "text/plain": [
       "array([[ 1.20e+08,  0.00e+00,  0.00e+00, -1.20e+08,  0.00e+00,  0.00e+00,\n",
       "         0.00e+00,  0.00e+00,  0.00e+00],\n",
       "       [ 0.00e+00,  4.32e+05,  1.08e+05,  0.00e+00, -4.32e+05,  1.08e+05,\n",
       "         0.00e+00,  0.00e+00,  0.00e+00],\n",
       "       [ 0.00e+00,  1.08e+05,  3.60e+04,  0.00e+00, -1.08e+05,  1.80e+04,\n",
       "         0.00e+00,  0.00e+00,  0.00e+00],\n",
       "       [-1.20e+08,  0.00e+00,  0.00e+00,  2.40e+08,  0.00e+00,  0.00e+00,\n",
       "        -1.20e+08,  0.00e+00,  0.00e+00],\n",
       "       [ 0.00e+00, -4.32e+05, -1.08e+05,  0.00e+00,  8.64e+05,  0.00e+00,\n",
       "         0.00e+00, -4.32e+05,  1.08e+05],\n",
       "       [ 0.00e+00,  1.08e+05,  1.80e+04,  0.00e+00,  0.00e+00,  7.20e+04,\n",
       "         0.00e+00, -1.08e+05,  1.80e+04],\n",
       "       [ 0.00e+00,  0.00e+00,  0.00e+00, -1.20e+08,  0.00e+00,  0.00e+00,\n",
       "         1.20e+08,  0.00e+00,  0.00e+00],\n",
       "       [ 0.00e+00,  0.00e+00,  0.00e+00,  0.00e+00, -4.32e+05, -1.08e+05,\n",
       "         0.00e+00,  4.32e+05, -1.08e+05],\n",
       "       [ 0.00e+00,  0.00e+00,  0.00e+00,  0.00e+00,  1.08e+05,  1.80e+04,\n",
       "         0.00e+00, -1.08e+05,  3.60e+04]])"
      ]
     },
     "execution_count": 26,
     "metadata": {},
     "output_type": "execute_result"
    }
   ],
   "source": [
    "fmn.stiffness_global()"
   ]
  },
  {
   "cell_type": "code",
   "execution_count": 27,
   "id": "390f0da1",
   "metadata": {},
   "outputs": [
    {
     "data": {
      "text/plain": [
       "(array([[ 3.60e+04,  0.00e+00, -1.08e+05,  1.80e+04,  0.00e+00],\n",
       "        [ 0.00e+00,  2.40e+08,  0.00e+00,  0.00e+00,  0.00e+00],\n",
       "        [-1.08e+05,  0.00e+00,  8.64e+05,  0.00e+00,  1.08e+05],\n",
       "        [ 1.80e+04,  0.00e+00,  0.00e+00,  7.20e+04,  1.80e+04],\n",
       "        [ 0.00e+00,  0.00e+00,  1.08e+05,  1.80e+04,  3.60e+04]]),\n",
       " array([[ 0.00e+00,  1.08e+05,  0.00e+00,  0.00e+00],\n",
       "        [-1.20e+08,  0.00e+00, -1.20e+08,  0.00e+00],\n",
       "        [ 0.00e+00, -4.32e+05,  0.00e+00, -4.32e+05],\n",
       "        [ 0.00e+00,  1.08e+05,  0.00e+00, -1.08e+05],\n",
       "        [ 0.00e+00,  0.00e+00,  0.00e+00, -1.08e+05]]),\n",
       " array([[1.20e+08, 0.00e+00, 0.00e+00, 0.00e+00],\n",
       "        [0.00e+00, 4.32e+05, 0.00e+00, 0.00e+00],\n",
       "        [0.00e+00, 0.00e+00, 1.20e+08, 0.00e+00],\n",
       "        [0.00e+00, 0.00e+00, 0.00e+00, 4.32e+05]]))"
      ]
     },
     "execution_count": 27,
     "metadata": {},
     "output_type": "execute_result"
    }
   ],
   "source": [
    "fmn.stiffness_global_partition()"
   ]
  },
  {
   "cell_type": "code",
   "execution_count": 28,
   "id": "f14d14d4",
   "metadata": {},
   "outputs": [
    {
     "data": {
      "text/plain": [
       "array([ 0.00000000e+00,  0.00000000e+00, -7.10542736e-15,  0.00000000e+00,\n",
       "        0.00000000e+00, -1.42108547e-14,  0.00000000e+00, -7.10542736e-15,\n",
       "       -8.40168984e-15])"
      ]
     },
     "execution_count": 28,
     "metadata": {},
     "output_type": "execute_result"
    }
   ],
   "source": [
    "u = fmn.solution_dict[\"displacements\"]\n",
    "F = fmn.solution_dict[\"loads\"]\n",
    "fmn.stiffness_global() @ u - F"
   ]
  },
  {
   "cell_type": "code",
   "execution_count": 29,
   "id": "ca63c2e1",
   "metadata": {},
   "outputs": [
    {
     "name": "stdout",
     "output_type": "stream",
     "text": [
      "                     Node 0                     \n",
      "u_x: 0.000000 x 10^-3, u_y: 0.000000 x 10^-3, angle: 0.002778, F_x: 0.000000, F_y: -100.000000, M_z: -0.000000\n",
      "                     Node 1                     \n",
      "u_x: 0.000000 x 10^-3, u_y: 0.925926 x 10^-3, angle: -0.000000, F_x: 0.000000, F_y: 200.000000, M_z: -0.000000\n",
      "                     Node 2                     \n",
      "u_x: 0.000000 x 10^-3, u_y: 0.000000 x 10^-3, angle: -0.002778, F_x: 0.000000, F_y: -100.000000, M_z: -0.000000\n",
      "\n",
      "******************** WARNING ********************\n",
      "*** Bending stresses not calculated ***\n",
      "******************** WARNING ********************\n",
      "\n",
      "                     Element 0                     \n",
      "Normal stress due to axial load (only): 0.000000 x 10^6\n",
      "                     Element 1                     \n",
      "Normal stress due to axial load (only): 0.000000 x 10^6\n",
      "\n",
      "******************** WARNING ********************\n",
      "*** Bending stresses not calculated ***\n",
      "******************** WARNING ********************\n"
     ]
    }
   ],
   "source": [
    "fmn.post_print_solution(displacement=fmn.solution_dict[\"displacements\"]*2)"
   ]
  },
  {
   "cell_type": "code",
   "execution_count": 30,
   "id": "19dfbc48",
   "metadata": {},
   "outputs": [
    {
     "name": "stdout",
     "output_type": "stream",
     "text": [
      "                     Node 0                     \n",
      "u_x: 0.000000 x 10^-3, u_y: 0.000000 x 10^-3, angle: 0.001389, F_x: 0.000000, F_y: -50.000000, M_z: 0.000000\n",
      "                     Node 1                     \n",
      "u_x: 0.000000 x 10^-3, u_y: 0.462963 x 10^-3, angle: -0.000000, F_x: 0.000000, F_y: 100.000000, M_z: 0.000000\n",
      "                     Node 2                     \n",
      "u_x: 0.000000 x 10^-3, u_y: 0.000000 x 10^-3, angle: -0.001389, F_x: 0.000000, F_y: -50.000000, M_z: 0.000000\n",
      "\n",
      "******************** WARNING ********************\n",
      "*** Bending stresses not calculated ***\n",
      "******************** WARNING ********************\n",
      "\n",
      "                     Element 0                     \n",
      "Normal stress due to axial load (only): 0.000000 x 10^6\n",
      "                     Element 1                     \n",
      "Normal stress due to axial load (only): 0.000000 x 10^6\n",
      "\n",
      "******************** WARNING ********************\n",
      "*** Bending stresses not calculated ***\n",
      "******************** WARNING ********************\n"
     ]
    }
   ],
   "source": [
    "fmn.post_print_solution()"
   ]
  },
  {
   "cell_type": "code",
   "execution_count": null,
   "id": "00de03a6",
   "metadata": {},
   "outputs": [],
   "source": []
  }
 ],
 "metadata": {
  "kernelspec": {
   "display_name": "Python 3",
   "language": "python",
   "name": "python3"
  },
  "language_info": {
   "codemirror_mode": {
    "name": "ipython",
    "version": 3
   },
   "file_extension": ".py",
   "mimetype": "text/x-python",
   "name": "python",
   "nbconvert_exporter": "python",
   "pygments_lexer": "ipython3",
   "version": "3.8.8"
  }
 },
 "nbformat": 4,
 "nbformat_minor": 5
}
