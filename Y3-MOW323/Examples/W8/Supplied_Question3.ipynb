{
 "cells": [
  {
   "cell_type": "code",
   "execution_count": 3,
   "id": "48732d9c",
   "metadata": {},
   "outputs": [
    {
     "name": "stdout",
     "output_type": "stream",
     "text": [
      "Exists!\n",
      "Added module.\n"
     ]
    }
   ],
   "source": [
    "import numpy as np \n",
    "import importlib; \n",
    "import os\n",
    "if \"add_engmod.py\" in os.listdir(): print(\"Exists!\"); import add_engmod\n",
    "import engmod.structfem as sfem; importlib.reload(sfem)\n",
    "import matplotlib.pyplot as plt "
   ]
  },
  {
   "cell_type": "code",
   "execution_count": 7,
   "id": "34a0645f",
   "metadata": {},
   "outputs": [],
   "source": [
    "assert sfem.__version__ == \"2021-10-18\", \"Please download the latest version from clickUP.\""
   ]
  },
  {
   "cell_type": "markdown",
   "id": "421d3f6a",
   "metadata": {},
   "source": [
    "# Define the material properties"
   ]
  },
  {
   "cell_type": "code",
   "execution_count": 9,
   "id": "18cd11cf",
   "metadata": {},
   "outputs": [],
   "source": [
    "E = 70E9\n",
    "\n",
    "L_beam = 1\n",
    "\n",
    "rho = 2700\n",
    "\n",
    "h = 0.020\n",
    "b = 0.01\n",
    "\n",
    "I = 1/12 * b * h**3\n",
    "\n",
    "A = h * b\n"
   ]
  },
  {
   "cell_type": "code",
   "execution_count": null,
   "id": "67bc8bc8",
   "metadata": {},
   "outputs": [],
   "source": []
  },
  {
   "cell_type": "code",
   "execution_count": 17,
   "id": "90d04b9b",
   "metadata": {},
   "outputs": [
    {
     "name": "stdout",
     "output_type": "stream",
     "text": [
      "NODE_LOCATION [0.5 0. ]\n"
     ]
    },
    {
     "data": {
      "image/png": "[encoded data removed]",
      "text/plain": [
       "<Figure size 432x288 with 1 Axes>"
      ]
     },
     "metadata": {
      "needs_background": "light"
     },
     "output_type": "display_data"
    }
   ],
   "source": [
    "\n",
    "compliance_array = []\n",
    "\n",
    "natural_frequencies_array = []\n",
    "\n",
    "displacement = []\n",
    "\n",
    "node_locations = np.arange(1,20)\n",
    "\n",
    "node_idx = 9\n",
    "\n",
    "# for node_idx in range(len(node_locations)):\n",
    "\n",
    "node_location = node_locations[node_idx]\n",
    "\n",
    "\n",
    "\n",
    "\n",
    "# In this beam we have three nodes\n",
    "nodecoor = np.array([\n",
    "                    [L_beam*0.0,0], \t # Node 0\n",
    "                    [L_beam*0.05,0], \t # Node 1\n",
    "                    [L_beam*0.1,0], \t # Node 2\n",
    "                    [L_beam*0.15,0], \t # Node 3\n",
    "                    [L_beam*0.2,0], \t # Node 4\n",
    "                    [L_beam*0.25,0], \t # Node 5\n",
    "                    [L_beam*0.3,0], \t # Node 6\n",
    "                    [L_beam*0.35,0], \t # Node 7\n",
    "                    [L_beam*0.4,0], \t # Node 8\n",
    "                    [L_beam*0.45,0], \t # Node 9\n",
    "                    [L_beam*0.5,0], \t # Node 10\n",
    "                    [L_beam*0.55,0], \t # Node 11\n",
    "                    [L_beam*0.6,0], \t # Node 12\n",
    "                    [L_beam*0.65,0], \t # Node 13\n",
    "                    [L_beam*0.7,0], \t # Node 14\n",
    "                    [L_beam*0.75,0], \t # Node 15\n",
    "                    [L_beam*0.8,0], \t # Node 16\n",
    "                    [L_beam*0.85,0], \t # Node 17\n",
    "                    [L_beam*0.9,0], \t # Node 18\n",
    "                    [L_beam*0.95,0], \t # Node 19\n",
    "                    [L_beam*1.0,0], \t # Node 20\n",
    "                    ])\n",
    "\n",
    "print(\"NODE_LOCATION\",nodecoor[node_location,:])\n",
    "\n",
    "elemconn = np.array([\n",
    "                        [0,1], # Node 0 is connected to Node 1 to form Element 0\n",
    "                        [1,2], # Node 1 is connected to Node 2 to form Element 1\n",
    "                        [2,3], # Node 2 is connected to Node 3 to form Element 2\n",
    "                        [3,4], # Node 3 is connected to Node 4 to form Element 3\n",
    "                        [4,5], # Node 4 is connected to Node 5 to form Element 4\n",
    "                        [5,6], # Node 5 is connected to Node 6 to form Element 5\n",
    "                        [6,7], # Node 6 is connected to Node 7 to form Element 6\n",
    "                        [7,8], # Node 7 is connected to Node 8 to form Element 7\n",
    "                        [8,9], # Node 8 is connected to Node 9 to form Element 8\n",
    "                        [9,10], # Node 9 is connected to Node 10 to form Element 9\n",
    "                        [10,11], # Node 10 is connected to Node 11 to form Element 10\n",
    "                        [11,12], # Node 11 is connected to Node 12 to form Element 11\n",
    "                        [12,13], # Node 12 is connected to Node 13 to form Element 12\n",
    "                        [13,14], # Node 13 is connected to Node 14 to form Element 13\n",
    "                        [14,15], # Node 14 is connected to Node 15 to form Element 14\n",
    "                        [15,16], # Node 15 is connected to Node 16 to form Element 15\n",
    "                        [16,17], # Node 16 is connected to Node 17 to form Element 16\n",
    "                        [17,18], # Node 17 is connected to Node 18 to form Element 17\n",
    "                        [18,19], # Node 18 is connected to Node 19 to form Element 18\n",
    "                        [19,20], # Node 19 is connected to Node 20 to form Element 19\n",
    "                     ])\n",
    "\n",
    "# Initialise the prescribed displacement as an empty list:\n",
    "prescribed_displacement = []\n",
    "# Prescribed displacement applied to Node 0, in the 0 direction (x-direcion) with a displacement of 0\n",
    "prescribed_displacement.append(np.array([0,0,0]))\n",
    "# Prescribed displacement applied to Node 0, in the 1 direction (y-direcion) with a displacement of 0\n",
    "prescribed_displacement.append(np.array([0,1,0]))\n",
    "# Prescribed displacement applied to Node 2, in the 1 direction (x-direcion) with a displacement of 0\n",
    "prescribed_displacement.append(np.array([20,1,0]))\n",
    "# Prescribed displacement applied to Node 3, in the 1 direction (x-direcion) with a displacement of 0\n",
    "prescribed_displacement.append(np.array([node_location,1,0]))\n",
    "# Convert the prescribed displacement list to an array:\n",
    "prescribed_displacement = np.array(prescribed_displacement)\n",
    "\n",
    "# Initialise the prescribed force as an empty list:\n",
    "prescribed_forces = []\n",
    "# Prescribed force applied to Node 1, in the 1 direction (y-direcion) with a magnitude of F.\n",
    "prescribed_forces.append(np.array([4,2,50]))\n",
    "prescribed_forces.append(np.array([10,2,-100]))\n",
    "prescribed_forces.append(np.array([15,2,100]))\n",
    "# Convert the prescribed force list to an array:\n",
    "prescribed_forces = np.array(prescribed_forces)\n",
    "\n",
    "# Element properties\n",
    "elemprop = {}\n",
    "# Young's modulus [Pa]\n",
    "elemprop[\"E\"] = np.ones(elemconn.shape[0]) * E\n",
    "# Area moment of inertia [m^4]\n",
    "elemprop[\"I\"] = np.ones(elemconn.shape[0]) * I\n",
    "# Cross-sectional area [m^2]\n",
    "elemprop[\"A\"] = np.ones(elemconn.shape[0]) * A\n",
    "# Density [kg/m^3]\n",
    "elemprop[\"density\"] = np.ones(elemconn.shape[0]) * rho\n",
    "\n",
    "fmn = sfem.FEM_Beam_2D(nodecoor,                # Nodal coordinates\n",
    "                       elemconn,                # Element connectivity\n",
    "                       prescribed_displacement, # Prescribed displacements\n",
    "                       prescribed_forces,       # Prescribed forces\n",
    "                       elemprop)                # Element properties\n",
    "\n",
    "fmn.solve()\n",
    "\n",
    "u = fmn.solution_dict[\"displacements\"]\n",
    "\n",
    "K = fmn.stiffness_global()\n",
    "\n",
    "fmn.plot_system(show_displacement=True)\n",
    "\n",
    "# displacement.append(abs_u)\n",
    "\n",
    "# compliance_array.append(compliance)\n",
    "\n",
    "# natural_frequencies_array.append(natfreq)\n"
   ]
  },
  {
   "cell_type": "code",
   "execution_count": 18,
   "id": "92e81504",
   "metadata": {},
   "outputs": [
    {
     "ename": "ValueError",
     "evalue": "x and y must have same first dimension, but have shapes (19,) and (0,)",
     "output_type": "error",
     "traceback": [
      "\u001b[1;31m---------------------------------------------------------------------------\u001b[0m",
      "\u001b[1;31mValueError\u001b[0m                                Traceback (most recent call last)",
      "\u001b[1;32m<ipython-input-18-76640b259732>\u001b[0m in \u001b[0;36m<module>\u001b[1;34m\u001b[0m\n\u001b[0;32m      1\u001b[0m \u001b[0mplt\u001b[0m\u001b[1;33m.\u001b[0m\u001b[0mfigure\u001b[0m\u001b[1;33m(\u001b[0m\u001b[1;36m0\u001b[0m\u001b[1;33m)\u001b[0m\u001b[1;33m\u001b[0m\u001b[1;33m\u001b[0m\u001b[0m\n\u001b[1;32m----> 2\u001b[1;33m \u001b[0mplt\u001b[0m\u001b[1;33m.\u001b[0m\u001b[0mplot\u001b[0m\u001b[1;33m(\u001b[0m\u001b[0mnode_locations\u001b[0m\u001b[1;33m,\u001b[0m\u001b[0mcompliance_array\u001b[0m\u001b[1;33m)\u001b[0m\u001b[1;33m\u001b[0m\u001b[1;33m\u001b[0m\u001b[0m\n\u001b[0m\u001b[0;32m      3\u001b[0m \u001b[1;33m\u001b[0m\u001b[0m\n\u001b[0;32m      4\u001b[0m \u001b[0mplt\u001b[0m\u001b[1;33m.\u001b[0m\u001b[0mfigure\u001b[0m\u001b[1;33m(\u001b[0m\u001b[1;36m1\u001b[0m\u001b[1;33m)\u001b[0m\u001b[1;33m\u001b[0m\u001b[1;33m\u001b[0m\u001b[0m\n\u001b[0;32m      5\u001b[0m \u001b[0mplt\u001b[0m\u001b[1;33m.\u001b[0m\u001b[0mplot\u001b[0m\u001b[1;33m(\u001b[0m\u001b[0mnode_locations\u001b[0m\u001b[1;33m,\u001b[0m\u001b[0mdisplacement\u001b[0m\u001b[1;33m)\u001b[0m\u001b[1;33m\u001b[0m\u001b[1;33m\u001b[0m\u001b[0m\n",
      "\u001b[1;32m~\\Anaconda3\\lib\\site-packages\\matplotlib\\pyplot.py\u001b[0m in \u001b[0;36mplot\u001b[1;34m(scalex, scaley, data, *args, **kwargs)\u001b[0m\n\u001b[0;32m   2838\u001b[0m \u001b[1;33m@\u001b[0m\u001b[0m_copy_docstring_and_deprecators\u001b[0m\u001b[1;33m(\u001b[0m\u001b[0mAxes\u001b[0m\u001b[1;33m.\u001b[0m\u001b[0mplot\u001b[0m\u001b[1;33m)\u001b[0m\u001b[1;33m\u001b[0m\u001b[1;33m\u001b[0m\u001b[0m\n\u001b[0;32m   2839\u001b[0m \u001b[1;32mdef\u001b[0m \u001b[0mplot\u001b[0m\u001b[1;33m(\u001b[0m\u001b[1;33m*\u001b[0m\u001b[0margs\u001b[0m\u001b[1;33m,\u001b[0m \u001b[0mscalex\u001b[0m\u001b[1;33m=\u001b[0m\u001b[1;32mTrue\u001b[0m\u001b[1;33m,\u001b[0m \u001b[0mscaley\u001b[0m\u001b[1;33m=\u001b[0m\u001b[1;32mTrue\u001b[0m\u001b[1;33m,\u001b[0m \u001b[0mdata\u001b[0m\u001b[1;33m=\u001b[0m\u001b[1;32mNone\u001b[0m\u001b[1;33m,\u001b[0m \u001b[1;33m**\u001b[0m\u001b[0mkwargs\u001b[0m\u001b[1;33m)\u001b[0m\u001b[1;33m:\u001b[0m\u001b[1;33m\u001b[0m\u001b[1;33m\u001b[0m\u001b[0m\n\u001b[1;32m-> 2840\u001b[1;33m     return gca().plot(\n\u001b[0m\u001b[0;32m   2841\u001b[0m         \u001b[1;33m*\u001b[0m\u001b[0margs\u001b[0m\u001b[1;33m,\u001b[0m \u001b[0mscalex\u001b[0m\u001b[1;33m=\u001b[0m\u001b[0mscalex\u001b[0m\u001b[1;33m,\u001b[0m \u001b[0mscaley\u001b[0m\u001b[1;33m=\u001b[0m\u001b[0mscaley\u001b[0m\u001b[1;33m,\u001b[0m\u001b[1;33m\u001b[0m\u001b[1;33m\u001b[0m\u001b[0m\n\u001b[0;32m   2842\u001b[0m         **({\"data\": data} if data is not None else {}), **kwargs)\n",
      "\u001b[1;32m~\\Anaconda3\\lib\\site-packages\\matplotlib\\axes\\_axes.py\u001b[0m in \u001b[0;36mplot\u001b[1;34m(self, scalex, scaley, data, *args, **kwargs)\u001b[0m\n\u001b[0;32m   1741\u001b[0m         \"\"\"\n\u001b[0;32m   1742\u001b[0m         \u001b[0mkwargs\u001b[0m \u001b[1;33m=\u001b[0m \u001b[0mcbook\u001b[0m\u001b[1;33m.\u001b[0m\u001b[0mnormalize_kwargs\u001b[0m\u001b[1;33m(\u001b[0m\u001b[0mkwargs\u001b[0m\u001b[1;33m,\u001b[0m \u001b[0mmlines\u001b[0m\u001b[1;33m.\u001b[0m\u001b[0mLine2D\u001b[0m\u001b[1;33m)\u001b[0m\u001b[1;33m\u001b[0m\u001b[1;33m\u001b[0m\u001b[0m\n\u001b[1;32m-> 1743\u001b[1;33m         \u001b[0mlines\u001b[0m \u001b[1;33m=\u001b[0m \u001b[1;33m[\u001b[0m\u001b[1;33m*\u001b[0m\u001b[0mself\u001b[0m\u001b[1;33m.\u001b[0m\u001b[0m_get_lines\u001b[0m\u001b[1;33m(\u001b[0m\u001b[1;33m*\u001b[0m\u001b[0margs\u001b[0m\u001b[1;33m,\u001b[0m \u001b[0mdata\u001b[0m\u001b[1;33m=\u001b[0m\u001b[0mdata\u001b[0m\u001b[1;33m,\u001b[0m \u001b[1;33m**\u001b[0m\u001b[0mkwargs\u001b[0m\u001b[1;33m)\u001b[0m\u001b[1;33m]\u001b[0m\u001b[1;33m\u001b[0m\u001b[1;33m\u001b[0m\u001b[0m\n\u001b[0m\u001b[0;32m   1744\u001b[0m         \u001b[1;32mfor\u001b[0m \u001b[0mline\u001b[0m \u001b[1;32min\u001b[0m \u001b[0mlines\u001b[0m\u001b[1;33m:\u001b[0m\u001b[1;33m\u001b[0m\u001b[1;33m\u001b[0m\u001b[0m\n\u001b[0;32m   1745\u001b[0m             \u001b[0mself\u001b[0m\u001b[1;33m.\u001b[0m\u001b[0madd_line\u001b[0m\u001b[1;33m(\u001b[0m\u001b[0mline\u001b[0m\u001b[1;33m)\u001b[0m\u001b[1;33m\u001b[0m\u001b[1;33m\u001b[0m\u001b[0m\n",
      "\u001b[1;32m~\\Anaconda3\\lib\\site-packages\\matplotlib\\axes\\_base.py\u001b[0m in \u001b[0;36m__call__\u001b[1;34m(self, data, *args, **kwargs)\u001b[0m\n\u001b[0;32m    271\u001b[0m                 \u001b[0mthis\u001b[0m \u001b[1;33m+=\u001b[0m \u001b[0margs\u001b[0m\u001b[1;33m[\u001b[0m\u001b[1;36m0\u001b[0m\u001b[1;33m]\u001b[0m\u001b[1;33m,\u001b[0m\u001b[1;33m\u001b[0m\u001b[1;33m\u001b[0m\u001b[0m\n\u001b[0;32m    272\u001b[0m                 \u001b[0margs\u001b[0m \u001b[1;33m=\u001b[0m \u001b[0margs\u001b[0m\u001b[1;33m[\u001b[0m\u001b[1;36m1\u001b[0m\u001b[1;33m:\u001b[0m\u001b[1;33m]\u001b[0m\u001b[1;33m\u001b[0m\u001b[1;33m\u001b[0m\u001b[0m\n\u001b[1;32m--> 273\u001b[1;33m             \u001b[1;32myield\u001b[0m \u001b[1;32mfrom\u001b[0m \u001b[0mself\u001b[0m\u001b[1;33m.\u001b[0m\u001b[0m_plot_args\u001b[0m\u001b[1;33m(\u001b[0m\u001b[0mthis\u001b[0m\u001b[1;33m,\u001b[0m \u001b[0mkwargs\u001b[0m\u001b[1;33m)\u001b[0m\u001b[1;33m\u001b[0m\u001b[1;33m\u001b[0m\u001b[0m\n\u001b[0m\u001b[0;32m    274\u001b[0m \u001b[1;33m\u001b[0m\u001b[0m\n\u001b[0;32m    275\u001b[0m     \u001b[1;32mdef\u001b[0m \u001b[0mget_next_color\u001b[0m\u001b[1;33m(\u001b[0m\u001b[0mself\u001b[0m\u001b[1;33m)\u001b[0m\u001b[1;33m:\u001b[0m\u001b[1;33m\u001b[0m\u001b[1;33m\u001b[0m\u001b[0m\n",
      "\u001b[1;32m~\\Anaconda3\\lib\\site-packages\\matplotlib\\axes\\_base.py\u001b[0m in \u001b[0;36m_plot_args\u001b[1;34m(self, tup, kwargs)\u001b[0m\n\u001b[0;32m    397\u001b[0m \u001b[1;33m\u001b[0m\u001b[0m\n\u001b[0;32m    398\u001b[0m         \u001b[1;32mif\u001b[0m \u001b[0mx\u001b[0m\u001b[1;33m.\u001b[0m\u001b[0mshape\u001b[0m\u001b[1;33m[\u001b[0m\u001b[1;36m0\u001b[0m\u001b[1;33m]\u001b[0m \u001b[1;33m!=\u001b[0m \u001b[0my\u001b[0m\u001b[1;33m.\u001b[0m\u001b[0mshape\u001b[0m\u001b[1;33m[\u001b[0m\u001b[1;36m0\u001b[0m\u001b[1;33m]\u001b[0m\u001b[1;33m:\u001b[0m\u001b[1;33m\u001b[0m\u001b[1;33m\u001b[0m\u001b[0m\n\u001b[1;32m--> 399\u001b[1;33m             raise ValueError(f\"x and y must have same first dimension, but \"\n\u001b[0m\u001b[0;32m    400\u001b[0m                              f\"have shapes {x.shape} and {y.shape}\")\n\u001b[0;32m    401\u001b[0m         \u001b[1;32mif\u001b[0m \u001b[0mx\u001b[0m\u001b[1;33m.\u001b[0m\u001b[0mndim\u001b[0m \u001b[1;33m>\u001b[0m \u001b[1;36m2\u001b[0m \u001b[1;32mor\u001b[0m \u001b[0my\u001b[0m\u001b[1;33m.\u001b[0m\u001b[0mndim\u001b[0m \u001b[1;33m>\u001b[0m \u001b[1;36m2\u001b[0m\u001b[1;33m:\u001b[0m\u001b[1;33m\u001b[0m\u001b[1;33m\u001b[0m\u001b[0m\n",
      "\u001b[1;31mValueError\u001b[0m: x and y must have same first dimension, but have shapes (19,) and (0,)"
     ]
    },
    {
     "data": {
      "image/png": "[encoded data removed]",
      "text/plain": [
       "<Figure size 432x288 with 1 Axes>"
      ]
     },
     "metadata": {
      "needs_background": "light"
     },
     "output_type": "display_data"
    }
   ],
   "source": [
    "\n",
    "plt.figure(0)\n",
    "plt.plot(node_locations,compliance_array)\n",
    "\n",
    "plt.figure(1)\n",
    "plt.plot(node_locations,displacement)\n",
    "\n",
    "plt.figure(2)\n",
    "plt.plot(node_locations,natural_frequencies_array[:,0])\n",
    "\n",
    "plt.figure(3)\n",
    "plt.plot(node_locations,natural_frequencies_array[:,1])\n",
    "\n",
    "plt.figure(4)\n",
    "plt.plot(node_locations,natural_frequencies_array[:,2])\n"
   ]
  },
  {
   "cell_type": "code",
   "execution_count": null,
   "id": "38513f05",
   "metadata": {},
   "outputs": [],
   "source": []
  }
 ],
 "metadata": {
  "kernelspec": {
   "display_name": "Python 3",
   "language": "python",
   "name": "python3"
  },
  "language_info": {
   "codemirror_mode": {
    "name": "ipython",
    "version": 3
   },
   "file_extension": ".py",
   "mimetype": "text/x-python",
   "name": "python",
   "nbconvert_exporter": "python",
   "pygments_lexer": "ipython3",
   "version": "3.8.8"
  }
 },
 "nbformat": 4,
 "nbformat_minor": 5
}
