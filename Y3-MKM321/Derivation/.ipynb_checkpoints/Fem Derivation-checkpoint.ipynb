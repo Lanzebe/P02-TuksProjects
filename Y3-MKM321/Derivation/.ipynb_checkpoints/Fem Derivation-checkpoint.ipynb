{
 "cells": [
  {
   "cell_type": "code",
   "execution_count": 1,
   "id": "b60af68e",
   "metadata": {},
   "outputs": [],
   "source": [
    "import sympy as sp"
   ]
  },
  {
   "cell_type": "markdown",
   "id": "3ab79a52",
   "metadata": {},
   "source": [
    "## Displacement field of one element\n",
    "Let the displacement field be appoximatd by u_bar"
   ]
  },
  {
   "cell_type": "code",
   "execution_count": 27,
   "id": "8bd3da56",
   "metadata": {},
   "outputs": [],
   "source": [
    "x,y,z = sp.symbols('x,y,z')\n",
    "a_x1,b_x1,c_x1,a_x2,b_x2,c_x2,a_x3,b_x3,c_x3 = sp.symbols('a_x1,b_x1,c_x1,a_x2,b_x2,c_x2,a_x3,b_x3,c_x3')\n",
    "a_y1,b_y1,c_y1,a_y2,b_y2,c_y2,a_y3,b_y3,c_y3 = sp.symbols('a_y1,b_y1,c_y1,a_y2,b_y2,c_y2,a_y3,b_y3,c_y3')\n",
    "a_z1,b_z1,c_z1,a_z2,b_z2,c_z2,a_z3,b_z3,c_z3 = sp.symbols('a_z1,b_z1,c_z1,a_z2,b_z2,c_z2,a_z3,b_z3,c_z3')"
   ]
  },
  {
   "cell_type": "code",
   "execution_count": 28,
   "id": "fd04bd4b",
   "metadata": {},
   "outputs": [],
   "source": [
    "u = sp.Matrix([a_x1*x**2 + b_x1*x + c_x1,a_x2*y**2 + b_x2*y + c_x2,a_x3*z**2 + b_x3*z + c_x3])\n",
    "v = sp.Matrix([a_y1*x**2 + b_y1*x + c_y1,a_y2*y**2 + b_y2*y + c_y2,a_y3*z**2 + b_y3*z + c_y3])\n",
    "w = sp.Matrix([a_z1*x**2 + b_z1*x + c_z1,a_z2*y**2 + b_z2*y + c_z2,a_z3*z**2 + b_z3*z + c_z3])"
   ]
  },
  {
   "cell_type": "markdown",
   "id": "0cf2c43a",
   "metadata": {},
   "source": [
    "## Force applied to the one element"
   ]
  },
  {
   "cell_type": "code",
   "execution_count": 29,
   "id": "cb7c43af",
   "metadata": {},
   "outputs": [],
   "source": [
    "f_x,f_y,f_z = sp.symbols('f_x,f_y,f_z')"
   ]
  },
  {
   "cell_type": "code",
   "execution_count": 30,
   "id": "7400d10c",
   "metadata": {},
   "outputs": [
    {
     "data": {
      "text/latex": [
       "$\\displaystyle \\left[\\begin{matrix}f_{x}\\\\f_{y}\\\\f_{z}\\end{matrix}\\right]$"
      ],
      "text/plain": [
       "Matrix([\n",
       "[f_x],\n",
       "[f_y],\n",
       "[f_z]])"
      ]
     },
     "metadata": {},
     "output_type": "display_data"
    }
   ],
   "source": [
    "F = sp.Matrix([f_x,f_y,f_z])\n",
    "display(F)"
   ]
  },
  {
   "cell_type": "code",
   "execution_count": 34,
   "id": "9682a069",
   "metadata": {},
   "outputs": [
    {
     "name": "stdout",
     "output_type": "stream",
     "text": [
      "Raw strain:\n"
     ]
    },
    {
     "data": {
      "text/latex": [
       "$\\displaystyle \\left[\\begin{matrix}2 a_{x1} x + b_{x1} & 2 a_{x2} y + b_{x2} & 2 a_{x3} z + b_{x3}\\\\2 a_{y1} x + b_{y1} & 2 a_{y2} y + b_{y2} & 2 a_{y3} z + b_{y3}\\\\2 a_{z1} x + b_{z1} & 2 a_{z2} y + b_{z2} & 2 a_{z3} z + b_{z3}\\end{matrix}\\right]$"
      ],
      "text/plain": [
       "Matrix([\n",
       "[2*a_x1*x + b_x1, 2*a_x2*y + b_x2, 2*a_x3*z + b_x3],\n",
       "[2*a_y1*x + b_y1, 2*a_y2*y + b_y2, 2*a_y3*z + b_y3],\n",
       "[2*a_z1*x + b_z1, 2*a_z2*y + b_z2, 2*a_z3*z + b_z3]])"
      ]
     },
     "metadata": {},
     "output_type": "display_data"
    },
    {
     "name": "stdout",
     "output_type": "stream",
     "text": [
      "Hydrostatic strain(normal type):\n"
     ]
    },
    {
     "data": {
      "text/latex": [
       "$\\displaystyle \\left[\\begin{matrix}2.0 a_{x1} x + 1.0 b_{x1} & 1.0 a_{x2} y + 1.0 a_{y1} x + 0.5 b_{x2} + 0.5 b_{y1} & 1.0 a_{x3} z + 1.0 a_{z1} x + 0.5 b_{x3} + 0.5 b_{z1}\\\\1.0 a_{x2} y + 1.0 a_{y1} x + 0.5 b_{x2} + 0.5 b_{y1} & 2.0 a_{y2} y + 1.0 b_{y2} & 1.0 a_{y3} z + 1.0 a_{z2} y + 0.5 b_{y3} + 0.5 b_{z2}\\\\1.0 a_{x3} z + 1.0 a_{z1} x + 0.5 b_{x3} + 0.5 b_{z1} & 1.0 a_{y3} z + 1.0 a_{z2} y + 0.5 b_{y3} + 0.5 b_{z2} & 2.0 a_{z3} z + 1.0 b_{z3}\\end{matrix}\\right]$"
      ],
      "text/plain": [
       "Matrix([\n",
       "[                        2.0*a_x1*x + 1.0*b_x1, 1.0*a_x2*y + 1.0*a_y1*x + 0.5*b_x2 + 0.5*b_y1, 1.0*a_x3*z + 1.0*a_z1*x + 0.5*b_x3 + 0.5*b_z1],\n",
       "[1.0*a_x2*y + 1.0*a_y1*x + 0.5*b_x2 + 0.5*b_y1,                         2.0*a_y2*y + 1.0*b_y2, 1.0*a_y3*z + 1.0*a_z2*y + 0.5*b_y3 + 0.5*b_z2],\n",
       "[1.0*a_x3*z + 1.0*a_z1*x + 0.5*b_x3 + 0.5*b_z1, 1.0*a_y3*z + 1.0*a_z2*y + 0.5*b_y3 + 0.5*b_z2,                         2.0*a_z3*z + 1.0*b_z3]])"
      ]
     },
     "metadata": {},
     "output_type": "display_data"
    },
    {
     "name": "stdout",
     "output_type": "stream",
     "text": [
      "NON-Hydrostatic strain(not considdered):\n"
     ]
    },
    {
     "data": {
      "text/latex": [
       "$\\displaystyle \\left[\\begin{matrix}0 & - 1.0 a_{x2} y + 1.0 a_{y1} x - 0.5 b_{x2} + 0.5 b_{y1} & - 1.0 a_{x3} z + 1.0 a_{z1} x - 0.5 b_{x3} + 0.5 b_{z1}\\\\1.0 a_{x2} y - 1.0 a_{y1} x + 0.5 b_{x2} - 0.5 b_{y1} & 0 & - 1.0 a_{y3} z + 1.0 a_{z2} y - 0.5 b_{y3} + 0.5 b_{z2}\\\\1.0 a_{x3} z - 1.0 a_{z1} x + 0.5 b_{x3} - 0.5 b_{z1} & 1.0 a_{y3} z - 1.0 a_{z2} y + 0.5 b_{y3} - 0.5 b_{z2} & 0\\end{matrix}\\right]$"
      ],
      "text/plain": [
       "Matrix([\n",
       "[                                            0, -1.0*a_x2*y + 1.0*a_y1*x - 0.5*b_x2 + 0.5*b_y1, -1.0*a_x3*z + 1.0*a_z1*x - 0.5*b_x3 + 0.5*b_z1],\n",
       "[1.0*a_x2*y - 1.0*a_y1*x + 0.5*b_x2 - 0.5*b_y1,                                              0, -1.0*a_y3*z + 1.0*a_z2*y - 0.5*b_y3 + 0.5*b_z2],\n",
       "[1.0*a_x3*z - 1.0*a_z1*x + 0.5*b_x3 - 0.5*b_z1,  1.0*a_y3*z - 1.0*a_z2*y + 0.5*b_y3 - 0.5*b_z2,                                              0]])"
      ]
     },
     "metadata": {},
     "output_type": "display_data"
    }
   ],
   "source": [
    "gradient_u = sp.Matrix(sp.derive_by_array(u,x))+sp.Matrix(sp.derive_by_array(u,y))+sp.Matrix(sp.derive_by_array(u,z))\n",
    "gradient_v = sp.Matrix(sp.derive_by_array(v,x))+sp.Matrix(sp.derive_by_array(v,y))+sp.Matrix(sp.derive_by_array(v,z))\n",
    "gradient_w = sp.Matrix(sp.derive_by_array(w,x))+sp.Matrix(sp.derive_by_array(w,y))+sp.Matrix(sp.derive_by_array(w,z))\n",
    "\n",
    "raw_strain = sp.Matrix([sp.transpose(gradient_u),  sp.transpose(gradient_v), sp.transpose(gradient_w)])\n",
    "print('Raw strain:')\n",
    "display(raw_strain)\n",
    "epsilon = sp.simplify(0.5*(sp.transpose(raw_strain) + raw_strain))\n",
    "non_hydo_epsilon = sp.simplify(0.5*(sp.transpose(raw_strain) - raw_strain))\n",
    "print('Hydrostatic strain(normal type):')\n",
    "display(epsilon)\n",
    "print('NON-Hydrostatic strain(not considdered):')\n",
    "display(non_hydo_epsilon)\n"
   ]
  },
  {
   "cell_type": "markdown",
   "id": "32b0e306",
   "metadata": {},
   "source": [
    "## Material properties and stress"
   ]
  },
  {
   "cell_type": "code",
   "execution_count": 111,
   "id": "73931962",
   "metadata": {},
   "outputs": [
    {
     "name": "stdout",
     "output_type": "stream",
     "text": [
      "Strain in voigt notation:\n"
     ]
    },
    {
     "data": {
      "text/latex": [
       "$\\displaystyle \\left[\\begin{matrix}2.0 a_{x1} x + 1.0 b_{x1}\\\\2.0 a_{y2} y + 1.0 b_{y2}\\\\2.0 a_{z3} z + 1.0 b_{z3}\\\\1.0 a_{y3} z + 1.0 a_{z2} y + 0.5 b_{y3} + 0.5 b_{z2}\\\\1.0 a_{x3} z + 1.0 a_{z1} x + 0.5 b_{x3} + 0.5 b_{z1}\\\\1.0 a_{x2} y + 1.0 a_{y1} x + 0.5 b_{x2} + 0.5 b_{y1}\\end{matrix}\\right]$"
      ],
      "text/plain": [
       "Matrix([\n",
       "[                        2.0*a_x1*x + 1.0*b_x1],\n",
       "[                        2.0*a_y2*y + 1.0*b_y2],\n",
       "[                        2.0*a_z3*z + 1.0*b_z3],\n",
       "[1.0*a_y3*z + 1.0*a_z2*y + 0.5*b_y3 + 0.5*b_z2],\n",
       "[1.0*a_x3*z + 1.0*a_z1*x + 0.5*b_x3 + 0.5*b_z1],\n",
       "[1.0*a_x2*y + 1.0*a_y1*x + 0.5*b_x2 + 0.5*b_y1]])"
      ]
     },
     "metadata": {},
     "output_type": "display_data"
    },
    {
     "name": "stdout",
     "output_type": "stream",
     "text": [
      "Stress:\n"
     ]
    },
    {
     "data": {
      "text/latex": [
       "$\\displaystyle \\left[\\begin{matrix}\\frac{E \\nu \\left(2.0 a_{y2} y + 1.0 b_{y2}\\right)}{\\left(1 - 2 \\nu\\right) \\left(\\nu + 1\\right)} + \\frac{E \\nu \\left(2.0 a_{z3} z + 1.0 b_{z3}\\right)}{\\left(1 - 2 \\nu\\right) \\left(\\nu + 1\\right)} + \\frac{E \\left(1 - \\nu\\right) \\left(2.0 a_{x1} x + 1.0 b_{x1}\\right)}{\\left(1 - 2 \\nu\\right) \\left(\\nu + 1\\right)}\\\\\\frac{E \\nu \\left(2.0 a_{x1} x + 1.0 b_{x1}\\right)}{\\left(1 - 2 \\nu\\right) \\left(\\nu + 1\\right)} + \\frac{E \\nu \\left(2.0 a_{z3} z + 1.0 b_{z3}\\right)}{\\left(1 - 2 \\nu\\right) \\left(\\nu + 1\\right)} + \\frac{E \\left(1 - \\nu\\right) \\left(2.0 a_{y2} y + 1.0 b_{y2}\\right)}{\\left(1 - 2 \\nu\\right) \\left(\\nu + 1\\right)}\\\\\\frac{E \\nu \\left(2.0 a_{x1} x + 1.0 b_{x1}\\right)}{\\left(1 - 2 \\nu\\right) \\left(\\nu + 1\\right)} + \\frac{E \\nu \\left(2.0 a_{y2} y + 1.0 b_{y2}\\right)}{\\left(1 - 2 \\nu\\right) \\left(\\nu + 1\\right)} + \\frac{E \\left(1 - \\nu\\right) \\left(2.0 a_{z3} z + 1.0 b_{z3}\\right)}{\\left(1 - 2 \\nu\\right) \\left(\\nu + 1\\right)}\\\\\\frac{E \\left(0.5 - \\nu\\right) \\left(1.0 a_{y3} z + 1.0 a_{z2} y + 0.5 b_{y3} + 0.5 b_{z2}\\right)}{\\left(1 - 2 \\nu\\right) \\left(\\nu + 1\\right)}\\\\\\frac{E \\left(0.5 - \\nu\\right) \\left(1.0 a_{x3} z + 1.0 a_{z1} x + 0.5 b_{x3} + 0.5 b_{z1}\\right)}{\\left(1 - 2 \\nu\\right) \\left(\\nu + 1\\right)}\\\\\\frac{E \\left(0.5 - \\nu\\right) \\left(1.0 a_{x2} y + 1.0 a_{y1} x + 0.5 b_{x2} + 0.5 b_{y1}\\right)}{\\left(1 - 2 \\nu\\right) \\left(\\nu + 1\\right)}\\end{matrix}\\right]$"
      ],
      "text/plain": [
       "Matrix([\n",
       "[E*nu*(2.0*a_y2*y + 1.0*b_y2)/((1 - 2*nu)*(nu + 1)) + E*nu*(2.0*a_z3*z + 1.0*b_z3)/((1 - 2*nu)*(nu + 1)) + E*(1 - nu)*(2.0*a_x1*x + 1.0*b_x1)/((1 - 2*nu)*(nu + 1))],\n",
       "[E*nu*(2.0*a_x1*x + 1.0*b_x1)/((1 - 2*nu)*(nu + 1)) + E*nu*(2.0*a_z3*z + 1.0*b_z3)/((1 - 2*nu)*(nu + 1)) + E*(1 - nu)*(2.0*a_y2*y + 1.0*b_y2)/((1 - 2*nu)*(nu + 1))],\n",
       "[E*nu*(2.0*a_x1*x + 1.0*b_x1)/((1 - 2*nu)*(nu + 1)) + E*nu*(2.0*a_y2*y + 1.0*b_y2)/((1 - 2*nu)*(nu + 1)) + E*(1 - nu)*(2.0*a_z3*z + 1.0*b_z3)/((1 - 2*nu)*(nu + 1))],\n",
       "[                                                                                E*(0.5 - nu)*(1.0*a_y3*z + 1.0*a_z2*y + 0.5*b_y3 + 0.5*b_z2)/((1 - 2*nu)*(nu + 1))],\n",
       "[                                                                                E*(0.5 - nu)*(1.0*a_x3*z + 1.0*a_z1*x + 0.5*b_x3 + 0.5*b_z1)/((1 - 2*nu)*(nu + 1))],\n",
       "[                                                                                E*(0.5 - nu)*(1.0*a_x2*y + 1.0*a_y1*x + 0.5*b_x2 + 0.5*b_y1)/((1 - 2*nu)*(nu + 1))]])"
      ]
     },
     "metadata": {},
     "output_type": "display_data"
    }
   ],
   "source": [
    "nu,E = sp.symbols('nu,E')\n",
    "M = [[1-nu,nu,nu,0,0,0],[nu,1-nu,nu,0,0,0],[nu,nu,1-nu,0,0,0],[0,0,0,0.5-nu,0,0],[0,0,0,0,0.5-nu,0],[0,0,0,0,0,0.5-nu]]\n",
    "D = E/((1 + nu)*(1 - 2*nu))*sp.Matrix(M)\n",
    "epsilon_voigt = sp.Matrix([epsilon[0,0],epsilon[1,1],epsilon[2,2],epsilon[1,2],epsilon[0,2],epsilon[0,1]])\n",
    "print('Strain in voigt notation:')\n",
    "display(epsilon_voigt)\n",
    "sigma_voigt = D*epsilon_voigt\n",
    "print('Stress:')\n",
    "display(sigma_voigt)\n",
    "sigma = sp.Matrix([[sigma_voigt[0],sigma_voigt[5],sigma_voigt[4]],[sigma_voigt[5],sigma_voigt[1],sigma_voigt[3]],[sigma_voigt[4],sigma_voigt[3],sigma_voigt[2]]])\n",
    "#display(sigma)"
   ]
  },
  {
   "cell_type": "markdown",
   "id": "2834d778",
   "metadata": {},
   "source": [
    "## Sum of forces"
   ]
  },
  {
   "cell_type": "code",
   "execution_count": 112,
   "id": "98ff68f1",
   "metadata": {},
   "outputs": [
    {
     "data": {
      "text/latex": [
       "$\\displaystyle \\left[\\begin{matrix}\\frac{2.0 E a_{x1} \\left(1 - \\nu\\right)}{\\left(1 - 2 \\nu\\right) \\left(\\nu + 1\\right)} + \\frac{1.0 E a_{x2} \\left(0.5 - \\nu\\right)}{\\left(1 - 2 \\nu\\right) \\left(\\nu + 1\\right)} + \\frac{1.0 E a_{x3} \\left(0.5 - \\nu\\right)}{\\left(1 - 2 \\nu\\right) \\left(\\nu + 1\\right)} + f_{x}\\\\\\frac{1.0 E a_{y1} \\left(0.5 - \\nu\\right)}{\\left(1 - 2 \\nu\\right) \\left(\\nu + 1\\right)} + \\frac{2.0 E a_{y2} \\left(1 - \\nu\\right)}{\\left(1 - 2 \\nu\\right) \\left(\\nu + 1\\right)} + \\frac{1.0 E a_{y3} \\left(0.5 - \\nu\\right)}{\\left(1 - 2 \\nu\\right) \\left(\\nu + 1\\right)} + f_{y}\\\\\\frac{1.0 E a_{z1} \\left(0.5 - \\nu\\right)}{\\left(1 - 2 \\nu\\right) \\left(\\nu + 1\\right)} + \\frac{1.0 E a_{z2} \\left(0.5 - \\nu\\right)}{\\left(1 - 2 \\nu\\right) \\left(\\nu + 1\\right)} + \\frac{2.0 E a_{z3} \\left(1 - \\nu\\right)}{\\left(1 - 2 \\nu\\right) \\left(\\nu + 1\\right)} + f_{z}\\end{matrix}\\right]$"
      ],
      "text/plain": [
       "Matrix([\n",
       "[2.0*E*a_x1*(1 - nu)/((1 - 2*nu)*(nu + 1)) + 1.0*E*a_x2*(0.5 - nu)/((1 - 2*nu)*(nu + 1)) + 1.0*E*a_x3*(0.5 - nu)/((1 - 2*nu)*(nu + 1)) + f_x],\n",
       "[1.0*E*a_y1*(0.5 - nu)/((1 - 2*nu)*(nu + 1)) + 2.0*E*a_y2*(1 - nu)/((1 - 2*nu)*(nu + 1)) + 1.0*E*a_y3*(0.5 - nu)/((1 - 2*nu)*(nu + 1)) + f_y],\n",
       "[1.0*E*a_z1*(0.5 - nu)/((1 - 2*nu)*(nu + 1)) + 1.0*E*a_z2*(0.5 - nu)/((1 - 2*nu)*(nu + 1)) + 2.0*E*a_z3*(1 - nu)/((1 - 2*nu)*(nu + 1)) + f_z]])"
      ]
     },
     "metadata": {},
     "output_type": "display_data"
    }
   ],
   "source": [
    "SumOfForces = sp.Matrix(sp.derive_by_array(sigma[0:3],x) + sp.derive_by_array(sigma[3:6],y) + sp.derive_by_array(sigma[6:9],z))\n",
    "SumOfForces = SumOfForces + F\n",
    "display(SumOfForces)\n"
   ]
  },
  {
   "cell_type": "code",
   "execution_count": 115,
   "id": "ce6cd589",
   "metadata": {},
   "outputs": [
    {
     "data": {
      "text/latex": [
       "$\\displaystyle \\left[\\begin{matrix}2.0 E a_{x1} + 0.5 E a_{x2} + 0.5 E a_{x3} + f_{x}\\\\0.5 E a_{y1} + 2.0 E a_{y2} + 0.5 E a_{y3} + f_{y}\\\\0.5 E a_{z1} + 0.5 E a_{z2} + 2.0 E a_{z3} + f_{z}\\end{matrix}\\right]$"
      ],
      "text/plain": [
       "Matrix([\n",
       "[2.0*E*a_x1 + 0.5*E*a_x2 + 0.5*E*a_x3 + f_x],\n",
       "[0.5*E*a_y1 + 2.0*E*a_y2 + 0.5*E*a_y3 + f_y],\n",
       "[0.5*E*a_z1 + 0.5*E*a_z2 + 2.0*E*a_z3 + f_z]])"
      ]
     },
     "metadata": {},
     "output_type": "display_data"
    }
   ],
   "source": [
    "\n",
    "display(SumOfForces.subs({nu:0}))"
   ]
  },
  {
   "cell_type": "code",
   "execution_count": 120,
   "id": "61178eba",
   "metadata": {},
   "outputs": [],
   "source": [
    "sigma_xx = sp.Function('sigma_xx')(x,y,z)\n"
   ]
  },
  {
   "cell_type": "code",
   "execution_count": 121,
   "id": "8f42ed70",
   "metadata": {},
   "outputs": [
    {
     "data": {
      "text/latex": [
       "$\\displaystyle \\frac{\\partial}{\\partial x} \\sigma_{xx}{\\left(x,y,z \\right)}$"
      ],
      "text/plain": [
       "Derivative(sigma_xx(x, y, z), x)"
      ]
     },
     "execution_count": 121,
     "metadata": {},
     "output_type": "execute_result"
    }
   ],
   "source": [
    "sp.diff(sigma_xx,x)"
   ]
  },
  {
   "cell_type": "code",
   "execution_count": null,
   "id": "10255bdb",
   "metadata": {},
   "outputs": [],
   "source": []
  }
 ],
 "metadata": {
  "kernelspec": {
   "display_name": "Python 3 (ipykernel)",
   "language": "python",
   "name": "python3"
  },
  "language_info": {
   "codemirror_mode": {
    "name": "ipython",
    "version": 3
   },
   "file_extension": ".py",
   "mimetype": "text/x-python",
   "name": "python",
   "nbconvert_exporter": "python",
   "pygments_lexer": "ipython3",
   "version": "3.9.6"
  }
 },
 "nbformat": 4,
 "nbformat_minor": 5
}
