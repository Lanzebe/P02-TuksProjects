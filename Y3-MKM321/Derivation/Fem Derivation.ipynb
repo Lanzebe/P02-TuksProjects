{
 "cells": [
  {
   "cell_type": "code",
   "execution_count": 1,
   "id": "b60af68e",
   "metadata": {},
   "outputs": [],
   "source": [
    "import sympy as sp"
   ]
  },
  {
   "cell_type": "markdown",
   "id": "3ab79a52",
   "metadata": {},
   "source": [
    "## Displacement field of one element\n",
    "Let the displacement field be appoximatd by u_bar"
   ]
  },
  {
   "cell_type": "code",
   "execution_count": 2,
   "id": "8bd3da56",
   "metadata": {},
   "outputs": [],
   "source": [
    "x,y,z = sp.symbols('x,y,z')\n",
    "a_x1,b_x1,c_x1,a_x2,b_x2,c_x2,a_x3,b_x3,c_x3 = sp.symbols('a_x1,b_x1,c_x1,a_x2,b_x2,c_x2,a_x3,b_x3,c_x3')\n",
    "a_y1,b_y1,c_y1,a_y2,b_y2,c_y2,a_y3,b_y3,c_y3 = sp.symbols('a_y1,b_y1,c_y1,a_y2,b_y2,c_y2,a_y3,b_y3,c_y3')\n",
    "a_z1,b_z1,c_z1,a_z2,b_z2,c_z2,a_z3,b_z3,c_z3 = sp.symbols('a_z1,b_z1,c_z1,a_z2,b_z2,c_z2,a_z3,b_z3,c_z3')"
   ]
  },
  {
   "cell_type": "code",
   "execution_count": 3,
   "id": "fd04bd4b",
   "metadata": {},
   "outputs": [],
   "source": [
    "u = sp.Matrix([a_x1*x**2 + b_x1*x + c_x1,a_x2*y**2 + b_x2*y + c_x2,a_x3*z**2 + b_x3*z + c_x3])\n",
    "v = sp.Matrix([a_y1*x**2 + b_y1*x + c_y1,a_y2*y**2 + b_y2*y + c_y2,a_y3*z**2 + b_y3*z + c_y3])\n",
    "w = sp.Matrix([a_z1*x**2 + b_z1*x + c_z1,a_z2*y**2 + b_z2*y + c_z2,a_z3*z**2 + b_z3*z + c_z3])"
   ]
  },
  {
   "cell_type": "markdown",
   "id": "0cf2c43a",
   "metadata": {},
   "source": [
    "## Calculate Strain"
   ]
  },
  {
   "cell_type": "code",
   "execution_count": 4,
   "id": "9682a069",
   "metadata": {},
   "outputs": [
    {
     "name": "stdout",
     "output_type": "stream",
     "text": [
      "Raw strain:\n"
     ]
    },
    {
     "data": {
      "text/latex": [
       "$\\displaystyle \\left[\\begin{matrix}2 a_{x1} x + b_{x1} & 2 a_{x2} y + b_{x2} & 2 a_{x3} z + b_{x3}\\\\2 a_{y1} x + b_{y1} & 2 a_{y2} y + b_{y2} & 2 a_{y3} z + b_{y3}\\\\2 a_{z1} x + b_{z1} & 2 a_{z2} y + b_{z2} & 2 a_{z3} z + b_{z3}\\end{matrix}\\right]$"
      ],
      "text/plain": [
       "Matrix([\n",
       "[2*a_x1*x + b_x1, 2*a_x2*y + b_x2, 2*a_x3*z + b_x3],\n",
       "[2*a_y1*x + b_y1, 2*a_y2*y + b_y2, 2*a_y3*z + b_y3],\n",
       "[2*a_z1*x + b_z1, 2*a_z2*y + b_z2, 2*a_z3*z + b_z3]])"
      ]
     },
     "metadata": {},
     "output_type": "display_data"
    },
    {
     "name": "stdout",
     "output_type": "stream",
     "text": [
      "Hydrostatic strain(normal type):\n"
     ]
    },
    {
     "data": {
      "text/latex": [
       "$\\displaystyle \\left[\\begin{matrix}2.0 a_{x1} x + 1.0 b_{x1} & 1.0 a_{x2} y + 1.0 a_{y1} x + 0.5 b_{x2} + 0.5 b_{y1} & 1.0 a_{x3} z + 1.0 a_{z1} x + 0.5 b_{x3} + 0.5 b_{z1}\\\\1.0 a_{x2} y + 1.0 a_{y1} x + 0.5 b_{x2} + 0.5 b_{y1} & 2.0 a_{y2} y + 1.0 b_{y2} & 1.0 a_{y3} z + 1.0 a_{z2} y + 0.5 b_{y3} + 0.5 b_{z2}\\\\1.0 a_{x3} z + 1.0 a_{z1} x + 0.5 b_{x3} + 0.5 b_{z1} & 1.0 a_{y3} z + 1.0 a_{z2} y + 0.5 b_{y3} + 0.5 b_{z2} & 2.0 a_{z3} z + 1.0 b_{z3}\\end{matrix}\\right]$"
      ],
      "text/plain": [
       "Matrix([\n",
       "[                        2.0*a_x1*x + 1.0*b_x1, 1.0*a_x2*y + 1.0*a_y1*x + 0.5*b_x2 + 0.5*b_y1, 1.0*a_x3*z + 1.0*a_z1*x + 0.5*b_x3 + 0.5*b_z1],\n",
       "[1.0*a_x2*y + 1.0*a_y1*x + 0.5*b_x2 + 0.5*b_y1,                         2.0*a_y2*y + 1.0*b_y2, 1.0*a_y3*z + 1.0*a_z2*y + 0.5*b_y3 + 0.5*b_z2],\n",
       "[1.0*a_x3*z + 1.0*a_z1*x + 0.5*b_x3 + 0.5*b_z1, 1.0*a_y3*z + 1.0*a_z2*y + 0.5*b_y3 + 0.5*b_z2,                         2.0*a_z3*z + 1.0*b_z3]])"
      ]
     },
     "metadata": {},
     "output_type": "display_data"
    },
    {
     "name": "stdout",
     "output_type": "stream",
     "text": [
      "NON-Hydrostatic strain(not considdered):\n"
     ]
    },
    {
     "data": {
      "text/latex": [
       "$\\displaystyle \\left[\\begin{matrix}0 & - 1.0 a_{x2} y + 1.0 a_{y1} x - 0.5 b_{x2} + 0.5 b_{y1} & - 1.0 a_{x3} z + 1.0 a_{z1} x - 0.5 b_{x3} + 0.5 b_{z1}\\\\1.0 a_{x2} y - 1.0 a_{y1} x + 0.5 b_{x2} - 0.5 b_{y1} & 0 & - 1.0 a_{y3} z + 1.0 a_{z2} y - 0.5 b_{y3} + 0.5 b_{z2}\\\\1.0 a_{x3} z - 1.0 a_{z1} x + 0.5 b_{x3} - 0.5 b_{z1} & 1.0 a_{y3} z - 1.0 a_{z2} y + 0.5 b_{y3} - 0.5 b_{z2} & 0\\end{matrix}\\right]$"
      ],
      "text/plain": [
       "Matrix([\n",
       "[                                            0, -1.0*a_x2*y + 1.0*a_y1*x - 0.5*b_x2 + 0.5*b_y1, -1.0*a_x3*z + 1.0*a_z1*x - 0.5*b_x3 + 0.5*b_z1],\n",
       "[1.0*a_x2*y - 1.0*a_y1*x + 0.5*b_x2 - 0.5*b_y1,                                              0, -1.0*a_y3*z + 1.0*a_z2*y - 0.5*b_y3 + 0.5*b_z2],\n",
       "[1.0*a_x3*z - 1.0*a_z1*x + 0.5*b_x3 - 0.5*b_z1,  1.0*a_y3*z - 1.0*a_z2*y + 0.5*b_y3 - 0.5*b_z2,                                              0]])"
      ]
     },
     "metadata": {},
     "output_type": "display_data"
    }
   ],
   "source": [
    "gradient_u = sp.Matrix(sp.derive_by_array(u,x))+sp.Matrix(sp.derive_by_array(u,y))+sp.Matrix(sp.derive_by_array(u,z))\n",
    "gradient_v = sp.Matrix(sp.derive_by_array(v,x))+sp.Matrix(sp.derive_by_array(v,y))+sp.Matrix(sp.derive_by_array(v,z))\n",
    "gradient_w = sp.Matrix(sp.derive_by_array(w,x))+sp.Matrix(sp.derive_by_array(w,y))+sp.Matrix(sp.derive_by_array(w,z))\n",
    "\n",
    "raw_strain = sp.Matrix([sp.transpose(gradient_u),  sp.transpose(gradient_v), sp.transpose(gradient_w)])\n",
    "print('Raw strain:')\n",
    "display(raw_strain)\n",
    "epsilon = sp.simplify(0.5*(sp.transpose(raw_strain) + raw_strain))\n",
    "non_hydo_epsilon = sp.simplify(0.5*(sp.transpose(raw_strain) - raw_strain))\n",
    "print('Hydrostatic strain(normal type):')\n",
    "display(epsilon)\n",
    "print('NON-Hydrostatic strain(not considdered):')\n",
    "display(non_hydo_epsilon)\n"
   ]
  },
  {
   "cell_type": "markdown",
   "id": "32b0e306",
   "metadata": {},
   "source": [
    "## Material properties and stress"
   ]
  },
  {
   "cell_type": "code",
   "execution_count": 5,
   "id": "73931962",
   "metadata": {},
   "outputs": [
    {
     "name": "stdout",
     "output_type": "stream",
     "text": [
      "Strain in voigt notation:\n"
     ]
    },
    {
     "data": {
      "text/latex": [
       "$\\displaystyle \\left[\\begin{matrix}2.0 a_{x1} x + 1.0 b_{x1}\\\\2.0 a_{y2} y + 1.0 b_{y2}\\\\2.0 a_{z3} z + 1.0 b_{z3}\\\\1.0 a_{y3} z + 1.0 a_{z2} y + 0.5 b_{y3} + 0.5 b_{z2}\\\\1.0 a_{x3} z + 1.0 a_{z1} x + 0.5 b_{x3} + 0.5 b_{z1}\\\\1.0 a_{x2} y + 1.0 a_{y1} x + 0.5 b_{x2} + 0.5 b_{y1}\\end{matrix}\\right]$"
      ],
      "text/plain": [
       "Matrix([\n",
       "[                        2.0*a_x1*x + 1.0*b_x1],\n",
       "[                        2.0*a_y2*y + 1.0*b_y2],\n",
       "[                        2.0*a_z3*z + 1.0*b_z3],\n",
       "[1.0*a_y3*z + 1.0*a_z2*y + 0.5*b_y3 + 0.5*b_z2],\n",
       "[1.0*a_x3*z + 1.0*a_z1*x + 0.5*b_x3 + 0.5*b_z1],\n",
       "[1.0*a_x2*y + 1.0*a_y1*x + 0.5*b_x2 + 0.5*b_y1]])"
      ]
     },
     "metadata": {},
     "output_type": "display_data"
    },
    {
     "name": "stdout",
     "output_type": "stream",
     "text": [
      "Stress:\n"
     ]
    },
    {
     "data": {
      "text/latex": [
       "$\\displaystyle \\left[\\begin{matrix}\\frac{E \\nu \\left(2.0 a_{y2} y + 1.0 b_{y2}\\right)}{\\left(1 - 2 \\nu\\right) \\left(\\nu + 1\\right)} + \\frac{E \\nu \\left(2.0 a_{z3} z + 1.0 b_{z3}\\right)}{\\left(1 - 2 \\nu\\right) \\left(\\nu + 1\\right)} + \\frac{E \\left(1 - \\nu\\right) \\left(2.0 a_{x1} x + 1.0 b_{x1}\\right)}{\\left(1 - 2 \\nu\\right) \\left(\\nu + 1\\right)}\\\\\\frac{E \\nu \\left(2.0 a_{x1} x + 1.0 b_{x1}\\right)}{\\left(1 - 2 \\nu\\right) \\left(\\nu + 1\\right)} + \\frac{E \\nu \\left(2.0 a_{z3} z + 1.0 b_{z3}\\right)}{\\left(1 - 2 \\nu\\right) \\left(\\nu + 1\\right)} + \\frac{E \\left(1 - \\nu\\right) \\left(2.0 a_{y2} y + 1.0 b_{y2}\\right)}{\\left(1 - 2 \\nu\\right) \\left(\\nu + 1\\right)}\\\\\\frac{E \\nu \\left(2.0 a_{x1} x + 1.0 b_{x1}\\right)}{\\left(1 - 2 \\nu\\right) \\left(\\nu + 1\\right)} + \\frac{E \\nu \\left(2.0 a_{y2} y + 1.0 b_{y2}\\right)}{\\left(1 - 2 \\nu\\right) \\left(\\nu + 1\\right)} + \\frac{E \\left(1 - \\nu\\right) \\left(2.0 a_{z3} z + 1.0 b_{z3}\\right)}{\\left(1 - 2 \\nu\\right) \\left(\\nu + 1\\right)}\\\\\\frac{E \\left(0.5 - \\nu\\right) \\left(1.0 a_{y3} z + 1.0 a_{z2} y + 0.5 b_{y3} + 0.5 b_{z2}\\right)}{\\left(1 - 2 \\nu\\right) \\left(\\nu + 1\\right)}\\\\\\frac{E \\left(0.5 - \\nu\\right) \\left(1.0 a_{x3} z + 1.0 a_{z1} x + 0.5 b_{x3} + 0.5 b_{z1}\\right)}{\\left(1 - 2 \\nu\\right) \\left(\\nu + 1\\right)}\\\\\\frac{E \\left(0.5 - \\nu\\right) \\left(1.0 a_{x2} y + 1.0 a_{y1} x + 0.5 b_{x2} + 0.5 b_{y1}\\right)}{\\left(1 - 2 \\nu\\right) \\left(\\nu + 1\\right)}\\end{matrix}\\right]$"
      ],
      "text/plain": [
       "Matrix([\n",
       "[E*nu*(2.0*a_y2*y + 1.0*b_y2)/((1 - 2*nu)*(nu + 1)) + E*nu*(2.0*a_z3*z + 1.0*b_z3)/((1 - 2*nu)*(nu + 1)) + E*(1 - nu)*(2.0*a_x1*x + 1.0*b_x1)/((1 - 2*nu)*(nu + 1))],\n",
       "[E*nu*(2.0*a_x1*x + 1.0*b_x1)/((1 - 2*nu)*(nu + 1)) + E*nu*(2.0*a_z3*z + 1.0*b_z3)/((1 - 2*nu)*(nu + 1)) + E*(1 - nu)*(2.0*a_y2*y + 1.0*b_y2)/((1 - 2*nu)*(nu + 1))],\n",
       "[E*nu*(2.0*a_x1*x + 1.0*b_x1)/((1 - 2*nu)*(nu + 1)) + E*nu*(2.0*a_y2*y + 1.0*b_y2)/((1 - 2*nu)*(nu + 1)) + E*(1 - nu)*(2.0*a_z3*z + 1.0*b_z3)/((1 - 2*nu)*(nu + 1))],\n",
       "[                                                                                E*(0.5 - nu)*(1.0*a_y3*z + 1.0*a_z2*y + 0.5*b_y3 + 0.5*b_z2)/((1 - 2*nu)*(nu + 1))],\n",
       "[                                                                                E*(0.5 - nu)*(1.0*a_x3*z + 1.0*a_z1*x + 0.5*b_x3 + 0.5*b_z1)/((1 - 2*nu)*(nu + 1))],\n",
       "[                                                                                E*(0.5 - nu)*(1.0*a_x2*y + 1.0*a_y1*x + 0.5*b_x2 + 0.5*b_y1)/((1 - 2*nu)*(nu + 1))]])"
      ]
     },
     "metadata": {},
     "output_type": "display_data"
    }
   ],
   "source": [
    "nu,E = sp.symbols('nu,E')\n",
    "M = [[1-nu,nu,nu,0,0,0],[nu,1-nu,nu,0,0,0],[nu,nu,1-nu,0,0,0],[0,0,0,0.5-nu,0,0],[0,0,0,0,0.5-nu,0],[0,0,0,0,0,0.5-nu]]\n",
    "D = E/((1 + nu)*(1 - 2*nu))*sp.Matrix(M)\n",
    "epsilon_voigt = sp.Matrix([epsilon[0,0],epsilon[1,1],epsilon[2,2],epsilon[1,2],epsilon[0,2],epsilon[0,1]])\n",
    "print('Strain in voigt notation:')\n",
    "display(epsilon_voigt)\n",
    "sigma_voigt = D*epsilon_voigt\n",
    "print('Stress:')\n",
    "display(sigma_voigt)\n",
    "sigma = sp.Matrix([[sigma_voigt[0],sigma_voigt[5],sigma_voigt[4]],[sigma_voigt[5],sigma_voigt[1],sigma_voigt[3]],[sigma_voigt[4],sigma_voigt[3],sigma_voigt[2]]])\n",
    "#display(sigma)"
   ]
  },
  {
   "cell_type": "markdown",
   "id": "2834d778",
   "metadata": {},
   "source": [
    "## Sum of forces including body forces"
   ]
  },
  {
   "cell_type": "code",
   "execution_count": 6,
   "id": "cb7c43af",
   "metadata": {},
   "outputs": [],
   "source": [
    "f_x,f_y,f_z = sp.symbols('f_x,f_y,f_z')"
   ]
  },
  {
   "cell_type": "code",
   "execution_count": 7,
   "id": "7400d10c",
   "metadata": {},
   "outputs": [
    {
     "data": {
      "text/latex": [
       "$\\displaystyle \\left[\\begin{matrix}f_{x}\\\\f_{y}\\\\f_{z}\\end{matrix}\\right]$"
      ],
      "text/plain": [
       "Matrix([\n",
       "[f_x],\n",
       "[f_y],\n",
       "[f_z]])"
      ]
     },
     "metadata": {},
     "output_type": "display_data"
    }
   ],
   "source": [
    "F = sp.Matrix([f_x,f_y,f_z])\n",
    "display(F)"
   ]
  },
  {
   "cell_type": "code",
   "execution_count": 8,
   "id": "98ff68f1",
   "metadata": {},
   "outputs": [
    {
     "data": {
      "text/latex": [
       "$\\displaystyle \\left[\\begin{matrix}\\frac{2.0 E a_{x1} \\left(1 - \\nu\\right)}{\\left(1 - 2 \\nu\\right) \\left(\\nu + 1\\right)} + \\frac{1.0 E a_{x2} \\left(0.5 - \\nu\\right)}{\\left(1 - 2 \\nu\\right) \\left(\\nu + 1\\right)} + \\frac{1.0 E a_{x3} \\left(0.5 - \\nu\\right)}{\\left(1 - 2 \\nu\\right) \\left(\\nu + 1\\right)} + f_{x}\\\\\\frac{1.0 E a_{y1} \\left(0.5 - \\nu\\right)}{\\left(1 - 2 \\nu\\right) \\left(\\nu + 1\\right)} + \\frac{2.0 E a_{y2} \\left(1 - \\nu\\right)}{\\left(1 - 2 \\nu\\right) \\left(\\nu + 1\\right)} + \\frac{1.0 E a_{y3} \\left(0.5 - \\nu\\right)}{\\left(1 - 2 \\nu\\right) \\left(\\nu + 1\\right)} + f_{y}\\\\\\frac{1.0 E a_{z1} \\left(0.5 - \\nu\\right)}{\\left(1 - 2 \\nu\\right) \\left(\\nu + 1\\right)} + \\frac{1.0 E a_{z2} \\left(0.5 - \\nu\\right)}{\\left(1 - 2 \\nu\\right) \\left(\\nu + 1\\right)} + \\frac{2.0 E a_{z3} \\left(1 - \\nu\\right)}{\\left(1 - 2 \\nu\\right) \\left(\\nu + 1\\right)} + f_{z}\\end{matrix}\\right]$"
      ],
      "text/plain": [
       "Matrix([\n",
       "[2.0*E*a_x1*(1 - nu)/((1 - 2*nu)*(nu + 1)) + 1.0*E*a_x2*(0.5 - nu)/((1 - 2*nu)*(nu + 1)) + 1.0*E*a_x3*(0.5 - nu)/((1 - 2*nu)*(nu + 1)) + f_x],\n",
       "[1.0*E*a_y1*(0.5 - nu)/((1 - 2*nu)*(nu + 1)) + 2.0*E*a_y2*(1 - nu)/((1 - 2*nu)*(nu + 1)) + 1.0*E*a_y3*(0.5 - nu)/((1 - 2*nu)*(nu + 1)) + f_y],\n",
       "[1.0*E*a_z1*(0.5 - nu)/((1 - 2*nu)*(nu + 1)) + 1.0*E*a_z2*(0.5 - nu)/((1 - 2*nu)*(nu + 1)) + 2.0*E*a_z3*(1 - nu)/((1 - 2*nu)*(nu + 1)) + f_z]])"
      ]
     },
     "metadata": {},
     "output_type": "display_data"
    }
   ],
   "source": [
    "#display(sp.derive_by_array(sigma[0:3],x))\n",
    "#display(sp.derive_by_array(sigma[3:6],y))\n",
    "#display(sp.derive_by_array(sigma[6:9],z))\n",
    "SumOfForcesDx = sp.derive_by_array(sigma[0:3],x)\n",
    "SumOfForcesDy = sp.derive_by_array(sigma[3:6],y)\n",
    "SumOfForcesDz = sp.derive_by_array(sigma[6:9],z)\n",
    "SumOfForces = sp.Matrix([[SumOfForcesDx[0]+SumOfForcesDy[0]+SumOfForcesDz[0]],[SumOfForcesDx[1]+SumOfForcesDy[1]+SumOfForcesDz[1]],[SumOfForcesDx[2]+SumOfForcesDy[2]+SumOfForcesDz[2]]])\n",
    "SumOfForces = SumOfForces + F\n",
    "display(SumOfForces)\n"
   ]
  },
  {
   "cell_type": "markdown",
   "id": "2c31b68a",
   "metadata": {},
   "source": [
    "## Alternatively"
   ]
  },
  {
   "cell_type": "code",
   "execution_count": 9,
   "id": "8ac280ee",
   "metadata": {},
   "outputs": [
    {
     "data": {
      "text/latex": [
       "$\\displaystyle \\left[\\begin{matrix}u{\\left(x,y,z \\right)}\\\\v{\\left(x,y,z \\right)}\\\\w{\\left(x,y,z \\right)}\\end{matrix}\\right]$"
      ],
      "text/plain": [
       "Matrix([\n",
       "[u(x, y, z)],\n",
       "[v(x, y, z)],\n",
       "[w(x, y, z)]])"
      ]
     },
     "metadata": {},
     "output_type": "display_data"
    }
   ],
   "source": [
    "u = sp.Function('u')(x,y,z)\n",
    "v = sp.Function('v')(x,y,z)\n",
    "w = sp.Function('w')(x,y,z)\n",
    "\n",
    "U = sp.Matrix([u,v,w])\n",
    "display(U)"
   ]
  },
  {
   "cell_type": "markdown",
   "id": "0a901d27",
   "metadata": {},
   "source": [
    "## Displacement graidient Calculation into strain"
   ]
  },
  {
   "cell_type": "code",
   "execution_count": 10,
   "id": "364aefd2",
   "metadata": {},
   "outputs": [
    {
     "name": "stdout",
     "output_type": "stream",
     "text": [
      "Raw strain:\n"
     ]
    },
    {
     "data": {
      "text/latex": [
       "$\\displaystyle \\left[\\begin{matrix}\\left[\\begin{matrix}\\frac{\\partial}{\\partial x} u{\\left(x,y,z \\right)}\\end{matrix}\\right] & \\left[\\begin{matrix}\\frac{\\partial}{\\partial x} v{\\left(x,y,z \\right)}\\end{matrix}\\right] & \\left[\\begin{matrix}\\frac{\\partial}{\\partial x} w{\\left(x,y,z \\right)}\\end{matrix}\\right]\\\\\\left[\\begin{matrix}\\frac{\\partial}{\\partial y} u{\\left(x,y,z \\right)}\\end{matrix}\\right] & \\left[\\begin{matrix}\\frac{\\partial}{\\partial y} v{\\left(x,y,z \\right)}\\end{matrix}\\right] & \\left[\\begin{matrix}\\frac{\\partial}{\\partial y} w{\\left(x,y,z \\right)}\\end{matrix}\\right]\\\\\\left[\\begin{matrix}\\frac{\\partial}{\\partial z} u{\\left(x,y,z \\right)}\\end{matrix}\\right] & \\left[\\begin{matrix}\\frac{\\partial}{\\partial z} v{\\left(x,y,z \\right)}\\end{matrix}\\right] & \\left[\\begin{matrix}\\frac{\\partial}{\\partial z} w{\\left(x,y,z \\right)}\\end{matrix}\\right]\\end{matrix}\\right]$"
      ],
      "text/plain": [
       "Matrix([\n",
       "[[Derivative(u(x, y, z), x)], [Derivative(v(x, y, z), x)], [Derivative(w(x, y, z), x)]],\n",
       "[[Derivative(u(x, y, z), y)], [Derivative(v(x, y, z), y)], [Derivative(w(x, y, z), y)]],\n",
       "[[Derivative(u(x, y, z), z)], [Derivative(v(x, y, z), z)], [Derivative(w(x, y, z), z)]]])"
      ]
     },
     "metadata": {},
     "output_type": "display_data"
    },
    {
     "name": "stdout",
     "output_type": "stream",
     "text": [
      "Hydrostatic strain(normal type):\n"
     ]
    },
    {
     "data": {
      "text/latex": [
       "$\\displaystyle \\left[\\begin{matrix}\\left[\\begin{matrix}1.0 \\frac{\\partial}{\\partial x} u{\\left(x,y,z \\right)}\\end{matrix}\\right] & \\left[\\begin{matrix}0.5 \\frac{\\partial}{\\partial y} u{\\left(x,y,z \\right)} + 0.5 \\frac{\\partial}{\\partial x} v{\\left(x,y,z \\right)}\\end{matrix}\\right] & \\left[\\begin{matrix}0.5 \\frac{\\partial}{\\partial z} u{\\left(x,y,z \\right)} + 0.5 \\frac{\\partial}{\\partial x} w{\\left(x,y,z \\right)}\\end{matrix}\\right]\\\\\\left[\\begin{matrix}0.5 \\frac{\\partial}{\\partial y} u{\\left(x,y,z \\right)} + 0.5 \\frac{\\partial}{\\partial x} v{\\left(x,y,z \\right)}\\end{matrix}\\right] & \\left[\\begin{matrix}1.0 \\frac{\\partial}{\\partial y} v{\\left(x,y,z \\right)}\\end{matrix}\\right] & \\left[\\begin{matrix}0.5 \\frac{\\partial}{\\partial z} v{\\left(x,y,z \\right)} + 0.5 \\frac{\\partial}{\\partial y} w{\\left(x,y,z \\right)}\\end{matrix}\\right]\\\\\\left[\\begin{matrix}0.5 \\frac{\\partial}{\\partial z} u{\\left(x,y,z \\right)} + 0.5 \\frac{\\partial}{\\partial x} w{\\left(x,y,z \\right)}\\end{matrix}\\right] & \\left[\\begin{matrix}0.5 \\frac{\\partial}{\\partial z} v{\\left(x,y,z \\right)} + 0.5 \\frac{\\partial}{\\partial y} w{\\left(x,y,z \\right)}\\end{matrix}\\right] & \\left[\\begin{matrix}1.0 \\frac{\\partial}{\\partial z} w{\\left(x,y,z \\right)}\\end{matrix}\\right]\\end{matrix}\\right]$"
      ],
      "text/plain": [
       "Matrix([\n",
       "[                                [1.0*Derivative(u(x, y, z), x)], [0.5*Derivative(u(x, y, z), y) + 0.5*Derivative(v(x, y, z), x)], [0.5*Derivative(u(x, y, z), z) + 0.5*Derivative(w(x, y, z), x)]],\n",
       "[[0.5*Derivative(u(x, y, z), y) + 0.5*Derivative(v(x, y, z), x)],                                 [1.0*Derivative(v(x, y, z), y)], [0.5*Derivative(v(x, y, z), z) + 0.5*Derivative(w(x, y, z), y)]],\n",
       "[[0.5*Derivative(u(x, y, z), z) + 0.5*Derivative(w(x, y, z), x)], [0.5*Derivative(v(x, y, z), z) + 0.5*Derivative(w(x, y, z), y)],                                 [1.0*Derivative(w(x, y, z), z)]]])"
      ]
     },
     "metadata": {},
     "output_type": "display_data"
    },
    {
     "name": "stdout",
     "output_type": "stream",
     "text": [
      "NON-Hydrostatic strain(not considdered):\n"
     ]
    },
    {
     "data": {
      "text/latex": [
       "$\\displaystyle \\left[\\begin{matrix}\\left[\\begin{matrix}0\\end{matrix}\\right] & \\left[\\begin{matrix}0.5 \\frac{\\partial}{\\partial y} u{\\left(x,y,z \\right)} - 0.5 \\frac{\\partial}{\\partial x} v{\\left(x,y,z \\right)}\\end{matrix}\\right] & \\left[\\begin{matrix}0.5 \\frac{\\partial}{\\partial z} u{\\left(x,y,z \\right)} - 0.5 \\frac{\\partial}{\\partial x} w{\\left(x,y,z \\right)}\\end{matrix}\\right]\\\\\\left[\\begin{matrix}- 0.5 \\frac{\\partial}{\\partial y} u{\\left(x,y,z \\right)} + 0.5 \\frac{\\partial}{\\partial x} v{\\left(x,y,z \\right)}\\end{matrix}\\right] & \\left[\\begin{matrix}0\\end{matrix}\\right] & \\left[\\begin{matrix}0.5 \\frac{\\partial}{\\partial z} v{\\left(x,y,z \\right)} - 0.5 \\frac{\\partial}{\\partial y} w{\\left(x,y,z \\right)}\\end{matrix}\\right]\\\\\\left[\\begin{matrix}- 0.5 \\frac{\\partial}{\\partial z} u{\\left(x,y,z \\right)} + 0.5 \\frac{\\partial}{\\partial x} w{\\left(x,y,z \\right)}\\end{matrix}\\right] & \\left[\\begin{matrix}- 0.5 \\frac{\\partial}{\\partial z} v{\\left(x,y,z \\right)} + 0.5 \\frac{\\partial}{\\partial y} w{\\left(x,y,z \\right)}\\end{matrix}\\right] & \\left[\\begin{matrix}0\\end{matrix}\\right]\\end{matrix}\\right]$"
      ],
      "text/plain": [
       "Matrix([\n",
       "[                                                             [0],  [0.5*Derivative(u(x, y, z), y) - 0.5*Derivative(v(x, y, z), x)], [0.5*Derivative(u(x, y, z), z) - 0.5*Derivative(w(x, y, z), x)]],\n",
       "[[-0.5*Derivative(u(x, y, z), y) + 0.5*Derivative(v(x, y, z), x)],                                                              [0], [0.5*Derivative(v(x, y, z), z) - 0.5*Derivative(w(x, y, z), y)]],\n",
       "[[-0.5*Derivative(u(x, y, z), z) + 0.5*Derivative(w(x, y, z), x)], [-0.5*Derivative(v(x, y, z), z) + 0.5*Derivative(w(x, y, z), y)],                                                             [0]]])"
      ]
     },
     "metadata": {},
     "output_type": "display_data"
    }
   ],
   "source": [
    "raw_strain = sp.Matrix(sp.derive_by_array(U,[x,y,z]))\n",
    "print('Raw strain:')\n",
    "display(raw_strain)\n",
    "epsilon = sp.simplify(0.5*(sp.transpose(raw_strain) + raw_strain))\n",
    "non_hydo_epsilon = sp.simplify(0.5*(sp.transpose(raw_strain) - raw_strain))\n",
    "print('Hydrostatic strain(normal type):')\n",
    "display(epsilon)\n",
    "print('NON-Hydrostatic strain(not considdered):')\n",
    "display(non_hydo_epsilon)"
   ]
  },
  {
   "cell_type": "markdown",
   "id": "da16f35f",
   "metadata": {},
   "source": [
    "## Material properties and stress"
   ]
  },
  {
   "cell_type": "code",
   "execution_count": 11,
   "id": "e545c35d",
   "metadata": {},
   "outputs": [
    {
     "name": "stdout",
     "output_type": "stream",
     "text": [
      "Strain in voigt notation:\n"
     ]
    },
    {
     "data": {
      "text/latex": [
       "$\\displaystyle \\left[\\begin{matrix}1.0 \\frac{\\partial}{\\partial x} u{\\left(x,y,z \\right)}\\\\1.0 \\frac{\\partial}{\\partial y} v{\\left(x,y,z \\right)}\\\\1.0 \\frac{\\partial}{\\partial z} w{\\left(x,y,z \\right)}\\\\0.5 \\frac{\\partial}{\\partial z} v{\\left(x,y,z \\right)} + 0.5 \\frac{\\partial}{\\partial y} w{\\left(x,y,z \\right)}\\\\0.5 \\frac{\\partial}{\\partial z} u{\\left(x,y,z \\right)} + 0.5 \\frac{\\partial}{\\partial x} w{\\left(x,y,z \\right)}\\\\0.5 \\frac{\\partial}{\\partial y} u{\\left(x,y,z \\right)} + 0.5 \\frac{\\partial}{\\partial x} v{\\left(x,y,z \\right)}\\end{matrix}\\right]$"
      ],
      "text/plain": [
       "Matrix([\n",
       "[                                1.0*Derivative(u(x, y, z), x)],\n",
       "[                                1.0*Derivative(v(x, y, z), y)],\n",
       "[                                1.0*Derivative(w(x, y, z), z)],\n",
       "[0.5*Derivative(v(x, y, z), z) + 0.5*Derivative(w(x, y, z), y)],\n",
       "[0.5*Derivative(u(x, y, z), z) + 0.5*Derivative(w(x, y, z), x)],\n",
       "[0.5*Derivative(u(x, y, z), y) + 0.5*Derivative(v(x, y, z), x)]])"
      ]
     },
     "metadata": {},
     "output_type": "display_data"
    },
    {
     "name": "stdout",
     "output_type": "stream",
     "text": [
      "Stress in Voigt:\n"
     ]
    },
    {
     "data": {
      "text/latex": [
       "$\\displaystyle \\left[\\begin{matrix}\\frac{1.0 E \\nu \\frac{\\partial}{\\partial y} v{\\left(x,y,z \\right)}}{\\left(1 - 2 \\nu\\right) \\left(\\nu + 1\\right)} + \\frac{1.0 E \\nu \\frac{\\partial}{\\partial z} w{\\left(x,y,z \\right)}}{\\left(1 - 2 \\nu\\right) \\left(\\nu + 1\\right)} + \\frac{1.0 E \\left(1 - \\nu\\right) \\frac{\\partial}{\\partial x} u{\\left(x,y,z \\right)}}{\\left(1 - 2 \\nu\\right) \\left(\\nu + 1\\right)}\\\\\\frac{1.0 E \\nu \\frac{\\partial}{\\partial x} u{\\left(x,y,z \\right)}}{\\left(1 - 2 \\nu\\right) \\left(\\nu + 1\\right)} + \\frac{1.0 E \\nu \\frac{\\partial}{\\partial z} w{\\left(x,y,z \\right)}}{\\left(1 - 2 \\nu\\right) \\left(\\nu + 1\\right)} + \\frac{1.0 E \\left(1 - \\nu\\right) \\frac{\\partial}{\\partial y} v{\\left(x,y,z \\right)}}{\\left(1 - 2 \\nu\\right) \\left(\\nu + 1\\right)}\\\\\\frac{1.0 E \\nu \\frac{\\partial}{\\partial x} u{\\left(x,y,z \\right)}}{\\left(1 - 2 \\nu\\right) \\left(\\nu + 1\\right)} + \\frac{1.0 E \\nu \\frac{\\partial}{\\partial y} v{\\left(x,y,z \\right)}}{\\left(1 - 2 \\nu\\right) \\left(\\nu + 1\\right)} + \\frac{1.0 E \\left(1 - \\nu\\right) \\frac{\\partial}{\\partial z} w{\\left(x,y,z \\right)}}{\\left(1 - 2 \\nu\\right) \\left(\\nu + 1\\right)}\\\\\\frac{E \\left(0.5 - \\nu\\right) \\left(0.5 \\frac{\\partial}{\\partial z} v{\\left(x,y,z \\right)} + 0.5 \\frac{\\partial}{\\partial y} w{\\left(x,y,z \\right)}\\right)}{\\left(1 - 2 \\nu\\right) \\left(\\nu + 1\\right)}\\\\\\frac{E \\left(0.5 - \\nu\\right) \\left(0.5 \\frac{\\partial}{\\partial z} u{\\left(x,y,z \\right)} + 0.5 \\frac{\\partial}{\\partial x} w{\\left(x,y,z \\right)}\\right)}{\\left(1 - 2 \\nu\\right) \\left(\\nu + 1\\right)}\\\\\\frac{E \\left(0.5 - \\nu\\right) \\left(0.5 \\frac{\\partial}{\\partial y} u{\\left(x,y,z \\right)} + 0.5 \\frac{\\partial}{\\partial x} v{\\left(x,y,z \\right)}\\right)}{\\left(1 - 2 \\nu\\right) \\left(\\nu + 1\\right)}\\end{matrix}\\right]$"
      ],
      "text/plain": [
       "Matrix([\n",
       "[1.0*E*nu*Derivative(v(x, y, z), y)/((1 - 2*nu)*(nu + 1)) + 1.0*E*nu*Derivative(w(x, y, z), z)/((1 - 2*nu)*(nu + 1)) + 1.0*E*(1 - nu)*Derivative(u(x, y, z), x)/((1 - 2*nu)*(nu + 1))],\n",
       "[1.0*E*nu*Derivative(u(x, y, z), x)/((1 - 2*nu)*(nu + 1)) + 1.0*E*nu*Derivative(w(x, y, z), z)/((1 - 2*nu)*(nu + 1)) + 1.0*E*(1 - nu)*Derivative(v(x, y, z), y)/((1 - 2*nu)*(nu + 1))],\n",
       "[1.0*E*nu*Derivative(u(x, y, z), x)/((1 - 2*nu)*(nu + 1)) + 1.0*E*nu*Derivative(v(x, y, z), y)/((1 - 2*nu)*(nu + 1)) + 1.0*E*(1 - nu)*Derivative(w(x, y, z), z)/((1 - 2*nu)*(nu + 1))],\n",
       "[                                                                                  E*(0.5 - nu)*(0.5*Derivative(v(x, y, z), z) + 0.5*Derivative(w(x, y, z), y))/((1 - 2*nu)*(nu + 1))],\n",
       "[                                                                                  E*(0.5 - nu)*(0.5*Derivative(u(x, y, z), z) + 0.5*Derivative(w(x, y, z), x))/((1 - 2*nu)*(nu + 1))],\n",
       "[                                                                                  E*(0.5 - nu)*(0.5*Derivative(u(x, y, z), y) + 0.5*Derivative(v(x, y, z), x))/((1 - 2*nu)*(nu + 1))]])"
      ]
     },
     "metadata": {},
     "output_type": "display_data"
    }
   ],
   "source": [
    "nu,E = sp.symbols('nu,E')\n",
    "M = [[1-nu,nu,nu,0,0,0],[nu,1-nu,nu,0,0,0],[nu,nu,1-nu,0,0,0],[0,0,0,0.5-nu,0,0],[0,0,0,0,0.5-nu,0],[0,0,0,0,0,0.5-nu]]\n",
    "D = E/((1 + nu)*(1 - 2*nu))*sp.Matrix(M)\n",
    "epsilon_voigt = sp.Matrix([epsilon[0,0],epsilon[1,1],epsilon[2,2],epsilon[1,2],epsilon[0,2],epsilon[0,1]])\n",
    "print('Strain in voigt notation:')\n",
    "display(epsilon_voigt)\n",
    "sigma_voigt = D*epsilon_voigt\n",
    "print('Stress in Voigt:')\n",
    "display(sigma_voigt)\n",
    "sigma = sp.Matrix([[sigma_voigt[0],sigma_voigt[5],sigma_voigt[4]],[sigma_voigt[5],sigma_voigt[1],sigma_voigt[3]],[sigma_voigt[4],sigma_voigt[3],sigma_voigt[2]]])\n",
    "#display(sigma)"
   ]
  },
  {
   "cell_type": "markdown",
   "id": "e6440c7a",
   "metadata": {},
   "source": [
    "## Sum of forces including body forces "
   ]
  },
  {
   "cell_type": "code",
   "execution_count": 12,
   "id": "eb86a07e",
   "metadata": {},
   "outputs": [],
   "source": [
    "f_x,f_y,f_z = sp.symbols('f_x,f_y,f_z')"
   ]
  },
  {
   "cell_type": "code",
   "execution_count": 13,
   "id": "6e793826",
   "metadata": {},
   "outputs": [
    {
     "data": {
      "text/latex": [
       "$\\displaystyle \\left[\\begin{matrix}f_{x}\\\\f_{y}\\\\f_{z}\\end{matrix}\\right]$"
      ],
      "text/plain": [
       "Matrix([\n",
       "[f_x],\n",
       "[f_y],\n",
       "[f_z]])"
      ]
     },
     "metadata": {},
     "output_type": "display_data"
    }
   ],
   "source": [
    "F = sp.Matrix([f_x,f_y,f_z])\n",
    "display(F)"
   ]
  },
  {
   "cell_type": "code",
   "execution_count": 14,
   "id": "20df1a1d",
   "metadata": {},
   "outputs": [
    {
     "data": {
      "text/latex": [
       "$\\displaystyle \\left[\\begin{matrix}\\frac{1.0 E \\nu \\frac{\\partial^{2}}{\\partial y\\partial x} v{\\left(x,y,z \\right)}}{\\left(1 - 2 \\nu\\right) \\left(\\nu + 1\\right)} + \\frac{1.0 E \\nu \\frac{\\partial^{2}}{\\partial z\\partial x} w{\\left(x,y,z \\right)}}{\\left(1 - 2 \\nu\\right) \\left(\\nu + 1\\right)} + \\frac{E \\left(0.5 - \\nu\\right) \\left(0.5 \\frac{\\partial^{2}}{\\partial y^{2}} u{\\left(x,y,z \\right)} + 0.5 \\frac{\\partial^{2}}{\\partial y\\partial x} v{\\left(x,y,z \\right)}\\right)}{\\left(1 - 2 \\nu\\right) \\left(\\nu + 1\\right)} + \\frac{E \\left(0.5 - \\nu\\right) \\left(0.5 \\frac{\\partial^{2}}{\\partial z^{2}} u{\\left(x,y,z \\right)} + 0.5 \\frac{\\partial^{2}}{\\partial z\\partial x} w{\\left(x,y,z \\right)}\\right)}{\\left(1 - 2 \\nu\\right) \\left(\\nu + 1\\right)} + \\frac{1.0 E \\left(1 - \\nu\\right) \\frac{\\partial^{2}}{\\partial x^{2}} u{\\left(x,y,z \\right)}}{\\left(1 - 2 \\nu\\right) \\left(\\nu + 1\\right)} + f_{x}\\\\\\frac{1.0 E \\nu \\frac{\\partial^{2}}{\\partial y\\partial x} u{\\left(x,y,z \\right)}}{\\left(1 - 2 \\nu\\right) \\left(\\nu + 1\\right)} + \\frac{1.0 E \\nu \\frac{\\partial^{2}}{\\partial z\\partial y} w{\\left(x,y,z \\right)}}{\\left(1 - 2 \\nu\\right) \\left(\\nu + 1\\right)} + \\frac{E \\left(0.5 - \\nu\\right) \\left(0.5 \\frac{\\partial^{2}}{\\partial x^{2}} v{\\left(x,y,z \\right)} + 0.5 \\frac{\\partial^{2}}{\\partial y\\partial x} u{\\left(x,y,z \\right)}\\right)}{\\left(1 - 2 \\nu\\right) \\left(\\nu + 1\\right)} + \\frac{E \\left(0.5 - \\nu\\right) \\left(0.5 \\frac{\\partial^{2}}{\\partial z^{2}} v{\\left(x,y,z \\right)} + 0.5 \\frac{\\partial^{2}}{\\partial z\\partial y} w{\\left(x,y,z \\right)}\\right)}{\\left(1 - 2 \\nu\\right) \\left(\\nu + 1\\right)} + \\frac{1.0 E \\left(1 - \\nu\\right) \\frac{\\partial^{2}}{\\partial y^{2}} v{\\left(x,y,z \\right)}}{\\left(1 - 2 \\nu\\right) \\left(\\nu + 1\\right)} + f_{y}\\\\\\frac{1.0 E \\nu \\frac{\\partial^{2}}{\\partial z\\partial x} u{\\left(x,y,z \\right)}}{\\left(1 - 2 \\nu\\right) \\left(\\nu + 1\\right)} + \\frac{1.0 E \\nu \\frac{\\partial^{2}}{\\partial z\\partial y} v{\\left(x,y,z \\right)}}{\\left(1 - 2 \\nu\\right) \\left(\\nu + 1\\right)} + \\frac{E \\left(0.5 - \\nu\\right) \\left(0.5 \\frac{\\partial^{2}}{\\partial x^{2}} w{\\left(x,y,z \\right)} + 0.5 \\frac{\\partial^{2}}{\\partial z\\partial x} u{\\left(x,y,z \\right)}\\right)}{\\left(1 - 2 \\nu\\right) \\left(\\nu + 1\\right)} + \\frac{E \\left(0.5 - \\nu\\right) \\left(0.5 \\frac{\\partial^{2}}{\\partial y^{2}} w{\\left(x,y,z \\right)} + 0.5 \\frac{\\partial^{2}}{\\partial z\\partial y} v{\\left(x,y,z \\right)}\\right)}{\\left(1 - 2 \\nu\\right) \\left(\\nu + 1\\right)} + \\frac{1.0 E \\left(1 - \\nu\\right) \\frac{\\partial^{2}}{\\partial z^{2}} w{\\left(x,y,z \\right)}}{\\left(1 - 2 \\nu\\right) \\left(\\nu + 1\\right)} + f_{z}\\end{matrix}\\right]$"
      ],
      "text/plain": [
       "Matrix([\n",
       "[1.0*E*nu*Derivative(v(x, y, z), x, y)/((1 - 2*nu)*(nu + 1)) + 1.0*E*nu*Derivative(w(x, y, z), x, z)/((1 - 2*nu)*(nu + 1)) + E*(0.5 - nu)*(0.5*Derivative(u(x, y, z), (y, 2)) + 0.5*Derivative(v(x, y, z), x, y))/((1 - 2*nu)*(nu + 1)) + E*(0.5 - nu)*(0.5*Derivative(u(x, y, z), (z, 2)) + 0.5*Derivative(w(x, y, z), x, z))/((1 - 2*nu)*(nu + 1)) + 1.0*E*(1 - nu)*Derivative(u(x, y, z), (x, 2))/((1 - 2*nu)*(nu + 1)) + f_x],\n",
       "[1.0*E*nu*Derivative(u(x, y, z), x, y)/((1 - 2*nu)*(nu + 1)) + 1.0*E*nu*Derivative(w(x, y, z), y, z)/((1 - 2*nu)*(nu + 1)) + E*(0.5 - nu)*(0.5*Derivative(v(x, y, z), (x, 2)) + 0.5*Derivative(u(x, y, z), x, y))/((1 - 2*nu)*(nu + 1)) + E*(0.5 - nu)*(0.5*Derivative(v(x, y, z), (z, 2)) + 0.5*Derivative(w(x, y, z), y, z))/((1 - 2*nu)*(nu + 1)) + 1.0*E*(1 - nu)*Derivative(v(x, y, z), (y, 2))/((1 - 2*nu)*(nu + 1)) + f_y],\n",
       "[1.0*E*nu*Derivative(u(x, y, z), x, z)/((1 - 2*nu)*(nu + 1)) + 1.0*E*nu*Derivative(v(x, y, z), y, z)/((1 - 2*nu)*(nu + 1)) + E*(0.5 - nu)*(0.5*Derivative(w(x, y, z), (x, 2)) + 0.5*Derivative(u(x, y, z), x, z))/((1 - 2*nu)*(nu + 1)) + E*(0.5 - nu)*(0.5*Derivative(w(x, y, z), (y, 2)) + 0.5*Derivative(v(x, y, z), y, z))/((1 - 2*nu)*(nu + 1)) + 1.0*E*(1 - nu)*Derivative(w(x, y, z), (z, 2))/((1 - 2*nu)*(nu + 1)) + f_z]])"
      ]
     },
     "metadata": {},
     "output_type": "display_data"
    }
   ],
   "source": [
    "#display(sp.derive_by_array(sigma[0:3],x))\n",
    "#display(sp.derive_by_array(sigma[3:6],y))\n",
    "#display(sp.derive_by_array(sigma[6:9],z))\n",
    "SumOfForcesDx = sp.derive_by_array(sigma[0:3],x)\n",
    "SumOfForcesDy = sp.derive_by_array(sigma[3:6],y)\n",
    "SumOfForcesDz = sp.derive_by_array(sigma[6:9],z)\n",
    "SumOfForces = sp.Matrix([[SumOfForcesDx[0]+SumOfForcesDy[0]+SumOfForcesDz[0]],[SumOfForcesDx[1]+SumOfForcesDy[1]+SumOfForcesDz[1]],[SumOfForcesDx[2]+SumOfForcesDy[2]+SumOfForcesDz[2]]])\n",
    "SumOfForces = SumOfForces + F\n",
    "display(SumOfForces)"
   ]
  },
  {
   "cell_type": "code",
   "execution_count": null,
   "id": "cd80560b",
   "metadata": {},
   "outputs": [],
   "source": []
  }
 ],
 "metadata": {
  "kernelspec": {
   "display_name": "Python 3 (ipykernel)",
   "language": "python",
   "name": "python3"
  },
  "language_info": {
   "codemirror_mode": {
    "name": "ipython",
    "version": 3
   },
   "file_extension": ".py",
   "mimetype": "text/x-python",
   "name": "python",
   "nbconvert_exporter": "python",
   "pygments_lexer": "ipython3",
   "version": "3.9.6"
  }
 },
 "nbformat": 4,
 "nbformat_minor": 5
}
