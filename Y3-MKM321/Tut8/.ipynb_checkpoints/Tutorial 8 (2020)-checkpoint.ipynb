{
 "cells": [
  {
   "cell_type": "markdown",
   "metadata": {},
   "source": [
    "### Student Number - Surname: [First Student Number] - [Enter Surname First Student Here]"
   ]
  },
  {
   "cell_type": "markdown",
   "metadata": {},
   "source": [
    "# Question 1 [40]\n",
    "## Consider a bar that is clamped at $x_1=0$ and loaded by a force $F=10 000$ N (in the positive x-direction) at the right edge $x_1=0.5$.\n",
    "## The area of the bar changes with $x_1$ and is given by $A(x_1) = 0.0001x_1 + 0.0001\\;m^2$.\n",
    "## The bar has a Young's modulus of $E=210$ GPa.\n",
    "### 1. Solve the weak form for the 1D bar problem using one quadratic finite element. [20]\n",
    "### 2. Determine whether the approximated solution satisfies equilibrium. [5]\n",
    "### 3. Plot the displacement over the structure. [5]\n",
    "### 4. Plot the original and deformed structures. [5]\n",
    "### 5. Plot the approximated stress over the structure and compare it against the actual stress $\\sigma_{11}(\\mathbf{x}) = \\frac{F}{A(x_1)}$. [5]\n",
    "### 6. From the approximated stress field compute the internal force as a function of $x_1$ and compare it against the expected internal force. [5]"
   ]
  },
  {
   "cell_type": "code",
   "execution_count": 1,
   "metadata": {},
   "outputs": [],
   "source": [
    "## defining the problem\n",
    "import numpy as np\n",
    "import sympy as sp\n",
    "import matplotlib.pyplot as plt"
   ]
  },
  {
   "cell_type": "code",
   "execution_count": 2,
   "metadata": {},
   "outputs": [
    {
     "name": "stdout",
     "output_type": "stream",
     "text": [
      "[0]\n",
      "Elements positions:\n",
      "[[0.0, 0.25, 0.5]]\n",
      "Node numbers:\n",
      "[[0, 1, 2]]\n",
      "Traction vector\n",
      "Matrix([[0.0], [10000.0000000000], [0.0]])\n",
      "Big Stiffness Matrix:\n"
     ]
    },
    {
     "data": {
      "text/latex": [
       "$\\displaystyle \\left[\\begin{matrix}136500000.0 & 17500000.0 & -154000000.0\\\\17500000.0 & 108500000.0 & -126000000.0\\\\-154000000.0 & -126000000.0 & 280000000.0\\end{matrix}\\right]$"
      ],
      "text/plain": [
       "Matrix([\n",
       "[ 136500000.0,   17500000.0, -154000000.0],\n",
       "[  17500000.0,  108500000.0, -126000000.0],\n",
       "[-154000000.0, -126000000.0,  280000000.0]])"
      ]
     },
     "metadata": {},
     "output_type": "display_data"
    },
    {
     "name": "stdout",
     "output_type": "stream",
     "text": [
      "nodal displacements:\n",
      "[0, 0.000193050193050193, 8.68725868725869e-5]\n"
     ]
    }
   ],
   "source": [
    "#Q1.1 and solving of FEA\n",
    "E = 210E9  # Pa\n",
    "FApplied = 10000\n",
    "BarLenght = 0.5\n",
    "\n",
    "xi = sp.symbols('xi')\n",
    "\n",
    "NumElements = 1\n",
    "\n",
    "Tractions = None\n",
    "\n",
    "Elements = []\n",
    "NodeNumbers = []\n",
    "\n",
    "def Meshing(N,L):\n",
    "    n0 = np.linspace(0,L,(2*N)+1)\n",
    "    np.append(n0,L)\n",
    "    for i in range(N):\n",
    "        Elements.append([n0[i*2],n0[i*2+1],n0[i*2+2]])\n",
    "        NodeNumbers.append([i*2,i*2+1,i*2+2])\n",
    "    pass\n",
    "\n",
    "def ReturnXForElement(ElementNum):\n",
    "    N1 = -1/2*xi*(1-xi)\n",
    "    N2 = 1/2*xi*(1+xi)\n",
    "    N3 = (1-xi)*(1+xi)\n",
    "    x1 = Elements[ElementNum][0]\n",
    "    x2 = Elements[ElementNum][2]\n",
    "    x3 = Elements[ElementNum][1]\n",
    "    return N1*x1 + N2*x2 + N3*x3\n",
    "   \n",
    "\n",
    "def AreaForElement(ElementNum):\n",
    "    return sp.simplify(0.0001 + 0.0001*ReturnXForElement(ElementNum))\n",
    "\n",
    "def BuildTractionVector(FApplied,NodeNum,Tractions):\n",
    "    \n",
    "    size = NodeNumbers[len(NodeNumbers)-1][2]\n",
    "    if Tractions==None:\n",
    "        Tractions = np.zeros([size+1])\n",
    "    arr = np.array(NodeNumbers)\n",
    "    if NumElements==1:\n",
    "        indx = np.where(arr == NodeNum)[0]\n",
    "    else:\n",
    "        indx = np.where(arr == NodeNum)[0][0]\n",
    "        \n",
    "    print(indx)\n",
    "    Tractions = sp.Matrix(Tractions)\n",
    "    Tractions[NodeNum] = Tractions[NodeNum] + FApplied\n",
    "    return  sp.Matrix(Tractions)\n",
    " \n",
    "def ReturnNMatrix():\n",
    "    N1 = -1/2*xi*(1-xi)\n",
    "    N2 = 1/2*xi*(1+xi)\n",
    "    N3 = (1-xi)*(1+xi)\n",
    "    return sp.Matrix([N1,N2,N3] )\n",
    "    \n",
    "def BuildSmallStiffi(ElementNum):\n",
    "    N1 = -1/2*xi*(1-xi)\n",
    "    N2 = 1/2*xi*(1+xi)\n",
    "    N3 = (1-xi)*(1+xi)\n",
    "    N = [N1,N2,N3]  ### may need to cahnge order\n",
    "    x = ReturnXForElement(ElementNum)\n",
    "    dxdxi = sp.derive_by_array(x,xi)\n",
    "    dxidx = 1/dxdxi\n",
    "    #print('dxidx',dxidx)\n",
    "    B = dxidx*sp.derive_by_array(N,xi);\n",
    "    #print('B:',B)\n",
    "    Bmat = sp.Matrix(B).transpose()\n",
    "    BTEB = Bmat.transpose()*E*Bmat\n",
    "    \n",
    "    integrandStiffnessMatrix = BTEB*AreaForElement(ElementNum)*dxdxi\n",
    "    #gaus quad\n",
    "    StiffnessMatrix = 1.0*integrandStiffnessMatrix.subs({xi:-1/3**0.5}) + 1.0*integrandStiffnessMatrix.subs({xi:1/3**0.5})\n",
    "    \n",
    "    return sp.simplify(StiffnessMatrix)\n",
    "    \n",
    "def AssembleStiffnessMatrix():\n",
    "    size = NodeNumbers[len(NodeNumbers)-1][2]+1\n",
    "    StiffnessMatrix = np.zeros([size,size])\n",
    "    \n",
    "    for idx,i in enumerate(Elements):\n",
    "        Stiffnessi1 = np.zeros([size,size])\n",
    "        M = BuildSmallStiffi(idx)\n",
    "        \n",
    "        Stiffnessi1[NodeNumbers[idx][0]][NodeNumbers[idx][0]] = M[4]\n",
    "        Stiffnessi1[NodeNumbers[idx][0]][NodeNumbers[idx][1]] = M[1]\n",
    "        Stiffnessi1[NodeNumbers[idx][0]][NodeNumbers[idx][2]] = M[5]\n",
    "        Stiffnessi1[NodeNumbers[idx][1]][NodeNumbers[idx][0]] = M[3]\n",
    "        Stiffnessi1[NodeNumbers[idx][1]][NodeNumbers[idx][1]] = M[0]\n",
    "        Stiffnessi1[NodeNumbers[idx][1]][NodeNumbers[idx][2]] = M[2]\n",
    "        Stiffnessi1[NodeNumbers[idx][2]][NodeNumbers[idx][0]] = M[7]\n",
    "        Stiffnessi1[NodeNumbers[idx][2]][NodeNumbers[idx][1]] = M[6]\n",
    "        Stiffnessi1[NodeNumbers[idx][2]][NodeNumbers[idx][2]] = M[8]\n",
    "        StiffnessMatrix = StiffnessMatrix + Stiffnessi1\n",
    "    \n",
    "    return sp.Matrix(StiffnessMatrix)\n",
    "  \n",
    "\n",
    "#initializing the meshing    \n",
    "Meshing(NumElements, BarLenght)\n",
    "#Building of traction vector global\n",
    "Tractions = BuildTractionVector(FApplied,NumElements*2-1,Tractions)\n",
    "\n",
    "\n",
    "    \n",
    "StiffnessMatrix = AssembleStiffnessMatrix()\n",
    "print('Elements positions:')\n",
    "print(Elements)\n",
    "print('Node numbers:')\n",
    "print(NodeNumbers)\n",
    "print('Traction vector')\n",
    "print(Tractions)\n",
    "print('Big Stiffness Matrix:')\n",
    "display(StiffnessMatrix)\n",
    "\n",
    "StiffnessMatrixReduced = StiffnessMatrix[1:,1:]\n",
    "\n",
    "\n",
    "solution = StiffnessMatrixReduced.solve(Tractions[1:,0]-StiffnessMatrix[1:,0]*0)\n",
    "\n",
    "\n",
    "q =[0]\n",
    "for i in solution:\n",
    "    q.append(i)\n",
    "\n",
    "print('nodal displacements:')\n",
    "print(q)"
   ]
  },
  {
   "cell_type": "code",
   "execution_count": 3,
   "metadata": {},
   "outputs": [
    {
     "name": "stdout",
     "output_type": "stream",
     "text": [
      "x as a functoin of xi\n"
     ]
    },
    {
     "data": {
      "text/latex": [
       "$\\displaystyle 0.25 \\xi + 0.25$"
      ],
      "text/plain": [
       "0.25*xi + 0.25"
      ]
     },
     "metadata": {},
     "output_type": "display_data"
    }
   ],
   "source": [
    "print('x as a functoin of xi')\n",
    "for i in range(NumElements):\n",
    "    display(sp.simplify(ReturnXForElement(i)))"
   ]
  },
  {
   "cell_type": "code",
   "execution_count": 4,
   "metadata": {},
   "outputs": [
    {
     "name": "stdout",
     "output_type": "stream",
     "text": [
      "u displacement as a function of x:\n"
     ]
    },
    {
     "data": {
      "text/latex": [
       "$\\displaystyle \\left(0.000230453667953668 - 0.000598455598455599 x\\right) \\left(4 x + 0.75\\right)$"
      ],
      "text/plain": [
       "(0.000230453667953668 - 0.000598455598455599*x)*(4*x + 0.75)"
      ]
     },
     "metadata": {},
     "output_type": "display_data"
    },
    {
     "name": "stdout",
     "output_type": "stream",
     "text": [
      "Strain Matrix:\n"
     ]
    },
    {
     "data": {
      "text/latex": [
       "$\\displaystyle \\left[\\begin{matrix}0.000472972972972973 - 0.00478764478764479 x & 0 & 0\\\\0 & 0 & 0\\\\0 & 0 & 0\\end{matrix}\\right]$"
      ],
      "text/plain": [
       "[[0.000472972972972973 - 0.00478764478764479*x, 0, 0], [0, 0, 0], [0, 0, 0]]"
      ]
     },
     "metadata": {},
     "output_type": "display_data"
    },
    {
     "name": "stdout",
     "output_type": "stream",
     "text": [
      "Stress Vector:\n"
     ]
    },
    {
     "data": {
      "text/latex": [
       "$\\displaystyle \\left[\\begin{matrix}99324324.3243243 - 1005405405.40541 x\\\\0\\\\0\\\\0\\\\0\\\\0\\end{matrix}\\right]$"
      ],
      "text/plain": [
       "Matrix([\n",
       "[99324324.3243243 - 1005405405.40541*x],\n",
       "[                                    0],\n",
       "[                                    0],\n",
       "[                                    0],\n",
       "[                                    0],\n",
       "[                                    0]])"
      ]
     },
     "metadata": {},
     "output_type": "display_data"
    },
    {
     "name": "stdout",
     "output_type": "stream",
     "text": [
      "area of bar at x=0.5 0.000218750000000000\n",
      "Stress of bar at x=0.5 45714285.7142857\n",
      "Equilibrium first equation: -1005405405.40541\n",
      "Equilibrium second equation: 0\n",
      "Equilibrium third equation: 0\n",
      "Equilibrium is not satisfied in the x direction. As the linear approximation yields a residual stress.\n"
     ]
    }
   ],
   "source": [
    "#Q1.2\n",
    "def StrainMatrixFromDisplacement3d(u,v,w,x,y,z):\n",
    "    displacement_vector = [u,v,w] \n",
    "    spatial_coordinates = [x, y, z]\n",
    "    displacement_gradient = sp.derive_by_array(displacement_vector, spatial_coordinates)\n",
    "    return sp.simplify(0.5*(displacement_gradient.transpose() + displacement_gradient))\n",
    "\n",
    "def StressVectorFromStrain3d(StrainMatrix ,D = 1):\n",
    "    #D=1 is the default value of the matrix D\n",
    "    if D == 1:\n",
    "        D = E/((1 + nu)*(1 - 2*nu))*sp.Matrix([[1-nu,nu,nu,0,0,0],[nu,1-nu,nu,0,0,0],[nu,nu,1-nu,0,0,0],[0,0,0,0.5-nu,0,0],[0,0,0,0,0.5-nu,0],[0,0,0,0,0,0.5-nu]])\n",
    "    strain_vector = sp.Matrix([StrainMatrix[0,0],StrainMatrix[1,1],StrainMatrix[2,2],2*StrainMatrix[1,2],2*StrainMatrix[0,2],2*StrainMatrix[0,1]])\n",
    "    \n",
    "    return sp.simplify(D*strain_vector)\n",
    "\n",
    "def EvaluateEqulibrium3d(StressVector,x ,y ,z , ExpectedXresidual = 0,ExpectedYresidual = 0,ExpectedZresidual = 0):\n",
    "    Eq1 = sp.derive_by_array(StressVector[0],x) + sp.derive_by_array(StressVector[5],y) + sp.derive_by_array(StressVector[4],z)-ExpectedXresidual\n",
    "    print('Equilibrium first equation: {}'.format(Eq1))\n",
    "\n",
    "    Eq2 = sp.derive_by_array(StressVector[5],x) + sp.derive_by_array(StressVector[1],y) + sp.derive_by_array(StressVector[3],z)-ExpectedYresidual\n",
    "    print('Equilibrium second equation: {}'.format(Eq2))\n",
    "\n",
    "    Eq3 = sp.derive_by_array(StressVector[4],x) + sp.derive_by_array(StressVector[3],y) + sp.derive_by_array(StressVector[2],z)-ExpectedZresidual\n",
    "    print('Equilibrium third equation: {}'.format(Eq3))\n",
    "    \n",
    "xa,ya,za = sp.symbols('x,y,z')\n",
    "\n",
    "###material properties\n",
    "nu = 0  #### 1d simplifications    \n",
    "### from previous cell get the inverse\n",
    "def XtoXi(x):\n",
    "    return -0.25 + 4*x\n",
    "    \n",
    "u = sp.simplify(sp.transpose(sp.Matrix([q[0*2],q[0*2+2],q[0*2+1]])).dot(ReturnNMatrix()).subs({'xi':XtoXi(xa)}))\n",
    "v = 0\n",
    "w = 0\n",
    "print('u displacement as a function of x:')\n",
    "display(u)\n",
    "StrainMatrix = StrainMatrixFromDisplacement3d(u,v,w,xa,ya,za)\n",
    "print('Strain Matrix:')\n",
    "display(StrainMatrix)\n",
    "\n",
    "StressVector = StressVectorFromStrain3d(StrainMatrix)\n",
    "print('Stress Vector:')\n",
    "display(StressVector)\n",
    "print('area of bar at x=0.5',AreaForElement(0).subs({'xi':XtoXi(1)}))\n",
    "print('Stress of bar at x=0.5',FApplied/AreaForElement(0).subs({'xi':XtoXi(1)}))\n",
    "EvaluateEqulibrium3d(StressVector,xa,ya,za, ExpectedXresidual = 0,ExpectedYresidual = 0,ExpectedZresidual = 0)\n",
    "print('Equilibrium is not satisfied in the x direction. As the linear approximation yields a residual stress.')"
   ]
  },
  {
   "cell_type": "code",
   "execution_count": 5,
   "metadata": {},
   "outputs": [
    {
     "data": {
      "text/plain": [
       "Text(0, 0.5, 'u(m)')"
      ]
     },
     "execution_count": 5,
     "metadata": {},
     "output_type": "execute_result"
    },
    {
     "data": {
      "image/png": "[encoded data removed]",
      "text/plain": [
       "<Figure size 432x288 with 1 Axes>"
      ]
     },
     "metadata": {
      "needs_background": "light"
     },
     "output_type": "display_data"
    }
   ],
   "source": [
    "#Q1.3\n",
    "for i in range(NumElements):\n",
    "    X1 = sp.lambdify(xi, ReturnXForElement(i))\n",
    "    U1 = sp.lambdify(xi,sp.transpose(sp.Matrix([q[i*2],q[i*2+2],q[i*2+1]])).dot(ReturnNMatrix()))\n",
    "    Xi = np.linspace(-1,1,21)\n",
    "    plt.plot(X1(Xi),U1(Xi),label=\"Element \" + str(i))\n",
    "    \n",
    "    \n",
    "plt.title('Displacement')\n",
    "plt.xlabel('x(m)')\n",
    "plt.ylabel('u(m)')"
   ]
  },
  {
   "cell_type": "code",
   "execution_count": 6,
   "metadata": {},
   "outputs": [
    {
     "data": {
      "text/plain": [
       "Text(0.5, 0, 'x(m)')"
      ]
     },
     "execution_count": 6,
     "metadata": {},
     "output_type": "execute_result"
    },
    {
     "data": {
      "image/png": "[encoded data removed]",
      "text/plain": [
       "<Figure size 432x288 with 1 Axes>"
      ]
     },
     "metadata": {
      "needs_background": "light"
     },
     "output_type": "display_data"
    }
   ],
   "source": [
    "#Q1.4\n",
    "for i in range(NumElements):\n",
    "    X1 = sp.lambdify(xi, ReturnXForElement(i))\n",
    "    U1 = sp.lambdify(xi,sp.transpose(sp.Matrix([q[i*2],q[i*2+2],q[i*2+1]])).dot(ReturnNMatrix()))\n",
    "    Xi = np.linspace(-1,1,21)\n",
    "    \n",
    "    plt.scatter(X1(Xi),U1(Xi)*0,label=\"Element \" + str(i))\n",
    "    Magnification = 50\n",
    "    plt.scatter(X1(Xi)+U1(Xi)*Magnification,U1(Xi)*0,label=\"Element \" + str(i))\n",
    "plt.title('Deformation')\n",
    "plt.xlabel('x(m)')"
   ]
  },
  {
   "cell_type": "code",
   "execution_count": 7,
   "metadata": {},
   "outputs": [
    {
     "data": {
      "text/plain": [
       "Text(0, 0.5, 'Sigma(Pa)')"
      ]
     },
     "execution_count": 7,
     "metadata": {},
     "output_type": "execute_result"
    },
    {
     "data": {
      "image/png": "[encoded data removed]",
      "text/plain": [
       "<Figure size 432x288 with 1 Axes>"
      ]
     },
     "metadata": {
      "needs_background": "light"
     },
     "output_type": "display_data"
    }
   ],
   "source": [
    "#Q1.5\n",
    "xa,ya,za = sp.symbols('x,y,z')\n",
    "for i in range(NumElements):\n",
    "    X1 = sp.lambdify(xi, ReturnXForElement(i))\n",
    "    \n",
    "    N = ReturnNMatrix()  ### may need to cahnge order\n",
    "    x = ReturnXForElement(i)\n",
    "    dxdxi = sp.derive_by_array(x,xi)\n",
    "    dxidx = 1/dxdxi\n",
    "    \n",
    "    strain = sp.diff((sp.Matrix([q[i*2],q[i*2+2],q[i*2+1]])).dot(ReturnNMatrix()),xi)*dxidx\n",
    "    stress = E*strain\n",
    "    U1 = sp.lambdify(xi,stress)\n",
    "    S2 = sp.lambdify(xi,FApplied/AreaForElement(i))\n",
    "    Xi = np.linspace(-1,1,5)\n",
    "    if i ==0:\n",
    "        plt.plot(X1(Xi),U1(Xi),'b-',label=\"FEA\")\n",
    "        plt.plot(X1(Xi),S2(Xi),'g-',label=\"Predicted\")\n",
    "    else:\n",
    "        plt.plot(X1(Xi),U1(Xi),'b-')\n",
    "        plt.plot(X1(Xi),S2(Xi),'g-')\n",
    "plt.legend()\n",
    "plt.title('Stress')\n",
    "plt.xlabel('x(m)')\n",
    "plt.ylabel('Sigma(Pa)')"
   ]
  },
  {
   "cell_type": "code",
   "execution_count": 8,
   "metadata": {},
   "outputs": [
    {
     "data": {
      "text/plain": [
       "Text(0, 0.5, 'Force(N)')"
      ]
     },
     "execution_count": 8,
     "metadata": {},
     "output_type": "execute_result"
    },
    {
     "data": {
      "image/png": "[encoded data removed]",
      "text/plain": [
       "<Figure size 432x288 with 1 Axes>"
      ]
     },
     "metadata": {
      "needs_background": "light"
     },
     "output_type": "display_data"
    }
   ],
   "source": [
    "#Q1.6\n",
    "xa,ya,za = sp.symbols('x,y,z')\n",
    "for i in range(NumElements):\n",
    "    X1 = sp.lambdify(xi, ReturnXForElement(i))\n",
    "    \n",
    "    N = ReturnNMatrix()  ### may need to cahnge order\n",
    "    x = ReturnXForElement(i)\n",
    "    dxdxi = sp.derive_by_array(x,xi)\n",
    "    dxidx = 1/dxdxi\n",
    "    \n",
    "    strain = sp.diff((sp.Matrix([q[i*2],q[i*2+2],q[i*2+1]])).dot(ReturnNMatrix()),xi)*dxidx\n",
    "    interalF = E*strain/AreaForElement(i)\n",
    "    U1 = sp.lambdify(xi,interalF)\n",
    "    S2 = sp.lambdify(xi,FApplied/AreaForElement(i))\n",
    "    Xi = np.linspace(-1,1,5)\n",
    "    if i ==0:\n",
    "        plt.plot(X1(Xi),U1(Xi),'b-',label=\"FEA\")\n",
    "        plt.plot([0,0.5],[FApplied,FApplied],'g-',label=\"Predicted\")\n",
    "    else:\n",
    "        plt.plot(X1(Xi),U1(Xi),'b-')\n",
    "        plt.plot([0,0.5],[FApplied,FApplied],'g-')\n",
    "plt.legend()\n",
    "plt.title('Internal force')\n",
    "plt.xlabel('x(m)')\n",
    "plt.ylabel('Force(N)')"
   ]
  },
  {
   "cell_type": "markdown",
   "metadata": {},
   "source": [
    "# Question 2 [40]\n",
    "\n",
    "## Consider a bar that is clamped at $x_1=0$ and loaded by a force $F=10 000$ N (in the positive x-direction) at the right edge $x_1=0.5$.\n",
    "## The area of the bar changes with $x_1$ and is given by $A(x_1) = 0.0001x_1 + 0.0001\\;m^2$.\n",
    "## The bar has a Young's modulus of $E=210$ GPa.\n",
    "### 1. Solve the weak form for the 1D bar problem using two quadratic finite elements. [20]\n",
    "\n",
    "### 2. Determine whether the approximated solution satisfies equilibrium. [5]\n",
    "### 3. Plot the displacement over the structure. [5]\n",
    "### 4. Plot the original and deformed structures. [5]\n",
    "### 5. Plot the approximated stress over the structure and compare it against the actual stress $\\sigma_{11}(\\mathbf{x}) = \\frac{F}{A(x_1)}$. [5]\n",
    "### 6. From the approximated stress field compute the internal force as a function of $x_1$ and compare it against the expected internal force. [5]"
   ]
  },
  {
   "cell_type": "code",
   "execution_count": 9,
   "metadata": {},
   "outputs": [
    {
     "name": "stdout",
     "output_type": "stream",
     "text": [
      "1\n",
      "DONE\n"
     ]
    }
   ],
   "source": [
    "E = 210E9  # Pa\n",
    "FApplied = 10000\n",
    "BarLenght = 0.5\n",
    "\n",
    "xi = sp.symbols('xi')\n",
    "\n",
    "NumElements = 2\n",
    "\n",
    "Tractions = None\n",
    "\n",
    "Elements = []\n",
    "NodeNumbers = []\n",
    "\n",
    "\n",
    "  \n",
    "\n",
    "#initializing the meshing    \n",
    "Meshing(NumElements, BarLenght)\n",
    "#Building of traction vector global\n",
    "Tractions = BuildTractionVector(FApplied,NumElements*2-1,Tractions)\n",
    "\n",
    "\n",
    "    \n",
    "StiffnessMatrix = AssembleStiffnessMatrix()\n",
    "#print('Elements positions:')\n",
    "#print(Elements)\n",
    "#print('Node numbers:')\n",
    "#print(NodeNumbers)\n",
    "#print('Traction vector')\n",
    "#print(Tractions)\n",
    "#print('Big Stiffness Matrix:')\n",
    "#display(StiffnessMatrix)\n",
    "\n",
    "StiffnessMatrixReduced = StiffnessMatrix[1:,1:]\n",
    "\n",
    "\n",
    "solution = StiffnessMatrixReduced.solve(Tractions[1:,0]-StiffnessMatrix[1:,0]*0)\n",
    "\n",
    "\n",
    "q =[0]\n",
    "for i in solution:\n",
    "    q.append(i)\n",
    "    \n",
    "print('DONE')"
   ]
  },
  {
   "cell_type": "code",
   "execution_count": 10,
   "metadata": {},
   "outputs": [
    {
     "name": "stdout",
     "output_type": "stream",
     "text": [
      "x as a functoin of xi\n"
     ]
    },
    {
     "data": {
      "text/latex": [
       "$\\displaystyle 0.125 \\xi + 0.125$"
      ],
      "text/plain": [
       "0.125*xi + 0.125"
      ]
     },
     "metadata": {},
     "output_type": "display_data"
    },
    {
     "data": {
      "text/latex": [
       "$\\displaystyle 0.125 \\xi + 0.375$"
      ],
      "text/plain": [
       "0.125*xi + 0.375"
      ]
     },
     "metadata": {},
     "output_type": "display_data"
    }
   ],
   "source": [
    "print('x as a functoin of xi')\n",
    "for i in range(NumElements):\n",
    "    display(sp.simplify(ReturnXForElement(i)))"
   ]
  },
  {
   "cell_type": "code",
   "execution_count": 11,
   "metadata": {},
   "outputs": [
    {
     "name": "stdout",
     "output_type": "stream",
     "text": [
      "u displacement as a function of x:\n"
     ]
    },
    {
     "data": {
      "text/latex": [
       "$\\displaystyle \\left(5.72793683589138 \\cdot 10^{-5} - 0.000113636363636363 x\\right) \\left(4 x + 0.75\\right)$"
      ],
      "text/plain": [
       "(5.72793683589138e-5 - 0.000113636363636363*x)*(4*x + 0.75)"
      ]
     },
     "metadata": {},
     "output_type": "display_data"
    },
    {
     "name": "stdout",
     "output_type": "stream",
     "text": [
      "Strain Matrix:\n"
     ]
    },
    {
     "data": {
      "text/latex": [
       "$\\displaystyle \\left[\\begin{matrix}0.000143890200708382 - 0.000909090909090908 x & 0 & 0\\\\0 & 0 & 0\\\\0 & 0 & 0\\end{matrix}\\right]$"
      ],
      "text/plain": [
       "[[0.000143890200708382 - 0.000909090909090908*x, 0, 0], [0, 0, 0], [0, 0, 0]]"
      ]
     },
     "metadata": {},
     "output_type": "display_data"
    },
    {
     "name": "stdout",
     "output_type": "stream",
     "text": [
      "Stress Vector:\n"
     ]
    },
    {
     "data": {
      "text/latex": [
       "$\\displaystyle \\left[\\begin{matrix}30216942.1487603 - 190909090.909091 x\\\\0\\\\0\\\\0\\\\0\\\\0\\end{matrix}\\right]$"
      ],
      "text/plain": [
       "Matrix([\n",
       "[30216942.1487603 - 190909090.909091*x],\n",
       "[                                    0],\n",
       "[                                    0],\n",
       "[                                    0],\n",
       "[                                    0],\n",
       "[                                    0]])"
      ]
     },
     "metadata": {},
     "output_type": "display_data"
    },
    {
     "name": "stdout",
     "output_type": "stream",
     "text": [
      "area of bar at x=0.5 0.000159375000000000\n",
      "Stress of bar at x=0.5 62745098.0392157\n",
      "equilibrium of element 1\n",
      "Equilibrium first equation: -190909090.909091\n",
      "Equilibrium second equation: 0\n",
      "Equilibrium third equation: 0\n",
      "equilibrium of element 2\n",
      "Equilibrium first equation: -444198895.027625\n",
      "Equilibrium second equation: 0\n",
      "Equilibrium third equation: 0\n",
      "XXXXXXXXXX\n"
     ]
    }
   ],
   "source": [
    "#Q2.2\n",
    "def StrainMatrixFromDisplacement3d(u,v,w,x,y,z):\n",
    "    displacement_vector = [u,v,w] \n",
    "    spatial_coordinates = [x, y, z]\n",
    "    displacement_gradient = sp.derive_by_array(displacement_vector, spatial_coordinates)\n",
    "    return sp.simplify(0.5*(displacement_gradient.transpose() + displacement_gradient))\n",
    "\n",
    "def StressVectorFromStrain3d(StrainMatrix ,D = 1):\n",
    "    #D=1 is the default value of the matrix D\n",
    "    if D == 1:\n",
    "        D = E/((1 + nu)*(1 - 2*nu))*sp.Matrix([[1-nu,nu,nu,0,0,0],[nu,1-nu,nu,0,0,0],[nu,nu,1-nu,0,0,0],[0,0,0,0.5-nu,0,0],[0,0,0,0,0.5-nu,0],[0,0,0,0,0,0.5-nu]])\n",
    "    strain_vector = sp.Matrix([StrainMatrix[0,0],StrainMatrix[1,1],StrainMatrix[2,2],2*StrainMatrix[1,2],2*StrainMatrix[0,2],2*StrainMatrix[0,1]])\n",
    "    \n",
    "    return sp.simplify(D*strain_vector)\n",
    "\n",
    "def EvaluateEqulibrium3d(StressVector,x ,y ,z , ExpectedXresidual = 0,ExpectedYresidual = 0,ExpectedZresidual = 0):\n",
    "    Eq1 = sp.derive_by_array(StressVector[0],x) + sp.derive_by_array(StressVector[5],y) + sp.derive_by_array(StressVector[4],z)-ExpectedXresidual\n",
    "    print('Equilibrium first equation: {}'.format(Eq1))\n",
    "\n",
    "    Eq2 = sp.derive_by_array(StressVector[5],x) + sp.derive_by_array(StressVector[1],y) + sp.derive_by_array(StressVector[3],z)-ExpectedYresidual\n",
    "    print('Equilibrium second equation: {}'.format(Eq2))\n",
    "\n",
    "    Eq3 = sp.derive_by_array(StressVector[4],x) + sp.derive_by_array(StressVector[3],y) + sp.derive_by_array(StressVector[2],z)-ExpectedZresidual\n",
    "    print('Equilibrium third equation: {}'.format(Eq3))\n",
    "    \n",
    "xa,ya,za = sp.symbols('x,y,z')\n",
    "\n",
    "###material properties\n",
    "nu = 0  #### 1d simplifications    \n",
    "### from previous cell get the inverse\n",
    "def XtoXi(x):\n",
    "    return -0.25 + 4*x\n",
    "    \n",
    "u1 = sp.simplify(sp.transpose(sp.Matrix([q[0*2],q[0*2+2],q[0*2+1]])).dot(ReturnNMatrix()).subs({'xi':XtoXi(xa)}))\n",
    "u2 = sp.simplify(sp.transpose(sp.Matrix([q[1*2],q[1*2+2],q[1*2+1]])).dot(ReturnNMatrix()).subs({'xi':XtoXi(xa)}))\n",
    "v = 0\n",
    "w = 0\n",
    "print('u displacement as a function of x:')\n",
    "display(u1)\n",
    "StrainMatrix1 = StrainMatrixFromDisplacement3d(u1,v,w,xa,ya,za)\n",
    "StrainMatrix2 = StrainMatrixFromDisplacement3d(u2,v,w,xa,ya,za)\n",
    "print('Strain Matrix:')\n",
    "display(StrainMatrix1)\n",
    "\n",
    "StressVector1 = StressVectorFromStrain3d(StrainMatrix1)\n",
    "StressVector2 = StressVectorFromStrain3d(StrainMatrix2)\n",
    "print('Stress Vector:')\n",
    "display(StressVector1)\n",
    "print('area of bar at x=0.5',AreaForElement(0).subs({'xi':XtoXi(1)}))\n",
    "print('Stress of bar at x=0.5',FApplied/AreaForElement(0).subs({'xi':XtoXi(1)}))\n",
    "print('equilibrium of element 1')\n",
    "EvaluateEqulibrium3d(StressVector1,xa,ya,za, ExpectedXresidual = 0,ExpectedYresidual = 0,ExpectedZresidual = 0)\n",
    "print('equilibrium of element 2')\n",
    "EvaluateEqulibrium3d(StressVector2,xa,ya,za, ExpectedXresidual = 0,ExpectedYresidual = 0,ExpectedZresidual = 0)\n",
    "print('XXXXXXXXXX')"
   ]
  },
  {
   "cell_type": "code",
   "execution_count": 12,
   "metadata": {},
   "outputs": [
    {
     "data": {
      "text/plain": [
       "Text(0, 0.5, 'u(m)')"
      ]
     },
     "execution_count": 12,
     "metadata": {},
     "output_type": "execute_result"
    },
    {
     "data": {
      "image/png": "[encoded data removed]",
      "text/plain": [
       "<Figure size 432x288 with 1 Axes>"
      ]
     },
     "metadata": {
      "needs_background": "light"
     },
     "output_type": "display_data"
    }
   ],
   "source": [
    "#Q2.3\n",
    "for i in range(NumElements):\n",
    "    X1 = sp.lambdify(xi, ReturnXForElement(i))\n",
    "    U1 = sp.lambdify(xi,sp.transpose(sp.Matrix([q[i*2],q[i*2+2],q[i*2+1]])).dot(ReturnNMatrix()))\n",
    "    Xi = np.linspace(-1,1,21)\n",
    "    plt.plot(X1(Xi),U1(Xi),label=\"Element \" + str(i))\n",
    "    \n",
    "    \n",
    "plt.title('Displacement')\n",
    "plt.xlabel('x(m)')\n",
    "plt.ylabel('u(m)')"
   ]
  },
  {
   "cell_type": "code",
   "execution_count": 13,
   "metadata": {},
   "outputs": [
    {
     "data": {
      "text/plain": [
       "Text(0.5, 0, 'x(m)')"
      ]
     },
     "execution_count": 13,
     "metadata": {},
     "output_type": "execute_result"
    },
    {
     "data": {
      "image/png": "[encoded data removed]",
      "text/plain": [
       "<Figure size 432x288 with 1 Axes>"
      ]
     },
     "metadata": {
      "needs_background": "light"
     },
     "output_type": "display_data"
    }
   ],
   "source": [
    "#Q2.4\n",
    "for i in range(NumElements):\n",
    "    X1 = sp.lambdify(xi, ReturnXForElement(i))\n",
    "    U1 = sp.lambdify(xi,sp.transpose(sp.Matrix([q[i*2],q[i*2+2],q[i*2+1]])).dot(ReturnNMatrix()))\n",
    "    Xi = np.linspace(-1,1,10)\n",
    "    \n",
    "    plt.scatter(X1(Xi),U1(Xi)*0,color='b',label=\"Element \" + str(i))\n",
    "    Magnification = 50\n",
    "    plt.scatter(X1(Xi)+U1(Xi)*Magnification,U1(Xi)*0,color='g',label=\"Element \" + str(i))\n",
    "plt.title('Deformation')\n",
    "plt.xlabel('x(m)')"
   ]
  },
  {
   "cell_type": "code",
   "execution_count": 14,
   "metadata": {},
   "outputs": [
    {
     "data": {
      "text/plain": [
       "Text(0, 0.5, 'Sigma(Pa)')"
      ]
     },
     "execution_count": 14,
     "metadata": {},
     "output_type": "execute_result"
    },
    {
     "data": {
      "image/png": "[encoded data removed]",
      "text/plain": [
       "<Figure size 432x288 with 1 Axes>"
      ]
     },
     "metadata": {
      "needs_background": "light"
     },
     "output_type": "display_data"
    }
   ],
   "source": [
    "#Q2.5\n",
    "xa,ya,za = sp.symbols('x,y,z')\n",
    "for i in range(NumElements):\n",
    "    X1 = sp.lambdify(xi, ReturnXForElement(i))\n",
    "    \n",
    "    N = ReturnNMatrix()  ### may need to cahnge order\n",
    "    x = ReturnXForElement(i)\n",
    "    dxdxi = sp.derive_by_array(x,xi)\n",
    "    dxidx = 1/dxdxi\n",
    "    \n",
    "    strain = sp.diff((sp.Matrix([q[i*2],q[i*2+2],q[i*2+1]])).dot(ReturnNMatrix()),xi)*dxidx\n",
    "    stress = E*strain\n",
    "    U1 = sp.lambdify(xi,stress)\n",
    "    S2 = sp.lambdify(xi,FApplied/AreaForElement(i))\n",
    "    Xi = np.linspace(-1,1,5)\n",
    "    if i ==0:\n",
    "        plt.plot(X1(Xi),U1(Xi),'b-',label=\"FEA\")\n",
    "        plt.plot(X1(Xi),S2(Xi),'g-',label=\"Predicted\")\n",
    "    else:\n",
    "        plt.plot(X1(Xi),U1(Xi),'b-')\n",
    "        plt.plot(X1(Xi),S2(Xi),'g-')\n",
    "plt.legend()\n",
    "plt.title('Stress')\n",
    "plt.xlabel('x(m)')\n",
    "plt.ylabel('Sigma(Pa)')"
   ]
  },
  {
   "cell_type": "code",
   "execution_count": 15,
   "metadata": {},
   "outputs": [
    {
     "data": {
      "text/plain": [
       "Text(0, 0.5, 'Force(N)')"
      ]
     },
     "execution_count": 15,
     "metadata": {},
     "output_type": "execute_result"
    },
    {
     "data": {
      "image/png": "[encoded data removed]",
      "text/plain": [
       "<Figure size 432x288 with 1 Axes>"
      ]
     },
     "metadata": {
      "needs_background": "light"
     },
     "output_type": "display_data"
    }
   ],
   "source": [
    "#Q2.6\n",
    "xa,ya,za = sp.symbols('x,y,z')\n",
    "for i in range(NumElements):\n",
    "    X1 = sp.lambdify(xi, ReturnXForElement(i))\n",
    "    \n",
    "    N = ReturnNMatrix()  ### may need to cahnge order\n",
    "    x = ReturnXForElement(i)\n",
    "    dxdxi = sp.derive_by_array(x,xi)\n",
    "    dxidx = 1/dxdxi\n",
    "    \n",
    "    strain = sp.diff((sp.Matrix([q[i*2],q[i*2+2],q[i*2+1]])).dot(ReturnNMatrix()),xi)*dxidx\n",
    "    interalF = E*strain/AreaForElement(i)\n",
    "    U1 = sp.lambdify(xi,interalF)\n",
    "    S2 = sp.lambdify(xi,FApplied/AreaForElement(i))\n",
    "    Xi = np.linspace(-1,1,5)\n",
    "    if i ==0:\n",
    "        plt.plot(X1(Xi),U1(Xi),'b-',label=\"FEA\")\n",
    "        plt.plot([0,0.5],[FApplied,FApplied],'g-',label=\"Predicted\")\n",
    "    else:\n",
    "        plt.plot(X1(Xi),U1(Xi),'b-')\n",
    "        plt.plot([0,0.5],[FApplied,FApplied],'g-')\n",
    "plt.legend()\n",
    "plt.title('Internal force')\n",
    "plt.xlabel('x(m)')\n",
    "plt.ylabel('Force(N)')"
   ]
  },
  {
   "cell_type": "markdown",
   "metadata": {},
   "source": [
    "# Question 3 [40]\n",
    "\n",
    "## Consider a bar that is clamped at $x_1=0$ and loaded by a force $F=10 000$ N (in the positive x-direction) at the right edge $x_1=0.5$.\n",
    "## The area of the bar changes with $x_1$ and is given by $A(x_1) = 0.0001x_1 + 0.0001\\;m^2$.\n",
    "## The bar has a Young's modulus of $E=210$ GPa.\n",
    "### 1. Solve the weak form for the 1D bar problem using 10-100 quadratic finite elements. [20]\n",
    "\n",
    "### 2. Determine whether the approximated solution satisfies equilibrium. [5]\n",
    "### 3. Plot the displacement over the structure. [5]\n",
    "### 4. Plot the original and deformed structures. [5]\n",
    "### 5. Plot the approximated stress over the structure and compare it against the actual stress $\\sigma_{11}(\\mathbf{x}) = \\frac{F}{A(x_1)}$. [5]\n",
    "### 6. From the approximated stress field compute the internal force as a function of $x_1$ and compare it against the expected internal force. [5]"
   ]
  },
  {
   "cell_type": "code",
   "execution_count": 16,
   "metadata": {},
   "outputs": [
    {
     "name": "stdout",
     "output_type": "stream",
     "text": [
      "29\n",
      "DONE\n"
     ]
    }
   ],
   "source": [
    "E = 210E9  # Pa\n",
    "FApplied = 10000\n",
    "BarLenght = 0.5\n",
    "\n",
    "xi = sp.symbols('xi')\n",
    "\n",
    "NumElements = 30\n",
    "\n",
    "Tractions = None\n",
    "\n",
    "Elements = []\n",
    "NodeNumbers = []\n",
    "\n",
    "\n",
    "  \n",
    "\n",
    "#initializing the meshing    \n",
    "Meshing(NumElements, BarLenght)\n",
    "#Building of traction vector global\n",
    "Tractions = BuildTractionVector(FApplied,NumElements*2-1,Tractions)\n",
    "\n",
    "\n",
    "    \n",
    "StiffnessMatrix = AssembleStiffnessMatrix()\n",
    "#print('Elements positions:')\n",
    "#print(Elements)\n",
    "#print('Node numbers:')\n",
    "#print(NodeNumbers)\n",
    "#print('Traction vector')\n",
    "#print(Tractions)\n",
    "#print('Big Stiffness Matrix:')\n",
    "#display(StiffnessMatrix)\n",
    "\n",
    "StiffnessMatrixReduced = StiffnessMatrix[1:,1:]\n",
    "\n",
    "\n",
    "solution = StiffnessMatrixReduced.solve(Tractions[1:,0]-StiffnessMatrix[1:,0]*0)\n",
    "\n",
    "\n",
    "q =[0]\n",
    "for i in solution:\n",
    "    q.append(i)\n",
    "print('DONE')"
   ]
  },
  {
   "cell_type": "code",
   "execution_count": 17,
   "metadata": {},
   "outputs": [
    {
     "name": "stdout",
     "output_type": "stream",
     "text": [
      "equlibrium will still not be satisfied precisely because of the same reasons in Q1-2. However the solution becomes more and more accurate and the residual error will dimimish.\n"
     ]
    }
   ],
   "source": [
    "#Q3.2\n",
    "print('equlibrium will still not be satisfied precisely because of the same reasons in Q1-2. However the solution becomes more and more accurate and the residual error will dimimish.')"
   ]
  },
  {
   "cell_type": "code",
   "execution_count": 18,
   "metadata": {},
   "outputs": [
    {
     "data": {
      "text/plain": [
       "Text(0, 0.5, 'u(m)')"
      ]
     },
     "execution_count": 18,
     "metadata": {},
     "output_type": "execute_result"
    },
    {
     "data": {
      "image/png": "[encoded data removed]",
      "text/plain": [
       "<Figure size 432x288 with 1 Axes>"
      ]
     },
     "metadata": {
      "needs_background": "light"
     },
     "output_type": "display_data"
    }
   ],
   "source": [
    "#Q3.3\n",
    "for i in range(NumElements):\n",
    "    X1 = sp.lambdify(xi, ReturnXForElement(i))\n",
    "    U1 = sp.lambdify(xi,sp.transpose(sp.Matrix([q[i*2],q[i*2+2],q[i*2+1]])).dot(ReturnNMatrix()))\n",
    "    Xi = np.linspace(-1,1,21)\n",
    "    plt.plot(X1(Xi),U1(Xi),label=\"Element \" + str(i))\n",
    "    \n",
    "    \n",
    "plt.title('Displacement')\n",
    "plt.xlabel('x(m)')\n",
    "plt.ylabel('u(m)')"
   ]
  },
  {
   "cell_type": "code",
   "execution_count": 19,
   "metadata": {},
   "outputs": [
    {
     "data": {
      "text/plain": [
       "Text(0.5, 0, 'x(m)')"
      ]
     },
     "execution_count": 19,
     "metadata": {},
     "output_type": "execute_result"
    },
    {
     "data": {
      "image/png": "[encoded data removed]",
      "text/plain": [
       "<Figure size 432x288 with 1 Axes>"
      ]
     },
     "metadata": {
      "needs_background": "light"
     },
     "output_type": "display_data"
    }
   ],
   "source": [
    "#Q3.4\n",
    "for i in range(NumElements):\n",
    "    X1 = sp.lambdify(xi, ReturnXForElement(i))\n",
    "    U1 = sp.lambdify(xi,sp.transpose(sp.Matrix([q[i*2],q[i*2+2],q[i*2+1]])).dot(ReturnNMatrix()))\n",
    "    Xi = np.linspace(-1,1,1)\n",
    "    \n",
    "    plt.scatter(X1(Xi),U1(Xi)*0,color='b',label=\"Element \" + str(i))\n",
    "    Magnification = 50\n",
    "    plt.scatter(X1(Xi)+U1(Xi)*Magnification,U1(Xi)*0,color='g',label=\"Element \" + str(i))\n",
    "plt.title('Deformation')\n",
    "plt.xlabel('x(m)')"
   ]
  },
  {
   "cell_type": "code",
   "execution_count": 20,
   "metadata": {},
   "outputs": [
    {
     "data": {
      "text/plain": [
       "Text(0, 0.5, 'Sigma(Pa)')"
      ]
     },
     "execution_count": 20,
     "metadata": {},
     "output_type": "execute_result"
    },
    {
     "data": {
      "image/png": "[encoded data removed]",
      "text/plain": [
       "<Figure size 432x288 with 1 Axes>"
      ]
     },
     "metadata": {
      "needs_background": "light"
     },
     "output_type": "display_data"
    }
   ],
   "source": [
    "#Q3.5\n",
    "xa,ya,za = sp.symbols('x,y,z')\n",
    "for i in range(NumElements):\n",
    "    X1 = sp.lambdify(xi, ReturnXForElement(i))\n",
    "    \n",
    "    N = ReturnNMatrix()  ### may need to cahnge order\n",
    "    x = ReturnXForElement(i)\n",
    "    dxdxi = sp.derive_by_array(x,xi)\n",
    "    dxidx = 1/dxdxi\n",
    "    \n",
    "    strain = sp.diff((sp.Matrix([q[i*2],q[i*2+2],q[i*2+1]])).dot(ReturnNMatrix()),xi)*dxidx\n",
    "    stress = E*strain\n",
    "    U1 = sp.lambdify(xi,stress)\n",
    "    S2 = sp.lambdify(xi,FApplied/AreaForElement(i))\n",
    "    Xi = np.linspace(-1,1,5)\n",
    "    if i ==0:\n",
    "        plt.plot(X1(Xi),U1(Xi),'b-',label=\"FEA\")\n",
    "        plt.plot(X1(Xi),S2(Xi),'g-',label=\"Predicted\")\n",
    "    else:\n",
    "        plt.plot(X1(Xi),U1(Xi),'b-')\n",
    "        plt.plot(X1(Xi),S2(Xi),'g-')\n",
    "plt.legend()\n",
    "plt.title('Stress')\n",
    "plt.xlabel('x(m)')\n",
    "plt.ylabel('Sigma(Pa)')"
   ]
  },
  {
   "cell_type": "code",
   "execution_count": 21,
   "metadata": {},
   "outputs": [
    {
     "data": {
      "text/plain": [
       "Text(0, 0.5, 'Force(N)')"
      ]
     },
     "execution_count": 21,
     "metadata": {},
     "output_type": "execute_result"
    },
    {
     "data": {
      "image/png": "[encoded data removed]",
      "text/plain": [
       "<Figure size 432x288 with 1 Axes>"
      ]
     },
     "metadata": {
      "needs_background": "light"
     },
     "output_type": "display_data"
    }
   ],
   "source": [
    "#Q3.6\n",
    "xa,ya,za = sp.symbols('x,y,z')\n",
    "for i in range(NumElements):\n",
    "    X1 = sp.lambdify(xi, ReturnXForElement(i))\n",
    "    \n",
    "    N = ReturnNMatrix()  ### may need to cahnge order\n",
    "    x = ReturnXForElement(i)\n",
    "    dxdxi = sp.derive_by_array(x,xi)\n",
    "    dxidx = 1/dxdxi\n",
    "    \n",
    "    strain = sp.diff((sp.Matrix([q[i*2],q[i*2+2],q[i*2+1]])).dot(ReturnNMatrix()),xi)*dxidx\n",
    "    interalF = E*strain/AreaForElement(i)\n",
    "    U1 = sp.lambdify(xi,interalF)\n",
    "    S2 = sp.lambdify(xi,FApplied/AreaForElement(i))\n",
    "    Xi = np.linspace(-1,1,5)\n",
    "    if i ==0:\n",
    "        plt.plot(X1(Xi),U1(Xi),'b-',label=\"FEA\")\n",
    "        plt.plot([0,0.5],[FApplied,FApplied],'g-',label=\"Predicted\")\n",
    "    else:\n",
    "        plt.plot(X1(Xi),U1(Xi),'b-')\n",
    "        plt.plot([0,0.5],[FApplied,FApplied],'g-')\n",
    "plt.legend()\n",
    "plt.title('Internal force')\n",
    "plt.xlabel('x(m)')\n",
    "plt.ylabel('Force(N)')"
   ]
  },
  {
   "cell_type": "code",
   "execution_count": 23,
   "metadata": {},
   "outputs": [
    {
     "name": "stdout",
     "output_type": "stream",
     "text": [
      "Results are not nearly in the right order of magnitude for the forces and stresses. This is a problem and there is a bug somewere to be found. :)\n"
     ]
    }
   ],
   "source": [
    "print('Results are not nearly in the right order of magnitude for the forces and stresses. This is a problem and there is a bug somewere to be found. :)')"
   ]
  },
  {
   "cell_type": "code",
   "execution_count": null,
   "metadata": {},
   "outputs": [],
   "source": []
  }
 ],
 "metadata": {
  "anaconda-cloud": {},
  "kernelspec": {
   "display_name": "Python 3 (ipykernel)",
   "language": "python",
   "name": "python3"
  },
  "language_info": {
   "codemirror_mode": {
    "name": "ipython",
    "version": 3
   },
   "file_extension": ".py",
   "mimetype": "text/x-python",
   "name": "python",
   "nbconvert_exporter": "python",
   "pygments_lexer": "ipython3",
   "version": "3.9.6"
  }
 },
 "nbformat": 4,
 "nbformat_minor": 1
}
