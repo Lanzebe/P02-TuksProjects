{
 "cells": [
  {
   "cell_type": "code",
   "execution_count": 53,
   "metadata": {},
   "outputs": [],
   "source": [
    "import numpy as np\n",
    "import sympy as sp\n",
    "import matplotlib.pyplot as plt\n",
    "from IPython.display import display\n",
    "%matplotlib inline\n",
    "\n",
    "def plot2d(u,v,x0,x1,y0,y1,n=50):\n",
    "    uL = sp.lambdify([x,y],u,'numpy')\n",
    "    vL = sp.lambdify([x,y],v,'numpy')\n",
    "    X = np.linspace(x0,x1,n)\n",
    "    Y = np.linspace(y0,y1,n)\n",
    "\n",
    "    Xp,Yp = np.meshgrid(X,Y)\n",
    "\n",
    "    plt.figure()\n",
    "    plt.quiver(Xp,Yp,uL(Xp,Yp),vL(Xp,Yp))\n",
    "    plt.show()\n",
    "\n",
    "def plot3d(u,v,w,x0,x1,y0,y1,z0,z1,n=50):\n",
    "    uL = sp.lambdify([x,y,z],u,'numpy')\n",
    "    vL = sp.lambdify([x,y,z],v,'numpy')\n",
    "    wL = sp.lambdify([x,y,z],w,'numpy')\n",
    "    X = np.linspace(x0,x1,n)\n",
    "    Y = np.linspace(y0,y1,n)\n",
    "    Z = np.linspace(z0,z1,n)\n",
    "\n",
    "    Xp,Yp,Zp = np.meshgrid(X,Y,Z)\n",
    "\n",
    "    plt.figure().add_subplot(projection='3d')\n",
    "    scale = 50\n",
    "    plt.quiver(Xp,Yp,Zp,uL(Xp,Yp,Zp)*scale,vL(Xp,Yp,Zp)*scale,wL(Xp,Yp,Zp)*scale)\n",
    "    plt.show()\n",
    "\n",
    "def StrainMatrixFromDisplacement3d(u,v,w,x,y,z):\n",
    "    displacement_vector = [u,v,w] \n",
    "    spatial_coordinates = [x, y, z]\n",
    "    displacement_gradient = sp.derive_by_array(displacement_vector, spatial_coordinates)\n",
    "    return sp.simplify(0.5*(displacement_gradient.transpose() + displacement_gradient))\n",
    "\n",
    "def StressVectorFromStrain3d(StrainMatrix ,D = 1):\n",
    "    if D == 1:\n",
    "        D = E/((1 + nu)*(1 - 2*nu))*sp.Matrix([[1-nu,nu,nu,0,0,0],[nu,1-nu,nu,0,0,0],[nu,nu,1-nu,0,0,0],[0,0,0,0.5-nu,0,0],[0,0,0,0,0.5-nu,0],[0,0,0,0,0,0.5-nu]])\n",
    "    strain_vector = sp.Matrix([StrainMatrix[0,0],StrainMatrix[1,1],StrainMatrix[2,2],2*StrainMatrix[1,2],2*StrainMatrix[0,2],2*StrainMatrix[0,1]])\n",
    "    \n",
    "    return sp.simplify(D*strain_vector)\n",
    "\n",
    "def StrainMatrixFromDisplacement2d(u,v,x,y):\n",
    "    displacement_vector = [u,v] \n",
    "    spatial_coordinates = [x, y]\n",
    "    displacement_gradient = sp.derive_by_array(displacement_vector, spatial_coordinates)\n",
    "    return sp.simplify(0.5*(displacement_gradient.transpose() + displacement_gradient))\n",
    "\n",
    "def StressVectorFromStrain2d(StrainMatrix ,D = 1):\n",
    "    if D == 1:\n",
    "        D = E/((1 + nu)*(1 - 2*nu))*sp.Matrix([[1-nu,nu,0],[nu,1-nu,0],[0,0,0.5-nu]])\n",
    "    strain_vector = sp.Matrix([StrainMatrix[0,0],StrainMatrix[1,1],2*StrainMatrix[0,1]])\n",
    "    return sp.simplify(D*strain_vector)\n",
    "\n",
    "def EvaluateEqulibrium3d(StressVector,x ,y ,z , ExpectedXresidual = 0,ExpectedYresidual = 0,ExpectedZresidual = 0):\n",
    "    Eq1 = sp.derive_by_array(StressVector[0],x) + sp.derive_by_array(StressVector[5],y) + sp.derive_by_array(StressVector[4],z)-ExpectedXresidual\n",
    "    print('Equilibrium first equation: {}'.format(Eq1))\n",
    "\n",
    "    Eq2 = sp.derive_by_array(StressVector[5],x) + sp.derive_by_array(StressVector[1],y) + sp.derive_by_array(StressVector[3],z)-ExpectedYresidual\n",
    "    print('Equilibrium second equation: {}'.format(Eq2))\n",
    "\n",
    "    Eq3 = sp.derive_by_array(StressVector[4],x) + sp.derive_by_array(StressVector[3],y) + sp.derive_by_array(StressVector[2],z)-ExpectedZresidual\n",
    "    print('Equilibrium third equation: {}'.format(Eq3))\n"
   ]
  },
  {
   "cell_type": "code",
   "execution_count": 47,
   "metadata": {},
   "outputs": [
    {
     "data": {
      "image/png": "[encoded data removed]",
      "text/plain": [
       "<Figure size 432x288 with 1 Axes>"
      ]
     },
     "metadata": {
      "needs_background": "light"
     },
     "output_type": "display_data"
    },
    {
     "name": "stdout",
     "output_type": "stream",
     "text": [
      "Strain Matrix:\n"
     ]
    },
    {
     "data": {
      "text/latex": [
       "$\\displaystyle \\left[\\begin{matrix}\\frac{p \\left(1.0 c^{3} \\cos{\\left(\\theta \\right)} + \\left(- 0.3 c^{2} y + 0.25 \\nu \\left(2 c^{3} - 3 c^{2} y + y^{3}\\right) + 0.5 y^{3} + 0.75 y \\left(L^{2} - x^{2}\\right)\\right) \\sin{\\left(\\theta \\right)}\\right)}{E c^{3}} & \\frac{1.0 p x \\left(- 0.75 c^{2} \\nu - 0.75 c^{2} + 0.75 \\nu y^{2} + 0.75 y^{2}\\right) \\sin{\\left(\\theta \\right)}}{E c^{3}}\\\\\\frac{1.0 p x \\left(- 0.75 c^{2} \\nu - 0.75 c^{2} + 0.75 \\nu y^{2} + 0.75 y^{2}\\right) \\sin{\\left(\\theta \\right)}}{E c^{3}} & \\frac{p \\left(- 1.0 c^{3} \\nu \\cos{\\left(\\theta \\right)} + \\left(- 0.5 c^{3} + 0.75 c^{2} y - 0.05 \\nu y \\left(15 L^{2} - 6 c^{2} - 15 x^{2} + 10 y^{2}\\right) - 0.25 y^{3}\\right) \\sin{\\left(\\theta \\right)}\\right)}{E c^{3}}\\end{matrix}\\right]$"
      ],
      "text/plain": [
       "[[p*(1.0*c**3*cos(theta) + (-0.3*c**2*y + 0.25*nu*(2*c**3 - 3*c**2*y + y**3) + 0.5*y**3 + 0.75*y*(L**2 - x**2))*sin(theta))/(E*c**3), 1.0*p*x*(-0.75*c**2*nu - 0.75*c**2 + 0.75*nu*y**2 + 0.75*y**2)*sin(theta)/(E*c**3)], [1.0*p*x*(-0.75*c**2*nu - 0.75*c**2 + 0.75*nu*y**2 + 0.75*y**2)*sin(theta)/(E*c**3), p*(-1.0*c**3*nu*cos(theta) + (-0.5*c**3 + 0.75*c**2*y - 0.05*nu*y*(15*L**2 - 6*c**2 - 15*x**2 + 10*y**2) - 0.25*y**3)*sin(theta))/(E*c**3)]]"
      ]
     },
     "metadata": {},
     "output_type": "display_data"
    },
    {
     "name": "stdout",
     "output_type": "stream",
     "text": [
      "Stress Matrix:\n"
     ]
    },
    {
     "data": {
      "text/latex": [
       "$\\displaystyle \\left[\\begin{matrix}\\frac{p \\left(\\nu \\left(1.0 c^{3} \\nu \\cos{\\left(\\theta \\right)} + \\left(0.5 c^{3} - 0.75 c^{2} y + 0.05 \\nu y \\left(15 L^{2} - 6 c^{2} - 15 x^{2} + 10 y^{2}\\right) + 0.25 y^{3}\\right) \\sin{\\left(\\theta \\right)}\\right) + \\left(\\nu - 1\\right) \\left(1.0 c^{3} \\cos{\\left(\\theta \\right)} + \\left(- 0.3 c^{2} y + 0.25 \\nu \\left(2 c^{3} - 3 c^{2} y + y^{3}\\right) + 0.5 y^{3} + 0.75 y \\left(L^{2} - x^{2}\\right)\\right) \\sin{\\left(\\theta \\right)}\\right)\\right)}{c^{3} \\left(\\nu + 1\\right) \\left(2 \\nu - 1\\right)}\\\\\\frac{p \\left(- \\nu \\left(1.0 c^{3} \\cos{\\left(\\theta \\right)} + \\left(- 0.3 c^{2} y + 0.25 \\nu \\left(2 c^{3} - 3 c^{2} y + y^{3}\\right) + 0.5 y^{3} + 0.75 y \\left(L^{2} - x^{2}\\right)\\right) \\sin{\\left(\\theta \\right)}\\right) + \\left(1 - \\nu\\right) \\left(1.0 c^{3} \\nu \\cos{\\left(\\theta \\right)} + \\left(0.5 c^{3} - 0.75 c^{2} y + 0.05 \\nu y \\left(15 L^{2} - 6 c^{2} - 15 x^{2} + 10 y^{2}\\right) + 0.25 y^{3}\\right) \\sin{\\left(\\theta \\right)}\\right)\\right)}{c^{3} \\left(\\nu + 1\\right) \\left(2 \\nu - 1\\right)}\\\\\\frac{0.75 p x \\left(- c^{2} + y^{2}\\right) \\sin{\\left(\\theta \\right)}}{c^{3}}\\end{matrix}\\right]$"
      ],
      "text/plain": [
       "Matrix([\n",
       "[ p*(nu*(1.0*c**3*nu*cos(theta) + (0.5*c**3 - 0.75*c**2*y + 0.05*nu*y*(15*L**2 - 6*c**2 - 15*x**2 + 10*y**2) + 0.25*y**3)*sin(theta)) + (nu - 1)*(1.0*c**3*cos(theta) + (-0.3*c**2*y + 0.25*nu*(2*c**3 - 3*c**2*y + y**3) + 0.5*y**3 + 0.75*y*(L**2 - x**2))*sin(theta)))/(c**3*(nu + 1)*(2*nu - 1))],\n",
       "[p*(-nu*(1.0*c**3*cos(theta) + (-0.3*c**2*y + 0.25*nu*(2*c**3 - 3*c**2*y + y**3) + 0.5*y**3 + 0.75*y*(L**2 - x**2))*sin(theta)) + (1 - nu)*(1.0*c**3*nu*cos(theta) + (0.5*c**3 - 0.75*c**2*y + 0.05*nu*y*(15*L**2 - 6*c**2 - 15*x**2 + 10*y**2) + 0.25*y**3)*sin(theta)))/(c**3*(nu + 1)*(2*nu - 1))],\n",
       "[                                                                                                                                                                                                                                                            0.75*p*x*(-c**2 + y**2)*sin(theta)/c**3]])"
      ]
     },
     "metadata": {},
     "output_type": "display_data"
    }
   ],
   "source": [
    "#Testing plot2d\n",
    "x,y,E,nu,c,p,L,theta = sp.symbols('x,y,E,nu,c,p,L,theta')\n",
    "I = 1/12*1*(2*c)**3\n",
    "\n",
    "u = p*sp.sin(theta)/(2*E*I)*((L**2*x-x**3/3)*y \n",
    "                        + x*(2*y**3/3 - 2*c**2*y/5) \n",
    "                        + nu*x*(y**3/3 - c**2*y + 2*c**3/3)) + p*sp.cos(theta)/E*x; \n",
    "\n",
    "v = -p*sp.sin(theta)/(2*E*I)*(y**4/12 - c**2*y**2/2 + 2*c**3*y/3 \n",
    "                         + nu*((L**2 - x**2)*y**2/2 + y**4/6 - c**2*y**2/5) \n",
    "                         -x**4/12 \n",
    "                         +x**2*(L**2/2 + c**2*(4/5 + nu/2)))+5*p*sp.sin(theta)*L**4/(24*E*I)*(1 + 12*c**2/(5*L**2)*(4/5+nu/2))-nu*p*sp.cos(theta)/E*y; \n",
    "\n",
    "problem_setup = {E:210E5,I:5000,L:50,c:5,p:100,theta:0,nu:0.5}\n",
    "\n",
    "u_problem1 = u.subs(problem_setup)\n",
    "v_problem1 = v.subs(problem_setup)\n",
    "\n",
    "x0 = -problem_setup[L]\n",
    "x1 = problem_setup[L]\n",
    "y0 = -problem_setup[c]\n",
    "y1 = problem_setup[c]\n",
    "\n",
    "plot2d(u_problem1,v_problem1,x0,x1,y0,y1,n=10)\n",
    "\n",
    "StrainMatrix = StrainMatrixFromDisplacement2d(u,v,x,y)\n",
    "print('Strain Matrix:')\n",
    "display(StrainMatrix)\n",
    "\n",
    "StressMatrix = StressTensorFromStrain2d(StrainMatrix)\n",
    "print('Stress Matrix:')\n",
    "display(StressMatrix)"
   ]
  },
  {
   "cell_type": "code",
   "execution_count": 55,
   "metadata": {},
   "outputs": [
    {
     "name": "stdout",
     "output_type": "stream",
     "text": [
      "Strain Matrix:\n"
     ]
    },
    {
     "data": {
      "text/latex": [
       "$\\displaystyle \\left[\\begin{matrix}- \\frac{1.0 g \\nu \\rho z}{E} & 0 & 0\\\\0 & - \\frac{1.0 g \\nu \\rho z}{E} & 0\\\\0 & 0 & \\frac{1.0 g \\rho z}{E}\\end{matrix}\\right]$"
      ],
      "text/plain": [
       "[[-1.0*g*nu*rho*z/E, 0, 0], [0, -1.0*g*nu*rho*z/E, 0], [0, 0, 1.0*g*rho*z/E]]"
      ]
     },
     "metadata": {},
     "output_type": "display_data"
    },
    {
     "name": "stdout",
     "output_type": "stream",
     "text": [
      "Stress Matrix:\n"
     ]
    },
    {
     "data": {
      "text/latex": [
       "$\\displaystyle \\left[\\begin{matrix}0\\\\0\\\\1.0 g \\rho z\\\\0\\\\0\\\\0\\end{matrix}\\right]$"
      ],
      "text/plain": [
       "Matrix([\n",
       "[          0],\n",
       "[          0],\n",
       "[1.0*g*rho*z],\n",
       "[          0],\n",
       "[          0],\n",
       "[          0]])"
      ]
     },
     "metadata": {},
     "output_type": "display_data"
    },
    {
     "name": "stdout",
     "output_type": "stream",
     "text": [
      "Equilibrium first equation: 0\n",
      "Equilibrium second equation: 0\n",
      "Equilibrium third equation: 1.0*g*rho\n"
     ]
    }
   ],
   "source": [
    "#Testing StrainMatrixFromDisplacement\n",
    "rho, g, nu, E, W, B, H, x, y, z = sp.symbols('rho, g, nu, E, W, B, H, x, y, z')\n",
    "\n",
    "u = -nu*rho*g*x*z/E\n",
    "v = -nu*rho*g*y*z/E\n",
    "w = rho*g*z**2/(2*E) + nu*rho*g*(x**2+y**2)/(2*E) - rho*g*H**2/(2*E)\n",
    "\n",
    "D = E/((1 + nu)*(1 - 2*nu))*sp.Matrix([[1-nu,nu,nu,0,0,0],[nu,1-nu,nu,0,0,0],[nu,nu,1-nu,0,0,0],[0,0,0,0.5-nu,0,0],[0,0,0,0,0.5-nu,0],[0,0,0,0,0,0.5-nu]])\n",
    "\n",
    "StrainMatrix = StrainMatrixFromDisplacement3d(u,v,w,x,y,z)\n",
    "print('Strain Matrix:')\n",
    "display(StrainMatrix)\n",
    "\n",
    "StressVector = StressVectorFromStrain3d(StrainMatrix,D = D)\n",
    "print('Stress Matrix:')\n",
    "display(StressMatrix)\n",
    "\n",
    "problemspec = {rho: 7600, g: 9.81, nu: 0.3, E: 210E9, W: 0.1, B: 0.1, H: 100}\n",
    "\n",
    "uProb = u.subs(problemspec)\n",
    "vProb = v.subs(problemspec)\n",
    "wProb = w.subs(problemspec)\n",
    "\n",
    "x0 = problemspec[B]\n",
    "x1 = -problemspec[B]\n",
    "y0 = problemspec[W]\n",
    "y1 = -problemspec[W]\n",
    "z0 = 0\n",
    "z1 = problemspec[H]\n",
    "\n",
    "\n",
    "#plot3d(uProb,vProb,wProb,x0,x1,y0,y1,z0,z1,n=20)\n",
    "\n",
    "EvaluateEqulibrium3d(StressVector), ExpectedZresidual = rho*g)\n",
    "\n"
   ]
  }
 ],
 "metadata": {
  "interpreter": {
   "hash": "ea07bc7c69f284143adbb50fb0b81a1c36915c55eb78cf2cb7c7a861417ef5c6"
  },
  "kernelspec": {
   "display_name": "Python 3 (ipykernel)",
   "language": "python",
   "name": "python3"
  },
  "language_info": {
   "codemirror_mode": {
    "name": "ipython",
    "version": 3
   },
   "file_extension": ".py",
   "mimetype": "text/x-python",
   "name": "python",
   "nbconvert_exporter": "python",
   "pygments_lexer": "ipython3",
   "version": "3.9.6"
  }
 },
 "nbformat": 4,
 "nbformat_minor": 2
}
