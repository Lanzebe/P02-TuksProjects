{
 "cells": [
  {
   "cell_type": "markdown",
   "metadata": {},
   "source": [
    "# Question 1 [40]\n",
    "## Consider a bar that is clamped at $x=0$ and loaded by a force $F=1000$ N (in the positive x-direction) at the right edge $x=1.0$.\n",
    "## The area of the bar s constant with $x$ and is given by $A(x) = 0.0002\\;m^2$.\n",
    "## The bar has a Young's modulus of $E=210$ GPa.\n",
    "### 1. Solve the weak form for the 1D bar problem using one quadratic finite element to approximate displacement along the axial direction. [20]\n",
    "### 2. Determine whether the approximated solution satisfies equilibrium. [5]\n",
    "### 3. Plot the displacement over the structure. [5]\n",
    "### 4. Plot the original and deformed structures. [5]\n",
    "### 5. Plot the approximated stress over the structure. Compare it against the expected stress $\\sigma_{xx}(\\mathbf{x}) = \\frac{F}{A(x)}$ from linear elastic theory and expected stress for the approximation. [5]\n",
    "### 6. From the approximated stress field compute the internal force as a function of $x$ and compare it against the internal force from linear elastic theory and expected internal force  for the approximation. [5]"
   ]
  },
  {
   "cell_type": "code",
   "execution_count": 1,
   "metadata": {},
   "outputs": [
    {
     "name": "stdout",
     "output_type": "stream",
     "text": [
      "A: 0.000200000000000000\n",
      "dxdxi 0.500000000000000\n",
      "B [2.0*xi - 1.0, 2.0*xi + 1.0, -4.0*xi]\n",
      "BT*E*B whichs is a 3x1 vector times a 1x3 vector Matrix([[(2.0*xi - 1.0)*(420000000000.0*xi - 210000000000.0), (2.0*xi + 1.0)*(420000000000.0*xi - 210000000000.0), -4.0*xi*(420000000000.0*xi - 210000000000.0)], [(2.0*xi - 1.0)*(420000000000.0*xi + 210000000000.0), (2.0*xi + 1.0)*(420000000000.0*xi + 210000000000.0), -4.0*xi*(420000000000.0*xi + 210000000000.0)], [-840000000000.0*xi*(2.0*xi - 1.0), -840000000000.0*xi*(2.0*xi + 1.0), 3360000000000.0*xi**2]])\n",
      "Traction Vector Matrix([[0], [1000.00000000000], [0]])\n",
      "Solution for q2 and q3 is Matrix([[2.38095238095238e-5], [1.19047619047619e-5]])\n",
      "Nodal displacements are Matrix([[0], [2.38095238095238e-5], [1.19047619047619e-5]])\n"
     ]
    }
   ],
   "source": [
    "import numpy as np\n",
    "import sympy as sp\n",
    "xi = sp.symbols('xi')\n",
    "\n",
    "# Define the shape functions\n",
    "N1 = -1/2*xi*(1-xi)\n",
    "N2 = 1/2*xi*(1+xi)\n",
    "N3 = (1-xi)*(1+xi)\n",
    "\n",
    "# Isoparametric formulation - relate x and xi\n",
    "x1 = 0;x2 = 1.0;x3 = 0.5\n",
    "x = N1*x1 + N2*x2 + N3*x3\n",
    "\n",
    "# Define the area in terms of x, which in turn is related to xi - here A(xi) since x(xi).\n",
    "A = 0.0002 + 0.0001*x*0 # Multipy symbolic variable x by zero just to ensure A is a symbolic expression of a constant\n",
    "print('A: {}'.format(A.simplify()))\n",
    "\n",
    "E = 210E9\n",
    "L = 1.0\n",
    "Fapplied = 1000\n",
    "\n",
    "# Compute non-zero surface traction\n",
    "t = Fapplied/A.subs({xi:1})\n",
    "\n",
    "# Setup a list of the shape functions N1, N2 and N3\n",
    "N = [N1,N2,N3]\n",
    "\n",
    "# Stiffness matrix\n",
    "dxdxi = sp.derive_by_array(x,xi); print('dxdxi {}'.format(dxdxi))\n",
    "dxidx = 1/dxdxi\n",
    "\n",
    "B = dxidx*sp.derive_by_array(N,xi); print('B {}'.format(B))\n",
    "Bmat = sp.Matrix(B).transpose() # sp.Matrix converts a 3 vector (3) into a column vector (3x1) by default!s\n",
    "BTEB = Bmat.transpose()*E*Bmat; print('BT*E*B whichs is a 3x1 vector times a 1x3 vector {}'.format(BTEB))\n",
    "\n",
    "integrandStiffnessMatrix = BTEB*A*dxdxi\n",
    "# 2-point Gauss Quadrature Integration\n",
    "StiffnessMatrix = 1.0*integrandStiffnessMatrix.subs({xi:-1/3**0.5}) + 1.0*integrandStiffnessMatrix.subs({xi:1/3**0.5})\n",
    "\n",
    "# Traction vector that results in force is given by\n",
    "F = t*sp.Matrix(N).subs({xi:1})*A.subs({xi:1}); print('Traction Vector {}'.format(F))\n",
    "\n",
    "#The first row is multiplied by W1=0, hence only row 2&3 remains, we move the first column to the traction side \n",
    "StiffnessMatrixReduced = StiffnessMatrix[1:,1:]\n",
    "#Matrix has a built-in method solve, we need to only specify the Right-Hand-Side of the Linear System to Solve\n",
    "solution = StiffnessMatrixReduced.solve(F[1:,0]-StiffnessMatrix[1:,0]*0); print('Solution for q2 and q3 is {}'.format(solution))\n",
    "\n",
    "# Here we override \n",
    "q1 = 0 # prescribed displacement\n",
    "q2 = solution[0,0] #solution from 2x2 Matrix system which is a 2x1 vector\n",
    "q3 = solution[1,0] #solution from 2x2 Matrix system which is a 2x1 vector\n",
    "q = sp.Matrix([q1,q2,q3])\n",
    "\n",
    "print('Nodal displacements are {}'.format(q))"
   ]
  },
  {
   "cell_type": "code",
   "execution_count": 2,
   "metadata": {},
   "outputs": [
    {
     "name": "stdout",
     "output_type": "stream",
     "text": [
      "Q1.2\n",
      "Strain Matrix:\n"
     ]
    },
    {
     "data": {
      "text/latex": [
       "$\\displaystyle \\left[\\begin{matrix}1.35525271560688 \\cdot 10^{-20} x + 2.38095238095238 \\cdot 10^{-5} & 0 & 0\\\\0 & 0 & 0\\\\0 & 0 & 0\\end{matrix}\\right]$"
      ],
      "text/plain": [
       "[[1.35525271560688e-20*x + 2.38095238095238e-5, 0, 0], [0, 0, 0], [0, 0, 0]]"
      ]
     },
     "metadata": {},
     "output_type": "display_data"
    },
    {
     "name": "stdout",
     "output_type": "stream",
     "text": [
      "Stress Vector:\n"
     ]
    },
    {
     "data": {
      "text/latex": [
       "$\\displaystyle \\left[\\begin{matrix}2.84603070277445 \\cdot 10^{-9} x + 5000000.0\\\\0\\\\0\\\\0\\\\0\\\\0\\end{matrix}\\right]$"
      ],
      "text/plain": [
       "Matrix([\n",
       "[2.84603070277445e-9*x + 5000000.0],\n",
       "[                                0],\n",
       "[                                0],\n",
       "[                                0],\n",
       "[                                0],\n",
       "[                                0]])"
      ]
     },
     "metadata": {},
     "output_type": "display_data"
    },
    {
     "name": "stdout",
     "output_type": "stream",
     "text": [
      "Equilibrium first equation: 2.84603070277445E-9\n",
      "Equilibrium second equation: 0\n",
      "Equilibrium third equation: 0\n",
      "As all 3 equilibrium equations for a stress element are practicaly satisfied, the problem is in equilibrium.\n"
     ]
    }
   ],
   "source": [
    "print('Q1.2')\n",
    "\n",
    "\n",
    "###Functions required for detirmining equlibrium\n",
    "def StrainMatrixFromDisplacement3d(u,v,w,x,y,z):\n",
    "    displacement_vector = [u,v,w] \n",
    "    spatial_coordinates = [x, y, z]\n",
    "    displacement_gradient = sp.derive_by_array(displacement_vector, spatial_coordinates)\n",
    "    return sp.simplify(0.5*(displacement_gradient.transpose() + displacement_gradient))\n",
    "\n",
    "def StressVectorFromStrain3d(StrainMatrix ,D = 1):\n",
    "    #D=1 is the default value of the matrix D\n",
    "    if D == 1:\n",
    "        D = E/((1 + nu)*(1 - 2*nu))*sp.Matrix([[1-nu,nu,nu,0,0,0],[nu,1-nu,nu,0,0,0],[nu,nu,1-nu,0,0,0],[0,0,0,0.5-nu,0,0],[0,0,0,0,0.5-nu,0],[0,0,0,0,0,0.5-nu]])\n",
    "    strain_vector = sp.Matrix([StrainMatrix[0,0],StrainMatrix[1,1],StrainMatrix[2,2],2*StrainMatrix[1,2],2*StrainMatrix[0,2],2*StrainMatrix[0,1]])\n",
    "    \n",
    "    return sp.simplify(D*strain_vector)\n",
    "\n",
    "def EvaluateEqulibrium3d(StressVector,x ,y ,z , ExpectedXresidual = 0,ExpectedYresidual = 0,ExpectedZresidual = 0):\n",
    "    Eq1 = sp.derive_by_array(StressVector[0],x) + sp.derive_by_array(StressVector[5],y) + sp.derive_by_array(StressVector[4],z)-ExpectedXresidual\n",
    "    print('Equilibrium first equation: {}'.format(Eq1))\n",
    "\n",
    "    Eq2 = sp.derive_by_array(StressVector[5],x) + sp.derive_by_array(StressVector[1],y) + sp.derive_by_array(StressVector[3],z)-ExpectedYresidual\n",
    "    print('Equilibrium second equation: {}'.format(Eq2))\n",
    "\n",
    "    Eq3 = sp.derive_by_array(StressVector[4],x) + sp.derive_by_array(StressVector[3],y) + sp.derive_by_array(StressVector[2],z)-ExpectedZresidual\n",
    "    print('Equilibrium third equation: {}'.format(Eq3))\n",
    "    \n",
    "xa,ya,za = sp.symbols('x,y,z')\n",
    "\n",
    "###material properties\n",
    "nu = 0  #### 1d simplifications\n",
    "\n",
    "def XtoXi(xa):\n",
    "    return -1 + 2*xa\n",
    "\n",
    "u = sp.simplify((N1*q1 + N2*q2 +  N3*q3).subs({'xi':XtoXi(xa)}))\n",
    "v = 0\n",
    "w = 0\n",
    "\n",
    "StrainMatrix = StrainMatrixFromDisplacement3d(u,v,w,xa,ya,za)\n",
    "print('Strain Matrix:')\n",
    "display(StrainMatrix)\n",
    "#sp.plotting.plot(u,(xa,0,1),title='u(x)')\n",
    "\n",
    "StressVector = StressVectorFromStrain3d(StrainMatrix)\n",
    "print('Stress Vector:')\n",
    "display(StressVector)\n",
    "\n",
    "EvaluateEqulibrium3d(StressVector,xa,ya,za, ExpectedXresidual = 0,ExpectedYresidual = 0,ExpectedZresidual = 0)\n",
    "print('As all 3 equilibrium equations for a stress element are practicaly satisfied, the problem is in equilibrium.')"
   ]
  },
  {
   "cell_type": "code",
   "execution_count": 3,
   "metadata": {},
   "outputs": [
    {
     "name": "stdout",
     "output_type": "stream",
     "text": [
      "Q1.3\n",
      "Displacement over the whole lenght L: u(x):\n"
     ]
    },
    {
     "data": {
      "image/png": "[encoded data removed]",
      "text/plain": [
       "<Figure size 432x288 with 1 Axes>"
      ]
     },
     "metadata": {
      "needs_background": "light"
     },
     "output_type": "display_data"
    },
    {
     "name": "stdout",
     "output_type": "stream",
     "text": [
      "Displacement should be linear starting from x=0 : u=0.The plot satisfies the boundary conditions\n"
     ]
    }
   ],
   "source": [
    "print('Q1.3')\n",
    "print('Displacement over the whole lenght L: u(x):')\n",
    "sp.plotting.plot(u,(xa,0,1),title='u(x)')\n",
    "print('Displacement should be linear starting from x=0 : u=0.The plot satisfies the boundary conditions')\n"
   ]
  },
  {
   "cell_type": "code",
   "execution_count": 4,
   "metadata": {},
   "outputs": [
    {
     "name": "stdout",
     "output_type": "stream",
     "text": [
      "Q1.4\n",
      "Assume a square bar: with dimentions that give A=0.0002m^2\n",
      "Note magnification is at 5000X:\n",
      "The black dots reperesent the undeformed structure\n",
      "The blue dots reperesent the deformed structure at 5000X magnification\n"
     ]
    },
    {
     "data": {
      "image/png": "[encoded data removed]",
      "text/plain": [
       "<Figure size 432x288 with 1 Axes>"
      ]
     },
     "metadata": {
      "needs_background": "light"
     },
     "output_type": "display_data"
    }
   ],
   "source": [
    "print('Q1.4')\n",
    "print('Assume a square bar: with dimentions that give A=0.0002m^2')\n",
    "import matplotlib.pyplot as plt\n",
    "from mpl_toolkits import mplot3d\n",
    "\n",
    "g = (0.0002*0.5)/2\n",
    "\n",
    "\n",
    "i = np.linspace(0,1,5)\n",
    "j = np.linspace(-g,g,1)\n",
    "k = np.linspace(-g,g,1)\n",
    "\n",
    "I,J,K = np.meshgrid(i,j,k)\n",
    "\n",
    "\n",
    "\n",
    "def displacementPoints(I):\n",
    "    a = []\n",
    "    for i in I:\n",
    "        a.append(u.subs({'x':i[0]}))\n",
    "    return a\n",
    "\n",
    "\n",
    "Ip = displacementPoints(I)\n",
    "\n",
    "\n",
    "fig = plt.figure()\n",
    "ax = plt.axes(projection='3d')\n",
    "\n",
    "\n",
    "for idx,i in enumerate(I):\n",
    "    for jdx,j in enumerate(i):\n",
    "        for kdx,k in enumerate(j):\n",
    "            ax.scatter(I[idx,jdx,kdx], J[idx,jdx,kdx], K[idx,jdx,kdx], color='black')\n",
    "\n",
    "for idx,i in enumerate(I):\n",
    "    for jdx,j in enumerate(i):\n",
    "        for kdx,k in enumerate(j):\n",
    "            ax.scatter(I[idx,jdx,kdx] + 5000*u.subs({'x':I[idx,jdx,kdx]}), J[idx,jdx,kdx], K[idx,jdx,kdx], color='blue')\n",
    "\n",
    "print('Note magnification is at 5000X:')\n",
    "print('The black dots reperesent the undeformed structure')\n",
    "print('The blue dots reperesent the deformed structure at 5000X magnification')\n",
    "            \n",
    "ax.set_xlabel('X - Lenght of bar')\n",
    "ax.set_ylabel('Y Label')\n",
    "ax.set_zlabel('Z Label')\n",
    "\n",
    "plt.show()"
   ]
  },
  {
   "cell_type": "code",
   "execution_count": 5,
   "metadata": {},
   "outputs": [
    {
     "name": "stdout",
     "output_type": "stream",
     "text": [
      "Q1.5\n",
      "Stress over the whole lenght L: sigma_xx(x):\n"
     ]
    },
    {
     "data": {
      "text/latex": [
       "$\\displaystyle 2.84603070277445 \\cdot 10^{-9} x + 5000000.0$"
      ],
      "text/plain": [
       "2.84603070277445e-9*x + 5000000.0"
      ]
     },
     "metadata": {},
     "output_type": "display_data"
    },
    {
     "data": {
      "image/png": "[encoded data removed]",
      "text/plain": [
       "<Figure size 432x288 with 1 Axes>"
      ]
     },
     "metadata": {
      "needs_background": "light"
     },
     "output_type": "display_data"
    },
    {
     "name": "stdout",
     "output_type": "stream",
     "text": [
      "Stress should be constant thourghout the bar.\n",
      "Blue line(Calculated FEM stress) is actualy underneath orange line(F/A(x))\n",
      "The 2 stresses is almost exactly the same.\n"
     ]
    }
   ],
   "source": [
    "print('Q1.5')\n",
    "print('Stress over the whole lenght L: sigma_xx(x):')\n",
    "\n",
    "display(StressVector[0])\n",
    "\n",
    "def StressAtPoint(xn):\n",
    "    a = []\n",
    "    for i in xn:\n",
    "        a.append((StressVector[0].subs({'x':i})))\n",
    "    return a\n",
    "\n",
    "def TraditionalStress(xn):\n",
    "    a = []\n",
    "    for i in xn:\n",
    "        a.append(1000/(A.subs({'xi':XtoXi(i)})))\n",
    "    return a\n",
    "\n",
    "xn = np.linspace(0,1,100)\n",
    "\n",
    "\n",
    "\n",
    "\n",
    "plt.plot(xn,StressAtPoint(xn))\n",
    "plt.plot(xn,TraditionalStress(xn))\n",
    "plt.title('Internal FEA stress compaired to predicted internal stress.')\n",
    "plt.show()\n",
    "print('Stress should be constant thourghout the bar.')\n",
    "print('Blue line(Calculated FEM stress) is actualy underneath orange line(F/A(x))')\n",
    "print('The 2 stresses is almost exactly the same.')"
   ]
  },
  {
   "cell_type": "code",
   "execution_count": 6,
   "metadata": {},
   "outputs": [
    {
     "name": "stdout",
     "output_type": "stream",
     "text": [
      "Q1.6\n"
     ]
    },
    {
     "data": {
      "image/png": "[encoded data removed]",
      "text/plain": [
       "<Figure size 432x288 with 1 Axes>"
      ]
     },
     "metadata": {
      "needs_background": "light"
     },
     "output_type": "display_data"
    },
    {
     "name": "stdout",
     "output_type": "stream",
     "text": [
      "From the graph, the internal force is exactly satified at f=1000N\n"
     ]
    }
   ],
   "source": [
    "print('Q1.6')\n",
    "\n",
    "def AreaAtX(xn):\n",
    "    a = []\n",
    "    for i in xn:\n",
    "        a.append((A.subs({'xi':XtoXi(i)})))\n",
    "    return a\n",
    "\n",
    "plt.plot(xn,np.multiply(StressAtPoint(xn),AreaAtX(xn)))\n",
    "plt.title('Internal Force')\n",
    "plt.show()\n",
    "print('From the graph, the internal force is exactly satified at f=1000N')"
   ]
  },
  {
   "cell_type": "markdown",
   "metadata": {
    "collapsed": true
   },
   "source": [
    "# Question 2 [40]\n",
    "## Consider a bar that is clamped at $x=0$ and loaded by a force $F=1000$ N (in the positive x-direction) at the right edge $x=1.0$.\n",
    "## The area of the bar changes with $x$ and is given by $A(x) = 0.0001x + 0.0001\\;m^2$.\n",
    "## The bar has a Young's modulus of $E=210$ GPa.\n",
    "### 1. Solve the weak form for the 1D bar problem using one quadratic finite element to approximate displacement along the axial direction. [20]\n",
    "### 2. Determine whether the approximated solution satisfies equilibrium. [5]\n",
    "### 3. Plot the displacement over the structure. [5]\n",
    "### 4. Plot the original and deformed structures. [5]\n",
    "### 5. Plot the approximated stress over the structure and compare it against the expected stress $\\sigma_{xx}(\\mathbf{x}) = \\frac{F}{A(x)}$. [5]\n",
    "### 6. From the approximated stress field compute the internal force as a function of $x$ and compare it against the expected internal force. [5]"
   ]
  },
  {
   "cell_type": "code",
   "execution_count": 7,
   "metadata": {},
   "outputs": [
    {
     "name": "stdout",
     "output_type": "stream",
     "text": [
      "Q2.1\n",
      "A: 5.0e-5*xi + 0.00015\n",
      "dxdxi 0.500000000000000\n",
      "B [2.0*xi - 1.0, 2.0*xi + 1.0, -4.0*xi]\n",
      "BT*E*B whichs is a 3x1 vector times a 1x3 vector Matrix([[(2.0*xi - 1.0)*(420000000000.0*xi - 210000000000.0), (2.0*xi + 1.0)*(420000000000.0*xi - 210000000000.0), -4.0*xi*(420000000000.0*xi - 210000000000.0)], [(2.0*xi - 1.0)*(420000000000.0*xi + 210000000000.0), (2.0*xi + 1.0)*(420000000000.0*xi + 210000000000.0), -4.0*xi*(420000000000.0*xi + 210000000000.0)], [-840000000000.0*xi*(2.0*xi - 1.0), -840000000000.0*xi*(2.0*xi + 1.0), 3360000000000.0*xi**2]])\n",
      "Traction Vector Matrix([[0], [1000.00000000000], [0]])\n",
      "Solution for q2 and q3 is Matrix([[3.29670329670330e-5], [1.92307692307692e-5]])\n",
      "Nodal displacements are Matrix([[0], [3.29670329670330e-5], [1.92307692307692e-5]])\n"
     ]
    }
   ],
   "source": [
    "print('Q2.1')\n",
    "import numpy as np\n",
    "import sympy as sp\n",
    "xi = sp.symbols('xi')\n",
    "\n",
    "# Define the shape functions\n",
    "N1 = -1/2*xi*(1-xi)\n",
    "N2 = 1/2*xi*(1+xi)\n",
    "N3 = (1-xi)*(1+xi)\n",
    "\n",
    "# Isoparametric formulation - relate x and xi\n",
    "x1 = 0;x2 = 1.0;x3 = 0.5\n",
    "x = N1*x1 + N2*x2 + N3*x3\n",
    "\n",
    "# Define the area in terms of x, which in turn is related to xi - here A(xi) since x(xi).\n",
    "A = 0.0001 + 0.0001*x\n",
    "print('A: {}'.format(A.simplify()))\n",
    "\n",
    "E = 210E9\n",
    "L = 1.0\n",
    "Fapplied = 1000\n",
    "\n",
    "# Compute non-zero surface traction\n",
    "t = Fapplied/A.subs({xi:1})\n",
    "\n",
    "# Setup a list of the shape functions N1, N2 and N3\n",
    "N = [N1,N2,N3]\n",
    "\n",
    "# Stiffness matrix\n",
    "dxdxi = sp.derive_by_array(x,xi); print('dxdxi {}'.format(dxdxi))\n",
    "dxidx = 1/dxdxi\n",
    "\n",
    "B = dxidx*sp.derive_by_array(N,xi); print('B {}'.format(B))\n",
    "Bmat = sp.Matrix(B).transpose() # sp.Matrix converts a 3 vector (3) into a column vector (3x1) by default!s\n",
    "BTEB = Bmat.transpose()*E*Bmat; print('BT*E*B whichs is a 3x1 vector times a 1x3 vector {}'.format(BTEB))\n",
    "\n",
    "integrandStiffnessMatrix = BTEB*A*dxdxi\n",
    "# 2-point Gauss Quadrature Integration\n",
    "StiffnessMatrix = 1.0*integrandStiffnessMatrix.subs({xi:-1/3**0.5}) + 1.0*integrandStiffnessMatrix.subs({xi:1/3**0.5})\n",
    "\n",
    "# Traction vector that results in force is given by\n",
    "F = t*sp.Matrix(N).subs({xi:1})*A.subs({xi:1}); print('Traction Vector {}'.format(F))\n",
    "\n",
    "#The first row is multiplied by W1=0, hence only row 2&3 remains, we move the first column to the traction side \n",
    "StiffnessMatrixReduced = StiffnessMatrix[1:,1:]\n",
    "#Matrix has a built-in method solve, we need to only specify the Right-Hand-Side of the Linear System to Solve\n",
    "solution = StiffnessMatrixReduced.solve(F[1:,0]-StiffnessMatrix[1:,0]*0); print('Solution for q2 and q3 is {}'.format(solution))\n",
    "\n",
    "# Here we override \n",
    "q1 = 0 # prescribed displacement\n",
    "q2 = solution[0,0] #solution from 2x2 Matrix system which is a 2x1 vector\n",
    "q3 = solution[1,0] #solution from 2x2 Matrix system which is a 2x1 vector\n",
    "q = sp.Matrix([q1,q2,q3])\n",
    "\n",
    "print('Nodal displacements are {}'.format(q))"
   ]
  },
  {
   "cell_type": "code",
   "execution_count": 8,
   "metadata": {},
   "outputs": [
    {
     "name": "stdout",
     "output_type": "stream",
     "text": [
      "Q2.2\n",
      "Strain Matrix:\n"
     ]
    },
    {
     "data": {
      "text/latex": [
       "$\\displaystyle \\left[\\begin{matrix}4.39560439560439 \\cdot 10^{-5} - 2.19780219780219 \\cdot 10^{-5} x & 0 & 0\\\\0 & 0 & 0\\\\0 & 0 & 0\\end{matrix}\\right]$"
      ],
      "text/plain": [
       "[[4.39560439560439e-5 - 2.19780219780219e-5*x, 0, 0], [0, 0, 0], [0, 0, 0]]"
      ]
     },
     "metadata": {},
     "output_type": "display_data"
    },
    {
     "name": "stdout",
     "output_type": "stream",
     "text": [
      "Stress Vector:\n"
     ]
    },
    {
     "data": {
      "text/latex": [
       "$\\displaystyle \\left[\\begin{matrix}9230769.23076922 - 4615384.61538461 x\\\\0\\\\0\\\\0\\\\0\\\\0\\end{matrix}\\right]$"
      ],
      "text/plain": [
       "Matrix([\n",
       "[9230769.23076922 - 4615384.61538461*x],\n",
       "[                                    0],\n",
       "[                                    0],\n",
       "[                                    0],\n",
       "[                                    0],\n",
       "[                                    0]])"
      ]
     },
     "metadata": {},
     "output_type": "display_data"
    },
    {
     "name": "stdout",
     "output_type": "stream",
     "text": [
      "Equilibrium first equation: -4615384.61538461\n",
      "Equilibrium second equation: 0\n",
      "Equilibrium third equation: 0\n",
      "Equilibrium of the stress elemet is not satisfied. There is a residual that is a result of the approximation of the stress field.\n"
     ]
    }
   ],
   "source": [
    "print('Q2.2')\n",
    "\n",
    "\n",
    "###Functions required for detirmining equlibrium\n",
    "def StrainMatrixFromDisplacement3d(u,v,w,x,y,z):\n",
    "    displacement_vector = [u,v,w] \n",
    "    spatial_coordinates = [x, y, z]\n",
    "    displacement_gradient = sp.derive_by_array(displacement_vector, spatial_coordinates)\n",
    "    return sp.simplify(0.5*(displacement_gradient.transpose() + displacement_gradient))\n",
    "\n",
    "def StressVectorFromStrain3d(StrainMatrix ,D = 1):\n",
    "    #D=1 is the default value of the matrix D\n",
    "    if D == 1:\n",
    "        D = E/((1 + nu)*(1 - 2*nu))*sp.Matrix([[1-nu,nu,nu,0,0,0],[nu,1-nu,nu,0,0,0],[nu,nu,1-nu,0,0,0],[0,0,0,0.5-nu,0,0],[0,0,0,0,0.5-nu,0],[0,0,0,0,0,0.5-nu]])\n",
    "    strain_vector = sp.Matrix([StrainMatrix[0,0],StrainMatrix[1,1],StrainMatrix[2,2],2*StrainMatrix[1,2],2*StrainMatrix[0,2],2*StrainMatrix[0,1]])\n",
    "    \n",
    "    return sp.simplify(D*strain_vector)\n",
    "\n",
    "def EvaluateEqulibrium3d(StressVector,x ,y ,z , ExpectedXresidual = 0,ExpectedYresidual = 0,ExpectedZresidual = 0):\n",
    "    Eq1 = sp.derive_by_array(StressVector[0],x) + sp.derive_by_array(StressVector[5],y) + sp.derive_by_array(StressVector[4],z)-ExpectedXresidual\n",
    "    print('Equilibrium first equation: {}'.format(Eq1))\n",
    "\n",
    "    Eq2 = sp.derive_by_array(StressVector[5],x) + sp.derive_by_array(StressVector[1],y) + sp.derive_by_array(StressVector[3],z)-ExpectedYresidual\n",
    "    print('Equilibrium second equation: {}'.format(Eq2))\n",
    "\n",
    "    Eq3 = sp.derive_by_array(StressVector[4],x) + sp.derive_by_array(StressVector[3],y) + sp.derive_by_array(StressVector[2],z)-ExpectedZresidual\n",
    "    print('Equilibrium third equation: {}'.format(Eq3))\n",
    "    \n",
    "xa,ya,za = sp.symbols('x,y,z')\n",
    "\n",
    "###material properties\n",
    "nu = 0  #### 1d simplifications\n",
    "\n",
    "def XtoXi(xa):\n",
    "    return -1 + 2*xa\n",
    "\n",
    "u = sp.simplify((N1*q1 + N2*q2 +  N3*q3).subs({'xi':XtoXi(xa)}))\n",
    "v = 0\n",
    "w = 0\n",
    "\n",
    "StrainMatrix = StrainMatrixFromDisplacement3d(u,v,w,xa,ya,za)\n",
    "print('Strain Matrix:')\n",
    "display(StrainMatrix)\n",
    "#sp.plotting.plot(u,(xa,0,1),title='u(x)')\n",
    "\n",
    "StressVector = StressVectorFromStrain3d(StrainMatrix)\n",
    "print('Stress Vector:')\n",
    "display(StressVector)\n",
    "\n",
    "EvaluateEqulibrium3d(StressVector,xa,ya,za, ExpectedXresidual = 0,ExpectedYresidual = 0,ExpectedZresidual = 0)\n",
    "print('Equilibrium of the stress elemet is not satisfied. There is a residual that is a result of the approximation of the stress field.')"
   ]
  },
  {
   "cell_type": "code",
   "execution_count": 9,
   "metadata": {},
   "outputs": [
    {
     "name": "stdout",
     "output_type": "stream",
     "text": [
      "Q2.3\n",
      "Displacement over the whole lenght L: u(x):\n"
     ]
    },
    {
     "data": {
      "image/png": "[encoded data removed]",
      "text/plain": [
       "<Figure size 432x288 with 1 Axes>"
      ]
     },
     "metadata": {
      "needs_background": "light"
     },
     "output_type": "display_data"
    },
    {
     "name": "stdout",
     "output_type": "stream",
     "text": [
      "Displacement should be parabolic starting from x=0 and needs a decreasing gradient along the lenght of the bar as the area is increasing. : u=0.The plot satisfies the boundary conditions\n"
     ]
    }
   ],
   "source": [
    "print('Q2.3')\n",
    "print('Displacement over the whole lenght L: u(x):')\n",
    "sp.plotting.plot(u,(xa,0,1),title='u(x)')\n",
    "print('Displacement should be parabolic starting from x=0 and needs a decreasing gradient along the lenght of the bar as the area is increasing. : u=0.The plot satisfies the boundary conditions')"
   ]
  },
  {
   "cell_type": "code",
   "execution_count": 10,
   "metadata": {},
   "outputs": [
    {
     "name": "stdout",
     "output_type": "stream",
     "text": [
      "Q2.4\n",
      "Assume a square bar: with dimentions that give A=0.0002m^2\n",
      "Note magnification is at 5000X:\n",
      "The black dots reperesent the undeformed structure\n",
      "The blue dots reperesent the deformed structure at 5000X magnification\n"
     ]
    },
    {
     "data": {
      "image/png": "[encoded data removed]",
      "text/plain": [
       "<Figure size 432x288 with 1 Axes>"
      ]
     },
     "metadata": {
      "needs_background": "light"
     },
     "output_type": "display_data"
    }
   ],
   "source": [
    "print('Q2.4')\n",
    "print('Assume a square bar: with dimentions that give A=0.0002m^2')\n",
    "import matplotlib.pyplot as plt\n",
    "from mpl_toolkits import mplot3d\n",
    "\n",
    "g = (0.0002*0.5)/2\n",
    "\n",
    "\n",
    "i = np.linspace(0,1,5)\n",
    "j = np.linspace(-g,g,1)\n",
    "k = np.linspace(-g,g,1)\n",
    "\n",
    "I,J,K = np.meshgrid(i,j,k)\n",
    "\n",
    "\n",
    "\n",
    "def displacementPoints(I):\n",
    "    a = []\n",
    "    for i in I:\n",
    "        a.append(u.subs({'x':i[0]}))\n",
    "    return a\n",
    "\n",
    "\n",
    "Ip = displacementPoints(I)\n",
    "\n",
    "\n",
    "fig = plt.figure()\n",
    "ax = plt.axes(projection='3d')\n",
    "\n",
    "\n",
    "for idx,i in enumerate(I):\n",
    "    for jdx,j in enumerate(i):\n",
    "        for kdx,k in enumerate(j):\n",
    "            ax.scatter(I[idx,jdx,kdx], J[idx,jdx,kdx], K[idx,jdx,kdx], color='black')\n",
    "\n",
    "for idx,i in enumerate(I):\n",
    "    for jdx,j in enumerate(i):\n",
    "        for kdx,k in enumerate(j):\n",
    "            ax.scatter(I[idx,jdx,kdx] + 5000*u.subs({'x':I[idx,jdx,kdx]}), J[idx,jdx,kdx], K[idx,jdx,kdx], color='blue')\n",
    "\n",
    "print('Note magnification is at 5000X:')\n",
    "print('The black dots reperesent the undeformed structure')\n",
    "print('The blue dots reperesent the deformed structure at 5000X magnification')\n",
    "            \n",
    "ax.set_xlabel('X - Lenght of bar')\n",
    "ax.set_ylabel('Y Label')\n",
    "ax.set_zlabel('Z Label')\n",
    "\n",
    "plt.show()"
   ]
  },
  {
   "cell_type": "code",
   "execution_count": 11,
   "metadata": {},
   "outputs": [
    {
     "name": "stdout",
     "output_type": "stream",
     "text": [
      "Q2.5\n",
      "Stress over the whole lenght L: sigma_xx(x):\n"
     ]
    },
    {
     "data": {
      "text/latex": [
       "$\\displaystyle 9230769.23076922 - 4615384.61538461 x$"
      ],
      "text/plain": [
       "9230769.23076922 - 4615384.61538461*x"
      ]
     },
     "metadata": {},
     "output_type": "display_data"
    },
    {
     "data": {
      "image/png": "[encoded data removed]",
      "text/plain": [
       "<Figure size 432x288 with 1 Axes>"
      ]
     },
     "metadata": {
      "needs_background": "light"
     },
     "output_type": "display_data"
    },
    {
     "name": "stdout",
     "output_type": "stream",
     "text": [
      "Stress should be linear thourghout the bar. maximum stress should be at x=0 and minimum at x=1\n",
      "Blue line(Calculated FEM stress) Is a linear approximation of the stress field that should be parabolic and is plotted in orange.\n"
     ]
    }
   ],
   "source": [
    "print('Q2.5')\n",
    "print('Stress over the whole lenght L: sigma_xx(x):')\n",
    "\n",
    "display(StressVector[0])\n",
    "\n",
    "def StressAtPoint(xn):\n",
    "    a = []\n",
    "    for i in xn:\n",
    "        a.append((StressVector[0].subs({'x':i})))\n",
    "    return a\n",
    "\n",
    "def TraditionalStress(xn):\n",
    "    a = []\n",
    "    for i in xn:\n",
    "        a.append(1000/(A.subs({'xi':XtoXi(i)})))\n",
    "    return a\n",
    "\n",
    "xn = np.linspace(0,1,100)\n",
    "\n",
    "\n",
    "\n",
    "\n",
    "plt.plot(xn,StressAtPoint(xn))\n",
    "plt.plot(xn,TraditionalStress(xn))\n",
    "plt.title('Internal FEA stress compaired to predicted internal stress.')\n",
    "plt.show()\n",
    "print('Stress should be linear thourghout the bar. maximum stress should be at x=0 and minimum at x=1')\n",
    "print('Blue line(Calculated FEM stress) Is a linear approximation of the stress field that should be parabolic and is plotted in orange.')\n"
   ]
  },
  {
   "cell_type": "code",
   "execution_count": 12,
   "metadata": {},
   "outputs": [
    {
     "name": "stdout",
     "output_type": "stream",
     "text": [
      "Q2.6\n"
     ]
    },
    {
     "data": {
      "image/png": "[encoded data removed]",
      "text/plain": [
       "<Figure size 432x288 with 1 Axes>"
      ]
     },
     "metadata": {
      "needs_background": "light"
     },
     "output_type": "display_data"
    },
    {
     "name": "stdout",
     "output_type": "stream",
     "text": [
      "As seen from the graph of the internal force. Internal force varies parabolicaly. Is is an approximation of the actual internal force of f=1000N.\n"
     ]
    }
   ],
   "source": [
    "print('Q2.6')\n",
    "\n",
    "def AreaAtX(xn):\n",
    "    a = []\n",
    "    for i in xn:\n",
    "        a.append((A.subs({'xi':XtoXi(i)})))\n",
    "    return a\n",
    "\n",
    "plt.plot(xn,np.multiply(StressAtPoint(xn),AreaAtX(xn)))\n",
    "plt.title('Internal Force')\n",
    "plt.show()\n",
    "print('As seen from the graph of the internal force. Internal force varies parabolicaly. Is is an approximation of the actual internal force of f=1000N.')"
   ]
  },
  {
   "cell_type": "markdown",
   "metadata": {},
   "source": [
    "# Question 3 [20]\n",
    "## Compare the finite element solution in Question 2 to the solution of obtained in the previous tutorial.\n",
    "## Highlight similarities and differences between the solutions."
   ]
  },
  {
   "cell_type": "code",
   "execution_count": 13,
   "metadata": {},
   "outputs": [
    {
     "data": {
      "text/plain": [
       "\"\\nThe bar from the previous tutorial differs only in that it is half the lenght of this problem.\\nThe force is 10 times greater applied at the end.\\n\\nAnd the similarities are that the:\\nThe area function is the same which means that they have the same area at each x.\\nThey have the same Young's modulus.\\n\\nDisplacements:\\nThe displacements are in the region of 1/5th of the previous problem. Which makes sense as the the previous problem has 10 times the applied force.\\nBut half the lenght.\\n\\nStresses:\\nThe stress profile starts at the 1/10th the value of the previous problem at x=0 (makes sense as area is the same but the force is 10 times more)\\nThe stress decrease more in the current problem as the relative area is bigger at x=L.\\n\\nInternal forces:\\nAdditionalsy the internal force has the same profile along the lenght of the bar just at different magnitudes.\\nThis shows that the problems used the same approximations stratagies each time.\\n\\n\""
      ]
     },
     "execution_count": 13,
     "metadata": {},
     "output_type": "execute_result"
    }
   ],
   "source": [
    "'''\n",
    "The bar from the previous tutorial differs only in that it is half the lenght of this problem.\n",
    "The force is 10 times greater applied at the end.\n",
    "\n",
    "And the similarities are that the:\n",
    "The area function is the same which means that they have the same area at each x.\n",
    "They have the same Young's modulus.\n",
    "\n",
    "Displacements:\n",
    "The displacements are in the region of 1/5th of the previous problem. Which makes sense as the the previous problem has 10 times the applied force.\n",
    "But half the lenght.\n",
    "\n",
    "Stresses:\n",
    "The stress profile starts at the 1/10th the value of the previous problem at x=0 (makes sense as area is the same but the force is 10 times more)\n",
    "The stress decrease more in the current problem as the relative area is bigger at x=L.\n",
    "\n",
    "Internal forces:\n",
    "Additionalsy the internal force has the same profile along the lenght of the bar just at different magnitudes.\n",
    "This shows that the problems used the same approximations stratagies each time.\n",
    "\n",
    "'''"
   ]
  }
 ],
 "metadata": {
  "anaconda-cloud": {},
  "kernelspec": {
   "display_name": "Python 3 (ipykernel)",
   "language": "python",
   "name": "python3"
  },
  "language_info": {
   "codemirror_mode": {
    "name": "ipython",
    "version": 3
   },
   "file_extension": ".py",
   "mimetype": "text/x-python",
   "name": "python",
   "nbconvert_exporter": "python",
   "pygments_lexer": "ipython3",
   "version": "3.9.6"
  }
 },
 "nbformat": 4,
 "nbformat_minor": 1
}
