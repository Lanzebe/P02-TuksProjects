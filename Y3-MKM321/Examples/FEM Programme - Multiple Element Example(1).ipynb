{
 "cells": [
  {
   "cell_type": "markdown",
   "metadata": {},
   "source": []
  },
  {
   "cell_type": "markdown",
   "metadata": {},
   "source": [
    "# What does it take to write a systematic finite element program?\n",
    "# Break everthing we know about the problem down to a function!\n",
    "--------------------\n",
    "## Lets write a FEM program that solve the following problem\n",
    "## Consider a bar that is clamped at $x=0$ and loaded by a force $F=1000$ N (in the positive x-direction) at the right edge $x=1.0$.\n",
    "## The area of the bar changes with $x$ and is given by $A(x) = 0.0002 - 0.0001x\\;m^2$.\n",
    "## The bar has a Young's modulus of $E=210$ GPa.\n",
    "\n",
    "### Construct a function that returns the Constitutive relationship of the 1D problem. The Youngs modulus of the Bar is 210 GPa"
   ]
  },
  {
   "cell_type": "code",
   "execution_count": 21,
   "metadata": {
    "nbgrader": {
     "grade": false,
     "grade_id": "cell-2edccca31363a631",
     "locked": false,
     "schema_version": 1,
     "solution": true
    }
   },
   "outputs": [],
   "source": [
    "import numpy as np\n",
    "\n",
    "def C(xi,local_coords):\n",
    "    C_val = 210e9\n",
    "    return C_val"
   ]
  },
  {
   "cell_type": "markdown",
   "metadata": {},
   "source": [
    "### Determine functions that return the shape function values for a given value of $\\xi$"
   ]
  },
  {
   "cell_type": "code",
   "execution_count": 22,
   "metadata": {
    "nbgrader": {
     "grade": false,
     "grade_id": "cell-33d2b4652762ba68",
     "locked": false,
     "schema_version": 1,
     "solution": true
    }
   },
   "outputs": [],
   "source": [
    "def N1(xi):\n",
    "    N_1 = -0.5*xi*(1-xi)\n",
    "    return N_1\n",
    "\n",
    "def N2(xi):\n",
    "    N_2 = 0.5*xi*(1+xi)\n",
    "    return N_2\n",
    "\n",
    "def N3(xi):\n",
    "    N_3 = (1-xi)*(1+xi)\n",
    "    return N_3\n"
   ]
  },
  {
   "cell_type": "code",
   "execution_count": 23,
   "metadata": {
    "nbgrader": {
     "grade": true,
     "grade_id": "cell-a652725727531a04",
     "locked": true,
     "points": 0,
     "schema_version": 1,
     "solution": false
    }
   },
   "outputs": [],
   "source": [
    "def N1(xi):\n",
    "    N_1 = -0.5*xi*(1-xi)\n",
    "    return N_1\n",
    "\n",
    "def N2(xi):\n",
    "    N_2 = 0.5*xi*(1+xi)\n",
    "    return N_2\n",
    "\n",
    "def N3(xi):\n",
    "    N_3 = (1-xi)*(1+xi)\n",
    "    return N_3"
   ]
  },
  {
   "cell_type": "markdown",
   "metadata": {},
   "source": [
    "### Construct functions that return the values of the derivatives of the shape functions as a function of $\\xi$.\n"
   ]
  },
  {
   "cell_type": "code",
   "execution_count": 24,
   "metadata": {},
   "outputs": [],
   "source": [
    "def dN1(xi):\n",
    "    dN_1 = xi-0.5\n",
    "    return dN_1\n",
    "\n",
    "def dN2(xi):\n",
    "    dN_2 = xi + 0.5\n",
    "    return dN_2\n",
    "\n",
    "def dN3(xi):\n",
    "    dN_3 = -2*xi\n",
    "    return dN_3"
   ]
  },
  {
   "cell_type": "markdown",
   "metadata": {},
   "source": [
    "### Construct a function that returns the mapping between x and $\\xi$, which takes $\\xi$ and the local coordinates of the nodes as inputs."
   ]
  },
  {
   "cell_type": "code",
   "execution_count": 25,
   "metadata": {
    "nbgrader": {
     "grade": false,
     "grade_id": "cell-592a23473d93c8be",
     "locked": false,
     "schema_version": 1,
     "solution": true
    }
   },
   "outputs": [],
   "source": [
    "def x(xi,loc_coords):\n",
    "    x_xi = N1(xi)*loc_coords[0,0] + N2(xi)*loc_coords[0,1] + N3(xi)*loc_coords[0,2]\n",
    "    return x_xi "
   ]
  },
  {
   "cell_type": "markdown",
   "metadata": {},
   "source": [
    "### Construct a function that returns the local displacement field as a function of $\\xi$ and the local nodal displacements."
   ]
  },
  {
   "cell_type": "code",
   "execution_count": 26,
   "metadata": {},
   "outputs": [],
   "source": [
    "def u(xi,q):\n",
    "    u_xi = N1(xi)*q[0,0] + N2(xi)*q[0,1] + N3(xi)*q[0,2]\n",
    "    return u_xi "
   ]
  },
  {
   "cell_type": "markdown",
   "metadata": {},
   "source": [
    "### Setup the derivative of shape functions vector as a function of $\\xi$."
   ]
  },
  {
   "cell_type": "code",
   "execution_count": 27,
   "metadata": {},
   "outputs": [],
   "source": [
    "def dN(z):\n",
    "    dN_vec = np.array([[dN1(z),dN2(z),dN3(z)]])\n",
    "    return dN_vec"
   ]
  },
  {
   "cell_type": "markdown",
   "metadata": {},
   "source": [
    "### Setup dxdz function"
   ]
  },
  {
   "cell_type": "code",
   "execution_count": 50,
   "metadata": {},
   "outputs": [],
   "source": [
    "def dxdxi(xi,local_coords):\n",
    "    dxdz_val = np.dot(dN(xi),local_coords.T)\n",
    "    return dxdz_val"
   ]
  },
  {
   "cell_type": "markdown",
   "metadata": {},
   "source": [
    "### Setup B vector"
   ]
  },
  {
   "cell_type": "code",
   "execution_count": 51,
   "metadata": {
    "nbgrader": {
     "grade": false,
     "grade_id": "cell-e7c1514d9cb4901b",
     "locked": false,
     "schema_version": 1,
     "solution": true
    }
   },
   "outputs": [],
   "source": [
    "def B(xi,local_coords):\n",
    "    B_vec = 1/dxdxi(xi,local_coords)*dN(xi)\n",
    "    return B_vec"
   ]
  },
  {
   "cell_type": "markdown",
   "metadata": {},
   "source": [
    "### Define the area in local coordinates"
   ]
  },
  {
   "cell_type": "code",
   "execution_count": 52,
   "metadata": {
    "nbgrader": {
     "grade": false,
     "grade_id": "cell-cc0be8bfa497524e",
     "locked": false,
     "schema_version": 1,
     "solution": true
    }
   },
   "outputs": [],
   "source": [
    "def A(xi,local_coords):\n",
    "    A_val = 0.0002 - 0.0001*x(xi,local_coords)\n",
    "    return A_val"
   ]
  },
  {
   "cell_type": "markdown",
   "metadata": {},
   "source": [
    "### Contstruct a function that returns the term to be integrated in the $\\xi$ domain, for the stiffness matrix K, use $E = 210\\cdot 10^9$. The inputs to the function are the $\\xi$ values and the local node coordinates.\n"
   ]
  },
  {
   "cell_type": "code",
   "execution_count": 53,
   "metadata": {
    "nbgrader": {
     "grade": false,
     "grade_id": "cell-8b3dcabb7cd28b88",
     "locked": false,
     "schema_version": 1,
     "solution": true
    }
   },
   "outputs": [],
   "source": [
    "import numpy as np\n",
    "import sympy as sp\n",
    "\n",
    "def K_term(xi,local_coords):\n",
    "    term = B(xi,local_coords)*C(xi,local_coords)*B(xi,local_coords).T*A(xi,local_coords)*dxdxi(xi,local_coords)\n",
    "    return term"
   ]
  },
  {
   "cell_type": "markdown",
   "metadata": {},
   "source": [
    "### Construct a function that calls the term function and itegrates it using an appropriate gauss quadrature rule to create the local stiffness matrix. Inputs are the local node coordinates.\n",
    "\n"
   ]
  },
  {
   "cell_type": "code",
   "execution_count": 54,
   "metadata": {
    "nbgrader": {
     "grade": false,
     "grade_id": "cell-35ba8e81cde1d791",
     "locked": false,
     "schema_version": 1,
     "solution": true
    }
   },
   "outputs": [],
   "source": [
    "import numpy as np\n",
    "import sympy as sp\n",
    "\n",
    "values = np.array([[0,0,0,0,0],[-1/np.sqrt(3),1/np.sqrt(3),0,0,0],[-3409/4401,0,3409/4401,0,0],\n",
    "                  [-4744/5509,-8609/25322,8609/25322,4744/5509,0],\n",
    "                  [-7669/8463,-5333/9904,0,5333/9904,7669/8463]])\n",
    "weights = np.array([[2,0,0,0,0],[1,1,0,0,0],[5/9,8/9,5/9,0,0],\n",
    "                   [3681/10582,6901/10582,6901/10582,3681/10582,0],\n",
    "                   [956/4035,1075/2246,128/225,1075/2246,956/4035]])\n",
    "\n",
    "\n",
    "def K_local_func(local_node_coordinates):\n",
    "    sum_t = np.zeros((3,3))\n",
    "    gaussian_quadrature_pts = 3\n",
    "    g_ind = gaussian_quadrature_pts - 1\n",
    "\n",
    "    for i in range(gaussian_quadrature_pts):\n",
    "        sum_t = sum_t + weights[g_ind,i]*K_term(values[g_ind,i],local_node_coordinates)\n",
    "        \n",
    "    K_local = sum_t\n",
    "    return K_local"
   ]
  },
  {
   "cell_type": "markdown",
   "metadata": {},
   "source": [
    "### Construct a function which accepts a global as well as local stiffness matrix of a given size and assembles the local stiffness matrix into the global stiffness matrix at the corresponding global coordinates. The function then returns the newly assembled global stiffness matrix."
   ]
  },
  {
   "cell_type": "code",
   "execution_count": 55,
   "metadata": {
    "nbgrader": {
     "grade": false,
     "grade_id": "cell-ec37b76ca5f4efd0",
     "locked": false,
     "schema_version": 1,
     "solution": true
    }
   },
   "outputs": [],
   "source": [
    "def K_assemble(K_global,K_local,local_inds,element_no):\n",
    "    for j in range(3):\n",
    "            j_global = element_no*2 + j\n",
    "            for k in range(3):\n",
    "                k_global = element_no*2 + k\n",
    "                K_global[j_global,k_global] = K_global[j_global,k_global] + K_local[local_inds[j],local_inds[k]]\n",
    "    \n",
    "    return K_global"
   ]
  },
  {
   "cell_type": "markdown",
   "metadata": {},
   "source": [
    "### Construct a function that given the global nodal coordinates, loops throught the number of elements, calls the local K function for each element and uses the assembly function to construct the global stiffness matrix. Remember to accomodate the local coordinate notation convention."
   ]
  },
  {
   "cell_type": "code",
   "execution_count": 56,
   "metadata": {},
   "outputs": [],
   "source": [
    "import numpy as np\n",
    "import sympy as sp\n",
    "\n",
    "def K_global_func(no_elements,global_node_coordinates):\n",
    "    \n",
    "    no_nodes = np.max(np.shape(global_node_coordinates))\n",
    "    \n",
    "    K_global = np.zeros((no_nodes,no_nodes))\n",
    "    local_inds = np.array([0,2,1])\n",
    "    \n",
    "    for e in range(no_elements):\n",
    "        coords = global_node_coordinates[e*2:e*2+3]\n",
    "        local_node_coordinates = np.array([coords[local_inds]])        \n",
    "        K_local = K_local_func(local_node_coordinates)\n",
    "        K_global = K_assemble(K_global,K_local,local_inds,e)\n",
    "                \n",
    "    return K_global\n",
    "                "
   ]
  },
  {
   "cell_type": "markdown",
   "metadata": {},
   "source": [
    "### Construct a function that defines the boundary conditions and solves for the displacements. The inputs are the number of elements and the global nodal coordinates. Call the function to construct the global stiffness matrix K and separate it into the free, prescribed and combined components. Solve for the free degrees of freedom and assemble the global displacement vector."
   ]
  },
  {
   "cell_type": "code",
   "execution_count": 57,
   "metadata": {
    "nbgrader": {
     "grade": false,
     "grade_id": "cell-24449da26aa54365",
     "locked": false,
     "schema_version": 1,
     "solution": true
    }
   },
   "outputs": [],
   "source": [
    "import numpy as np\n",
    "import sympy as sp\n",
    "\n",
    "def problem_def_solveU(no_elements,global_node_coordinates):\n",
    "    F = 1000\n",
    "    \n",
    "    # loadings info\n",
    "    A_end = 0.0002 - 0.0001*global_node_coordinates[-1]\n",
    "    t1 = F/(A_end)\n",
    "\n",
    "    no_nodes = np.max(np.shape(global_node_coordinates))\n",
    "   #pts = gaussian_quadrature_pts - 1\n",
    "    \n",
    "    K_global = K_global_func(no_elements,global_node_coordinates)\n",
    "    \n",
    "    F_global = np.zeros((no_nodes,1))\n",
    "    U_global = np.zeros((no_nodes,1))\n",
    "    \n",
    "    U_global[0] = 0\n",
    "    F_global[no_nodes-1] = t1*A_end\n",
    "    \n",
    "    Kpp = K_global[0,0]\n",
    "    Kfp = K_global[0,1:no_nodes]\n",
    "    Kff = K_global[1:no_nodes,1:no_nodes]\n",
    "\n",
    "    Fp = F_global[1:no_nodes,0] - Kfp*U_global[1:no_nodes,0]\n",
    "\n",
    "    Uf = np.linalg.solve(Kff,Fp)\n",
    "    U_global[1:no_nodes,0] = Uf[:]\n",
    "    return U_global"
   ]
  },
  {
   "cell_type": "markdown",
   "metadata": {},
   "source": [
    "### Construct a function which takes as inputs the field resolution per element, the local coordinates and the local nodal displacements and calculates the elements strain, stress, and displacement fields with their respective field coordinates in x."
   ]
  },
  {
   "cell_type": "code",
   "execution_count": 58,
   "metadata": {},
   "outputs": [],
   "source": [
    "def element_fields(res_per_element,local_coords,q):\n",
    "    \n",
    "    el_epsilon_field = np.zeros((res_per_element,1))\n",
    "    el_sigma_field = np.zeros((res_per_element,1))\n",
    "    el_disp_field = np.zeros((res_per_element,1))\n",
    "    el_field_coords = np.zeros((res_per_element,1))\n",
    "    \n",
    "    xis = np.linspace(-1,1,res_per_element)\n",
    "    for pt in range(res_per_element):\n",
    "        xi = xis[pt]\n",
    "        el_eps = np.dot(B(xi,local_coords),q.T)\n",
    "        el_epsilon_field[pt,0] = el_eps\n",
    "        el_sigma_field[pt,0] = el_eps*C(xi,local_coords)\n",
    "        el_disp_field[pt,0] = u(xi,q)\n",
    "        el_field_coords[pt,0] = x(xi,local_coords)\n",
    "        \n",
    "    return el_epsilon_field, el_sigma_field, el_disp_field, el_field_coords\n"
   ]
  },
  {
   "cell_type": "markdown",
   "metadata": {},
   "source": [
    "### Construct a function which takes the solved displacements, the nodal coordinates, the number of elements and a prescribed resolution per element, calls the element fields function and assembles the displacement, strain and stress fields with their own respective coordinates in over the whole domain of the structure."
   ]
  },
  {
   "cell_type": "code",
   "execution_count": 59,
   "metadata": {
    "nbgrader": {
     "grade": false,
     "grade_id": "cell-47287392844db5a8",
     "locked": false,
     "schema_version": 1,
     "solution": true
    }
   },
   "outputs": [],
   "source": [
    "# Post-processing parameters\n",
    "#magnification = 1e3\n",
    "\n",
    "def global_fields(U_global,res_per_element,no_elements,global_node_coordinates):\n",
    "    \n",
    "    epsilon_field = np.zeros((no_elements*res_per_element,1))\n",
    "    sigma_field = np.zeros((no_elements*res_per_element,1))\n",
    "    disp_field = np.zeros((no_elements*res_per_element,1))\n",
    "    field_coords = np.zeros((no_elements*res_per_element,1))\n",
    "    \n",
    "    for e in range(no_elements):\n",
    "        \n",
    "        local_inds = np.array([0,2,1])\n",
    "        coords = global_node_coordinates[e*2:e*2+3]\n",
    "        local_coords = np.array([coords[local_inds]])\n",
    "        \n",
    "        q_st = np.array([U_global[e*2:e*2+3,0]])\n",
    "        q = np.array([q_st[0,local_inds]])\n",
    "        el_epsilon_field, el_sigma_field, el_disp_field, el_field_coords = element_fields(res_per_element,local_coords,q)\n",
    "        \n",
    "        epsilon_field[e*res_per_element:(e+1)*res_per_element,0] = el_epsilon_field[:,0]\n",
    "        sigma_field[e*res_per_element:(e+1)*res_per_element,0] = el_sigma_field[:,0]\n",
    "        disp_field[e*res_per_element:(e+1)*res_per_element,0] = el_disp_field[:,0]\n",
    "        field_coords[e*res_per_element:(e+1)*res_per_element,0] = el_field_coords[:,0]\n",
    "    \n",
    "    return disp_field, epsilon_field, sigma_field, field_coords"
   ]
  },
  {
   "cell_type": "markdown",
   "metadata": {
    "nbgrader": {
     "grade": false,
     "grade_id": "cell-7258f1fdb5f6eb0a",
     "locked": false,
     "schema_version": 1,
     "solution": true
    }
   },
   "source": [
    "### Construct a function which calls up the given FEM problem in its entirety, taking only the number of elements prescribed as an input and returning: The global nodal coordinates as well as their deformed coordinates, the global nodal displacements, the displacement field, the strain field and the stress field."
   ]
  },
  {
   "cell_type": "code",
   "execution_count": 73,
   "metadata": {
    "nbgrader": {
     "grade": false,
     "grade_id": "cell-ab55cdb8fda9a208",
     "locked": false,
     "schema_version": 1,
     "solution": true
    }
   },
   "outputs": [
    {
     "data": {
      "image/png": "[encoded data removed]",
      "text/plain": [
       "<Figure size 432x288 with 1 Axes>"
      ]
     },
     "metadata": {
      "needs_background": "light"
     },
     "output_type": "display_data"
    },
    {
     "data": {
      "image/png": "[encoded data removed]",
      "text/plain": [
       "<Figure size 432x288 with 1 Axes>"
      ]
     },
     "metadata": {
      "needs_background": "light"
     },
     "output_type": "display_data"
    },
    {
     "data": {
      "image/png": "[encoded data removed]",
      "text/plain": [
       "<Figure size 432x288 with 1 Axes>"
      ]
     },
     "metadata": {
      "needs_background": "light"
     },
     "output_type": "display_data"
    },
    {
     "data": {
      "image/png": "[encoded data removed]",
      "text/plain": [
       "<Figure size 432x288 with 1 Axes>"
      ]
     },
     "metadata": {
      "needs_background": "light"
     },
     "output_type": "display_data"
    },
    {
     "name": "stderr",
     "output_type": "stream",
     "text": [
      "C:\\Users\\User\\Anaconda3\\lib\\site-packages\\IPython\\core\\pylabtools.py:128: UserWarning: Creating legend with loc=\"best\" can be slow with large amounts of data.\n",
      "  fig.canvas.print_figure(bytes_io, **kw)\n"
     ]
    },
    {
     "data": {
      "image/png": "[encoded data removed]",
      "text/plain": [
       "<Figure size 432x288 with 1 Axes>"
      ]
     },
     "metadata": {
      "needs_background": "light"
     },
     "output_type": "display_data"
    },
    {
     "data": {
      "image/png": "[encoded data removed]",
      "text/plain": [
       "<Figure size 432x288 with 1 Axes>"
      ]
     },
     "metadata": {
      "needs_background": "light"
     },
     "output_type": "display_data"
    }
   ],
   "source": [
    "import numpy as np\n",
    "import sympy as sp\n",
    "import matplotlib.pyplot as plt\n",
    "\n",
    "def FEM_problem(no_elements):\n",
    "    res_per_element = 101 # resolution of points sampled in the xi domain for the field of each element\n",
    "    magnification_factor = 1e3 # magnification factor to be used with the nodal displacements for visualization\n",
    "    \n",
    "    x_length = 1.0\n",
    "    no_nodes = no_elements*2 + 1\n",
    "    global_node_coordinates = np.linspace(0,x_length,no_nodes)\n",
    "\n",
    "    U_global = problem_def_solveU(no_elements,global_node_coordinates)\n",
    "    disp_field, epsilon_field, sigma_field, field_coords = global_fields(U_global,res_per_element,no_elements,global_node_coordinates)\n",
    "    \n",
    "    gnc_def = global_node_coordinates + magnification_factor*U_global.T\n",
    "    \n",
    "    return global_node_coordinates, gnc_def, U_global, disp_field, epsilon_field, sigma_field, field_coords\n",
    "\n",
    "# Select the number of elements: 1, 2, 4, 8, 16 \n",
    "no_elements = 1000\n",
    "\n",
    "global_node_coordinates, gnc_def, U_global, disp_field, epsilon_field, sigma_field, field_coords = FEM_problem(no_elements)\n",
    "no_nodes = np.max(np.shape(global_node_coordinates))\n",
    "ys = np.zeros((no_nodes,1))\n",
    "    \n",
    "plt.figure(1)\n",
    "plt.plot(global_node_coordinates,ys,'bo',label='Undeformed')\n",
    "plt.plot(gnc_def.T,ys,'ro',label='Deformed')\n",
    "plt.xlabel(\"$x_1$ dimension\")\n",
    "plt.ylabel(\"$x_2$ dimension\")\n",
    "plt.legend()\n",
    "\n",
    "plt.figure(2)\n",
    "plt.plot(global_node_coordinates,U_global,'o')\n",
    "plt.xlabel(\"$x_1$ dimension\")\n",
    "plt.ylabel(\"Nodal displacements U\")\n",
    "\n",
    "plt.figure(3)\n",
    "plt.plot(field_coords,disp_field,'k.')\n",
    "plt.xlabel(\"$x_1$ dimension\")\n",
    "plt.ylabel(\"Displacement field\")\n",
    "\n",
    "plt.figure(4)\n",
    "plt.plot(field_coords,epsilon_field,'k.')\n",
    "plt.xlabel(\"$x_1$ dimension\")\n",
    "plt.ylabel(\"Strain field\")\n",
    "\n",
    "plt.figure(5)\n",
    "plt.plot(field_coords,sigma_field,'k.',label='approx',markersize=1)\n",
    "plt.plot(field_coords,1000/(0.0002-field_coords*0.0001),label='expect')\n",
    "plt.legend()\n",
    "plt.xlabel(\"$x_1$ dimension\")\n",
    "plt.ylabel(\"Stress field\")\n",
    "\n",
    "plt.figure(6)\n",
    "plt.plot(field_coords,sigma_field*(0.0002-field_coords*0.0001),'k.')\n",
    "plt.xlabel(\"$x_1$ dimension\")\n",
    "plt.ylabel(\"Internal force field\")\n",
    "plt.show()"
   ]
  },
  {
   "cell_type": "markdown",
   "metadata": {},
   "source": [
    "# Why are there commercial packages if I can write my own FEM programme?"
   ]
  },
  {
   "cell_type": "code",
   "execution_count": 35,
   "metadata": {},
   "outputs": [
    {
     "data": {
      "text/html": [
       "<img src=\"https://www.finiteelementanalysis.com.au/wp-content/uploads/2014/10/Pic_17.jpg\"/>"
      ],
      "text/plain": [
       "<IPython.core.display.Image object>"
      ]
     },
     "execution_count": 35,
     "metadata": {},
     "output_type": "execute_result"
    }
   ],
   "source": [
    "from IPython.display import Image\n",
    "from IPython.core.display import HTML \n",
    "Image(url= \"https://www.finiteelementanalysis.com.au/wp-content/uploads/2014/10/Pic_15.jpg\")        "
   ]
  },
  {
   "cell_type": "code",
   "execution_count": 36,
   "metadata": {},
   "outputs": [
    {
     "data": {
      "text/html": [
       "<img src=\"https://www.finiteelementanalysis.com.au/wp-content/uploads/2014/10/Pic_17.jpg\"/>"
      ],
      "text/plain": [
       "<IPython.core.display.Image object>"
      ]
     },
     "execution_count": 36,
     "metadata": {},
     "output_type": "execute_result"
    }
   ],
   "source": [
    "Image(url= \"https://www.finiteelementanalysis.com.au/wp-content/uploads/2014/10/Pic_17.jpg\")"
   ]
  },
  {
   "cell_type": "code",
   "execution_count": 37,
   "metadata": {},
   "outputs": [
    {
     "data": {
      "text/html": [
       "<img src=\"https://www.finiteelementanalysis.com.au/wp-content/uploads/2014/10/Pic_16.jpg\"/>"
      ],
      "text/plain": [
       "<IPython.core.display.Image object>"
      ]
     },
     "execution_count": 37,
     "metadata": {},
     "output_type": "execute_result"
    }
   ],
   "source": [
    "Image(url= \"https://www.finiteelementanalysis.com.au/wp-content/uploads/2014/10/Pic_16.jpg\")"
   ]
  },
  {
   "cell_type": "markdown",
   "metadata": {},
   "source": [
    "## Verification and Validation V&V (NAFEMS)\n",
    "## What is V&V? Download and Read the Following\n",
    "## https://www.nafems.org/downloads/North_America/what_is_v_and_v_dec_09/nafems_vv_webinar_december_09_final.pdf\n",
    "# NAFEMS International Association Engineering Modelling\n",
    "## https://www.nafems.org/\n"
   ]
  },
  {
   "cell_type": "code",
   "execution_count": null,
   "metadata": {},
   "outputs": [],
   "source": []
  }
 ],
 "metadata": {
  "anaconda-cloud": {},
  "celltoolbar": "Create Assignment",
  "kernelspec": {
   "display_name": "Python 3 (ipykernel)",
   "language": "python",
   "name": "python3"
  },
  "language_info": {
   "codemirror_mode": {
    "name": "ipython",
    "version": 3
   },
   "file_extension": ".py",
   "mimetype": "text/x-python",
   "name": "python",
   "nbconvert_exporter": "python",
   "pygments_lexer": "ipython3",
   "version": "3.9.6"
  }
 },
 "nbformat": 4,
 "nbformat_minor": 2
}
