{
 "cells": [
  {
   "cell_type": "code",
   "execution_count": 1,
   "metadata": {},
   "outputs": [],
   "source": [
    "import sympy as sp"
   ]
  },
  {
   "cell_type": "code",
   "execution_count": 17,
   "metadata": {},
   "outputs": [
    {
     "data": {
      "text/latex": [
       "$\\displaystyle \\operatorname{atan}{\\left(\\frac{- y_{1} + y_{2}}{- x_{1} + x_{2}} \\right)}$"
      ],
      "text/plain": [
       "atan((-y1 + y2)/(-x1 + x2))"
      ]
     },
     "metadata": {},
     "output_type": "display_data"
    },
    {
     "name": "stdout",
     "output_type": "stream",
     "text": [
      "###############\n",
      "(-x1 + x2)/((x1 - x2)**2 + (y1 - y2)**2)\n"
     ]
    },
    {
     "data": {
      "text/latex": [
       "$\\displaystyle \\frac{- x_{1} + x_{2}}{\\left(x_{1} - x_{2}\\right)^{2} + \\left(y_{1} - y_{2}\\right)^{2}}$"
      ],
      "text/plain": [
       "(-x1 + x2)/((x1 - x2)**2 + (y1 - y2)**2)"
      ]
     },
     "metadata": {},
     "output_type": "display_data"
    },
    {
     "name": "stdout",
     "output_type": "stream",
     "text": [
      "(y1 - y2)/((x1 - x2)**2 + (y1 - y2)**2)\n"
     ]
    },
    {
     "data": {
      "text/latex": [
       "$\\displaystyle \\frac{y_{1} - y_{2}}{\\left(x_{1} - x_{2}\\right)^{2} + \\left(y_{1} - y_{2}\\right)^{2}}$"
      ],
      "text/plain": [
       "(y1 - y2)/((x1 - x2)**2 + (y1 - y2)**2)"
      ]
     },
     "metadata": {},
     "output_type": "display_data"
    }
   ],
   "source": [
    "x2,y2,x1,y1 = sp.symbols('x2,y2,x1,y1')\n",
    "\n",
    "fun = sp.atan((y2-y1)/(x2-x1))\n",
    "\n",
    "display(fun)\n",
    "print('###############')\n",
    "\n",
    "dir1 = sp.simplify(sp.diff(fun,y2))\n",
    "dir2 = sp.simplify(sp.diff(fun,x2))\n",
    "print(dir1)\n",
    "display(dir1)\n",
    "print(dir2)\n",
    "display(dir2)"
   ]
  },
  {
   "cell_type": "code",
   "execution_count": 19,
   "metadata": {},
   "outputs": [
    {
     "data": {
      "text/latex": [
       "$\\displaystyle \\frac{- y_{1} + y_{2}}{\\left(- x_{1} + x_{2}\\right)^{2} + \\left(- y_{1} + y_{2}\\right)^{2}}$"
      ],
      "text/plain": [
       "(-y1 + y2)/((-x1 + x2)**2 + (-y1 + y2)**2)"
      ]
     },
     "metadata": {},
     "output_type": "display_data"
    },
    {
     "name": "stdout",
     "output_type": "stream",
     "text": [
      "###############\n",
      "((x1 - x2)**2 - (y1 - y2)**2)/((x1 - x2)**2 + (y1 - y2)**2)**2\n"
     ]
    },
    {
     "data": {
      "text/latex": [
       "$\\displaystyle \\frac{\\left(x_{1} - x_{2}\\right)^{2} - \\left(y_{1} - y_{2}\\right)^{2}}{\\left(\\left(x_{1} - x_{2}\\right)^{2} + \\left(y_{1} - y_{2}\\right)^{2}\\right)^{2}}$"
      ],
      "text/plain": [
       "((x1 - x2)**2 - (y1 - y2)**2)/((x1 - x2)**2 + (y1 - y2)**2)**2"
      ]
     },
     "metadata": {},
     "output_type": "display_data"
    },
    {
     "name": "stdout",
     "output_type": "stream",
     "text": [
      "-2*(x1 - x2)*(y1 - y2)/((x1 - x2)**2 + (y1 - y2)**2)**2\n"
     ]
    },
    {
     "data": {
      "text/latex": [
       "$\\displaystyle - \\frac{2 \\left(x_{1} - x_{2}\\right) \\left(y_{1} - y_{2}\\right)}{\\left(\\left(x_{1} - x_{2}\\right)^{2} + \\left(y_{1} - y_{2}\\right)^{2}\\right)^{2}}$"
      ],
      "text/plain": [
       "-2*(x1 - x2)*(y1 - y2)/((x1 - x2)**2 + (y1 - y2)**2)**2"
      ]
     },
     "metadata": {},
     "output_type": "display_data"
    }
   ],
   "source": [
    "fun2 = (y2-y1)/((x2-x1)**2+(y2-y1)**2)\n",
    "\n",
    "display(fun2)\n",
    "print('###############')\n",
    "\n",
    "dir1 = sp.simplify(sp.diff(fun2,y2))\n",
    "dir2 = sp.simplify(sp.diff(fun2,x2))\n",
    "print(dir1)\n",
    "display(dir1)\n",
    "print(dir2)\n",
    "display(dir2)"
   ]
  },
  {
   "cell_type": "code",
   "execution_count": 20,
   "metadata": {},
   "outputs": [
    {
     "data": {
      "text/latex": [
       "$\\displaystyle \\log{\\left(\\left(\\left(- x_{1} + x_{2}\\right)^{2} + \\left(- y_{1} + y_{2}\\right)^{2}\\right)^{0.5} \\right)}$"
      ],
      "text/plain": [
       "log(((-x1 + x2)**2 + (-y1 + y2)**2)**0.5)"
      ]
     },
     "metadata": {},
     "output_type": "display_data"
    },
    {
     "name": "stdout",
     "output_type": "stream",
     "text": [
      "###############\n",
      "1.0*(-y1 + y2)/((x1 - x2)**2 + (y1 - y2)**2)**1.0\n"
     ]
    },
    {
     "data": {
      "text/latex": [
       "$\\displaystyle \\frac{1.0 \\left(- y_{1} + y_{2}\\right)}{\\left(\\left(x_{1} - x_{2}\\right)^{2} + \\left(y_{1} - y_{2}\\right)^{2}\\right)^{1.0}}$"
      ],
      "text/plain": [
       "1.0*(-y1 + y2)/((x1 - x2)**2 + (y1 - y2)**2)**1.0"
      ]
     },
     "metadata": {},
     "output_type": "display_data"
    },
    {
     "name": "stdout",
     "output_type": "stream",
     "text": [
      "1.0*(-x1 + x2)/((x1 - x2)**2 + (y1 - y2)**2)**1.0\n"
     ]
    },
    {
     "data": {
      "text/latex": [
       "$\\displaystyle \\frac{1.0 \\left(- x_{1} + x_{2}\\right)}{\\left(\\left(x_{1} - x_{2}\\right)^{2} + \\left(y_{1} - y_{2}\\right)^{2}\\right)^{1.0}}$"
      ],
      "text/plain": [
       "1.0*(-x1 + x2)/((x1 - x2)**2 + (y1 - y2)**2)**1.0"
      ]
     },
     "metadata": {},
     "output_type": "display_data"
    }
   ],
   "source": [
    "fun3 = sp.ln(((x2-x1)**2 + (y2-y1)**2)**0.5)\n",
    "\n",
    "display(fun3)\n",
    "print('###############')\n",
    "\n",
    "dir1 = sp.simplify(sp.diff(fun3,y2))\n",
    "dir2 = sp.simplify(sp.diff(fun3,x2))\n",
    "print(dir1)\n",
    "display(dir1)\n",
    "print(dir2)\n",
    "display(dir2)"
   ]
  }
 ],
 "metadata": {
  "kernelspec": {
   "display_name": "Python 3.10.5 64-bit",
   "language": "python",
   "name": "python3"
  },
  "language_info": {
   "codemirror_mode": {
    "name": "ipython",
    "version": 3
   },
   "file_extension": ".py",
   "mimetype": "text/x-python",
   "name": "python",
   "nbconvert_exporter": "python",
   "pygments_lexer": "ipython3",
   "version": "3.10.5"
  },
  "orig_nbformat": 4,
  "vscode": {
   "interpreter": {
    "hash": "8f89a6284e35e05a02f78ae58e1195ef45c420fc64682672b9d4ce68be967371"
   }
  }
 },
 "nbformat": 4,
 "nbformat_minor": 2
}
